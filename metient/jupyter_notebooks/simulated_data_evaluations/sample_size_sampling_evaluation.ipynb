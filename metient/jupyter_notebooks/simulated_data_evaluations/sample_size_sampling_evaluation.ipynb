{
 "cells": [
  {
   "cell_type": "code",
   "execution_count": 1,
   "id": "4624fc1b",
   "metadata": {},
   "outputs": [
    {
     "name": "stderr",
     "output_type": "stream",
     "text": [
      "/lila/home/koyyald/mambaforge/envs/met/lib/python3.8/site-packages/torch/cuda/__init__.py:138: UserWarning: CUDA initialization: The NVIDIA driver on your system is too old (found version 11070). Please update your GPU driver by downloading and installing a new version from the URL: http://www.nvidia.com/Download/index.aspx Alternatively, go to: https://pytorch.org to install a PyTorch version that has been compiled with your version of the CUDA driver. (Triggered internally at ../c10/cuda/CUDAFunctions.cpp:108.)\n",
      "  return torch._C._cuda_getDeviceCount() > 0\n"
     ]
    },
    {
     "data": {
      "text/plain": [
       "<Figure size 640x480 with 0 Axes>"
      ]
     },
     "metadata": {},
     "output_type": "display_data"
    }
   ],
   "source": [
    "#!/usr/bin/python\n",
    "'''\n",
    "Evaluate how well solutions match when run multiple times, with varying sample size\n",
    "'''\n",
    "import sys\n",
    "import os\n",
    "import fnmatch\n",
    "import numpy as np\n",
    "from metient.util.vertex_labeling_util import LabeledTree\n",
    "from metient.util.globals import *\n",
    "from metient.util import eval_util as eutil\n",
    "\n",
    "import re\n",
    "import pickle\n",
    "\n",
    "REPO_DIR = os.path.join(os.getcwd(), \"../../\")\n",
    "\n",
    "DATE = \"multirun_07052024\"\n",
    "PARAMS = \"calibrate_wip_solvepoly\"\n",
    "\n",
    "# plotting\n",
    "import pandas as pd\n",
    "import seaborn as sns\n",
    "import matplotlib.pyplot as plt\n",
    "sns.set(font_scale=1.5)\n",
    "\n",
    "sns.set_style(\"whitegrid\")\n",
    "sns.set_style(\"ticks\")\n",
    "sns.despine()\n",
    "from matplotlib import rcParams\n",
    "rcParams.update({'figure.autolayout': True})\n",
    "pc_map = {'mS':0, 'pS': 1, 'mM': 2, 'pM': 3, 'mR': 4, 'pR': 5}\n",
    "\n",
    "from statannot import add_stat_annotation\n"
   ]
  },
  {
   "cell_type": "code",
   "execution_count": 2,
   "id": "6319a26b",
   "metadata": {},
   "outputs": [],
   "source": [
    "import gzip\n",
    "\n",
    "metient_results_dir = '/data/morrisq/divyak/data/metient_prediction_results/'\n",
    "\n",
    "def get_num_mut_trees(mut_tree_fn):\n",
    "    with open(mut_tree_fn, 'r') as f:\n",
    "        # look for line w/ \"3 #trees\" as an example\n",
    "        for line in f:\n",
    "            if  \"#trees\" in line:\n",
    "                return int(line.strip().split()[0])    \n",
    "\n",
    "def get_pckl_info(bs, run, site, mig_type, seed, tree_num, topk):\n",
    "    prediction_dir = os.path.join(metient_results_dir, f'predictions_batch_exp_bs{bs}_{PARAMS}_r{run}_{DATE}')\n",
    "    predicted_site_mig_type_data_dir = os.path.join(prediction_dir, site, mig_type)\n",
    "    \n",
    "    with gzip.open(os.path.join(predicted_site_mig_type_data_dir, f\"tree{tree_num}_seed{seed}_calibrate.pkl.gz\"), \"rb\") as f:\n",
    "        pckl = pickle.load(f)\n",
    "    Vs = pckl[OUT_LABElING_KEY]\n",
    "    k = topk if len(Vs) >= topk else len(Vs)\n",
    "    Vs = Vs[:k]\n",
    "    As = pckl[OUT_ADJ_KEY][:k]\n",
    "    losses = pckl[OUT_LOSSES_KEY][:k]\n",
    "    return Vs, As, losses\n",
    "\n",
    "def get_rank_to_percent_runs(solution_to_losses, solution_to_ranks, run_num_to_solutions):\n",
    "    # get the avg loss across runs for each solution\n",
    "    for solution in solution_to_losses:\n",
    "        solution_to_losses[solution] = sum(solution_to_losses[solution])/len(solution_to_losses[solution])\n",
    "        solution_to_ranks[solution] = sum(solution_to_ranks[solution])/len(solution_to_ranks[solution])\n",
    "    solution_losses_list = [(k,v) for k,v in solution_to_losses.items()]\n",
    "    solution_ranks_list = [(k,v) for k,v in solution_to_ranks.items()]\n",
    "\n",
    "#     print(\"unsorted solution_losses_list\", solution_losses_list)\n",
    "#     print(\"unsorted solution_ranks_list\", solution_ranks_list)\n",
    "\n",
    "    solution_losses_list = sorted(solution_losses_list, key=lambda x: x[1])\n",
    "    solution_ranks_list = sorted(solution_ranks_list, key=lambda x: x[1])\n",
    "\n",
    "#     print(\"sorted solution_losses_list\", solution_losses_list)\n",
    "#     print(\"sorted solution_ranks_list\", solution_ranks_list)\n",
    "\n",
    "    rank_to_percent_runs = {}\n",
    "    # What % of runs get the solution as a function of the rank on the joined list?\n",
    "    #for rank, (soln,_) in enumerate(solution_losses_list):\n",
    "    for rank, (soln,_) in enumerate(solution_ranks_list):\n",
    "        rank_to_percent_runs[rank] = []\n",
    "        for run in run_num_to_solutions:\n",
    "            if soln in run_num_to_solutions[run]:\n",
    "                rank_to_percent_runs[rank].append(run)\n",
    "    print(rank_to_percent_runs)\n",
    "    rank_to_percent_runs = {rank:(len(rank_to_percent_runs[rank])/num_runs) for rank in rank_to_percent_runs}\n",
    "    return rank_to_percent_runs"
   ]
  },
  {
   "cell_type": "code",
   "execution_count": 3,
   "id": "e03ad41c",
   "metadata": {
    "scrolled": true
   },
   "outputs": [
    {
     "name": "stderr",
     "output_type": "stream",
     "text": [
      " 10%|█         | 1/10 [00:00<00:01,  8.25it/s]"
     ]
    },
    {
     "name": "stdout",
     "output_type": "stream",
     "text": [
      "matching top 5 solutions\n",
      "batch size: 64\n",
      "m8 M 45 tree 0 run 1\n",
      "m8 M 45 tree 0 run 2\n",
      "m8 M 45 tree 0 run 3\n",
      "m8 M 45 tree 0 run 4\n",
      "m8 M 45 tree 0 run 5\n",
      "{0: [1, 2, 3, 4, 5], 1: [2, 3, 4], 2: [1, 2, 4, 5], 3: [2, 3, 5], 4: [1, 2], 5: [1], 6: [3], 7: [4], 8: [5], 9: [5]}\n",
      "m8 M 7 tree 0 run 1\n",
      "m8 M 7 tree 0 run 2\n"
     ]
    },
    {
     "name": "stderr",
     "output_type": "stream",
     "text": [
      "\r",
      " 20%|██        | 2/10 [00:00<00:01,  7.45it/s]"
     ]
    },
    {
     "name": "stdout",
     "output_type": "stream",
     "text": [
      "m8 M 7 tree 0 run 3\n",
      "m8 M 7 tree 0 run 4\n",
      "m8 M 7 tree 0 run 5\n",
      "{0: [1, 2, 3, 4, 5], 1: [2], 2: [1, 2, 3, 4], 3: [1], 4: [2, 3, 4, 5], 5: [5], 6: [1, 5], 7: [3], 8: [2, 4], 9: [1, 5], 10: [3, 4]}\n",
      "m8 M 35 tree 0 run 1\n",
      "m8 M 35 tree 0 run 2\n",
      "m8 M 35 tree 0 run 3\n",
      "m8 M 35 tree 0 run 4\n",
      "m8 M 35 tree 0 run 5\n"
     ]
    },
    {
     "name": "stderr",
     "output_type": "stream",
     "text": [
      " 50%|█████     | 5/10 [00:00<00:00,  9.19it/s]"
     ]
    },
    {
     "name": "stdout",
     "output_type": "stream",
     "text": [
      "{0: [1, 2, 3, 4, 5], 1: [2], 2: [3], 3: [5], 4: [1, 3, 4], 5: [1, 2], 6: [4], 7: [5], 8: [1, 2, 3], 9: [5], 10: [1], 11: [2], 12: [3, 5]}\n",
      "m8 M 243 tree 0 run 1\n",
      "m8 M 243 tree 0 run 2\n",
      "m8 M 243 tree 0 run 3\n",
      "m8 M 243 tree 0 run 4\n",
      "m8 M 243 tree 0 run 5\n",
      "{0: [1, 2], 1: [3, 4, 5], 2: [1, 2], 3: [4], 4: [1], 5: [1, 2], 6: [2], 7: [1], 8: [2]}\n",
      "m8 M 216 tree 0 run 1\n",
      "m8 M 216 tree 0 run 2\n",
      "m8 M 216 tree 0 run 3\n",
      "m8 M 216 tree 0 run 4\n",
      "m8 M 216 tree 0 run 5\n",
      "{0: [1, 2, 3, 4, 5], 1: [1, 4], 2: [2], 3: [1], 4: [2, 4], 5: [1, 3, 4, 5], 6: [1, 5]}\n",
      "m8 M 239 tree 0 run 1\n",
      "m8 M 239 tree 0 run 2\n",
      "m8 M 239 tree 0 run 3\n",
      "m8 M 239 tree 0 run 4\n",
      "m8 M 239 tree 0 run 5\n",
      "{0: [1, 2, 3, 4, 5], 1: [1, 4, 5], 2: [2], 3: [3], 4: [1, 5], 5: [4], 6: [1, 5], 7: [1], 8: [5]}\n",
      "m8 M 19 tree 0 run 1\n",
      "m8 M 19 tree 0 run 2\n",
      "m8 M 19 tree 0 run 3\n"
     ]
    },
    {
     "name": "stderr",
     "output_type": "stream",
     "text": [
      " 90%|█████████ | 9/10 [00:00<00:00, 11.46it/s]"
     ]
    },
    {
     "name": "stdout",
     "output_type": "stream",
     "text": [
      "m8 M 19 tree 0 run 4\n",
      "m8 M 19 tree 0 run 5\n",
      "{0: [1, 2, 3, 4, 5], 1: [1, 2, 3, 5], 2: [4], 3: [1], 4: [3], 5: [5], 6: [5]}\n",
      "m8 M 76 tree 0 run 1\n",
      "m8 M 76 tree 0 run 2\n",
      "m8 M 76 tree 0 run 3\n",
      "m8 M 76 tree 0 run 4\n",
      "m8 M 76 tree 0 run 5\n",
      "{0: [1, 3, 4, 5], 1: [1, 3, 4], 2: [2, 3], 3: [5], 4: [1], 5: [5], 6: [3], 7: [5]}\n",
      "m8 M 172 tree 0 run 1\n",
      "m8 M 172 tree 0 run 2\n",
      "m8 M 172 tree 0 run 3\n",
      "m8 M 172 tree 0 run 4\n",
      "m8 M 172 tree 0 run 5\n",
      "{0: [1, 2, 3, 4, 5], 1: [1, 2], 2: [3], 3: [4], 4: [4, 5], 5: [1], 6: [2], 7: [3], 8: [2], 9: [2]}\n",
      "m8 M 241 tree 0 run 1\n",
      "m8 M 241 tree 0 run 2\n"
     ]
    },
    {
     "name": "stderr",
     "output_type": "stream",
     "text": [
      "100%|██████████| 10/10 [00:00<00:00, 11.54it/s]\n",
      " 20%|██        | 2/10 [00:00<00:00, 17.35it/s]"
     ]
    },
    {
     "name": "stdout",
     "output_type": "stream",
     "text": [
      "m8 M 241 tree 0 run 3\n",
      "m8 M 241 tree 0 run 4\n",
      "m8 M 241 tree 0 run 5\n",
      "{0: [1], 1: [4, 5], 2: [2, 5], 3: [2, 3], 4: [1, 2, 3, 5], 5: [3], 6: [4, 5], 7: [3], 8: [3]}\n",
      "m8 mS 0 tree 0 run 1\n",
      "m8 mS 0 tree 0 run 2\n",
      "m8 mS 0 tree 0 run 3\n",
      "m8 mS 0 tree 0 run 4\n",
      "m8 mS 0 tree 0 run 5\n",
      "{0: [1, 2, 3, 5], 1: [1, 2, 3, 4], 2: [4], 3: [1, 2, 3], 4: [4], 5: [1, 2], 6: [1, 3], 7: [2], 8: [3]}\n",
      "m8 mS 7 tree 0 run 1\n",
      "m8 mS 7 tree 0 run 2\n",
      "m8 mS 7 tree 0 run 3\n",
      "m8 mS 7 tree 0 run 4\n",
      "m8 mS 7 tree 0 run 5\n",
      "{0: [1, 2, 3, 4, 5], 1: [1, 2, 3, 4, 5], 2: [1, 2, 3, 4, 5], 3: [1, 2, 3, 4, 5]}\n",
      "m8 mS 4 tree 0 run 1\n",
      "m8 mS 4 tree 0 run 2\n",
      "m8 mS 4 tree 0 run 3\n"
     ]
    },
    {
     "name": "stderr",
     "output_type": "stream",
     "text": [
      "\r",
      " 30%|███       | 3/10 [00:00<00:00, 13.22it/s]"
     ]
    },
    {
     "name": "stdout",
     "output_type": "stream",
     "text": [
      "m8 mS 4 tree 0 run 4\n",
      "m8 mS 4 tree 0 run 5\n",
      "{0: [1, 2, 3, 4, 5], 1: [1, 2, 3, 4, 5], 2: [5], 3: [1, 2, 3, 4, 5], 4: [1], 5: [2], 6: [3], 7: [4, 5], 8: [1, 2], 9: [3], 10: [4]}\n",
      "m8 mS 9 tree 0 run 1\n",
      "m8 mS 9 tree 0 run 2\n",
      "m8 mS 9 tree 0 run 3\n",
      "m8 mS 9 tree 0 run 4\n",
      "m8 mS 9 tree 0 run 5\n",
      "{0: [1, 2, 3], 1: [5], 2: [2, 3], 3: [3, 4], 4: [5], 5: [5], 6: [5], 7: [5]}\n",
      "m8 mS 8 tree 0 run 1\n",
      "m8 mS 8 tree 0 run 2\n",
      "m8 mS 8 tree 0 run 3\n",
      "m8 mS 8 tree 0 run 4\n",
      "m8 mS 8 tree 0 run 5\n",
      "{0: [1, 2, 3], 1: [5], 2: [2, 4], 3: [3], 4: [5], 5: [5], 6: [5], 7: [5]}\n",
      "m8 mS 3 tree 0 run 1\n",
      "m8 mS 3 tree 0 run 2\n",
      "m8 mS 3 tree 0 run 3\n",
      "m8 mS 3 tree 0 run 4\n",
      "m8 mS 3 tree 0 run 5\n"
     ]
    },
    {
     "name": "stderr",
     "output_type": "stream",
     "text": [
      " 70%|███████   | 7/10 [00:00<00:00, 10.73it/s]"
     ]
    },
    {
     "name": "stdout",
     "output_type": "stream",
     "text": [
      "{0: [2, 3, 4], 1: [1, 2, 3, 4, 5], 2: [2, 3, 4, 5], 3: [1, 2, 5], 4: [1, 2, 5], 5: [4], 6: [1, 3, 4, 5], 7: [1, 3]}\n",
      "m8 mS 12 tree 0 run 1\n",
      "m8 mS 12 tree 0 run 2\n",
      "m8 mS 12 tree 0 run 3\n",
      "m8 mS 12 tree 0 run 4\n",
      "m8 mS 12 tree 0 run 5\n",
      "{0: [2], 1: [1, 2, 3, 4, 5], 2: [1], 3: [2, 5], 4: [2, 4, 5], 5: [3], 6: [1], 7: [3], 8: [4], 9: [1], 10: [4], 11: [5], 12: [1, 3, 4], 13: [2], 14: [3], 15: [5]}\n",
      "m8 mS 10 tree 0 run 1\n",
      "m8 mS 10 tree 0 run 2\n",
      "m8 mS 10 tree 0 run 3\n"
     ]
    },
    {
     "name": "stderr",
     "output_type": "stream",
     "text": [
      "\r",
      " 80%|████████  | 8/10 [00:00<00:00, 10.33it/s]"
     ]
    },
    {
     "name": "stdout",
     "output_type": "stream",
     "text": [
      "m8 mS 10 tree 0 run 4\n",
      "m8 mS 10 tree 0 run 5\n",
      "{0: [1, 3], 1: [1, 2, 3, 4, 5], 2: [2, 3], 3: [1, 2, 4], 4: [2, 4, 5], 5: [4], 6: [5], 7: [2, 4, 5], 8: [5]}\n",
      "m8 mS 2 tree 0 run 1\n",
      "m8 mS 2 tree 0 run 2\n"
     ]
    },
    {
     "name": "stderr",
     "output_type": "stream",
     "text": [
      "\r",
      " 90%|█████████ | 9/10 [00:00<00:00,  6.22it/s]"
     ]
    },
    {
     "name": "stdout",
     "output_type": "stream",
     "text": [
      "m8 mS 2 tree 0 run 3\n",
      "m8 mS 2 tree 0 run 4\n",
      "m8 mS 2 tree 0 run 5\n",
      "{0: [1], 1: [3], 2: [5], 3: [1], 4: [2, 4], 5: [2], 6: [3], 7: [4], 8: [2, 4], 9: [1], 10: [2], 11: [3], 12: [3, 5], 13: [1], 14: [1, 5], 15: [4], 16: [5], 17: [3, 4], 18: [2], 19: [5]}\n",
      "m8 mS 5 tree 0 run 1\n",
      "m8 mS 5 tree 0 run 2\n",
      "m8 mS 5 tree 0 run 3\n",
      "m8 mS 5 tree 0 run 4\n"
     ]
    },
    {
     "name": "stderr",
     "output_type": "stream",
     "text": [
      "100%|██████████| 10/10 [00:01<00:00,  9.62it/s]\n",
      " 10%|█         | 1/10 [00:00<00:01,  8.51it/s]"
     ]
    },
    {
     "name": "stdout",
     "output_type": "stream",
     "text": [
      "m8 mS 5 tree 0 run 5\n",
      "{0: [2, 4, 5], 1: [2, 3, 4], 2: [1, 4], 3: [1, 5], 4: [1, 2, 4], 5: [2, 5], 6: [1], 7: [5], 8: [2], 9: [4], 10: [5]}\n",
      "m8 R 10157 tree 0 run 1\n",
      "m8 R 10157 tree 0 run 2\n",
      "m8 R 10157 tree 0 run 3\n",
      "m8 R 10157 tree 0 run 4\n",
      "m8 R 10157 tree 0 run 5\n",
      "{0: [1], 1: [2, 3, 5], 2: [4], 3: [1], 4: [2], 5: [3], 6: [4], 7: [5], 8: [1], 9: [4], 10: [1], 11: [1, 2], 12: [4]}\n",
      "m8 R 1070 tree 0 run 1\n",
      "m8 R 1070 tree 0 run 2\n"
     ]
    },
    {
     "name": "stderr",
     "output_type": "stream",
     "text": [
      " 30%|███       | 3/10 [00:00<00:00,  8.58it/s]"
     ]
    },
    {
     "name": "stdout",
     "output_type": "stream",
     "text": [
      "m8 R 1070 tree 0 run 3\n",
      "m8 R 1070 tree 0 run 4\n",
      "m8 R 1070 tree 0 run 5\n",
      "{0: [1, 2, 3, 4, 5], 1: [1], 2: [1, 3, 4], 3: [2, 4, 5], 4: [1, 2, 3, 4, 5], 5: [1, 2, 5], 6: [2], 7: [4]}\n",
      "m8 R 9 tree 0 run 1\n",
      "m8 R 9 tree 0 run 2\n",
      "m8 R 9 tree 0 run 3\n",
      "m8 R 9 tree 0 run 4\n",
      "m8 R 9 tree 0 run 5\n",
      "{0: [1, 5], 1: [1, 2, 3, 4, 5], 2: [1], 3: [3], 4: [5], 5: [1, 2, 3, 4, 5], 6: [2, 3], 7: [3], 8: [4], 9: [1, 4, 5]}\n",
      "m8 R 905 tree 0 run 1\n",
      "m8 R 905 tree 0 run 2\n",
      "m8 R 905 tree 0 run 3\n"
     ]
    },
    {
     "name": "stderr",
     "output_type": "stream",
     "text": [
      "\r",
      " 50%|█████     | 5/10 [00:00<00:00,  9.17it/s]"
     ]
    },
    {
     "name": "stdout",
     "output_type": "stream",
     "text": [
      "m8 R 905 tree 0 run 4\n",
      "m8 R 905 tree 0 run 5\n",
      "{0: [1, 2, 3, 4, 5], 1: [1, 2, 4, 5], 2: [3], 3: [2], 4: [4], 5: [5]}\n",
      "m8 R 10046 tree 0 run 1\n",
      "m8 R 10046 tree 0 run 2\n",
      "m8 R 10046 tree 0 run 3\n",
      "m8 R 10046 tree 0 run 4\n",
      "m8 R 10046 tree 0 run 5\n",
      "{0: [1, 2, 3, 4, 5], 1: [2, 3, 4], 2: [1, 2, 3, 4, 5], 3: [1, 2, 3, 4, 5]}\n",
      "m8 R 394 tree 0 run 1\n",
      "m8 R 394 tree 0 run 2\n"
     ]
    },
    {
     "name": "stderr",
     "output_type": "stream",
     "text": [
      "\r",
      " 60%|██████    | 6/10 [00:00<00:00,  7.61it/s]"
     ]
    },
    {
     "name": "stdout",
     "output_type": "stream",
     "text": [
      "m8 R 394 tree 0 run 3\n",
      "m8 R 394 tree 0 run 4\n",
      "m8 R 394 tree 0 run 5\n",
      "{0: [4], 1: [1, 2, 3, 4, 5], 2: [1, 2, 3, 4, 5], 3: [1, 3], 4: [1, 2, 3, 4, 5], 5: [1], 6: [2, 5], 7: [4, 5], 8: [2], 9: [3]}\n",
      "m8 R 981 tree 0 run 1\n",
      "m8 R 981 tree 0 run 2\n",
      "m8 R 981 tree 0 run 3\n",
      "m8 R 981 tree 0 run 4\n"
     ]
    },
    {
     "name": "stderr",
     "output_type": "stream",
     "text": [
      " 80%|████████  | 8/10 [00:00<00:00,  7.83it/s]"
     ]
    },
    {
     "name": "stdout",
     "output_type": "stream",
     "text": [
      "m8 R 981 tree 0 run 5\n",
      "{0: [1, 3, 5], 1: [2], 2: [4], 3: [2], 4: [3], 5: [4], 6: [1, 3], 7: [1, 3], 8: [1, 5], 9: [1, 3]}\n",
      "m8 R 383 tree 0 run 1\n",
      "m8 R 383 tree 0 run 2\n",
      "m8 R 383 tree 0 run 3\n",
      "m8 R 383 tree 0 run 4\n",
      "m8 R 383 tree 0 run 5\n",
      "{0: [1], 1: [4], 2: [2, 3, 5], 3: [4, 5], 4: [3, 5], 5: [1, 2, 4], 6: [1, 2], 7: [3], 8: [4], 9: [1], 10: [2], 11: [5], 12: [2], 13: [4]}\n",
      "m8 R 30342 tree 0 run 1\n",
      "m8 R 30342 tree 0 run 2\n",
      "m8 R 30342 tree 0 run 3\n",
      "m8 R 30342 tree 0 run 4\n",
      "m8 R 30342 tree 0 run 5\n",
      "{0: [1, 3, 4, 5], 1: [2], 2: [2], 3: [2], 4: [2], 5: [2]}\n"
     ]
    },
    {
     "name": "stderr",
     "output_type": "stream",
     "text": [
      "100%|██████████| 10/10 [00:01<00:00,  8.78it/s]\n",
      "  0%|          | 0/10 [00:00<?, ?it/s]"
     ]
    },
    {
     "name": "stdout",
     "output_type": "stream",
     "text": [
      "m8 R 157 tree 0 run 1\n",
      "m8 R 157 tree 0 run 2\n",
      "m8 R 157 tree 0 run 3\n",
      "m8 R 157 tree 0 run 4\n",
      "m8 R 157 tree 0 run 5\n",
      "{0: [1, 2, 3, 4, 5], 1: [1, 3, 5], 2: [4], 3: [2, 5], 4: [2, 3], 5: [4], 6: [1, 3], 7: [4], 8: [5], 9: [1, 2, 3], 10: [2], 11: [4]}\n",
      "m8 S 0 tree 0 run 1\n",
      "m8 S 0 tree 0 run 2\n",
      "m8 S 0 tree 0 run 3\n"
     ]
    },
    {
     "name": "stderr",
     "output_type": "stream",
     "text": [
      "\r",
      " 10%|█         | 1/10 [00:00<00:01,  5.50it/s]"
     ]
    },
    {
     "name": "stdout",
     "output_type": "stream",
     "text": [
      "m8 S 0 tree 0 run 4\n",
      "m8 S 0 tree 0 run 5\n",
      "{0: [1, 2, 3, 4, 5], 1: [3, 4, 5], 2: [1, 3, 4, 5], 3: [1, 2, 3], 4: [1], 5: [2, 3], 6: [2], 7: [4], 8: [5], 9: [1], 10: [2], 11: [4], 12: [5]}\n",
      "m8 S 35 tree 0 run 1\n",
      "m8 S 35 tree 0 run 2\n",
      "m8 S 35 tree 0 run 3\n",
      "m8 S 35 tree 0 run 4\n",
      "m8 S 35 tree 0 run 5\n",
      "{0: [1, 3], 1: [2, 4], 2: [5], 3: [2], 4: [4], 5: [3, 4, 5], 6: [1, 2, 4, 5], 7: [3], 8: [1, 2, 4, 5], 9: [1, 3, 5]}\n",
      "m8 S 37 tree 0 run 1\n",
      "m8 S 37 tree 0 run 2\n",
      "m8 S 37 tree 0 run 3\n"
     ]
    },
    {
     "name": "stderr",
     "output_type": "stream",
     "text": [
      "\r",
      " 30%|███       | 3/10 [00:00<00:01,  6.41it/s]"
     ]
    },
    {
     "name": "stdout",
     "output_type": "stream",
     "text": [
      "m8 S 37 tree 0 run 4\n",
      "m8 S 37 tree 0 run 5\n",
      "{0: [1, 3, 5], 1: [2], 2: [4], 3: [2, 5], 4: [3], 5: [4], 6: [1, 2], 7: [1], 8: [2], 9: [3], 10: [5], 11: [3], 12: [3, 4], 13: [5], 14: [1, 4], 15: [4, 5], 16: [1], 17: [2]}\n",
      "m8 S 31 tree 0 run 1\n",
      "m8 S 31 tree 0 run 2\n",
      "m8 S 31 tree 0 run 3\n",
      "m8 S 31 tree 0 run 4\n",
      "m8 S 31 tree 0 run 5\n",
      "{0: [1, 2, 3, 4, 5], 1: [1, 3, 4], 2: [2], 3: [5], 4: [3], 5: [5]}\n",
      "m8 S 69 tree 0 run 1\n",
      "m8 S 69 tree 0 run 2\n",
      "m8 S 69 tree 0 run 3\n",
      "m8 S 69 tree 0 run 4\n"
     ]
    },
    {
     "name": "stderr",
     "output_type": "stream",
     "text": [
      " 60%|██████    | 6/10 [00:00<00:00,  7.88it/s]"
     ]
    },
    {
     "name": "stdout",
     "output_type": "stream",
     "text": [
      "m8 S 69 tree 0 run 5\n",
      "{0: [1, 2, 3, 4, 5], 1: [1, 2, 3, 4, 5], 2: [1], 3: [2], 4: [5], 5: [1, 3, 4], 6: [5], 7: [1, 3, 4], 8: [3], 9: [4], 10: [5]}\n",
      "m8 S 54 tree 0 run 1\n",
      "m8 S 54 tree 0 run 2\n",
      "m8 S 54 tree 0 run 3\n",
      "m8 S 54 tree 0 run 4\n",
      "m8 S 54 tree 0 run 5\n",
      "{0: [2, 3, 4], 1: [5], 2: [1, 2, 3, 4, 5], 3: [2, 3], 4: [2, 3, 4], 5: [1, 2, 4, 5], 6: [1, 4, 5], 7: [3]}\n",
      "m8 S 12 tree 0 run 1\n",
      "m8 S 12 tree 0 run 2\n",
      "m8 S 12 tree 0 run 3\n",
      "m8 S 12 tree 0 run 4\n",
      "m8 S 12 tree 0 run 5\n",
      "{0: [1, 2, 3, 4, 5], 1: [1, 3, 4, 5], 2: [1, 2, 4], 3: [3, 4], 4: [3, 5], 5: [5]}\n",
      "m8 S 23 tree 0 run 1\n",
      "m8 S 23 tree 0 run 2\n",
      "m8 S 23 tree 0 run 3\n",
      "m8 S 23 tree 0 run 4\n",
      "m8 S 23 tree 0 run 5\n",
      "{0: [1, 2, 3, 4, 5], 1: [3, 4], 2: [5]}\n",
      "m8 S 2 tree 0 run 1\n",
      "m8 S 2 tree 0 run 2\n"
     ]
    },
    {
     "name": "stderr",
     "output_type": "stream",
     "text": [
      "100%|██████████| 10/10 [00:00<00:00, 10.77it/s]\n",
      "  0%|          | 0/10 [00:00<?, ?it/s]"
     ]
    },
    {
     "name": "stdout",
     "output_type": "stream",
     "text": [
      "m8 S 2 tree 0 run 3\n",
      "m8 S 2 tree 0 run 4\n",
      "m8 S 2 tree 0 run 5\n",
      "{0: [2], 1: [3], 2: [4], 3: [1, 2, 3, 4, 5], 4: [3], 5: [4], 6: [1, 2, 3, 4, 5], 7: [1, 2, 5], 8: [1], 9: [4], 10: [5], 11: [1], 12: [5]}\n",
      "m8 S 5 tree 0 run 1\n",
      "m8 S 5 tree 0 run 2\n",
      "m8 S 5 tree 0 run 3\n",
      "m8 S 5 tree 0 run 4\n",
      "m8 S 5 tree 0 run 5\n",
      "{0: [1, 2, 3, 4, 5], 1: [4], 2: [1, 2, 3, 4, 5], 3: [1], 4: [2], 5: [1, 2, 3, 4, 5], 6: [1, 2, 3, 4]}\n"
     ]
    },
    {
     "name": "stderr",
     "output_type": "stream",
     "text": [
      "\r",
      " 20%|██        | 2/10 [00:00<00:00, 15.99it/s]"
     ]
    },
    {
     "name": "stdout",
     "output_type": "stream",
     "text": [
      "m5 M 209 tree 0 run 1\n",
      "m5 M 209 tree 0 run 2\n",
      "m5 M 209 tree 0 run 3\n",
      "m5 M 209 tree 0 run 4\n",
      "m5 M 209 tree 0 run 5\n",
      "{0: [4], 1: [1, 4, 5], 2: [1, 3, 4, 5], 3: [1, 2, 3, 4, 5], 4: [1, 2, 3, 5], 5: [2], 6: [4], 7: [1, 2, 3, 5], 8: [2], 9: [3]}\n",
      "m5 M 534 tree 0 run 1\n",
      "m5 M 534 tree 0 run 2\n",
      "m5 M 534 tree 0 run 3\n",
      "m5 M 534 tree 0 run 4\n",
      "m5 M 534 tree 0 run 5\n",
      "{0: [1, 2, 3, 4, 5], 1: [1, 2, 3, 5], 2: [1, 5], 3: [2, 3], 4: [2, 3, 4], 5: [5], 6: [2], 7: [3]}\n",
      "m5 M 694 tree 0 run 1\n",
      "m5 M 694 tree 0 run 2\n",
      "m5 M 694 tree 0 run 3\n",
      "m5 M 694 tree 0 run 4\n",
      "m5 M 694 tree 0 run 5\n",
      "{0: [1, 2, 3, 4, 5], 1: [4, 5], 2: [1, 2, 3, 4, 5], 3: [2, 4, 5], 4: [2]}\n",
      "m5 M 512 tree 0 run 1\n",
      "m5 M 512 tree 0 run 2\n",
      "m5 M 512 tree 0 run 3\n",
      "m5 M 512 tree 0 run 4\n",
      "m5 M 512 tree 0 run 5\n",
      "{0: [1, 2, 3, 4, 5], 1: [1, 2, 3, 4, 5], 2: [1, 2, 3, 5], 3: [4], 4: [1, 2, 5], 5: [3], 6: [1, 2, 5]}\n",
      "m5 M 545 tree 0 run 1\n",
      "m5 M 545 tree 0 run 2\n",
      "m5 M 545 tree 0 run 3\n",
      "m5 M 545 tree 0 run 4\n"
     ]
    },
    {
     "name": "stderr",
     "output_type": "stream",
     "text": [
      " 70%|███████   | 7/10 [00:00<00:00, 14.90it/s]"
     ]
    },
    {
     "name": "stdout",
     "output_type": "stream",
     "text": [
      "m5 M 545 tree 0 run 5\n",
      "{0: [1, 2, 3, 4, 5], 1: [1, 2, 3, 4, 5], 2: [1, 4], 3: [3], 4: [5], 5: [1, 2, 4, 5], 6: [1, 2, 3], 7: [2], 8: [4, 5]}\n",
      "m5 M 865 tree 0 run 1\n",
      "m5 M 865 tree 0 run 2\n",
      "m5 M 865 tree 0 run 3\n",
      "m5 M 865 tree 0 run 4\n",
      "m5 M 865 tree 0 run 5\n",
      "{0: [2, 3, 4, 5], 1: [1, 2, 4, 5], 2: [1, 3], 3: [2, 3, 4, 5], 4: [5], 5: [1, 2, 4, 5], 6: [1, 2, 3, 4], 7: [1, 3]}\n",
      "m5 M 907 tree 0 run 1\n",
      "m5 M 907 tree 0 run 2\n",
      "m5 M 907 tree 0 run 3\n",
      "m5 M 907 tree 0 run 4\n",
      "m5 M 907 tree 0 run 5\n",
      "{0: [1, 3, 4, 5], 1: [1, 3], 2: [2, 4], 3: [1, 2, 3, 5], 4: [1, 2, 4], 5: [1, 3], 6: [2, 4], 7: [3, 5], 8: [4]}\n",
      "m5 M 76 tree 0 run 1\n"
     ]
    },
    {
     "name": "stderr",
     "output_type": "stream",
     "text": [
      "100%|██████████| 10/10 [00:00<00:00, 19.82it/s]\n",
      " 60%|██████    | 6/10 [00:00<00:00, 59.44it/s]"
     ]
    },
    {
     "name": "stdout",
     "output_type": "stream",
     "text": [
      "m5 M 76 tree 0 run 2\n",
      "m5 M 76 tree 0 run 3\n",
      "m5 M 76 tree 0 run 4\n",
      "m5 M 76 tree 0 run 5\n",
      "{0: [1, 2, 3, 4, 5], 1: [1, 2, 3, 4, 5], 2: [1, 2, 3, 4], 3: [1, 2, 5]}\n",
      "m5 M 565 tree 0 run 1\n",
      "m5 M 565 tree 0 run 2\n",
      "m5 M 565 tree 0 run 3\n",
      "m5 M 565 tree 0 run 4\n",
      "m5 M 565 tree 0 run 5\n",
      "{0: [1, 2, 4, 5], 1: [1, 2, 3, 4, 5]}\n",
      "m5 M 473 tree 0 run 1\n",
      "m5 M 473 tree 0 run 2\n",
      "m5 M 473 tree 0 run 3\n",
      "m5 M 473 tree 0 run 4\n",
      "m5 M 473 tree 0 run 5\n",
      "{0: [1, 2, 3, 4, 5], 1: [1, 2, 3, 4, 5]}\n",
      "m5 mS 0 tree 0 run 1\n",
      "m5 mS 0 tree 0 run 2\n",
      "m5 mS 0 tree 0 run 3\n",
      "m5 mS 0 tree 0 run 4\n",
      "m5 mS 0 tree 0 run 5\n",
      "{0: [1, 2, 3, 4, 5]}\n",
      "m5 mS 7 tree 0 run 1\n",
      "m5 mS 7 tree 0 run 2\n",
      "m5 mS 7 tree 0 run 3\n",
      "m5 mS 7 tree 0 run 4\n",
      "m5 mS 7 tree 0 run 5\n",
      "{0: [1, 2, 3, 4, 5], 1: [1, 2, 3, 4, 5]}\n",
      "m5 mS 4 tree 0 run 1\n",
      "m5 mS 4 tree 0 run 2\n",
      "m5 mS 4 tree 0 run 3\n",
      "m5 mS 4 tree 0 run 4\n",
      "m5 mS 4 tree 0 run 5\n",
      "{0: [1, 2, 3, 4, 5]}\n",
      "m5 mS 9 tree 0 run 1\n",
      "m5 mS 9 tree 0 run 2\n",
      "m5 mS 9 tree 0 run 3\n",
      "m5 mS 9 tree 0 run 4\n",
      "m5 mS 9 tree 0 run 5\n",
      "{0: [1, 2, 3, 4, 5], 1: [1, 2, 3, 4, 5]}\n",
      "m5 mS 8 tree 0 run 1\n",
      "m5 mS 8 tree 0 run 2\n",
      "m5 mS 8 tree 0 run 3\n",
      "m5 mS 8 tree 0 run 4\n",
      "m5 mS 8 tree 0 run 5\n",
      "{0: [1, 2, 3, 4, 5], 1: [1, 2, 3, 4, 5]}\n",
      "m5 mS 3 tree 0 run 1\n",
      "m5 mS 3 tree 0 run 2\n",
      "m5 mS 3 tree 0 run 3\n",
      "m5 mS 3 tree 0 run 4\n",
      "m5 mS 3 tree 0 run 5\n",
      "{0: [1, 2, 3, 4, 5]}\n",
      "m5 mS 12 tree 0 run 1\n",
      "m5 mS 12 tree 0 run 2\n",
      "m5 mS 12 tree 0 run 3\n",
      "m5 mS 12 tree 0 run 4\n",
      "m5 mS 12 tree 0 run 5\n",
      "{0: [1, 2, 3, 4, 5]}\n",
      "m5 mS 10 tree 0 run 1\n",
      "m5 mS 10 tree 0 run 2\n",
      "m5 mS 10 tree 0 run 3\n",
      "m5 mS 10 tree 0 run 4\n"
     ]
    },
    {
     "name": "stderr",
     "output_type": "stream",
     "text": [
      "100%|██████████| 10/10 [00:00<00:00, 55.82it/s]\n",
      " 40%|████      | 4/10 [00:00<00:00, 39.86it/s]"
     ]
    },
    {
     "name": "stdout",
     "output_type": "stream",
     "text": [
      "m5 mS 10 tree 0 run 5\n",
      "{0: [1, 2, 3, 4, 5], 1: [1, 2, 3, 4, 5], 2: [1, 2, 4, 5], 3: [1, 2, 3, 4, 5], 4: [1, 2]}\n",
      "m5 mS 2 tree 0 run 1\n",
      "m5 mS 2 tree 0 run 2\n",
      "m5 mS 2 tree 0 run 3\n",
      "m5 mS 2 tree 0 run 4\n",
      "m5 mS 2 tree 0 run 5\n",
      "{0: [1, 2, 3, 4, 5], 1: [3]}\n",
      "m5 mS 5 tree 0 run 1\n",
      "m5 mS 5 tree 0 run 2\n",
      "m5 mS 5 tree 0 run 3\n",
      "m5 mS 5 tree 0 run 4\n",
      "m5 mS 5 tree 0 run 5\n",
      "{0: [1, 2, 3, 4, 5], 1: [1, 2, 3, 4, 5]}\n",
      "m5 R 571 tree 0 run 1\n",
      "m5 R 571 tree 0 run 2\n",
      "m5 R 571 tree 0 run 3\n",
      "m5 R 571 tree 0 run 4\n",
      "m5 R 571 tree 0 run 5\n",
      "{0: [1, 2, 3, 5], 1: [1, 2, 3, 4, 5], 2: [1, 3, 4]}\n",
      "m5 R 1140 tree 0 run 1\n",
      "m5 R 1140 tree 0 run 2\n",
      "m5 R 1140 tree 0 run 3\n",
      "m5 R 1140 tree 0 run 4\n",
      "m5 R 1140 tree 0 run 5\n",
      "{0: [1, 2, 3, 4, 5], 1: [1, 2, 3, 4, 5], 2: [2, 3, 4, 5], 3: [1, 2, 3]}\n",
      "m5 R 538 tree 0 run 1\n",
      "m5 R 538 tree 0 run 2\n",
      "m5 R 538 tree 0 run 3\n",
      "m5 R 538 tree 0 run 4\n",
      "m5 R 538 tree 0 run 5\n",
      "{0: [1, 2, 3, 4, 5], 1: [1, 2, 3], 2: [2]}\n",
      "m5 R 981 tree 0 run 1\n",
      "m5 R 981 tree 0 run 2\n",
      "m5 R 981 tree 0 run 3\n",
      "m5 R 981 tree 0 run 4\n",
      "m5 R 981 tree 0 run 5\n",
      "{0: [1, 2, 3, 4, 5], 1: [2, 3, 4, 5], 2: [1, 2, 3, 4, 5]}\n",
      "m5 R 2155 tree 0 run 1\n",
      "m5 R 2155 tree 0 run 2\n",
      "m5 R 2155 tree 0 run 3\n",
      "m5 R 2155 tree 0 run 4\n",
      "m5 R 2155 tree 0 run 5\n"
     ]
    },
    {
     "name": "stderr",
     "output_type": "stream",
     "text": [
      "\r",
      " 70%|███████   | 7/10 [00:00<00:00, 25.71it/s]"
     ]
    },
    {
     "name": "stdout",
     "output_type": "stream",
     "text": [
      "{0: [1, 2, 3], 1: [1], 2: [2], 3: [4], 4: [5], 5: [1, 2, 3, 4, 5], 6: [4, 5], 7: [5], 8: [1, 4], 9: [4], 10: [1], 11: [5]}\n",
      "m5 R 950 tree 0 run 1\n",
      "m5 R 950 tree 0 run 2\n",
      "m5 R 950 tree 0 run 3\n",
      "m5 R 950 tree 0 run 4\n",
      "m5 R 950 tree 0 run 5\n",
      "{0: [2, 3, 4, 5], 1: [1, 2, 3, 4, 5], 2: [2, 4, 5], 3: [2, 4]}\n",
      "m5 R 247 tree 0 run 1\n",
      "m5 R 247 tree 0 run 2\n",
      "m5 R 247 tree 0 run 3\n",
      "m5 R 247 tree 0 run 4\n",
      "m5 R 247 tree 0 run 5\n",
      "{0: [1, 2, 3, 4, 5], 1: [1, 2, 3, 4, 5], 2: [1, 2, 3, 4, 5], 3: [1, 2, 3, 4, 5], 4: [1, 2, 3, 5], 5: [4]}\n",
      "m5 R 955 tree 0 run 1\n",
      "m5 R 955 tree 0 run 2\n",
      "m5 R 955 tree 0 run 3\n",
      "m5 R 955 tree 0 run 4\n",
      "m5 R 955 tree 0 run 5\n",
      "{0: [1, 2, 3, 4, 5], 1: [1, 4], 2: [1, 2, 3, 4, 5], 3: [2], 4: [3, 5], 5: [4], 6: [5]}\n",
      "m5 R 518 tree 0 run 1\n",
      "m5 R 518 tree 0 run 2\n",
      "m5 R 518 tree 0 run 3\n",
      "m5 R 518 tree 0 run 4\n",
      "m5 R 518 tree 0 run 5\n",
      "{0: [1, 2, 3, 4, 5], 1: [3, 5]}\n"
     ]
    },
    {
     "name": "stderr",
     "output_type": "stream",
     "text": [
      "100%|██████████| 10/10 [00:00<00:00, 26.10it/s]\n",
      " 50%|█████     | 5/10 [00:00<00:00, 39.35it/s]"
     ]
    },
    {
     "name": "stdout",
     "output_type": "stream",
     "text": [
      "m5 R 17 tree 0 run 1\n",
      "m5 R 17 tree 0 run 2\n",
      "m5 R 17 tree 0 run 3\n",
      "m5 R 17 tree 0 run 4\n",
      "m5 R 17 tree 0 run 5\n",
      "{0: [1, 2, 3, 4, 5], 1: [1, 2, 4]}\n",
      "m5 S 49 tree 0 run 1\n",
      "m5 S 49 tree 0 run 2\n",
      "m5 S 49 tree 0 run 3\n",
      "m5 S 49 tree 0 run 4\n",
      "m5 S 49 tree 0 run 5\n",
      "{0: [1, 2, 3, 4, 5], 1: [1, 2, 3, 4, 5], 2: [1, 3, 5], 3: [1, 3, 4], 4: [2, 3, 5], 5: [4], 6: [1, 5], 7: [4]}\n",
      "m5 S 35 tree 0 run 1\n",
      "m5 S 35 tree 0 run 2\n",
      "m5 S 35 tree 0 run 3\n",
      "m5 S 35 tree 0 run 4\n",
      "m5 S 35 tree 0 run 5\n",
      "{0: [1, 2, 3, 4, 5], 1: [1, 2, 3, 4, 5]}\n",
      "m5 S 25 tree 0 run 1\n",
      "m5 S 25 tree 0 run 2\n",
      "m5 S 25 tree 0 run 3\n",
      "m5 S 25 tree 0 run 4\n",
      "m5 S 25 tree 0 run 5\n",
      "{0: [1, 2, 3, 4, 5], 1: [2, 3, 4]}\n",
      "m5 S 31 tree 0 run 1\n",
      "m5 S 31 tree 0 run 2\n",
      "m5 S 31 tree 0 run 3\n",
      "m5 S 31 tree 0 run 4\n",
      "m5 S 31 tree 0 run 5\n",
      "{0: [1, 2, 3, 4, 5], 1: [1, 2, 3, 4, 5]}\n",
      "m5 S 81 tree 0 run 1\n",
      "m5 S 81 tree 0 run 2\n",
      "m5 S 81 tree 0 run 3\n",
      "m5 S 81 tree 0 run 4\n",
      "m5 S 81 tree 0 run 5\n",
      "{0: [1, 2, 3, 4, 5], 1: [2], 2: [2, 3, 4, 5], 3: [1, 3, 5], 4: [1, 2, 3, 5], 5: [3, 4]}\n",
      "m5 S 40 tree 0 run 1\n",
      "m5 S 40 tree 0 run 2\n",
      "m5 S 40 tree 0 run 3\n",
      "m5 S 40 tree 0 run 4\n",
      "m5 S 40 tree 0 run 5\n",
      "{0: [2, 3, 4, 5], 1: [1, 2, 3], 2: [1, 2, 3, 4, 5]}\n",
      "m5 S 32 tree 0 run 1\n",
      "m5 S 32 tree 0 run 2\n",
      "m5 S 32 tree 0 run 3\n",
      "m5 S 32 tree 0 run 4\n",
      "m5 S 32 tree 0 run 5\n",
      "{0: [1, 2, 3, 4, 5], 1: [2, 4]}\n",
      "m5 S 23 tree 0 run 1\n",
      "m5 S 23 tree 0 run 2\n",
      "m5 S 23 tree 0 run 3\n",
      "m5 S 23 tree 0 run 4\n"
     ]
    },
    {
     "name": "stderr",
     "output_type": "stream",
     "text": [
      "100%|██████████| 10/10 [00:00<00:00, 46.00it/s]\n",
      "  0%|          | 0/10 [00:00<?, ?it/s]"
     ]
    },
    {
     "name": "stdout",
     "output_type": "stream",
     "text": [
      "m5 S 23 tree 0 run 5\n",
      "{0: [1, 3, 4, 5], 1: [2], 2: [2], 3: [2], 4: [2], 5: [2]}\n",
      "m5 S 62 tree 0 run 1\n",
      "m5 S 62 tree 0 run 2\n",
      "m5 S 62 tree 0 run 3\n",
      "m5 S 62 tree 0 run 4\n",
      "m5 S 62 tree 0 run 5\n",
      "{0: [1, 2, 3, 4, 5]}\n",
      "m5 S 17 tree 0 run 1\n",
      "m5 S 17 tree 0 run 2\n",
      "m5 S 17 tree 0 run 3\n",
      "m5 S 17 tree 0 run 4\n",
      "m5 S 17 tree 0 run 5\n",
      "{0: [1, 2, 3, 4, 5], 1: [1, 2, 3, 4, 5]}\n",
      "batch size: 256\n",
      "m8 M 45 tree 0 run 1\n",
      "m8 M 45 tree 0 run 2\n",
      "m8 M 45 tree 0 run 3\n",
      "m8 M 45 tree 0 run 4\n"
     ]
    },
    {
     "name": "stderr",
     "output_type": "stream",
     "text": [
      "\r",
      " 10%|█         | 1/10 [00:00<00:01,  5.02it/s]"
     ]
    },
    {
     "name": "stdout",
     "output_type": "stream",
     "text": [
      "m8 M 45 tree 0 run 5\n",
      "{0: [1, 2, 3, 4, 5], 1: [1, 2, 3, 4, 5], 2: [1, 4, 5], 3: [1, 2, 3, 4, 5], 4: [1, 2, 3, 5], 5: [2], 6: [3, 4]}\n",
      "m8 M 7 tree 0 run 1\n",
      "m8 M 7 tree 0 run 2\n",
      "m8 M 7 tree 0 run 3\n",
      "m8 M 7 tree 0 run 4\n"
     ]
    },
    {
     "name": "stderr",
     "output_type": "stream",
     "text": [
      " 30%|███       | 3/10 [00:00<00:01,  5.23it/s]"
     ]
    },
    {
     "name": "stdout",
     "output_type": "stream",
     "text": [
      "m8 M 7 tree 0 run 5\n",
      "{0: [1, 2, 3, 4, 5], 1: [1, 2, 3, 4, 5], 2: [1, 2, 3, 4, 5], 3: [1, 2, 3, 4, 5], 4: [1, 3, 4], 5: [2, 5]}\n",
      "m8 M 35 tree 0 run 1\n",
      "m8 M 35 tree 0 run 2\n",
      "m8 M 35 tree 0 run 3\n",
      "m8 M 35 tree 0 run 4\n",
      "m8 M 35 tree 0 run 5\n",
      "{0: [1, 2, 3, 4, 5], 1: [1], 2: [2, 4], 3: [3], 4: [1], 5: [1, 2, 4, 5], 6: [1, 2, 3, 4, 5], 7: [3], 8: [2, 4, 5], 9: [3], 10: [5]}\n",
      "m8 M 243 tree 0 run 1\n",
      "m8 M 243 tree 0 run 2\n"
     ]
    },
    {
     "name": "stderr",
     "output_type": "stream",
     "text": [
      " 50%|█████     | 5/10 [00:00<00:00,  6.78it/s]"
     ]
    },
    {
     "name": "stdout",
     "output_type": "stream",
     "text": [
      "m8 M 243 tree 0 run 3\n",
      "m8 M 243 tree 0 run 4\n",
      "m8 M 243 tree 0 run 5\n",
      "{0: [1, 2, 3, 4, 5], 1: [1, 3, 4, 5], 2: [1, 2, 3, 4, 5], 3: [3, 5]}\n",
      "m8 M 216 tree 0 run 1\n",
      "m8 M 216 tree 0 run 2\n",
      "m8 M 216 tree 0 run 3\n",
      "m8 M 216 tree 0 run 4\n",
      "m8 M 216 tree 0 run 5\n",
      "{0: [1], 1: [2, 3, 4, 5], 2: [2, 3, 4, 5], 3: [2, 3, 4, 5], 4: [2, 3, 4, 5], 5: [2, 3, 4, 5]}\n",
      "m8 M 239 tree 0 run 1\n"
     ]
    },
    {
     "name": "stderr",
     "output_type": "stream",
     "text": [
      " 70%|███████   | 7/10 [00:01<00:00,  7.34it/s]"
     ]
    },
    {
     "name": "stdout",
     "output_type": "stream",
     "text": [
      "m8 M 239 tree 0 run 2\n",
      "m8 M 239 tree 0 run 3\n",
      "m8 M 239 tree 0 run 4\n",
      "m8 M 239 tree 0 run 5\n",
      "{0: [1, 2, 3, 4, 5], 1: [1, 2, 3, 4, 5], 2: [1], 3: [2], 4: [3], 5: [4], 6: [5], 7: [1], 8: [2, 5], 9: [4]}\n",
      "m8 M 19 tree 0 run 1\n",
      "m8 M 19 tree 0 run 2\n",
      "m8 M 19 tree 0 run 3\n",
      "m8 M 19 tree 0 run 4\n",
      "m8 M 19 tree 0 run 5\n",
      "{0: [1, 2, 3, 4, 5], 1: [1, 2, 3, 4, 5], 2: [1, 2, 3, 4, 5], 3: [1, 2, 4, 5], 4: [3, 4], 5: [1], 6: [2], 7: [3, 5]}\n"
     ]
    },
    {
     "name": "stderr",
     "output_type": "stream",
     "text": [
      "\r",
      " 80%|████████  | 8/10 [00:01<00:00,  7.37it/s]"
     ]
    },
    {
     "name": "stdout",
     "output_type": "stream",
     "text": [
      "m8 M 76 tree 0 run 1\n",
      "m8 M 76 tree 0 run 2\n",
      "m8 M 76 tree 0 run 3\n",
      "m8 M 76 tree 0 run 4\n",
      "m8 M 76 tree 0 run 5\n",
      "{0: [1, 2, 3, 4, 5], 1: [1, 2, 4, 5], 2: [1, 2, 3, 4, 5], 3: [2, 3, 4, 5], 4: [1, 2, 3, 4, 5], 5: [1, 3]}\n",
      "m8 M 172 tree 0 run 1\n",
      "m8 M 172 tree 0 run 2\n",
      "m8 M 172 tree 0 run 3\n",
      "m8 M 172 tree 0 run 4\n"
     ]
    },
    {
     "name": "stderr",
     "output_type": "stream",
     "text": [
      "100%|██████████| 10/10 [00:01<00:00,  7.14it/s]\n",
      "  0%|          | 0/10 [00:00<?, ?it/s]"
     ]
    },
    {
     "name": "stdout",
     "output_type": "stream",
     "text": [
      "m8 M 172 tree 0 run 5\n",
      "{0: [1], 1: [5], 2: [1, 2, 3, 4, 5], 3: [5], 4: [1, 5], 5: [1, 2, 3, 4, 5], 6: [2], 7: [3], 8: [4], 9: [2], 10: [3], 11: [4], 12: [2], 13: [3], 14: [4]}\n",
      "m8 M 241 tree 0 run 1\n",
      "m8 M 241 tree 0 run 2\n",
      "m8 M 241 tree 0 run 3\n",
      "m8 M 241 tree 0 run 4\n",
      "m8 M 241 tree 0 run 5\n",
      "{0: [1, 2, 3, 4, 5], 1: [2, 3, 4], 2: [1, 2, 3, 4], 3: [5], 4: [1, 3, 4], 5: [1, 2, 3, 4, 5], 6: [2, 5], 7: [1, 5]}\n",
      "m8 mS 0 tree 0 run 1\n",
      "m8 mS 0 tree 0 run 2\n"
     ]
    },
    {
     "name": "stderr",
     "output_type": "stream",
     "text": [
      "\r",
      " 10%|█         | 1/10 [00:00<00:01,  6.92it/s]"
     ]
    },
    {
     "name": "stdout",
     "output_type": "stream",
     "text": [
      "m8 mS 0 tree 0 run 3\n",
      "m8 mS 0 tree 0 run 4\n",
      "m8 mS 0 tree 0 run 5\n",
      "{0: [1, 2, 3, 4, 5], 1: [4, 5], 2: [1, 2, 4, 5], 3: [1, 2, 3, 4], 4: [2, 4], 5: [1], 6: [3], 7: [5], 8: [2, 3, 5], 9: [3]}\n",
      "m8 mS 7 tree 0 run 1\n",
      "m8 mS 7 tree 0 run 2\n",
      "m8 mS 7 tree 0 run 3\n",
      "m8 mS 7 tree 0 run 4\n",
      "m8 mS 7 tree 0 run 5\n",
      "{0: [1, 2, 3, 4, 5], 1: [1, 2, 3, 4, 5], 2: [1, 2, 3, 4, 5], 3: [1, 2, 3, 4, 5]}\n",
      "m8 mS 4 tree 0 run 1\n",
      "m8 mS 4 tree 0 run 2\n"
     ]
    },
    {
     "name": "stderr",
     "output_type": "stream",
     "text": [
      " 50%|█████     | 5/10 [00:00<00:00,  9.07it/s]"
     ]
    },
    {
     "name": "stdout",
     "output_type": "stream",
     "text": [
      "m8 mS 4 tree 0 run 3\n",
      "m8 mS 4 tree 0 run 4\n",
      "m8 mS 4 tree 0 run 5\n",
      "{0: [1, 2, 3, 4, 5], 1: [1, 2, 3, 4, 5], 2: [1, 2, 3, 4, 5], 3: [1, 2, 3, 4, 5], 4: [1], 5: [2, 3], 6: [4, 5]}\n",
      "m8 mS 9 tree 0 run 1\n",
      "m8 mS 9 tree 0 run 2\n",
      "m8 mS 9 tree 0 run 3\n",
      "m8 mS 9 tree 0 run 4\n",
      "m8 mS 9 tree 0 run 5\n",
      "{0: [1, 2, 3, 4, 5], 1: [5], 2: [2, 5], 3: [1, 2, 4, 5], 4: [2, 3, 4], 5: [5]}\n",
      "m8 mS 8 tree 0 run 1\n",
      "m8 mS 8 tree 0 run 2\n",
      "m8 mS 8 tree 0 run 3\n",
      "m8 mS 8 tree 0 run 4\n",
      "m8 mS 8 tree 0 run 5\n",
      "{0: [1, 2, 3], 1: [5], 2: [1, 3], 3: [1, 4], 4: [5], 5: [1, 4], 6: [5], 7: [5], 8: [5]}\n"
     ]
    },
    {
     "name": "stderr",
     "output_type": "stream",
     "text": [
      "\r",
      " 60%|██████    | 6/10 [00:00<00:00,  6.97it/s]"
     ]
    },
    {
     "name": "stdout",
     "output_type": "stream",
     "text": [
      "m8 mS 3 tree 0 run 1\n",
      "m8 mS 3 tree 0 run 2\n",
      "m8 mS 3 tree 0 run 3\n",
      "m8 mS 3 tree 0 run 4\n",
      "m8 mS 3 tree 0 run 5\n",
      "{0: [1, 2, 3, 4, 5], 1: [1, 2, 3, 4, 5], 2: [1, 2, 3, 4, 5], 3: [1, 2, 3, 4, 5], 4: [1], 5: [2, 3, 4, 5]}\n"
     ]
    },
    {
     "name": "stderr",
     "output_type": "stream",
     "text": [
      "\r",
      " 70%|███████   | 7/10 [00:00<00:00,  6.90it/s]"
     ]
    },
    {
     "name": "stdout",
     "output_type": "stream",
     "text": [
      "m8 mS 12 tree 0 run 1\n",
      "m8 mS 12 tree 0 run 2\n",
      "m8 mS 12 tree 0 run 3\n",
      "m8 mS 12 tree 0 run 4\n",
      "m8 mS 12 tree 0 run 5\n",
      "{0: [1, 2, 3, 4, 5], 1: [1, 2, 3, 4, 5], 2: [1, 2, 3, 4, 5], 3: [1, 2, 3, 4, 5], 4: [1], 5: [2, 4, 5], 6: [3]}\n",
      "m8 mS 10 tree 0 run 1\n",
      "m8 mS 10 tree 0 run 2\n",
      "m8 mS 10 tree 0 run 3\n",
      "m8 mS 10 tree 0 run 4\n",
      "m8 mS 10 tree 0 run 5\n",
      "{0: [1, 2, 3, 4, 5], 1: [1, 5], 2: [1, 2, 3, 4, 5], 3: [2, 3, 4, 5], 4: [2, 3], 5: [2, 5]}\n",
      "m8 mS 2 tree 0 run 1\n",
      "m8 mS 2 tree 0 run 2\n",
      "m8 mS 2 tree 0 run 3\n",
      "m8 mS 2 tree 0 run 4\n"
     ]
    },
    {
     "name": "stderr",
     "output_type": "stream",
     "text": [
      "100%|██████████| 10/10 [00:01<00:00,  5.62it/s]\n",
      "  0%|          | 0/10 [00:00<?, ?it/s]"
     ]
    },
    {
     "name": "stdout",
     "output_type": "stream",
     "text": [
      "m8 mS 2 tree 0 run 5\n",
      "{0: [1], 1: [2], 2: [3], 3: [5], 4: [1, 2], 5: [2, 4], 6: [3], 7: [3, 5], 8: [4, 5], 9: [1], 10: [1], 11: [2], 12: [3], 13: [3, 4], 14: [4], 15: [5], 16: [1], 17: [2], 18: [4], 19: [5]}\n",
      "m8 mS 5 tree 0 run 1\n",
      "m8 mS 5 tree 0 run 2\n",
      "m8 mS 5 tree 0 run 3\n",
      "m8 mS 5 tree 0 run 4\n",
      "m8 mS 5 tree 0 run 5\n",
      "{0: [1, 2, 3, 5], 1: [1, 2, 3, 4, 5], 2: [1, 3, 4], 3: [2, 3, 4], 4: [1, 2, 4, 5], 5: [3, 5], 6: [1], 7: [2, 5], 8: [4]}\n",
      "m8 R 10157 tree 0 run 1\n",
      "m8 R 10157 tree 0 run 2\n",
      "m8 R 10157 tree 0 run 3\n"
     ]
    },
    {
     "name": "stderr",
     "output_type": "stream",
     "text": [
      "\r",
      " 20%|██        | 2/10 [00:00<00:00,  9.75it/s]"
     ]
    },
    {
     "name": "stdout",
     "output_type": "stream",
     "text": [
      "m8 R 10157 tree 0 run 4\n",
      "m8 R 10157 tree 0 run 5\n",
      "{0: [1, 2], 1: [5], 2: [1, 3, 4, 5], 3: [2], 4: [3], 5: [4], 6: [2], 7: [3], 8: [4], 9: [2], 10: [4], 11: [2]}\n",
      "m8 R 1070 tree 0 run 1\n",
      "m8 R 1070 tree 0 run 2\n",
      "m8 R 1070 tree 0 run 3\n",
      "m8 R 1070 tree 0 run 4\n",
      "m8 R 1070 tree 0 run 5\n",
      "{0: [1, 2, 3, 4, 5], 1: [1, 4], 2: [1, 2, 3, 4, 5], 3: [1, 2, 3, 4, 5], 4: [5], 5: [3, 5], 6: [1, 2, 4], 7: [2, 3]}\n",
      "m8 R 9 tree 0 run 1\n",
      "m8 R 9 tree 0 run 2\n"
     ]
    },
    {
     "name": "stderr",
     "output_type": "stream",
     "text": [
      "\r",
      " 30%|███       | 3/10 [00:00<00:00,  8.90it/s]"
     ]
    },
    {
     "name": "stdout",
     "output_type": "stream",
     "text": [
      "m8 R 9 tree 0 run 3\n",
      "m8 R 9 tree 0 run 4\n",
      "m8 R 9 tree 0 run 5\n",
      "{0: [1, 2, 3, 4, 5], 1: [1, 5], 2: [2], 3: [1, 2, 3, 4], 4: [1, 2, 4], 5: [1, 2, 3, 4, 5], 6: [3, 4, 5], 7: [3, 5]}\n",
      "m8 R 905 tree 0 run 1\n",
      "m8 R 905 tree 0 run 2\n",
      "m8 R 905 tree 0 run 3\n"
     ]
    },
    {
     "name": "stderr",
     "output_type": "stream",
     "text": [
      " 50%|█████     | 5/10 [00:00<00:00,  8.45it/s]"
     ]
    },
    {
     "name": "stdout",
     "output_type": "stream",
     "text": [
      "m8 R 905 tree 0 run 4\n",
      "m8 R 905 tree 0 run 5\n",
      "{0: [1, 2, 3, 4], 1: [1, 2, 4], 2: [1, 3, 4], 3: [1, 2, 3, 4, 5], 4: [1, 3, 4], 5: [2, 3]}\n",
      "m8 R 10046 tree 0 run 1\n",
      "m8 R 10046 tree 0 run 2\n",
      "m8 R 10046 tree 0 run 3\n",
      "m8 R 10046 tree 0 run 4\n",
      "m8 R 10046 tree 0 run 5\n",
      "{0: [1, 2, 3, 4, 5], 1: [1, 2, 3, 4, 5], 2: [1, 2, 3, 4, 5], 3: [1, 2, 3, 4, 5]}\n",
      "m8 R 394 tree 0 run 1\n",
      "m8 R 394 tree 0 run 2\n",
      "m8 R 394 tree 0 run 3\n"
     ]
    },
    {
     "name": "stderr",
     "output_type": "stream",
     "text": [
      "\r",
      " 60%|██████    | 6/10 [00:00<00:00,  6.43it/s]"
     ]
    },
    {
     "name": "stdout",
     "output_type": "stream",
     "text": [
      "m8 R 394 tree 0 run 4\n",
      "m8 R 394 tree 0 run 5\n",
      "{0: [1], 1: [2, 4], 2: [3], 3: [1], 4: [2], 5: [3, 4], 6: [5], 7: [2, 5], 8: [1], 9: [2], 10: [3, 4], 11: [5], 12: [1], 13: [3, 4], 14: [5], 15: [2], 16: [3, 4], 17: [5]}\n",
      "m8 R 981 tree 0 run 1\n",
      "m8 R 981 tree 0 run 2\n",
      "m8 R 981 tree 0 run 3\n",
      "m8 R 981 tree 0 run 4\n"
     ]
    },
    {
     "name": "stderr",
     "output_type": "stream",
     "text": [
      "\r",
      " 70%|███████   | 7/10 [00:00<00:00,  6.65it/s]"
     ]
    },
    {
     "name": "stdout",
     "output_type": "stream",
     "text": [
      "m8 R 981 tree 0 run 5\n",
      "{0: [2, 4], 1: [3, 5], 2: [1, 3, 4], 3: [1], 4: [2], 5: [5], 6: [1], 7: [2], 8: [3], 9: [4], 10: [1, 4], 11: [2], 12: [3], 13: [1], 14: [3], 15: [4]}\n",
      "m8 R 383 tree 0 run 1\n",
      "m8 R 383 tree 0 run 2\n",
      "m8 R 383 tree 0 run 3\n",
      "m8 R 383 tree 0 run 4\n",
      "m8 R 383 tree 0 run 5\n"
     ]
    },
    {
     "name": "stderr",
     "output_type": "stream",
     "text": [
      "100%|██████████| 10/10 [00:01<00:00,  7.51it/s]\n",
      "  0%|          | 0/10 [00:00<?, ?it/s]"
     ]
    },
    {
     "name": "stdout",
     "output_type": "stream",
     "text": [
      "{0: [1, 2, 3, 4, 5], 1: [2, 3, 4], 2: [1, 3], 3: [1, 2, 3, 4, 5], 4: [1, 4, 5], 5: [1, 2, 4, 5], 6: [2, 3, 5]}\n",
      "m8 R 30342 tree 0 run 1\n",
      "m8 R 30342 tree 0 run 2\n",
      "m8 R 30342 tree 0 run 3\n",
      "m8 R 30342 tree 0 run 4\n",
      "m8 R 30342 tree 0 run 5\n",
      "{0: [1, 2, 3, 4, 5], 1: [1, 2], 2: [4], 3: [1]}\n",
      "m8 R 157 tree 0 run 1\n",
      "m8 R 157 tree 0 run 2\n",
      "m8 R 157 tree 0 run 3\n",
      "m8 R 157 tree 0 run 4\n",
      "m8 R 157 tree 0 run 5\n",
      "{0: [1, 2, 3, 4, 5], 1: [1, 2, 3, 4, 5], 2: [1], 3: [5], 4: [1, 2, 3, 5], 5: [1, 3, 4], 6: [2, 4], 7: [3, 4, 5], 8: [2]}\n",
      "m8 S 0 tree 0 run 1\n"
     ]
    },
    {
     "name": "stderr",
     "output_type": "stream",
     "text": [
      "\r",
      " 10%|█         | 1/10 [00:00<00:02,  4.47it/s]"
     ]
    },
    {
     "name": "stdout",
     "output_type": "stream",
     "text": [
      "m8 S 0 tree 0 run 2\n",
      "m8 S 0 tree 0 run 3\n",
      "m8 S 0 tree 0 run 4\n",
      "m8 S 0 tree 0 run 5\n",
      "{0: [1, 2, 3, 4, 5], 1: [1, 2, 4, 5], 2: [1, 2, 3, 4, 5], 3: [1, 3, 4, 5], 4: [3], 5: [2, 4, 5], 6: [1, 2], 7: [3]}\n",
      "m8 S 35 tree 0 run 1\n",
      "m8 S 35 tree 0 run 2\n"
     ]
    },
    {
     "name": "stderr",
     "output_type": "stream",
     "text": [
      "\r",
      " 20%|██        | 2/10 [00:00<00:01,  5.21it/s]"
     ]
    },
    {
     "name": "stdout",
     "output_type": "stream",
     "text": [
      "m8 S 35 tree 0 run 3\n",
      "m8 S 35 tree 0 run 4\n",
      "m8 S 35 tree 0 run 5\n",
      "{0: [1, 2, 3, 4, 5], 1: [2, 3, 4], 2: [1, 2, 3, 5], 3: [2, 3, 4], 4: [1, 2, 3, 4, 5], 5: [1, 4, 5], 6: [1, 5]}\n",
      "m8 S 37 tree 0 run 1\n",
      "m8 S 37 tree 0 run 2\n",
      "m8 S 37 tree 0 run 3\n",
      "m8 S 37 tree 0 run 4\n"
     ]
    },
    {
     "name": "stderr",
     "output_type": "stream",
     "text": [
      " 40%|████      | 4/10 [00:00<00:01,  5.97it/s]"
     ]
    },
    {
     "name": "stdout",
     "output_type": "stream",
     "text": [
      "m8 S 37 tree 0 run 5\n",
      "{0: [1, 2, 3, 4, 5], 1: [1, 4, 5], 2: [1, 2, 3, 4, 5], 3: [1, 3], 4: [1, 3, 5], 5: [2], 6: [3, 4], 7: [2, 4, 5], 8: [2]}\n",
      "m8 S 31 tree 0 run 1\n",
      "m8 S 31 tree 0 run 2\n",
      "m8 S 31 tree 0 run 3\n",
      "m8 S 31 tree 0 run 4\n",
      "m8 S 31 tree 0 run 5\n",
      "{0: [1, 2, 3, 4, 5], 1: [1, 2, 3, 4, 5], 2: [1, 4, 5], 3: [2, 3], 4: [1, 4, 5], 5: [2], 6: [1, 4, 5], 7: [2]}\n",
      "m8 S 69 tree 0 run 1\n",
      "m8 S 69 tree 0 run 2\n",
      "m8 S 69 tree 0 run 3\n"
     ]
    },
    {
     "name": "stderr",
     "output_type": "stream",
     "text": [
      " 60%|██████    | 6/10 [00:00<00:00,  7.19it/s]"
     ]
    },
    {
     "name": "stdout",
     "output_type": "stream",
     "text": [
      "m8 S 69 tree 0 run 4\n",
      "m8 S 69 tree 0 run 5\n",
      "{0: [1, 2, 3, 4, 5], 1: [1, 2, 3, 4, 5], 2: [1, 3, 4], 3: [1, 3, 4, 5], 4: [1, 2, 3, 5], 5: [2, 4], 6: [2], 7: [5]}\n",
      "m8 S 54 tree 0 run 1\n",
      "m8 S 54 tree 0 run 2\n",
      "m8 S 54 tree 0 run 3\n",
      "m8 S 54 tree 0 run 4\n",
      "m8 S 54 tree 0 run 5\n",
      "{0: [1, 2, 3, 4, 5], 1: [1, 5], 2: [1, 2, 3, 4, 5], 3: [1, 2, 3, 4, 5], 4: [1, 3, 4], 5: [2, 4, 5], 6: [2], 7: [3]}\n",
      "m8 S 12 tree 0 run 1\n",
      "m8 S 12 tree 0 run 2\n",
      "m8 S 12 tree 0 run 3\n"
     ]
    },
    {
     "name": "stderr",
     "output_type": "stream",
     "text": [
      "\r",
      " 80%|████████  | 8/10 [00:00<00:00,  8.42it/s]"
     ]
    },
    {
     "name": "stdout",
     "output_type": "stream",
     "text": [
      "m8 S 12 tree 0 run 4\n",
      "m8 S 12 tree 0 run 5\n",
      "{0: [1, 2, 3, 4, 5], 1: [2, 4, 5], 2: [1, 2, 3, 4, 5], 3: [1, 2], 4: [3], 5: [1], 6: [1, 3, 4, 5], 7: [2, 5], 8: [3], 9: [4]}\n",
      "m8 S 23 tree 0 run 1\n",
      "m8 S 23 tree 0 run 2\n",
      "m8 S 23 tree 0 run 3\n",
      "m8 S 23 tree 0 run 4\n",
      "m8 S 23 tree 0 run 5\n",
      "{0: [1, 2, 3, 4, 5], 1: [1, 4], 2: [2, 3, 4], 3: [1, 3, 4], 4: [1], 5: [4]}\n",
      "m8 S 2 tree 0 run 1\n",
      "m8 S 2 tree 0 run 2\n",
      "m8 S 2 tree 0 run 3\n",
      "m8 S 2 tree 0 run 4\n",
      "m8 S 2 tree 0 run 5\n"
     ]
    },
    {
     "name": "stderr",
     "output_type": "stream",
     "text": [
      "100%|██████████| 10/10 [00:01<00:00,  8.03it/s]\n",
      "  0%|          | 0/10 [00:00<?, ?it/s]"
     ]
    },
    {
     "name": "stdout",
     "output_type": "stream",
     "text": [
      "{0: [1], 1: [2], 2: [3], 3: [4], 4: [5], 5: [2], 6: [4], 7: [1, 2, 3, 4, 5], 8: [4], 9: [5], 10: [1, 2, 3, 4, 5], 11: [1, 2, 3, 5], 12: [1, 3]}\n",
      "m8 S 5 tree 0 run 1\n",
      "m8 S 5 tree 0 run 2\n",
      "m8 S 5 tree 0 run 3\n",
      "m8 S 5 tree 0 run 4\n",
      "m8 S 5 tree 0 run 5\n",
      "{0: [1, 2, 3, 4, 5], 1: [1, 2, 3, 4, 5], 2: [1], 3: [2, 4], 4: [3, 5], 5: [1, 2, 3, 4, 5], 6: [1], 7: [2, 3, 5], 8: [4]}\n",
      "m5 M 209 tree 0 run 1\n"
     ]
    },
    {
     "name": "stderr",
     "output_type": "stream",
     "text": [
      "\r",
      " 10%|█         | 1/10 [00:00<00:01,  4.77it/s]"
     ]
    },
    {
     "name": "stdout",
     "output_type": "stream",
     "text": [
      "m5 M 209 tree 0 run 2\n",
      "m5 M 209 tree 0 run 3\n",
      "m5 M 209 tree 0 run 4\n",
      "m5 M 209 tree 0 run 5\n",
      "{0: [1, 4], 1: [2, 3, 5], 2: [1], 3: [1, 4], 4: [1, 2, 3, 4, 5], 5: [4], 6: [1, 2, 3, 4, 5], 7: [2, 3, 5], 8: [2, 5], 9: [3]}\n",
      "m5 M 534 tree 0 run 1\n",
      "m5 M 534 tree 0 run 2\n",
      "m5 M 534 tree 0 run 3\n",
      "m5 M 534 tree 0 run 4\n",
      "m5 M 534 tree 0 run 5\n",
      "{0: [1, 2, 3, 4, 5], 1: [1, 2, 3, 4, 5], 2: [1, 2, 4, 5], 3: [1, 2, 3, 4, 5], 4: [1, 2, 3, 5], 5: [3], 6: [4]}\n",
      "m5 M 694 tree 0 run 1\n",
      "m5 M 694 tree 0 run 2\n",
      "m5 M 694 tree 0 run 3\n",
      "m5 M 694 tree 0 run 4\n",
      "m5 M 694 tree 0 run 5\n",
      "{0: [1, 2, 3, 4, 5], 1: [1, 2, 3, 4, 5], 2: [1, 2, 3, 4, 5], 3: [1, 2, 3, 4, 5], 4: [2, 3, 4, 5]}\n"
     ]
    },
    {
     "name": "stderr",
     "output_type": "stream",
     "text": [
      " 50%|█████     | 5/10 [00:00<00:00,  6.30it/s]"
     ]
    },
    {
     "name": "stdout",
     "output_type": "stream",
     "text": [
      "m5 M 512 tree 0 run 1\n",
      "m5 M 512 tree 0 run 2\n",
      "m5 M 512 tree 0 run 3\n",
      "m5 M 512 tree 0 run 4\n",
      "m5 M 512 tree 0 run 5\n",
      "{0: [1, 2, 3, 5], 1: [1, 2, 3, 4, 5], 2: [1, 2, 4, 5], 3: [3], 4: [1, 2, 4, 5], 5: [1, 2, 4, 5], 6: [4]}\n",
      "m5 M 545 tree 0 run 1\n",
      "m5 M 545 tree 0 run 2\n",
      "m5 M 545 tree 0 run 3\n",
      "m5 M 545 tree 0 run 4\n",
      "m5 M 545 tree 0 run 5\n",
      "{0: [1, 2, 3, 4, 5], 1: [1, 2, 3, 4, 5], 2: [1, 4], 3: [2, 3], 4: [3, 5], 5: [2], 6: [1, 3, 5], 7: [2, 4], 8: [1, 4, 5]}\n"
     ]
    },
    {
     "name": "stderr",
     "output_type": "stream",
     "text": [
      "\r",
      " 60%|██████    | 6/10 [00:00<00:00,  6.44it/s]"
     ]
    },
    {
     "name": "stdout",
     "output_type": "stream",
     "text": [
      "m5 M 865 tree 0 run 1\n",
      "m5 M 865 tree 0 run 2\n",
      "m5 M 865 tree 0 run 3\n",
      "m5 M 865 tree 0 run 4\n",
      "m5 M 865 tree 0 run 5\n",
      "{0: [1, 2, 3, 4, 5], 1: [1, 2, 3, 4, 5], 2: [1, 2, 3, 4, 5], 3: [1, 2, 3, 4, 5], 4: [1, 2, 3, 4, 5]}\n",
      "m5 M 907 tree 0 run 1\n",
      "m5 M 907 tree 0 run 2\n",
      "m5 M 907 tree 0 run 3\n",
      "m5 M 907 tree 0 run 4\n",
      "m5 M 907 tree 0 run 5\n",
      "{0: [2, 3, 4, 5], 1: [1, 2, 3], 2: [2, 4], 3: [3, 5], 4: [4], 5: [1, 2, 3, 5], 6: [4], 7: [4]}\n",
      "m5 M 76 tree 0 run 1\n",
      "m5 M 76 tree 0 run 2\n",
      "m5 M 76 tree 0 run 3\n"
     ]
    },
    {
     "name": "stderr",
     "output_type": "stream",
     "text": [
      "100%|██████████| 10/10 [00:00<00:00, 12.63it/s]\n",
      " 70%|███████   | 7/10 [00:00<00:00, 65.42it/s]"
     ]
    },
    {
     "name": "stdout",
     "output_type": "stream",
     "text": [
      "m5 M 76 tree 0 run 4\n",
      "m5 M 76 tree 0 run 5\n",
      "{0: [1, 2, 3, 4, 5], 1: [1, 2, 3, 4, 5], 2: [1, 2, 3, 4, 5], 3: [1, 2, 3, 4, 5]}\n",
      "m5 M 565 tree 0 run 1\n",
      "m5 M 565 tree 0 run 2\n",
      "m5 M 565 tree 0 run 3\n",
      "m5 M 565 tree 0 run 4\n",
      "m5 M 565 tree 0 run 5\n",
      "{0: [1, 2, 3, 4, 5], 1: [1, 2, 3, 4, 5]}\n",
      "m5 M 473 tree 0 run 1\n",
      "m5 M 473 tree 0 run 2\n",
      "m5 M 473 tree 0 run 3\n",
      "m5 M 473 tree 0 run 4\n",
      "m5 M 473 tree 0 run 5\n",
      "{0: [1, 2, 3, 4, 5], 1: [1, 2, 3, 4, 5]}\n",
      "m5 mS 0 tree 0 run 1\n",
      "m5 mS 0 tree 0 run 2\n",
      "m5 mS 0 tree 0 run 3\n",
      "m5 mS 0 tree 0 run 4\n",
      "m5 mS 0 tree 0 run 5\n",
      "{0: [1, 2, 3, 4, 5]}\n",
      "m5 mS 7 tree 0 run 1\n",
      "m5 mS 7 tree 0 run 2\n",
      "m5 mS 7 tree 0 run 3\n",
      "m5 mS 7 tree 0 run 4\n",
      "m5 mS 7 tree 0 run 5\n",
      "{0: [1, 2, 3, 4, 5], 1: [1, 2, 3, 4, 5]}\n",
      "m5 mS 4 tree 0 run 1\n",
      "m5 mS 4 tree 0 run 2\n",
      "m5 mS 4 tree 0 run 3\n",
      "m5 mS 4 tree 0 run 4\n",
      "m5 mS 4 tree 0 run 5\n",
      "{0: [1, 2, 3, 4, 5]}\n",
      "m5 mS 9 tree 0 run 1\n",
      "m5 mS 9 tree 0 run 2\n",
      "m5 mS 9 tree 0 run 3\n",
      "m5 mS 9 tree 0 run 4\n",
      "m5 mS 9 tree 0 run 5\n",
      "{0: [1, 2, 3, 4, 5], 1: [1, 2, 3, 4, 5]}\n",
      "m5 mS 8 tree 0 run 1\n",
      "m5 mS 8 tree 0 run 2\n",
      "m5 mS 8 tree 0 run 3\n",
      "m5 mS 8 tree 0 run 4\n",
      "m5 mS 8 tree 0 run 5\n",
      "{0: [1, 2, 3, 4, 5], 1: [1, 2, 3, 4, 5]}\n",
      "m5 mS 3 tree 0 run 1\n",
      "m5 mS 3 tree 0 run 2\n",
      "m5 mS 3 tree 0 run 3\n",
      "m5 mS 3 tree 0 run 4\n",
      "m5 mS 3 tree 0 run 5\n",
      "{0: [1, 2, 3, 4, 5]}\n",
      "m5 mS 12 tree 0 run 1\n",
      "m5 mS 12 tree 0 run 2\n",
      "m5 mS 12 tree 0 run 3\n",
      "m5 mS 12 tree 0 run 4\n",
      "m5 mS 12 tree 0 run 5\n",
      "{0: [1, 2, 3, 4, 5]}\n",
      "m5 mS 10 tree 0 run 1\n",
      "m5 mS 10 tree 0 run 2\n",
      "m5 mS 10 tree 0 run 3\n",
      "m5 mS 10 tree 0 run 4\n",
      "m5 mS 10 tree 0 run 5\n",
      "{0: [1, 2, 3, 4, 5], 1: [1, 2, 3, 4, 5], 2: [1, 2, 3, 4, 5], 3: [4, 5], 4: [1, 2, 3, 5], 5: [3, 4], 6: [2]}\n",
      "m5 mS 2 tree 0 run 1\n",
      "m5 mS 2 tree 0 run 2\n",
      "m5 mS 2 tree 0 run 3\n"
     ]
    },
    {
     "name": "stderr",
     "output_type": "stream",
     "text": [
      "100%|██████████| 10/10 [00:00<00:00, 57.29it/s]\n",
      " 40%|████      | 4/10 [00:00<00:00, 36.97it/s]"
     ]
    },
    {
     "name": "stdout",
     "output_type": "stream",
     "text": [
      "m5 mS 2 tree 0 run 4\n",
      "m5 mS 2 tree 0 run 5\n",
      "{0: [1, 2, 3, 4, 5], 1: [1, 2, 3, 4, 5]}\n",
      "m5 mS 5 tree 0 run 1\n",
      "m5 mS 5 tree 0 run 2\n",
      "m5 mS 5 tree 0 run 3\n",
      "m5 mS 5 tree 0 run 4\n",
      "m5 mS 5 tree 0 run 5\n",
      "{0: [1, 2, 3, 4, 5], 1: [1, 2, 3, 4, 5]}\n",
      "m5 R 571 tree 0 run 1\n",
      "m5 R 571 tree 0 run 2\n",
      "m5 R 571 tree 0 run 3\n",
      "m5 R 571 tree 0 run 4\n",
      "m5 R 571 tree 0 run 5\n",
      "{0: [1, 2, 3, 4, 5], 1: [1, 4, 5], 2: [1, 2, 3, 4, 5], 3: [1, 2, 3, 4, 5]}\n",
      "m5 R 1140 tree 0 run 1\n",
      "m5 R 1140 tree 0 run 2\n",
      "m5 R 1140 tree 0 run 3\n",
      "m5 R 1140 tree 0 run 4\n",
      "m5 R 1140 tree 0 run 5\n",
      "{0: [1, 2, 3, 4, 5], 1: [1, 2, 3, 4, 5], 2: [1, 2, 3, 4, 5], 3: [1, 2, 3, 4, 5]}\n",
      "m5 R 538 tree 0 run 1\n",
      "m5 R 538 tree 0 run 2\n",
      "m5 R 538 tree 0 run 3\n",
      "m5 R 538 tree 0 run 4\n",
      "m5 R 538 tree 0 run 5\n",
      "{0: [1, 2, 3, 4, 5], 1: [1, 2, 3, 4, 5], 2: [1, 2, 3, 4, 5], 3: [1, 2, 3]}\n",
      "m5 R 981 tree 0 run 1\n",
      "m5 R 981 tree 0 run 2\n",
      "m5 R 981 tree 0 run 3\n",
      "m5 R 981 tree 0 run 4\n",
      "m5 R 981 tree 0 run 5\n",
      "{0: [1, 2, 3, 4, 5], 1: [1, 2, 3, 4, 5], 2: [4], 3: [1, 2, 3, 4, 5]}\n",
      "m5 R 2155 tree 0 run 1\n",
      "m5 R 2155 tree 0 run 2\n",
      "m5 R 2155 tree 0 run 3\n",
      "m5 R 2155 tree 0 run 4\n"
     ]
    },
    {
     "name": "stderr",
     "output_type": "stream",
     "text": [
      "\r",
      " 60%|██████    | 6/10 [00:00<00:00, 26.34it/s]"
     ]
    },
    {
     "name": "stdout",
     "output_type": "stream",
     "text": [
      "m5 R 2155 tree 0 run 5\n",
      "{0: [1, 2, 3, 4, 5], 1: [5], 2: [1, 2, 3, 4], 3: [2, 4], 4: [2, 3], 5: [1, 2, 3, 4, 5], 6: [1], 7: [3, 4, 5], 8: [1, 5]}\n",
      "m5 R 950 tree 0 run 1\n",
      "m5 R 950 tree 0 run 2\n",
      "m5 R 950 tree 0 run 3\n",
      "m5 R 950 tree 0 run 4\n",
      "m5 R 950 tree 0 run 5\n",
      "{0: [1, 2, 3, 4, 5], 1: [1, 2, 3, 4, 5], 2: [2, 3, 4, 5], 3: [1, 2, 3]}\n",
      "m5 R 247 tree 0 run 1\n",
      "m5 R 247 tree 0 run 2\n",
      "m5 R 247 tree 0 run 3\n",
      "m5 R 247 tree 0 run 4\n"
     ]
    },
    {
     "name": "stderr",
     "output_type": "stream",
     "text": [
      "100%|██████████| 10/10 [00:00<00:00, 21.43it/s]\n",
      " 10%|█         | 1/10 [00:00<00:01,  8.55it/s]"
     ]
    },
    {
     "name": "stdout",
     "output_type": "stream",
     "text": [
      "m5 R 247 tree 0 run 5\n",
      "{0: [1, 2, 3, 4, 5], 1: [1, 2, 3, 4, 5], 2: [1, 2, 3, 4, 5], 3: [1, 2, 3, 4, 5], 4: [1, 2, 3, 4, 5]}\n",
      "m5 R 955 tree 0 run 1\n",
      "m5 R 955 tree 0 run 2\n",
      "m5 R 955 tree 0 run 3\n",
      "m5 R 955 tree 0 run 4\n",
      "m5 R 955 tree 0 run 5\n",
      "{0: [1, 2, 3, 4, 5], 1: [1, 2, 3, 4, 5], 2: [1, 2, 3, 4, 5], 3: [1, 2, 3, 4, 5], 4: [1, 2], 5: [4]}\n",
      "m5 R 518 tree 0 run 1\n",
      "m5 R 518 tree 0 run 2\n",
      "m5 R 518 tree 0 run 3\n",
      "m5 R 518 tree 0 run 4\n",
      "m5 R 518 tree 0 run 5\n",
      "{0: [1, 2, 3, 4, 5], 1: [1, 2, 3]}\n",
      "m5 R 17 tree 0 run 1\n",
      "m5 R 17 tree 0 run 2\n",
      "m5 R 17 tree 0 run 3\n",
      "m5 R 17 tree 0 run 4\n",
      "m5 R 17 tree 0 run 5\n",
      "{0: [1, 2, 3, 4, 5], 1: [1, 2, 3, 4, 5]}\n",
      "m5 S 49 tree 0 run 1\n",
      "m5 S 49 tree 0 run 2\n",
      "m5 S 49 tree 0 run 3\n",
      "m5 S 49 tree 0 run 4\n",
      "m5 S 49 tree 0 run 5\n",
      "{0: [1, 2, 3, 4, 5], 1: [1, 2, 3, 4, 5], 2: [1, 2, 3, 4, 5], 3: [1, 2, 3, 4, 5], 4: [1, 2, 5], 5: [3, 4]}\n",
      "m5 S 35 tree 0 run 1\n",
      "m5 S 35 tree 0 run 2\n",
      "m5 S 35 tree 0 run 3\n"
     ]
    },
    {
     "name": "stderr",
     "output_type": "stream",
     "text": [
      "100%|██████████| 10/10 [00:00<00:00, 30.81it/s]\n",
      "  0%|          | 0/10 [00:00<?, ?it/s]"
     ]
    },
    {
     "name": "stdout",
     "output_type": "stream",
     "text": [
      "m5 S 35 tree 0 run 4\n",
      "m5 S 35 tree 0 run 5\n",
      "{0: [1, 2, 3, 4, 5], 1: [1, 2, 3, 4, 5]}\n",
      "m5 S 25 tree 0 run 1\n",
      "m5 S 25 tree 0 run 2\n",
      "m5 S 25 tree 0 run 3\n",
      "m5 S 25 tree 0 run 4\n",
      "m5 S 25 tree 0 run 5\n",
      "{0: [1, 2, 3, 4, 5], 1: [1, 2, 4, 5]}\n",
      "m5 S 31 tree 0 run 1\n",
      "m5 S 31 tree 0 run 2\n",
      "m5 S 31 tree 0 run 3\n",
      "m5 S 31 tree 0 run 4\n",
      "m5 S 31 tree 0 run 5\n",
      "{0: [1, 2, 3, 4, 5], 1: [1, 2, 3, 4, 5], 2: [1], 3: [1, 4, 5]}\n",
      "m5 S 81 tree 0 run 1\n",
      "m5 S 81 tree 0 run 2\n",
      "m5 S 81 tree 0 run 3\n",
      "m5 S 81 tree 0 run 4\n",
      "m5 S 81 tree 0 run 5\n",
      "{0: [1, 2, 3, 4, 5], 1: [2, 3], 2: [1, 2, 3, 4, 5], 3: [1, 3, 4, 5], 4: [1, 2, 3, 4, 5], 5: [1, 2, 4, 5]}\n",
      "m5 S 40 tree 0 run 1\n",
      "m5 S 40 tree 0 run 2\n",
      "m5 S 40 tree 0 run 3\n",
      "m5 S 40 tree 0 run 4\n",
      "m5 S 40 tree 0 run 5\n",
      "{0: [1, 2, 3, 4, 5], 1: [1, 2, 3, 4, 5], 2: [1, 2, 3, 4, 5]}\n",
      "m5 S 32 tree 0 run 1\n",
      "m5 S 32 tree 0 run 2\n",
      "m5 S 32 tree 0 run 3\n",
      "m5 S 32 tree 0 run 4\n",
      "m5 S 32 tree 0 run 5\n",
      "{0: [1, 2, 3, 4, 5], 1: [1, 2, 3]}\n",
      "m5 S 23 tree 0 run 1\n",
      "m5 S 23 tree 0 run 2\n",
      "m5 S 23 tree 0 run 3\n",
      "m5 S 23 tree 0 run 4\n",
      "m5 S 23 tree 0 run 5\n",
      "{0: [1, 2, 3, 4, 5], 1: [1, 2, 3, 4, 5]}\n",
      "m5 S 62 tree 0 run 1\n",
      "m5 S 62 tree 0 run 2\n",
      "m5 S 62 tree 0 run 3\n",
      "m5 S 62 tree 0 run 4\n",
      "m5 S 62 tree 0 run 5\n",
      "{0: [1, 2, 3, 4, 5]}\n",
      "m5 S 17 tree 0 run 1\n",
      "m5 S 17 tree 0 run 2\n",
      "m5 S 17 tree 0 run 3\n",
      "m5 S 17 tree 0 run 4\n",
      "m5 S 17 tree 0 run 5\n",
      "{0: [1, 2, 3, 4, 5], 1: [1, 2, 3, 4, 5]}\n",
      "batch size: 1024\n"
     ]
    },
    {
     "name": "stderr",
     "output_type": "stream",
     "text": [
      "\n"
     ]
    },
    {
     "ename": "FileNotFoundError",
     "evalue": "[Errno 2] No such file or directory: '/data/morrisq/divyak/data/metient_prediction_results/predictions_batch_exp_bs1024_calibrate_wip_solvepoly_r1_multirun_07052024/m8/M/tree0_seed45_calibrate.pkl.gz'",
     "output_type": "error",
     "traceback": [
      "\u001b[0;31m---------------------------------------------------------------------------\u001b[0m",
      "\u001b[0;31mFileNotFoundError\u001b[0m                         Traceback (most recent call last)",
      "Cell \u001b[0;32mIn[3], line 40\u001b[0m\n\u001b[1;32m     38\u001b[0m run_num_to_solutions \u001b[38;5;241m=\u001b[39m {}\n\u001b[1;32m     39\u001b[0m \u001b[38;5;28;01mfor\u001b[39;00m run \u001b[38;5;129;01min\u001b[39;00m \u001b[38;5;28mrange\u001b[39m(\u001b[38;5;241m1\u001b[39m,num_runs\u001b[38;5;241m+\u001b[39m\u001b[38;5;241m1\u001b[39m):\n\u001b[0;32m---> 40\u001b[0m     Vs, As, losses \u001b[38;5;241m=\u001b[39m \u001b[43mget_pckl_info\u001b[49m\u001b[43m(\u001b[49m\u001b[43mbs\u001b[49m\u001b[43m,\u001b[49m\u001b[43m \u001b[49m\u001b[43mrun\u001b[49m\u001b[43m,\u001b[49m\u001b[43m \u001b[49m\u001b[43msite\u001b[49m\u001b[43m,\u001b[49m\u001b[43m \u001b[49m\u001b[43mmig_type\u001b[49m\u001b[43m,\u001b[49m\u001b[43m \u001b[49m\u001b[43mseed\u001b[49m\u001b[43m,\u001b[49m\u001b[43m \u001b[49m\u001b[43mtree_num\u001b[49m\u001b[43m,\u001b[49m\u001b[43m \u001b[49m\u001b[43mtopk\u001b[49m\u001b[43m)\u001b[49m\n\u001b[1;32m     41\u001b[0m     run_num_to_solutions[run] \u001b[38;5;241m=\u001b[39m []\n\u001b[1;32m     42\u001b[0m     \u001b[38;5;28mprint\u001b[39m(site, mig_type, seed, \u001b[38;5;124m\"\u001b[39m\u001b[38;5;124mtree\u001b[39m\u001b[38;5;124m\"\u001b[39m, tree_num, \u001b[38;5;124m\"\u001b[39m\u001b[38;5;124mrun\u001b[39m\u001b[38;5;124m\"\u001b[39m, run)\n",
      "Cell \u001b[0;32mIn[2], line 16\u001b[0m, in \u001b[0;36mget_pckl_info\u001b[0;34m(bs, run, site, mig_type, seed, tree_num, topk)\u001b[0m\n\u001b[1;32m     13\u001b[0m prediction_dir \u001b[38;5;241m=\u001b[39m os\u001b[38;5;241m.\u001b[39mpath\u001b[38;5;241m.\u001b[39mjoin(metient_results_dir, \u001b[38;5;124mf\u001b[39m\u001b[38;5;124m'\u001b[39m\u001b[38;5;124mpredictions_batch_exp_bs\u001b[39m\u001b[38;5;132;01m{\u001b[39;00mbs\u001b[38;5;132;01m}\u001b[39;00m\u001b[38;5;124m_\u001b[39m\u001b[38;5;132;01m{\u001b[39;00mPARAMS\u001b[38;5;132;01m}\u001b[39;00m\u001b[38;5;124m_r\u001b[39m\u001b[38;5;132;01m{\u001b[39;00mrun\u001b[38;5;132;01m}\u001b[39;00m\u001b[38;5;124m_\u001b[39m\u001b[38;5;132;01m{\u001b[39;00mDATE\u001b[38;5;132;01m}\u001b[39;00m\u001b[38;5;124m'\u001b[39m)\n\u001b[1;32m     14\u001b[0m predicted_site_mig_type_data_dir \u001b[38;5;241m=\u001b[39m os\u001b[38;5;241m.\u001b[39mpath\u001b[38;5;241m.\u001b[39mjoin(prediction_dir, site, mig_type)\n\u001b[0;32m---> 16\u001b[0m \u001b[38;5;28;01mwith\u001b[39;00m \u001b[43mgzip\u001b[49m\u001b[38;5;241;43m.\u001b[39;49m\u001b[43mopen\u001b[49m\u001b[43m(\u001b[49m\u001b[43mos\u001b[49m\u001b[38;5;241;43m.\u001b[39;49m\u001b[43mpath\u001b[49m\u001b[38;5;241;43m.\u001b[39;49m\u001b[43mjoin\u001b[49m\u001b[43m(\u001b[49m\u001b[43mpredicted_site_mig_type_data_dir\u001b[49m\u001b[43m,\u001b[49m\u001b[43m \u001b[49m\u001b[38;5;124;43mf\u001b[39;49m\u001b[38;5;124;43m\"\u001b[39;49m\u001b[38;5;124;43mtree\u001b[39;49m\u001b[38;5;132;43;01m{\u001b[39;49;00m\u001b[43mtree_num\u001b[49m\u001b[38;5;132;43;01m}\u001b[39;49;00m\u001b[38;5;124;43m_seed\u001b[39;49m\u001b[38;5;132;43;01m{\u001b[39;49;00m\u001b[43mseed\u001b[49m\u001b[38;5;132;43;01m}\u001b[39;49;00m\u001b[38;5;124;43m_calibrate.pkl.gz\u001b[39;49m\u001b[38;5;124;43m\"\u001b[39;49m\u001b[43m)\u001b[49m\u001b[43m,\u001b[49m\u001b[43m \u001b[49m\u001b[38;5;124;43m\"\u001b[39;49m\u001b[38;5;124;43mrb\u001b[39;49m\u001b[38;5;124;43m\"\u001b[39;49m\u001b[43m)\u001b[49m \u001b[38;5;28;01mas\u001b[39;00m f:\n\u001b[1;32m     17\u001b[0m     pckl \u001b[38;5;241m=\u001b[39m pickle\u001b[38;5;241m.\u001b[39mload(f)\n\u001b[1;32m     18\u001b[0m Vs \u001b[38;5;241m=\u001b[39m pckl[OUT_LABElING_KEY]\n",
      "File \u001b[0;32m/lila/home/koyyald/mambaforge/envs/met/lib/python3.8/gzip.py:58\u001b[0m, in \u001b[0;36mopen\u001b[0;34m(filename, mode, compresslevel, encoding, errors, newline)\u001b[0m\n\u001b[1;32m     56\u001b[0m gz_mode \u001b[38;5;241m=\u001b[39m mode\u001b[38;5;241m.\u001b[39mreplace(\u001b[38;5;124m\"\u001b[39m\u001b[38;5;124mt\u001b[39m\u001b[38;5;124m\"\u001b[39m, \u001b[38;5;124m\"\u001b[39m\u001b[38;5;124m\"\u001b[39m)\n\u001b[1;32m     57\u001b[0m \u001b[38;5;28;01mif\u001b[39;00m \u001b[38;5;28misinstance\u001b[39m(filename, (\u001b[38;5;28mstr\u001b[39m, \u001b[38;5;28mbytes\u001b[39m, os\u001b[38;5;241m.\u001b[39mPathLike)):\n\u001b[0;32m---> 58\u001b[0m     binary_file \u001b[38;5;241m=\u001b[39m \u001b[43mGzipFile\u001b[49m\u001b[43m(\u001b[49m\u001b[43mfilename\u001b[49m\u001b[43m,\u001b[49m\u001b[43m \u001b[49m\u001b[43mgz_mode\u001b[49m\u001b[43m,\u001b[49m\u001b[43m \u001b[49m\u001b[43mcompresslevel\u001b[49m\u001b[43m)\u001b[49m\n\u001b[1;32m     59\u001b[0m \u001b[38;5;28;01melif\u001b[39;00m \u001b[38;5;28mhasattr\u001b[39m(filename, \u001b[38;5;124m\"\u001b[39m\u001b[38;5;124mread\u001b[39m\u001b[38;5;124m\"\u001b[39m) \u001b[38;5;129;01mor\u001b[39;00m \u001b[38;5;28mhasattr\u001b[39m(filename, \u001b[38;5;124m\"\u001b[39m\u001b[38;5;124mwrite\u001b[39m\u001b[38;5;124m\"\u001b[39m):\n\u001b[1;32m     60\u001b[0m     binary_file \u001b[38;5;241m=\u001b[39m GzipFile(\u001b[38;5;28;01mNone\u001b[39;00m, gz_mode, compresslevel, filename)\n",
      "File \u001b[0;32m/lila/home/koyyald/mambaforge/envs/met/lib/python3.8/gzip.py:173\u001b[0m, in \u001b[0;36mGzipFile.__init__\u001b[0;34m(self, filename, mode, compresslevel, fileobj, mtime)\u001b[0m\n\u001b[1;32m    171\u001b[0m     mode \u001b[38;5;241m+\u001b[39m\u001b[38;5;241m=\u001b[39m \u001b[38;5;124m'\u001b[39m\u001b[38;5;124mb\u001b[39m\u001b[38;5;124m'\u001b[39m\n\u001b[1;32m    172\u001b[0m \u001b[38;5;28;01mif\u001b[39;00m fileobj \u001b[38;5;129;01mis\u001b[39;00m \u001b[38;5;28;01mNone\u001b[39;00m:\n\u001b[0;32m--> 173\u001b[0m     fileobj \u001b[38;5;241m=\u001b[39m \u001b[38;5;28mself\u001b[39m\u001b[38;5;241m.\u001b[39mmyfileobj \u001b[38;5;241m=\u001b[39m \u001b[43mbuiltins\u001b[49m\u001b[38;5;241;43m.\u001b[39;49m\u001b[43mopen\u001b[49m\u001b[43m(\u001b[49m\u001b[43mfilename\u001b[49m\u001b[43m,\u001b[49m\u001b[43m \u001b[49m\u001b[43mmode\u001b[49m\u001b[43m \u001b[49m\u001b[38;5;129;43;01mor\u001b[39;49;00m\u001b[43m \u001b[49m\u001b[38;5;124;43m'\u001b[39;49m\u001b[38;5;124;43mrb\u001b[39;49m\u001b[38;5;124;43m'\u001b[39;49m\u001b[43m)\u001b[49m\n\u001b[1;32m    174\u001b[0m \u001b[38;5;28;01mif\u001b[39;00m filename \u001b[38;5;129;01mis\u001b[39;00m \u001b[38;5;28;01mNone\u001b[39;00m:\n\u001b[1;32m    175\u001b[0m     filename \u001b[38;5;241m=\u001b[39m \u001b[38;5;28mgetattr\u001b[39m(fileobj, \u001b[38;5;124m'\u001b[39m\u001b[38;5;124mname\u001b[39m\u001b[38;5;124m'\u001b[39m, \u001b[38;5;124m'\u001b[39m\u001b[38;5;124m'\u001b[39m)\n",
      "\u001b[0;31mFileNotFoundError\u001b[0m: [Errno 2] No such file or directory: '/data/morrisq/divyak/data/metient_prediction_results/predictions_batch_exp_bs1024_calibrate_wip_solvepoly_r1_multirun_07052024/m8/M/tree0_seed45_calibrate.pkl.gz'"
     ]
    }
   ],
   "source": [
    "from tqdm import tqdm\n",
    "import torch\n",
    "\n",
    "topk = 5 # how many of the top solutions to check for \n",
    "num_runs = 5\n",
    "\n",
    "sites = [\"m8\", \"m5\"]\n",
    "mig_types = [\"M\", \"mS\", \"R\", \"S\"]\n",
    "batch_sizes = [64, 256, 1024]\n",
    "\n",
    "print(f\"matching top {topk} solutions\")\n",
    "\n",
    "m5_bs_to_rank_to_percentages = {}\n",
    "m8_bs_to_rank_to_percentages = {}\n",
    "all_sites_bs_to_rank_to_percentages = {}\n",
    "\n",
    "sims_dir = os.path.join(REPO_DIR, \"data/machina_sims\")\n",
    "\n",
    "for bs in batch_sizes:\n",
    "    print(\"batch size:\", bs)\n",
    "    m5_bs_to_rank_to_percentages[bs] = {}\n",
    "    m8_bs_to_rank_to_percentages[bs] = {}\n",
    "    all_sites_bs_to_rank_to_percentages[bs] = {}\n",
    "    for site in sites:\n",
    "        for mig_type in mig_types:\n",
    "            # Get all seeds for mig_type + site combo\n",
    "            site_mig_type_dir = os.path.join(sims_dir, site, mig_type)\n",
    "            seeds = fnmatch.filter(os.listdir(site_mig_type_dir), 'clustering_observed_seed*.txt')\n",
    "            seeds = [s.replace(\".txt\", \"\").replace(\"clustering_observed_seed\", \"\") for s in seeds]\n",
    "            for seed in tqdm(seeds):\n",
    "                # Get all the clone trees for this seed\n",
    "                num_trees = get_num_mut_trees(os.path.join(sims_dir, f\"{site}_mut_trees\", f\"mut_trees_{mig_type}_seed{seed}.txt\"))\n",
    "                num_trees = 1\n",
    "                for tree_num in range(num_trees):\n",
    "                    # across all the runs for this mig_type + site + seed + clone tree combo, \n",
    "                    # get the union of all solutions\n",
    "                    solution_to_losses, solution_to_ranks = {}, {}\n",
    "                    run_num_to_solutions = {}\n",
    "                    for run in range(1,num_runs+1):\n",
    "                        Vs, As, losses = get_pckl_info(bs, run, site, mig_type, seed, tree_num, topk)\n",
    "                        run_num_to_solutions[run] = []\n",
    "                        print(site, mig_type, seed, \"tree\", tree_num, \"run\", run)\n",
    "                        for rank,(V,A,loss) in enumerate(zip(Vs, As, losses)):\n",
    "                            V = torch.tensor(V)\n",
    "                            A = torch.tensor(A)\n",
    "                            tree = LabeledTree(A, V)                            \n",
    "                            if tree not in solution_to_losses:\n",
    "                                solution_to_losses[tree] = []\n",
    "                                solution_to_ranks[tree] = []\n",
    "                            solution_to_losses[tree].append(loss)\n",
    "                            solution_to_ranks[tree].append(rank)\n",
    "                            run_num_to_solutions[run].append(tree)\n",
    "                    rank_to_percent_runs = get_rank_to_percent_runs(solution_to_losses, solution_to_ranks, run_num_to_solutions)\n",
    "                    #print(rank_to_percent_runs)\n",
    "                    bs_to_rank_to_percentages = m5_bs_to_rank_to_percentages if site == \"m5\" else m8_bs_to_rank_to_percentages\n",
    "                    for rank in rank_to_percent_runs:\n",
    "                        if rank not in bs_to_rank_to_percentages[bs]:\n",
    "                            bs_to_rank_to_percentages[bs][rank] = []\n",
    "                            all_sites_bs_to_rank_to_percentages[bs][rank] = []\n",
    "                        bs_to_rank_to_percentages[bs][rank].append(rank_to_percent_runs[rank])\n",
    "                        all_sites_bs_to_rank_to_percentages[bs][rank].append(rank_to_percent_runs[rank])\n",
    "\n"
   ]
  },
  {
   "cell_type": "code",
   "execution_count": null,
   "id": "05661194",
   "metadata": {
    "scrolled": true
   },
   "outputs": [],
   "source": [
    "import pandas as pd\n",
    "\n",
    "m8_data = []\n",
    "for bs in m8_bs_to_rank_to_percentages:\n",
    "    for rank in m8_bs_to_rank_to_percentages[bs]:\n",
    "        avg = 100*(sum(m8_bs_to_rank_to_percentages[bs][rank])/len(m8_bs_to_rank_to_percentages[bs][rank]))\n",
    "        m8_data.append([rank+1, f\"Metient-{bs*4}\", avg])\n",
    "m8_df = pd.DataFrame(m8_data, columns=[\"Rank\", \"Method\", \"% runs\"])\n",
    "m8_df"
   ]
  },
  {
   "cell_type": "code",
   "execution_count": null,
   "id": "bb268893",
   "metadata": {
    "scrolled": true
   },
   "outputs": [],
   "source": [
    "m5_data = []\n",
    "for bs in m5_bs_to_rank_to_percentages:\n",
    "    for rank in m5_bs_to_rank_to_percentages[bs]:\n",
    "        avg = 100*(sum(m5_bs_to_rank_to_percentages[bs][rank])/len(m5_bs_to_rank_to_percentages[bs][rank]))\n",
    "        m5_data.append([rank+1, f\"Metient-{bs*4}\", avg])\n",
    "m5_df = pd.DataFrame(m5_data, columns=[\"Rank\", \"Method\", \"% runs\"])\n",
    "m5_df"
   ]
  },
  {
   "cell_type": "code",
   "execution_count": null,
   "id": "22bcda83",
   "metadata": {},
   "outputs": [],
   "source": [
    "all_sites_data = []\n",
    "for bs in all_sites_bs_to_rank_to_percentages:\n",
    "    for rank in all_sites_bs_to_rank_to_percentages[bs]:\n",
    "        avg = 100*(sum(all_sites_bs_to_rank_to_percentages[bs][rank])/len(all_sites_bs_to_rank_to_percentages[bs][rank]))\n",
    "        all_sites_data.append([rank+1, f\"Metient-{bs*4}\", avg])\n",
    "all_sites_df = pd.DataFrame(all_sites_data, columns=[\"Rank\", \"Method\", \"% runs\"])\n",
    "all_sites_df"
   ]
  },
  {
   "cell_type": "code",
   "execution_count": null,
   "id": "cbf5eea8",
   "metadata": {},
   "outputs": [],
   "source": [
    "import seaborn as sns\n",
    "import matplotlib.pyplot as plt\n",
    "colors = sns.color_palette(\"crest\")\n",
    "colors = colors[:len(batch_sizes)]\n",
    "print(colors)\n",
    "sns.set_palette(sns.color_palette(colors))\n",
    "\n",
    "for name,df in zip([\"m5\", \"m8\"], [m5_df, m8_df]):\n",
    "    with sns.plotting_context(\"notebook\", font_scale=1.1):\n",
    "        g = sns.relplot(\n",
    "            data=df, x=\"Rank\", y=\"% runs\",\n",
    "            height=4, aspect=1.0, dashes=False, linewidth=2.5,\n",
    "            hue=\"Method\", style=\"Method\", kind=\"line\", legend=True,\n",
    "        )\n",
    "\n",
    "        (g.set_axis_labels(\"Rank of solution\", \"% of runs that solution is found\")\n",
    "          .set_titles(\"boop\")\n",
    "          .tight_layout(w_pad=0))\n",
    "        plt.xlim(1,16)\n",
    "        #sns.move_legend(g, \"upper right\")\n",
    "        plt.show()\n",
    "        \n",
    "\n",
    "        fig = g.fig\n",
    "        #out_name = (\"_\").join(y_labels[i].split(\" \") + x.split(\" \"))\n",
    "        fig.savefig(os.path.join(REPO_DIR, \"test/output_plots\", f\"{name}_percent_solns_found_{PARAMS}_{DATE}.png\"), dpi=600) \n"
   ]
  },
  {
   "cell_type": "code",
   "execution_count": null,
   "id": "819ecfa7",
   "metadata": {},
   "outputs": [],
   "source": [
    "import seaborn as sns\n",
    "import matplotlib.pyplot as plt\n",
    "colors = sns.color_palette(\"crest\")\n",
    "colors = colors[:len(batch_sizes)]\n",
    "print(colors)\n",
    "sns.set(style='ticks', font=\"Helvetica\", rc={'axes.labelsize': 10, 'xtick.labelsize': 8, 'ytick.labelsize': 8, 'axes.linewidth': 1.1})\n",
    "sns.set_palette(sns.color_palette(colors))\n",
    "plt.figure(figsize=(2, 2), dpi=200)\n",
    "\n",
    "with sns.plotting_context(\"notebook\", font_scale=1.2):\n",
    "    g = sns.relplot(\n",
    "        data=all_sites_df, x=\"Rank\", y=\"% runs\",\n",
    "        height=4, aspect=1.0, dashes=False, linewidth=2.5,\n",
    "        hue=\"Method\", style=\"Method\", kind=\"line\",  legend=False,\n",
    "    )\n",
    "\n",
    "    (g.set_axis_labels(\"Rank of solution\", \"% of runs that solution is found\")\n",
    "      .set_titles(\"boop\")\n",
    "      .tight_layout(w_pad=0))\n",
    "    plt.xlim(1,16)\n",
    "    plt.show()\n",
    "\n",
    "\n",
    "    fig = g.fig\n",
    "    fig.savefig(os.path.join(REPO_DIR, \"test/output_plots\", f\"all_sites_percent_solns_found_{PARAMS}_{DATE}.png\"), dpi=600) \n"
   ]
  },
  {
   "cell_type": "code",
   "execution_count": null,
   "id": "6b563146",
   "metadata": {},
   "outputs": [],
   "source": []
  }
 ],
 "metadata": {
  "kernelspec": {
   "display_name": "Python [conda env:mambaforge-met]",
   "language": "python",
   "name": "conda-env-mambaforge-met-py"
  },
  "language_info": {
   "codemirror_mode": {
    "name": "ipython",
    "version": 3
   },
   "file_extension": ".py",
   "mimetype": "text/x-python",
   "name": "python",
   "nbconvert_exporter": "python",
   "pygments_lexer": "ipython3",
   "version": "3.8.0"
  }
 },
 "nbformat": 4,
 "nbformat_minor": 5
}
