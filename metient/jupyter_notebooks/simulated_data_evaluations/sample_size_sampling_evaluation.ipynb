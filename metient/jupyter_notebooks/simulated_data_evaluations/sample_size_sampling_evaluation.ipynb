{
 "cells": [
  {
   "cell_type": "code",
   "execution_count": 1,
   "id": "4624fc1b",
   "metadata": {},
   "outputs": [
    {
     "data": {
      "text/plain": [
       "<Figure size 640x480 with 0 Axes>"
      ]
     },
     "metadata": {},
     "output_type": "display_data"
    }
   ],
   "source": [
    "#!/usr/bin/python\n",
    "'''\n",
    "Evaluate how well solutions match when run multiple times, with varying sample size\n",
    "'''\n",
    "import sys\n",
    "import os\n",
    "import fnmatch\n",
    "import numpy as np\n",
    "from metient.util.vertex_labeling_util import LabeledTree\n",
    "from metient.util.globals import *\n",
    "from metient.util import eval_util as eutil\n",
    "\n",
    "import re\n",
    "import pickle\n",
    "\n",
    "REPO_DIR = os.path.join(os.getcwd(), \"../../\")\n",
    "\n",
    "DATE = \"07052024\"\n",
    "PARAMS = \"calibrate_wip\"\n",
    "\n",
    "# plotting\n",
    "import pandas as pd\n",
    "import seaborn as sns\n",
    "import matplotlib.pyplot as plt\n",
    "sns.set(font_scale=1.5)\n",
    "\n",
    "sns.set_style(\"whitegrid\")\n",
    "sns.set_style(\"ticks\")\n",
    "sns.despine()\n",
    "from matplotlib import rcParams\n",
    "rcParams.update({'figure.autolayout': True})\n",
    "pc_map = {'mS':0, 'pS': 1, 'mM': 2, 'pM': 3, 'mR': 4, 'pR': 5}\n",
    "\n",
    "from statannot import add_stat_annotation\n"
   ]
  },
  {
   "cell_type": "code",
   "execution_count": 2,
   "id": "6319a26b",
   "metadata": {},
   "outputs": [],
   "source": [
    "import gzip\n",
    "\n",
    "metient_results_dir = '/data/morrisq/divyak/data/metient_prediction_results/'\n",
    "\n",
    "def get_num_mut_trees(mut_tree_fn):\n",
    "    with open(mut_tree_fn, 'r') as f:\n",
    "        # look for line w/ \"3 #trees\" as an example\n",
    "        for line in f:\n",
    "            if  \"#trees\" in line:\n",
    "                return int(line.strip().split()[0])    \n",
    "\n",
    "def get_pckl_info(bs, run, site, mig_type, seed, tree_num, topk):\n",
    "    prediction_dir = os.path.join(metient_results_dir, f'predictions_batch_exp_bs{bs}_{PARAMS}_r{run}_{DATE}')\n",
    "    predicted_site_mig_type_data_dir = os.path.join(prediction_dir, site, mig_type)\n",
    "    \n",
    "    with gzip.open(os.path.join(predicted_site_mig_type_data_dir, f\"tree{tree_num}_seed{seed}_calibrate.pkl.gz\"), \"rb\") as f:\n",
    "        pckl = pickle.load(f)\n",
    "    Vs = pckl[OUT_LABElING_KEY]\n",
    "    k = topk if len(Vs) >= topk else len(Vs)\n",
    "    Vs = Vs[:k]\n",
    "    As = pckl[OUT_ADJ_KEY][:k]\n",
    "    losses = pckl[OUT_LOSSES_KEY][:k]\n",
    "    return Vs, As, losses\n",
    "\n",
    "def get_rank_to_percent_runs(solution_to_losses, solution_to_ranks, run_num_to_solutions):\n",
    "    # get the avg loss across runs for each solution\n",
    "    for solution in solution_to_losses:\n",
    "        solution_to_losses[solution] = sum(solution_to_losses[solution])/len(solution_to_losses[solution])\n",
    "        solution_to_ranks[solution] = sum(solution_to_ranks[solution])/len(solution_to_ranks[solution])\n",
    "    solution_losses_list = [(k,v) for k,v in solution_to_losses.items()]\n",
    "    solution_ranks_list = [(k,v) for k,v in solution_to_ranks.items()]\n",
    "\n",
    "#     print(\"unsorted solution_losses_list\", solution_losses_list)\n",
    "#     print(\"unsorted solution_ranks_list\", solution_ranks_list)\n",
    "\n",
    "    solution_losses_list = sorted(solution_losses_list, key=lambda x: x[1])\n",
    "    solution_ranks_list = sorted(solution_ranks_list, key=lambda x: x[1])\n",
    "\n",
    "#     print(\"sorted solution_losses_list\", solution_losses_list)\n",
    "#     print(\"sorted solution_ranks_list\", solution_ranks_list)\n",
    "\n",
    "    rank_to_percent_runs = {}\n",
    "    # What % of runs get the solution as a function of the rank on the joined list?\n",
    "    #for rank, (soln,_) in enumerate(solution_losses_list):\n",
    "    for rank, (soln,_) in enumerate(solution_ranks_list):\n",
    "        rank_to_percent_runs[rank] = []\n",
    "        for run in run_num_to_solutions:\n",
    "            if soln in run_num_to_solutions[run]:\n",
    "                rank_to_percent_runs[rank].append(run)\n",
    "    print(rank_to_percent_runs)\n",
    "    rank_to_percent_runs = {rank:(len(rank_to_percent_runs[rank])/num_runs) for rank in rank_to_percent_runs}\n",
    "    return rank_to_percent_runs"
   ]
  },
  {
   "cell_type": "code",
   "execution_count": 3,
   "id": "e03ad41c",
   "metadata": {
    "scrolled": true
   },
   "outputs": [
    {
     "name": "stderr",
     "output_type": "stream",
     "text": [
      " 10%|█         | 1/10 [00:00<00:01,  8.01it/s]"
     ]
    },
    {
     "name": "stdout",
     "output_type": "stream",
     "text": [
      "matching top 5 solutions\n",
      "batch size: 64\n",
      "m8 M 45 tree 0 run 1\n",
      "m8 M 45 tree 0 run 2\n",
      "m8 M 45 tree 0 run 3\n",
      "m8 M 45 tree 0 run 4\n",
      "m8 M 45 tree 0 run 5\n",
      "{0: [1, 3], 1: [1, 2, 3, 4, 5], 2: [1, 2, 3, 4, 5], 3: [1], 4: [2, 4, 5], 5: [1, 2, 3], 6: [3, 4], 7: [4, 5], 8: [2]}\n",
      "m8 M 7 tree 0 run 1\n",
      "m8 M 7 tree 0 run 2\n"
     ]
    },
    {
     "name": "stderr",
     "output_type": "stream",
     "text": [
      "\r",
      " 20%|██        | 2/10 [00:00<00:01,  7.38it/s]"
     ]
    },
    {
     "name": "stdout",
     "output_type": "stream",
     "text": [
      "m8 M 7 tree 0 run 3\n",
      "m8 M 7 tree 0 run 4\n",
      "m8 M 7 tree 0 run 5\n",
      "{0: [1], 1: [2], 2: [3, 4, 5], 3: [1, 5], 4: [3, 4], 5: [1], 6: [2, 5], 7: [4], 8: [5], 9: [2, 3], 10: [2, 5], 11: [3], 12: [4], 13: [1, 2, 4], 14: [1], 15: [3]}\n",
      "m8 M 35 tree 0 run 1\n",
      "m8 M 35 tree 0 run 2\n",
      "m8 M 35 tree 0 run 3\n",
      "m8 M 35 tree 0 run 4\n",
      "m8 M 35 tree 0 run 5\n",
      "{0: [1], 1: [2, 3, 4, 5], 2: [1], 3: [2], 4: [3, 4], 5: [5], 6: [1], 7: [2, 3], 8: [4], 9: [5], 10: [2], 11: [3], 12: [4], 13: [4, 5], 14: [2], 15: [3], 16: [5]}\n",
      "m8 M 243 tree 0 run 1\n",
      "m8 M 243 tree 0 run 2\n"
     ]
    },
    {
     "name": "stderr",
     "output_type": "stream",
     "text": [
      "\r",
      " 40%|████      | 4/10 [00:00<00:00,  7.60it/s]"
     ]
    },
    {
     "name": "stdout",
     "output_type": "stream",
     "text": [
      "m8 M 243 tree 0 run 3\n",
      "m8 M 243 tree 0 run 4\n",
      "m8 M 243 tree 0 run 5\n",
      "{0: [1], 1: [3], 2: [4], 3: [5], 4: [2, 3], 5: [2], 6: [4], 7: [5], 8: [3], 9: [4], 10: [5], 11: [1, 2, 3, 4], 12: [1, 2], 13: [1], 14: [5], 15: [1], 16: [2], 17: [3, 4], 18: [5]}\n",
      "m8 M 216 tree 0 run 1\n",
      "m8 M 216 tree 0 run 2\n",
      "m8 M 216 tree 0 run 3\n",
      "m8 M 216 tree 0 run 4\n",
      "m8 M 216 tree 0 run 5\n"
     ]
    },
    {
     "name": "stderr",
     "output_type": "stream",
     "text": [
      "\r",
      " 50%|█████     | 5/10 [00:00<00:00,  7.90it/s]"
     ]
    },
    {
     "name": "stdout",
     "output_type": "stream",
     "text": [
      "{0: [3], 1: [1, 2, 3, 4, 5], 2: [1, 2, 3, 4, 5], 3: [1], 4: [1, 2, 3, 5], 5: [1, 3, 4, 5], 6: [2, 4, 5], 7: [2], 8: [4]}\n",
      "m8 M 239 tree 0 run 1\n",
      "m8 M 239 tree 0 run 2\n",
      "m8 M 239 tree 0 run 3\n",
      "m8 M 239 tree 0 run 4\n",
      "m8 M 239 tree 0 run 5\n",
      "{0: [1], 1: [2], 2: [3], 3: [4], 4: [5], 5: [4], 6: [1, 4], 7: [1, 2, 3, 4, 5], 8: [1, 2, 3, 5], 9: [1, 4, 5], 10: [2], 11: [2, 3, 5]}\n",
      "m8 M 19 tree 0 run 1\n",
      "m8 M 19 tree 0 run 2\n",
      "m8 M 19 tree 0 run 3\n",
      "m8 M 19 tree 0 run 4\n",
      "m8 M 19 tree 0 run 5\n"
     ]
    },
    {
     "name": "stderr",
     "output_type": "stream",
     "text": [
      " 80%|████████  | 8/10 [00:00<00:00,  8.64it/s]"
     ]
    },
    {
     "name": "stdout",
     "output_type": "stream",
     "text": [
      "{0: [1, 3, 4, 5], 1: [2], 2: [2], 3: [5], 4: [3, 5], 5: [1, 3, 4, 5], 6: [2], 7: [1, 3, 4], 8: [2], 9: [3], 10: [4], 11: [1, 4], 12: [1, 5], 13: [2]}\n",
      "m8 M 76 tree 0 run 1\n",
      "m8 M 76 tree 0 run 2\n",
      "m8 M 76 tree 0 run 3\n",
      "m8 M 76 tree 0 run 4\n",
      "m8 M 76 tree 0 run 5\n",
      "{0: [2, 3, 4, 5], 1: [1, 2], 2: [2], 3: [3], 4: [4], 5: [4, 5], 6: [3], 7: [1, 2, 3, 4, 5], 8: [1], 9: [5], 10: [1, 2, 5], 11: [1], 12: [3], 13: [4]}\n",
      "m8 M 172 tree 0 run 1\n",
      "m8 M 172 tree 0 run 2\n",
      "m8 M 172 tree 0 run 3\n",
      "m8 M 172 tree 0 run 4\n",
      "m8 M 172 tree 0 run 5\n",
      "{0: [2, 3, 4, 5], 1: [1], 2: [2, 5], 3: [3], 4: [1, 2, 3, 4, 5], 5: [1, 2, 4, 5], 6: [1, 4], 7: [3], 8: [1, 5], 9: [2], 10: [3], 11: [4]}\n"
     ]
    },
    {
     "name": "stderr",
     "output_type": "stream",
     "text": [
      "100%|██████████| 10/10 [00:01<00:00,  8.20it/s]\n",
      "  0%|          | 0/10 [00:00<?, ?it/s]"
     ]
    },
    {
     "name": "stdout",
     "output_type": "stream",
     "text": [
      "m8 M 241 tree 0 run 1\n",
      "m8 M 241 tree 0 run 2\n",
      "m8 M 241 tree 0 run 3\n",
      "m8 M 241 tree 0 run 4\n",
      "m8 M 241 tree 0 run 5\n",
      "{0: [2], 1: [3], 2: [4, 5], 3: [1, 5], 4: [1, 2, 3, 4], 5: [2], 6: [1, 5], 7: [2, 3, 4, 5], 8: [1, 3], 9: [2], 10: [1], 11: [3]}\n",
      "m8 mS 0 tree 0 run 1\n",
      "m8 mS 0 tree 0 run 2\n",
      "m8 mS 0 tree 0 run 3\n",
      "m8 mS 0 tree 0 run 4\n",
      "m8 mS 0 tree 0 run 5\n",
      "{0: [3], 1: [4], 2: [2, 3, 5], 3: [1, 5], 4: [1], 5: [2], 6: [2]}\n",
      "m8 mS 7 tree 0 run 1\n"
     ]
    },
    {
     "name": "stderr",
     "output_type": "stream",
     "text": [
      "\r",
      " 20%|██        | 2/10 [00:00<00:00, 13.96it/s]"
     ]
    },
    {
     "name": "stdout",
     "output_type": "stream",
     "text": [
      "m8 mS 7 tree 0 run 2\n",
      "m8 mS 7 tree 0 run 3\n",
      "m8 mS 7 tree 0 run 4\n",
      "m8 mS 7 tree 0 run 5\n",
      "{0: [1, 2, 3, 4, 5], 1: [1], 2: [4, 5], 3: [1, 2, 3, 4, 5], 4: [2, 3, 5], 5: [1, 4], 6: [3], 7: [2, 3, 5], 8: [1, 4], 9: [2]}\n",
      "m8 mS 4 tree 0 run 1\n",
      "m8 mS 4 tree 0 run 2\n",
      "m8 mS 4 tree 0 run 3\n",
      "m8 mS 4 tree 0 run 4\n",
      "m8 mS 4 tree 0 run 5\n",
      "{0: [1, 2, 3, 4], 1: [1, 2, 3], 2: [4, 5], 3: [1, 3, 4], 4: [2, 4], 5: [2, 3, 4]}\n",
      "m8 mS 9 tree 0 run 1\n",
      "m8 mS 9 tree 0 run 2\n"
     ]
    },
    {
     "name": "stderr",
     "output_type": "stream",
     "text": [
      "\r",
      " 40%|████      | 4/10 [00:00<00:00, 12.61it/s]"
     ]
    },
    {
     "name": "stdout",
     "output_type": "stream",
     "text": [
      "m8 mS 9 tree 0 run 3\n",
      "m8 mS 9 tree 0 run 4\n",
      "m8 mS 9 tree 0 run 5\n",
      "{0: [1, 2, 3, 4, 5], 1: [2, 3], 2: [1, 2, 3, 4], 3: [4, 5], 4: [1, 2, 4, 5], 5: [1, 5], 6: [3], 7: [1], 8: [2, 3], 9: [4, 5]}\n",
      "m8 mS 8 tree 0 run 1\n",
      "m8 mS 8 tree 0 run 2\n",
      "m8 mS 8 tree 0 run 3\n",
      "m8 mS 8 tree 0 run 4\n"
     ]
    },
    {
     "name": "stderr",
     "output_type": "stream",
     "text": [
      "\r",
      " 50%|█████     | 5/10 [00:00<00:00,  9.34it/s]"
     ]
    },
    {
     "name": "stdout",
     "output_type": "stream",
     "text": [
      "m8 mS 8 tree 0 run 5\n",
      "{0: [1, 2, 3, 4, 5], 1: [1, 4], 2: [2, 3], 3: [2, 3, 4, 5], 4: [5], 5: [1, 3], 6: [1], 7: [2], 8: [3], 9: [4, 5], 10: [2], 11: [4]}\n",
      "m8 mS 3 tree 0 run 1\n",
      "m8 mS 3 tree 0 run 2\n",
      "m8 mS 3 tree 0 run 3\n",
      "m8 mS 3 tree 0 run 4\n",
      "m8 mS 3 tree 0 run 5\n",
      "{0: [1, 2, 3, 4, 5], 1: [1, 2, 3, 4, 5], 2: [1, 3, 5], 3: [2, 4], 4: [2, 3, 4], 5: [1, 3], 6: [2, 5], 7: [4], 8: [5]}\n",
      "m8 mS 12 tree 0 run 1\n",
      "m8 mS 12 tree 0 run 2\n",
      "m8 mS 12 tree 0 run 3\n",
      "m8 mS 12 tree 0 run 4\n",
      "m8 mS 12 tree 0 run 5\n"
     ]
    },
    {
     "name": "stderr",
     "output_type": "stream",
     "text": [
      " 90%|█████████ | 9/10 [00:00<00:00, 10.94it/s]"
     ]
    },
    {
     "name": "stdout",
     "output_type": "stream",
     "text": [
      "{0: [1, 2, 3, 4, 5], 1: [1, 2, 3, 4, 5], 2: [4], 3: [1, 2, 3, 5], 4: [1, 2, 4], 5: [5], 6: [2, 3], 7: [1, 4], 8: [3], 9: [5]}\n",
      "m8 mS 10 tree 0 run 1\n",
      "m8 mS 10 tree 0 run 2\n",
      "m8 mS 10 tree 0 run 3\n",
      "m8 mS 10 tree 0 run 4\n",
      "m8 mS 10 tree 0 run 5\n",
      "{0: [1, 2, 3, 4, 5], 1: [2], 2: [4], 3: [5], 4: [1, 2], 5: [5], 6: [1, 2, 3, 4, 5], 7: [1, 4], 8: [3], 9: [3, 4, 5]}\n",
      "m8 mS 2 tree 0 run 1\n",
      "m8 mS 2 tree 0 run 2\n",
      "m8 mS 2 tree 0 run 3\n",
      "m8 mS 2 tree 0 run 4\n",
      "m8 mS 2 tree 0 run 5\n",
      "{0: [1, 2, 3], 1: [5], 2: [1], 3: [2], 4: [3, 5], 5: [1, 4], 6: [4, 5], 7: [1, 3], 8: [2], 9: [1, 4], 10: [2, 3, 4, 5], 11: [2, 4], 12: [3, 5]}\n",
      "m8 mS 5 tree 0 run 1\n"
     ]
    },
    {
     "name": "stderr",
     "output_type": "stream",
     "text": [
      "100%|██████████| 10/10 [00:00<00:00, 10.22it/s]\n",
      "  0%|          | 0/10 [00:00<?, ?it/s]"
     ]
    },
    {
     "name": "stdout",
     "output_type": "stream",
     "text": [
      "m8 mS 5 tree 0 run 2\n",
      "m8 mS 5 tree 0 run 3\n",
      "m8 mS 5 tree 0 run 4\n",
      "m8 mS 5 tree 0 run 5\n",
      "{0: [1, 2, 3, 4, 5], 1: [2, 4], 2: [1, 2, 4, 5], 3: [3], 4: [1, 2, 4], 5: [1, 2, 3, 4, 5], 6: [3], 7: [5], 8: [1], 9: [3], 10: [5]}\n",
      "m8 R 10157 tree 0 run 1\n",
      "m8 R 10157 tree 0 run 2\n",
      "m8 R 10157 tree 0 run 3\n"
     ]
    },
    {
     "name": "stderr",
     "output_type": "stream",
     "text": [
      " 20%|██        | 2/10 [00:00<00:01,  6.37it/s]"
     ]
    },
    {
     "name": "stdout",
     "output_type": "stream",
     "text": [
      "m8 R 10157 tree 0 run 4\n",
      "m8 R 10157 tree 0 run 5\n",
      "{0: [3], 1: [4, 5], 2: [1, 5], 3: [2, 3], 4: [1, 2], 5: [4], 6: [1, 2], 7: [3], 8: [4], 9: [2], 10: [4], 11: [5], 12: [1, 3, 4, 5], 13: [1, 2], 14: [3], 15: [5]}\n",
      "m8 R 1070 tree 0 run 1\n",
      "m8 R 1070 tree 0 run 2\n",
      "m8 R 1070 tree 0 run 3\n",
      "m8 R 1070 tree 0 run 4\n",
      "m8 R 1070 tree 0 run 5\n",
      "{0: [1, 2, 3, 4, 5], 1: [1], 2: [3, 5], 3: [2, 3, 4], 4: [1, 4], 5: [2], 6: [5], 7: [1], 8: [2], 9: [3], 10: [4], 11: [5], 12: [1], 13: [2], 14: [3], 15: [4], 16: [5]}\n",
      "m8 R 9 tree 0 run 1\n"
     ]
    },
    {
     "name": "stderr",
     "output_type": "stream",
     "text": [
      "\r",
      " 30%|███       | 3/10 [00:00<00:00,  7.04it/s]"
     ]
    },
    {
     "name": "stdout",
     "output_type": "stream",
     "text": [
      "m8 R 9 tree 0 run 2\n",
      "m8 R 9 tree 0 run 3\n",
      "m8 R 9 tree 0 run 4\n",
      "m8 R 9 tree 0 run 5\n",
      "{0: [1, 2, 3, 4, 5], 1: [1, 2, 3, 4, 5], 2: [1, 3, 4], 3: [5], 4: [2, 4], 5: [1], 6: [2, 3], 7: [5], 8: [1, 3, 5], 9: [2], 10: [4]}\n",
      "m8 R 905 tree 0 run 1\n",
      "m8 R 905 tree 0 run 2\n",
      "m8 R 905 tree 0 run 3\n",
      "m8 R 905 tree 0 run 4\n",
      "m8 R 905 tree 0 run 5\n",
      "{0: [1, 2], 1: [4], 2: [1, 2, 3, 4, 5], 3: [5], 4: [1], 5: [1, 2, 3, 4, 5], 6: [3, 5], 7: [2], 8: [1, 4, 5], 9: [2], 10: [4]}\n",
      "m8 R 10046 tree 0 run 1\n",
      "m8 R 10046 tree 0 run 2\n"
     ]
    },
    {
     "name": "stderr",
     "output_type": "stream",
     "text": [
      " 60%|██████    | 6/10 [00:00<00:00,  7.95it/s]"
     ]
    },
    {
     "name": "stdout",
     "output_type": "stream",
     "text": [
      "m8 R 10046 tree 0 run 3\n",
      "m8 R 10046 tree 0 run 4\n",
      "m8 R 10046 tree 0 run 5\n",
      "{0: [1, 2, 3, 4, 5], 1: [1], 2: [2], 3: [3, 5], 4: [2, 3, 4], 5: [1], 6: [5], 7: [4, 5], 8: [1], 9: [3], 10: [2, 3, 4, 5], 11: [1], 12: [2], 13: [4]}\n",
      "m8 R 394 tree 0 run 1\n",
      "m8 R 394 tree 0 run 2\n",
      "m8 R 394 tree 0 run 3\n",
      "m8 R 394 tree 0 run 4\n",
      "m8 R 394 tree 0 run 5\n",
      "{0: [1], 1: [2, 3, 4], 2: [5], 3: [1], 4: [2], 5: [3], 6: [4], 7: [5], 8: [1], 9: [2], 10: [3], 11: [5], 12: [4, 5], 13: [1], 14: [2], 15: [3], 16: [4, 5], 17: [1, 2], 18: [3], 19: [4]}\n",
      "m8 R 981 tree 0 run 1\n",
      "m8 R 981 tree 0 run 2\n",
      "m8 R 981 tree 0 run 3\n"
     ]
    },
    {
     "name": "stderr",
     "output_type": "stream",
     "text": [
      "\r",
      " 80%|████████  | 8/10 [00:00<00:00,  8.75it/s]"
     ]
    },
    {
     "name": "stdout",
     "output_type": "stream",
     "text": [
      "m8 R 981 tree 0 run 4\n",
      "m8 R 981 tree 0 run 5\n",
      "{0: [1], 1: [2, 3, 5], 2: [3, 4], 3: [1], 4: [2], 5: [5], 6: [2, 4], 7: [1], 8: [3], 9: [4], 10: [2], 11: [3], 12: [4], 13: [5], 14: [1, 2, 3, 5], 15: [1], 16: [5]}\n",
      "m8 R 383 tree 0 run 1\n",
      "m8 R 383 tree 0 run 2\n",
      "m8 R 383 tree 0 run 3\n",
      "m8 R 383 tree 0 run 4\n",
      "m8 R 383 tree 0 run 5\n",
      "{0: [2, 4, 5], 1: [3], 2: [1, 5], 3: [3], 4: [1, 2], 5: [4, 5], 6: [2, 5], 7: [3], 8: [1, 2, 4], 9: [1], 10: [3], 11: [4, 5], 12: [1], 13: [2], 14: [3], 15: [4]}\n",
      "m8 R 30342 tree 0 run 1\n",
      "m8 R 30342 tree 0 run 2\n",
      "m8 R 30342 tree 0 run 3\n"
     ]
    },
    {
     "name": "stderr",
     "output_type": "stream",
     "text": [
      "100%|██████████| 10/10 [00:01<00:00,  9.06it/s]\n",
      "  0%|          | 0/10 [00:00<?, ?it/s]"
     ]
    },
    {
     "name": "stdout",
     "output_type": "stream",
     "text": [
      "m8 R 30342 tree 0 run 4\n",
      "m8 R 30342 tree 0 run 5\n",
      "{0: [1, 2, 3, 4, 5], 1: [1], 2: [4], 3: [5], 4: [1, 2, 3, 4, 5], 5: [4], 6: [2, 3], 7: [3, 5], 8: [1], 9: [2, 3], 10: [1], 11: [2, 5], 12: [4]}\n",
      "m8 R 157 tree 0 run 1\n",
      "m8 R 157 tree 0 run 2\n",
      "m8 R 157 tree 0 run 3\n",
      "m8 R 157 tree 0 run 4\n",
      "m8 R 157 tree 0 run 5\n",
      "{0: [1, 2, 3, 4], 1: [1, 2, 4, 5], 2: [2, 3, 4, 5], 3: [1], 4: [3], 5: [2, 3, 4, 5], 6: [1], 7: [2, 4, 5], 8: [1], 9: [3], 10: [5]}\n",
      "m8 S 0 tree 0 run 1\n"
     ]
    },
    {
     "name": "stderr",
     "output_type": "stream",
     "text": [
      " 20%|██        | 2/10 [00:00<00:01,  6.96it/s]"
     ]
    },
    {
     "name": "stdout",
     "output_type": "stream",
     "text": [
      "m8 S 0 tree 0 run 2\n",
      "m8 S 0 tree 0 run 3\n",
      "m8 S 0 tree 0 run 4\n",
      "m8 S 0 tree 0 run 5\n",
      "{0: [2], 1: [5], 2: [1, 2, 3, 4, 5], 3: [1, 2, 3, 4, 5], 4: [1], 5: [3], 6: [4], 7: [1], 8: [2], 9: [3], 10: [4], 11: [5], 12: [1], 13: [2], 14: [3], 15: [4], 16: [5]}\n",
      "m8 S 35 tree 0 run 1\n",
      "m8 S 35 tree 0 run 2\n",
      "m8 S 35 tree 0 run 3\n",
      "m8 S 35 tree 0 run 4\n",
      "m8 S 35 tree 0 run 5\n",
      "{0: [1, 2, 3, 4, 5], 1: [1], 2: [2, 4], 3: [4, 5], 4: [1, 2, 3, 4, 5], 5: [1], 6: [2], 7: [3], 8: [5], 9: [1, 3, 5], 10: [2], 11: [3], 12: [4]}\n"
     ]
    },
    {
     "name": "stderr",
     "output_type": "stream",
     "text": [
      "\r",
      " 30%|███       | 3/10 [00:00<00:01,  6.28it/s]"
     ]
    },
    {
     "name": "stdout",
     "output_type": "stream",
     "text": [
      "m8 S 37 tree 0 run 1\n",
      "m8 S 37 tree 0 run 2\n",
      "m8 S 37 tree 0 run 3\n",
      "m8 S 37 tree 0 run 4\n",
      "m8 S 37 tree 0 run 5\n",
      "{0: [1, 2, 3, 4, 5], 1: [3, 4, 5], 2: [1, 3], 3: [2], 4: [5], 5: [2, 3, 4, 5], 6: [1, 4], 7: [1, 2, 3, 5], 8: [1], 9: [2], 10: [4]}\n",
      "m8 S 31 tree 0 run 1\n",
      "m8 S 31 tree 0 run 2\n"
     ]
    },
    {
     "name": "stderr",
     "output_type": "stream",
     "text": [
      " 50%|█████     | 5/10 [00:00<00:00,  7.36it/s]"
     ]
    },
    {
     "name": "stdout",
     "output_type": "stream",
     "text": [
      "m8 S 31 tree 0 run 3\n",
      "m8 S 31 tree 0 run 4\n",
      "m8 S 31 tree 0 run 5\n",
      "{0: [1, 2, 3, 4], 1: [5], 2: [1], 3: [3], 4: [4], 5: [2, 3], 6: [4], 7: [1, 2, 3, 4, 5], 8: [1, 2, 5], 9: [3], 10: [4], 11: [5], 12: [1, 5], 13: [2]}\n",
      "m8 S 69 tree 0 run 1\n",
      "m8 S 69 tree 0 run 2\n",
      "m8 S 69 tree 0 run 3\n",
      "m8 S 69 tree 0 run 4\n",
      "m8 S 69 tree 0 run 5\n",
      "{0: [1, 2, 3, 4, 5], 1: [2], 2: [3], 3: [1, 2, 4, 5], 4: [1, 3, 4], 5: [5], 6: [2], 7: [3], 8: [4], 9: [5], 10: [1, 5], 11: [1], 12: [2], 13: [3], 14: [4]}\n",
      "m8 S 54 tree 0 run 1\n",
      "m8 S 54 tree 0 run 2\n",
      "m8 S 54 tree 0 run 3\n",
      "m8 S 54 tree 0 run 4\n",
      "m8 S 54 tree 0 run 5\n",
      "{0: [1], 1: [2, 3, 4, 5], 2: [1], 3: [1, 2, 3, 4, 5], 4: [1], 5: [3, 5], 6: [1, 2, 4]}\n"
     ]
    },
    {
     "name": "stderr",
     "output_type": "stream",
     "text": [
      "\r",
      " 70%|███████   | 7/10 [00:00<00:00,  8.37it/s]"
     ]
    },
    {
     "name": "stdout",
     "output_type": "stream",
     "text": [
      "m8 S 12 tree 0 run 1\n",
      "m8 S 12 tree 0 run 2\n",
      "m8 S 12 tree 0 run 3\n",
      "m8 S 12 tree 0 run 4\n",
      "m8 S 12 tree 0 run 5\n",
      "{0: [1, 2, 3, 4, 5], 1: [1], 2: [2], 3: [3, 5], 4: [3], 5: [4], 6: [1, 2, 3, 4, 5], 7: [1, 3], 8: [2], 9: [1, 4, 5], 10: [2, 4], 11: [5]}\n",
      "m8 S 23 tree 0 run 1\n",
      "m8 S 23 tree 0 run 2\n",
      "m8 S 23 tree 0 run 3\n"
     ]
    },
    {
     "name": "stderr",
     "output_type": "stream",
     "text": [
      " 90%|█████████ | 9/10 [00:01<00:00,  8.08it/s]"
     ]
    },
    {
     "name": "stdout",
     "output_type": "stream",
     "text": [
      "m8 S 23 tree 0 run 4\n",
      "m8 S 23 tree 0 run 5\n",
      "{0: [1, 2, 3, 4, 5], 1: [5], 2: [1, 2, 3, 4, 5], 3: [1, 2, 3, 4, 5], 4: [1, 2, 3, 4], 5: [1, 2, 3], 6: [4], 7: [5]}\n",
      "m8 S 2 tree 0 run 1\n",
      "m8 S 2 tree 0 run 2\n",
      "m8 S 2 tree 0 run 3\n",
      "m8 S 2 tree 0 run 4\n",
      "m8 S 2 tree 0 run 5\n",
      "{0: [1], 1: [2], 2: [3], 3: [4], 4: [1], 5: [1, 3, 5], 6: [2], 7: [5], 8: [2], 9: [5], 10: [2, 3, 4, 5], 11: [1], 12: [4, 5], 13: [2, 3], 14: [3, 4], 15: [1], 16: [4]}\n",
      "m8 S 5 tree 0 run 1\n"
     ]
    },
    {
     "name": "stderr",
     "output_type": "stream",
     "text": [
      "100%|██████████| 10/10 [00:01<00:00,  8.16it/s]\n",
      "  0%|          | 0/10 [00:00<?, ?it/s]"
     ]
    },
    {
     "name": "stdout",
     "output_type": "stream",
     "text": [
      "m8 S 5 tree 0 run 2\n",
      "m8 S 5 tree 0 run 3\n",
      "m8 S 5 tree 0 run 4\n",
      "m8 S 5 tree 0 run 5\n",
      "{0: [1, 2, 3, 4, 5], 1: [1, 5], 2: [1, 3], 3: [1, 2, 3, 4], 4: [4], 5: [5], 6: [2], 7: [4], 8: [5], 9: [1, 2, 3, 4, 5], 10: [2], 11: [3]}\n",
      "m5 M 209 tree 0 run 1\n",
      "m5 M 209 tree 0 run 2\n",
      "m5 M 209 tree 0 run 3\n",
      "m5 M 209 tree 0 run 4\n",
      "m5 M 209 tree 0 run 5\n",
      "{0: [1, 2, 3, 4, 5], 1: [1, 2, 3, 4, 5], 2: [1, 2, 3], 3: [1, 2, 3, 4, 5], 4: [1, 2, 4, 5], 5: [3, 5], 6: [4]}\n",
      "m5 M 534 tree 0 run 1\n",
      "m5 M 534 tree 0 run 2\n"
     ]
    },
    {
     "name": "stderr",
     "output_type": "stream",
     "text": [
      " 50%|█████     | 5/10 [00:00<00:00, 13.13it/s]"
     ]
    },
    {
     "name": "stdout",
     "output_type": "stream",
     "text": [
      "m5 M 534 tree 0 run 3\n",
      "m5 M 534 tree 0 run 4\n",
      "m5 M 534 tree 0 run 5\n",
      "{0: [1, 2, 3, 4, 5], 1: [1, 2, 3, 4, 5], 2: [1], 3: [4], 4: [5], 5: [1, 2, 3, 5], 6: [2], 7: [3], 8: [5], 9: [1, 4], 10: [2, 3, 4]}\n",
      "m5 M 694 tree 0 run 1\n",
      "m5 M 694 tree 0 run 2\n",
      "m5 M 694 tree 0 run 3\n",
      "m5 M 694 tree 0 run 4\n",
      "m5 M 694 tree 0 run 5\n",
      "{0: [1, 2, 3, 4, 5], 1: [1, 2, 3, 4, 5], 2: [1, 3, 4]}\n",
      "m5 M 512 tree 0 run 1\n",
      "m5 M 512 tree 0 run 2\n",
      "m5 M 512 tree 0 run 3\n",
      "m5 M 512 tree 0 run 4\n",
      "m5 M 512 tree 0 run 5\n",
      "{0: [4], 1: [1, 2, 3, 4, 5], 2: [1, 2, 3, 4, 5], 3: [3], 4: [1, 2, 3, 5], 5: [1, 2, 3, 5], 6: [4], 7: [1, 2, 5]}\n",
      "m5 M 545 tree 0 run 1\n",
      "m5 M 545 tree 0 run 2\n",
      "m5 M 545 tree 0 run 3\n",
      "m5 M 545 tree 0 run 4\n",
      "m5 M 545 tree 0 run 5\n",
      "{0: [1, 2, 3, 4, 5], 1: [1, 2, 3, 4, 5], 2: [1, 2, 3, 4, 5], 3: [1], 4: [5], 5: [1, 2, 4], 6: [2, 3, 4], 7: [3], 8: [5]}\n",
      "m5 M 865 tree 0 run 1\n",
      "m5 M 865 tree 0 run 2\n",
      "m5 M 865 tree 0 run 3\n"
     ]
    },
    {
     "name": "stderr",
     "output_type": "stream",
     "text": [
      "100%|██████████| 10/10 [00:00<00:00, 18.86it/s]\n",
      "  0%|          | 0/10 [00:00<?, ?it/s]"
     ]
    },
    {
     "name": "stdout",
     "output_type": "stream",
     "text": [
      "m5 M 865 tree 0 run 4\n",
      "m5 M 865 tree 0 run 5\n",
      "{0: [2, 3, 4], 1: [1, 2, 3, 5], 2: [4], 3: [1, 2, 5], 4: [1], 5: [5], 6: [1], 7: [2, 3], 8: [2, 3]}\n",
      "m5 M 907 tree 0 run 1\n",
      "m5 M 907 tree 0 run 2\n",
      "m5 M 907 tree 0 run 3\n",
      "m5 M 907 tree 0 run 4\n",
      "m5 M 907 tree 0 run 5\n",
      "{0: [1, 2, 3, 4, 5], 1: [1, 2, 3, 4, 5], 2: [1], 3: [3, 4], 4: [1, 2, 4, 5], 5: [3], 6: [1]}\n",
      "m5 M 76 tree 0 run 1\n",
      "m5 M 76 tree 0 run 2\n",
      "m5 M 76 tree 0 run 3\n",
      "m5 M 76 tree 0 run 4\n",
      "m5 M 76 tree 0 run 5\n",
      "{0: [1, 2, 3, 4, 5], 1: [1, 2, 4, 5], 2: [1, 2, 3, 4, 5], 3: [2, 3, 4], 4: [1, 2, 3, 4, 5], 5: [1, 3, 5]}\n",
      "m5 M 565 tree 0 run 1\n",
      "m5 M 565 tree 0 run 2\n",
      "m5 M 565 tree 0 run 3\n",
      "m5 M 565 tree 0 run 4\n",
      "m5 M 565 tree 0 run 5\n",
      "{0: [1, 2, 3, 4, 5], 1: [1, 3, 4, 5], 2: [1, 2, 3, 4, 5], 3: [1, 3], 4: [1, 2, 3, 4, 5], 5: [2, 4, 5], 6: [2]}\n",
      "m5 M 473 tree 0 run 1\n",
      "m5 M 473 tree 0 run 2\n",
      "m5 M 473 tree 0 run 3\n",
      "m5 M 473 tree 0 run 4\n",
      "m5 M 473 tree 0 run 5\n",
      "{0: [1, 2, 4], 1: [5], 2: [1, 2, 3, 4, 5], 3: [3], 4: [5], 5: [1, 2, 3, 4, 5], 6: [1, 2, 3, 4, 5], 7: [1, 4], 8: [2], 9: [3]}\n",
      "m5 mS 0 tree 0 run 1\n"
     ]
    },
    {
     "name": "stderr",
     "output_type": "stream",
     "text": [
      "\r",
      " 20%|██        | 2/10 [00:00<00:00, 16.19it/s]"
     ]
    },
    {
     "name": "stdout",
     "output_type": "stream",
     "text": [
      "m5 mS 0 tree 0 run 2\n",
      "m5 mS 0 tree 0 run 3\n",
      "m5 mS 0 tree 0 run 4\n",
      "m5 mS 0 tree 0 run 5\n",
      "{0: [1, 2, 3, 4, 5], 1: [1, 2, 3, 4, 5], 2: [1, 2, 3, 4, 5], 3: [1, 2, 3, 4, 5]}\n",
      "m5 mS 7 tree 0 run 1\n",
      "m5 mS 7 tree 0 run 2\n",
      "m5 mS 7 tree 0 run 3\n",
      "m5 mS 7 tree 0 run 4\n",
      "m5 mS 7 tree 0 run 5\n",
      "{0: [1, 2, 3, 4, 5], 1: [1, 2, 3, 4, 5], 2: [1, 2, 3, 4, 5], 3: [1, 2, 3, 4, 5], 4: [1], 5: [2, 3, 4, 5]}\n",
      "m5 mS 4 tree 0 run 1\n",
      "m5 mS 4 tree 0 run 2\n",
      "m5 mS 4 tree 0 run 3\n",
      "m5 mS 4 tree 0 run 4\n",
      "m5 mS 4 tree 0 run 5\n",
      "{0: [1, 2, 3, 4, 5]}\n",
      "m5 mS 9 tree 0 run 1\n",
      "m5 mS 9 tree 0 run 2\n",
      "m5 mS 9 tree 0 run 3\n",
      "m5 mS 9 tree 0 run 4\n",
      "m5 mS 9 tree 0 run 5\n",
      "{0: [1, 2, 3, 4, 5], 1: [2, 3, 5]}\n",
      "m5 mS 8 tree 0 run 1\n",
      "m5 mS 8 tree 0 run 2\n",
      "m5 mS 8 tree 0 run 3\n",
      "m5 mS 8 tree 0 run 4\n"
     ]
    },
    {
     "name": "stderr",
     "output_type": "stream",
     "text": [
      "100%|██████████| 10/10 [00:00<00:00, 34.20it/s]\n",
      "  0%|          | 0/10 [00:00<?, ?it/s]"
     ]
    },
    {
     "name": "stdout",
     "output_type": "stream",
     "text": [
      "m5 mS 8 tree 0 run 5\n",
      "{0: [1, 2, 3, 4, 5], 1: [1, 3, 4], 2: [1, 3, 4, 5], 3: [2], 4: [4, 5], 5: [2], 6: [1, 3, 4, 5], 7: [1, 2, 3, 5], 8: [2]}\n",
      "m5 mS 3 tree 0 run 1\n",
      "m5 mS 3 tree 0 run 2\n",
      "m5 mS 3 tree 0 run 3\n",
      "m5 mS 3 tree 0 run 4\n",
      "m5 mS 3 tree 0 run 5\n",
      "{0: [1, 2, 3, 4, 5], 1: [1, 2, 3, 4, 5], 2: [1, 2, 3, 4, 5], 3: [1, 2, 3, 4, 5]}\n",
      "m5 mS 12 tree 0 run 1\n",
      "m5 mS 12 tree 0 run 2\n",
      "m5 mS 12 tree 0 run 3\n",
      "m5 mS 12 tree 0 run 4\n",
      "m5 mS 12 tree 0 run 5\n",
      "{0: [1, 2, 3, 4, 5]}\n",
      "m5 mS 10 tree 0 run 1\n",
      "m5 mS 10 tree 0 run 2\n",
      "m5 mS 10 tree 0 run 3\n",
      "m5 mS 10 tree 0 run 4\n",
      "m5 mS 10 tree 0 run 5\n",
      "{0: [1, 2, 3, 4, 5], 1: [1], 2: [2, 3, 4], 3: [1, 2, 3, 4, 5], 4: [1, 2, 4, 5], 5: [1, 5], 6: [5]}\n",
      "m5 mS 2 tree 0 run 1\n",
      "m5 mS 2 tree 0 run 2\n",
      "m5 mS 2 tree 0 run 3\n",
      "m5 mS 2 tree 0 run 4\n",
      "m5 mS 2 tree 0 run 5\n",
      "{0: [1, 2, 3, 4, 5], 1: [1, 2, 3, 4, 5], 2: [1, 3, 4, 5], 3: [2], 4: [1], 5: [4, 5], 6: [2, 3, 5]}\n",
      "m5 mS 5 tree 0 run 1\n",
      "m5 mS 5 tree 0 run 2\n",
      "m5 mS 5 tree 0 run 3\n",
      "m5 mS 5 tree 0 run 4\n",
      "m5 mS 5 tree 0 run 5\n",
      "{0: [1, 2, 3, 4, 5], 1: [1, 2, 3, 4, 5]}\n",
      "m5 R 571 tree 0 run 1\n",
      "m5 R 571 tree 0 run 2\n",
      "m5 R 571 tree 0 run 3\n",
      "m5 R 571 tree 0 run 4\n",
      "m5 R 571 tree 0 run 5\n",
      "{0: [1, 2, 3, 4, 5], 1: [1, 2, 3, 4, 5], 2: [1, 2, 3], 3: [3, 5]}\n",
      "m5 R 1140 tree 0 run 1\n",
      "m5 R 1140 tree 0 run 2\n",
      "m5 R 1140 tree 0 run 3\n",
      "m5 R 1140 tree 0 run 4\n",
      "m5 R 1140 tree 0 run 5\n",
      "{0: [1, 2, 3, 4, 5], 1: [1, 4, 5], 2: [1, 3, 4, 5], 3: [2], 4: [1, 2, 3, 4, 5], 5: [4, 5], 6: [1, 2, 3], 7: [2, 3]}\n",
      "m5 R 538 tree 0 run 1\n",
      "m5 R 538 tree 0 run 2\n",
      "m5 R 538 tree 0 run 3\n",
      "m5 R 538 tree 0 run 4\n",
      "m5 R 538 tree 0 run 5\n",
      "{0: [1, 2, 3, 4, 5], 1: [1, 4], 2: [1, 2, 3], 3: [4]}\n",
      "m5 R 981 tree 0 run 1\n",
      "m5 R 981 tree 0 run 2\n",
      "m5 R 981 tree 0 run 3\n",
      "m5 R 981 tree 0 run 4\n",
      "m5 R 981 tree 0 run 5\n",
      "{0: [1, 2, 3, 4, 5], 1: [1, 2, 3], 2: [4, 5], 3: [2], 4: [1, 2, 3, 4, 5], 5: [1]}\n",
      "m5 R 2155 tree 0 run 1\n",
      "m5 R 2155 tree 0 run 2\n",
      "m5 R 2155 tree 0 run 3\n",
      "m5 R 2155 tree 0 run 4\n"
     ]
    },
    {
     "name": "stderr",
     "output_type": "stream",
     "text": [
      " 70%|███████   | 7/10 [00:00<00:00, 26.12it/s]"
     ]
    },
    {
     "name": "stdout",
     "output_type": "stream",
     "text": [
      "m5 R 2155 tree 0 run 5\n",
      "{0: [1, 2, 3, 4, 5], 1: [1, 2, 3, 4, 5], 2: [1], 3: [4], 4: [1, 2, 3, 4, 5], 5: [2], 6: [5], 7: [2, 3], 8: [1], 9: [3], 10: [4], 11: [5]}\n",
      "m5 R 950 tree 0 run 1\n",
      "m5 R 950 tree 0 run 2\n",
      "m5 R 950 tree 0 run 3\n",
      "m5 R 950 tree 0 run 4\n",
      "m5 R 950 tree 0 run 5\n",
      "{0: [1, 2, 3, 4, 5], 1: [1, 2, 3, 4, 5], 2: [2], 3: [1, 2, 3, 4, 5], 4: [1, 3], 5: [4], 6: [5], 7: [2], 8: [5]}\n",
      "m5 R 247 tree 0 run 1\n",
      "m5 R 247 tree 0 run 2\n",
      "m5 R 247 tree 0 run 3\n",
      "m5 R 247 tree 0 run 4\n",
      "m5 R 247 tree 0 run 5\n",
      "{0: [1, 2, 3, 4, 5], 1: [2, 3], 2: [4], 3: [5], 4: [1, 3], 5: [1, 2, 4, 5], 6: [2], 7: [3, 4], 8: [5], 9: [1, 3, 5], 10: [1], 11: [2], 12: [4]}\n",
      "m5 R 955 tree 0 run 1\n",
      "m5 R 955 tree 0 run 2\n",
      "m5 R 955 tree 0 run 3\n",
      "m5 R 955 tree 0 run 4\n",
      "m5 R 955 tree 0 run 5\n",
      "{0: [2, 3, 4, 5], 1: [1, 3, 4], 2: [1, 2], 3: [2], 4: [3], 5: [4], 6: [4, 5], 7: [5], 8: [1, 3, 4, 5], 9: [5]}\n",
      "m5 R 518 tree 0 run 1\n",
      "m5 R 518 tree 0 run 2\n",
      "m5 R 518 tree 0 run 3\n",
      "m5 R 518 tree 0 run 4\n",
      "m5 R 518 tree 0 run 5\n",
      "{0: [1, 2, 3, 4, 5], 1: [2, 4], 2: [1, 2, 3, 4, 5], 3: [3], 4: [5], 5: [4]}\n",
      "m5 R 17 tree 0 run 1\n",
      "m5 R 17 tree 0 run 2\n",
      "m5 R 17 tree 0 run 3\n"
     ]
    },
    {
     "name": "stderr",
     "output_type": "stream",
     "text": [
      "100%|██████████| 10/10 [00:00<00:00, 26.05it/s]\n",
      " 30%|███       | 3/10 [00:00<00:00, 26.78it/s]"
     ]
    },
    {
     "name": "stdout",
     "output_type": "stream",
     "text": [
      "m5 R 17 tree 0 run 4\n",
      "m5 R 17 tree 0 run 5\n",
      "{0: [1, 2, 3, 4, 5], 1: [4], 2: [5], 3: [1, 2, 3, 4, 5], 4: [2, 3, 4], 5: [1, 5], 6: [1], 7: [2], 8: [3, 5], 9: [1], 10: [2], 11: [3], 12: [4]}\n",
      "m5 S 49 tree 0 run 1\n",
      "m5 S 49 tree 0 run 2\n",
      "m5 S 49 tree 0 run 3\n",
      "m5 S 49 tree 0 run 4\n",
      "m5 S 49 tree 0 run 5\n",
      "{0: [1, 2, 3, 4, 5], 1: [1, 2, 3, 4, 5], 2: [2, 4], 3: [5], 4: [2, 3], 5: [1, 3, 4], 6: [4], 7: [2]}\n",
      "m5 S 35 tree 0 run 1\n",
      "m5 S 35 tree 0 run 2\n",
      "m5 S 35 tree 0 run 3\n",
      "m5 S 35 tree 0 run 4\n",
      "m5 S 35 tree 0 run 5\n",
      "{0: [1, 2, 3, 4, 5], 1: [2, 3, 5], 2: [1, 2, 3, 5], 3: [1, 3, 4, 5]}\n",
      "m5 S 25 tree 0 run 1\n",
      "m5 S 25 tree 0 run 2\n",
      "m5 S 25 tree 0 run 3\n",
      "m5 S 25 tree 0 run 4\n",
      "m5 S 25 tree 0 run 5\n",
      "{0: [1, 3, 5], 1: [1, 4], 2: [2, 3, 5], 3: [1, 2, 4], 4: [2, 4, 5], 5: [3], 6: [1], 7: [5], 8: [2, 3, 5], 9: [3, 4], 10: [1], 11: [2], 12: [4]}\n",
      "m5 S 31 tree 0 run 1\n",
      "m5 S 31 tree 0 run 2\n",
      "m5 S 31 tree 0 run 3\n",
      "m5 S 31 tree 0 run 4\n"
     ]
    },
    {
     "name": "stderr",
     "output_type": "stream",
     "text": [
      "100%|██████████| 10/10 [00:00<00:00, 28.36it/s]\n",
      "  0%|          | 0/10 [00:00<?, ?it/s]"
     ]
    },
    {
     "name": "stdout",
     "output_type": "stream",
     "text": [
      "m5 S 31 tree 0 run 5\n",
      "{0: [1, 2, 3, 4, 5], 1: [2], 2: [1, 2, 3, 4, 5], 3: [3], 4: [1, 2, 3, 5], 5: [1], 6: [5], 7: [2, 3, 4], 8: [1, 4], 9: [4], 10: [5]}\n",
      "m5 S 81 tree 0 run 1\n",
      "m5 S 81 tree 0 run 2\n",
      "m5 S 81 tree 0 run 3\n",
      "m5 S 81 tree 0 run 4\n",
      "m5 S 81 tree 0 run 5\n",
      "{0: [1, 2, 3, 4, 5], 1: [1, 3, 4], 2: [1, 3], 3: [2, 3], 4: [4], 5: [1, 2, 3, 4, 5], 6: [2, 5], 7: [5], 8: [2, 4], 9: [1]}\n",
      "m5 S 40 tree 0 run 1\n",
      "m5 S 40 tree 0 run 2\n",
      "m5 S 40 tree 0 run 3\n",
      "m5 S 40 tree 0 run 4\n",
      "m5 S 40 tree 0 run 5\n",
      "{0: [1, 2, 4], 1: [3, 5], 2: [3, 5], 3: [1, 2, 3, 4], 4: [2], 5: [3], 6: [5]}\n",
      "m5 S 32 tree 0 run 1\n",
      "m5 S 32 tree 0 run 2\n",
      "m5 S 32 tree 0 run 3\n",
      "m5 S 32 tree 0 run 4\n",
      "m5 S 32 tree 0 run 5\n",
      "{0: [1, 2, 3, 4, 5], 1: [2, 4, 5], 2: [4, 5]}\n",
      "m5 S 23 tree 0 run 1\n",
      "m5 S 23 tree 0 run 2\n",
      "m5 S 23 tree 0 run 3\n",
      "m5 S 23 tree 0 run 4\n",
      "m5 S 23 tree 0 run 5\n",
      "{0: [1, 2, 3, 4, 5], 1: [4], 2: [1, 2, 3, 4], 3: [1, 2, 3], 4: [1, 2, 4, 5], 5: [1, 3, 5], 6: [4], 7: [3, 5], 8: [2], 9: [5]}\n",
      "m5 S 62 tree 0 run 1\n",
      "m5 S 62 tree 0 run 2\n",
      "m5 S 62 tree 0 run 3\n",
      "m5 S 62 tree 0 run 4\n",
      "m5 S 62 tree 0 run 5\n",
      "{0: [1, 2, 3, 4, 5], 1: [1, 2, 3, 4, 5]}\n",
      "m5 S 17 tree 0 run 1\n",
      "m5 S 17 tree 0 run 2\n",
      "m5 S 17 tree 0 run 3\n",
      "m5 S 17 tree 0 run 4\n",
      "m5 S 17 tree 0 run 5\n",
      "{0: [1, 2, 3, 4, 5], 1: [1, 2, 3, 4, 5], 2: [1, 2, 3, 5], 3: [1, 2, 3, 4, 5]}\n",
      "batch size: 256\n",
      "m8 M 45 tree 0 run 1\n",
      "m8 M 45 tree 0 run 2\n",
      "m8 M 45 tree 0 run 3\n",
      "m8 M 45 tree 0 run 4\n",
      "m8 M 45 tree 0 run 5\n",
      "{0: [1, 2, 3, 4, 5], 1: [1, 2, 3, 4, 5], 2: [2, 4], 3: [3], 4: [1, 3], 5: [1, 2, 5], 6: [1, 2, 4, 5], 7: [3], 8: [4], 9: [5]}\n",
      "m8 M 7 tree 0 run 1\n",
      "m8 M 7 tree 0 run 2\n",
      "m8 M 7 tree 0 run 3\n",
      "m8 M 7 tree 0 run 4\n",
      "m8 M 7 tree 0 run 5\n"
     ]
    },
    {
     "name": "stderr",
     "output_type": "stream",
     "text": [
      " 30%|███       | 3/10 [00:00<00:00,  8.69it/s]"
     ]
    },
    {
     "name": "stdout",
     "output_type": "stream",
     "text": [
      "{0: [1, 2, 3, 4, 5], 1: [5], 2: [1, 3, 4, 5], 3: [1, 2, 3, 4, 5], 4: [1], 5: [1, 2, 3, 4, 5], 6: [2, 3], 7: [2], 8: [4]}\n",
      "m8 M 35 tree 0 run 1\n",
      "m8 M 35 tree 0 run 2\n",
      "m8 M 35 tree 0 run 3\n",
      "m8 M 35 tree 0 run 4\n",
      "m8 M 35 tree 0 run 5\n",
      "{0: [1], 1: [2], 2: [3], 3: [4], 4: [5], 5: [1], 6: [2], 7: [3], 8: [4], 9: [5], 10: [1], 11: [2], 12: [3], 13: [4], 14: [5], 15: [1, 2, 3, 5], 16: [4], 17: [1, 3], 18: [4]}\n",
      "m8 M 243 tree 0 run 1\n",
      "m8 M 243 tree 0 run 2\n",
      "m8 M 243 tree 0 run 3\n",
      "m8 M 243 tree 0 run 4\n",
      "m8 M 243 tree 0 run 5\n",
      "{0: [1], 1: [2, 3, 5], 2: [3, 4], 3: [1], 4: [2], 5: [4], 6: [1], 7: [2, 3], 8: [5], 9: [2, 3, 4, 5], 10: [1], 11: [1, 4], 12: [4, 5], 13: [2], 14: [3], 15: [5]}\n"
     ]
    },
    {
     "name": "stderr",
     "output_type": "stream",
     "text": [
      "\r",
      " 50%|█████     | 5/10 [00:00<00:00,  8.93it/s]"
     ]
    },
    {
     "name": "stdout",
     "output_type": "stream",
     "text": [
      "m8 M 216 tree 0 run 1\n",
      "m8 M 216 tree 0 run 2\n",
      "m8 M 216 tree 0 run 3\n",
      "m8 M 216 tree 0 run 4\n",
      "m8 M 216 tree 0 run 5\n",
      "{0: [1, 2, 3, 4, 5], 1: [3], 2: [1, 2, 3, 4, 5], 3: [2, 5], 4: [1, 2, 3, 4, 5], 5: [1, 2, 3, 4, 5], 6: [1], 7: [4]}\n",
      "m8 M 239 tree 0 run 1\n",
      "m8 M 239 tree 0 run 2\n",
      "m8 M 239 tree 0 run 3\n",
      "m8 M 239 tree 0 run 4\n"
     ]
    },
    {
     "name": "stderr",
     "output_type": "stream",
     "text": [
      "\r",
      " 60%|██████    | 6/10 [00:00<00:00,  8.94it/s]"
     ]
    },
    {
     "name": "stdout",
     "output_type": "stream",
     "text": [
      "m8 M 239 tree 0 run 5\n",
      "{0: [1], 1: [2], 2: [4, 5], 3: [1, 2, 3, 4], 4: [1, 2, 3, 4, 5], 5: [2, 3, 4, 5], 6: [1, 4], 7: [5], 8: [1, 2, 3, 5], 9: [3]}\n",
      "m8 M 19 tree 0 run 1\n",
      "m8 M 19 tree 0 run 2\n",
      "m8 M 19 tree 0 run 3\n",
      "m8 M 19 tree 0 run 4\n",
      "m8 M 19 tree 0 run 5\n",
      "{0: [1], 1: [2], 2: [3], 3: [4], 4: [2, 5], 5: [1, 3, 4], 6: [2, 5], 7: [1, 3, 4], 8: [2, 5], 9: [1], 10: [3], 11: [4], 12: [5], 13: [1], 14: [2], 15: [3], 16: [4], 17: [5]}\n",
      "m8 M 76 tree 0 run 1\n",
      "m8 M 76 tree 0 run 2\n",
      "m8 M 76 tree 0 run 3\n"
     ]
    },
    {
     "name": "stderr",
     "output_type": "stream",
     "text": [
      "100%|██████████| 10/10 [00:01<00:00,  9.13it/s]\n",
      "  0%|          | 0/10 [00:00<?, ?it/s]"
     ]
    },
    {
     "name": "stdout",
     "output_type": "stream",
     "text": [
      "m8 M 76 tree 0 run 4\n",
      "m8 M 76 tree 0 run 5\n",
      "{0: [5], 1: [1, 2, 3, 4, 5], 2: [2, 4], 3: [3], 4: [1, 2, 3, 4, 5], 5: [1, 2, 3, 4, 5], 6: [1, 3], 7: [1], 8: [2, 4, 5]}\n",
      "m8 M 172 tree 0 run 1\n",
      "m8 M 172 tree 0 run 2\n",
      "m8 M 172 tree 0 run 3\n",
      "m8 M 172 tree 0 run 4\n",
      "m8 M 172 tree 0 run 5\n",
      "{0: [1, 2, 3, 4], 1: [5], 2: [1, 2, 3, 4], 3: [2, 3, 4, 5], 4: [5], 5: [1, 2, 3, 5], 6: [1], 7: [3, 4], 8: [1], 9: [2], 10: [4], 11: [5]}\n",
      "m8 M 241 tree 0 run 1\n",
      "m8 M 241 tree 0 run 2\n",
      "m8 M 241 tree 0 run 3\n",
      "m8 M 241 tree 0 run 4\n",
      "m8 M 241 tree 0 run 5\n",
      "{0: [1, 2, 3, 4, 5], 1: [2, 3, 5], 2: [1, 2, 3, 4], 3: [1, 4, 5], 4: [1], 5: [5], 6: [1, 2, 3, 4], 7: [2, 4], 8: [3]}\n"
     ]
    },
    {
     "name": "stderr",
     "output_type": "stream",
     "text": [
      "\r",
      " 10%|█         | 1/10 [00:00<00:01,  8.86it/s]"
     ]
    },
    {
     "name": "stdout",
     "output_type": "stream",
     "text": [
      "m8 mS 0 tree 0 run 1\n",
      "m8 mS 0 tree 0 run 2\n",
      "m8 mS 0 tree 0 run 3\n",
      "m8 mS 0 tree 0 run 4\n",
      "m8 mS 0 tree 0 run 5\n",
      "{0: [2, 3], 1: [1, 2, 3, 4], 2: [2, 3, 5], 3: [1, 2, 3, 4, 5], 4: [1, 2], 5: [1], 6: [3, 5], 7: [4, 5], 8: [4], 9: [1, 5], 10: [4]}\n",
      "m8 mS 7 tree 0 run 1\n",
      "m8 mS 7 tree 0 run 2\n",
      "m8 mS 7 tree 0 run 3\n",
      "m8 mS 7 tree 0 run 4\n",
      "m8 mS 7 tree 0 run 5\n",
      "{0: [1, 2, 3, 4, 5], 1: [2, 3, 5], 2: [3, 4, 5], 3: [1], 4: [1, 2, 3, 4, 5], 5: [1], 6: [2, 3], 7: [2, 4, 5], 8: [1], 9: [4]}\n",
      "m8 mS 4 tree 0 run 1\n",
      "m8 mS 4 tree 0 run 2\n",
      "m8 mS 4 tree 0 run 3\n",
      "m8 mS 4 tree 0 run 4\n",
      "m8 mS 4 tree 0 run 5\n",
      "{0: [2], 1: [2, 5], 2: [1, 2, 3], 3: [5], 4: [1, 2, 4], 5: [1], 6: [2]}\n"
     ]
    },
    {
     "name": "stderr",
     "output_type": "stream",
     "text": [
      " 50%|█████     | 5/10 [00:00<00:00,  9.89it/s]"
     ]
    },
    {
     "name": "stdout",
     "output_type": "stream",
     "text": [
      "m8 mS 9 tree 0 run 1\n",
      "m8 mS 9 tree 0 run 2\n",
      "m8 mS 9 tree 0 run 3\n",
      "m8 mS 9 tree 0 run 4\n",
      "m8 mS 9 tree 0 run 5\n",
      "{0: [1, 2, 3, 4, 5], 1: [3], 2: [1, 2, 3, 4, 5], 3: [1, 2, 3, 4, 5], 4: [5], 5: [1, 2, 3, 4, 5], 6: [1, 2, 4]}\n",
      "m8 mS 8 tree 0 run 1\n",
      "m8 mS 8 tree 0 run 2\n",
      "m8 mS 8 tree 0 run 3\n",
      "m8 mS 8 tree 0 run 4\n",
      "m8 mS 8 tree 0 run 5\n",
      "{0: [1, 2, 3, 4, 5], 1: [1, 2, 3, 5], 2: [1, 3, 5], 3: [1, 2, 3, 4, 5], 4: [4], 5: [1, 2, 4], 6: [2, 3, 5], 7: [4]}\n"
     ]
    },
    {
     "name": "stderr",
     "output_type": "stream",
     "text": [
      "\r",
      " 60%|██████    | 6/10 [00:00<00:00,  9.77it/s]"
     ]
    },
    {
     "name": "stdout",
     "output_type": "stream",
     "text": [
      "m8 mS 3 tree 0 run 1\n",
      "m8 mS 3 tree 0 run 2\n",
      "m8 mS 3 tree 0 run 3\n",
      "m8 mS 3 tree 0 run 4\n",
      "m8 mS 3 tree 0 run 5\n",
      "{0: [1, 2, 3, 4, 5], 1: [1, 2, 3, 4, 5], 2: [1, 3, 4, 5], 3: [1, 3, 5], 4: [2], 5: [4], 6: [1, 2, 3, 5], 7: [2], 8: [4]}\n",
      "m8 mS 12 tree 0 run 1\n",
      "m8 mS 12 tree 0 run 2\n",
      "m8 mS 12 tree 0 run 3\n"
     ]
    },
    {
     "name": "stderr",
     "output_type": "stream",
     "text": [
      " 90%|█████████ | 9/10 [00:00<00:00,  9.39it/s]"
     ]
    },
    {
     "name": "stdout",
     "output_type": "stream",
     "text": [
      "m8 mS 12 tree 0 run 4\n",
      "m8 mS 12 tree 0 run 5\n",
      "{0: [1, 2, 3, 4, 5], 1: [1, 2, 3, 4, 5], 2: [3], 3: [5], 4: [1, 2, 3, 4, 5], 5: [1, 2, 3, 4, 5], 6: [1], 7: [2], 8: [4]}\n",
      "m8 mS 10 tree 0 run 1\n",
      "m8 mS 10 tree 0 run 2\n",
      "m8 mS 10 tree 0 run 3\n",
      "m8 mS 10 tree 0 run 4\n",
      "m8 mS 10 tree 0 run 5\n",
      "{0: [1, 2, 3, 4, 5], 1: [1, 4], 2: [1, 2, 3, 4, 5], 3: [2], 4: [1, 3, 5], 5: [1, 2, 3, 4, 5], 6: [2], 7: [3], 8: [5]}\n",
      "m8 mS 2 tree 0 run 1\n",
      "m8 mS 2 tree 0 run 2\n",
      "m8 mS 2 tree 0 run 3\n",
      "m8 mS 2 tree 0 run 4\n",
      "m8 mS 2 tree 0 run 5\n",
      "{0: [1, 2, 3, 4, 5], 1: [1, 2, 3, 4, 5], 2: [1, 2, 3, 4, 5], 3: [1, 2, 3, 4, 5], 4: [1, 2, 3, 4, 5]}\n"
     ]
    },
    {
     "name": "stderr",
     "output_type": "stream",
     "text": [
      "100%|██████████| 10/10 [00:01<00:00,  9.78it/s]\n",
      "  0%|          | 0/10 [00:00<?, ?it/s]"
     ]
    },
    {
     "name": "stdout",
     "output_type": "stream",
     "text": [
      "m8 mS 5 tree 0 run 1\n",
      "m8 mS 5 tree 0 run 2\n",
      "m8 mS 5 tree 0 run 3\n",
      "m8 mS 5 tree 0 run 4\n",
      "m8 mS 5 tree 0 run 5\n",
      "{0: [1, 2, 3, 4, 5], 1: [2, 4], 2: [1, 2, 3, 4, 5], 3: [1, 2, 3, 4], 4: [2, 3, 4, 5], 5: [1, 3, 5], 6: [1], 7: [5]}\n",
      "m8 R 10157 tree 0 run 1\n",
      "m8 R 10157 tree 0 run 2\n",
      "m8 R 10157 tree 0 run 3\n",
      "m8 R 10157 tree 0 run 4\n"
     ]
    },
    {
     "name": "stderr",
     "output_type": "stream",
     "text": [
      "\r",
      " 10%|█         | 1/10 [00:00<00:01,  7.45it/s]"
     ]
    },
    {
     "name": "stdout",
     "output_type": "stream",
     "text": [
      "m8 R 10157 tree 0 run 5\n",
      "{0: [1, 2, 3, 4, 5], 1: [1, 2, 3, 4, 5], 2: [1], 3: [3], 4: [4], 5: [1, 2, 3, 4, 5], 6: [2], 7: [4], 8: [3, 5], 9: [1], 10: [2], 11: [5]}\n",
      "m8 R 1070 tree 0 run 1\n",
      "m8 R 1070 tree 0 run 2\n",
      "m8 R 1070 tree 0 run 3\n",
      "m8 R 1070 tree 0 run 4\n"
     ]
    },
    {
     "name": "stderr",
     "output_type": "stream",
     "text": [
      " 30%|███       | 3/10 [00:00<00:00,  7.03it/s]"
     ]
    },
    {
     "name": "stdout",
     "output_type": "stream",
     "text": [
      "m8 R 1070 tree 0 run 5\n",
      "{0: [1, 2, 3, 4, 5], 1: [1], 2: [4], 3: [5], 4: [1, 2, 3, 4, 5], 5: [1], 6: [2, 3, 5], 7: [1, 2], 8: [3], 9: [4, 5], 10: [2], 11: [3], 12: [4]}\n",
      "m8 R 9 tree 0 run 1\n",
      "m8 R 9 tree 0 run 2\n",
      "m8 R 9 tree 0 run 3\n",
      "m8 R 9 tree 0 run 4\n",
      "m8 R 9 tree 0 run 5\n",
      "{0: [1, 2, 3, 4, 5], 1: [1, 2, 3, 4, 5], 2: [1, 2, 4, 5], 3: [1, 5], 4: [3], 5: [1, 2, 3, 4, 5], 6: [2, 4], 7: [3]}\n",
      "m8 R 905 tree 0 run 1\n",
      "m8 R 905 tree 0 run 2\n"
     ]
    },
    {
     "name": "stderr",
     "output_type": "stream",
     "text": [
      " 50%|█████     | 5/10 [00:00<00:00,  7.15it/s]"
     ]
    },
    {
     "name": "stdout",
     "output_type": "stream",
     "text": [
      "m8 R 905 tree 0 run 3\n",
      "m8 R 905 tree 0 run 4\n",
      "m8 R 905 tree 0 run 5\n",
      "{0: [1, 2, 4, 5], 1: [1, 2, 3, 4, 5], 2: [2, 3], 3: [5], 4: [1, 3, 5], 5: [1, 2, 3], 6: [4], 7: [2, 3, 4, 5], 8: [1], 9: [4]}\n",
      "m8 R 10046 tree 0 run 1\n",
      "m8 R 10046 tree 0 run 2\n",
      "m8 R 10046 tree 0 run 3\n",
      "m8 R 10046 tree 0 run 4\n",
      "m8 R 10046 tree 0 run 5\n",
      "{0: [1, 2, 3, 4, 5], 1: [1, 2, 3, 4, 5], 2: [2, 4, 5], 3: [4, 5], 4: [1, 2, 3, 4, 5], 5: [3], 6: [1, 3], 7: [1], 8: [2]}\n"
     ]
    },
    {
     "name": "stderr",
     "output_type": "stream",
     "text": [
      "\r",
      " 60%|██████    | 6/10 [00:00<00:00,  6.64it/s]"
     ]
    },
    {
     "name": "stdout",
     "output_type": "stream",
     "text": [
      "m8 R 394 tree 0 run 1\n",
      "m8 R 394 tree 0 run 2\n",
      "m8 R 394 tree 0 run 3\n",
      "m8 R 394 tree 0 run 4\n",
      "m8 R 394 tree 0 run 5\n",
      "{0: [2], 1: [3, 5], 2: [1, 4], 3: [1], 4: [2, 3, 5], 5: [4, 5], 6: [2, 3, 4, 5], 7: [1, 2], 8: [1, 4], 9: [2, 3], 10: [5], 11: [1], 12: [3], 13: [4]}\n",
      "m8 R 981 tree 0 run 1\n",
      "m8 R 981 tree 0 run 2\n"
     ]
    },
    {
     "name": "stderr",
     "output_type": "stream",
     "text": [
      " 80%|████████  | 8/10 [00:01<00:00,  7.50it/s]"
     ]
    },
    {
     "name": "stdout",
     "output_type": "stream",
     "text": [
      "m8 R 981 tree 0 run 3\n",
      "m8 R 981 tree 0 run 4\n",
      "m8 R 981 tree 0 run 5\n",
      "{0: [1, 2, 3, 4, 5], 1: [4, 5], 2: [2, 3, 4, 5], 3: [3], 4: [1, 2, 5], 5: [2, 3], 6: [1], 7: [1, 2, 3, 4], 8: [1], 9: [4], 10: [5]}\n",
      "m8 R 383 tree 0 run 1\n",
      "m8 R 383 tree 0 run 2\n",
      "m8 R 383 tree 0 run 3\n",
      "m8 R 383 tree 0 run 4\n",
      "m8 R 383 tree 0 run 5\n",
      "{0: [1, 2, 3, 4, 5], 1: [4, 5], 2: [2, 3, 4, 5], 3: [1], 4: [2], 5: [3], 6: [1, 2, 3, 4], 7: [1], 8: [3], 9: [5], 10: [2, 5], 11: [1, 4]}\n",
      "m8 R 30342 tree 0 run 1\n"
     ]
    },
    {
     "name": "stderr",
     "output_type": "stream",
     "text": [
      "100%|██████████| 10/10 [00:01<00:00,  7.33it/s]\n",
      "  0%|          | 0/10 [00:00<?, ?it/s]"
     ]
    },
    {
     "name": "stdout",
     "output_type": "stream",
     "text": [
      "m8 R 30342 tree 0 run 2\n",
      "m8 R 30342 tree 0 run 3\n",
      "m8 R 30342 tree 0 run 4\n",
      "m8 R 30342 tree 0 run 5\n",
      "{0: [1, 2, 3, 4, 5], 1: [3, 4, 5], 2: [1, 4], 3: [1], 4: [2, 3], 5: [2, 3, 4, 5], 6: [1, 2], 7: [5], 8: [1], 9: [2], 10: [3, 4, 5]}\n",
      "m8 R 157 tree 0 run 1\n",
      "m8 R 157 tree 0 run 2\n",
      "m8 R 157 tree 0 run 3\n",
      "m8 R 157 tree 0 run 4\n",
      "m8 R 157 tree 0 run 5\n",
      "{0: [1, 2, 3, 4, 5], 1: [1], 2: [2, 3], 3: [5], 4: [1, 2, 3, 4], 5: [5], 6: [1, 2, 4], 7: [3], 8: [4], 9: [5], 10: [1], 11: [2], 12: [3, 4, 5]}\n",
      "m8 S 0 tree 0 run 1\n",
      "m8 S 0 tree 0 run 2\n",
      "m8 S 0 tree 0 run 3\n",
      "m8 S 0 tree 0 run 4\n",
      "m8 S 0 tree 0 run 5\n"
     ]
    },
    {
     "name": "stderr",
     "output_type": "stream",
     "text": [
      " 20%|██        | 2/10 [00:00<00:01,  4.86it/s]"
     ]
    },
    {
     "name": "stdout",
     "output_type": "stream",
     "text": [
      "{0: [1, 2, 3, 4, 5], 1: [1, 2, 3, 4, 5], 2: [1, 3], 3: [4, 5], 4: [2, 3], 5: [2], 6: [4], 7: [1, 2, 4, 5], 8: [1], 9: [3], 10: [5]}\n",
      "m8 S 35 tree 0 run 1\n",
      "m8 S 35 tree 0 run 2\n",
      "m8 S 35 tree 0 run 3\n",
      "m8 S 35 tree 0 run 4\n",
      "m8 S 35 tree 0 run 5\n",
      "{0: [1, 2, 3, 4, 5], 1: [2, 3, 4], 2: [1, 3], 3: [4, 5], 4: [2], 5: [1, 2, 3, 4, 5], 6: [1], 7: [5], 8: [1, 2, 5], 9: [3], 10: [4]}\n",
      "m8 S 37 tree 0 run 1\n",
      "m8 S 37 tree 0 run 2\n",
      "m8 S 37 tree 0 run 3\n",
      "m8 S 37 tree 0 run 4\n"
     ]
    },
    {
     "name": "stderr",
     "output_type": "stream",
     "text": [
      " 40%|████      | 4/10 [00:00<00:00,  6.11it/s]"
     ]
    },
    {
     "name": "stdout",
     "output_type": "stream",
     "text": [
      "m8 S 37 tree 0 run 5\n",
      "{0: [1, 2, 3, 4, 5], 1: [1, 2, 5], 2: [1, 2, 3, 4, 5], 3: [1, 2, 3, 4, 5], 4: [2, 5], 5: [1, 3], 6: [3, 4], 7: [4]}\n",
      "m8 S 31 tree 0 run 1\n",
      "m8 S 31 tree 0 run 2\n",
      "m8 S 31 tree 0 run 3\n",
      "m8 S 31 tree 0 run 4\n",
      "m8 S 31 tree 0 run 5\n",
      "{0: [1, 2, 3, 4, 5], 1: [1, 2, 3, 4, 5], 2: [1, 2, 3, 4], 3: [5], 4: [2, 3], 5: [1, 4], 6: [2, 3, 4, 5], 7: [1], 8: [5]}\n",
      "m8 S 69 tree 0 run 1\n",
      "m8 S 69 tree 0 run 2\n",
      "m8 S 69 tree 0 run 3\n"
     ]
    },
    {
     "name": "stderr",
     "output_type": "stream",
     "text": [
      "\r",
      " 50%|█████     | 5/10 [00:00<00:00,  6.92it/s]"
     ]
    },
    {
     "name": "stdout",
     "output_type": "stream",
     "text": [
      "m8 S 69 tree 0 run 4\n",
      "m8 S 69 tree 0 run 5\n",
      "{0: [1, 2, 3, 4, 5], 1: [1, 2, 3, 4, 5], 2: [1, 4, 5], 3: [1, 2, 3, 4, 5], 4: [1, 2, 3, 4, 5], 5: [2, 3]}\n",
      "m8 S 54 tree 0 run 1\n",
      "m8 S 54 tree 0 run 2\n",
      "m8 S 54 tree 0 run 3\n",
      "m8 S 54 tree 0 run 4\n",
      "m8 S 54 tree 0 run 5\n",
      "{0: [1, 2, 3, 4, 5], 1: [1, 2, 3, 4, 5], 2: [2, 3, 4, 5], 3: [2, 4], 4: [3]}\n",
      "m8 S 12 tree 0 run 1\n",
      "m8 S 12 tree 0 run 2\n",
      "m8 S 12 tree 0 run 3\n"
     ]
    },
    {
     "name": "stderr",
     "output_type": "stream",
     "text": [
      " 80%|████████  | 8/10 [00:01<00:00,  7.31it/s]"
     ]
    },
    {
     "name": "stdout",
     "output_type": "stream",
     "text": [
      "m8 S 12 tree 0 run 4\n",
      "m8 S 12 tree 0 run 5\n",
      "{0: [1, 2, 3, 4, 5], 1: [3, 4, 5], 2: [1, 2, 3, 4, 5], 3: [1, 2, 3, 5], 4: [2, 4], 5: [1, 2], 6: [1, 3, 5], 7: [4]}\n",
      "m8 S 23 tree 0 run 1\n",
      "m8 S 23 tree 0 run 2\n",
      "m8 S 23 tree 0 run 3\n",
      "m8 S 23 tree 0 run 4\n",
      "m8 S 23 tree 0 run 5\n",
      "{0: [1, 2, 3, 4, 5], 1: [1, 2, 3, 4, 5], 2: [1, 2, 3, 4, 5], 3: [4], 4: [1, 2, 3, 5], 5: [4, 5], 6: [1, 2, 3]}\n"
     ]
    },
    {
     "name": "stderr",
     "output_type": "stream",
     "text": [
      "\r",
      " 90%|█████████ | 9/10 [00:01<00:00,  7.14it/s]"
     ]
    },
    {
     "name": "stdout",
     "output_type": "stream",
     "text": [
      "m8 S 2 tree 0 run 1\n",
      "m8 S 2 tree 0 run 2\n",
      "m8 S 2 tree 0 run 3\n",
      "m8 S 2 tree 0 run 4\n",
      "m8 S 2 tree 0 run 5\n",
      "{0: [1, 2, 3, 4, 5], 1: [4], 2: [5], 3: [3, 5], 4: [1, 2, 5], 5: [1], 6: [3], 7: [1, 2], 8: [1, 4], 9: [2, 5], 10: [3], 11: [4], 12: [2], 13: [3], 14: [4]}\n",
      "m8 S 5 tree 0 run 1\n",
      "m8 S 5 tree 0 run 2\n",
      "m8 S 5 tree 0 run 3\n",
      "m8 S 5 tree 0 run 4\n"
     ]
    },
    {
     "name": "stderr",
     "output_type": "stream",
     "text": [
      "100%|██████████| 10/10 [00:01<00:00,  7.79it/s]\n",
      " 10%|█         | 1/10 [00:00<00:01,  7.55it/s]"
     ]
    },
    {
     "name": "stdout",
     "output_type": "stream",
     "text": [
      "m8 S 5 tree 0 run 5\n",
      "{0: [1, 2, 3, 4, 5], 1: [3, 4, 5], 2: [1, 5], 3: [1, 2, 3, 4, 5], 4: [1, 2, 3, 5], 5: [4], 6: [2, 4], 7: [1, 3], 8: [2]}\n",
      "m5 M 209 tree 0 run 1\n",
      "m5 M 209 tree 0 run 2\n",
      "m5 M 209 tree 0 run 3\n",
      "m5 M 209 tree 0 run 4\n",
      "m5 M 209 tree 0 run 5\n",
      "{0: [1, 2, 3, 4, 5], 1: [1, 2, 3, 4, 5], 2: [1, 2, 3, 4, 5], 3: [1, 2, 3, 4, 5], 4: [1, 2, 3, 4, 5]}\n",
      "m5 M 534 tree 0 run 1\n"
     ]
    },
    {
     "name": "stderr",
     "output_type": "stream",
     "text": [
      "\r",
      " 20%|██        | 2/10 [00:00<00:01,  7.40it/s]"
     ]
    },
    {
     "name": "stdout",
     "output_type": "stream",
     "text": [
      "m5 M 534 tree 0 run 2\n",
      "m5 M 534 tree 0 run 3\n",
      "m5 M 534 tree 0 run 4\n",
      "m5 M 534 tree 0 run 5\n",
      "{0: [1, 2, 3, 4, 5], 1: [1, 2, 3, 4, 5], 2: [2], 3: [4], 4: [2, 3], 5: [1], 6: [2, 5], 7: [3], 8: [5], 9: [1, 3, 4, 5], 10: [1], 11: [4]}\n",
      "m5 M 694 tree 0 run 1\n",
      "m5 M 694 tree 0 run 2\n",
      "m5 M 694 tree 0 run 3\n",
      "m5 M 694 tree 0 run 4\n",
      "m5 M 694 tree 0 run 5\n",
      "{0: [1, 2, 3, 4, 5], 1: [2], 2: [1, 2, 3, 4, 5], 3: [1, 2, 3, 4, 5], 4: [1]}\n",
      "m5 M 512 tree 0 run 1\n",
      "m5 M 512 tree 0 run 2\n",
      "m5 M 512 tree 0 run 3\n",
      "m5 M 512 tree 0 run 4\n",
      "m5 M 512 tree 0 run 5\n",
      "{0: [1, 3], 1: [5], 2: [1], 3: [1, 2, 3, 4, 5], 4: [1, 5], 5: [2, 4], 6: [1, 2, 3, 4, 5], 7: [2, 4], 8: [3], 9: [2, 4], 10: [3], 11: [5]}\n",
      "m5 M 545 tree 0 run 1\n"
     ]
    },
    {
     "name": "stderr",
     "output_type": "stream",
     "text": [
      "\r",
      " 50%|█████     | 5/10 [00:00<00:00,  8.97it/s]"
     ]
    },
    {
     "name": "stdout",
     "output_type": "stream",
     "text": [
      "m5 M 545 tree 0 run 2\n",
      "m5 M 545 tree 0 run 3\n",
      "m5 M 545 tree 0 run 4\n",
      "m5 M 545 tree 0 run 5\n",
      "{0: [1, 2, 3, 4, 5], 1: [1, 2, 5], 2: [1, 2, 3, 4, 5], 3: [2, 4], 4: [1, 5], 5: [4], 6: [1, 3, 5], 7: [2, 3, 4], 8: [3]}\n",
      "m5 M 865 tree 0 run 1\n",
      "m5 M 865 tree 0 run 2\n",
      "m5 M 865 tree 0 run 3\n",
      "m5 M 865 tree 0 run 4\n",
      "m5 M 865 tree 0 run 5\n",
      "{0: [1, 2, 4, 5], 1: [1, 2, 3, 5], 2: [1, 2, 3, 4, 5], 3: [1, 2, 4], 4: [1, 2, 3, 4, 5], 5: [3, 4], 6: [3], 7: [5]}\n",
      "m5 M 907 tree 0 run 1\n",
      "m5 M 907 tree 0 run 2\n",
      "m5 M 907 tree 0 run 3\n",
      "m5 M 907 tree 0 run 4\n"
     ]
    },
    {
     "name": "stderr",
     "output_type": "stream",
     "text": [
      " 90%|█████████ | 9/10 [00:00<00:00, 10.84it/s]"
     ]
    },
    {
     "name": "stdout",
     "output_type": "stream",
     "text": [
      "m5 M 907 tree 0 run 5\n",
      "{0: [1, 2, 3, 4, 5], 1: [1, 2, 3, 4, 5], 2: [1, 3, 4, 5], 3: [1, 4], 4: [2], 5: [2, 3, 5], 6: [1, 3, 4, 5], 7: [2]}\n",
      "m5 M 76 tree 0 run 1\n",
      "m5 M 76 tree 0 run 2\n",
      "m5 M 76 tree 0 run 3\n",
      "m5 M 76 tree 0 run 4\n",
      "m5 M 76 tree 0 run 5\n",
      "{0: [1, 2, 3, 4, 5], 1: [1, 2, 3, 4, 5], 2: [1, 2, 3, 4, 5], 3: [1, 3, 4, 5], 4: [2, 3, 4, 5], 5: [1, 2]}\n",
      "m5 M 565 tree 0 run 1\n",
      "m5 M 565 tree 0 run 2\n",
      "m5 M 565 tree 0 run 3\n",
      "m5 M 565 tree 0 run 4\n",
      "m5 M 565 tree 0 run 5\n",
      "{0: [1, 2, 3, 4, 5], 1: [1, 2, 3, 4, 5], 2: [1, 2, 3, 4, 5], 3: [4, 5], 4: [1, 2, 3, 4, 5], 5: [1, 2, 3]}\n",
      "m5 M 473 tree 0 run 1\n",
      "m5 M 473 tree 0 run 2\n",
      "m5 M 473 tree 0 run 3\n"
     ]
    },
    {
     "name": "stderr",
     "output_type": "stream",
     "text": [
      "100%|██████████| 10/10 [00:00<00:00, 11.67it/s]\n",
      " 20%|██        | 2/10 [00:00<00:00, 17.68it/s]"
     ]
    },
    {
     "name": "stdout",
     "output_type": "stream",
     "text": [
      "m5 M 473 tree 0 run 4\n",
      "m5 M 473 tree 0 run 5\n",
      "{0: [1], 1: [3, 4, 5], 2: [1, 3], 3: [2, 3, 5], 4: [1, 2, 4, 5], 5: [5], 6: [2, 4], 7: [1, 3], 8: [3], 9: [1, 4, 5], 10: [2, 4], 11: [2]}\n",
      "m5 mS 0 tree 0 run 1\n",
      "m5 mS 0 tree 0 run 2\n",
      "m5 mS 0 tree 0 run 3\n",
      "m5 mS 0 tree 0 run 4\n",
      "m5 mS 0 tree 0 run 5\n",
      "{0: [1, 2, 3, 4, 5], 1: [1, 2, 3, 4, 5], 2: [1, 2, 3, 4, 5], 3: [1, 2, 3, 4, 5]}\n",
      "m5 mS 7 tree 0 run 1\n",
      "m5 mS 7 tree 0 run 2\n",
      "m5 mS 7 tree 0 run 3\n",
      "m5 mS 7 tree 0 run 4\n",
      "m5 mS 7 tree 0 run 5\n",
      "{0: [1, 2, 3, 4, 5], 1: [1, 2, 3, 4, 5], 2: [1, 2, 3, 4, 5], 3: [1, 2, 3, 4, 5], 4: [1, 2, 3, 4, 5]}\n",
      "m5 mS 4 tree 0 run 1\n",
      "m5 mS 4 tree 0 run 2\n",
      "m5 mS 4 tree 0 run 3\n",
      "m5 mS 4 tree 0 run 4\n",
      "m5 mS 4 tree 0 run 5\n",
      "{0: [1, 2, 3, 4, 5]}\n",
      "m5 mS 9 tree 0 run 1\n",
      "m5 mS 9 tree 0 run 2\n",
      "m5 mS 9 tree 0 run 3\n",
      "m5 mS 9 tree 0 run 4\n",
      "m5 mS 9 tree 0 run 5\n",
      "{0: [1, 2, 3, 4, 5], 1: [1, 2, 3, 4, 5]}\n",
      "m5 mS 8 tree 0 run 1\n",
      "m5 mS 8 tree 0 run 2\n"
     ]
    },
    {
     "name": "stderr",
     "output_type": "stream",
     "text": [
      "100%|██████████| 10/10 [00:00<00:00, 26.11it/s]\n",
      "  0%|          | 0/10 [00:00<?, ?it/s]"
     ]
    },
    {
     "name": "stdout",
     "output_type": "stream",
     "text": [
      "m5 mS 8 tree 0 run 3\n",
      "m5 mS 8 tree 0 run 4\n",
      "m5 mS 8 tree 0 run 5\n",
      "{0: [1, 2, 3, 4, 5], 1: [1, 2, 3, 4, 5], 2: [1, 2, 3, 4, 5], 3: [1, 2, 3, 4, 5], 4: [1, 2, 3, 4, 5]}\n",
      "m5 mS 3 tree 0 run 1\n",
      "m5 mS 3 tree 0 run 2\n",
      "m5 mS 3 tree 0 run 3\n",
      "m5 mS 3 tree 0 run 4\n",
      "m5 mS 3 tree 0 run 5\n",
      "{0: [1, 2, 3, 4, 5], 1: [1, 2, 3, 4, 5], 2: [1, 2, 3, 4, 5], 3: [1, 2, 3, 4, 5]}\n",
      "m5 mS 12 tree 0 run 1\n",
      "m5 mS 12 tree 0 run 2\n",
      "m5 mS 12 tree 0 run 3\n",
      "m5 mS 12 tree 0 run 4\n",
      "m5 mS 12 tree 0 run 5\n",
      "{0: [1, 2, 3, 4, 5]}\n",
      "m5 mS 10 tree 0 run 1\n",
      "m5 mS 10 tree 0 run 2\n",
      "m5 mS 10 tree 0 run 3\n",
      "m5 mS 10 tree 0 run 4\n",
      "m5 mS 10 tree 0 run 5\n",
      "{0: [1, 2, 3, 4, 5], 1: [1, 2, 3, 5], 2: [1, 2, 3, 4, 5], 3: [1, 3, 4, 5], 4: [2, 4], 5: [1, 2, 3], 6: [5]}\n",
      "m5 mS 2 tree 0 run 1\n",
      "m5 mS 2 tree 0 run 2\n",
      "m5 mS 2 tree 0 run 3\n",
      "m5 mS 2 tree 0 run 4\n",
      "m5 mS 2 tree 0 run 5\n",
      "{0: [1, 2, 3, 4, 5], 1: [1, 2, 3, 4, 5], 2: [1, 2, 3, 4, 5], 3: [1, 2, 3, 4, 5], 4: [1, 3, 5], 5: [2, 4]}\n",
      "m5 mS 5 tree 0 run 1\n",
      "m5 mS 5 tree 0 run 2\n",
      "m5 mS 5 tree 0 run 3\n",
      "m5 mS 5 tree 0 run 4\n",
      "m5 mS 5 tree 0 run 5\n",
      "{0: [1, 2, 3, 4, 5], 1: [1, 2, 3, 4, 5]}\n",
      "m5 R 571 tree 0 run 1\n",
      "m5 R 571 tree 0 run 2\n",
      "m5 R 571 tree 0 run 3\n",
      "m5 R 571 tree 0 run 4\n",
      "m5 R 571 tree 0 run 5\n",
      "{0: [1, 2, 3, 4, 5], 1: [1, 3], 2: [1, 2, 3, 4, 5], 3: [1, 4], 4: [3, 5], 5: [1, 2, 3, 4, 5]}\n",
      "m5 R 1140 tree 0 run 1\n",
      "m5 R 1140 tree 0 run 2\n",
      "m5 R 1140 tree 0 run 3\n",
      "m5 R 1140 tree 0 run 4\n",
      "m5 R 1140 tree 0 run 5\n",
      "{0: [1, 2, 3, 4, 5], 1: [1, 2, 3, 4, 5], 2: [1, 2, 3, 4, 5], 3: [1, 2, 3, 4, 5], 4: [1, 2, 3, 4, 5]}\n",
      "m5 R 538 tree 0 run 1\n",
      "m5 R 538 tree 0 run 2\n",
      "m5 R 538 tree 0 run 3\n",
      "m5 R 538 tree 0 run 4\n",
      "m5 R 538 tree 0 run 5\n",
      "{0: [1, 2, 3, 4, 5], 1: [1, 5], 2: [3], 3: [1, 4], 4: [2, 3], 5: [3, 4], 6: [2, 4], 7: [3]}\n",
      "m5 R 981 tree 0 run 1\n",
      "m5 R 981 tree 0 run 2\n",
      "m5 R 981 tree 0 run 3\n",
      "m5 R 981 tree 0 run 4\n",
      "m5 R 981 tree 0 run 5\n",
      "{0: [1, 2, 3, 4, 5], 1: [1, 2, 3, 5], 2: [4], 3: [1, 2, 3, 5], 4: [1, 2, 3, 4, 5], 5: [1, 4], 6: [4]}\n",
      "m5 R 2155 tree 0 run 1\n",
      "m5 R 2155 tree 0 run 2\n",
      "m5 R 2155 tree 0 run 3\n",
      "m5 R 2155 tree 0 run 4\n",
      "m5 R 2155 tree 0 run 5\n"
     ]
    },
    {
     "name": "stderr",
     "output_type": "stream",
     "text": [
      " 70%|███████   | 7/10 [00:00<00:00, 17.03it/s]"
     ]
    },
    {
     "name": "stdout",
     "output_type": "stream",
     "text": [
      "{0: [3], 1: [1, 2, 4, 5], 2: [1, 2, 4, 5], 3: [3], 4: [4], 5: [5], 6: [2, 3], 7: [1, 2, 4, 5], 8: [1, 2, 4], 9: [3], 10: [1], 11: [3], 12: [5]}\n",
      "m5 R 950 tree 0 run 1\n",
      "m5 R 950 tree 0 run 2\n",
      "m5 R 950 tree 0 run 3\n",
      "m5 R 950 tree 0 run 4\n",
      "m5 R 950 tree 0 run 5\n",
      "{0: [1, 2, 3, 4, 5], 1: [1, 2, 3, 4, 5], 2: [1, 3, 4, 5], 3: [1, 2, 4], 4: [1, 2, 3, 5], 5: [2], 6: [3], 7: [4], 8: [5]}\n",
      "m5 R 247 tree 0 run 1\n",
      "m5 R 247 tree 0 run 2\n",
      "m5 R 247 tree 0 run 3\n",
      "m5 R 247 tree 0 run 4\n",
      "m5 R 247 tree 0 run 5\n",
      "{0: [1, 2, 3, 4, 5], 1: [1, 2, 4, 5], 2: [1, 3], 3: [5], 4: [3, 5], 5: [1, 2, 3, 4, 5], 6: [2, 4], 7: [3], 8: [1, 4], 9: [2]}\n"
     ]
    },
    {
     "name": "stderr",
     "output_type": "stream",
     "text": [
      "\r",
      " 90%|█████████ | 9/10 [00:00<00:00, 14.96it/s]"
     ]
    },
    {
     "name": "stdout",
     "output_type": "stream",
     "text": [
      "m5 R 955 tree 0 run 1\n",
      "m5 R 955 tree 0 run 2\n",
      "m5 R 955 tree 0 run 3\n",
      "m5 R 955 tree 0 run 4\n",
      "m5 R 955 tree 0 run 5\n",
      "{0: [1, 2, 3, 4, 5], 1: [1, 2, 3, 4], 2: [3, 5], 3: [4], 4: [5], 5: [1, 2, 4], 6: [1, 2], 7: [3], 8: [1, 2, 3, 4, 5], 9: [5]}\n",
      "m5 R 518 tree 0 run 1\n",
      "m5 R 518 tree 0 run 2\n",
      "m5 R 518 tree 0 run 3\n",
      "m5 R 518 tree 0 run 4\n",
      "m5 R 518 tree 0 run 5\n",
      "{0: [1, 2, 3, 4, 5], 1: [2, 4, 5], 2: [3], 3: [1, 2, 3, 4, 5], 4: [1, 3, 4, 5], 5: [1, 2], 6: [2, 3, 4, 5], 7: [1]}\n",
      "m5 R 17 tree 0 run 1\n",
      "m5 R 17 tree 0 run 2\n"
     ]
    },
    {
     "name": "stderr",
     "output_type": "stream",
     "text": [
      "100%|██████████| 10/10 [00:00<00:00, 14.88it/s]\n",
      " 30%|███       | 3/10 [00:00<00:00, 20.92it/s]"
     ]
    },
    {
     "name": "stdout",
     "output_type": "stream",
     "text": [
      "m5 R 17 tree 0 run 3\n",
      "m5 R 17 tree 0 run 4\n",
      "m5 R 17 tree 0 run 5\n",
      "{0: [1, 2, 3, 4, 5], 1: [3], 2: [2, 3, 4, 5], 3: [4], 4: [3, 5], 5: [1, 2, 3, 4, 5], 6: [1], 7: [1, 2, 4, 5], 8: [1], 9: [2]}\n",
      "m5 S 49 tree 0 run 1\n",
      "m5 S 49 tree 0 run 2\n",
      "m5 S 49 tree 0 run 3\n",
      "m5 S 49 tree 0 run 4\n",
      "m5 S 49 tree 0 run 5\n",
      "{0: [1, 2, 3, 4, 5], 1: [1, 2, 5], 2: [1, 2, 3, 4], 3: [2, 4], 4: [3, 4, 5], 5: [1, 3], 6: [4, 5], 7: [1, 2]}\n",
      "m5 S 35 tree 0 run 1\n",
      "m5 S 35 tree 0 run 2\n",
      "m5 S 35 tree 0 run 3\n",
      "m5 S 35 tree 0 run 4\n",
      "m5 S 35 tree 0 run 5\n",
      "{0: [1, 2, 3, 4, 5], 1: [1, 2, 3, 4, 5], 2: [1, 2, 3, 4, 5], 3: [1, 2, 3, 4, 5]}\n",
      "m5 S 25 tree 0 run 1\n",
      "m5 S 25 tree 0 run 2\n",
      "m5 S 25 tree 0 run 3\n",
      "m5 S 25 tree 0 run 4\n",
      "m5 S 25 tree 0 run 5\n",
      "{0: [1, 2, 3, 4, 5], 1: [1, 2, 3, 4, 5], 2: [1, 2, 3, 4, 5], 3: [1, 2, 3, 4, 5], 4: [1, 2, 3, 4, 5]}\n",
      "m5 S 31 tree 0 run 1\n"
     ]
    },
    {
     "name": "stderr",
     "output_type": "stream",
     "text": [
      " 60%|██████    | 6/10 [00:00<00:00, 15.97it/s]"
     ]
    },
    {
     "name": "stdout",
     "output_type": "stream",
     "text": [
      "m5 S 31 tree 0 run 2\n",
      "m5 S 31 tree 0 run 3\n",
      "m5 S 31 tree 0 run 4\n",
      "m5 S 31 tree 0 run 5\n",
      "{0: [1, 2, 3, 4, 5], 1: [1, 2, 3, 4, 5], 2: [1, 2, 4], 3: [1, 2], 4: [3, 4], 5: [3], 6: [1, 2, 4, 5], 7: [3, 5], 8: [5]}\n",
      "m5 S 81 tree 0 run 1\n",
      "m5 S 81 tree 0 run 2\n",
      "m5 S 81 tree 0 run 3\n",
      "m5 S 81 tree 0 run 4\n",
      "m5 S 81 tree 0 run 5\n",
      "{0: [1, 2, 3, 4, 5], 1: [1, 2, 3, 4, 5], 2: [1, 2, 3, 4, 5], 3: [2, 4], 4: [1, 2, 3, 4, 5], 5: [1, 3, 5]}\n",
      "m5 S 40 tree 0 run 1\n",
      "m5 S 40 tree 0 run 2\n",
      "m5 S 40 tree 0 run 3\n",
      "m5 S 40 tree 0 run 4\n",
      "m5 S 40 tree 0 run 5\n",
      "{0: [1, 3, 4, 5], 1: [2], 2: [2], 3: [1, 2, 3, 4, 5], 4: [1, 2, 3, 4, 5], 5: [1, 2, 4, 5], 6: [3, 5]}\n",
      "m5 S 32 tree 0 run 1\n",
      "m5 S 32 tree 0 run 2\n",
      "m5 S 32 tree 0 run 3\n",
      "m5 S 32 tree 0 run 4\n",
      "m5 S 32 tree 0 run 5\n",
      "{0: [1, 2, 3, 4, 5], 1: [1, 2, 3, 4, 5], 2: [1, 2, 3, 4, 5]}\n"
     ]
    },
    {
     "name": "stderr",
     "output_type": "stream",
     "text": [
      "100%|██████████| 10/10 [00:00<00:00, 19.60it/s]\n",
      "  0%|          | 0/10 [00:00<?, ?it/s]"
     ]
    },
    {
     "name": "stdout",
     "output_type": "stream",
     "text": [
      "m5 S 23 tree 0 run 1\n",
      "m5 S 23 tree 0 run 2\n",
      "m5 S 23 tree 0 run 3\n",
      "m5 S 23 tree 0 run 4\n",
      "m5 S 23 tree 0 run 5\n",
      "{0: [1, 2, 3, 4, 5], 1: [3, 5], 2: [1, 2, 3, 4, 5], 3: [2, 3, 4], 4: [1, 3, 5], 5: [1, 2, 4], 6: [2, 5], 7: [1], 8: [4]}\n",
      "m5 S 62 tree 0 run 1\n",
      "m5 S 62 tree 0 run 2\n",
      "m5 S 62 tree 0 run 3\n",
      "m5 S 62 tree 0 run 4\n",
      "m5 S 62 tree 0 run 5\n",
      "{0: [1, 2, 3, 4, 5], 1: [1, 2, 3, 4, 5]}\n",
      "m5 S 17 tree 0 run 1\n",
      "m5 S 17 tree 0 run 2\n",
      "m5 S 17 tree 0 run 3\n",
      "m5 S 17 tree 0 run 4\n",
      "m5 S 17 tree 0 run 5\n",
      "{0: [1, 2, 3, 4, 5], 1: [1, 2, 3, 4, 5], 2: [1, 2, 3, 4, 5], 3: [1, 2, 3, 4, 5]}\n",
      "batch size: 1024\n",
      "m8 M 45 tree 0 run 1\n",
      "m8 M 45 tree 0 run 2\n",
      "m8 M 45 tree 0 run 3\n",
      "m8 M 45 tree 0 run 4\n"
     ]
    },
    {
     "name": "stderr",
     "output_type": "stream",
     "text": [
      "\r",
      " 10%|█         | 1/10 [00:00<00:01,  8.58it/s]"
     ]
    },
    {
     "name": "stdout",
     "output_type": "stream",
     "text": [
      "m8 M 45 tree 0 run 5\n",
      "{0: [1, 2, 3, 4, 5], 1: [1, 2, 3, 4, 5], 2: [4], 3: [5], 4: [2, 3, 5], 5: [1], 6: [3], 7: [1, 2, 3, 4], 8: [2, 5], 9: [1], 10: [4]}\n",
      "m8 M 7 tree 0 run 1\n",
      "m8 M 7 tree 0 run 2\n",
      "m8 M 7 tree 0 run 3\n",
      "m8 M 7 tree 0 run 4\n",
      "m8 M 7 tree 0 run 5\n"
     ]
    },
    {
     "name": "stderr",
     "output_type": "stream",
     "text": [
      " 30%|███       | 3/10 [00:00<00:00,  7.50it/s]"
     ]
    },
    {
     "name": "stdout",
     "output_type": "stream",
     "text": [
      "{0: [1, 2, 3, 4, 5], 1: [2, 3], 2: [1, 2, 3, 4, 5], 3: [1, 2, 3, 4, 5], 4: [1, 4], 5: [1, 2, 3, 4, 5], 6: [5]}\n",
      "m8 M 35 tree 0 run 1\n",
      "m8 M 35 tree 0 run 2\n",
      "m8 M 35 tree 0 run 3\n",
      "m8 M 35 tree 0 run 4\n",
      "m8 M 35 tree 0 run 5\n",
      "{0: [1], 1: [3], 2: [4], 3: [5], 4: [2, 5], 5: [1], 6: [2], 7: [3], 8: [4], 9: [1], 10: [2], 11: [3], 12: [4], 13: [5], 14: [1], 15: [2], 16: [3], 17: [4], 18: [5], 19: [1], 20: [2], 21: [3, 5], 22: [4]}\n",
      "m8 M 243 tree 0 run 1\n",
      "m8 M 243 tree 0 run 2\n",
      "m8 M 243 tree 0 run 3\n"
     ]
    },
    {
     "name": "stderr",
     "output_type": "stream",
     "text": [
      " 50%|█████     | 5/10 [00:00<00:00,  7.33it/s]"
     ]
    },
    {
     "name": "stdout",
     "output_type": "stream",
     "text": [
      "m8 M 243 tree 0 run 4\n",
      "m8 M 243 tree 0 run 5\n",
      "{0: [2, 3, 4], 1: [1, 2, 3, 4, 5], 2: [3, 4], 3: [1, 3], 4: [5], 5: [1, 2, 4], 6: [2, 4, 5], 7: [1, 3], 8: [5], 9: [1], 10: [2], 11: [5]}\n",
      "m8 M 216 tree 0 run 1\n",
      "m8 M 216 tree 0 run 2\n",
      "m8 M 216 tree 0 run 3\n",
      "m8 M 216 tree 0 run 4\n",
      "m8 M 216 tree 0 run 5\n",
      "{0: [2, 5], 1: [4], 2: [1, 2, 3, 4, 5], 3: [5], 4: [1, 2, 3, 4, 5], 5: [1, 2, 3, 4, 5], 6: [1, 4], 7: [1, 2, 3], 8: [3]}\n"
     ]
    },
    {
     "name": "stderr",
     "output_type": "stream",
     "text": [
      "\r",
      " 60%|██████    | 6/10 [00:00<00:00,  7.63it/s]"
     ]
    },
    {
     "name": "stdout",
     "output_type": "stream",
     "text": [
      "m8 M 239 tree 0 run 1\n",
      "m8 M 239 tree 0 run 2\n",
      "m8 M 239 tree 0 run 3\n",
      "m8 M 239 tree 0 run 4\n",
      "m8 M 239 tree 0 run 5\n",
      "{0: [1, 2, 3, 4, 5], 1: [1, 2, 3, 4, 5], 2: [1, 2, 3, 4, 5], 3: [2], 4: [1, 2, 3, 4, 5], 5: [1, 4], 6: [3, 5]}\n",
      "m8 M 19 tree 0 run 1\n",
      "m8 M 19 tree 0 run 2\n",
      "m8 M 19 tree 0 run 3\n",
      "m8 M 19 tree 0 run 4\n",
      "m8 M 19 tree 0 run 5\n"
     ]
    },
    {
     "name": "stderr",
     "output_type": "stream",
     "text": [
      " 80%|████████  | 8/10 [00:01<00:00,  7.35it/s]"
     ]
    },
    {
     "name": "stdout",
     "output_type": "stream",
     "text": [
      "{0: [1, 3, 4, 5], 1: [1, 3, 4, 5], 2: [2], 3: [1, 2, 4], 4: [2], 5: [3, 4, 5], 6: [1], 7: [1, 5], 8: [2], 9: [3, 4, 5], 10: [2], 11: [3]}\n",
      "m8 M 76 tree 0 run 1\n",
      "m8 M 76 tree 0 run 2\n",
      "m8 M 76 tree 0 run 3\n",
      "m8 M 76 tree 0 run 4\n",
      "m8 M 76 tree 0 run 5\n",
      "{0: [1, 2, 4, 5], 1: [1, 2, 3, 4, 5], 2: [1, 2, 3, 4, 5], 3: [1, 2, 3, 4, 5], 4: [3], 5: [1, 2, 4, 5], 6: [3]}\n",
      "m8 M 172 tree 0 run 1\n"
     ]
    },
    {
     "name": "stderr",
     "output_type": "stream",
     "text": [
      "100%|██████████| 10/10 [00:01<00:00,  7.52it/s]\n",
      "  0%|          | 0/10 [00:00<?, ?it/s]"
     ]
    },
    {
     "name": "stdout",
     "output_type": "stream",
     "text": [
      "m8 M 172 tree 0 run 2\n",
      "m8 M 172 tree 0 run 3\n",
      "m8 M 172 tree 0 run 4\n",
      "m8 M 172 tree 0 run 5\n",
      "{0: [1, 3, 5], 1: [2, 4], 2: [2, 4], 3: [3], 4: [5], 5: [1, 5], 6: [2], 7: [1, 2, 3, 4, 5], 8: [2], 9: [3, 4, 5], 10: [3], 11: [4]}\n",
      "m8 M 241 tree 0 run 1\n",
      "m8 M 241 tree 0 run 2\n",
      "m8 M 241 tree 0 run 3\n",
      "m8 M 241 tree 0 run 4\n",
      "m8 M 241 tree 0 run 5\n",
      "{0: [1, 2, 3, 4, 5], 1: [1, 2], 2: [3, 4], 3: [1, 2, 3, 4, 5], 4: [2, 3, 5], 5: [2, 3, 4, 5], 6: [1, 4, 5], 7: [1]}\n"
     ]
    },
    {
     "name": "stderr",
     "output_type": "stream",
     "text": [
      "\r",
      " 20%|██        | 2/10 [00:00<00:00,  9.31it/s]"
     ]
    },
    {
     "name": "stdout",
     "output_type": "stream",
     "text": [
      "m8 mS 0 tree 0 run 1\n",
      "m8 mS 0 tree 0 run 2\n",
      "m8 mS 0 tree 0 run 3\n",
      "m8 mS 0 tree 0 run 4\n",
      "m8 mS 0 tree 0 run 5\n",
      "{0: [1, 2, 3, 5], 1: [1, 2, 4, 5], 2: [4], 3: [1, 2, 3, 5], 4: [3, 5], 5: [1, 2, 3, 4, 5], 6: [1, 2, 4], 7: [3, 4]}\n",
      "m8 mS 7 tree 0 run 1\n",
      "m8 mS 7 tree 0 run 2\n",
      "m8 mS 7 tree 0 run 3\n",
      "m8 mS 7 tree 0 run 4\n",
      "m8 mS 7 tree 0 run 5\n",
      "{0: [1, 2, 3, 4, 5], 1: [1, 2, 3, 4, 5], 2: [1, 2, 3, 4, 5], 3: [1, 2, 3, 4, 5], 4: [1, 2, 3, 4], 5: [5]}\n",
      "m8 mS 4 tree 0 run 1\n",
      "m8 mS 4 tree 0 run 2\n",
      "m8 mS 4 tree 0 run 3\n",
      "m8 mS 4 tree 0 run 4\n",
      "m8 mS 4 tree 0 run 5\n",
      "{0: [1, 2, 3, 5], 1: [2, 3, 4, 5], 2: [1, 2, 3, 4], 3: [1, 5], 4: [2], 5: [2, 3, 4], 6: [3, 4]}\n",
      "m8 mS 9 tree 0 run 1\n",
      "m8 mS 9 tree 0 run 2\n"
     ]
    },
    {
     "name": "stderr",
     "output_type": "stream",
     "text": [
      " 50%|█████     | 5/10 [00:00<00:00,  8.28it/s]"
     ]
    },
    {
     "name": "stdout",
     "output_type": "stream",
     "text": [
      "m8 mS 9 tree 0 run 3\n",
      "m8 mS 9 tree 0 run 4\n",
      "m8 mS 9 tree 0 run 5\n",
      "{0: [1, 2, 3, 4, 5], 1: [2, 5], 2: [1, 2, 3, 4, 5], 3: [1, 2, 3, 4, 5], 4: [4], 5: [1, 3, 4, 5], 6: [1, 3], 7: [2]}\n",
      "m8 mS 8 tree 0 run 1\n",
      "m8 mS 8 tree 0 run 2\n",
      "m8 mS 8 tree 0 run 3\n",
      "m8 mS 8 tree 0 run 4\n",
      "m8 mS 8 tree 0 run 5\n",
      "{0: [1, 2, 3, 4, 5], 1: [1, 2, 3, 4, 5], 2: [1, 2, 3, 4, 5], 3: [4], 4: [1, 2, 3, 4, 5], 5: [1, 2, 5], 6: [3]}\n",
      "m8 mS 3 tree 0 run 1\n",
      "m8 mS 3 tree 0 run 2\n",
      "m8 mS 3 tree 0 run 3\n",
      "m8 mS 3 tree 0 run 4\n",
      "m8 mS 3 tree 0 run 5\n",
      "{0: [1, 2, 3, 4, 5], 1: [1, 2, 3, 4, 5], 2: [1, 2, 3, 5], 3: [1, 2, 3, 4, 5], 4: [1, 2, 3, 4, 5], 5: [4]}\n",
      "m8 mS 12 tree 0 run 1\n",
      "m8 mS 12 tree 0 run 2\n"
     ]
    },
    {
     "name": "stderr",
     "output_type": "stream",
     "text": [
      "\r",
      " 70%|███████   | 7/10 [00:00<00:00,  7.33it/s]"
     ]
    },
    {
     "name": "stdout",
     "output_type": "stream",
     "text": [
      "m8 mS 12 tree 0 run 3\n",
      "m8 mS 12 tree 0 run 4\n",
      "m8 mS 12 tree 0 run 5\n",
      "{0: [1, 2, 3, 4, 5], 1: [1, 2, 3, 4, 5], 2: [1, 2, 4, 5], 3: [2, 3], 4: [1, 3, 4, 5], 5: [1, 2, 3, 4, 5]}\n",
      "m8 mS 10 tree 0 run 1\n",
      "m8 mS 10 tree 0 run 2\n",
      "m8 mS 10 tree 0 run 3\n",
      "m8 mS 10 tree 0 run 4\n"
     ]
    },
    {
     "name": "stderr",
     "output_type": "stream",
     "text": [
      " 90%|█████████ | 9/10 [00:01<00:00,  7.78it/s]"
     ]
    },
    {
     "name": "stdout",
     "output_type": "stream",
     "text": [
      "m8 mS 10 tree 0 run 5\n",
      "{0: [1, 2, 3, 4, 5], 1: [1, 4], 2: [1, 2, 3, 4], 3: [1, 3], 4: [2], 5: [3, 4, 5], 6: [1, 2, 5], 7: [3, 4, 5], 8: [2], 9: [5]}\n",
      "m8 mS 2 tree 0 run 1\n",
      "m8 mS 2 tree 0 run 2\n",
      "m8 mS 2 tree 0 run 3\n",
      "m8 mS 2 tree 0 run 4\n",
      "m8 mS 2 tree 0 run 5\n",
      "{0: [1, 2, 3, 4, 5], 1: [1, 2, 3, 4, 5], 2: [1, 2, 3, 4, 5], 3: [1, 2, 3, 4, 5], 4: [4], 5: [1, 2, 3, 5]}\n",
      "m8 mS 5 tree 0 run 1\n",
      "m8 mS 5 tree 0 run 2\n"
     ]
    },
    {
     "name": "stderr",
     "output_type": "stream",
     "text": [
      "100%|██████████| 10/10 [00:01<00:00,  7.09it/s]\n",
      "  0%|          | 0/10 [00:00<?, ?it/s]"
     ]
    },
    {
     "name": "stdout",
     "output_type": "stream",
     "text": [
      "m8 mS 5 tree 0 run 3\n",
      "m8 mS 5 tree 0 run 4\n",
      "m8 mS 5 tree 0 run 5\n",
      "{0: [1, 2, 3, 4, 5], 1: [4, 5], 2: [1, 2, 3, 4, 5], 3: [1, 2, 3, 4, 5], 4: [1, 2, 3, 4, 5], 5: [1, 2, 3]}\n",
      "m8 R 10157 tree 0 run 1\n",
      "m8 R 10157 tree 0 run 2\n",
      "m8 R 10157 tree 0 run 3\n"
     ]
    },
    {
     "name": "stderr",
     "output_type": "stream",
     "text": [
      " 20%|██        | 2/10 [00:00<00:01,  6.20it/s]"
     ]
    },
    {
     "name": "stdout",
     "output_type": "stream",
     "text": [
      "m8 R 10157 tree 0 run 4\n",
      "m8 R 10157 tree 0 run 5\n",
      "{0: [1, 2, 3, 4, 5], 1: [3, 4], 2: [1, 2, 3, 4, 5], 3: [3], 4: [1, 2, 4, 5], 5: [1, 2, 3, 4, 5], 6: [1, 2, 5]}\n",
      "m8 R 1070 tree 0 run 1\n",
      "m8 R 1070 tree 0 run 2\n",
      "m8 R 1070 tree 0 run 3\n",
      "m8 R 1070 tree 0 run 4\n",
      "m8 R 1070 tree 0 run 5\n",
      "{0: [1, 2, 3, 4, 5], 1: [1, 2, 3, 4, 5], 2: [2, 3, 4], 3: [1, 2, 3, 4, 5], 4: [1, 3, 4, 5], 5: [1, 5], 6: [2]}\n",
      "m8 R 9 tree 0 run 1\n"
     ]
    },
    {
     "name": "stderr",
     "output_type": "stream",
     "text": [
      " 40%|████      | 4/10 [00:00<00:00,  7.24it/s]"
     ]
    },
    {
     "name": "stdout",
     "output_type": "stream",
     "text": [
      "m8 R 9 tree 0 run 2\n",
      "m8 R 9 tree 0 run 3\n",
      "m8 R 9 tree 0 run 4\n",
      "m8 R 9 tree 0 run 5\n",
      "{0: [1, 2, 3, 4, 5], 1: [1, 2, 3, 4, 5], 2: [1, 2, 3, 4, 5], 3: [1], 4: [3, 4], 5: [1, 2, 4, 5], 6: [2], 7: [3], 8: [5]}\n",
      "m8 R 905 tree 0 run 1\n",
      "m8 R 905 tree 0 run 2\n",
      "m8 R 905 tree 0 run 3\n",
      "m8 R 905 tree 0 run 4\n",
      "m8 R 905 tree 0 run 5\n",
      "{0: [1, 2, 3, 4, 5], 1: [2, 4], 2: [1, 2, 3, 4, 5], 3: [2, 3], 4: [1, 2, 3, 4, 5], 5: [1, 3, 4, 5], 6: [1], 7: [5]}\n"
     ]
    },
    {
     "name": "stderr",
     "output_type": "stream",
     "text": [
      "\r",
      " 50%|█████     | 5/10 [00:00<00:00,  6.08it/s]"
     ]
    },
    {
     "name": "stdout",
     "output_type": "stream",
     "text": [
      "m8 R 10046 tree 0 run 1\n",
      "m8 R 10046 tree 0 run 2\n",
      "m8 R 10046 tree 0 run 3\n",
      "m8 R 10046 tree 0 run 4\n",
      "m8 R 10046 tree 0 run 5\n",
      "{0: [1, 2, 3, 4, 5], 1: [1, 2, 3, 4, 5], 2: [1, 2, 3, 4, 5], 3: [1, 2, 3, 4, 5], 4: [1, 2, 3, 4, 5]}\n"
     ]
    },
    {
     "name": "stderr",
     "output_type": "stream",
     "text": [
      "\r",
      " 60%|██████    | 6/10 [00:00<00:00,  6.36it/s]"
     ]
    },
    {
     "name": "stdout",
     "output_type": "stream",
     "text": [
      "m8 R 394 tree 0 run 1\n",
      "m8 R 394 tree 0 run 2\n",
      "m8 R 394 tree 0 run 3\n",
      "m8 R 394 tree 0 run 4\n",
      "m8 R 394 tree 0 run 5\n",
      "{0: [1, 5], 1: [1, 2, 3, 4, 5], 2: [1, 2, 3, 5], 3: [1, 2, 3, 4, 5], 4: [1, 4], 5: [2], 6: [3], 7: [3, 4], 8: [2, 5], 9: [4]}\n",
      "m8 R 981 tree 0 run 1\n",
      "m8 R 981 tree 0 run 2\n"
     ]
    },
    {
     "name": "stderr",
     "output_type": "stream",
     "text": [
      " 80%|████████  | 8/10 [00:01<00:00,  6.92it/s]"
     ]
    },
    {
     "name": "stdout",
     "output_type": "stream",
     "text": [
      "m8 R 981 tree 0 run 3\n",
      "m8 R 981 tree 0 run 4\n",
      "m8 R 981 tree 0 run 5\n",
      "{0: [1, 4], 1: [1, 2, 3, 4, 5], 2: [1, 3, 4, 5], 3: [1, 2, 3, 4, 5], 4: [1, 2, 3, 4, 5], 5: [2, 3, 5], 6: [2]}\n",
      "m8 R 383 tree 0 run 1\n",
      "m8 R 383 tree 0 run 2\n",
      "m8 R 383 tree 0 run 3\n",
      "m8 R 383 tree 0 run 4\n",
      "m8 R 383 tree 0 run 5\n",
      "{0: [1, 2, 3, 4, 5], 1: [2, 3], 2: [1, 2, 3, 4, 5], 3: [4], 4: [1, 2, 5], 5: [2, 3, 4, 5], 6: [1, 3, 4], 7: [1, 5]}\n"
     ]
    },
    {
     "name": "stderr",
     "output_type": "stream",
     "text": [
      "\r",
      " 90%|█████████ | 9/10 [00:01<00:00,  6.73it/s]"
     ]
    },
    {
     "name": "stdout",
     "output_type": "stream",
     "text": [
      "m8 R 30342 tree 0 run 1\n",
      "m8 R 30342 tree 0 run 2\n",
      "m8 R 30342 tree 0 run 3\n",
      "m8 R 30342 tree 0 run 4\n",
      "m8 R 30342 tree 0 run 5\n",
      "{0: [1, 2, 3, 4, 5], 1: [1, 2, 4, 5], 2: [1, 2, 3, 4, 5], 3: [1, 2, 3, 4, 5], 4: [1, 2, 3, 4, 5], 5: [3]}\n",
      "m8 R 157 tree 0 run 1\n",
      "m8 R 157 tree 0 run 2\n"
     ]
    },
    {
     "name": "stderr",
     "output_type": "stream",
     "text": [
      "100%|██████████| 10/10 [00:01<00:00,  6.81it/s]\n",
      "  0%|          | 0/10 [00:00<?, ?it/s]"
     ]
    },
    {
     "name": "stdout",
     "output_type": "stream",
     "text": [
      "m8 R 157 tree 0 run 3\n",
      "m8 R 157 tree 0 run 4\n",
      "m8 R 157 tree 0 run 5\n",
      "{0: [1, 2, 3, 4, 5], 1: [1, 2, 3, 4, 5], 2: [3, 4], 3: [5], 4: [1, 2, 3, 4, 5], 5: [2], 6: [1, 2, 3], 7: [1], 8: [4, 5]}\n",
      "m8 S 0 tree 0 run 1\n",
      "m8 S 0 tree 0 run 2\n"
     ]
    },
    {
     "name": "stderr",
     "output_type": "stream",
     "text": [
      "\r",
      " 10%|█         | 1/10 [00:00<00:02,  3.90it/s]"
     ]
    },
    {
     "name": "stdout",
     "output_type": "stream",
     "text": [
      "m8 S 0 tree 0 run 3\n",
      "m8 S 0 tree 0 run 4\n",
      "m8 S 0 tree 0 run 5\n",
      "{0: [1, 2, 3, 4, 5], 1: [1, 2, 4, 5], 2: [1, 2, 3, 4, 5], 3: [2, 3, 5], 4: [1, 2, 3, 4, 5], 5: [1, 3], 6: [4]}\n",
      "m8 S 35 tree 0 run 1\n",
      "m8 S 35 tree 0 run 2\n",
      "m8 S 35 tree 0 run 3\n"
     ]
    },
    {
     "name": "stderr",
     "output_type": "stream",
     "text": [
      " 30%|███       | 3/10 [00:00<00:01,  5.21it/s]"
     ]
    },
    {
     "name": "stdout",
     "output_type": "stream",
     "text": [
      "m8 S 35 tree 0 run 4\n",
      "m8 S 35 tree 0 run 5\n",
      "{0: [1, 2, 3, 4, 5], 1: [1, 2, 3, 4, 5], 2: [1, 2, 3, 4, 5], 3: [1, 2, 3, 4], 4: [1, 2, 3, 4, 5], 5: [5]}\n",
      "m8 S 37 tree 0 run 1\n",
      "m8 S 37 tree 0 run 2\n",
      "m8 S 37 tree 0 run 3\n",
      "m8 S 37 tree 0 run 4\n",
      "m8 S 37 tree 0 run 5\n",
      "{0: [1, 2, 3, 4, 5], 1: [1, 2, 3, 4, 5], 2: [1, 2, 3, 4, 5], 3: [1, 2, 3, 4, 5], 4: [1, 2, 3, 4, 5]}\n",
      "m8 S 31 tree 0 run 1\n"
     ]
    },
    {
     "name": "stderr",
     "output_type": "stream",
     "text": [
      "\r",
      " 40%|████      | 4/10 [00:00<00:01,  5.13it/s]"
     ]
    },
    {
     "name": "stdout",
     "output_type": "stream",
     "text": [
      "m8 S 31 tree 0 run 2\n",
      "m8 S 31 tree 0 run 3\n",
      "m8 S 31 tree 0 run 4\n",
      "m8 S 31 tree 0 run 5\n",
      "{0: [1, 2, 3, 4, 5], 1: [1, 2, 3, 4, 5], 2: [1], 3: [3], 4: [4, 5], 5: [1, 2, 3], 6: [4, 5], 7: [2, 3], 8: [1, 4, 5], 9: [2]}\n",
      "m8 S 69 tree 0 run 1\n"
     ]
    },
    {
     "name": "stderr",
     "output_type": "stream",
     "text": [
      "\r",
      " 50%|█████     | 5/10 [00:00<00:00,  5.29it/s]"
     ]
    },
    {
     "name": "stdout",
     "output_type": "stream",
     "text": [
      "m8 S 69 tree 0 run 2\n",
      "m8 S 69 tree 0 run 3\n",
      "m8 S 69 tree 0 run 4\n",
      "m8 S 69 tree 0 run 5\n",
      "{0: [1, 2, 3, 4, 5], 1: [1, 2, 3, 4, 5], 2: [1, 2], 3: [1, 2, 3], 4: [1, 5], 5: [2, 3, 4, 5], 6: [3, 4, 5], 7: [4]}\n",
      "m8 S 54 tree 0 run 1\n",
      "m8 S 54 tree 0 run 2\n",
      "m8 S 54 tree 0 run 3\n",
      "m8 S 54 tree 0 run 4\n"
     ]
    },
    {
     "name": "stderr",
     "output_type": "stream",
     "text": [
      "\r",
      " 60%|██████    | 6/10 [00:01<00:00,  6.02it/s]"
     ]
    },
    {
     "name": "stdout",
     "output_type": "stream",
     "text": [
      "m8 S 54 tree 0 run 5\n",
      "{0: [1, 2, 3, 4, 5], 1: [5], 2: [1, 2, 3, 4, 5], 3: [1, 2, 3, 4, 5], 4: [1, 2, 3, 4, 5], 5: [1, 2]}\n",
      "m8 S 12 tree 0 run 1\n",
      "m8 S 12 tree 0 run 2\n",
      "m8 S 12 tree 0 run 3\n",
      "m8 S 12 tree 0 run 4\n"
     ]
    },
    {
     "name": "stderr",
     "output_type": "stream",
     "text": [
      "\r",
      " 70%|███████   | 7/10 [00:01<00:00,  5.33it/s]"
     ]
    },
    {
     "name": "stdout",
     "output_type": "stream",
     "text": [
      "m8 S 12 tree 0 run 5\n",
      "{0: [1, 2, 3, 4, 5], 1: [1, 2, 3, 4, 5], 2: [1, 2, 3, 4, 5], 3: [1, 2, 3, 4, 5], 4: [1], 5: [2, 3, 4, 5]}\n",
      "m8 S 23 tree 0 run 1\n",
      "m8 S 23 tree 0 run 2\n",
      "m8 S 23 tree 0 run 3\n",
      "m8 S 23 tree 0 run 4\n"
     ]
    },
    {
     "name": "stderr",
     "output_type": "stream",
     "text": [
      "\r",
      " 80%|████████  | 8/10 [00:01<00:00,  5.06it/s]"
     ]
    },
    {
     "name": "stdout",
     "output_type": "stream",
     "text": [
      "m8 S 23 tree 0 run 5\n",
      "{0: [1, 2, 3, 4, 5], 1: [2, 3], 2: [1, 2, 3, 4, 5], 3: [5], 4: [1, 2, 3, 4, 5], 5: [1, 2, 3, 4, 5], 6: [1], 7: [4]}\n",
      "m8 S 2 tree 0 run 1\n",
      "m8 S 2 tree 0 run 2\n",
      "m8 S 2 tree 0 run 3\n",
      "m8 S 2 tree 0 run 4\n",
      "m8 S 2 tree 0 run 5\n"
     ]
    },
    {
     "name": "stderr",
     "output_type": "stream",
     "text": [
      "100%|██████████| 10/10 [00:01<00:00,  5.68it/s]\n",
      "  0%|          | 0/10 [00:00<?, ?it/s]"
     ]
    },
    {
     "name": "stdout",
     "output_type": "stream",
     "text": [
      "{0: [1, 2, 3, 4, 5], 1: [3, 4], 2: [1, 2, 3, 4, 5], 3: [1, 3, 4, 5], 4: [1, 2, 3, 4, 5], 5: [1, 2], 6: [2], 7: [5]}\n",
      "m8 S 5 tree 0 run 1\n",
      "m8 S 5 tree 0 run 2\n",
      "m8 S 5 tree 0 run 3\n",
      "m8 S 5 tree 0 run 4\n",
      "m8 S 5 tree 0 run 5\n",
      "{0: [1, 2, 3, 4, 5], 1: [1, 2, 3, 4, 5], 2: [1, 2, 3, 4, 5], 3: [1, 2, 3, 4, 5], 4: [1, 2, 3], 5: [4, 5]}\n",
      "m5 M 209 tree 0 run 1\n",
      "m5 M 209 tree 0 run 2\n",
      "m5 M 209 tree 0 run 3\n",
      "m5 M 209 tree 0 run 4\n",
      "m5 M 209 tree 0 run 5\n",
      "{0: [1, 2, 3, 4, 5], 1: [1, 2, 3, 4, 5], 2: [1, 2, 3, 4, 5], 3: [1, 2, 3, 4, 5], 4: [1, 4, 5], 5: [2, 3]}\n"
     ]
    },
    {
     "name": "stderr",
     "output_type": "stream",
     "text": [
      "\r",
      " 20%|██        | 2/10 [00:00<00:00,  8.02it/s]"
     ]
    },
    {
     "name": "stdout",
     "output_type": "stream",
     "text": [
      "m5 M 534 tree 0 run 1\n",
      "m5 M 534 tree 0 run 2\n",
      "m5 M 534 tree 0 run 3\n",
      "m5 M 534 tree 0 run 4\n",
      "m5 M 534 tree 0 run 5\n",
      "{0: [1, 2, 3, 4, 5], 1: [1, 2, 3, 4, 5], 2: [1, 3, 4], 3: [1, 2, 5], 4: [1, 2, 3], 5: [2, 3, 4, 5], 6: [4, 5]}\n",
      "m5 M 694 tree 0 run 1\n",
      "m5 M 694 tree 0 run 2\n",
      "m5 M 694 tree 0 run 3\n",
      "m5 M 694 tree 0 run 4\n",
      "m5 M 694 tree 0 run 5\n",
      "{0: [1, 2, 3, 4, 5], 1: [4], 2: [1, 2, 3, 4, 5], 3: [1, 2, 3, 4, 5], 4: [1, 3], 5: [4, 5]}\n",
      "m5 M 512 tree 0 run 1\n",
      "m5 M 512 tree 0 run 2\n"
     ]
    },
    {
     "name": "stderr",
     "output_type": "stream",
     "text": [
      "\r",
      " 50%|█████     | 5/10 [00:00<00:00,  9.26it/s]"
     ]
    },
    {
     "name": "stdout",
     "output_type": "stream",
     "text": [
      "m5 M 512 tree 0 run 3\n",
      "m5 M 512 tree 0 run 4\n",
      "m5 M 512 tree 0 run 5\n",
      "{0: [1], 1: [4], 2: [1, 4, 5], 3: [4], 4: [1, 2, 3, 4, 5], 5: [2], 6: [1, 2, 3, 4, 5], 7: [2, 3, 5], 8: [2, 3, 5], 9: [3]}\n",
      "m5 M 545 tree 0 run 1\n",
      "m5 M 545 tree 0 run 2\n",
      "m5 M 545 tree 0 run 3\n",
      "m5 M 545 tree 0 run 4\n",
      "m5 M 545 tree 0 run 5\n",
      "{0: [1, 2, 3, 4, 5], 1: [1, 2, 3, 4, 5], 2: [1, 2, 3, 4, 5], 3: [1, 2, 3, 4, 5], 4: [1, 2, 3, 4, 5]}\n",
      "m5 M 865 tree 0 run 1\n",
      "m5 M 865 tree 0 run 2\n",
      "m5 M 865 tree 0 run 3\n",
      "m5 M 865 tree 0 run 4\n"
     ]
    },
    {
     "name": "stderr",
     "output_type": "stream",
     "text": [
      "\r",
      " 70%|███████   | 7/10 [00:00<00:00,  9.54it/s]"
     ]
    },
    {
     "name": "stdout",
     "output_type": "stream",
     "text": [
      "m5 M 865 tree 0 run 5\n",
      "{0: [1, 2, 3, 4, 5], 1: [1, 2, 3, 4, 5], 2: [1, 3, 5], 3: [1, 2, 3, 4, 5], 4: [1, 2, 4, 5], 5: [2, 3, 4]}\n",
      "m5 M 907 tree 0 run 1\n",
      "m5 M 907 tree 0 run 2\n",
      "m5 M 907 tree 0 run 3\n",
      "m5 M 907 tree 0 run 4\n",
      "m5 M 907 tree 0 run 5\n",
      "{0: [1, 2, 3, 4, 5], 1: [1, 2, 3, 4, 5], 2: [2, 4, 5], 3: [1, 2, 3, 5], 4: [1, 2, 3, 4, 5], 5: [1, 3, 4]}\n",
      "m5 M 76 tree 0 run 1\n",
      "m5 M 76 tree 0 run 2\n",
      "m5 M 76 tree 0 run 3\n",
      "m5 M 76 tree 0 run 4\n",
      "m5 M 76 tree 0 run 5\n",
      "{0: [1, 2, 3, 4, 5], 1: [1, 2, 3, 4, 5], 2: [1, 2, 3, 4, 5], 3: [1, 2, 3, 4, 5], 4: [1, 2, 3, 4, 5]}\n",
      "m5 M 565 tree 0 run 1\n",
      "m5 M 565 tree 0 run 2\n"
     ]
    },
    {
     "name": "stderr",
     "output_type": "stream",
     "text": [
      "100%|██████████| 10/10 [00:00<00:00, 11.10it/s]\n",
      "  0%|          | 0/10 [00:00<?, ?it/s]"
     ]
    },
    {
     "name": "stdout",
     "output_type": "stream",
     "text": [
      "m5 M 565 tree 0 run 3\n",
      "m5 M 565 tree 0 run 4\n",
      "m5 M 565 tree 0 run 5\n",
      "{0: [1, 2, 3, 4, 5], 1: [1, 2, 3, 4, 5], 2: [1, 2, 3, 4, 5], 3: [3, 4], 4: [1, 2, 3, 4, 5], 5: [1], 6: [2, 5]}\n",
      "m5 M 473 tree 0 run 1\n",
      "m5 M 473 tree 0 run 2\n",
      "m5 M 473 tree 0 run 3\n",
      "m5 M 473 tree 0 run 4\n",
      "m5 M 473 tree 0 run 5\n",
      "{0: [1, 4, 5], 1: [3], 2: [1, 2, 3, 4, 5], 3: [1, 2, 3, 4, 5], 4: [2], 5: [2], 6: [3, 5], 7: [1, 3, 4], 8: [1], 9: [2], 10: [4], 11: [5]}\n",
      "m5 mS 0 tree 0 run 1\n",
      "m5 mS 0 tree 0 run 2\n",
      "m5 mS 0 tree 0 run 3\n",
      "m5 mS 0 tree 0 run 4\n",
      "m5 mS 0 tree 0 run 5\n",
      "{0: [1, 2, 3, 4, 5], 1: [1, 2, 3, 4, 5], 2: [1, 2, 3, 4, 5], 3: [1, 2, 3, 4, 5]}\n",
      "m5 mS 7 tree 0 run 1\n",
      "m5 mS 7 tree 0 run 2\n"
     ]
    },
    {
     "name": "stderr",
     "output_type": "stream",
     "text": [
      "\r",
      " 20%|██        | 2/10 [00:00<00:00, 19.15it/s]"
     ]
    },
    {
     "name": "stdout",
     "output_type": "stream",
     "text": [
      "m5 mS 7 tree 0 run 3\n",
      "m5 mS 7 tree 0 run 4\n",
      "m5 mS 7 tree 0 run 5\n",
      "{0: [1, 2, 3, 4, 5], 1: [1, 2, 3, 4, 5], 2: [1, 2, 3, 4, 5], 3: [1, 2, 3, 4, 5], 4: [1, 2, 3, 4, 5]}\n",
      "m5 mS 4 tree 0 run 1\n",
      "m5 mS 4 tree 0 run 2\n",
      "m5 mS 4 tree 0 run 3\n",
      "m5 mS 4 tree 0 run 4\n",
      "m5 mS 4 tree 0 run 5\n",
      "{0: [1, 2, 3, 4, 5]}\n",
      "m5 mS 9 tree 0 run 1\n",
      "m5 mS 9 tree 0 run 2\n",
      "m5 mS 9 tree 0 run 3\n",
      "m5 mS 9 tree 0 run 4\n",
      "m5 mS 9 tree 0 run 5\n",
      "{0: [1, 2, 3, 4, 5], 1: [1, 2, 3, 4, 5]}\n",
      "m5 mS 8 tree 0 run 1\n",
      "m5 mS 8 tree 0 run 2\n",
      "m5 mS 8 tree 0 run 3\n",
      "m5 mS 8 tree 0 run 4\n"
     ]
    },
    {
     "name": "stderr",
     "output_type": "stream",
     "text": [
      "100%|██████████| 10/10 [00:00<00:00, 23.49it/s]\n",
      "  0%|          | 0/10 [00:00<?, ?it/s]"
     ]
    },
    {
     "name": "stdout",
     "output_type": "stream",
     "text": [
      "m5 mS 8 tree 0 run 5\n",
      "{0: [1, 2, 3, 4, 5], 1: [1, 2, 3, 4, 5], 2: [1, 2, 3, 4, 5], 3: [1, 2, 3, 4, 5], 4: [1, 2, 3, 4, 5]}\n",
      "m5 mS 3 tree 0 run 1\n",
      "m5 mS 3 tree 0 run 2\n",
      "m5 mS 3 tree 0 run 3\n",
      "m5 mS 3 tree 0 run 4\n",
      "m5 mS 3 tree 0 run 5\n",
      "{0: [1, 2, 3, 4, 5], 1: [1, 2, 3, 4, 5], 2: [1, 2, 3, 4, 5], 3: [1, 2, 3, 4, 5]}\n",
      "m5 mS 12 tree 0 run 1\n",
      "m5 mS 12 tree 0 run 2\n",
      "m5 mS 12 tree 0 run 3\n",
      "m5 mS 12 tree 0 run 4\n",
      "m5 mS 12 tree 0 run 5\n",
      "{0: [1, 2, 3, 4, 5]}\n",
      "m5 mS 10 tree 0 run 1\n",
      "m5 mS 10 tree 0 run 2\n",
      "m5 mS 10 tree 0 run 3\n",
      "m5 mS 10 tree 0 run 4\n",
      "m5 mS 10 tree 0 run 5\n",
      "{0: [1, 2, 3, 4, 5], 1: [1, 2, 3, 4, 5], 2: [1, 2, 3, 4, 5], 3: [4, 5], 4: [1, 2, 3, 4, 5], 5: [1, 2, 3]}\n",
      "m5 mS 2 tree 0 run 1\n",
      "m5 mS 2 tree 0 run 2\n",
      "m5 mS 2 tree 0 run 3\n",
      "m5 mS 2 tree 0 run 4\n",
      "m5 mS 2 tree 0 run 5\n",
      "{0: [1, 2, 3, 4, 5], 1: [1, 2, 3, 4, 5], 2: [1, 2, 3, 4, 5], 3: [1, 2, 3, 4, 5], 4: [1, 2, 3], 5: [4, 5]}\n",
      "m5 mS 5 tree 0 run 1\n",
      "m5 mS 5 tree 0 run 2\n",
      "m5 mS 5 tree 0 run 3\n",
      "m5 mS 5 tree 0 run 4\n",
      "m5 mS 5 tree 0 run 5\n",
      "{0: [1, 2, 3, 4, 5], 1: [1, 2, 3, 4, 5]}\n",
      "m5 R 571 tree 0 run 1\n",
      "m5 R 571 tree 0 run 2\n",
      "m5 R 571 tree 0 run 3\n"
     ]
    },
    {
     "name": "stderr",
     "output_type": "stream",
     "text": [
      " 30%|███       | 3/10 [00:00<00:00,  9.27it/s]"
     ]
    },
    {
     "name": "stdout",
     "output_type": "stream",
     "text": [
      "m5 R 571 tree 0 run 4\n",
      "m5 R 571 tree 0 run 5\n",
      "{0: [1, 2, 3, 4, 5], 1: [1, 2, 3, 4, 5], 2: [1, 2, 3, 4, 5], 3: [1, 2, 3, 4, 5], 4: [1, 2, 3, 4, 5]}\n",
      "m5 R 1140 tree 0 run 1\n",
      "m5 R 1140 tree 0 run 2\n",
      "m5 R 1140 tree 0 run 3\n",
      "m5 R 1140 tree 0 run 4\n",
      "m5 R 1140 tree 0 run 5\n",
      "{0: [1, 2, 3, 4, 5], 1: [1, 2, 3, 4, 5], 2: [1, 2, 3, 4, 5], 3: [1, 2, 3, 4, 5], 4: [1, 2, 3, 4, 5]}\n",
      "m5 R 538 tree 0 run 1\n",
      "m5 R 538 tree 0 run 2\n",
      "m5 R 538 tree 0 run 3\n",
      "m5 R 538 tree 0 run 4\n",
      "m5 R 538 tree 0 run 5\n",
      "{0: [1, 2, 3, 4, 5], 1: [1, 3, 4, 5], 2: [1, 3, 4, 5], 3: [1, 2, 3, 4, 5], 4: [2, 3, 4], 5: [1, 2, 5], 6: [2]}\n",
      "m5 R 981 tree 0 run 1\n",
      "m5 R 981 tree 0 run 2\n",
      "m5 R 981 tree 0 run 3\n",
      "m5 R 981 tree 0 run 4\n",
      "m5 R 981 tree 0 run 5\n",
      "{0: [1, 2, 3, 4, 5], 1: [1, 2, 3, 4, 5], 2: [2, 5], 3: [1, 2, 3, 4, 5], 4: [1, 3, 4, 5], 5: [2, 3, 4]}\n",
      "m5 R 2155 tree 0 run 1\n"
     ]
    },
    {
     "name": "stderr",
     "output_type": "stream",
     "text": [
      " 60%|██████    | 6/10 [00:00<00:00,  9.81it/s]"
     ]
    },
    {
     "name": "stdout",
     "output_type": "stream",
     "text": [
      "m5 R 2155 tree 0 run 2\n",
      "m5 R 2155 tree 0 run 3\n",
      "m5 R 2155 tree 0 run 4\n",
      "m5 R 2155 tree 0 run 5\n",
      "{0: [1, 2, 3, 4, 5], 1: [1, 2, 4], 2: [1, 2, 3, 4, 5], 3: [1, 2, 4, 5], 4: [3], 5: [1, 2, 3, 4], 6: [3, 5], 7: [5]}\n",
      "m5 R 950 tree 0 run 1\n",
      "m5 R 950 tree 0 run 2\n",
      "m5 R 950 tree 0 run 3\n",
      "m5 R 950 tree 0 run 4\n",
      "m5 R 950 tree 0 run 5\n",
      "{0: [1, 2, 3, 4, 5], 1: [1, 2, 3, 4, 5], 2: [1, 2, 3, 4, 5], 3: [1, 4, 5], 4: [1, 2, 3, 5], 5: [2], 6: [3], 7: [4]}\n"
     ]
    },
    {
     "name": "stderr",
     "output_type": "stream",
     "text": [
      "\r",
      " 70%|███████   | 7/10 [00:00<00:00,  8.87it/s]"
     ]
    },
    {
     "name": "stdout",
     "output_type": "stream",
     "text": [
      "m5 R 247 tree 0 run 1\n",
      "m5 R 247 tree 0 run 2\n",
      "m5 R 247 tree 0 run 3\n",
      "m5 R 247 tree 0 run 4\n",
      "m5 R 247 tree 0 run 5\n",
      "{0: [1, 2, 3, 4, 5], 1: [1, 2, 3, 4, 5], 2: [1, 2, 4, 5], 3: [1, 2, 4, 5], 4: [3], 5: [1, 2, 3, 4, 5], 6: [3]}\n",
      "m5 R 955 tree 0 run 1\n",
      "m5 R 955 tree 0 run 2\n",
      "m5 R 955 tree 0 run 3\n"
     ]
    },
    {
     "name": "stderr",
     "output_type": "stream",
     "text": [
      " 90%|█████████ | 9/10 [00:00<00:00,  9.04it/s]"
     ]
    },
    {
     "name": "stdout",
     "output_type": "stream",
     "text": [
      "m5 R 955 tree 0 run 4\n",
      "m5 R 955 tree 0 run 5\n",
      "{0: [1, 2, 3, 4, 5], 1: [1, 2, 3, 4, 5], 2: [1, 2, 4, 5], 3: [2, 3, 4, 5], 4: [1, 2, 3, 4], 5: [1, 3], 6: [5]}\n",
      "m5 R 518 tree 0 run 1\n",
      "m5 R 518 tree 0 run 2\n",
      "m5 R 518 tree 0 run 3\n",
      "m5 R 518 tree 0 run 4\n",
      "m5 R 518 tree 0 run 5\n",
      "{0: [1, 2, 3, 4, 5], 1: [1, 2, 4, 5], 2: [1, 2, 3, 4, 5], 3: [1, 2, 3, 4, 5], 4: [1, 2, 3, 4, 5], 5: [3]}\n",
      "m5 R 17 tree 0 run 1\n",
      "m5 R 17 tree 0 run 2\n",
      "m5 R 17 tree 0 run 3\n"
     ]
    },
    {
     "name": "stderr",
     "output_type": "stream",
     "text": [
      "100%|██████████| 10/10 [00:00<00:00, 10.16it/s]\n",
      "  0%|          | 0/10 [00:00<?, ?it/s]"
     ]
    },
    {
     "name": "stdout",
     "output_type": "stream",
     "text": [
      "m5 R 17 tree 0 run 4\n",
      "m5 R 17 tree 0 run 5\n",
      "{0: [1, 2, 3, 4, 5], 1: [1, 2, 5], 2: [1, 2, 3, 5], 3: [3], 4: [1, 5], 5: [2, 4], 6: [3], 7: [4], 8: [1, 2, 3, 4, 5], 9: [4]}\n",
      "m5 S 49 tree 0 run 1\n",
      "m5 S 49 tree 0 run 2\n",
      "m5 S 49 tree 0 run 3\n",
      "m5 S 49 tree 0 run 4\n",
      "m5 S 49 tree 0 run 5\n",
      "{0: [1, 2, 3, 4, 5], 1: [1, 2, 3, 4, 5], 2: [2, 3, 4, 5], 3: [1, 2, 3, 4, 5], 4: [1, 5], 5: [1, 2, 3, 4]}\n",
      "m5 S 35 tree 0 run 1\n",
      "m5 S 35 tree 0 run 2\n",
      "m5 S 35 tree 0 run 3\n",
      "m5 S 35 tree 0 run 4\n",
      "m5 S 35 tree 0 run 5\n",
      "{0: [1, 2, 3, 4, 5], 1: [1, 2, 3, 4, 5], 2: [1, 2, 3, 4, 5], 3: [1, 2, 3, 4, 5]}\n",
      "m5 S 25 tree 0 run 1\n",
      "m5 S 25 tree 0 run 2\n",
      "m5 S 25 tree 0 run 3\n",
      "m5 S 25 tree 0 run 4\n"
     ]
    },
    {
     "name": "stderr",
     "output_type": "stream",
     "text": [
      "\r",
      " 30%|███       | 3/10 [00:00<00:00, 14.97it/s]"
     ]
    },
    {
     "name": "stdout",
     "output_type": "stream",
     "text": [
      "m5 S 25 tree 0 run 5\n",
      "{0: [1, 2, 3, 4, 5], 1: [1, 2, 3, 4, 5], 2: [1, 2, 3, 4, 5], 3: [1, 2, 3, 4, 5], 4: [1, 2, 3, 4, 5]}\n",
      "m5 S 31 tree 0 run 1\n",
      "m5 S 31 tree 0 run 2\n",
      "m5 S 31 tree 0 run 3\n"
     ]
    },
    {
     "name": "stderr",
     "output_type": "stream",
     "text": [
      " 50%|█████     | 5/10 [00:00<00:00,  8.58it/s]"
     ]
    },
    {
     "name": "stdout",
     "output_type": "stream",
     "text": [
      "m5 S 31 tree 0 run 4\n",
      "m5 S 31 tree 0 run 5\n",
      "{0: [1, 2, 3, 4, 5], 1: [1, 2, 3, 4, 5], 2: [1, 2, 3, 4, 5], 3: [1, 2, 3, 4, 5], 4: [1], 5: [2, 4], 6: [3, 5]}\n",
      "m5 S 81 tree 0 run 1\n",
      "m5 S 81 tree 0 run 2\n",
      "m5 S 81 tree 0 run 3\n",
      "m5 S 81 tree 0 run 4\n",
      "m5 S 81 tree 0 run 5\n",
      "{0: [1, 2, 3, 4, 5], 1: [1, 2, 3, 4, 5], 2: [1, 2, 3, 4, 5], 3: [1, 2, 3, 4, 5], 4: [1, 2, 3, 4, 5]}\n",
      "m5 S 40 tree 0 run 1\n",
      "m5 S 40 tree 0 run 2\n",
      "m5 S 40 tree 0 run 3\n",
      "m5 S 40 tree 0 run 4\n",
      "m5 S 40 tree 0 run 5\n",
      "{0: [1, 2, 3, 4, 5], 1: [4], 2: [1, 2, 4, 5], 3: [1, 2, 3, 4, 5], 4: [1, 2, 4, 5]}\n",
      "m5 S 32 tree 0 run 1\n",
      "m5 S 32 tree 0 run 2\n",
      "m5 S 32 tree 0 run 3\n",
      "m5 S 32 tree 0 run 4\n",
      "m5 S 32 tree 0 run 5\n",
      "{0: [1, 2, 3, 4, 5], 1: [1, 2, 3, 4, 5], 2: [1, 2, 3, 4, 5], 3: [1, 3, 4]}\n"
     ]
    },
    {
     "name": "stderr",
     "output_type": "stream",
     "text": [
      "100%|██████████| 10/10 [00:00<00:00, 12.85it/s]"
     ]
    },
    {
     "name": "stdout",
     "output_type": "stream",
     "text": [
      "m5 S 23 tree 0 run 1\n",
      "m5 S 23 tree 0 run 2\n",
      "m5 S 23 tree 0 run 3\n",
      "m5 S 23 tree 0 run 4\n",
      "m5 S 23 tree 0 run 5\n",
      "{0: [1, 2, 3, 4, 5], 1: [1, 2, 3, 4, 5], 2: [1, 2, 3, 4, 5], 3: [1, 3, 4, 5], 4: [1, 2, 3, 4, 5], 5: [2]}\n",
      "m5 S 62 tree 0 run 1\n",
      "m5 S 62 tree 0 run 2\n",
      "m5 S 62 tree 0 run 3\n",
      "m5 S 62 tree 0 run 4\n",
      "m5 S 62 tree 0 run 5\n",
      "{0: [1, 2, 3, 4, 5], 1: [1, 2, 3, 4, 5]}\n",
      "m5 S 17 tree 0 run 1\n",
      "m5 S 17 tree 0 run 2\n",
      "m5 S 17 tree 0 run 3\n",
      "m5 S 17 tree 0 run 4\n",
      "m5 S 17 tree 0 run 5\n",
      "{0: [1, 2, 3, 4, 5], 1: [1, 2, 3, 4, 5], 2: [1, 2, 3, 4, 5], 3: [1, 2, 3, 4, 5]}\n"
     ]
    },
    {
     "name": "stderr",
     "output_type": "stream",
     "text": [
      "\n"
     ]
    }
   ],
   "source": [
    "from tqdm import tqdm\n",
    "import torch\n",
    "\n",
    "topk = 5 # how many of the top solutions to check for \n",
    "num_runs = 5\n",
    "\n",
    "sites = [\"m8\", \"m5\"]\n",
    "mig_types = [\"M\", \"mS\", \"R\", \"S\"]\n",
    "batch_sizes = [64, 256, 1024]\n",
    "\n",
    "print(f\"matching top {topk} solutions\")\n",
    "\n",
    "m5_bs_to_rank_to_percentages = {}\n",
    "m8_bs_to_rank_to_percentages = {}\n",
    "all_sites_bs_to_rank_to_percentages = {}\n",
    "\n",
    "sims_dir = os.path.join(REPO_DIR, \"data/machina_sims\")\n",
    "\n",
    "for bs in batch_sizes:\n",
    "    print(\"batch size:\", bs)\n",
    "    m5_bs_to_rank_to_percentages[bs] = {}\n",
    "    m8_bs_to_rank_to_percentages[bs] = {}\n",
    "    all_sites_bs_to_rank_to_percentages[bs] = {}\n",
    "    for site in sites:\n",
    "        for mig_type in mig_types:\n",
    "            # Get all seeds for mig_type + site combo\n",
    "            site_mig_type_dir = os.path.join(sims_dir, site, mig_type)\n",
    "            seeds = fnmatch.filter(os.listdir(site_mig_type_dir), 'clustering_observed_seed*.txt')\n",
    "            seeds = [s.replace(\".txt\", \"\").replace(\"clustering_observed_seed\", \"\") for s in seeds]\n",
    "            for seed in tqdm(seeds):\n",
    "                # Get all the clone trees for this seed\n",
    "                num_trees = get_num_mut_trees(os.path.join(sims_dir, f\"{site}_mut_trees\", f\"mut_trees_{mig_type}_seed{seed}.txt\"))\n",
    "                num_trees = 1\n",
    "                for tree_num in range(num_trees):\n",
    "                    # across all the runs for this mig_type + site + seed + clone tree combo, \n",
    "                    # get the union of all solutions\n",
    "                    solution_to_losses, solution_to_ranks = {}, {}\n",
    "                    run_num_to_solutions = {}\n",
    "                    for run in range(1,num_runs+1):\n",
    "                        Vs, As, losses = get_pckl_info(bs, run, site, mig_type, seed, tree_num, topk)\n",
    "                        run_num_to_solutions[run] = []\n",
    "                        print(site, mig_type, seed, \"tree\", tree_num, \"run\", run)\n",
    "                        for rank,(V,A,loss) in enumerate(zip(Vs, As, losses)):\n",
    "                            V = torch.tensor(V)\n",
    "                            A = torch.tensor(A)\n",
    "                            tree = LabeledTree(A, V)                            \n",
    "                            if tree not in solution_to_losses:\n",
    "                                solution_to_losses[tree] = []\n",
    "                                solution_to_ranks[tree] = []\n",
    "                            solution_to_losses[tree].append(loss)\n",
    "                            solution_to_ranks[tree].append(rank)\n",
    "                            run_num_to_solutions[run].append(tree)\n",
    "                    rank_to_percent_runs = get_rank_to_percent_runs(solution_to_losses, solution_to_ranks, run_num_to_solutions)\n",
    "                    #print(rank_to_percent_runs)\n",
    "                    bs_to_rank_to_percentages = m5_bs_to_rank_to_percentages if site == \"m5\" else m8_bs_to_rank_to_percentages\n",
    "                    for rank in rank_to_percent_runs:\n",
    "                        if rank not in bs_to_rank_to_percentages[bs]:\n",
    "                            bs_to_rank_to_percentages[bs][rank] = []\n",
    "                            all_sites_bs_to_rank_to_percentages[bs][rank] = []\n",
    "                        bs_to_rank_to_percentages[bs][rank].append(rank_to_percent_runs[rank])\n",
    "                        all_sites_bs_to_rank_to_percentages[bs][rank].append(rank_to_percent_runs[rank])\n",
    "\n"
   ]
  },
  {
   "cell_type": "code",
   "execution_count": 9,
   "id": "05661194",
   "metadata": {
    "scrolled": true
   },
   "outputs": [
    {
     "data": {
      "text/html": [
       "<div>\n",
       "<style scoped>\n",
       "    .dataframe tbody tr th:only-of-type {\n",
       "        vertical-align: middle;\n",
       "    }\n",
       "\n",
       "    .dataframe tbody tr th {\n",
       "        vertical-align: top;\n",
       "    }\n",
       "\n",
       "    .dataframe thead th {\n",
       "        text-align: right;\n",
       "    }\n",
       "</style>\n",
       "<table border=\"1\" class=\"dataframe\">\n",
       "  <thead>\n",
       "    <tr style=\"text-align: right;\">\n",
       "      <th></th>\n",
       "      <th>Rank</th>\n",
       "      <th>Method</th>\n",
       "      <th>% runs</th>\n",
       "    </tr>\n",
       "  </thead>\n",
       "  <tbody>\n",
       "    <tr>\n",
       "      <th>0</th>\n",
       "      <td>1</td>\n",
       "      <td>Metient-64</td>\n",
       "      <td>66.000</td>\n",
       "    </tr>\n",
       "    <tr>\n",
       "      <th>1</th>\n",
       "      <td>2</td>\n",
       "      <td>Metient-64</td>\n",
       "      <td>41.500</td>\n",
       "    </tr>\n",
       "    <tr>\n",
       "      <th>2</th>\n",
       "      <td>3</td>\n",
       "      <td>Metient-64</td>\n",
       "      <td>44.500</td>\n",
       "    </tr>\n",
       "    <tr>\n",
       "      <th>3</th>\n",
       "      <td>4</td>\n",
       "      <td>Metient-64</td>\n",
       "      <td>40.500</td>\n",
       "    </tr>\n",
       "    <tr>\n",
       "      <th>4</th>\n",
       "      <td>5</td>\n",
       "      <td>Metient-64</td>\n",
       "      <td>44.500</td>\n",
       "    </tr>\n",
       "    <tr>\n",
       "      <th>...</th>\n",
       "      <td>...</td>\n",
       "      <td>...</td>\n",
       "      <td>...</td>\n",
       "    </tr>\n",
       "    <tr>\n",
       "      <th>57</th>\n",
       "      <td>19</td>\n",
       "      <td>Metient-1024</td>\n",
       "      <td>20.000</td>\n",
       "    </tr>\n",
       "    <tr>\n",
       "      <th>58</th>\n",
       "      <td>20</td>\n",
       "      <td>Metient-1024</td>\n",
       "      <td>20.000</td>\n",
       "    </tr>\n",
       "    <tr>\n",
       "      <th>59</th>\n",
       "      <td>21</td>\n",
       "      <td>Metient-1024</td>\n",
       "      <td>20.000</td>\n",
       "    </tr>\n",
       "    <tr>\n",
       "      <th>60</th>\n",
       "      <td>22</td>\n",
       "      <td>Metient-1024</td>\n",
       "      <td>40.000</td>\n",
       "    </tr>\n",
       "    <tr>\n",
       "      <th>61</th>\n",
       "      <td>23</td>\n",
       "      <td>Metient-1024</td>\n",
       "      <td>20.000</td>\n",
       "    </tr>\n",
       "  </tbody>\n",
       "</table>\n",
       "<p>62 rows × 3 columns</p>\n",
       "</div>"
      ],
      "text/plain": [
       "    Rank        Method  % runs\n",
       "0      1    Metient-64  66.000\n",
       "1      2    Metient-64  41.500\n",
       "2      3    Metient-64  44.500\n",
       "3      4    Metient-64  40.500\n",
       "4      5    Metient-64  44.500\n",
       "..   ...           ...     ...\n",
       "57    19  Metient-1024  20.000\n",
       "58    20  Metient-1024  20.000\n",
       "59    21  Metient-1024  20.000\n",
       "60    22  Metient-1024  40.000\n",
       "61    23  Metient-1024  20.000\n",
       "\n",
       "[62 rows x 3 columns]"
      ]
     },
     "execution_count": 9,
     "metadata": {},
     "output_type": "execute_result"
    }
   ],
   "source": [
    "import pandas as pd\n",
    "\n",
    "m8_data = []\n",
    "for bs in m8_bs_to_rank_to_percentages:\n",
    "    for rank in m8_bs_to_rank_to_percentages[bs]:\n",
    "        avg = 100*(sum(m8_bs_to_rank_to_percentages[bs][rank])/len(m8_bs_to_rank_to_percentages[bs][rank]))\n",
    "        m8_data.append([rank+1, f\"Metient-{bs}\", avg])\n",
    "m8_df = pd.DataFrame(m8_data, columns=[\"Rank\", \"Method\", \"% runs\"])\n",
    "m8_df"
   ]
  },
  {
   "cell_type": "code",
   "execution_count": 10,
   "id": "bb268893",
   "metadata": {
    "scrolled": true
   },
   "outputs": [
    {
     "data": {
      "text/html": [
       "<div>\n",
       "<style scoped>\n",
       "    .dataframe tbody tr th:only-of-type {\n",
       "        vertical-align: middle;\n",
       "    }\n",
       "\n",
       "    .dataframe tbody tr th {\n",
       "        vertical-align: top;\n",
       "    }\n",
       "\n",
       "    .dataframe thead th {\n",
       "        text-align: right;\n",
       "    }\n",
       "</style>\n",
       "<table border=\"1\" class=\"dataframe\">\n",
       "  <thead>\n",
       "    <tr style=\"text-align: right;\">\n",
       "      <th></th>\n",
       "      <th>Rank</th>\n",
       "      <th>Method</th>\n",
       "      <th>% runs</th>\n",
       "    </tr>\n",
       "  </thead>\n",
       "  <tbody>\n",
       "    <tr>\n",
       "      <th>0</th>\n",
       "      <td>1</td>\n",
       "      <td>Metient-64</td>\n",
       "      <td>93.500</td>\n",
       "    </tr>\n",
       "    <tr>\n",
       "      <th>1</th>\n",
       "      <td>2</td>\n",
       "      <td>Metient-64</td>\n",
       "      <td>71.579</td>\n",
       "    </tr>\n",
       "    <tr>\n",
       "      <th>2</th>\n",
       "      <td>3</td>\n",
       "      <td>Metient-64</td>\n",
       "      <td>63.429</td>\n",
       "    </tr>\n",
       "    <tr>\n",
       "      <th>3</th>\n",
       "      <td>4</td>\n",
       "      <td>Metient-64</td>\n",
       "      <td>50.303</td>\n",
       "    </tr>\n",
       "    <tr>\n",
       "      <th>4</th>\n",
       "      <td>5</td>\n",
       "      <td>Metient-64</td>\n",
       "      <td>54.074</td>\n",
       "    </tr>\n",
       "    <tr>\n",
       "      <th>5</th>\n",
       "      <td>6</td>\n",
       "      <td>Metient-64</td>\n",
       "      <td>45.926</td>\n",
       "    </tr>\n",
       "    <tr>\n",
       "      <th>6</th>\n",
       "      <td>7</td>\n",
       "      <td>Metient-64</td>\n",
       "      <td>33.043</td>\n",
       "    </tr>\n",
       "    <tr>\n",
       "      <th>7</th>\n",
       "      <td>8</td>\n",
       "      <td>Metient-64</td>\n",
       "      <td>35.294</td>\n",
       "    </tr>\n",
       "    <tr>\n",
       "      <th>8</th>\n",
       "      <td>9</td>\n",
       "      <td>Metient-64</td>\n",
       "      <td>32.857</td>\n",
       "    </tr>\n",
       "    <tr>\n",
       "      <th>9</th>\n",
       "      <td>10</td>\n",
       "      <td>Metient-64</td>\n",
       "      <td>28.000</td>\n",
       "    </tr>\n",
       "    <tr>\n",
       "      <th>10</th>\n",
       "      <td>11</td>\n",
       "      <td>Metient-64</td>\n",
       "      <td>26.667</td>\n",
       "    </tr>\n",
       "    <tr>\n",
       "      <th>11</th>\n",
       "      <td>12</td>\n",
       "      <td>Metient-64</td>\n",
       "      <td>20.000</td>\n",
       "    </tr>\n",
       "    <tr>\n",
       "      <th>12</th>\n",
       "      <td>13</td>\n",
       "      <td>Metient-64</td>\n",
       "      <td>20.000</td>\n",
       "    </tr>\n",
       "    <tr>\n",
       "      <th>13</th>\n",
       "      <td>1</td>\n",
       "      <td>Metient-256</td>\n",
       "      <td>93.500</td>\n",
       "    </tr>\n",
       "    <tr>\n",
       "      <th>14</th>\n",
       "      <td>2</td>\n",
       "      <td>Metient-256</td>\n",
       "      <td>79.474</td>\n",
       "    </tr>\n",
       "    <tr>\n",
       "      <th>15</th>\n",
       "      <td>3</td>\n",
       "      <td>Metient-256</td>\n",
       "      <td>77.143</td>\n",
       "    </tr>\n",
       "    <tr>\n",
       "      <th>16</th>\n",
       "      <td>4</td>\n",
       "      <td>Metient-256</td>\n",
       "      <td>67.647</td>\n",
       "    </tr>\n",
       "    <tr>\n",
       "      <th>17</th>\n",
       "      <td>5</td>\n",
       "      <td>Metient-256</td>\n",
       "      <td>64.667</td>\n",
       "    </tr>\n",
       "    <tr>\n",
       "      <th>18</th>\n",
       "      <td>6</td>\n",
       "      <td>Metient-256</td>\n",
       "      <td>49.167</td>\n",
       "    </tr>\n",
       "    <tr>\n",
       "      <th>19</th>\n",
       "      <td>7</td>\n",
       "      <td>Metient-256</td>\n",
       "      <td>45.263</td>\n",
       "    </tr>\n",
       "    <tr>\n",
       "      <th>20</th>\n",
       "      <td>8</td>\n",
       "      <td>Metient-256</td>\n",
       "      <td>35.000</td>\n",
       "    </tr>\n",
       "    <tr>\n",
       "      <th>21</th>\n",
       "      <td>9</td>\n",
       "      <td>Metient-256</td>\n",
       "      <td>32.727</td>\n",
       "    </tr>\n",
       "    <tr>\n",
       "      <th>22</th>\n",
       "      <td>10</td>\n",
       "      <td>Metient-256</td>\n",
       "      <td>37.143</td>\n",
       "    </tr>\n",
       "    <tr>\n",
       "      <th>23</th>\n",
       "      <td>11</td>\n",
       "      <td>Metient-256</td>\n",
       "      <td>25.000</td>\n",
       "    </tr>\n",
       "    <tr>\n",
       "      <th>24</th>\n",
       "      <td>12</td>\n",
       "      <td>Metient-256</td>\n",
       "      <td>20.000</td>\n",
       "    </tr>\n",
       "    <tr>\n",
       "      <th>25</th>\n",
       "      <td>13</td>\n",
       "      <td>Metient-256</td>\n",
       "      <td>20.000</td>\n",
       "    </tr>\n",
       "    <tr>\n",
       "      <th>26</th>\n",
       "      <td>1</td>\n",
       "      <td>Metient-1024</td>\n",
       "      <td>97.000</td>\n",
       "    </tr>\n",
       "    <tr>\n",
       "      <th>27</th>\n",
       "      <td>2</td>\n",
       "      <td>Metient-1024</td>\n",
       "      <td>88.421</td>\n",
       "    </tr>\n",
       "    <tr>\n",
       "      <th>28</th>\n",
       "      <td>3</td>\n",
       "      <td>Metient-1024</td>\n",
       "      <td>90.286</td>\n",
       "    </tr>\n",
       "    <tr>\n",
       "      <th>29</th>\n",
       "      <td>4</td>\n",
       "      <td>Metient-1024</td>\n",
       "      <td>85.714</td>\n",
       "    </tr>\n",
       "    <tr>\n",
       "      <th>30</th>\n",
       "      <td>5</td>\n",
       "      <td>Metient-1024</td>\n",
       "      <td>74.667</td>\n",
       "    </tr>\n",
       "    <tr>\n",
       "      <th>31</th>\n",
       "      <td>6</td>\n",
       "      <td>Metient-1024</td>\n",
       "      <td>47.619</td>\n",
       "    </tr>\n",
       "    <tr>\n",
       "      <th>32</th>\n",
       "      <td>7</td>\n",
       "      <td>Metient-1024</td>\n",
       "      <td>36.364</td>\n",
       "    </tr>\n",
       "    <tr>\n",
       "      <th>33</th>\n",
       "      <td>8</td>\n",
       "      <td>Metient-1024</td>\n",
       "      <td>36.000</td>\n",
       "    </tr>\n",
       "    <tr>\n",
       "      <th>34</th>\n",
       "      <td>9</td>\n",
       "      <td>Metient-1024</td>\n",
       "      <td>60.000</td>\n",
       "    </tr>\n",
       "    <tr>\n",
       "      <th>35</th>\n",
       "      <td>10</td>\n",
       "      <td>Metient-1024</td>\n",
       "      <td>20.000</td>\n",
       "    </tr>\n",
       "    <tr>\n",
       "      <th>36</th>\n",
       "      <td>11</td>\n",
       "      <td>Metient-1024</td>\n",
       "      <td>20.000</td>\n",
       "    </tr>\n",
       "    <tr>\n",
       "      <th>37</th>\n",
       "      <td>12</td>\n",
       "      <td>Metient-1024</td>\n",
       "      <td>20.000</td>\n",
       "    </tr>\n",
       "  </tbody>\n",
       "</table>\n",
       "</div>"
      ],
      "text/plain": [
       "    Rank        Method  % runs\n",
       "0      1    Metient-64  93.500\n",
       "1      2    Metient-64  71.579\n",
       "2      3    Metient-64  63.429\n",
       "3      4    Metient-64  50.303\n",
       "4      5    Metient-64  54.074\n",
       "5      6    Metient-64  45.926\n",
       "6      7    Metient-64  33.043\n",
       "7      8    Metient-64  35.294\n",
       "8      9    Metient-64  32.857\n",
       "9     10    Metient-64  28.000\n",
       "10    11    Metient-64  26.667\n",
       "11    12    Metient-64  20.000\n",
       "12    13    Metient-64  20.000\n",
       "13     1   Metient-256  93.500\n",
       "14     2   Metient-256  79.474\n",
       "15     3   Metient-256  77.143\n",
       "16     4   Metient-256  67.647\n",
       "17     5   Metient-256  64.667\n",
       "18     6   Metient-256  49.167\n",
       "19     7   Metient-256  45.263\n",
       "20     8   Metient-256  35.000\n",
       "21     9   Metient-256  32.727\n",
       "22    10   Metient-256  37.143\n",
       "23    11   Metient-256  25.000\n",
       "24    12   Metient-256  20.000\n",
       "25    13   Metient-256  20.000\n",
       "26     1  Metient-1024  97.000\n",
       "27     2  Metient-1024  88.421\n",
       "28     3  Metient-1024  90.286\n",
       "29     4  Metient-1024  85.714\n",
       "30     5  Metient-1024  74.667\n",
       "31     6  Metient-1024  47.619\n",
       "32     7  Metient-1024  36.364\n",
       "33     8  Metient-1024  36.000\n",
       "34     9  Metient-1024  60.000\n",
       "35    10  Metient-1024  20.000\n",
       "36    11  Metient-1024  20.000\n",
       "37    12  Metient-1024  20.000"
      ]
     },
     "execution_count": 10,
     "metadata": {},
     "output_type": "execute_result"
    }
   ],
   "source": [
    "m5_data = []\n",
    "for bs in m5_bs_to_rank_to_percentages:\n",
    "    for rank in m5_bs_to_rank_to_percentages[bs]:\n",
    "        avg = 100*(sum(m5_bs_to_rank_to_percentages[bs][rank])/len(m5_bs_to_rank_to_percentages[bs][rank]))\n",
    "        m5_data.append([rank+1, f\"Metient-{bs}\", avg])\n",
    "m5_df = pd.DataFrame(m5_data, columns=[\"Rank\", \"Method\", \"% runs\"])\n",
    "m5_df"
   ]
  },
  {
   "cell_type": "code",
   "execution_count": 11,
   "id": "22bcda83",
   "metadata": {},
   "outputs": [
    {
     "data": {
      "text/html": [
       "<div>\n",
       "<style scoped>\n",
       "    .dataframe tbody tr th:only-of-type {\n",
       "        vertical-align: middle;\n",
       "    }\n",
       "\n",
       "    .dataframe tbody tr th {\n",
       "        vertical-align: top;\n",
       "    }\n",
       "\n",
       "    .dataframe thead th {\n",
       "        text-align: right;\n",
       "    }\n",
       "</style>\n",
       "<table border=\"1\" class=\"dataframe\">\n",
       "  <thead>\n",
       "    <tr style=\"text-align: right;\">\n",
       "      <th></th>\n",
       "      <th>Rank</th>\n",
       "      <th>Method</th>\n",
       "      <th>% runs</th>\n",
       "    </tr>\n",
       "  </thead>\n",
       "  <tbody>\n",
       "    <tr>\n",
       "      <th>0</th>\n",
       "      <td>1</td>\n",
       "      <td>Metient-64</td>\n",
       "      <td>93.500</td>\n",
       "    </tr>\n",
       "    <tr>\n",
       "      <th>1</th>\n",
       "      <td>2</td>\n",
       "      <td>Metient-64</td>\n",
       "      <td>71.579</td>\n",
       "    </tr>\n",
       "    <tr>\n",
       "      <th>2</th>\n",
       "      <td>3</td>\n",
       "      <td>Metient-64</td>\n",
       "      <td>63.429</td>\n",
       "    </tr>\n",
       "    <tr>\n",
       "      <th>3</th>\n",
       "      <td>4</td>\n",
       "      <td>Metient-64</td>\n",
       "      <td>50.303</td>\n",
       "    </tr>\n",
       "    <tr>\n",
       "      <th>4</th>\n",
       "      <td>5</td>\n",
       "      <td>Metient-64</td>\n",
       "      <td>54.074</td>\n",
       "    </tr>\n",
       "    <tr>\n",
       "      <th>...</th>\n",
       "      <td>...</td>\n",
       "      <td>...</td>\n",
       "      <td>...</td>\n",
       "    </tr>\n",
       "    <tr>\n",
       "      <th>57</th>\n",
       "      <td>19</td>\n",
       "      <td>Metient-1024</td>\n",
       "      <td>20.000</td>\n",
       "    </tr>\n",
       "    <tr>\n",
       "      <th>58</th>\n",
       "      <td>20</td>\n",
       "      <td>Metient-1024</td>\n",
       "      <td>20.000</td>\n",
       "    </tr>\n",
       "    <tr>\n",
       "      <th>59</th>\n",
       "      <td>21</td>\n",
       "      <td>Metient-1024</td>\n",
       "      <td>20.000</td>\n",
       "    </tr>\n",
       "    <tr>\n",
       "      <th>60</th>\n",
       "      <td>22</td>\n",
       "      <td>Metient-1024</td>\n",
       "      <td>40.000</td>\n",
       "    </tr>\n",
       "    <tr>\n",
       "      <th>61</th>\n",
       "      <td>23</td>\n",
       "      <td>Metient-1024</td>\n",
       "      <td>20.000</td>\n",
       "    </tr>\n",
       "  </tbody>\n",
       "</table>\n",
       "<p>62 rows × 3 columns</p>\n",
       "</div>"
      ],
      "text/plain": [
       "    Rank        Method  % runs\n",
       "0      1    Metient-64  93.500\n",
       "1      2    Metient-64  71.579\n",
       "2      3    Metient-64  63.429\n",
       "3      4    Metient-64  50.303\n",
       "4      5    Metient-64  54.074\n",
       "..   ...           ...     ...\n",
       "57    19  Metient-1024  20.000\n",
       "58    20  Metient-1024  20.000\n",
       "59    21  Metient-1024  20.000\n",
       "60    22  Metient-1024  40.000\n",
       "61    23  Metient-1024  20.000\n",
       "\n",
       "[62 rows x 3 columns]"
      ]
     },
     "execution_count": 11,
     "metadata": {},
     "output_type": "execute_result"
    }
   ],
   "source": [
    "all_sites_data = []\n",
    "for bs in all_sites_bs_to_rank_to_percentages:\n",
    "    for rank in all_sites_bs_to_rank_to_percentages[bs]:\n",
    "        avg = 100*(sum(all_sites_bs_to_rank_to_percentages[bs][rank])/len(all_sites_bs_to_rank_to_percentages[bs][rank]))\n",
    "        all_sites_data.append([rank+1, f\"Metient-{bs}\", avg])\n",
    "all_sites_df = pd.DataFrame(all_sites_data, columns=[\"Rank\", \"Method\", \"% runs\"])\n",
    "all_sites_df"
   ]
  },
  {
   "cell_type": "code",
   "execution_count": 14,
   "id": "a11f1e2d",
   "metadata": {},
   "outputs": [
    {
     "data": {
      "text/html": [
       "<div>\n",
       "<style scoped>\n",
       "    .dataframe tbody tr th:only-of-type {\n",
       "        vertical-align: middle;\n",
       "    }\n",
       "\n",
       "    .dataframe tbody tr th {\n",
       "        vertical-align: top;\n",
       "    }\n",
       "\n",
       "    .dataframe thead th {\n",
       "        text-align: right;\n",
       "    }\n",
       "</style>\n",
       "<table border=\"1\" class=\"dataframe\">\n",
       "  <thead>\n",
       "    <tr style=\"text-align: right;\">\n",
       "      <th></th>\n",
       "      <th>Rank</th>\n",
       "      <th>Method</th>\n",
       "      <th>% runs</th>\n",
       "    </tr>\n",
       "  </thead>\n",
       "  <tbody>\n",
       "    <tr>\n",
       "      <th>39</th>\n",
       "      <td>1</td>\n",
       "      <td>Metient-1024</td>\n",
       "      <td>97.000</td>\n",
       "    </tr>\n",
       "    <tr>\n",
       "      <th>40</th>\n",
       "      <td>2</td>\n",
       "      <td>Metient-1024</td>\n",
       "      <td>88.421</td>\n",
       "    </tr>\n",
       "    <tr>\n",
       "      <th>41</th>\n",
       "      <td>3</td>\n",
       "      <td>Metient-1024</td>\n",
       "      <td>90.286</td>\n",
       "    </tr>\n",
       "    <tr>\n",
       "      <th>42</th>\n",
       "      <td>4</td>\n",
       "      <td>Metient-1024</td>\n",
       "      <td>85.714</td>\n",
       "    </tr>\n",
       "    <tr>\n",
       "      <th>43</th>\n",
       "      <td>5</td>\n",
       "      <td>Metient-1024</td>\n",
       "      <td>74.667</td>\n",
       "    </tr>\n",
       "    <tr>\n",
       "      <th>44</th>\n",
       "      <td>6</td>\n",
       "      <td>Metient-1024</td>\n",
       "      <td>47.619</td>\n",
       "    </tr>\n",
       "    <tr>\n",
       "      <th>45</th>\n",
       "      <td>7</td>\n",
       "      <td>Metient-1024</td>\n",
       "      <td>36.364</td>\n",
       "    </tr>\n",
       "    <tr>\n",
       "      <th>46</th>\n",
       "      <td>8</td>\n",
       "      <td>Metient-1024</td>\n",
       "      <td>36.000</td>\n",
       "    </tr>\n",
       "    <tr>\n",
       "      <th>47</th>\n",
       "      <td>9</td>\n",
       "      <td>Metient-1024</td>\n",
       "      <td>60.000</td>\n",
       "    </tr>\n",
       "    <tr>\n",
       "      <th>48</th>\n",
       "      <td>10</td>\n",
       "      <td>Metient-1024</td>\n",
       "      <td>20.000</td>\n",
       "    </tr>\n",
       "    <tr>\n",
       "      <th>49</th>\n",
       "      <td>11</td>\n",
       "      <td>Metient-1024</td>\n",
       "      <td>20.000</td>\n",
       "    </tr>\n",
       "    <tr>\n",
       "      <th>50</th>\n",
       "      <td>12</td>\n",
       "      <td>Metient-1024</td>\n",
       "      <td>20.000</td>\n",
       "    </tr>\n",
       "    <tr>\n",
       "      <th>51</th>\n",
       "      <td>13</td>\n",
       "      <td>Metient-1024</td>\n",
       "      <td>20.000</td>\n",
       "    </tr>\n",
       "    <tr>\n",
       "      <th>52</th>\n",
       "      <td>14</td>\n",
       "      <td>Metient-1024</td>\n",
       "      <td>20.000</td>\n",
       "    </tr>\n",
       "    <tr>\n",
       "      <th>53</th>\n",
       "      <td>15</td>\n",
       "      <td>Metient-1024</td>\n",
       "      <td>20.000</td>\n",
       "    </tr>\n",
       "    <tr>\n",
       "      <th>54</th>\n",
       "      <td>16</td>\n",
       "      <td>Metient-1024</td>\n",
       "      <td>20.000</td>\n",
       "    </tr>\n",
       "    <tr>\n",
       "      <th>55</th>\n",
       "      <td>17</td>\n",
       "      <td>Metient-1024</td>\n",
       "      <td>20.000</td>\n",
       "    </tr>\n",
       "    <tr>\n",
       "      <th>56</th>\n",
       "      <td>18</td>\n",
       "      <td>Metient-1024</td>\n",
       "      <td>20.000</td>\n",
       "    </tr>\n",
       "    <tr>\n",
       "      <th>57</th>\n",
       "      <td>19</td>\n",
       "      <td>Metient-1024</td>\n",
       "      <td>20.000</td>\n",
       "    </tr>\n",
       "    <tr>\n",
       "      <th>58</th>\n",
       "      <td>20</td>\n",
       "      <td>Metient-1024</td>\n",
       "      <td>20.000</td>\n",
       "    </tr>\n",
       "    <tr>\n",
       "      <th>59</th>\n",
       "      <td>21</td>\n",
       "      <td>Metient-1024</td>\n",
       "      <td>20.000</td>\n",
       "    </tr>\n",
       "    <tr>\n",
       "      <th>60</th>\n",
       "      <td>22</td>\n",
       "      <td>Metient-1024</td>\n",
       "      <td>40.000</td>\n",
       "    </tr>\n",
       "    <tr>\n",
       "      <th>61</th>\n",
       "      <td>23</td>\n",
       "      <td>Metient-1024</td>\n",
       "      <td>20.000</td>\n",
       "    </tr>\n",
       "  </tbody>\n",
       "</table>\n",
       "</div>"
      ],
      "text/plain": [
       "    Rank        Method  % runs\n",
       "39     1  Metient-1024  97.000\n",
       "40     2  Metient-1024  88.421\n",
       "41     3  Metient-1024  90.286\n",
       "42     4  Metient-1024  85.714\n",
       "43     5  Metient-1024  74.667\n",
       "44     6  Metient-1024  47.619\n",
       "45     7  Metient-1024  36.364\n",
       "46     8  Metient-1024  36.000\n",
       "47     9  Metient-1024  60.000\n",
       "48    10  Metient-1024  20.000\n",
       "49    11  Metient-1024  20.000\n",
       "50    12  Metient-1024  20.000\n",
       "51    13  Metient-1024  20.000\n",
       "52    14  Metient-1024  20.000\n",
       "53    15  Metient-1024  20.000\n",
       "54    16  Metient-1024  20.000\n",
       "55    17  Metient-1024  20.000\n",
       "56    18  Metient-1024  20.000\n",
       "57    19  Metient-1024  20.000\n",
       "58    20  Metient-1024  20.000\n",
       "59    21  Metient-1024  20.000\n",
       "60    22  Metient-1024  40.000\n",
       "61    23  Metient-1024  20.000"
      ]
     },
     "execution_count": 14,
     "metadata": {},
     "output_type": "execute_result"
    }
   ],
   "source": [
    "all_sites_df[all_sites_df['Method']=='Metient-1024']"
   ]
  },
  {
   "cell_type": "code",
   "execution_count": 12,
   "id": "cbf5eea8",
   "metadata": {},
   "outputs": [
    {
     "name": "stdout",
     "output_type": "stream",
     "text": [
      "[(0.48942421, 0.72854938, 0.56751036), (0.34892097, 0.64828676, 0.56513633), (0.24929311, 0.56486397, 0.5586654)]\n"
     ]
    },
    {
     "data": {
      "image/png": "[encoded data removed]",
      "text/plain": [
       "<Figure size 572.5x400 with 1 Axes>"
      ]
     },
     "metadata": {},
     "output_type": "display_data"
    },
    {
     "data": {
      "image/png": "[encoded data removed]",
      "text/plain": [
       "<Figure size 572.5x400 with 1 Axes>"
      ]
     },
     "metadata": {},
     "output_type": "display_data"
    }
   ],
   "source": [
    "import seaborn as sns\n",
    "import matplotlib.pyplot as plt\n",
    "colors = sns.color_palette(\"crest\")\n",
    "colors = colors[:len(batch_sizes)]\n",
    "print(colors)\n",
    "sns.set_palette(sns.color_palette(colors))\n",
    "\n",
    "for name,df in zip([\"m5\", \"m8\"], [m5_df, m8_df]):\n",
    "    with sns.plotting_context(\"notebook\", font_scale=1.1):\n",
    "        g = sns.relplot(\n",
    "            data=df, x=\"Rank\", y=\"% runs\",\n",
    "            height=4, aspect=1.0, dashes=False, linewidth=2.5,\n",
    "            hue=\"Method\", style=\"Method\", kind=\"line\", legend=True,\n",
    "        )\n",
    "\n",
    "        (g.set_axis_labels(\"Rank of solution\", \"% of runs that solution is found\")\n",
    "          .set_titles(\"boop\")\n",
    "          .tight_layout(w_pad=0))\n",
    "        plt.xlim(1,16)\n",
    "        #sns.move_legend(g, \"upper right\")\n",
    "        plt.show()\n",
    "        \n",
    "\n",
    "        fig = g.fig\n",
    "        #out_name = (\"_\").join(y_labels[i].split(\" \") + x.split(\" \"))\n",
    "        fig.savefig(os.path.join(REPO_DIR, \"test/output_plots\", f\"{name}_percent_solns_found_{PARAMS}_{DATE}.png\"), dpi=600) \n"
   ]
  },
  {
   "cell_type": "code",
   "execution_count": 13,
   "id": "819ecfa7",
   "metadata": {},
   "outputs": [
    {
     "name": "stdout",
     "output_type": "stream",
     "text": [
      "[(0.48942421, 0.72854938, 0.56751036), (0.34892097, 0.64828676, 0.56513633), (0.24929311, 0.56486397, 0.5586654)]\n"
     ]
    },
    {
     "data": {
      "text/plain": [
       "<Figure size 400x400 with 0 Axes>"
      ]
     },
     "metadata": {},
     "output_type": "display_data"
    },
    {
     "data": {
      "image/png": "[encoded data removed]",
      "text/plain": [
       "<Figure size 400x400 with 1 Axes>"
      ]
     },
     "metadata": {},
     "output_type": "display_data"
    }
   ],
   "source": [
    "import seaborn as sns\n",
    "import matplotlib.pyplot as plt\n",
    "colors = sns.color_palette(\"crest\")\n",
    "colors = colors[:len(batch_sizes)]\n",
    "print(colors)\n",
    "sns.set(style='ticks', font=\"Helvetica\", rc={'axes.labelsize': 10, 'xtick.labelsize': 8, 'ytick.labelsize': 8, 'axes.linewidth': 1.1})\n",
    "sns.set_palette(sns.color_palette(colors))\n",
    "plt.figure(figsize=(2, 2), dpi=200)\n",
    "\n",
    "with sns.plotting_context(\"notebook\", font_scale=1.2):\n",
    "    g = sns.relplot(\n",
    "        data=all_sites_df, x=\"Rank\", y=\"% runs\",\n",
    "        height=4, aspect=1.0, dashes=False, linewidth=2.5,\n",
    "        hue=\"Method\", style=\"Method\", kind=\"line\",  legend=False,\n",
    "    )\n",
    "\n",
    "    (g.set_axis_labels(\"Rank of solution\", \"% of runs that solution is found\")\n",
    "      .set_titles(\"boop\")\n",
    "      .tight_layout(w_pad=0))\n",
    "    plt.xlim(1,16)\n",
    "    plt.show()\n",
    "\n",
    "\n",
    "    fig = g.fig\n",
    "    fig.savefig(os.path.join(REPO_DIR, \"test/output_plots\", f\"all_sites_percent_solns_found_{PARAMS}_{DATE}.png\"), dpi=600) \n"
   ]
  },
  {
   "cell_type": "code",
   "execution_count": null,
   "id": "6b563146",
   "metadata": {},
   "outputs": [],
   "source": []
  }
 ],
 "metadata": {
  "kernelspec": {
   "display_name": "Python [conda env:mambaforge-met]",
   "language": "python",
   "name": "conda-env-mambaforge-met-py"
  },
  "language_info": {
   "codemirror_mode": {
    "name": "ipython",
    "version": 3
   },
   "file_extension": ".py",
   "mimetype": "text/x-python",
   "name": "python",
   "nbconvert_exporter": "python",
   "pygments_lexer": "ipython3",
   "version": "3.8.0"
  }
 },
 "nbformat": 4,
 "nbformat_minor": 5
}
