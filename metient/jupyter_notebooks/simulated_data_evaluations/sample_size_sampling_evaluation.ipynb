{
 "cells": [
  {
   "cell_type": "code",
   "execution_count": 1,
   "id": "4624fc1b",
   "metadata": {},
   "outputs": [
    {
     "data": {
      "text/plain": [
       "<Figure size 640x480 with 0 Axes>"
      ]
     },
     "metadata": {},
     "output_type": "display_data"
    }
   ],
   "source": [
    "#!/usr/bin/python\n",
    "'''\n",
    "Evaluate how well solutions match when run multiple times, with varying sample size\n",
    "'''\n",
    "import sys\n",
    "import os\n",
    "import fnmatch\n",
    "import numpy as np\n",
    "from metient.util.vertex_labeling_util import MigrationHistory\n",
    "from metient.util.globals import *\n",
    "from metient.util import eval_util as eutil\n",
    "\n",
    "import re\n",
    "import pickle\n",
    "\n",
    "REPO_DIR = os.path.join(os.getcwd(), \"../../\")\n",
    "\n",
    "DATE = \"08072024\"\n",
    "PARAMS = \"calibrate_wip_new_split\"\n",
    "\n",
    "# plotting\n",
    "import pandas as pd\n",
    "import seaborn as sns\n",
    "import matplotlib.pyplot as plt\n",
    "sns.set(font_scale=1.5)\n",
    "\n",
    "sns.set_style(\"whitegrid\")\n",
    "sns.set_style(\"ticks\")\n",
    "sns.despine()\n",
    "from matplotlib import rcParams\n",
    "rcParams.update({'figure.autolayout': True})\n",
    "pc_map = {'mS':0, 'pS': 1, 'mM': 2, 'pM': 3, 'mR': 4, 'pR': 5}\n",
    "\n",
    "from statannot import add_stat_annotation\n"
   ]
  },
  {
   "cell_type": "code",
   "execution_count": 2,
   "id": "6319a26b",
   "metadata": {},
   "outputs": [],
   "source": [
    "import gzip\n",
    "\n",
    "metient_results_dir = '/data/morrisq/divyak/data/metient_prediction_results/'\n",
    "\n",
    "def get_num_mut_trees(mut_tree_fn):\n",
    "    with open(mut_tree_fn, 'r') as f:\n",
    "        # look for line w/ \"3 #trees\" as an example\n",
    "        for line in f:\n",
    "            if  \"#trees\" in line:\n",
    "                return int(line.strip().split()[0])    \n",
    "\n",
    "def get_pckl_info(bs, run, site, mig_type, seed, tree_num, topk):\n",
    "    prediction_dir = os.path.join(metient_results_dir, f'predictions_batch_exp_bs{bs}_{PARAMS}_r{run}_{DATE}')\n",
    "    predicted_site_mig_type_data_dir = os.path.join(prediction_dir, site, mig_type)\n",
    "    \n",
    "    with gzip.open(os.path.join(predicted_site_mig_type_data_dir, f\"tree{tree_num}_seed{seed}_calibrate.pkl.gz\"), \"rb\") as f:\n",
    "        pckl = pickle.load(f)\n",
    "    Vs = pckl[OUT_LABElING_KEY]\n",
    "    k = topk if len(Vs) >= topk else len(Vs)\n",
    "    Vs = Vs[:k]\n",
    "    As = pckl[OUT_ADJ_KEY][:k]\n",
    "    losses = pckl[OUT_LOSSES_KEY][:k]\n",
    "    return Vs, As, losses\n",
    "\n",
    "def get_rank_to_percent_runs(solution_to_losses, solution_to_ranks, run_num_to_solutions):\n",
    "    # get the avg loss across runs for each solution\n",
    "    for solution in solution_to_losses:\n",
    "        solution_to_losses[solution] = sum(solution_to_losses[solution])/len(solution_to_losses[solution])\n",
    "        solution_to_ranks[solution] = sum(solution_to_ranks[solution])/len(solution_to_ranks[solution])\n",
    "    solution_losses_list = [(k,v) for k,v in solution_to_losses.items()]\n",
    "    solution_ranks_list = [(k,v) for k,v in solution_to_ranks.items()]\n",
    "\n",
    "#     print(\"unsorted solution_losses_list\", solution_losses_list)\n",
    "#     print(\"unsorted solution_ranks_list\", solution_ranks_list)\n",
    "\n",
    "    solution_losses_list = sorted(solution_losses_list, key=lambda x: x[1])\n",
    "    solution_ranks_list = sorted(solution_ranks_list, key=lambda x: x[1])\n",
    "\n",
    "#     print(\"sorted solution_losses_list\", solution_losses_list)\n",
    "#     print(\"sorted solution_ranks_list\", solution_ranks_list)\n",
    "\n",
    "    rank_to_percent_runs = {}\n",
    "    # What % of runs get the solution as a function of the rank on the joined list?\n",
    "    #for rank, (soln,_) in enumerate(solution_losses_list):\n",
    "    for rank, (soln,_) in enumerate(solution_ranks_list):\n",
    "        rank_to_percent_runs[rank] = []\n",
    "        for run in run_num_to_solutions:\n",
    "            if soln in run_num_to_solutions[run]:\n",
    "                rank_to_percent_runs[rank].append(run)\n",
    "    print(rank_to_percent_runs)\n",
    "    rank_to_percent_runs = {rank:(len(rank_to_percent_runs[rank])/num_runs) for rank in rank_to_percent_runs}\n",
    "    return rank_to_percent_runs"
   ]
  },
  {
   "cell_type": "code",
   "execution_count": 3,
   "id": "e03ad41c",
   "metadata": {
    "scrolled": true
   },
   "outputs": [
    {
     "name": "stderr",
     "output_type": "stream",
     "text": [
      "\r",
      "  0%|          | 0/10 [00:00<?, ?it/s]"
     ]
    },
    {
     "name": "stdout",
     "output_type": "stream",
     "text": [
      "matching top 5 solutions\n",
      "batch size: 64\n",
      "m8 M 45 tree 0 run 1\n",
      "m8 M 45 tree 0 run 2\n",
      "m8 M 45 tree 0 run 3\n",
      "m8 M 45 tree 0 run 4\n"
     ]
    },
    {
     "name": "stderr",
     "output_type": "stream",
     "text": [
      "\r",
      " 10%|█         | 1/10 [00:00<00:02,  4.37it/s]"
     ]
    },
    {
     "name": "stdout",
     "output_type": "stream",
     "text": [
      "m8 M 45 tree 0 run 5\n",
      "{0: [1, 2, 3, 5], 1: [1, 3, 4, 5], 2: [4], 3: [3], 4: [1, 2, 3, 4, 5], 5: [3], 6: [1, 2, 4, 5], 7: [1, 2, 4, 5], 8: [2]}\n",
      "m8 M 7 tree 0 run 1\n",
      "m8 M 7 tree 0 run 2\n",
      "m8 M 7 tree 0 run 3\n"
     ]
    },
    {
     "name": "stderr",
     "output_type": "stream",
     "text": [
      " 30%|███       | 3/10 [00:00<00:01,  5.12it/s]"
     ]
    },
    {
     "name": "stdout",
     "output_type": "stream",
     "text": [
      "m8 M 7 tree 0 run 4\n",
      "m8 M 7 tree 0 run 5\n",
      "{0: [1, 2, 3, 4, 5], 1: [1, 2, 3, 4, 5], 2: [1, 2, 4, 5], 3: [1, 2, 4, 5], 4: [3], 5: [1, 2, 3, 4], 6: [3], 7: [5]}\n",
      "m8 M 35 tree 0 run 1\n",
      "m8 M 35 tree 0 run 2\n",
      "m8 M 35 tree 0 run 3\n",
      "m8 M 35 tree 0 run 4\n",
      "m8 M 35 tree 0 run 5\n",
      "{0: [1, 2, 3, 4, 5], 1: [1], 2: [2], 3: [3], 4: [4], 5: [5], 6: [3], 7: [5], 8: [1, 3, 4], 9: [3], 10: [5], 11: [5]}\n",
      "m8 M 243 tree 0 run 1\n",
      "m8 M 243 tree 0 run 2\n"
     ]
    },
    {
     "name": "stderr",
     "output_type": "stream",
     "text": [
      "\r",
      " 40%|████      | 4/10 [00:00<00:01,  5.53it/s]"
     ]
    },
    {
     "name": "stdout",
     "output_type": "stream",
     "text": [
      "m8 M 243 tree 0 run 3\n",
      "m8 M 243 tree 0 run 4\n",
      "m8 M 243 tree 0 run 5\n",
      "{0: [1], 1: [3], 2: [4], 3: [1, 2, 3, 4, 5], 4: [1, 2, 3, 4, 5], 5: [2], 6: [5], 7: [1], 8: [2], 9: [3], 10: [4], 11: [2, 4, 5], 12: [1], 13: [3], 14: [5]}\n",
      "m8 M 216 tree 0 run 1\n",
      "m8 M 216 tree 0 run 2\n",
      "m8 M 216 tree 0 run 3\n",
      "m8 M 216 tree 0 run 4\n",
      "m8 M 216 tree 0 run 5\n"
     ]
    },
    {
     "name": "stderr",
     "output_type": "stream",
     "text": [
      "\r",
      " 50%|█████     | 5/10 [00:00<00:00,  6.10it/s]"
     ]
    },
    {
     "name": "stdout",
     "output_type": "stream",
     "text": [
      "{0: [1], 1: [2], 2: [3], 3: [4], 4: [5], 5: [1], 6: [2], 7: [5], 8: [2], 9: [5], 10: [1, 2, 3, 4, 5], 11: [1, 2, 3], 12: [3], 13: [5]}\n",
      "m8 M 239 tree 0 run 1\n",
      "m8 M 239 tree 0 run 2\n",
      "m8 M 239 tree 0 run 3\n",
      "m8 M 239 tree 0 run 4\n",
      "m8 M 239 tree 0 run 5\n",
      "{0: [1], 1: [2], 2: [3], 3: [5], 4: [4, 5], 5: [2], 6: [3, 4], 7: [1, 4], 8: [2], 9: [4], 10: [5], 11: [2], 12: [5], 13: [2], 14: [5]}\n",
      "m8 M 19 tree 0 run 1\n",
      "m8 M 19 tree 0 run 2\n",
      "m8 M 19 tree 0 run 3\n",
      "m8 M 19 tree 0 run 4\n"
     ]
    },
    {
     "name": "stderr",
     "output_type": "stream",
     "text": [
      " 80%|████████  | 8/10 [00:01<00:00,  6.82it/s]"
     ]
    },
    {
     "name": "stdout",
     "output_type": "stream",
     "text": [
      "m8 M 19 tree 0 run 5\n",
      "{0: [1, 4], 1: [2], 2: [3], 3: [5], 4: [1], 5: [2], 6: [3], 7: [4], 8: [5], 9: [2], 10: [5], 11: [1, 3], 12: [3, 4, 5], 13: [1], 14: [2], 15: [4], 16: [5], 17: [1], 18: [2], 19: [3], 20: [4]}\n",
      "m8 M 76 tree 0 run 1\n",
      "m8 M 76 tree 0 run 2\n",
      "m8 M 76 tree 0 run 3\n",
      "m8 M 76 tree 0 run 4\n",
      "m8 M 76 tree 0 run 5\n",
      "{0: [2, 4, 5], 1: [1, 4], 2: [1, 3], 3: [2, 5], 4: [3], 5: [1], 6: [2], 7: [5], 8: [3, 5], 9: [3, 4], 10: [1], 11: [4], 12: [2, 5], 13: [3]}\n",
      "m8 M 172 tree 0 run 1\n"
     ]
    },
    {
     "name": "stderr",
     "output_type": "stream",
     "text": [
      "\r",
      " 90%|█████████ | 9/10 [00:01<00:00,  6.69it/s]"
     ]
    },
    {
     "name": "stdout",
     "output_type": "stream",
     "text": [
      "m8 M 172 tree 0 run 2\n",
      "m8 M 172 tree 0 run 3\n",
      "m8 M 172 tree 0 run 4\n",
      "m8 M 172 tree 0 run 5\n",
      "{0: [1, 2, 3, 4, 5], 1: [3], 2: [4], 3: [1, 3, 5], 4: [1, 2, 5], 5: [2], 6: [3, 4], 7: [1], 8: [4], 9: [5], 10: [2, 4], 11: [1], 12: [2], 13: [3], 14: [5]}\n",
      "m8 M 241 tree 0 run 1\n",
      "m8 M 241 tree 0 run 2\n",
      "m8 M 241 tree 0 run 3\n",
      "m8 M 241 tree 0 run 4\n"
     ]
    },
    {
     "name": "stderr",
     "output_type": "stream",
     "text": [
      "100%|██████████| 10/10 [00:01<00:00,  6.60it/s]\n",
      "  0%|          | 0/10 [00:00<?, ?it/s]"
     ]
    },
    {
     "name": "stdout",
     "output_type": "stream",
     "text": [
      "m8 M 241 tree 0 run 5\n",
      "{0: [1], 1: [3, 4], 2: [1, 2, 5], 3: [2], 4: [3, 4], 5: [5], 6: [3, 4], 7: [5], 8: [1, 2, 4, 5], 9: [3], 10: [4], 11: [1, 2, 5], 12: [2]}\n",
      "m8 mS 0 tree 0 run 1\n",
      "m8 mS 0 tree 0 run 2\n",
      "m8 mS 0 tree 0 run 3\n",
      "m8 mS 0 tree 0 run 4\n",
      "m8 mS 0 tree 0 run 5\n",
      "{0: [1], 1: [3], 2: [4], 3: [1, 4, 5], 4: [1, 2, 3], 5: [4], 6: [2, 4], 7: [4]}\n",
      "m8 mS 7 tree 0 run 1\n"
     ]
    },
    {
     "name": "stderr",
     "output_type": "stream",
     "text": [
      "\r",
      " 20%|██        | 2/10 [00:00<00:01,  6.21it/s]"
     ]
    },
    {
     "name": "stdout",
     "output_type": "stream",
     "text": [
      "m8 mS 7 tree 0 run 2\n",
      "m8 mS 7 tree 0 run 3\n",
      "m8 mS 7 tree 0 run 4\n",
      "m8 mS 7 tree 0 run 5\n",
      "{0: [1, 2, 3, 4, 5], 1: [1], 2: [1, 2, 3, 4, 5], 3: [2, 3, 5], 4: [1], 5: [1, 2, 3, 4, 5], 6: [4], 7: [2], 8: [3], 9: [4], 10: [5]}\n",
      "m8 mS 4 tree 0 run 1\n",
      "m8 mS 4 tree 0 run 2\n",
      "m8 mS 4 tree 0 run 3\n",
      "m8 mS 4 tree 0 run 4\n",
      "m8 mS 4 tree 0 run 5\n",
      "{0: [1, 2, 3, 4, 5], 1: [1, 3, 4, 5], 2: [1, 2], 3: [2, 3, 4], 4: [5], 5: [1], 6: [2, 3, 5], 7: [4], 8: [1], 9: [4]}\n"
     ]
    },
    {
     "name": "stderr",
     "output_type": "stream",
     "text": [
      "\r",
      " 40%|████      | 4/10 [00:00<00:00,  6.78it/s]"
     ]
    },
    {
     "name": "stdout",
     "output_type": "stream",
     "text": [
      "m8 mS 9 tree 0 run 1\n",
      "m8 mS 9 tree 0 run 2\n",
      "m8 mS 9 tree 0 run 3\n",
      "m8 mS 9 tree 0 run 4\n",
      "m8 mS 9 tree 0 run 5\n",
      "{0: [1, 2, 3, 4, 5], 1: [1, 5], 2: [3], 3: [2, 3, 4, 5], 4: [2, 3, 4], 5: [1, 2, 3, 4, 5], 6: [1], 7: [1], 8: [2, 4], 9: [5]}\n",
      "m8 mS 8 tree 0 run 1\n",
      "m8 mS 8 tree 0 run 2\n"
     ]
    },
    {
     "name": "stderr",
     "output_type": "stream",
     "text": [
      " 60%|██████    | 6/10 [00:00<00:00,  7.48it/s]"
     ]
    },
    {
     "name": "stdout",
     "output_type": "stream",
     "text": [
      "m8 mS 8 tree 0 run 3\n",
      "m8 mS 8 tree 0 run 4\n",
      "m8 mS 8 tree 0 run 5\n",
      "{0: [1, 2, 3, 5], 1: [1, 2, 4, 5], 2: [3, 5], 3: [4], 4: [2], 5: [3], 6: [4], 7: [1, 5], 8: [1], 9: [2], 10: [4, 5], 11: [2, 3, 4], 12: [1], 13: [3]}\n",
      "m8 mS 3 tree 0 run 1\n",
      "m8 mS 3 tree 0 run 2\n",
      "m8 mS 3 tree 0 run 3\n",
      "m8 mS 3 tree 0 run 4\n",
      "m8 mS 3 tree 0 run 5\n",
      "{0: [1, 2, 3, 4, 5], 1: [1, 2, 3, 4, 5], 2: [1, 5], 3: [3], 4: [4], 5: [2, 4, 5], 6: [1], 7: [2, 3, 4, 5], 8: [3]}\n",
      "m8 mS 12 tree 0 run 1\n"
     ]
    },
    {
     "name": "stderr",
     "output_type": "stream",
     "text": [
      "\r",
      " 70%|███████   | 7/10 [00:00<00:00,  6.90it/s]"
     ]
    },
    {
     "name": "stdout",
     "output_type": "stream",
     "text": [
      "m8 mS 12 tree 0 run 2\n",
      "m8 mS 12 tree 0 run 3\n",
      "m8 mS 12 tree 0 run 4\n",
      "m8 mS 12 tree 0 run 5\n",
      "{0: [1, 2, 3, 4, 5], 1: [5], 2: [1, 3, 5], 3: [1, 2, 3, 4, 5], 4: [1, 2, 4, 5], 5: [3], 6: [1, 2, 4], 7: [2, 4], 8: [3]}\n",
      "m8 mS 10 tree 0 run 1\n",
      "m8 mS 10 tree 0 run 2\n",
      "m8 mS 10 tree 0 run 3\n",
      "m8 mS 10 tree 0 run 4\n",
      "m8 mS 10 tree 0 run 5\n",
      "{0: [1, 2, 3, 4, 5], 1: [3], 2: [4], 3: [5], 4: [1, 5], 5: [3], 6: [4], 7: [1, 2, 3, 4, 5], 8: [4]}\n",
      "m8 mS 2 tree 0 run 1\n",
      "m8 mS 2 tree 0 run 2\n"
     ]
    },
    {
     "name": "stderr",
     "output_type": "stream",
     "text": [
      "100%|██████████| 10/10 [00:01<00:00,  8.00it/s]\n",
      "  0%|          | 0/10 [00:00<?, ?it/s]"
     ]
    },
    {
     "name": "stdout",
     "output_type": "stream",
     "text": [
      "m8 mS 2 tree 0 run 3\n",
      "m8 mS 2 tree 0 run 4\n",
      "m8 mS 2 tree 0 run 5\n",
      "{0: [3, 4, 5], 1: [1, 5], 2: [1, 2, 3], 3: [1, 5], 4: [1, 2], 5: [2, 4, 5], 6: [2, 3], 7: [3], 8: [4, 5], 9: [1, 2, 4], 10: [3], 11: [4]}\n",
      "m8 mS 5 tree 0 run 1\n",
      "m8 mS 5 tree 0 run 2\n",
      "m8 mS 5 tree 0 run 3\n",
      "m8 mS 5 tree 0 run 4\n",
      "m8 mS 5 tree 0 run 5\n",
      "{0: [1, 2, 3, 4, 5], 1: [1], 2: [3], 3: [5], 4: [2, 4, 5], 5: [2, 4], 6: [1, 4], 7: [1, 3], 8: [2], 9: [3], 10: [5], 11: [1], 12: [4], 13: [5]}\n",
      "m8 R 10157 tree 0 run 1\n"
     ]
    },
    {
     "name": "stderr",
     "output_type": "stream",
     "text": [
      "\r",
      " 10%|█         | 1/10 [00:00<00:01,  5.81it/s]"
     ]
    },
    {
     "name": "stdout",
     "output_type": "stream",
     "text": [
      "m8 R 10157 tree 0 run 2\n",
      "m8 R 10157 tree 0 run 3\n",
      "m8 R 10157 tree 0 run 4\n",
      "m8 R 10157 tree 0 run 5\n",
      "{0: [3, 5], 1: [1, 2, 4], 2: [1, 3, 5], 3: [5], 4: [2, 4], 5: [1], 6: [1, 4], 7: [3], 8: [2, 4], 9: [2], 10: [5], 11: [1], 12: [2], 13: [4], 14: [5]}\n",
      "m8 R 1070 tree 0 run 1\n",
      "m8 R 1070 tree 0 run 2\n",
      "m8 R 1070 tree 0 run 3\n",
      "m8 R 1070 tree 0 run 4\n"
     ]
    },
    {
     "name": "stderr",
     "output_type": "stream",
     "text": [
      " 30%|███       | 3/10 [00:00<00:01,  6.13it/s]"
     ]
    },
    {
     "name": "stdout",
     "output_type": "stream",
     "text": [
      "m8 R 1070 tree 0 run 5\n",
      "{0: [2, 3, 4, 5], 1: [1, 2, 4], 2: [1], 3: [3], 4: [5], 5: [4, 5], 6: [2], 7: [1, 2], 8: [1, 4], 9: [2, 3], 10: [3], 11: [5], 12: [1], 13: [3], 14: [4], 15: [5]}\n",
      "m8 R 9 tree 0 run 1\n",
      "m8 R 9 tree 0 run 2\n",
      "m8 R 9 tree 0 run 3\n",
      "m8 R 9 tree 0 run 4\n",
      "m8 R 9 tree 0 run 5\n",
      "{0: [1, 2, 3, 4, 5], 1: [1, 2, 3, 4, 5], 2: [1], 3: [4], 4: [5], 5: [1, 3], 6: [2, 5], 7: [2], 8: [4], 9: [3, 5], 10: [1], 11: [2], 12: [3], 13: [4]}\n",
      "m8 R 905 tree 0 run 1\n"
     ]
    },
    {
     "name": "stderr",
     "output_type": "stream",
     "text": [
      "\r",
      " 40%|████      | 4/10 [00:00<00:00,  6.33it/s]"
     ]
    },
    {
     "name": "stdout",
     "output_type": "stream",
     "text": [
      "m8 R 905 tree 0 run 2\n",
      "m8 R 905 tree 0 run 3\n",
      "m8 R 905 tree 0 run 4\n",
      "m8 R 905 tree 0 run 5\n",
      "{0: [2], 1: [1, 2, 3, 4, 5], 2: [1], 3: [3], 4: [1, 2, 3, 4, 5], 5: [2], 6: [3], 7: [4], 8: [1, 5], 9: [4], 10: [2, 3, 5], 11: [1]}\n",
      "m8 R 10046 tree 0 run 1\n",
      "m8 R 10046 tree 0 run 2\n",
      "m8 R 10046 tree 0 run 3\n"
     ]
    },
    {
     "name": "stderr",
     "output_type": "stream",
     "text": [
      "\r",
      " 50%|█████     | 5/10 [00:00<00:00,  6.68it/s]"
     ]
    },
    {
     "name": "stdout",
     "output_type": "stream",
     "text": [
      "m8 R 10046 tree 0 run 4\n",
      "m8 R 10046 tree 0 run 5\n",
      "{0: [1, 2, 3, 4, 5], 1: [1], 2: [3, 4, 5], 3: [2, 4], 4: [1], 5: [2], 6: [3], 7: [4, 5], 8: [1], 9: [2], 10: [3], 11: [5], 12: [1], 13: [2], 14: [3], 15: [4]}\n",
      "m8 R 394 tree 0 run 1\n",
      "m8 R 394 tree 0 run 2\n",
      "m8 R 394 tree 0 run 3\n",
      "m8 R 394 tree 0 run 4\n",
      "m8 R 394 tree 0 run 5\n",
      "{0: [1], 1: [3], 2: [4], 3: [5], 4: [1, 2], 5: [2], 6: [3], 7: [4], 8: [1, 4], 9: [2], 10: [3], 11: [5], 12: [4, 5], 13: [1], 14: [4], 15: [5], 16: [1], 17: [5]}\n",
      "m8 R 981 tree 0 run 1\n",
      "m8 R 981 tree 0 run 2\n",
      "m8 R 981 tree 0 run 3\n"
     ]
    },
    {
     "name": "stderr",
     "output_type": "stream",
     "text": [
      " 80%|████████  | 8/10 [00:01<00:00,  7.44it/s]"
     ]
    },
    {
     "name": "stdout",
     "output_type": "stream",
     "text": [
      "m8 R 981 tree 0 run 4\n",
      "m8 R 981 tree 0 run 5\n",
      "{0: [3, 4], 1: [5], 2: [2, 4], 3: [1, 5], 4: [1], 5: [2], 6: [3], 7: [5], 8: [1], 9: [2], 10: [3], 11: [4], 12: [1], 13: [3], 14: [4], 15: [5], 16: [2, 3], 17: [1], 18: [2], 19: [4], 20: [5]}\n",
      "m8 R 383 tree 0 run 1\n",
      "m8 R 383 tree 0 run 2\n",
      "m8 R 383 tree 0 run 3\n",
      "m8 R 383 tree 0 run 4\n",
      "m8 R 383 tree 0 run 5\n",
      "{0: [1], 1: [2, 3, 5], 2: [4], 3: [1, 2], 4: [3], 5: [4], 6: [3, 5], 7: [1], 8: [2], 9: [4], 10: [3, 5], 11: [2], 12: [4], 13: [4]}\n",
      "m8 R 30342 tree 0 run 1\n"
     ]
    },
    {
     "name": "stderr",
     "output_type": "stream",
     "text": [
      "\r",
      " 90%|█████████ | 9/10 [00:01<00:00,  7.35it/s]"
     ]
    },
    {
     "name": "stdout",
     "output_type": "stream",
     "text": [
      "m8 R 30342 tree 0 run 2\n",
      "m8 R 30342 tree 0 run 3\n",
      "m8 R 30342 tree 0 run 4\n",
      "m8 R 30342 tree 0 run 5\n",
      "{0: [1, 2, 3, 4, 5], 1: [1, 4], 2: [2], 3: [1, 2, 3, 5], 4: [4], 5: [4, 5], 6: [4, 5], 7: [1, 3, 5], 8: [2], 9: [3], 10: [1], 11: [2], 12: [3]}\n",
      "m8 R 157 tree 0 run 1\n",
      "m8 R 157 tree 0 run 2\n",
      "m8 R 157 tree 0 run 3\n",
      "m8 R 157 tree 0 run 4\n"
     ]
    },
    {
     "name": "stderr",
     "output_type": "stream",
     "text": [
      "100%|██████████| 10/10 [00:01<00:00,  7.18it/s]\n",
      "  0%|          | 0/10 [00:00<?, ?it/s]"
     ]
    },
    {
     "name": "stdout",
     "output_type": "stream",
     "text": [
      "m8 R 157 tree 0 run 5\n",
      "{0: [2], 1: [3], 2: [4, 5], 3: [1, 5], 4: [3], 5: [4], 6: [5], 7: [1, 2], 8: [2], 9: [3], 10: [2, 5], 11: [3], 12: [5], 13: [3]}\n",
      "m8 S 0 tree 0 run 1\n",
      "m8 S 0 tree 0 run 2\n",
      "m8 S 0 tree 0 run 3\n",
      "m8 S 0 tree 0 run 4\n",
      "m8 S 0 tree 0 run 5\n"
     ]
    },
    {
     "name": "stderr",
     "output_type": "stream",
     "text": [
      " 20%|██        | 2/10 [00:00<00:01,  5.88it/s]"
     ]
    },
    {
     "name": "stdout",
     "output_type": "stream",
     "text": [
      "{0: [1, 2, 3, 4, 5], 1: [1, 2, 3, 4, 5], 2: [3, 4], 3: [5], 4: [1, 2, 5], 5: [1], 6: [3], 7: [4], 8: [5], 9: [2, 4], 10: [1], 11: [2], 12: [3]}\n",
      "m8 S 35 tree 0 run 1\n",
      "m8 S 35 tree 0 run 2\n",
      "m8 S 35 tree 0 run 3\n",
      "m8 S 35 tree 0 run 4\n",
      "m8 S 35 tree 0 run 5\n",
      "{0: [1, 2, 3, 4, 5], 1: [2], 2: [5], 3: [1, 2, 3], 4: [3, 4], 5: [4], 6: [5], 7: [1, 2, 5], 8: [1], 9: [2], 10: [3], 11: [4], 12: [1, 3], 13: [4], 14: [5]}\n",
      "m8 S 37 tree 0 run 1\n",
      "m8 S 37 tree 0 run 2\n",
      "m8 S 37 tree 0 run 3\n",
      "m8 S 37 tree 0 run 4\n"
     ]
    },
    {
     "name": "stderr",
     "output_type": "stream",
     "text": [
      " 40%|████      | 4/10 [00:00<00:00,  6.61it/s]"
     ]
    },
    {
     "name": "stdout",
     "output_type": "stream",
     "text": [
      "m8 S 37 tree 0 run 5\n",
      "{0: [1, 2, 3, 4, 5], 1: [1, 3, 4], 2: [1, 2, 3, 4, 5], 3: [3, 4, 5], 4: [1, 5], 5: [2, 3], 6: [2, 4], 7: [1], 8: [2], 9: [5]}\n",
      "m8 S 31 tree 0 run 1\n",
      "m8 S 31 tree 0 run 2\n",
      "m8 S 31 tree 0 run 3\n",
      "m8 S 31 tree 0 run 4\n",
      "m8 S 31 tree 0 run 5\n",
      "{0: [1, 3, 4, 5], 1: [1, 2, 3, 4, 5], 2: [1], 3: [4], 4: [3, 4, 5], 5: [2, 3, 4, 5], 6: [1], 7: [2, 3], 8: [2], 9: [1], 10: [2], 11: [5]}\n",
      "m8 S 69 tree 0 run 1\n"
     ]
    },
    {
     "name": "stderr",
     "output_type": "stream",
     "text": [
      "\r",
      " 50%|█████     | 5/10 [00:00<00:00,  6.86it/s]"
     ]
    },
    {
     "name": "stdout",
     "output_type": "stream",
     "text": [
      "m8 S 69 tree 0 run 2\n",
      "m8 S 69 tree 0 run 3\n",
      "m8 S 69 tree 0 run 4\n",
      "m8 S 69 tree 0 run 5\n",
      "{0: [1, 2, 3, 4, 5], 1: [1, 2, 4], 2: [2, 5], 3: [1, 3, 4], 4: [3], 5: [5], 6: [1], 7: [2], 8: [5], 9: [2, 4], 10: [3, 5], 11: [1], 12: [3], 13: [4]}\n",
      "m8 S 54 tree 0 run 1\n",
      "m8 S 54 tree 0 run 2\n",
      "m8 S 54 tree 0 run 3\n",
      "m8 S 54 tree 0 run 4\n",
      "m8 S 54 tree 0 run 5\n",
      "{0: [1, 3, 4, 5], 1: [2], 2: [1, 3, 4, 5], 3: [2], 4: [2], 5: [4], 6: [2], 7: [2]}\n",
      "m8 S 12 tree 0 run 1\n",
      "m8 S 12 tree 0 run 2\n"
     ]
    },
    {
     "name": "stderr",
     "output_type": "stream",
     "text": [
      "\r",
      " 70%|███████   | 7/10 [00:00<00:00,  7.68it/s]"
     ]
    },
    {
     "name": "stdout",
     "output_type": "stream",
     "text": [
      "m8 S 12 tree 0 run 3\n",
      "m8 S 12 tree 0 run 4\n",
      "m8 S 12 tree 0 run 5\n",
      "{0: [1, 2, 3, 4, 5], 1: [2], 2: [3], 3: [1, 2, 3, 4, 5], 4: [1, 2, 3, 4, 5], 5: [1], 6: [4], 7: [5], 8: [1], 9: [2], 10: [3], 11: [4], 12: [5]}\n",
      "m8 S 23 tree 0 run 1\n",
      "m8 S 23 tree 0 run 2\n",
      "m8 S 23 tree 0 run 3\n",
      "m8 S 23 tree 0 run 4\n",
      "m8 S 23 tree 0 run 5\n"
     ]
    },
    {
     "name": "stderr",
     "output_type": "stream",
     "text": [
      " 90%|█████████ | 9/10 [00:01<00:00,  7.72it/s]"
     ]
    },
    {
     "name": "stdout",
     "output_type": "stream",
     "text": [
      "{0: [1, 2, 3, 4, 5], 1: [1, 2, 3, 4, 5], 2: [2, 3, 4, 5], 3: [1, 2, 3, 5], 4: [1, 3, 4], 5: [1, 4, 5], 6: [2]}\n",
      "m8 S 2 tree 0 run 1\n",
      "m8 S 2 tree 0 run 2\n",
      "m8 S 2 tree 0 run 3\n",
      "m8 S 2 tree 0 run 4\n",
      "m8 S 2 tree 0 run 5\n",
      "{0: [1, 3], 1: [2], 2: [5], 3: [1, 4], 4: [2], 5: [3], 6: [4], 7: [5], 8: [1], 9: [2], 10: [3], 11: [4], 12: [5], 13: [2], 14: [4], 15: [5], 16: [3, 4], 17: [1, 3, 5], 18: [1], 19: [2]}\n",
      "m8 S 5 tree 0 run 1\n",
      "m8 S 5 tree 0 run 2\n",
      "m8 S 5 tree 0 run 3\n",
      "m8 S 5 tree 0 run 4\n",
      "m8 S 5 tree 0 run 5\n"
     ]
    },
    {
     "name": "stderr",
     "output_type": "stream",
     "text": [
      "100%|██████████| 10/10 [00:01<00:00,  8.05it/s]\n",
      " 20%|██        | 2/10 [00:00<00:00, 11.81it/s]"
     ]
    },
    {
     "name": "stdout",
     "output_type": "stream",
     "text": [
      "{0: [1, 2, 3, 4, 5], 1: [1], 2: [2, 5], 3: [3], 4: [4], 5: [2], 6: [3], 7: [4], 8: [5], 9: [2], 10: [4], 11: [2], 12: [4]}\n",
      "m5 M 209 tree 0 run 1\n",
      "m5 M 209 tree 0 run 2\n",
      "m5 M 209 tree 0 run 3\n",
      "m5 M 209 tree 0 run 4\n",
      "m5 M 209 tree 0 run 5\n",
      "{0: [1, 2, 3, 4, 5], 1: [1, 2, 3, 4, 5], 2: [2, 5], 3: [1, 2, 3, 4, 5], 4: [1], 5: [3, 4], 6: [1, 2], 7: [3, 5], 8: [4]}\n",
      "m5 M 534 tree 0 run 1\n",
      "m5 M 534 tree 0 run 2\n",
      "m5 M 534 tree 0 run 3\n",
      "m5 M 534 tree 0 run 4\n",
      "m5 M 534 tree 0 run 5\n",
      "{0: [1, 2, 3, 4, 5], 1: [1, 2, 3, 4, 5], 2: [4, 5], 3: [1, 2, 3, 4, 5], 4: [2], 5: [1, 3, 5], 6: [1], 7: [2], 8: [3], 9: [4]}\n",
      "m5 M 694 tree 0 run 1\n",
      "m5 M 694 tree 0 run 2\n",
      "m5 M 694 tree 0 run 3\n",
      "m5 M 694 tree 0 run 4\n",
      "m5 M 694 tree 0 run 5\n",
      "{0: [1, 2, 3, 4, 5], 1: [2, 4], 2: [1, 2, 3, 5], 3: [1]}\n",
      "m5 M 512 tree 0 run 1\n"
     ]
    },
    {
     "name": "stderr",
     "output_type": "stream",
     "text": [
      " 60%|██████    | 6/10 [00:00<00:00, 14.58it/s]"
     ]
    },
    {
     "name": "stdout",
     "output_type": "stream",
     "text": [
      "m5 M 512 tree 0 run 2\n",
      "m5 M 512 tree 0 run 3\n",
      "m5 M 512 tree 0 run 4\n",
      "m5 M 512 tree 0 run 5\n",
      "{0: [1, 2, 3, 4, 5], 1: [1, 2, 3, 4, 5], 2: [1, 2, 3], 3: [1, 2, 3, 4, 5], 4: [1, 4, 5], 5: [2, 4, 5], 6: [3]}\n",
      "m5 M 545 tree 0 run 1\n",
      "m5 M 545 tree 0 run 2\n",
      "m5 M 545 tree 0 run 3\n",
      "m5 M 545 tree 0 run 4\n",
      "m5 M 545 tree 0 run 5\n",
      "{0: [1, 2, 3, 4, 5], 1: [1, 2, 3, 4, 5], 2: [1], 3: [2, 3, 4, 5], 4: [2, 3], 5: [3, 4, 5], 6: [1, 5], 7: [2], 8: [4]}\n",
      "m5 M 865 tree 0 run 1\n",
      "m5 M 865 tree 0 run 2\n",
      "m5 M 865 tree 0 run 3\n",
      "m5 M 865 tree 0 run 4\n",
      "m5 M 865 tree 0 run 5\n",
      "{0: [3, 4, 5], 1: [1, 2, 4], 2: [5], 3: [1, 2, 4], 4: [2], 5: [4], 6: [5], 7: [4]}\n",
      "m5 M 907 tree 0 run 1\n",
      "m5 M 907 tree 0 run 2\n"
     ]
    },
    {
     "name": "stderr",
     "output_type": "stream",
     "text": [
      "\r",
      " 80%|████████  | 8/10 [00:00<00:00, 15.40it/s]"
     ]
    },
    {
     "name": "stdout",
     "output_type": "stream",
     "text": [
      "m5 M 907 tree 0 run 3\n",
      "m5 M 907 tree 0 run 4\n",
      "m5 M 907 tree 0 run 5\n",
      "{0: [1, 2, 3, 4, 5], 1: [1, 2, 3, 4, 5], 2: [1], 3: [2], 4: [3, 4], 5: [5], 6: [1], 7: [2], 8: [3], 9: [4], 10: [5], 11: [1], 12: [2, 4], 13: [3], 14: [5]}\n",
      "m5 M 76 tree 0 run 1\n",
      "m5 M 76 tree 0 run 2\n",
      "m5 M 76 tree 0 run 3\n",
      "m5 M 76 tree 0 run 4\n",
      "m5 M 76 tree 0 run 5\n",
      "{0: [1, 2, 3, 4, 5], 1: [1, 3, 4, 5], 2: [1, 3, 4, 5], 3: [1, 2, 3, 4, 5], 4: [1, 2, 5], 5: [3], 6: [4]}\n",
      "m5 M 565 tree 0 run 1\n",
      "m5 M 565 tree 0 run 2\n",
      "m5 M 565 tree 0 run 3\n",
      "m5 M 565 tree 0 run 4\n",
      "m5 M 565 tree 0 run 5\n",
      "{0: [1, 2, 3, 4, 5], 1: [2, 5], 2: [1, 2, 3, 4, 5], 3: [1, 4], 4: [3], 5: [1, 2, 4, 5], 6: [3]}\n",
      "m5 M 473 tree 0 run 1\n",
      "m5 M 473 tree 0 run 2\n",
      "m5 M 473 tree 0 run 3\n",
      "m5 M 473 tree 0 run 4\n",
      "m5 M 473 tree 0 run 5\n"
     ]
    },
    {
     "name": "stderr",
     "output_type": "stream",
     "text": [
      "100%|██████████| 10/10 [00:00<00:00, 15.77it/s]\n",
      " 20%|██        | 2/10 [00:00<00:00, 13.70it/s]"
     ]
    },
    {
     "name": "stdout",
     "output_type": "stream",
     "text": [
      "{0: [1, 3, 4, 5], 1: [2], 2: [1, 3], 3: [4], 4: [4, 5], 5: [1, 3], 6: [2], 7: [5], 8: [2, 4], 9: [1], 10: [3], 11: [4], 12: [5], 13: [2, 3, 5], 14: [1], 15: [2]}\n",
      "m5 mS 0 tree 0 run 1\n",
      "m5 mS 0 tree 0 run 2\n",
      "m5 mS 0 tree 0 run 3\n",
      "m5 mS 0 tree 0 run 4\n",
      "m5 mS 0 tree 0 run 5\n",
      "{0: [1, 2, 3, 4, 5], 1: [1, 2, 3, 4, 5], 2: [1, 2, 3, 4, 5], 3: [1, 2, 3, 4, 5]}\n",
      "m5 mS 7 tree 0 run 1\n",
      "m5 mS 7 tree 0 run 2\n",
      "m5 mS 7 tree 0 run 3\n",
      "m5 mS 7 tree 0 run 4\n",
      "m5 mS 7 tree 0 run 5\n",
      "{0: [1, 2, 3, 4, 5], 1: [1, 3, 4, 5], 2: [2, 3, 4, 5], 3: [1, 2, 3, 4, 5], 4: [1, 2, 3, 4, 5], 5: [1], 6: [2]}\n",
      "m5 mS 4 tree 0 run 1\n",
      "m5 mS 4 tree 0 run 2\n",
      "m5 mS 4 tree 0 run 3\n",
      "m5 mS 4 tree 0 run 4\n",
      "m5 mS 4 tree 0 run 5\n",
      "{0: [1, 2, 4, 5], 1: [3], 2: [3], 3: [3]}\n",
      "m5 mS 9 tree 0 run 1\n",
      "m5 mS 9 tree 0 run 2\n",
      "m5 mS 9 tree 0 run 3\n",
      "m5 mS 9 tree 0 run 4\n",
      "m5 mS 9 tree 0 run 5\n",
      "{0: [1, 2, 3, 4, 5], 1: [1, 2, 3, 5]}\n"
     ]
    },
    {
     "name": "stderr",
     "output_type": "stream",
     "text": [
      "\r",
      " 50%|█████     | 5/10 [00:00<00:00, 14.57it/s]"
     ]
    },
    {
     "name": "stdout",
     "output_type": "stream",
     "text": [
      "m5 mS 8 tree 0 run 1\n",
      "m5 mS 8 tree 0 run 2\n",
      "m5 mS 8 tree 0 run 3\n",
      "m5 mS 8 tree 0 run 4\n",
      "m5 mS 8 tree 0 run 5\n",
      "{0: [1, 2, 3, 4, 5], 1: [1, 2, 3, 4, 5], 2: [2, 3, 5], 3: [1, 2, 3, 4, 5], 4: [1, 3, 4, 5], 5: [1, 4], 6: [2]}\n",
      "m5 mS 3 tree 0 run 1\n",
      "m5 mS 3 tree 0 run 2\n",
      "m5 mS 3 tree 0 run 3\n",
      "m5 mS 3 tree 0 run 4\n",
      "m5 mS 3 tree 0 run 5\n",
      "{0: [1, 2, 3, 4, 5], 1: [1, 2, 3, 4, 5], 2: [1, 2, 3, 4, 5], 3: [1, 2, 3, 4, 5]}\n",
      "m5 mS 12 tree 0 run 1\n",
      "m5 mS 12 tree 0 run 2\n",
      "m5 mS 12 tree 0 run 3\n",
      "m5 mS 12 tree 0 run 4\n",
      "m5 mS 12 tree 0 run 5\n",
      "{0: [1, 2, 3, 4, 5]}\n",
      "m5 mS 10 tree 0 run 1\n",
      "m5 mS 10 tree 0 run 2\n",
      "m5 mS 10 tree 0 run 3\n",
      "m5 mS 10 tree 0 run 4\n",
      "m5 mS 10 tree 0 run 5\n",
      "{0: [1, 2, 3, 4, 5], 1: [1, 3, 5], 2: [2], 3: [5], 4: [1, 2, 3, 5], 5: [1, 2, 3, 4, 5], 6: [2, 4], 7: [3]}\n",
      "m5 mS 2 tree 0 run 1\n",
      "m5 mS 2 tree 0 run 2\n",
      "m5 mS 2 tree 0 run 3\n",
      "m5 mS 2 tree 0 run 4\n",
      "m5 mS 2 tree 0 run 5\n",
      "{0: [1, 2, 3, 4, 5], 1: [1, 2, 3, 4, 5], 2: [1, 2, 3, 4, 5], 3: [1, 2, 4, 5], 4: [3], 5: [1], 6: [2], 7: [4]}\n",
      "m5 mS 5 tree 0 run 1\n"
     ]
    },
    {
     "name": "stderr",
     "output_type": "stream",
     "text": [
      "100%|██████████| 10/10 [00:00<00:00, 23.05it/s]\n",
      " 30%|███       | 3/10 [00:00<00:00, 28.43it/s]"
     ]
    },
    {
     "name": "stdout",
     "output_type": "stream",
     "text": [
      "m5 mS 5 tree 0 run 2\n",
      "m5 mS 5 tree 0 run 3\n",
      "m5 mS 5 tree 0 run 4\n",
      "m5 mS 5 tree 0 run 5\n",
      "{0: [1, 2, 3, 4, 5], 1: [1, 2, 3, 4, 5]}\n",
      "m5 R 571 tree 0 run 1\n",
      "m5 R 571 tree 0 run 2\n",
      "m5 R 571 tree 0 run 3\n",
      "m5 R 571 tree 0 run 4\n",
      "m5 R 571 tree 0 run 5\n",
      "{0: [1, 2, 3, 4], 1: [1], 2: [2, 3, 4, 5], 3: [4], 4: [5], 5: [1, 2, 3, 4]}\n",
      "m5 R 1140 tree 0 run 1\n",
      "m5 R 1140 tree 0 run 2\n",
      "m5 R 1140 tree 0 run 3\n",
      "m5 R 1140 tree 0 run 4\n",
      "m5 R 1140 tree 0 run 5\n",
      "{0: [1, 2, 3, 4, 5], 1: [1, 2, 3, 4, 5], 2: [1, 3, 4], 3: [1, 3, 4, 5], 4: [2], 5: [2, 4, 5], 6: [1, 3, 5], 7: [2]}\n",
      "m5 R 538 tree 0 run 1\n",
      "m5 R 538 tree 0 run 2\n",
      "m5 R 538 tree 0 run 3\n",
      "m5 R 538 tree 0 run 4\n",
      "m5 R 538 tree 0 run 5\n",
      "{0: [5], 1: [1, 2, 4, 5], 2: [1, 2, 3, 4], 3: [1, 2, 3, 4]}\n",
      "m5 R 981 tree 0 run 1\n",
      "m5 R 981 tree 0 run 2\n",
      "m5 R 981 tree 0 run 3\n",
      "m5 R 981 tree 0 run 4\n",
      "m5 R 981 tree 0 run 5\n",
      "{0: [1, 2, 3, 4, 5], 1: [1], 2: [2, 3, 4, 5], 3: [1], 4: [3, 4], 5: [2, 3, 4, 5], 6: [2, 3], 7: [4]}\n",
      "m5 R 2155 tree 0 run 1\n",
      "m5 R 2155 tree 0 run 2\n",
      "m5 R 2155 tree 0 run 3\n"
     ]
    },
    {
     "name": "stderr",
     "output_type": "stream",
     "text": [
      "\r",
      " 50%|█████     | 5/10 [00:00<00:00, 22.84it/s]"
     ]
    },
    {
     "name": "stdout",
     "output_type": "stream",
     "text": [
      "m5 R 2155 tree 0 run 4\n",
      "m5 R 2155 tree 0 run 5\n",
      "{0: [1, 2, 3, 4, 5], 1: [2, 3, 4, 5], 2: [1, 2, 3, 4, 5], 3: [1], 4: [2], 5: [3], 6: [4], 7: [1, 4], 8: [3, 5], 9: [1], 10: [2], 11: [5]}\n",
      "m5 R 950 tree 0 run 1\n",
      "m5 R 950 tree 0 run 2\n",
      "m5 R 950 tree 0 run 3\n",
      "m5 R 950 tree 0 run 4\n",
      "m5 R 950 tree 0 run 5\n",
      "{0: [1, 2, 3, 4, 5], 1: [1, 2, 3, 5], 2: [2, 3], 3: [3, 4], 4: [4], 5: [5], 6: [1, 2, 5], 7: [1], 8: [2, 3, 5]}\n",
      "m5 R 247 tree 0 run 1\n",
      "m5 R 247 tree 0 run 2\n"
     ]
    },
    {
     "name": "stderr",
     "output_type": "stream",
     "text": [
      "\r",
      " 70%|███████   | 7/10 [00:00<00:00, 15.15it/s]"
     ]
    },
    {
     "name": "stdout",
     "output_type": "stream",
     "text": [
      "m5 R 247 tree 0 run 3\n",
      "m5 R 247 tree 0 run 4\n",
      "m5 R 247 tree 0 run 5\n",
      "{0: [1, 2, 3, 4, 5], 1: [1], 2: [2, 4], 3: [3], 4: [1, 2, 3, 4, 5], 5: [1, 2, 3], 6: [3, 4, 5], 7: [2, 5], 8: [1], 9: [4], 10: [5]}\n",
      "m5 R 955 tree 0 run 1\n",
      "m5 R 955 tree 0 run 2\n",
      "m5 R 955 tree 0 run 3\n",
      "m5 R 955 tree 0 run 4\n",
      "m5 R 955 tree 0 run 5\n",
      "{0: [1, 2, 3, 4, 5], 1: [1, 3, 5], 2: [2], 3: [1, 3, 4], 4: [2, 5], 5: [1, 3, 4], 6: [1, 3, 4], 7: [4]}\n",
      "m5 R 518 tree 0 run 1\n",
      "m5 R 518 tree 0 run 2\n",
      "m5 R 518 tree 0 run 3\n",
      "m5 R 518 tree 0 run 4\n",
      "m5 R 518 tree 0 run 5\n",
      "{0: [1, 2, 3, 4, 5], 1: [3], 2: [1, 2, 3, 4, 5], 3: [1, 2], 4: [3, 4], 5: [4], 6: [3]}\n",
      "m5 R 17 tree 0 run 1\n",
      "m5 R 17 tree 0 run 2\n",
      "m5 R 17 tree 0 run 3\n",
      "m5 R 17 tree 0 run 4\n"
     ]
    },
    {
     "name": "stderr",
     "output_type": "stream",
     "text": [
      "100%|██████████| 10/10 [00:00<00:00, 15.78it/s]\n",
      " 30%|███       | 3/10 [00:00<00:00, 17.41it/s]"
     ]
    },
    {
     "name": "stdout",
     "output_type": "stream",
     "text": [
      "m5 R 17 tree 0 run 5\n",
      "{0: [1, 2, 3, 4, 5], 1: [1, 3], 2: [4, 5], 3: [1, 2, 3, 4, 5], 4: [2, 3], 5: [1], 6: [2, 5], 7: [4], 8: [1], 9: [2], 10: [3], 11: [4], 12: [5]}\n",
      "m5 S 49 tree 0 run 1\n",
      "m5 S 49 tree 0 run 2\n",
      "m5 S 49 tree 0 run 3\n",
      "m5 S 49 tree 0 run 4\n",
      "m5 S 49 tree 0 run 5\n",
      "{0: [1, 2, 3, 4, 5], 1: [1, 2, 4], 2: [3], 3: [5], 4: [4], 5: [4]}\n",
      "m5 S 35 tree 0 run 1\n",
      "m5 S 35 tree 0 run 2\n",
      "m5 S 35 tree 0 run 3\n",
      "m5 S 35 tree 0 run 4\n",
      "m5 S 35 tree 0 run 5\n",
      "{0: [1, 2, 3, 4, 5], 1: [1, 3, 4, 5], 2: [2, 4], 3: [3, 4, 5]}\n",
      "m5 S 25 tree 0 run 1\n",
      "m5 S 25 tree 0 run 2\n",
      "m5 S 25 tree 0 run 3\n",
      "m5 S 25 tree 0 run 4\n",
      "m5 S 25 tree 0 run 5\n",
      "{0: [1, 2, 3, 4, 5], 1: [1, 2, 3, 4, 5], 2: [1, 2, 5], 3: [1, 2, 3, 5], 4: [1, 3, 4], 5: [4, 5], 6: [2, 3], 7: [4]}\n"
     ]
    },
    {
     "name": "stderr",
     "output_type": "stream",
     "text": [
      "\r",
      " 40%|████      | 4/10 [00:00<00:00, 10.77it/s]"
     ]
    },
    {
     "name": "stdout",
     "output_type": "stream",
     "text": [
      "m5 S 31 tree 0 run 1\n",
      "m5 S 31 tree 0 run 2\n",
      "m5 S 31 tree 0 run 3\n",
      "m5 S 31 tree 0 run 4\n",
      "m5 S 31 tree 0 run 5\n",
      "{0: [1, 2, 3, 4, 5], 1: [1, 2, 3, 4, 5], 2: [1, 2], 3: [3], 4: [4, 5], 5: [1, 4], 6: [3], 7: [5], 8: [1, 2], 9: [2], 10: [3], 11: [4], 12: [5]}\n",
      "m5 S 81 tree 0 run 1\n",
      "m5 S 81 tree 0 run 2\n"
     ]
    },
    {
     "name": "stderr",
     "output_type": "stream",
     "text": [
      " 90%|█████████ | 9/10 [00:00<00:00, 12.48it/s]"
     ]
    },
    {
     "name": "stdout",
     "output_type": "stream",
     "text": [
      "m5 S 81 tree 0 run 3\n",
      "m5 S 81 tree 0 run 4\n",
      "m5 S 81 tree 0 run 5\n",
      "{0: [1, 2, 3, 4, 5], 1: [1, 3, 4], 2: [1, 4], 3: [2], 4: [3], 5: [1, 3, 4, 5], 6: [1, 2, 3, 4, 5], 7: [5], 8: [2, 5], 9: [2]}\n",
      "m5 S 40 tree 0 run 1\n",
      "m5 S 40 tree 0 run 2\n",
      "m5 S 40 tree 0 run 3\n",
      "m5 S 40 tree 0 run 4\n",
      "m5 S 40 tree 0 run 5\n",
      "{0: [1, 2, 3, 4, 5], 1: [2], 2: [5], 3: [1, 2, 3, 4], 4: [1, 3]}\n",
      "m5 S 32 tree 0 run 1\n",
      "m5 S 32 tree 0 run 2\n",
      "m5 S 32 tree 0 run 3\n",
      "m5 S 32 tree 0 run 4\n",
      "m5 S 32 tree 0 run 5\n",
      "{0: [1, 2, 3, 4, 5], 1: [1], 2: [3, 4]}\n",
      "m5 S 23 tree 0 run 1\n",
      "m5 S 23 tree 0 run 2\n",
      "m5 S 23 tree 0 run 3\n",
      "m5 S 23 tree 0 run 4\n",
      "m5 S 23 tree 0 run 5\n",
      "{0: [1, 2, 3, 4, 5], 1: [1], 2: [5], 3: [2, 4, 5], 4: [1, 2, 3, 4], 5: [1, 5], 6: [2, 3, 4], 7: [3], 8: [2, 5], 9: [1], 10: [3], 11: [4]}\n",
      "m5 S 62 tree 0 run 1\n",
      "m5 S 62 tree 0 run 2\n",
      "m5 S 62 tree 0 run 3\n",
      "m5 S 62 tree 0 run 4\n",
      "m5 S 62 tree 0 run 5\n",
      "{0: [1, 2, 3, 4, 5], 1: [1, 2, 3, 4, 5]}\n",
      "m5 S 17 tree 0 run 1\n",
      "m5 S 17 tree 0 run 2\n",
      "m5 S 17 tree 0 run 3\n",
      "m5 S 17 tree 0 run 4\n"
     ]
    },
    {
     "name": "stderr",
     "output_type": "stream",
     "text": [
      "100%|██████████| 10/10 [00:00<00:00, 16.62it/s]\n",
      " 10%|█         | 1/10 [00:00<00:01,  6.04it/s]"
     ]
    },
    {
     "name": "stdout",
     "output_type": "stream",
     "text": [
      "m5 S 17 tree 0 run 5\n",
      "{0: [1, 2, 3, 4, 5], 1: [1, 2, 3, 4, 5], 2: [1, 2, 3, 4, 5], 3: [1, 2, 3, 4]}\n",
      "batch size: 256\n",
      "m8 M 45 tree 0 run 1\n",
      "m8 M 45 tree 0 run 2\n",
      "m8 M 45 tree 0 run 3\n",
      "m8 M 45 tree 0 run 4\n",
      "m8 M 45 tree 0 run 5\n",
      "{0: [1, 2, 3, 4, 5], 1: [1, 2, 3, 4, 5], 2: [1], 3: [3], 4: [4, 5], 5: [2, 3], 6: [1, 4, 5], 7: [2], 8: [1, 4, 5], 9: [3]}\n"
     ]
    },
    {
     "name": "stderr",
     "output_type": "stream",
     "text": [
      "\r",
      " 20%|██        | 2/10 [00:00<00:01,  5.70it/s]"
     ]
    },
    {
     "name": "stdout",
     "output_type": "stream",
     "text": [
      "m8 M 7 tree 0 run 1\n",
      "m8 M 7 tree 0 run 2\n",
      "m8 M 7 tree 0 run 3\n",
      "m8 M 7 tree 0 run 4\n",
      "m8 M 7 tree 0 run 5\n",
      "{0: [1, 2, 3, 4, 5], 1: [1, 2, 3, 4, 5], 2: [1, 2, 3, 4, 5], 3: [1, 2, 3, 4, 5], 4: [1], 5: [2, 3, 4, 5]}\n",
      "m8 M 35 tree 0 run 1\n"
     ]
    },
    {
     "name": "stderr",
     "output_type": "stream",
     "text": [
      "\r",
      " 30%|███       | 3/10 [00:00<00:01,  5.55it/s]"
     ]
    },
    {
     "name": "stdout",
     "output_type": "stream",
     "text": [
      "m8 M 35 tree 0 run 2\n",
      "m8 M 35 tree 0 run 3\n",
      "m8 M 35 tree 0 run 4\n",
      "m8 M 35 tree 0 run 5\n",
      "{0: [1, 2, 3, 4, 5], 1: [2, 3], 2: [5], 3: [2, 3, 4], 4: [1, 3, 4], 5: [1], 6: [5], 7: [1], 8: [2], 9: [4], 10: [5], 11: [1], 12: [2], 13: [3], 14: [4], 15: [5]}\n",
      "m8 M 243 tree 0 run 1\n",
      "m8 M 243 tree 0 run 2\n",
      "m8 M 243 tree 0 run 3\n",
      "m8 M 243 tree 0 run 4\n"
     ]
    },
    {
     "name": "stderr",
     "output_type": "stream",
     "text": [
      "\r",
      " 40%|████      | 4/10 [00:00<00:01,  5.91it/s]"
     ]
    },
    {
     "name": "stdout",
     "output_type": "stream",
     "text": [
      "m8 M 243 tree 0 run 5\n",
      "{0: [3], 1: [1, 2, 3, 4, 5], 2: [4], 3: [5], 4: [1, 5], 5: [1], 6: [2, 3], 7: [3], 8: [4], 9: [2, 5], 10: [2], 11: [4], 12: [5], 13: [1, 2], 14: [1], 15: [3], 16: [4]}\n",
      "m8 M 216 tree 0 run 1\n",
      "m8 M 216 tree 0 run 2\n",
      "m8 M 216 tree 0 run 3\n",
      "m8 M 216 tree 0 run 4\n",
      "m8 M 216 tree 0 run 5\n"
     ]
    },
    {
     "name": "stderr",
     "output_type": "stream",
     "text": [
      " 60%|██████    | 6/10 [00:01<00:00,  6.08it/s]"
     ]
    },
    {
     "name": "stdout",
     "output_type": "stream",
     "text": [
      "{0: [1, 2, 5], 1: [3], 2: [4], 3: [1], 4: [2], 5: [3, 4], 6: [5], 7: [1], 8: [2], 9: [3, 4], 10: [5], 11: [1], 12: [2], 13: [3, 4], 14: [5], 15: [1], 16: [2], 17: [3, 4], 18: [5]}\n",
      "m8 M 239 tree 0 run 1\n",
      "m8 M 239 tree 0 run 2\n",
      "m8 M 239 tree 0 run 3\n",
      "m8 M 239 tree 0 run 4\n",
      "m8 M 239 tree 0 run 5\n",
      "{0: [1], 1: [5], 2: [1, 2, 4], 3: [1, 3, 5], 4: [1, 2, 3, 4], 5: [2, 3], 6: [4], 7: [5], 8: [1], 9: [2], 10: [3], 11: [4], 12: [3]}\n",
      "m8 M 19 tree 0 run 1\n",
      "m8 M 19 tree 0 run 2\n"
     ]
    },
    {
     "name": "stderr",
     "output_type": "stream",
     "text": [
      "\r",
      " 70%|███████   | 7/10 [00:01<00:00,  5.98it/s]"
     ]
    },
    {
     "name": "stdout",
     "output_type": "stream",
     "text": [
      "m8 M 19 tree 0 run 3\n",
      "m8 M 19 tree 0 run 4\n",
      "m8 M 19 tree 0 run 5\n",
      "{0: [1, 3], 1: [2], 2: [4], 3: [5], 4: [1], 5: [3], 6: [4], 7: [1, 3, 5], 8: [2], 9: [4], 10: [1, 2, 3, 5], 11: [4], 12: [5], 13: [1, 2], 14: [2], 15: [3, 5], 16: [4]}\n",
      "m8 M 76 tree 0 run 1\n",
      "m8 M 76 tree 0 run 2\n",
      "m8 M 76 tree 0 run 3\n",
      "m8 M 76 tree 0 run 4\n"
     ]
    },
    {
     "name": "stderr",
     "output_type": "stream",
     "text": [
      " 90%|█████████ | 9/10 [00:01<00:00,  6.16it/s]"
     ]
    },
    {
     "name": "stdout",
     "output_type": "stream",
     "text": [
      "m8 M 76 tree 0 run 5\n",
      "{0: [4, 5], 1: [1, 2, 4, 5], 2: [1, 3, 4], 3: [1, 2, 3, 5], 4: [3], 5: [1, 2, 3, 4, 5], 6: [1, 5], 7: [2, 3, 4], 8: [2]}\n",
      "m8 M 172 tree 0 run 1\n",
      "m8 M 172 tree 0 run 2\n",
      "m8 M 172 tree 0 run 3\n",
      "m8 M 172 tree 0 run 4\n",
      "m8 M 172 tree 0 run 5\n",
      "{0: [1, 2, 3, 5], 1: [4], 2: [1, 2, 3, 5], 3: [1], 4: [1, 2, 3, 4], 5: [4], 6: [2, 3, 5], 7: [4], 8: [5], 9: [1, 3], 10: [2], 11: [4], 12: [5]}\n",
      "m8 M 241 tree 0 run 1\n",
      "m8 M 241 tree 0 run 2\n"
     ]
    },
    {
     "name": "stderr",
     "output_type": "stream",
     "text": [
      "100%|██████████| 10/10 [00:01<00:00,  6.12it/s]\n",
      "  0%|          | 0/10 [00:00<?, ?it/s]"
     ]
    },
    {
     "name": "stdout",
     "output_type": "stream",
     "text": [
      "m8 M 241 tree 0 run 3\n",
      "m8 M 241 tree 0 run 4\n",
      "m8 M 241 tree 0 run 5\n",
      "{0: [1, 2, 3, 4, 5], 1: [4], 2: [5], 3: [1, 2, 3, 5], 4: [1, 4], 5: [2], 6: [3], 7: [5], 8: [1], 9: [3, 5], 10: [3]}\n",
      "m8 mS 0 tree 0 run 1\n",
      "m8 mS 0 tree 0 run 2\n",
      "m8 mS 0 tree 0 run 3\n",
      "m8 mS 0 tree 0 run 4\n",
      "m8 mS 0 tree 0 run 5\n"
     ]
    },
    {
     "name": "stderr",
     "output_type": "stream",
     "text": [
      "\r",
      " 10%|█         | 1/10 [00:00<00:01,  6.36it/s]"
     ]
    },
    {
     "name": "stdout",
     "output_type": "stream",
     "text": [
      "{0: [2, 3, 4], 1: [2], 2: [3, 4], 3: [5], 4: [1, 2, 3], 5: [1, 2, 3, 4, 5], 6: [1], 7: [1], 8: [4], 9: [4, 5], 10: [5], 11: [2], 12: [3]}\n",
      "m8 mS 7 tree 0 run 1\n",
      "m8 mS 7 tree 0 run 2\n",
      "m8 mS 7 tree 0 run 3\n",
      "m8 mS 7 tree 0 run 4\n",
      "m8 mS 7 tree 0 run 5\n"
     ]
    },
    {
     "name": "stderr",
     "output_type": "stream",
     "text": [
      "\r",
      " 20%|██        | 2/10 [00:00<00:01,  5.76it/s]"
     ]
    },
    {
     "name": "stdout",
     "output_type": "stream",
     "text": [
      "{0: [1, 2, 3, 4, 5], 1: [4, 5], 2: [2, 4, 5], 3: [1, 2, 3, 4, 5], 4: [1, 2, 3, 5], 5: [1, 3], 6: [1, 2, 3], 7: [4]}\n",
      "m8 mS 4 tree 0 run 1\n",
      "m8 mS 4 tree 0 run 2\n",
      "m8 mS 4 tree 0 run 3\n",
      "m8 mS 4 tree 0 run 4\n",
      "m8 mS 4 tree 0 run 5\n",
      "{0: [1, 4], 1: [2], 2: [3], 3: [5], 4: [2], 5: [2], 6: [2], 7: [2]}\n",
      "m8 mS 9 tree 0 run 1\n",
      "m8 mS 9 tree 0 run 2\n",
      "m8 mS 9 tree 0 run 3\n",
      "m8 mS 9 tree 0 run 4\n"
     ]
    },
    {
     "name": "stderr",
     "output_type": "stream",
     "text": [
      " 50%|█████     | 5/10 [00:00<00:00,  6.68it/s]"
     ]
    },
    {
     "name": "stdout",
     "output_type": "stream",
     "text": [
      "m8 mS 9 tree 0 run 5\n",
      "{0: [1, 2, 3, 4, 5], 1: [1], 2: [1, 2, 3, 4, 5], 3: [1, 2, 3, 4, 5], 4: [1, 2, 3, 4, 5], 5: [2, 3, 4], 6: [5]}\n",
      "m8 mS 8 tree 0 run 1\n",
      "m8 mS 8 tree 0 run 2\n",
      "m8 mS 8 tree 0 run 3\n",
      "m8 mS 8 tree 0 run 4\n",
      "m8 mS 8 tree 0 run 5\n",
      "{0: [1, 2, 3, 4, 5], 1: [1, 3, 4, 5], 2: [1, 2, 3, 4, 5], 3: [1, 2, 3, 5], 4: [1, 4, 5], 5: [2, 3, 4], 6: [2]}\n",
      "m8 mS 3 tree 0 run 1\n",
      "m8 mS 3 tree 0 run 2\n"
     ]
    },
    {
     "name": "stderr",
     "output_type": "stream",
     "text": [
      "\r",
      " 60%|██████    | 6/10 [00:00<00:00,  6.89it/s]"
     ]
    },
    {
     "name": "stdout",
     "output_type": "stream",
     "text": [
      "m8 mS 3 tree 0 run 3\n",
      "m8 mS 3 tree 0 run 4\n",
      "m8 mS 3 tree 0 run 5\n",
      "{0: [1, 2, 3, 4, 5], 1: [1, 2, 3, 4, 5], 2: [2, 3, 4], 3: [1, 2, 3, 5], 4: [1, 3, 4, 5], 5: [1, 5], 6: [2], 7: [4]}\n",
      "m8 mS 12 tree 0 run 1\n",
      "m8 mS 12 tree 0 run 2\n",
      "m8 mS 12 tree 0 run 3\n"
     ]
    },
    {
     "name": "stderr",
     "output_type": "stream",
     "text": [
      " 80%|████████  | 8/10 [00:01<00:00,  6.79it/s]"
     ]
    },
    {
     "name": "stdout",
     "output_type": "stream",
     "text": [
      "m8 mS 12 tree 0 run 4\n",
      "m8 mS 12 tree 0 run 5\n",
      "{0: [1, 2, 3, 4, 5], 1: [1, 2, 3, 4, 5], 2: [5], 3: [1, 2, 3, 4, 5], 4: [1, 2, 3, 4, 5], 5: [1], 6: [2], 7: [3, 4]}\n",
      "m8 mS 10 tree 0 run 1\n",
      "m8 mS 10 tree 0 run 2\n",
      "m8 mS 10 tree 0 run 3\n",
      "m8 mS 10 tree 0 run 4\n",
      "m8 mS 10 tree 0 run 5\n",
      "{0: [1, 2, 3, 4, 5], 1: [3], 2: [4], 3: [5], 4: [1, 2, 3, 4, 5], 5: [2], 6: [3, 5], 7: [1], 8: [1, 2, 4, 5], 9: [3, 4]}\n",
      "m8 mS 2 tree 0 run 1\n"
     ]
    },
    {
     "name": "stderr",
     "output_type": "stream",
     "text": [
      "\r",
      " 90%|█████████ | 9/10 [00:01<00:00,  6.67it/s]"
     ]
    },
    {
     "name": "stdout",
     "output_type": "stream",
     "text": [
      "m8 mS 2 tree 0 run 2\n",
      "m8 mS 2 tree 0 run 3\n",
      "m8 mS 2 tree 0 run 4\n",
      "m8 mS 2 tree 0 run 5\n",
      "{0: [1, 2, 3, 4, 5], 1: [1, 2, 3, 4, 5], 2: [1, 2, 3, 4, 5], 3: [1, 2, 3, 4, 5], 4: [1, 4], 5: [2, 3, 5]}\n",
      "m8 mS 5 tree 0 run 1\n",
      "m8 mS 5 tree 0 run 2\n",
      "m8 mS 5 tree 0 run 3\n",
      "m8 mS 5 tree 0 run 4\n"
     ]
    },
    {
     "name": "stderr",
     "output_type": "stream",
     "text": [
      "100%|██████████| 10/10 [00:01<00:00,  6.65it/s]\n",
      " 10%|█         | 1/10 [00:00<00:01,  5.44it/s]"
     ]
    },
    {
     "name": "stdout",
     "output_type": "stream",
     "text": [
      "m8 mS 5 tree 0 run 5\n",
      "{0: [1, 2, 3, 4, 5], 1: [2, 4, 5], 2: [1, 2, 3, 4, 5], 3: [2, 3, 4, 5], 4: [1], 5: [1, 2, 3, 4, 5], 6: [1], 7: [3]}\n",
      "m8 R 10157 tree 0 run 1\n",
      "m8 R 10157 tree 0 run 2\n",
      "m8 R 10157 tree 0 run 3\n",
      "m8 R 10157 tree 0 run 4\n",
      "m8 R 10157 tree 0 run 5\n",
      "{0: [3], 1: [1, 2, 4, 5], 2: [1, 4, 5], 3: [2], 4: [3], 5: [2, 5], 6: [3], 7: [1, 4, 5], 8: [1, 4], 9: [2], 10: [3], 11: [5], 12: [1, 4], 13: [3]}\n"
     ]
    },
    {
     "name": "stderr",
     "output_type": "stream",
     "text": [
      "\r",
      " 20%|██        | 2/10 [00:00<00:01,  5.58it/s]"
     ]
    },
    {
     "name": "stdout",
     "output_type": "stream",
     "text": [
      "m8 R 1070 tree 0 run 1\n",
      "m8 R 1070 tree 0 run 2\n",
      "m8 R 1070 tree 0 run 3\n",
      "m8 R 1070 tree 0 run 4\n",
      "m8 R 1070 tree 0 run 5\n",
      "{0: [1, 2, 3, 4, 5], 1: [4], 2: [5], 3: [1, 3, 5], 4: [1], 5: [1, 2, 3, 4, 5], 6: [2, 3, 4], 7: [1, 2, 5], 8: [2], 9: [3], 10: [4]}\n",
      "m8 R 9 tree 0 run 1\n",
      "m8 R 9 tree 0 run 2\n"
     ]
    },
    {
     "name": "stderr",
     "output_type": "stream",
     "text": [
      "\r",
      " 30%|███       | 3/10 [00:00<00:01,  5.70it/s]"
     ]
    },
    {
     "name": "stdout",
     "output_type": "stream",
     "text": [
      "m8 R 9 tree 0 run 3\n",
      "m8 R 9 tree 0 run 4\n",
      "m8 R 9 tree 0 run 5\n",
      "{0: [1, 2, 3, 4, 5], 1: [5], 2: [1, 2, 3, 4, 5], 3: [1, 2, 3, 4, 5], 4: [4], 5: [1, 2, 3, 4, 5], 6: [1, 2, 3]}\n",
      "m8 R 905 tree 0 run 1\n",
      "m8 R 905 tree 0 run 2\n",
      "m8 R 905 tree 0 run 3\n"
     ]
    },
    {
     "name": "stderr",
     "output_type": "stream",
     "text": [
      "\r",
      " 40%|████      | 4/10 [00:00<00:01,  5.76it/s]"
     ]
    },
    {
     "name": "stdout",
     "output_type": "stream",
     "text": [
      "m8 R 905 tree 0 run 4\n",
      "m8 R 905 tree 0 run 5\n",
      "{0: [1, 3, 4, 5], 1: [1, 2, 3, 4, 5], 2: [2], 3: [3, 4], 4: [5], 5: [1, 2, 3, 4, 5], 6: [1, 2], 7: [1, 2, 3, 4, 5]}\n",
      "m8 R 10046 tree 0 run 1\n",
      "m8 R 10046 tree 0 run 2\n",
      "m8 R 10046 tree 0 run 3\n",
      "m8 R 10046 tree 0 run 4\n"
     ]
    },
    {
     "name": "stderr",
     "output_type": "stream",
     "text": [
      " 60%|██████    | 6/10 [00:00<00:00,  6.34it/s]"
     ]
    },
    {
     "name": "stdout",
     "output_type": "stream",
     "text": [
      "m8 R 10046 tree 0 run 5\n",
      "{0: [1, 2, 3, 4, 5], 1: [1, 4, 5], 2: [1, 2, 3, 4, 5], 3: [5], 4: [1, 2, 3, 4, 5], 5: [2, 3], 6: [1, 3, 4], 7: [2]}\n",
      "m8 R 394 tree 0 run 1\n",
      "m8 R 394 tree 0 run 2\n",
      "m8 R 394 tree 0 run 3\n",
      "m8 R 394 tree 0 run 4\n",
      "m8 R 394 tree 0 run 5\n",
      "{0: [1, 2, 4], 1: [3], 2: [5], 3: [3], 4: [5], 5: [2, 3, 4], 6: [2], 7: [5], 8: [1, 4], 9: [1, 3, 4], 10: [1], 11: [2], 12: [3], 13: [4], 14: [1], 15: [2]}\n",
      "m8 R 981 tree 0 run 1\n",
      "m8 R 981 tree 0 run 2\n",
      "m8 R 981 tree 0 run 3\n"
     ]
    },
    {
     "name": "stderr",
     "output_type": "stream",
     "text": [
      " 80%|████████  | 8/10 [00:01<00:00,  7.04it/s]"
     ]
    },
    {
     "name": "stdout",
     "output_type": "stream",
     "text": [
      "m8 R 981 tree 0 run 4\n",
      "m8 R 981 tree 0 run 5\n",
      "{0: [1, 2, 3, 4, 5], 1: [1, 4, 5], 2: [1, 2, 3, 4, 5], 3: [1, 2, 3], 4: [3], 5: [1, 2, 4, 5], 6: [2, 3, 4], 7: [5]}\n",
      "m8 R 383 tree 0 run 1\n",
      "m8 R 383 tree 0 run 2\n",
      "m8 R 383 tree 0 run 3\n",
      "m8 R 383 tree 0 run 4\n",
      "m8 R 383 tree 0 run 5\n",
      "{0: [1, 2, 3, 4, 5], 1: [1, 3, 5], 2: [4], 3: [1, 4], 4: [2], 5: [3], 6: [1, 2, 4, 5], 7: [3], 8: [2, 4, 5], 9: [1, 3], 10: [2], 11: [5]}\n",
      "m8 R 30342 tree 0 run 1\n"
     ]
    },
    {
     "name": "stderr",
     "output_type": "stream",
     "text": [
      "\r",
      " 90%|█████████ | 9/10 [00:01<00:00,  6.53it/s]"
     ]
    },
    {
     "name": "stdout",
     "output_type": "stream",
     "text": [
      "m8 R 30342 tree 0 run 2\n",
      "m8 R 30342 tree 0 run 3\n",
      "m8 R 30342 tree 0 run 4\n",
      "m8 R 30342 tree 0 run 5\n",
      "{0: [1, 2, 3, 4, 5], 1: [1, 3, 5], 2: [2, 3, 5], 3: [4], 4: [1, 2, 3, 5], 5: [3, 4], 6: [4], 7: [1, 2, 5], 8: [1], 9: [2], 10: [4]}\n",
      "m8 R 157 tree 0 run 1\n",
      "m8 R 157 tree 0 run 2\n",
      "m8 R 157 tree 0 run 3\n"
     ]
    },
    {
     "name": "stderr",
     "output_type": "stream",
     "text": [
      "100%|██████████| 10/10 [00:01<00:00,  6.38it/s]\n",
      "  0%|          | 0/10 [00:00<?, ?it/s]"
     ]
    },
    {
     "name": "stdout",
     "output_type": "stream",
     "text": [
      "m8 R 157 tree 0 run 4\n",
      "m8 R 157 tree 0 run 5\n",
      "{0: [1, 2, 3, 4, 5], 1: [1], 2: [1, 2, 3, 4, 5], 3: [4], 4: [5], 5: [1, 2], 6: [1, 2, 3], 7: [3], 8: [4], 9: [5], 10: [2], 11: [5]}\n",
      "m8 S 0 tree 0 run 1\n",
      "m8 S 0 tree 0 run 2\n",
      "m8 S 0 tree 0 run 3\n"
     ]
    },
    {
     "name": "stderr",
     "output_type": "stream",
     "text": [
      "\r",
      " 10%|█         | 1/10 [00:00<00:02,  4.39it/s]"
     ]
    },
    {
     "name": "stdout",
     "output_type": "stream",
     "text": [
      "m8 S 0 tree 0 run 4\n",
      "m8 S 0 tree 0 run 5\n",
      "{0: [1, 2, 3, 4, 5], 1: [1, 2, 3, 4, 5], 2: [1], 3: [4], 4: [5], 5: [1, 2], 6: [3, 4], 7: [2], 8: [3], 9: [2, 5], 10: [1], 11: [3], 12: [4], 13: [5]}\n",
      "m8 S 35 tree 0 run 1\n",
      "m8 S 35 tree 0 run 2\n",
      "m8 S 35 tree 0 run 3\n",
      "m8 S 35 tree 0 run 4\n"
     ]
    },
    {
     "name": "stderr",
     "output_type": "stream",
     "text": [
      " 30%|███       | 3/10 [00:00<00:01,  5.61it/s]"
     ]
    },
    {
     "name": "stdout",
     "output_type": "stream",
     "text": [
      "m8 S 35 tree 0 run 5\n",
      "{0: [1, 2, 3, 4, 5], 1: [2, 3, 4], 2: [1, 2, 3, 4, 5], 3: [1, 2, 4], 4: [2, 3, 5], 5: [1, 3, 4, 5], 6: [1], 7: [5]}\n",
      "m8 S 37 tree 0 run 1\n",
      "m8 S 37 tree 0 run 2\n",
      "m8 S 37 tree 0 run 3\n",
      "m8 S 37 tree 0 run 4\n",
      "m8 S 37 tree 0 run 5\n",
      "{0: [1, 2, 3, 4, 5], 1: [1, 2, 3, 4, 5], 2: [1, 2, 3, 4, 5], 3: [1, 3], 4: [1, 2, 3, 4, 5], 5: [2], 6: [4, 5]}\n",
      "m8 S 31 tree 0 run 1\n",
      "m8 S 31 tree 0 run 2\n",
      "m8 S 31 tree 0 run 3\n"
     ]
    },
    {
     "name": "stderr",
     "output_type": "stream",
     "text": [
      "\r",
      " 40%|████      | 4/10 [00:00<00:01,  5.65it/s]"
     ]
    },
    {
     "name": "stdout",
     "output_type": "stream",
     "text": [
      "m8 S 31 tree 0 run 4\n",
      "m8 S 31 tree 0 run 5\n",
      "{0: [1, 2, 3, 4, 5], 1: [1, 2, 3, 4], 2: [1], 3: [3], 4: [1, 2, 3, 4, 5], 5: [5], 6: [1, 2, 3, 4, 5], 7: [2], 8: [4], 9: [5]}\n",
      "m8 S 69 tree 0 run 1\n",
      "m8 S 69 tree 0 run 2\n",
      "m8 S 69 tree 0 run 3\n",
      "m8 S 69 tree 0 run 4\n"
     ]
    },
    {
     "name": "stderr",
     "output_type": "stream",
     "text": [
      "\r",
      " 50%|█████     | 5/10 [00:00<00:00,  5.59it/s]"
     ]
    },
    {
     "name": "stdout",
     "output_type": "stream",
     "text": [
      "m8 S 69 tree 0 run 5\n",
      "{0: [1, 2, 3, 4, 5], 1: [1, 3, 4, 5], 2: [2, 3], 3: [1, 2, 3, 4, 5], 4: [1, 2, 4, 5], 5: [1, 2, 3, 5], 6: [4]}\n",
      "m8 S 54 tree 0 run 1\n",
      "m8 S 54 tree 0 run 2\n",
      "m8 S 54 tree 0 run 3\n",
      "m8 S 54 tree 0 run 4\n",
      "m8 S 54 tree 0 run 5\n",
      "{0: [1, 2, 3, 4, 5], 1: [1, 3, 5], 2: [4], 3: [2, 4], 4: [2, 4], 5: [2]}\n",
      "m8 S 12 tree 0 run 1\n",
      "m8 S 12 tree 0 run 2\n",
      "m8 S 12 tree 0 run 3\n",
      "m8 S 12 tree 0 run 4\n",
      "m8 S 12 tree 0 run 5\n"
     ]
    },
    {
     "name": "stderr",
     "output_type": "stream",
     "text": [
      " 80%|████████  | 8/10 [00:01<00:00,  6.09it/s]"
     ]
    },
    {
     "name": "stdout",
     "output_type": "stream",
     "text": [
      "{0: [1, 2, 3, 4, 5], 1: [1, 2], 2: [1, 3, 4, 5], 3: [3, 5], 4: [1], 5: [2, 3, 4, 5], 6: [1, 2, 3, 4, 5], 7: [2], 8: [4]}\n",
      "m8 S 23 tree 0 run 1\n",
      "m8 S 23 tree 0 run 2\n",
      "m8 S 23 tree 0 run 3\n",
      "m8 S 23 tree 0 run 4\n",
      "m8 S 23 tree 0 run 5\n",
      "{0: [1, 2, 3, 4, 5], 1: [2, 3], 2: [4], 3: [1, 2, 3, 4, 5], 4: [1, 2, 3, 4, 5], 5: [1, 4, 5], 6: [1], 7: [2, 3], 8: [5]}\n"
     ]
    },
    {
     "name": "stderr",
     "output_type": "stream",
     "text": [
      "\r",
      " 90%|█████████ | 9/10 [00:01<00:00,  5.46it/s]"
     ]
    },
    {
     "name": "stdout",
     "output_type": "stream",
     "text": [
      "m8 S 2 tree 0 run 1\n",
      "m8 S 2 tree 0 run 2\n",
      "m8 S 2 tree 0 run 3\n",
      "m8 S 2 tree 0 run 4\n",
      "m8 S 2 tree 0 run 5\n",
      "{0: [1, 2, 3, 4, 5], 1: [3], 2: [4], 3: [2, 3, 4], 4: [1, 3], 5: [2, 5], 6: [3, 5], 7: [1, 5], 8: [1], 9: [2, 4], 10: [2], 11: [4], 12: [5], 13: [1]}\n"
     ]
    },
    {
     "name": "stderr",
     "output_type": "stream",
     "text": [
      "100%|██████████| 10/10 [00:01<00:00,  6.14it/s]\n",
      "  0%|          | 0/10 [00:00<?, ?it/s]"
     ]
    },
    {
     "name": "stdout",
     "output_type": "stream",
     "text": [
      "m8 S 5 tree 0 run 1\n",
      "m8 S 5 tree 0 run 2\n",
      "m8 S 5 tree 0 run 3\n",
      "m8 S 5 tree 0 run 4\n",
      "m8 S 5 tree 0 run 5\n",
      "{0: [1, 2, 3, 4, 5], 1: [3, 4, 5], 2: [1, 3, 4, 5], 3: [2], 4: [1, 2, 3, 4], 5: [2], 6: [1, 3, 4, 5], 7: [1, 2], 8: [5]}\n",
      "m5 M 209 tree 0 run 1\n",
      "m5 M 209 tree 0 run 2\n"
     ]
    },
    {
     "name": "stderr",
     "output_type": "stream",
     "text": [
      " 20%|██        | 2/10 [00:00<00:01,  6.92it/s]"
     ]
    },
    {
     "name": "stdout",
     "output_type": "stream",
     "text": [
      "m5 M 209 tree 0 run 3\n",
      "m5 M 209 tree 0 run 4\n",
      "m5 M 209 tree 0 run 5\n",
      "{0: [1, 2, 3, 4, 5], 1: [1, 2, 3, 4, 5], 2: [1, 2, 3, 4, 5], 3: [2], 4: [1, 2, 3, 4, 5], 5: [1, 3, 4, 5]}\n",
      "m5 M 534 tree 0 run 1\n",
      "m5 M 534 tree 0 run 2\n",
      "m5 M 534 tree 0 run 3\n",
      "m5 M 534 tree 0 run 4\n",
      "m5 M 534 tree 0 run 5\n",
      "{0: [1, 2, 3, 4, 5], 1: [1, 2, 3, 4, 5], 2: [2, 3], 3: [4], 4: [1, 2], 5: [1, 3, 4, 5], 6: [4], 7: [1, 3, 5], 8: [2], 9: [5]}\n",
      "m5 M 694 tree 0 run 1\n",
      "m5 M 694 tree 0 run 2\n",
      "m5 M 694 tree 0 run 3\n"
     ]
    },
    {
     "name": "stderr",
     "output_type": "stream",
     "text": [
      "\r",
      " 40%|████      | 4/10 [00:00<00:00,  8.08it/s]"
     ]
    },
    {
     "name": "stdout",
     "output_type": "stream",
     "text": [
      "m5 M 694 tree 0 run 4\n",
      "m5 M 694 tree 0 run 5\n",
      "{0: [1, 2, 3, 4, 5], 1: [1, 2, 3, 4, 5], 2: [1, 2, 3, 4], 3: [2, 5]}\n",
      "m5 M 512 tree 0 run 1\n",
      "m5 M 512 tree 0 run 2\n",
      "m5 M 512 tree 0 run 3\n",
      "m5 M 512 tree 0 run 4\n",
      "m5 M 512 tree 0 run 5\n",
      "{0: [1, 2, 4, 5], 1: [3], 2: [1, 2, 4, 5], 3: [3], 4: [3], 5: [1, 2, 4, 5], 6: [1, 2, 4, 5], 7: [3], 8: [1], 9: [2], 10: [3], 11: [4], 12: [5]}\n",
      "m5 M 545 tree 0 run 1\n",
      "m5 M 545 tree 0 run 2\n"
     ]
    },
    {
     "name": "stderr",
     "output_type": "stream",
     "text": [
      "\r",
      " 50%|█████     | 5/10 [00:00<00:00,  6.97it/s]"
     ]
    },
    {
     "name": "stdout",
     "output_type": "stream",
     "text": [
      "m5 M 545 tree 0 run 3\n",
      "m5 M 545 tree 0 run 4\n",
      "m5 M 545 tree 0 run 5\n",
      "{0: [1, 2, 3, 4, 5], 1: [2], 2: [1, 2, 3, 4, 5], 3: [3, 4], 4: [1, 2, 4, 5], 5: [3], 6: [5], 7: [1, 4], 8: [1], 9: [2], 10: [3], 11: [5]}\n",
      "m5 M 865 tree 0 run 1\n",
      "m5 M 865 tree 0 run 2\n",
      "m5 M 865 tree 0 run 3\n",
      "m5 M 865 tree 0 run 4\n",
      "m5 M 865 tree 0 run 5\n",
      "{0: [1, 2, 3, 4, 5], 1: [1, 2, 3, 4, 5], 2: [1, 2, 3, 4, 5], 3: [1, 2, 3, 5], 4: [2, 4, 5], 5: [1], 6: [3], 7: [4]}\n",
      "m5 M 907 tree 0 run 1\n"
     ]
    },
    {
     "name": "stderr",
     "output_type": "stream",
     "text": [
      "\r",
      " 70%|███████   | 7/10 [00:00<00:00,  7.80it/s]"
     ]
    },
    {
     "name": "stdout",
     "output_type": "stream",
     "text": [
      "m5 M 907 tree 0 run 2\n",
      "m5 M 907 tree 0 run 3\n",
      "m5 M 907 tree 0 run 4\n",
      "m5 M 907 tree 0 run 5\n",
      "{0: [1, 2, 3, 4, 5], 1: [1, 2, 3, 4, 5], 2: [1, 3, 4], 3: [1, 2, 3, 5], 4: [4], 5: [1, 2, 4, 5], 6: [2, 3, 5]}\n",
      "m5 M 76 tree 0 run 1\n",
      "m5 M 76 tree 0 run 2\n",
      "m5 M 76 tree 0 run 3\n",
      "m5 M 76 tree 0 run 4\n",
      "m5 M 76 tree 0 run 5\n",
      "{0: [1, 2, 3, 4, 5], 1: [1, 2, 3, 4, 5], 2: [1, 2, 3, 4, 5], 3: [1, 2, 3, 4, 5], 4: [1, 3, 5], 5: [2], 6: [4]}\n",
      "m5 M 565 tree 0 run 1\n",
      "m5 M 565 tree 0 run 2\n",
      "m5 M 565 tree 0 run 3\n",
      "m5 M 565 tree 0 run 4\n",
      "m5 M 565 tree 0 run 5\n",
      "{0: [1, 2, 3, 4, 5], 1: [1, 2, 3, 4, 5], 2: [1, 2, 3, 4, 5], 3: [2, 4, 5], 4: [1, 2, 3, 4, 5], 5: [1, 3]}\n",
      "m5 M 473 tree 0 run 1\n",
      "m5 M 473 tree 0 run 2\n",
      "m5 M 473 tree 0 run 3\n"
     ]
    },
    {
     "name": "stderr",
     "output_type": "stream",
     "text": [
      "100%|██████████| 10/10 [00:01<00:00,  9.68it/s]\n",
      "  0%|          | 0/10 [00:00<?, ?it/s]"
     ]
    },
    {
     "name": "stdout",
     "output_type": "stream",
     "text": [
      "m5 M 473 tree 0 run 4\n",
      "m5 M 473 tree 0 run 5\n",
      "{0: [1, 2, 4], 1: [3, 5], 2: [1, 2], 3: [3], 4: [5], 5: [1, 2, 4], 6: [3], 7: [5], 8: [1, 2, 4], 9: [3], 10: [5], 11: [1, 2, 4], 12: [3], 13: [4], 14: [5]}\n",
      "m5 mS 0 tree 0 run 1\n",
      "m5 mS 0 tree 0 run 2\n",
      "m5 mS 0 tree 0 run 3\n"
     ]
    },
    {
     "name": "stderr",
     "output_type": "stream",
     "text": [
      " 20%|██        | 2/10 [00:00<00:01,  5.60it/s]"
     ]
    },
    {
     "name": "stdout",
     "output_type": "stream",
     "text": [
      "m5 mS 0 tree 0 run 4\n",
      "m5 mS 0 tree 0 run 5\n",
      "{0: [1, 2, 3, 4, 5], 1: [1, 2, 3, 4, 5], 2: [1, 2, 3, 4, 5], 3: [1, 2, 3, 4, 5]}\n",
      "m5 mS 7 tree 0 run 1\n",
      "m5 mS 7 tree 0 run 2\n",
      "m5 mS 7 tree 0 run 3\n",
      "m5 mS 7 tree 0 run 4\n",
      "m5 mS 7 tree 0 run 5\n",
      "{0: [1, 2, 3, 4, 5], 1: [1, 2, 3, 4, 5], 2: [1, 2, 3, 4, 5], 3: [1, 2, 3, 4, 5], 4: [1, 2, 3, 4, 5]}\n",
      "m5 mS 4 tree 0 run 1\n",
      "m5 mS 4 tree 0 run 2\n",
      "m5 mS 4 tree 0 run 3\n",
      "m5 mS 4 tree 0 run 4\n",
      "m5 mS 4 tree 0 run 5\n",
      "{0: [1, 2, 3, 4, 5]}\n",
      "m5 mS 9 tree 0 run 1\n",
      "m5 mS 9 tree 0 run 2\n",
      "m5 mS 9 tree 0 run 3\n",
      "m5 mS 9 tree 0 run 4\n",
      "m5 mS 9 tree 0 run 5\n",
      "{0: [1, 2, 3, 4, 5], 1: [1, 2, 3, 4, 5]}\n",
      "m5 mS 8 tree 0 run 1\n",
      "m5 mS 8 tree 0 run 2\n",
      "m5 mS 8 tree 0 run 3\n",
      "m5 mS 8 tree 0 run 4\n"
     ]
    },
    {
     "name": "stderr",
     "output_type": "stream",
     "text": [
      "100%|██████████| 10/10 [00:00<00:00, 13.77it/s]\n",
      "  0%|          | 0/10 [00:00<?, ?it/s]"
     ]
    },
    {
     "name": "stdout",
     "output_type": "stream",
     "text": [
      "m5 mS 8 tree 0 run 5\n",
      "{0: [1, 2, 3, 4, 5], 1: [1, 2, 3, 4, 5], 2: [1, 2, 3, 4, 5], 3: [1, 2, 4, 5], 4: [1, 2, 3, 4, 5], 5: [3]}\n",
      "m5 mS 3 tree 0 run 1\n",
      "m5 mS 3 tree 0 run 2\n",
      "m5 mS 3 tree 0 run 3\n",
      "m5 mS 3 tree 0 run 4\n",
      "m5 mS 3 tree 0 run 5\n",
      "{0: [1, 2, 3, 4, 5], 1: [1, 2, 3, 4, 5], 2: [1, 2, 3, 4, 5], 3: [1, 2, 3, 4, 5]}\n",
      "m5 mS 12 tree 0 run 1\n",
      "m5 mS 12 tree 0 run 2\n",
      "m5 mS 12 tree 0 run 3\n",
      "m5 mS 12 tree 0 run 4\n",
      "m5 mS 12 tree 0 run 5\n",
      "{0: [1, 2, 3, 4, 5]}\n",
      "m5 mS 10 tree 0 run 1\n",
      "m5 mS 10 tree 0 run 2\n",
      "m5 mS 10 tree 0 run 3\n",
      "m5 mS 10 tree 0 run 4\n",
      "m5 mS 10 tree 0 run 5\n",
      "{0: [1, 2, 3, 4, 5], 1: [2, 3], 2: [1, 2, 3, 4, 5], 3: [1, 2, 4, 5], 4: [1], 5: [4], 6: [3, 5], 7: [1, 2, 4, 5], 8: [3]}\n",
      "m5 mS 2 tree 0 run 1\n",
      "m5 mS 2 tree 0 run 2\n",
      "m5 mS 2 tree 0 run 3\n",
      "m5 mS 2 tree 0 run 4\n",
      "m5 mS 2 tree 0 run 5\n",
      "{0: [1, 2, 3, 4, 5], 1: [1, 2, 3, 4, 5], 2: [1, 2, 3, 4, 5], 3: [1, 2, 3, 4, 5], 4: [1, 2, 3], 5: [4, 5]}\n",
      "m5 mS 5 tree 0 run 1\n",
      "m5 mS 5 tree 0 run 2\n",
      "m5 mS 5 tree 0 run 3\n",
      "m5 mS 5 tree 0 run 4\n",
      "m5 mS 5 tree 0 run 5\n",
      "{0: [1, 2, 3, 4, 5], 1: [1, 2, 3, 4, 5]}\n",
      "m5 R 571 tree 0 run 1\n",
      "m5 R 571 tree 0 run 2\n",
      "m5 R 571 tree 0 run 3\n",
      "m5 R 571 tree 0 run 4\n",
      "m5 R 571 tree 0 run 5\n",
      "{0: [1, 2, 3, 4, 5], 1: [2, 4], 2: [1, 2, 3, 4, 5], 3: [3], 4: [2, 4, 5], 5: [1, 5], 6: [1, 2, 4]}\n"
     ]
    },
    {
     "name": "stderr",
     "output_type": "stream",
     "text": [
      " 50%|█████     | 5/10 [00:00<00:00, 18.90it/s]"
     ]
    },
    {
     "name": "stdout",
     "output_type": "stream",
     "text": [
      "m5 R 1140 tree 0 run 1\n",
      "m5 R 1140 tree 0 run 2\n",
      "m5 R 1140 tree 0 run 3\n",
      "m5 R 1140 tree 0 run 4\n",
      "m5 R 1140 tree 0 run 5\n",
      "{0: [1, 2, 3, 4, 5], 1: [1, 2, 3, 4, 5], 2: [1, 2, 3, 4, 5], 3: [1, 2, 3, 4, 5], 4: [1, 2, 3, 4, 5]}\n",
      "m5 R 538 tree 0 run 1\n",
      "m5 R 538 tree 0 run 2\n",
      "m5 R 538 tree 0 run 3\n",
      "m5 R 538 tree 0 run 4\n",
      "m5 R 538 tree 0 run 5\n",
      "{0: [1, 3, 4, 5], 1: [1, 2, 3, 4, 5], 2: [1], 3: [2, 3, 4, 5], 4: [5], 5: [1, 2, 3, 5], 6: [2, 3, 4]}\n",
      "m5 R 981 tree 0 run 1\n",
      "m5 R 981 tree 0 run 2\n",
      "m5 R 981 tree 0 run 3\n",
      "m5 R 981 tree 0 run 4\n",
      "m5 R 981 tree 0 run 5\n",
      "{0: [1, 2, 3, 4, 5], 1: [1, 2, 3, 4, 5], 2: [1, 3, 4, 5], 3: [2], 4: [4]}\n",
      "m5 R 2155 tree 0 run 1\n",
      "m5 R 2155 tree 0 run 2\n",
      "m5 R 2155 tree 0 run 3\n",
      "m5 R 2155 tree 0 run 4\n",
      "m5 R 2155 tree 0 run 5\n",
      "{0: [1, 2, 3], 1: [4], 2: [5], 3: [1, 2, 3], 4: [4], 5: [1, 3], 6: [4], 7: [1, 5], 8: [4, 5], 9: [1, 2, 5], 10: [3], 11: [4], 12: [2, 5], 13: [2], 14: [3]}\n",
      "m5 R 950 tree 0 run 1\n",
      "m5 R 950 tree 0 run 2\n",
      "m5 R 950 tree 0 run 3\n",
      "m5 R 950 tree 0 run 4\n",
      "m5 R 950 tree 0 run 5\n",
      "{0: [1, 2, 3, 4, 5], 1: [1, 2, 3, 4, 5], 2: [1, 5], 3: [4], 4: [1, 2, 3, 4, 5], 5: [2, 3, 5], 6: [1, 2, 3], 7: [4]}\n",
      "m5 R 247 tree 0 run 1\n",
      "m5 R 247 tree 0 run 2\n",
      "m5 R 247 tree 0 run 3\n"
     ]
    },
    {
     "name": "stderr",
     "output_type": "stream",
     "text": [
      " 90%|█████████ | 9/10 [00:00<00:00, 12.56it/s]"
     ]
    },
    {
     "name": "stdout",
     "output_type": "stream",
     "text": [
      "m5 R 247 tree 0 run 4\n",
      "m5 R 247 tree 0 run 5\n",
      "{0: [1, 2, 3, 4, 5], 1: [1, 2, 3, 4, 5], 2: [1, 3, 4, 5], 3: [2, 5], 4: [2, 3, 4, 5], 5: [1, 2, 3, 4], 6: [1]}\n",
      "m5 R 955 tree 0 run 1\n",
      "m5 R 955 tree 0 run 2\n",
      "m5 R 955 tree 0 run 3\n",
      "m5 R 955 tree 0 run 4\n",
      "m5 R 955 tree 0 run 5\n",
      "{0: [1, 2, 3, 4, 5], 1: [1, 2, 3, 4], 2: [4, 5], 3: [1, 2], 4: [4, 5], 5: [2, 3, 4, 5], 6: [1, 3], 7: [1], 8: [2], 9: [5]}\n",
      "m5 R 518 tree 0 run 1\n",
      "m5 R 518 tree 0 run 2\n",
      "m5 R 518 tree 0 run 3\n",
      "m5 R 518 tree 0 run 4\n",
      "m5 R 518 tree 0 run 5\n",
      "{0: [1, 2, 3, 4, 5], 1: [1, 3, 4, 5], 2: [1, 2, 3, 4, 5], 3: [1, 2, 3, 4, 5], 4: [1, 2, 3, 4, 5], 5: [2]}\n"
     ]
    },
    {
     "name": "stderr",
     "output_type": "stream",
     "text": [
      "100%|██████████| 10/10 [00:00<00:00, 11.86it/s]\n",
      "  0%|          | 0/10 [00:00<?, ?it/s]"
     ]
    },
    {
     "name": "stdout",
     "output_type": "stream",
     "text": [
      "m5 R 17 tree 0 run 1\n",
      "m5 R 17 tree 0 run 2\n",
      "m5 R 17 tree 0 run 3\n",
      "m5 R 17 tree 0 run 4\n",
      "m5 R 17 tree 0 run 5\n",
      "{0: [1, 2, 3, 4, 5], 1: [3, 5], 2: [4], 3: [1, 4, 5], 4: [1, 2, 3, 4, 5], 5: [2, 3], 6: [5], 7: [1, 3, 4], 8: [1, 2], 9: [2]}\n",
      "m5 S 49 tree 0 run 1\n",
      "m5 S 49 tree 0 run 2\n",
      "m5 S 49 tree 0 run 3\n",
      "m5 S 49 tree 0 run 4\n",
      "m5 S 49 tree 0 run 5\n",
      "{0: [1, 2, 3, 4, 5], 1: [1, 4, 5], 2: [1, 3, 5], 3: [1, 3, 4], 4: [3], 5: [4, 5], 6: [1, 3, 5], 7: [4]}\n",
      "m5 S 35 tree 0 run 1\n",
      "m5 S 35 tree 0 run 2\n",
      "m5 S 35 tree 0 run 3\n",
      "m5 S 35 tree 0 run 4\n",
      "m5 S 35 tree 0 run 5\n",
      "{0: [1, 2, 3, 4, 5], 1: [1, 2, 3, 4, 5], 2: [1, 2, 3, 4, 5], 3: [1, 3, 4, 5]}\n"
     ]
    },
    {
     "name": "stderr",
     "output_type": "stream",
     "text": [
      "\r",
      " 30%|███       | 3/10 [00:00<00:00, 12.84it/s]"
     ]
    },
    {
     "name": "stdout",
     "output_type": "stream",
     "text": [
      "m5 S 25 tree 0 run 1\n",
      "m5 S 25 tree 0 run 2\n",
      "m5 S 25 tree 0 run 3\n",
      "m5 S 25 tree 0 run 4\n",
      "m5 S 25 tree 0 run 5\n",
      "{0: [1, 2, 3, 4, 5], 1: [1, 2, 3, 4, 5], 2: [1, 2, 3, 4, 5], 3: [1, 2, 3, 4, 5], 4: [1, 2, 3, 4, 5]}\n",
      "m5 S 31 tree 0 run 1\n"
     ]
    },
    {
     "name": "stderr",
     "output_type": "stream",
     "text": [
      "\r",
      " 40%|████      | 4/10 [00:00<00:00,  8.70it/s]"
     ]
    },
    {
     "name": "stdout",
     "output_type": "stream",
     "text": [
      "m5 S 31 tree 0 run 2\n",
      "m5 S 31 tree 0 run 3\n",
      "m5 S 31 tree 0 run 4\n",
      "m5 S 31 tree 0 run 5\n",
      "{0: [1, 2, 3, 4, 5], 1: [1, 2, 3, 4, 5], 2: [1, 2, 3, 4, 5], 3: [1, 2, 3], 4: [5], 5: [1, 4, 5], 6: [2, 3, 4]}\n",
      "m5 S 81 tree 0 run 1\n",
      "m5 S 81 tree 0 run 2\n"
     ]
    },
    {
     "name": "stderr",
     "output_type": "stream",
     "text": [
      "\r",
      " 50%|█████     | 5/10 [00:00<00:00,  7.60it/s]"
     ]
    },
    {
     "name": "stdout",
     "output_type": "stream",
     "text": [
      "m5 S 81 tree 0 run 3\n",
      "m5 S 81 tree 0 run 4\n",
      "m5 S 81 tree 0 run 5\n",
      "{0: [1, 2, 3, 4, 5], 1: [1, 3, 4, 5], 2: [1, 2, 4, 5], 3: [1, 2, 3, 4, 5], 4: [1, 2, 3], 5: [2, 3, 4, 5]}\n",
      "m5 S 40 tree 0 run 1\n",
      "m5 S 40 tree 0 run 2\n",
      "m5 S 40 tree 0 run 3\n",
      "m5 S 40 tree 0 run 4\n",
      "m5 S 40 tree 0 run 5\n",
      "{0: [1, 2, 3, 4, 5], 1: [1, 2, 4, 5], 2: [3], 3: [2, 4, 5], 4: [1, 2, 4, 5], 5: [1, 2, 4, 5]}\n",
      "m5 S 32 tree 0 run 1\n",
      "m5 S 32 tree 0 run 2\n",
      "m5 S 32 tree 0 run 3\n",
      "m5 S 32 tree 0 run 4\n",
      "m5 S 32 tree 0 run 5\n",
      "{0: [1, 2, 3, 4, 5], 1: [2, 3, 4, 5], 2: [3, 4, 5]}\n",
      "m5 S 23 tree 0 run 1\n",
      "m5 S 23 tree 0 run 2\n",
      "m5 S 23 tree 0 run 3\n"
     ]
    },
    {
     "name": "stderr",
     "output_type": "stream",
     "text": [
      "100%|██████████| 10/10 [00:00<00:00, 11.86it/s]\n",
      "  0%|          | 0/10 [00:00<?, ?it/s]"
     ]
    },
    {
     "name": "stdout",
     "output_type": "stream",
     "text": [
      "m5 S 23 tree 0 run 4\n",
      "m5 S 23 tree 0 run 5\n",
      "{0: [1, 2, 3, 4, 5], 1: [1, 4], 2: [1, 2, 3, 4, 5], 3: [2, 3, 4], 4: [1, 2, 3, 5], 5: [1, 2, 3, 4, 5], 6: [5]}\n",
      "m5 S 62 tree 0 run 1\n",
      "m5 S 62 tree 0 run 2\n",
      "m5 S 62 tree 0 run 3\n",
      "m5 S 62 tree 0 run 4\n",
      "m5 S 62 tree 0 run 5\n",
      "{0: [1, 2, 3, 4, 5], 1: [1, 2, 3, 4, 5]}\n",
      "m5 S 17 tree 0 run 1\n",
      "m5 S 17 tree 0 run 2\n",
      "m5 S 17 tree 0 run 3\n",
      "m5 S 17 tree 0 run 4\n",
      "m5 S 17 tree 0 run 5\n",
      "{0: [1, 2, 3, 4, 5], 1: [1, 2, 3, 4, 5], 2: [1, 2, 3, 4, 5], 3: [1, 2, 3, 4, 5]}\n",
      "batch size: 1024\n",
      "m8 M 45 tree 0 run 1\n",
      "m8 M 45 tree 0 run 2\n",
      "m8 M 45 tree 0 run 3\n"
     ]
    },
    {
     "name": "stderr",
     "output_type": "stream",
     "text": [
      "\r",
      " 10%|█         | 1/10 [00:00<00:01,  5.42it/s]"
     ]
    },
    {
     "name": "stdout",
     "output_type": "stream",
     "text": [
      "m8 M 45 tree 0 run 4\n",
      "m8 M 45 tree 0 run 5\n",
      "{0: [1, 2, 3, 4, 5], 1: [1, 2, 3, 4, 5], 2: [1, 3, 4], 3: [1, 2, 3, 5], 4: [2, 5], 5: [1, 4], 6: [2, 3], 7: [4], 8: [5]}\n",
      "m8 M 7 tree 0 run 1\n",
      "m8 M 7 tree 0 run 2\n",
      "m8 M 7 tree 0 run 3\n"
     ]
    },
    {
     "name": "stderr",
     "output_type": "stream",
     "text": [
      "\r",
      " 20%|██        | 2/10 [00:00<00:01,  5.04it/s]"
     ]
    },
    {
     "name": "stdout",
     "output_type": "stream",
     "text": [
      "m8 M 7 tree 0 run 4\n",
      "m8 M 7 tree 0 run 5\n",
      "{0: [1, 2, 3, 4, 5], 1: [2], 2: [1, 2, 3, 4, 5], 3: [1], 4: [1, 2, 3, 4, 5], 5: [2, 3, 5], 6: [1, 3, 4, 5], 7: [4]}\n",
      "m8 M 35 tree 0 run 1\n",
      "m8 M 35 tree 0 run 2\n",
      "m8 M 35 tree 0 run 3\n",
      "m8 M 35 tree 0 run 4\n"
     ]
    },
    {
     "name": "stderr",
     "output_type": "stream",
     "text": [
      "\r",
      " 30%|███       | 3/10 [00:00<00:01,  5.16it/s]"
     ]
    },
    {
     "name": "stdout",
     "output_type": "stream",
     "text": [
      "m8 M 35 tree 0 run 5\n",
      "{0: [1, 2, 3, 5], 1: [4], 2: [3], 3: [4], 4: [5], 5: [1, 3, 5], 6: [1, 2, 3], 7: [2], 8: [4], 9: [1], 10: [2], 11: [4], 12: [5], 13: [1], 14: [2], 15: [3], 16: [4], 17: [5]}\n",
      "m8 M 243 tree 0 run 1\n",
      "m8 M 243 tree 0 run 2\n",
      "m8 M 243 tree 0 run 3\n",
      "m8 M 243 tree 0 run 4\n"
     ]
    },
    {
     "name": "stderr",
     "output_type": "stream",
     "text": [
      "\r",
      " 40%|████      | 4/10 [00:00<00:01,  5.05it/s]"
     ]
    },
    {
     "name": "stdout",
     "output_type": "stream",
     "text": [
      "m8 M 243 tree 0 run 5\n",
      "{0: [1, 3, 4, 5], 1: [2], 2: [1, 3], 3: [4], 4: [1, 2, 3, 4, 5], 5: [2, 3], 6: [5], 7: [1], 8: [2], 9: [5], 10: [3, 4], 11: [1], 12: [2, 4], 13: [5]}\n",
      "m8 M 216 tree 0 run 1\n",
      "m8 M 216 tree 0 run 2\n",
      "m8 M 216 tree 0 run 3\n",
      "m8 M 216 tree 0 run 4\n"
     ]
    },
    {
     "name": "stderr",
     "output_type": "stream",
     "text": [
      " 60%|██████    | 6/10 [00:01<00:00,  5.49it/s]"
     ]
    },
    {
     "name": "stdout",
     "output_type": "stream",
     "text": [
      "m8 M 216 tree 0 run 5\n",
      "{0: [2, 5], 1: [3], 2: [4], 3: [1, 2, 3, 5], 4: [4], 5: [2, 3], 6: [1, 2], 7: [1, 5], 8: [4], 9: [1], 10: [3], 11: [4], 12: [1, 2, 3, 5], 13: [4], 14: [5]}\n",
      "m8 M 239 tree 0 run 1\n",
      "m8 M 239 tree 0 run 2\n",
      "m8 M 239 tree 0 run 3\n",
      "m8 M 239 tree 0 run 4\n",
      "m8 M 239 tree 0 run 5\n",
      "{0: [1, 3], 1: [1, 2, 3, 4, 5], 2: [3], 3: [1, 2, 4, 5], 4: [2], 5: [5], 6: [1, 4], 7: [3], 8: [1, 4], 9: [3], 10: [4]}\n",
      "m8 M 19 tree 0 run 1\n"
     ]
    },
    {
     "name": "stderr",
     "output_type": "stream",
     "text": [
      "\r",
      " 70%|███████   | 7/10 [00:01<00:00,  5.17it/s]"
     ]
    },
    {
     "name": "stdout",
     "output_type": "stream",
     "text": [
      "m8 M 19 tree 0 run 2\n",
      "m8 M 19 tree 0 run 3\n",
      "m8 M 19 tree 0 run 4\n",
      "m8 M 19 tree 0 run 5\n",
      "{0: [1, 2, 3, 4], 1: [1, 2, 3, 4, 5], 2: [5], 3: [3, 4], 4: [2, 3, 5], 5: [1, 3, 4, 5], 6: [2], 7: [1, 5], 8: [1], 9: [2], 10: [4]}\n",
      "m8 M 76 tree 0 run 1\n",
      "m8 M 76 tree 0 run 2\n"
     ]
    },
    {
     "name": "stderr",
     "output_type": "stream",
     "text": [
      "\r",
      " 80%|████████  | 8/10 [00:01<00:00,  5.45it/s]"
     ]
    },
    {
     "name": "stdout",
     "output_type": "stream",
     "text": [
      "m8 M 76 tree 0 run 3\n",
      "m8 M 76 tree 0 run 4\n",
      "m8 M 76 tree 0 run 5\n",
      "{0: [1, 2, 3, 4, 5], 1: [1, 2, 3, 4, 5], 2: [1, 2, 3, 4], 3: [1, 2, 3], 4: [1, 5], 5: [4], 6: [2, 3, 4, 5], 7: [5]}\n",
      "m8 M 172 tree 0 run 1\n",
      "m8 M 172 tree 0 run 2\n"
     ]
    },
    {
     "name": "stderr",
     "output_type": "stream",
     "text": [
      "\r",
      " 90%|█████████ | 9/10 [00:01<00:00,  5.04it/s]"
     ]
    },
    {
     "name": "stdout",
     "output_type": "stream",
     "text": [
      "m8 M 172 tree 0 run 3\n",
      "m8 M 172 tree 0 run 4\n",
      "m8 M 172 tree 0 run 5\n",
      "{0: [1, 3, 4], 1: [5], 2: [2, 5], 3: [1], 4: [1, 3, 4], 5: [2, 3, 4], 6: [4], 7: [5], 8: [2, 3], 9: [1], 10: [2], 11: [5], 12: [1], 13: [2], 14: [3], 15: [4], 16: [5]}\n",
      "m8 M 241 tree 0 run 1\n",
      "m8 M 241 tree 0 run 2\n",
      "m8 M 241 tree 0 run 3\n",
      "m8 M 241 tree 0 run 4\n"
     ]
    },
    {
     "name": "stderr",
     "output_type": "stream",
     "text": [
      "100%|██████████| 10/10 [00:01<00:00,  5.19it/s]\n",
      "  0%|          | 0/10 [00:00<?, ?it/s]"
     ]
    },
    {
     "name": "stdout",
     "output_type": "stream",
     "text": [
      "m8 M 241 tree 0 run 5\n",
      "{0: [1, 2, 3, 4, 5], 1: [2, 4], 2: [5], 3: [1, 2], 4: [1, 2, 3, 4, 5], 5: [1, 3, 4, 5], 6: [2], 7: [1, 3, 4], 8: [3], 9: [5]}\n",
      "m8 mS 0 tree 0 run 1\n",
      "m8 mS 0 tree 0 run 2\n",
      "m8 mS 0 tree 0 run 3\n",
      "m8 mS 0 tree 0 run 4\n"
     ]
    },
    {
     "name": "stderr",
     "output_type": "stream",
     "text": [
      " 20%|██        | 2/10 [00:00<00:01,  4.96it/s]"
     ]
    },
    {
     "name": "stdout",
     "output_type": "stream",
     "text": [
      "m8 mS 0 tree 0 run 5\n",
      "{0: [1, 2, 3, 4, 5], 1: [1, 2, 3, 4, 5], 2: [2, 5], 3: [4, 5], 4: [1, 2, 3, 4, 5], 5: [1, 2, 3, 4], 6: [1, 3]}\n",
      "m8 mS 7 tree 0 run 1\n",
      "m8 mS 7 tree 0 run 2\n",
      "m8 mS 7 tree 0 run 3\n",
      "m8 mS 7 tree 0 run 4\n",
      "m8 mS 7 tree 0 run 5\n",
      "{0: [1, 2, 3, 4, 5], 1: [1, 2, 3, 4, 5], 2: [1, 2, 3, 4, 5], 3: [1, 2, 3, 4, 5], 4: [1, 4, 5], 5: [2, 3]}\n",
      "m8 mS 4 tree 0 run 1\n",
      "m8 mS 4 tree 0 run 2\n",
      "m8 mS 4 tree 0 run 3\n",
      "m8 mS 4 tree 0 run 4\n",
      "m8 mS 4 tree 0 run 5\n",
      "{0: [1, 3, 4, 5], 1: [1, 2, 3], 2: [1, 2, 3, 5], 3: [2, 4, 5], 4: [1, 4], 5: [2], 6: [1, 5]}\n",
      "m8 mS 9 tree 0 run 1\n",
      "m8 mS 9 tree 0 run 2\n",
      "m8 mS 9 tree 0 run 3\n"
     ]
    },
    {
     "name": "stderr",
     "output_type": "stream",
     "text": [
      "\r",
      " 40%|████      | 4/10 [00:00<00:01,  5.31it/s]"
     ]
    },
    {
     "name": "stdout",
     "output_type": "stream",
     "text": [
      "m8 mS 9 tree 0 run 4\n",
      "m8 mS 9 tree 0 run 5\n",
      "{0: [1, 2, 3, 4, 5], 1: [1, 2, 3, 5], 2: [1, 2, 3, 4, 5], 3: [1, 2, 3, 4, 5], 4: [4], 5: [1, 3], 6: [2, 4], 7: [5]}\n",
      "m8 mS 8 tree 0 run 1\n",
      "m8 mS 8 tree 0 run 2\n",
      "m8 mS 8 tree 0 run 3\n",
      "m8 mS 8 tree 0 run 4\n"
     ]
    },
    {
     "name": "stderr",
     "output_type": "stream",
     "text": [
      " 60%|██████    | 6/10 [00:01<00:00,  5.74it/s]"
     ]
    },
    {
     "name": "stdout",
     "output_type": "stream",
     "text": [
      "m8 mS 8 tree 0 run 5\n",
      "{0: [1, 2, 3, 4, 5], 1: [1, 2, 3, 4, 5], 2: [1, 2, 3, 4, 5], 3: [1, 2, 3, 4, 5], 4: [1], 5: [2, 3, 5], 6: [4]}\n",
      "m8 mS 3 tree 0 run 1\n",
      "m8 mS 3 tree 0 run 2\n",
      "m8 mS 3 tree 0 run 3\n",
      "m8 mS 3 tree 0 run 4\n",
      "m8 mS 3 tree 0 run 5\n",
      "{0: [1, 2, 3, 4, 5], 1: [1, 2, 3, 4, 5], 2: [1, 2, 3, 4, 5], 3: [1, 2, 3, 4, 5], 4: [1], 5: [2, 3, 4, 5]}\n",
      "m8 mS 12 tree 0 run 1\n",
      "m8 mS 12 tree 0 run 2\n"
     ]
    },
    {
     "name": "stderr",
     "output_type": "stream",
     "text": [
      "\r",
      " 70%|███████   | 7/10 [00:01<00:00,  3.60it/s]"
     ]
    },
    {
     "name": "stdout",
     "output_type": "stream",
     "text": [
      "m8 mS 12 tree 0 run 3\n",
      "m8 mS 12 tree 0 run 4\n",
      "m8 mS 12 tree 0 run 5\n",
      "{0: [1, 2, 3, 4, 5], 1: [1, 4, 5], 2: [1, 2, 3, 4, 5], 3: [1, 2, 3], 4: [2, 3, 4], 5: [5], 6: [1, 2, 3, 4, 5]}\n",
      "m8 mS 10 tree 0 run 1\n"
     ]
    },
    {
     "name": "stderr",
     "output_type": "stream",
     "text": [
      "\r",
      " 80%|████████  | 8/10 [00:01<00:00,  4.08it/s]"
     ]
    },
    {
     "name": "stdout",
     "output_type": "stream",
     "text": [
      "m8 mS 10 tree 0 run 2\n",
      "m8 mS 10 tree 0 run 3\n",
      "m8 mS 10 tree 0 run 4\n",
      "m8 mS 10 tree 0 run 5\n",
      "{0: [1, 2, 3, 4, 5], 1: [2, 4], 2: [1, 4], 3: [1, 2, 3, 5], 4: [1, 2, 3, 4, 5], 5: [2, 3, 5], 6: [1, 4, 5], 7: [3]}\n",
      "m8 mS 2 tree 0 run 1\n",
      "m8 mS 2 tree 0 run 2\n"
     ]
    },
    {
     "name": "stderr",
     "output_type": "stream",
     "text": [
      "\r",
      " 90%|█████████ | 9/10 [00:01<00:00,  4.31it/s]"
     ]
    },
    {
     "name": "stdout",
     "output_type": "stream",
     "text": [
      "m8 mS 2 tree 0 run 3\n",
      "m8 mS 2 tree 0 run 4\n",
      "m8 mS 2 tree 0 run 5\n",
      "{0: [1, 2, 3, 4, 5], 1: [1, 2, 3, 4, 5], 2: [1, 2, 3, 4, 5], 3: [1, 2, 3, 4, 5], 4: [1, 2, 3, 4, 5]}\n",
      "m8 mS 5 tree 0 run 1\n",
      "m8 mS 5 tree 0 run 2\n",
      "m8 mS 5 tree 0 run 3\n"
     ]
    },
    {
     "name": "stderr",
     "output_type": "stream",
     "text": [
      "100%|██████████| 10/10 [00:02<00:00,  4.81it/s]\n",
      "  0%|          | 0/10 [00:00<?, ?it/s]"
     ]
    },
    {
     "name": "stdout",
     "output_type": "stream",
     "text": [
      "m8 mS 5 tree 0 run 4\n",
      "m8 mS 5 tree 0 run 5\n",
      "{0: [1, 2, 3, 4, 5], 1: [1, 2], 2: [1, 2, 3, 4, 5], 3: [1, 2, 3, 4, 5], 4: [1, 2, 3, 4, 5], 5: [3, 4, 5]}\n",
      "m8 R 10157 tree 0 run 1\n",
      "m8 R 10157 tree 0 run 2\n",
      "m8 R 10157 tree 0 run 3\n",
      "m8 R 10157 tree 0 run 4\n"
     ]
    },
    {
     "name": "stderr",
     "output_type": "stream",
     "text": [
      "\r",
      " 10%|█         | 1/10 [00:00<00:01,  5.27it/s]"
     ]
    },
    {
     "name": "stdout",
     "output_type": "stream",
     "text": [
      "m8 R 10157 tree 0 run 5\n",
      "{0: [1, 2, 3, 4, 5], 1: [3, 5], 2: [2, 3, 5], 3: [2, 3, 4, 5], 4: [1, 2, 3, 4, 5], 5: [1, 2], 6: [1], 7: [4], 8: [1], 9: [4]}\n",
      "m8 R 1070 tree 0 run 1\n",
      "m8 R 1070 tree 0 run 2\n",
      "m8 R 1070 tree 0 run 3\n",
      "m8 R 1070 tree 0 run 4\n"
     ]
    },
    {
     "name": "stderr",
     "output_type": "stream",
     "text": [
      " 30%|███       | 3/10 [00:00<00:01,  5.55it/s]"
     ]
    },
    {
     "name": "stdout",
     "output_type": "stream",
     "text": [
      "m8 R 1070 tree 0 run 5\n",
      "{0: [1, 2, 3, 4, 5], 1: [1, 2, 3, 4, 5], 2: [1, 2, 3, 4, 5], 3: [1, 2, 3, 4, 5], 4: [1], 5: [2, 3], 6: [4, 5]}\n",
      "m8 R 9 tree 0 run 1\n",
      "m8 R 9 tree 0 run 2\n",
      "m8 R 9 tree 0 run 3\n",
      "m8 R 9 tree 0 run 4\n",
      "m8 R 9 tree 0 run 5\n",
      "{0: [1, 2, 3, 4, 5], 1: [1, 2, 3, 4, 5], 2: [1, 2, 3, 4, 5], 3: [1, 4], 4: [1, 2, 3, 5], 5: [2, 4], 6: [3, 5]}\n",
      "m8 R 905 tree 0 run 1\n"
     ]
    },
    {
     "name": "stderr",
     "output_type": "stream",
     "text": [
      "\r",
      " 40%|████      | 4/10 [00:00<00:01,  5.83it/s]"
     ]
    },
    {
     "name": "stdout",
     "output_type": "stream",
     "text": [
      "m8 R 905 tree 0 run 2\n",
      "m8 R 905 tree 0 run 3\n",
      "m8 R 905 tree 0 run 4\n",
      "m8 R 905 tree 0 run 5\n",
      "{0: [1, 2, 3, 4, 5], 1: [1, 2, 3, 4, 5], 2: [1, 2, 4], 3: [1, 2, 3, 4, 5], 4: [3, 4], 5: [1, 2, 3, 5], 6: [5]}\n",
      "m8 R 10046 tree 0 run 1\n",
      "m8 R 10046 tree 0 run 2\n"
     ]
    },
    {
     "name": "stderr",
     "output_type": "stream",
     "text": [
      "\r",
      " 50%|█████     | 5/10 [00:00<00:00,  5.50it/s]"
     ]
    },
    {
     "name": "stdout",
     "output_type": "stream",
     "text": [
      "m8 R 10046 tree 0 run 3\n",
      "m8 R 10046 tree 0 run 4\n",
      "m8 R 10046 tree 0 run 5\n",
      "{0: [1, 2, 3, 4, 5], 1: [1, 2, 3, 4, 5], 2: [1, 2, 3, 4, 5], 3: [1, 2, 3, 4, 5], 4: [1, 2, 3, 4, 5]}\n",
      "m8 R 394 tree 0 run 1\n",
      "m8 R 394 tree 0 run 2\n"
     ]
    },
    {
     "name": "stderr",
     "output_type": "stream",
     "text": [
      "\r",
      " 60%|██████    | 6/10 [00:01<00:00,  5.28it/s]"
     ]
    },
    {
     "name": "stdout",
     "output_type": "stream",
     "text": [
      "m8 R 394 tree 0 run 3\n",
      "m8 R 394 tree 0 run 4\n",
      "m8 R 394 tree 0 run 5\n",
      "{0: [2, 3, 5], 1: [1, 2, 3, 4], 2: [1, 2, 3, 4, 5], 3: [2], 4: [1, 2, 3, 4, 5], 5: [1], 6: [5], 7: [3, 4], 8: [1, 5], 9: [4]}\n",
      "m8 R 981 tree 0 run 1\n",
      "m8 R 981 tree 0 run 2\n",
      "m8 R 981 tree 0 run 3\n"
     ]
    },
    {
     "name": "stderr",
     "output_type": "stream",
     "text": [
      "\r",
      " 70%|███████   | 7/10 [00:01<00:00,  5.33it/s]"
     ]
    },
    {
     "name": "stdout",
     "output_type": "stream",
     "text": [
      "m8 R 981 tree 0 run 4\n",
      "m8 R 981 tree 0 run 5\n",
      "{0: [4], 1: [1, 2, 3, 4, 5], 2: [2, 4, 5], 3: [1, 2, 3, 4, 5], 4: [1, 2, 3, 4, 5], 5: [1, 3], 6: [2, 3, 5], 7: [1]}\n",
      "m8 R 383 tree 0 run 1\n",
      "m8 R 383 tree 0 run 2\n",
      "m8 R 383 tree 0 run 3\n",
      "m8 R 383 tree 0 run 4\n"
     ]
    },
    {
     "name": "stderr",
     "output_type": "stream",
     "text": [
      "\r",
      " 80%|████████  | 8/10 [00:01<00:00,  5.37it/s]"
     ]
    },
    {
     "name": "stdout",
     "output_type": "stream",
     "text": [
      "m8 R 383 tree 0 run 5\n",
      "{0: [1, 2, 3, 4, 5], 1: [3], 2: [1, 2, 3, 4, 5], 3: [2], 4: [1, 2, 3, 5], 5: [1, 3, 4, 5], 6: [2], 7: [4], 8: [1], 9: [4], 10: [5]}\n",
      "m8 R 30342 tree 0 run 1\n",
      "m8 R 30342 tree 0 run 2\n",
      "m8 R 30342 tree 0 run 3\n",
      "m8 R 30342 tree 0 run 4\n",
      "m8 R 30342 tree 0 run 5\n"
     ]
    },
    {
     "name": "stderr",
     "output_type": "stream",
     "text": [
      "\r",
      " 90%|█████████ | 9/10 [00:01<00:00,  5.31it/s]"
     ]
    },
    {
     "name": "stdout",
     "output_type": "stream",
     "text": [
      "{0: [1, 2, 3, 4, 5], 1: [1, 2, 3, 4, 5], 2: [1, 2, 3, 4, 5], 3: [1, 2, 3, 5], 4: [1, 4, 5], 5: [2, 3, 4]}\n",
      "m8 R 157 tree 0 run 1\n",
      "m8 R 157 tree 0 run 2\n",
      "m8 R 157 tree 0 run 3\n",
      "m8 R 157 tree 0 run 4\n",
      "m8 R 157 tree 0 run 5\n"
     ]
    },
    {
     "name": "stderr",
     "output_type": "stream",
     "text": [
      "100%|██████████| 10/10 [00:01<00:00,  5.32it/s]\n",
      "  0%|          | 0/10 [00:00<?, ?it/s]"
     ]
    },
    {
     "name": "stdout",
     "output_type": "stream",
     "text": [
      "{0: [1, 2, 3, 4, 5], 1: [1, 2, 3, 4, 5], 2: [1], 3: [4, 5], 4: [1, 2, 3, 4, 5], 5: [2, 4], 6: [1, 3, 5], 7: [2], 8: [3]}\n",
      "m8 S 0 tree 0 run 1\n",
      "m8 S 0 tree 0 run 2\n",
      "m8 S 0 tree 0 run 3\n",
      "m8 S 0 tree 0 run 4\n",
      "m8 S 0 tree 0 run 5\n"
     ]
    },
    {
     "name": "stderr",
     "output_type": "stream",
     "text": [
      " 20%|██        | 2/10 [00:00<00:02,  2.76it/s]"
     ]
    },
    {
     "name": "stdout",
     "output_type": "stream",
     "text": [
      "{0: [1, 2, 3, 4, 5], 1: [1, 2, 3, 4], 2: [1, 2, 3, 4, 5], 3: [1, 2, 3, 4, 5], 4: [1, 2, 4, 5], 5: [3], 6: [5]}\n",
      "m8 S 35 tree 0 run 1\n",
      "m8 S 35 tree 0 run 2\n",
      "m8 S 35 tree 0 run 3\n",
      "m8 S 35 tree 0 run 4\n",
      "m8 S 35 tree 0 run 5\n",
      "{0: [1, 2, 3, 4, 5], 1: [1, 2, 3, 4, 5], 2: [1, 2, 3, 4, 5], 3: [1, 2, 3, 4, 5], 4: [1, 2, 3, 4, 5]}\n",
      "m8 S 37 tree 0 run 1\n",
      "m8 S 37 tree 0 run 2\n"
     ]
    },
    {
     "name": "stderr",
     "output_type": "stream",
     "text": [
      "\r",
      " 30%|███       | 3/10 [00:00<00:02,  3.48it/s]"
     ]
    },
    {
     "name": "stdout",
     "output_type": "stream",
     "text": [
      "m8 S 37 tree 0 run 3\n",
      "m8 S 37 tree 0 run 4\n",
      "m8 S 37 tree 0 run 5\n",
      "{0: [1, 2, 3, 4, 5], 1: [1, 2, 3, 4, 5], 2: [1, 2, 3, 4, 5], 3: [1, 2, 3, 4, 5], 4: [1, 2, 3, 4, 5]}\n",
      "m8 S 31 tree 0 run 1\n",
      "m8 S 31 tree 0 run 2\n",
      "m8 S 31 tree 0 run 3\n"
     ]
    },
    {
     "name": "stderr",
     "output_type": "stream",
     "text": [
      "\r",
      " 40%|████      | 4/10 [00:00<00:01,  3.72it/s]"
     ]
    },
    {
     "name": "stdout",
     "output_type": "stream",
     "text": [
      "m8 S 31 tree 0 run 4\n",
      "m8 S 31 tree 0 run 5\n",
      "{0: [1, 2, 3, 4, 5], 1: [1, 2, 3, 4, 5], 2: [1, 2], 3: [4], 4: [2, 3, 5], 5: [1, 2, 4], 6: [3, 4, 5], 7: [1], 8: [3], 9: [5]}\n",
      "m8 S 69 tree 0 run 1\n",
      "m8 S 69 tree 0 run 2\n",
      "m8 S 69 tree 0 run 3\n",
      "m8 S 69 tree 0 run 4\n"
     ]
    },
    {
     "name": "stderr",
     "output_type": "stream",
     "text": [
      "\r",
      " 50%|█████     | 5/10 [00:01<00:01,  4.07it/s]"
     ]
    },
    {
     "name": "stdout",
     "output_type": "stream",
     "text": [
      "m8 S 69 tree 0 run 5\n",
      "{0: [1, 2, 3, 4, 5], 1: [1, 2, 3, 4, 5], 2: [1, 4, 5], 3: [1, 2, 3], 4: [2], 5: [1, 3, 4, 5], 6: [2], 7: [3, 4, 5]}\n",
      "m8 S 54 tree 0 run 1\n",
      "m8 S 54 tree 0 run 2\n",
      "m8 S 54 tree 0 run 3\n",
      "m8 S 54 tree 0 run 4\n",
      "m8 S 54 tree 0 run 5\n",
      "{0: [1, 2, 3, 4, 5], 1: [3], 2: [1, 2, 3, 4, 5], 3: [3]}\n",
      "m8 S 12 tree 0 run 1\n",
      "m8 S 12 tree 0 run 2\n",
      "m8 S 12 tree 0 run 3\n"
     ]
    },
    {
     "name": "stderr",
     "output_type": "stream",
     "text": [
      "\r",
      " 70%|███████   | 7/10 [00:01<00:00,  4.69it/s]"
     ]
    },
    {
     "name": "stdout",
     "output_type": "stream",
     "text": [
      "m8 S 12 tree 0 run 4\n",
      "m8 S 12 tree 0 run 5\n",
      "{0: [1, 2, 3, 4, 5], 1: [1, 2, 3, 4, 5], 2: [1, 2, 3, 5], 3: [1, 2, 3, 4, 5], 4: [1, 3, 4, 5], 5: [2], 6: [4]}\n",
      "m8 S 23 tree 0 run 1\n",
      "m8 S 23 tree 0 run 2\n"
     ]
    },
    {
     "name": "stderr",
     "output_type": "stream",
     "text": [
      "\r",
      " 80%|████████  | 8/10 [00:01<00:00,  4.46it/s]"
     ]
    },
    {
     "name": "stdout",
     "output_type": "stream",
     "text": [
      "m8 S 23 tree 0 run 3\n",
      "m8 S 23 tree 0 run 4\n",
      "m8 S 23 tree 0 run 5\n",
      "{0: [1, 2, 3, 4, 5], 1: [1, 3, 5], 2: [1, 3, 4, 5], 3: [3], 4: [1, 2, 3, 4, 5], 5: [2], 6: [1, 2, 4, 5], 7: [2], 8: [4]}\n",
      "m8 S 2 tree 0 run 1\n"
     ]
    },
    {
     "name": "stderr",
     "output_type": "stream",
     "text": [
      "\r",
      " 90%|█████████ | 9/10 [00:01<00:00,  4.40it/s]"
     ]
    },
    {
     "name": "stdout",
     "output_type": "stream",
     "text": [
      "m8 S 2 tree 0 run 2\n",
      "m8 S 2 tree 0 run 3\n",
      "m8 S 2 tree 0 run 4\n",
      "m8 S 2 tree 0 run 5\n",
      "{0: [1, 2, 3, 4, 5], 1: [1, 2, 4], 2: [1, 3, 4, 5], 3: [2, 3, 4], 4: [1, 2, 3, 5], 5: [3, 5], 6: [1], 7: [2, 5], 8: [4]}\n",
      "m8 S 5 tree 0 run 1\n",
      "m8 S 5 tree 0 run 2\n"
     ]
    },
    {
     "name": "stderr",
     "output_type": "stream",
     "text": [
      "100%|██████████| 10/10 [00:02<00:00,  4.79it/s]\n",
      "  0%|          | 0/10 [00:00<?, ?it/s]"
     ]
    },
    {
     "name": "stdout",
     "output_type": "stream",
     "text": [
      "m8 S 5 tree 0 run 3\n",
      "m8 S 5 tree 0 run 4\n",
      "m8 S 5 tree 0 run 5\n",
      "{0: [1, 2, 3, 4, 5], 1: [1, 2, 3, 4, 5], 2: [1, 2, 3, 4, 5], 3: [1, 2, 3, 4, 5], 4: [1, 2, 4, 5], 5: [3]}\n",
      "m5 M 209 tree 0 run 1\n",
      "m5 M 209 tree 0 run 2\n"
     ]
    },
    {
     "name": "stderr",
     "output_type": "stream",
     "text": [
      "\r",
      " 10%|█         | 1/10 [00:00<00:01,  5.30it/s]"
     ]
    },
    {
     "name": "stdout",
     "output_type": "stream",
     "text": [
      "m5 M 209 tree 0 run 3\n",
      "m5 M 209 tree 0 run 4\n",
      "m5 M 209 tree 0 run 5\n",
      "{0: [1, 2, 3, 4, 5], 1: [1, 2, 3, 4, 5], 2: [1, 2, 3, 4, 5], 3: [1, 5], 4: [1, 2, 3, 4, 5], 5: [2, 3, 4]}\n",
      "m5 M 534 tree 0 run 1\n",
      "m5 M 534 tree 0 run 2\n",
      "m5 M 534 tree 0 run 3\n"
     ]
    },
    {
     "name": "stderr",
     "output_type": "stream",
     "text": [
      " 40%|████      | 4/10 [00:00<00:00,  6.09it/s]"
     ]
    },
    {
     "name": "stdout",
     "output_type": "stream",
     "text": [
      "m5 M 534 tree 0 run 4\n",
      "m5 M 534 tree 0 run 5\n",
      "{0: [1, 2, 3, 4, 5], 1: [1, 2], 2: [1, 2, 3, 4, 5], 3: [1, 2, 3, 4, 5], 4: [2, 3, 4, 5], 5: [1, 3], 6: [4], 7: [5]}\n",
      "m5 M 694 tree 0 run 1\n",
      "m5 M 694 tree 0 run 2\n",
      "m5 M 694 tree 0 run 3\n",
      "m5 M 694 tree 0 run 4\n",
      "m5 M 694 tree 0 run 5\n",
      "{0: [1, 2, 3, 4, 5], 1: [2, 3, 4], 2: [1, 2, 3, 4, 5], 3: [1, 2, 3, 4, 5], 4: [1, 2, 3, 4, 5]}\n",
      "m5 M 512 tree 0 run 1\n",
      "m5 M 512 tree 0 run 2\n",
      "m5 M 512 tree 0 run 3\n",
      "m5 M 512 tree 0 run 4\n",
      "m5 M 512 tree 0 run 5\n",
      "{0: [1], 1: [3], 2: [1, 4, 5], 3: [2, 5], 4: [3], 5: [2, 4, 5], 6: [1], 7: [3], 8: [2, 4, 5], 9: [1], 10: [3], 11: [2, 4, 5], 12: [1], 13: [3]}\n"
     ]
    },
    {
     "name": "stderr",
     "output_type": "stream",
     "text": [
      "\r",
      " 50%|█████     | 5/10 [00:00<00:00,  5.98it/s]"
     ]
    },
    {
     "name": "stdout",
     "output_type": "stream",
     "text": [
      "m5 M 545 tree 0 run 1\n",
      "m5 M 545 tree 0 run 2\n",
      "m5 M 545 tree 0 run 3\n",
      "m5 M 545 tree 0 run 4\n",
      "m5 M 545 tree 0 run 5\n",
      "{0: [1, 2, 3, 4, 5], 1: [1, 2, 3, 4, 5], 2: [1, 2, 3, 4, 5], 3: [3, 5], 4: [1, 2, 3, 4, 5], 5: [1, 2, 4]}\n",
      "m5 M 865 tree 0 run 1\n"
     ]
    },
    {
     "name": "stderr",
     "output_type": "stream",
     "text": [
      "\r",
      " 60%|██████    | 6/10 [00:00<00:00,  5.85it/s]"
     ]
    },
    {
     "name": "stdout",
     "output_type": "stream",
     "text": [
      "m5 M 865 tree 0 run 2\n",
      "m5 M 865 tree 0 run 3\n",
      "m5 M 865 tree 0 run 4\n",
      "m5 M 865 tree 0 run 5\n",
      "{0: [1, 2, 3, 4, 5], 1: [1, 2, 3, 4, 5], 2: [1, 2, 3, 5], 3: [1, 2, 3, 4, 5], 4: [1, 2, 3, 4, 5], 5: [4]}\n",
      "m5 M 907 tree 0 run 1\n",
      "m5 M 907 tree 0 run 2\n",
      "m5 M 907 tree 0 run 3\n"
     ]
    },
    {
     "name": "stderr",
     "output_type": "stream",
     "text": [
      " 80%|████████  | 8/10 [00:01<00:00,  6.34it/s]"
     ]
    },
    {
     "name": "stdout",
     "output_type": "stream",
     "text": [
      "m5 M 907 tree 0 run 4\n",
      "m5 M 907 tree 0 run 5\n",
      "{0: [1, 2, 3, 4, 5], 1: [1, 2, 3, 4, 5], 2: [2, 3, 4], 3: [1, 3], 4: [1, 2, 4, 5], 5: [1, 2, 3, 4, 5], 6: [5]}\n",
      "m5 M 76 tree 0 run 1\n",
      "m5 M 76 tree 0 run 2\n",
      "m5 M 76 tree 0 run 3\n",
      "m5 M 76 tree 0 run 4\n",
      "m5 M 76 tree 0 run 5\n",
      "{0: [1, 2, 3, 4, 5], 1: [1, 2, 3, 4, 5], 2: [1, 2, 3, 4, 5], 3: [1, 2, 3, 4, 5], 4: [1, 2, 3, 4, 5]}\n",
      "m5 M 565 tree 0 run 1\n",
      "m5 M 565 tree 0 run 2\n"
     ]
    },
    {
     "name": "stderr",
     "output_type": "stream",
     "text": [
      "100%|██████████| 10/10 [00:01<00:00,  7.08it/s]\n",
      "  0%|          | 0/10 [00:00<?, ?it/s]"
     ]
    },
    {
     "name": "stdout",
     "output_type": "stream",
     "text": [
      "m5 M 565 tree 0 run 3\n",
      "m5 M 565 tree 0 run 4\n",
      "m5 M 565 tree 0 run 5\n",
      "{0: [1, 2, 3, 4, 5], 1: [1, 2, 3, 4, 5], 2: [1, 2, 3, 4, 5], 3: [2, 3, 5], 4: [1, 2, 3, 4, 5], 5: [1], 6: [4]}\n",
      "m5 M 473 tree 0 run 1\n",
      "m5 M 473 tree 0 run 2\n",
      "m5 M 473 tree 0 run 3\n",
      "m5 M 473 tree 0 run 4\n",
      "m5 M 473 tree 0 run 5\n",
      "{0: [2, 3, 4, 5], 1: [1, 2, 5], 2: [1, 2, 3, 4, 5], 3: [1, 2, 3, 4], 4: [1, 5], 5: [4], 6: [2, 3], 7: [1], 8: [3], 9: [4], 10: [5]}\n",
      "m5 mS 0 tree 0 run 1\n",
      "m5 mS 0 tree 0 run 2\n"
     ]
    },
    {
     "name": "stderr",
     "output_type": "stream",
     "text": [
      "\r",
      " 20%|██        | 2/10 [00:00<00:00,  9.57it/s]"
     ]
    },
    {
     "name": "stdout",
     "output_type": "stream",
     "text": [
      "m5 mS 0 tree 0 run 3\n",
      "m5 mS 0 tree 0 run 4\n",
      "m5 mS 0 tree 0 run 5\n",
      "{0: [1, 2, 3, 4, 5], 1: [1, 2, 3, 4, 5], 2: [1, 2, 3, 4, 5], 3: [1, 2, 3, 4, 5]}\n",
      "m5 mS 7 tree 0 run 1\n",
      "m5 mS 7 tree 0 run 2\n",
      "m5 mS 7 tree 0 run 3\n",
      "m5 mS 7 tree 0 run 4\n",
      "m5 mS 7 tree 0 run 5\n",
      "{0: [1, 2, 3, 4, 5], 1: [1, 2, 3, 4, 5], 2: [1, 2, 3, 4, 5], 3: [1, 2, 3, 4, 5], 4: [1, 2, 3, 4, 5]}\n",
      "m5 mS 4 tree 0 run 1\n",
      "m5 mS 4 tree 0 run 2\n",
      "m5 mS 4 tree 0 run 3\n",
      "m5 mS 4 tree 0 run 4\n",
      "m5 mS 4 tree 0 run 5\n",
      "{0: [1, 2, 3, 4, 5]}\n",
      "m5 mS 9 tree 0 run 1\n",
      "m5 mS 9 tree 0 run 2\n",
      "m5 mS 9 tree 0 run 3\n",
      "m5 mS 9 tree 0 run 4\n",
      "m5 mS 9 tree 0 run 5\n",
      "{0: [1, 2, 3, 4, 5], 1: [1, 2, 3, 4, 5]}\n",
      "m5 mS 8 tree 0 run 1\n",
      "m5 mS 8 tree 0 run 2\n",
      "m5 mS 8 tree 0 run 3\n",
      "m5 mS 8 tree 0 run 4\n"
     ]
    },
    {
     "name": "stderr",
     "output_type": "stream",
     "text": [
      " 80%|████████  | 8/10 [00:00<00:00, 11.29it/s]"
     ]
    },
    {
     "name": "stdout",
     "output_type": "stream",
     "text": [
      "m5 mS 8 tree 0 run 5\n",
      "{0: [1, 2, 3, 4, 5], 1: [1, 2, 3, 4, 5], 2: [1, 2, 3, 4, 5], 3: [1, 2, 3, 4, 5], 4: [1, 2, 3, 4, 5]}\n",
      "m5 mS 3 tree 0 run 1\n",
      "m5 mS 3 tree 0 run 2\n",
      "m5 mS 3 tree 0 run 3\n",
      "m5 mS 3 tree 0 run 4\n",
      "m5 mS 3 tree 0 run 5\n",
      "{0: [1, 2, 3, 4, 5], 1: [1, 2, 3, 4, 5], 2: [1, 2, 3, 4, 5], 3: [1, 2, 3, 4, 5]}\n",
      "m5 mS 12 tree 0 run 1\n",
      "m5 mS 12 tree 0 run 2\n",
      "m5 mS 12 tree 0 run 3\n",
      "m5 mS 12 tree 0 run 4\n",
      "m5 mS 12 tree 0 run 5\n",
      "{0: [1, 2, 3, 4, 5]}\n",
      "m5 mS 10 tree 0 run 1\n",
      "m5 mS 10 tree 0 run 2\n",
      "m5 mS 10 tree 0 run 3\n",
      "m5 mS 10 tree 0 run 4\n",
      "m5 mS 10 tree 0 run 5\n",
      "{0: [1, 2, 3, 4, 5], 1: [1, 2, 3, 4, 5], 2: [1, 2, 3, 4, 5], 3: [1], 4: [1, 2, 3, 4, 5], 5: [2, 3, 5], 6: [4]}\n"
     ]
    },
    {
     "name": "stderr",
     "output_type": "stream",
     "text": [
      "100%|██████████| 10/10 [00:00<00:00, 14.10it/s]\n",
      " 10%|█         | 1/10 [00:00<00:01,  8.85it/s]"
     ]
    },
    {
     "name": "stdout",
     "output_type": "stream",
     "text": [
      "m5 mS 2 tree 0 run 1\n",
      "m5 mS 2 tree 0 run 2\n",
      "m5 mS 2 tree 0 run 3\n",
      "m5 mS 2 tree 0 run 4\n",
      "m5 mS 2 tree 0 run 5\n",
      "{0: [1, 2, 3, 4, 5], 1: [1, 2, 3, 4, 5], 2: [1, 2, 3, 4, 5], 3: [1, 2, 3, 4, 5], 4: [1], 5: [2, 3, 4, 5]}\n",
      "m5 mS 5 tree 0 run 1\n",
      "m5 mS 5 tree 0 run 2\n",
      "m5 mS 5 tree 0 run 3\n",
      "m5 mS 5 tree 0 run 4\n",
      "m5 mS 5 tree 0 run 5\n",
      "{0: [1, 2, 3, 4, 5], 1: [1, 2, 3, 4, 5]}\n",
      "m5 R 571 tree 0 run 1\n",
      "m5 R 571 tree 0 run 2\n",
      "m5 R 571 tree 0 run 3\n",
      "m5 R 571 tree 0 run 4\n",
      "m5 R 571 tree 0 run 5\n",
      "{0: [1, 2, 3, 4, 5], 1: [1, 2, 3, 4, 5], 2: [1, 2, 3, 4, 5], 3: [1, 2, 3, 4, 5], 4: [1, 2, 3, 4, 5]}\n",
      "m5 R 1140 tree 0 run 1\n",
      "m5 R 1140 tree 0 run 2\n",
      "m5 R 1140 tree 0 run 3\n"
     ]
    },
    {
     "name": "stderr",
     "output_type": "stream",
     "text": [
      " 50%|█████     | 5/10 [00:00<00:00, 11.71it/s]"
     ]
    },
    {
     "name": "stdout",
     "output_type": "stream",
     "text": [
      "m5 R 1140 tree 0 run 4\n",
      "m5 R 1140 tree 0 run 5\n",
      "{0: [1, 2, 3, 4, 5], 1: [1, 2, 3, 4, 5], 2: [1, 2, 3, 4, 5], 3: [1, 2, 3, 4, 5], 4: [1, 2, 3, 4, 5]}\n",
      "m5 R 538 tree 0 run 1\n",
      "m5 R 538 tree 0 run 2\n",
      "m5 R 538 tree 0 run 3\n",
      "m5 R 538 tree 0 run 4\n",
      "m5 R 538 tree 0 run 5\n",
      "{0: [1, 2, 3, 4, 5], 1: [1, 3, 4, 5], 2: [1, 2, 3, 5], 3: [1, 2, 3, 4, 5], 4: [1, 4], 5: [2, 3, 4, 5], 6: [2]}\n",
      "m5 R 981 tree 0 run 1\n",
      "m5 R 981 tree 0 run 2\n",
      "m5 R 981 tree 0 run 3\n",
      "m5 R 981 tree 0 run 4\n",
      "m5 R 981 tree 0 run 5\n",
      "{0: [1, 2, 3, 4, 5], 1: [1, 2, 3, 4, 5], 2: [1, 2, 3, 4, 5], 3: [1, 2, 3, 4, 5]}\n",
      "m5 R 2155 tree 0 run 1\n",
      "m5 R 2155 tree 0 run 2\n",
      "m5 R 2155 tree 0 run 3\n",
      "m5 R 2155 tree 0 run 4\n",
      "m5 R 2155 tree 0 run 5\n",
      "{0: [1, 3, 4, 5], 1: [2], 2: [1, 3, 4, 5], 3: [2], 4: [2], 5: [3], 6: [4], 7: [5], 8: [1, 5], 9: [2], 10: [3], 11: [1, 4, 5], 12: [1], 13: [2], 14: [3]}\n",
      "m5 R 950 tree 0 run 1\n",
      "m5 R 950 tree 0 run 2\n",
      "m5 R 950 tree 0 run 3\n",
      "m5 R 950 tree 0 run 4\n",
      "m5 R 950 tree 0 run 5\n",
      "{0: [1, 2, 3, 4, 5], 1: [1, 2, 3, 4, 5], 2: [1, 2, 3, 4, 5], 3: [1, 2, 3, 4, 5], 4: [1], 5: [2, 3, 4, 5]}\n",
      "m5 R 247 tree 0 run 1\n",
      "m5 R 247 tree 0 run 2\n"
     ]
    },
    {
     "name": "stderr",
     "output_type": "stream",
     "text": [
      "\r",
      " 70%|███████   | 7/10 [00:00<00:00,  8.78it/s]"
     ]
    },
    {
     "name": "stdout",
     "output_type": "stream",
     "text": [
      "m5 R 247 tree 0 run 3\n",
      "m5 R 247 tree 0 run 4\n",
      "m5 R 247 tree 0 run 5\n",
      "{0: [1, 2, 3, 4, 5], 1: [1, 2, 3, 4, 5], 2: [1, 2, 3, 4, 5], 3: [1, 2, 3, 4, 5], 4: [1, 2, 3, 4, 5]}\n",
      "m5 R 955 tree 0 run 1\n",
      "m5 R 955 tree 0 run 2\n",
      "m5 R 955 tree 0 run 3\n",
      "m5 R 955 tree 0 run 4\n"
     ]
    },
    {
     "name": "stderr",
     "output_type": "stream",
     "text": [
      " 90%|█████████ | 9/10 [00:00<00:00,  7.73it/s]"
     ]
    },
    {
     "name": "stdout",
     "output_type": "stream",
     "text": [
      "m5 R 955 tree 0 run 5\n",
      "{0: [1, 2, 3, 4, 5], 1: [1, 2, 3, 4, 5], 2: [1, 2, 3, 4, 5], 3: [1, 2, 3, 5], 4: [2, 4], 5: [1], 6: [3, 4, 5]}\n",
      "m5 R 518 tree 0 run 1\n",
      "m5 R 518 tree 0 run 2\n",
      "m5 R 518 tree 0 run 3\n",
      "m5 R 518 tree 0 run 4\n",
      "m5 R 518 tree 0 run 5\n",
      "{0: [1, 2, 3, 4, 5], 1: [2, 4, 5], 2: [1, 2, 3, 4, 5], 3: [1, 2, 3, 4, 5], 4: [1, 2, 3, 4, 5], 5: [1, 3]}\n",
      "m5 R 17 tree 0 run 1\n",
      "m5 R 17 tree 0 run 2\n",
      "m5 R 17 tree 0 run 3\n",
      "m5 R 17 tree 0 run 4\n"
     ]
    },
    {
     "name": "stderr",
     "output_type": "stream",
     "text": [
      "100%|██████████| 10/10 [00:01<00:00,  7.81it/s]\n",
      "  0%|          | 0/10 [00:00<?, ?it/s]"
     ]
    },
    {
     "name": "stdout",
     "output_type": "stream",
     "text": [
      "m5 R 17 tree 0 run 5\n",
      "{0: [1, 2, 3, 4, 5], 1: [1, 3, 4], 2: [1, 2, 3, 4, 5], 3: [1, 2, 4, 5], 4: [2, 4], 5: [3, 5], 6: [1, 2, 5], 7: [3]}\n",
      "m5 S 49 tree 0 run 1\n",
      "m5 S 49 tree 0 run 2\n",
      "m5 S 49 tree 0 run 3\n",
      "m5 S 49 tree 0 run 4\n",
      "m5 S 49 tree 0 run 5\n",
      "{0: [1, 2, 3, 4, 5], 1: [1, 2, 3, 4, 5], 2: [1, 2, 3, 4, 5], 3: [1, 2, 3, 4, 5], 4: [1, 3, 4, 5], 5: [2]}\n",
      "m5 S 35 tree 0 run 1\n",
      "m5 S 35 tree 0 run 2\n",
      "m5 S 35 tree 0 run 3\n",
      "m5 S 35 tree 0 run 4\n",
      "m5 S 35 tree 0 run 5\n",
      "{0: [1, 2, 3, 4, 5], 1: [1, 2, 3, 4, 5], 2: [1, 2, 3, 4, 5], 3: [1, 2, 3, 4, 5]}\n",
      "m5 S 25 tree 0 run 1\n",
      "m5 S 25 tree 0 run 2\n"
     ]
    },
    {
     "name": "stderr",
     "output_type": "stream",
     "text": [
      "\r",
      " 30%|███       | 3/10 [00:00<00:00, 11.18it/s]"
     ]
    },
    {
     "name": "stdout",
     "output_type": "stream",
     "text": [
      "m5 S 25 tree 0 run 3\n",
      "m5 S 25 tree 0 run 4\n",
      "m5 S 25 tree 0 run 5\n",
      "{0: [1, 2, 3, 4, 5], 1: [1, 2, 3, 4, 5], 2: [1, 2, 3, 4, 5], 3: [1, 2, 3, 4, 5], 4: [1, 2, 3, 4, 5]}\n",
      "m5 S 31 tree 0 run 1\n",
      "m5 S 31 tree 0 run 2\n",
      "m5 S 31 tree 0 run 3\n"
     ]
    },
    {
     "name": "stderr",
     "output_type": "stream",
     "text": [
      "\r",
      " 40%|████      | 4/10 [00:00<00:00,  7.65it/s]"
     ]
    },
    {
     "name": "stdout",
     "output_type": "stream",
     "text": [
      "m5 S 31 tree 0 run 4\n",
      "m5 S 31 tree 0 run 5\n",
      "{0: [1, 2, 3, 4, 5], 1: [1, 2, 3, 4, 5], 2: [1, 2, 3, 4, 5], 3: [2, 3, 4, 5], 4: [1, 4], 5: [1, 2, 5], 6: [3]}\n",
      "m5 S 81 tree 0 run 1\n",
      "m5 S 81 tree 0 run 2\n",
      "m5 S 81 tree 0 run 3\n"
     ]
    },
    {
     "name": "stderr",
     "output_type": "stream",
     "text": [
      "\r",
      " 50%|█████     | 5/10 [00:00<00:00,  6.59it/s]"
     ]
    },
    {
     "name": "stdout",
     "output_type": "stream",
     "text": [
      "m5 S 81 tree 0 run 4\n",
      "m5 S 81 tree 0 run 5\n",
      "{0: [1, 2, 3, 4, 5], 1: [1, 2, 3, 4, 5], 2: [1, 2, 3, 4, 5], 3: [1, 2, 3, 4, 5], 4: [1, 2, 3, 4, 5]}\n",
      "m5 S 40 tree 0 run 1\n",
      "m5 S 40 tree 0 run 2\n",
      "m5 S 40 tree 0 run 3\n",
      "m5 S 40 tree 0 run 4\n",
      "m5 S 40 tree 0 run 5\n",
      "{0: [1, 2, 3, 4, 5], 1: [1], 2: [2, 5], 3: [3, 4], 4: [2, 5], 5: [2], 6: [5], 7: [2], 8: [5]}\n",
      "m5 S 32 tree 0 run 1\n",
      "m5 S 32 tree 0 run 2\n",
      "m5 S 32 tree 0 run 3\n",
      "m5 S 32 tree 0 run 4\n",
      "m5 S 32 tree 0 run 5\n",
      "{0: [1, 2, 3, 4, 5], 1: [1, 2, 3, 4, 5], 2: [1, 2, 3, 4, 5], 3: [1, 2, 3]}\n",
      "m5 S 23 tree 0 run 1\n",
      "m5 S 23 tree 0 run 2\n",
      "m5 S 23 tree 0 run 3\n"
     ]
    },
    {
     "name": "stderr",
     "output_type": "stream",
     "text": [
      "100%|██████████| 10/10 [00:00<00:00, 10.00it/s]"
     ]
    },
    {
     "name": "stdout",
     "output_type": "stream",
     "text": [
      "m5 S 23 tree 0 run 4\n",
      "m5 S 23 tree 0 run 5\n",
      "{0: [1, 2, 3, 4, 5], 1: [1, 2, 4, 5], 2: [1, 2, 3, 4, 5], 3: [1, 2, 3, 5], 4: [1, 2, 3, 4, 5], 5: [3, 4]}\n",
      "m5 S 62 tree 0 run 1\n",
      "m5 S 62 tree 0 run 2\n",
      "m5 S 62 tree 0 run 3\n",
      "m5 S 62 tree 0 run 4\n",
      "m5 S 62 tree 0 run 5\n",
      "{0: [1, 2, 3, 4, 5], 1: [1, 2, 3, 4, 5]}\n",
      "m5 S 17 tree 0 run 1\n",
      "m5 S 17 tree 0 run 2\n",
      "m5 S 17 tree 0 run 3\n",
      "m5 S 17 tree 0 run 4\n",
      "m5 S 17 tree 0 run 5\n",
      "{0: [1, 2, 3, 4, 5], 1: [1, 2, 3, 4, 5], 2: [1, 2, 3, 4, 5], 3: [1, 2, 3, 4, 5]}\n"
     ]
    },
    {
     "name": "stderr",
     "output_type": "stream",
     "text": [
      "\n"
     ]
    }
   ],
   "source": [
    "from tqdm import tqdm\n",
    "import torch\n",
    "\n",
    "topk = 5 # how many of the top solutions to check for \n",
    "num_runs = 5\n",
    "\n",
    "sites = [\"m8\", \"m5\"]\n",
    "mig_types = [\"M\", \"mS\", \"R\", \"S\"]\n",
    "batch_sizes = [64, 256, 1024]\n",
    "\n",
    "print(f\"matching top {topk} solutions\")\n",
    "\n",
    "m5_bs_to_rank_to_percentages = {}\n",
    "m8_bs_to_rank_to_percentages = {}\n",
    "all_sites_bs_to_rank_to_percentages = {}\n",
    "\n",
    "sims_dir = os.path.join(REPO_DIR, \"data/machina_sims\")\n",
    "\n",
    "for bs in batch_sizes:\n",
    "    print(\"batch size:\", bs)\n",
    "    m5_bs_to_rank_to_percentages[bs] = {}\n",
    "    m8_bs_to_rank_to_percentages[bs] = {}\n",
    "    all_sites_bs_to_rank_to_percentages[bs] = {}\n",
    "    for site in sites:\n",
    "        for mig_type in mig_types:\n",
    "            # Get all seeds for mig_type + site combo\n",
    "            site_mig_type_dir = os.path.join(sims_dir, site, mig_type)\n",
    "            seeds = fnmatch.filter(os.listdir(site_mig_type_dir), 'clustering_observed_seed*.txt')\n",
    "            seeds = [s.replace(\".txt\", \"\").replace(\"clustering_observed_seed\", \"\") for s in seeds]\n",
    "            for seed in tqdm(seeds):\n",
    "                # Get all the clone trees for this seed\n",
    "                num_trees = get_num_mut_trees(os.path.join(sims_dir, f\"{site}_mut_trees\", f\"mut_trees_{mig_type}_seed{seed}.txt\"))\n",
    "                num_trees = 1\n",
    "                for tree_num in range(num_trees):\n",
    "                    # across all the runs for this mig_type + site + seed + clone tree combo, \n",
    "                    # get the union of all solutions\n",
    "                    solution_to_losses, solution_to_ranks = {}, {}\n",
    "                    run_num_to_solutions = {}\n",
    "                    for run in range(1,num_runs+1):\n",
    "                        Vs, As, losses = get_pckl_info(bs, run, site, mig_type, seed, tree_num, topk)\n",
    "                        run_num_to_solutions[run] = []\n",
    "                        print(site, mig_type, seed, \"tree\", tree_num, \"run\", run)\n",
    "                        for rank,(V,A,loss) in enumerate(zip(Vs, As, losses)):\n",
    "                            V = torch.tensor(V)\n",
    "                            A = torch.tensor(A)\n",
    "                            tree = MigrationHistory(A, V)                            \n",
    "                            if tree not in solution_to_losses:\n",
    "                                solution_to_losses[tree] = []\n",
    "                                solution_to_ranks[tree] = []\n",
    "                            solution_to_losses[tree].append(loss)\n",
    "                            solution_to_ranks[tree].append(rank)\n",
    "                            run_num_to_solutions[run].append(tree)\n",
    "                    rank_to_percent_runs = get_rank_to_percent_runs(solution_to_losses, solution_to_ranks, run_num_to_solutions)\n",
    "                    #print(rank_to_percent_runs)\n",
    "                    bs_to_rank_to_percentages = m5_bs_to_rank_to_percentages if site == \"m5\" else m8_bs_to_rank_to_percentages\n",
    "                    for rank in rank_to_percent_runs:\n",
    "                        if rank not in bs_to_rank_to_percentages[bs]:\n",
    "                            bs_to_rank_to_percentages[bs][rank] = []\n",
    "                            all_sites_bs_to_rank_to_percentages[bs][rank] = []\n",
    "                        bs_to_rank_to_percentages[bs][rank].append(rank_to_percent_runs[rank])\n",
    "                        all_sites_bs_to_rank_to_percentages[bs][rank].append(rank_to_percent_runs[rank])\n",
    "\n"
   ]
  },
  {
   "cell_type": "code",
   "execution_count": 4,
   "id": "05661194",
   "metadata": {
    "scrolled": true
   },
   "outputs": [
    {
     "data": {
      "text/html": [
       "<div>\n",
       "<style scoped>\n",
       "    .dataframe tbody tr th:only-of-type {\n",
       "        vertical-align: middle;\n",
       "    }\n",
       "\n",
       "    .dataframe tbody tr th {\n",
       "        vertical-align: top;\n",
       "    }\n",
       "\n",
       "    .dataframe thead th {\n",
       "        text-align: right;\n",
       "    }\n",
       "</style>\n",
       "<table border=\"1\" class=\"dataframe\">\n",
       "  <thead>\n",
       "    <tr style=\"text-align: right;\">\n",
       "      <th></th>\n",
       "      <th>Rank</th>\n",
       "      <th>Method</th>\n",
       "      <th>% runs</th>\n",
       "    </tr>\n",
       "  </thead>\n",
       "  <tbody>\n",
       "    <tr>\n",
       "      <th>0</th>\n",
       "      <td>1</td>\n",
       "      <td>Metient-64</td>\n",
       "      <td>71.500</td>\n",
       "    </tr>\n",
       "    <tr>\n",
       "      <th>1</th>\n",
       "      <td>2</td>\n",
       "      <td>Metient-64</td>\n",
       "      <td>46.000</td>\n",
       "    </tr>\n",
       "    <tr>\n",
       "      <th>2</th>\n",
       "      <td>3</td>\n",
       "      <td>Metient-64</td>\n",
       "      <td>38.000</td>\n",
       "    </tr>\n",
       "    <tr>\n",
       "      <th>3</th>\n",
       "      <td>4</td>\n",
       "      <td>Metient-64</td>\n",
       "      <td>42.500</td>\n",
       "    </tr>\n",
       "    <tr>\n",
       "      <th>4</th>\n",
       "      <td>5</td>\n",
       "      <td>Metient-64</td>\n",
       "      <td>40.500</td>\n",
       "    </tr>\n",
       "    <tr>\n",
       "      <th>5</th>\n",
       "      <td>6</td>\n",
       "      <td>Metient-64</td>\n",
       "      <td>32.500</td>\n",
       "    </tr>\n",
       "    <tr>\n",
       "      <th>6</th>\n",
       "      <td>7</td>\n",
       "      <td>Metient-64</td>\n",
       "      <td>29.000</td>\n",
       "    </tr>\n",
       "    <tr>\n",
       "      <th>7</th>\n",
       "      <td>8</td>\n",
       "      <td>Metient-64</td>\n",
       "      <td>31.282</td>\n",
       "    </tr>\n",
       "    <tr>\n",
       "      <th>8</th>\n",
       "      <td>9</td>\n",
       "      <td>Metient-64</td>\n",
       "      <td>26.667</td>\n",
       "    </tr>\n",
       "    <tr>\n",
       "      <th>9</th>\n",
       "      <td>10</td>\n",
       "      <td>Metient-64</td>\n",
       "      <td>24.375</td>\n",
       "    </tr>\n",
       "    <tr>\n",
       "      <th>10</th>\n",
       "      <td>11</td>\n",
       "      <td>Metient-64</td>\n",
       "      <td>27.586</td>\n",
       "    </tr>\n",
       "    <tr>\n",
       "      <th>11</th>\n",
       "      <td>12</td>\n",
       "      <td>Metient-64</td>\n",
       "      <td>26.429</td>\n",
       "    </tr>\n",
       "    <tr>\n",
       "      <th>12</th>\n",
       "      <td>13</td>\n",
       "      <td>Metient-64</td>\n",
       "      <td>24.167</td>\n",
       "    </tr>\n",
       "    <tr>\n",
       "      <th>13</th>\n",
       "      <td>14</td>\n",
       "      <td>Metient-64</td>\n",
       "      <td>20.000</td>\n",
       "    </tr>\n",
       "    <tr>\n",
       "      <th>14</th>\n",
       "      <td>15</td>\n",
       "      <td>Metient-64</td>\n",
       "      <td>20.000</td>\n",
       "    </tr>\n",
       "    <tr>\n",
       "      <th>15</th>\n",
       "      <td>16</td>\n",
       "      <td>Metient-64</td>\n",
       "      <td>20.000</td>\n",
       "    </tr>\n",
       "    <tr>\n",
       "      <th>16</th>\n",
       "      <td>17</td>\n",
       "      <td>Metient-64</td>\n",
       "      <td>30.000</td>\n",
       "    </tr>\n",
       "    <tr>\n",
       "      <th>17</th>\n",
       "      <td>18</td>\n",
       "      <td>Metient-64</td>\n",
       "      <td>30.000</td>\n",
       "    </tr>\n",
       "    <tr>\n",
       "      <th>18</th>\n",
       "      <td>19</td>\n",
       "      <td>Metient-64</td>\n",
       "      <td>20.000</td>\n",
       "    </tr>\n",
       "    <tr>\n",
       "      <th>19</th>\n",
       "      <td>20</td>\n",
       "      <td>Metient-64</td>\n",
       "      <td>20.000</td>\n",
       "    </tr>\n",
       "    <tr>\n",
       "      <th>20</th>\n",
       "      <td>21</td>\n",
       "      <td>Metient-64</td>\n",
       "      <td>20.000</td>\n",
       "    </tr>\n",
       "    <tr>\n",
       "      <th>21</th>\n",
       "      <td>1</td>\n",
       "      <td>Metient-256</td>\n",
       "      <td>85.500</td>\n",
       "    </tr>\n",
       "    <tr>\n",
       "      <th>22</th>\n",
       "      <td>2</td>\n",
       "      <td>Metient-256</td>\n",
       "      <td>55.500</td>\n",
       "    </tr>\n",
       "    <tr>\n",
       "      <th>23</th>\n",
       "      <td>3</td>\n",
       "      <td>Metient-256</td>\n",
       "      <td>53.500</td>\n",
       "    </tr>\n",
       "    <tr>\n",
       "      <th>24</th>\n",
       "      <td>4</td>\n",
       "      <td>Metient-256</td>\n",
       "      <td>52.000</td>\n",
       "    </tr>\n",
       "    <tr>\n",
       "      <th>25</th>\n",
       "      <td>5</td>\n",
       "      <td>Metient-256</td>\n",
       "      <td>51.500</td>\n",
       "    </tr>\n",
       "    <tr>\n",
       "      <th>26</th>\n",
       "      <td>6</td>\n",
       "      <td>Metient-256</td>\n",
       "      <td>50.000</td>\n",
       "    </tr>\n",
       "    <tr>\n",
       "      <th>27</th>\n",
       "      <td>7</td>\n",
       "      <td>Metient-256</td>\n",
       "      <td>40.000</td>\n",
       "    </tr>\n",
       "    <tr>\n",
       "      <th>28</th>\n",
       "      <td>8</td>\n",
       "      <td>Metient-256</td>\n",
       "      <td>31.250</td>\n",
       "    </tr>\n",
       "    <tr>\n",
       "      <th>29</th>\n",
       "      <td>9</td>\n",
       "      <td>Metient-256</td>\n",
       "      <td>27.826</td>\n",
       "    </tr>\n",
       "    <tr>\n",
       "      <th>30</th>\n",
       "      <td>10</td>\n",
       "      <td>Metient-256</td>\n",
       "      <td>31.579</td>\n",
       "    </tr>\n",
       "    <tr>\n",
       "      <th>31</th>\n",
       "      <td>11</td>\n",
       "      <td>Metient-256</td>\n",
       "      <td>23.750</td>\n",
       "    </tr>\n",
       "    <tr>\n",
       "      <th>32</th>\n",
       "      <td>12</td>\n",
       "      <td>Metient-256</td>\n",
       "      <td>20.000</td>\n",
       "    </tr>\n",
       "    <tr>\n",
       "      <th>33</th>\n",
       "      <td>13</td>\n",
       "      <td>Metient-256</td>\n",
       "      <td>21.818</td>\n",
       "    </tr>\n",
       "    <tr>\n",
       "      <th>34</th>\n",
       "      <td>14</td>\n",
       "      <td>Metient-256</td>\n",
       "      <td>27.500</td>\n",
       "    </tr>\n",
       "    <tr>\n",
       "      <th>35</th>\n",
       "      <td>15</td>\n",
       "      <td>Metient-256</td>\n",
       "      <td>20.000</td>\n",
       "    </tr>\n",
       "    <tr>\n",
       "      <th>36</th>\n",
       "      <td>16</td>\n",
       "      <td>Metient-256</td>\n",
       "      <td>24.000</td>\n",
       "    </tr>\n",
       "    <tr>\n",
       "      <th>37</th>\n",
       "      <td>17</td>\n",
       "      <td>Metient-256</td>\n",
       "      <td>20.000</td>\n",
       "    </tr>\n",
       "    <tr>\n",
       "      <th>38</th>\n",
       "      <td>18</td>\n",
       "      <td>Metient-256</td>\n",
       "      <td>40.000</td>\n",
       "    </tr>\n",
       "    <tr>\n",
       "      <th>39</th>\n",
       "      <td>19</td>\n",
       "      <td>Metient-256</td>\n",
       "      <td>20.000</td>\n",
       "    </tr>\n",
       "    <tr>\n",
       "      <th>40</th>\n",
       "      <td>1</td>\n",
       "      <td>Metient-1024</td>\n",
       "      <td>91.000</td>\n",
       "    </tr>\n",
       "    <tr>\n",
       "      <th>41</th>\n",
       "      <td>2</td>\n",
       "      <td>Metient-1024</td>\n",
       "      <td>74.500</td>\n",
       "    </tr>\n",
       "    <tr>\n",
       "      <th>42</th>\n",
       "      <td>3</td>\n",
       "      <td>Metient-1024</td>\n",
       "      <td>73.000</td>\n",
       "    </tr>\n",
       "    <tr>\n",
       "      <th>43</th>\n",
       "      <td>4</td>\n",
       "      <td>Metient-1024</td>\n",
       "      <td>66.500</td>\n",
       "    </tr>\n",
       "    <tr>\n",
       "      <th>44</th>\n",
       "      <td>5</td>\n",
       "      <td>Metient-1024</td>\n",
       "      <td>68.205</td>\n",
       "    </tr>\n",
       "    <tr>\n",
       "      <th>45</th>\n",
       "      <td>6</td>\n",
       "      <td>Metient-1024</td>\n",
       "      <td>47.429</td>\n",
       "    </tr>\n",
       "    <tr>\n",
       "      <th>46</th>\n",
       "      <td>7</td>\n",
       "      <td>Metient-1024</td>\n",
       "      <td>40.667</td>\n",
       "    </tr>\n",
       "    <tr>\n",
       "      <th>47</th>\n",
       "      <td>8</td>\n",
       "      <td>Metient-1024</td>\n",
       "      <td>27.619</td>\n",
       "    </tr>\n",
       "    <tr>\n",
       "      <th>48</th>\n",
       "      <td>9</td>\n",
       "      <td>Metient-1024</td>\n",
       "      <td>24.000</td>\n",
       "    </tr>\n",
       "    <tr>\n",
       "      <th>49</th>\n",
       "      <td>10</td>\n",
       "      <td>Metient-1024</td>\n",
       "      <td>20.000</td>\n",
       "    </tr>\n",
       "    <tr>\n",
       "      <th>50</th>\n",
       "      <td>11</td>\n",
       "      <td>Metient-1024</td>\n",
       "      <td>22.857</td>\n",
       "    </tr>\n",
       "    <tr>\n",
       "      <th>51</th>\n",
       "      <td>12</td>\n",
       "      <td>Metient-1024</td>\n",
       "      <td>20.000</td>\n",
       "    </tr>\n",
       "    <tr>\n",
       "      <th>52</th>\n",
       "      <td>13</td>\n",
       "      <td>Metient-1024</td>\n",
       "      <td>40.000</td>\n",
       "    </tr>\n",
       "    <tr>\n",
       "      <th>53</th>\n",
       "      <td>14</td>\n",
       "      <td>Metient-1024</td>\n",
       "      <td>20.000</td>\n",
       "    </tr>\n",
       "    <tr>\n",
       "      <th>54</th>\n",
       "      <td>15</td>\n",
       "      <td>Metient-1024</td>\n",
       "      <td>20.000</td>\n",
       "    </tr>\n",
       "    <tr>\n",
       "      <th>55</th>\n",
       "      <td>16</td>\n",
       "      <td>Metient-1024</td>\n",
       "      <td>20.000</td>\n",
       "    </tr>\n",
       "    <tr>\n",
       "      <th>56</th>\n",
       "      <td>17</td>\n",
       "      <td>Metient-1024</td>\n",
       "      <td>20.000</td>\n",
       "    </tr>\n",
       "    <tr>\n",
       "      <th>57</th>\n",
       "      <td>18</td>\n",
       "      <td>Metient-1024</td>\n",
       "      <td>20.000</td>\n",
       "    </tr>\n",
       "  </tbody>\n",
       "</table>\n",
       "</div>"
      ],
      "text/plain": [
       "    Rank        Method  % runs\n",
       "0      1    Metient-64  71.500\n",
       "1      2    Metient-64  46.000\n",
       "2      3    Metient-64  38.000\n",
       "3      4    Metient-64  42.500\n",
       "4      5    Metient-64  40.500\n",
       "5      6    Metient-64  32.500\n",
       "6      7    Metient-64  29.000\n",
       "7      8    Metient-64  31.282\n",
       "8      9    Metient-64  26.667\n",
       "9     10    Metient-64  24.375\n",
       "10    11    Metient-64  27.586\n",
       "11    12    Metient-64  26.429\n",
       "12    13    Metient-64  24.167\n",
       "13    14    Metient-64  20.000\n",
       "14    15    Metient-64  20.000\n",
       "15    16    Metient-64  20.000\n",
       "16    17    Metient-64  30.000\n",
       "17    18    Metient-64  30.000\n",
       "18    19    Metient-64  20.000\n",
       "19    20    Metient-64  20.000\n",
       "20    21    Metient-64  20.000\n",
       "21     1   Metient-256  85.500\n",
       "22     2   Metient-256  55.500\n",
       "23     3   Metient-256  53.500\n",
       "24     4   Metient-256  52.000\n",
       "25     5   Metient-256  51.500\n",
       "26     6   Metient-256  50.000\n",
       "27     7   Metient-256  40.000\n",
       "28     8   Metient-256  31.250\n",
       "29     9   Metient-256  27.826\n",
       "30    10   Metient-256  31.579\n",
       "31    11   Metient-256  23.750\n",
       "32    12   Metient-256  20.000\n",
       "33    13   Metient-256  21.818\n",
       "34    14   Metient-256  27.500\n",
       "35    15   Metient-256  20.000\n",
       "36    16   Metient-256  24.000\n",
       "37    17   Metient-256  20.000\n",
       "38    18   Metient-256  40.000\n",
       "39    19   Metient-256  20.000\n",
       "40     1  Metient-1024  91.000\n",
       "41     2  Metient-1024  74.500\n",
       "42     3  Metient-1024  73.000\n",
       "43     4  Metient-1024  66.500\n",
       "44     5  Metient-1024  68.205\n",
       "45     6  Metient-1024  47.429\n",
       "46     7  Metient-1024  40.667\n",
       "47     8  Metient-1024  27.619\n",
       "48     9  Metient-1024  24.000\n",
       "49    10  Metient-1024  20.000\n",
       "50    11  Metient-1024  22.857\n",
       "51    12  Metient-1024  20.000\n",
       "52    13  Metient-1024  40.000\n",
       "53    14  Metient-1024  20.000\n",
       "54    15  Metient-1024  20.000\n",
       "55    16  Metient-1024  20.000\n",
       "56    17  Metient-1024  20.000\n",
       "57    18  Metient-1024  20.000"
      ]
     },
     "execution_count": 4,
     "metadata": {},
     "output_type": "execute_result"
    }
   ],
   "source": [
    "import pandas as pd\n",
    "\n",
    "m8_data = []\n",
    "for bs in m8_bs_to_rank_to_percentages:\n",
    "    for rank in m8_bs_to_rank_to_percentages[bs]:\n",
    "        avg = 100*(sum(m8_bs_to_rank_to_percentages[bs][rank])/len(m8_bs_to_rank_to_percentages[bs][rank]))\n",
    "        m8_data.append([rank+1, f\"Metient-{bs}\", avg])\n",
    "m8_df = pd.DataFrame(m8_data, columns=[\"Rank\", \"Method\", \"% runs\"])\n",
    "m8_df"
   ]
  },
  {
   "cell_type": "code",
   "execution_count": 5,
   "id": "bb268893",
   "metadata": {
    "scrolled": true
   },
   "outputs": [
    {
     "data": {
      "text/html": [
       "<div>\n",
       "<style scoped>\n",
       "    .dataframe tbody tr th:only-of-type {\n",
       "        vertical-align: middle;\n",
       "    }\n",
       "\n",
       "    .dataframe tbody tr th {\n",
       "        vertical-align: top;\n",
       "    }\n",
       "\n",
       "    .dataframe thead th {\n",
       "        text-align: right;\n",
       "    }\n",
       "</style>\n",
       "<table border=\"1\" class=\"dataframe\">\n",
       "  <thead>\n",
       "    <tr style=\"text-align: right;\">\n",
       "      <th></th>\n",
       "      <th>Rank</th>\n",
       "      <th>Method</th>\n",
       "      <th>% runs</th>\n",
       "    </tr>\n",
       "  </thead>\n",
       "  <tbody>\n",
       "    <tr>\n",
       "      <th>0</th>\n",
       "      <td>1</td>\n",
       "      <td>Metient-64</td>\n",
       "      <td>95.500</td>\n",
       "    </tr>\n",
       "    <tr>\n",
       "      <th>1</th>\n",
       "      <td>2</td>\n",
       "      <td>Metient-64</td>\n",
       "      <td>68.205</td>\n",
       "    </tr>\n",
       "    <tr>\n",
       "      <th>2</th>\n",
       "      <td>3</td>\n",
       "      <td>Metient-64</td>\n",
       "      <td>55.556</td>\n",
       "    </tr>\n",
       "    <tr>\n",
       "      <th>3</th>\n",
       "      <td>4</td>\n",
       "      <td>Metient-64</td>\n",
       "      <td>58.857</td>\n",
       "    </tr>\n",
       "    <tr>\n",
       "      <th>4</th>\n",
       "      <td>5</td>\n",
       "      <td>Metient-64</td>\n",
       "      <td>42.857</td>\n",
       "    </tr>\n",
       "    <tr>\n",
       "      <th>5</th>\n",
       "      <td>6</td>\n",
       "      <td>Metient-64</td>\n",
       "      <td>45.185</td>\n",
       "    </tr>\n",
       "    <tr>\n",
       "      <th>6</th>\n",
       "      <td>7</td>\n",
       "      <td>Metient-64</td>\n",
       "      <td>36.000</td>\n",
       "    </tr>\n",
       "    <tr>\n",
       "      <th>7</th>\n",
       "      <td>8</td>\n",
       "      <td>Metient-64</td>\n",
       "      <td>23.158</td>\n",
       "    </tr>\n",
       "    <tr>\n",
       "      <th>8</th>\n",
       "      <td>9</td>\n",
       "      <td>Metient-64</td>\n",
       "      <td>31.667</td>\n",
       "    </tr>\n",
       "    <tr>\n",
       "      <th>9</th>\n",
       "      <td>10</td>\n",
       "      <td>Metient-64</td>\n",
       "      <td>20.000</td>\n",
       "    </tr>\n",
       "    <tr>\n",
       "      <th>10</th>\n",
       "      <td>11</td>\n",
       "      <td>Metient-64</td>\n",
       "      <td>20.000</td>\n",
       "    </tr>\n",
       "    <tr>\n",
       "      <th>11</th>\n",
       "      <td>12</td>\n",
       "      <td>Metient-64</td>\n",
       "      <td>20.000</td>\n",
       "    </tr>\n",
       "    <tr>\n",
       "      <th>12</th>\n",
       "      <td>13</td>\n",
       "      <td>Metient-64</td>\n",
       "      <td>25.000</td>\n",
       "    </tr>\n",
       "    <tr>\n",
       "      <th>13</th>\n",
       "      <td>14</td>\n",
       "      <td>Metient-64</td>\n",
       "      <td>40.000</td>\n",
       "    </tr>\n",
       "    <tr>\n",
       "      <th>14</th>\n",
       "      <td>15</td>\n",
       "      <td>Metient-64</td>\n",
       "      <td>20.000</td>\n",
       "    </tr>\n",
       "    <tr>\n",
       "      <th>15</th>\n",
       "      <td>16</td>\n",
       "      <td>Metient-64</td>\n",
       "      <td>20.000</td>\n",
       "    </tr>\n",
       "    <tr>\n",
       "      <th>16</th>\n",
       "      <td>1</td>\n",
       "      <td>Metient-256</td>\n",
       "      <td>97.000</td>\n",
       "    </tr>\n",
       "    <tr>\n",
       "      <th>17</th>\n",
       "      <td>2</td>\n",
       "      <td>Metient-256</td>\n",
       "      <td>82.105</td>\n",
       "    </tr>\n",
       "    <tr>\n",
       "      <th>18</th>\n",
       "      <td>3</td>\n",
       "      <td>Metient-256</td>\n",
       "      <td>77.714</td>\n",
       "    </tr>\n",
       "    <tr>\n",
       "      <th>19</th>\n",
       "      <td>4</td>\n",
       "      <td>Metient-256</td>\n",
       "      <td>64.706</td>\n",
       "    </tr>\n",
       "    <tr>\n",
       "      <th>20</th>\n",
       "      <td>5</td>\n",
       "      <td>Metient-256</td>\n",
       "      <td>61.379</td>\n",
       "    </tr>\n",
       "    <tr>\n",
       "      <th>21</th>\n",
       "      <td>6</td>\n",
       "      <td>Metient-256</td>\n",
       "      <td>54.400</td>\n",
       "    </tr>\n",
       "    <tr>\n",
       "      <th>22</th>\n",
       "      <td>7</td>\n",
       "      <td>Metient-256</td>\n",
       "      <td>38.889</td>\n",
       "    </tr>\n",
       "    <tr>\n",
       "      <th>23</th>\n",
       "      <td>8</td>\n",
       "      <td>Metient-256</td>\n",
       "      <td>36.364</td>\n",
       "    </tr>\n",
       "    <tr>\n",
       "      <th>24</th>\n",
       "      <td>9</td>\n",
       "      <td>Metient-256</td>\n",
       "      <td>30.000</td>\n",
       "    </tr>\n",
       "    <tr>\n",
       "      <th>25</th>\n",
       "      <td>10</td>\n",
       "      <td>Metient-256</td>\n",
       "      <td>25.714</td>\n",
       "    </tr>\n",
       "    <tr>\n",
       "      <th>26</th>\n",
       "      <td>11</td>\n",
       "      <td>Metient-256</td>\n",
       "      <td>20.000</td>\n",
       "    </tr>\n",
       "    <tr>\n",
       "      <th>27</th>\n",
       "      <td>12</td>\n",
       "      <td>Metient-256</td>\n",
       "      <td>30.000</td>\n",
       "    </tr>\n",
       "    <tr>\n",
       "      <th>28</th>\n",
       "      <td>13</td>\n",
       "      <td>Metient-256</td>\n",
       "      <td>26.667</td>\n",
       "    </tr>\n",
       "    <tr>\n",
       "      <th>29</th>\n",
       "      <td>14</td>\n",
       "      <td>Metient-256</td>\n",
       "      <td>20.000</td>\n",
       "    </tr>\n",
       "    <tr>\n",
       "      <th>30</th>\n",
       "      <td>15</td>\n",
       "      <td>Metient-256</td>\n",
       "      <td>20.000</td>\n",
       "    </tr>\n",
       "    <tr>\n",
       "      <th>31</th>\n",
       "      <td>1</td>\n",
       "      <td>Metient-1024</td>\n",
       "      <td>97.000</td>\n",
       "    </tr>\n",
       "    <tr>\n",
       "      <th>32</th>\n",
       "      <td>2</td>\n",
       "      <td>Metient-1024</td>\n",
       "      <td>86.842</td>\n",
       "    </tr>\n",
       "    <tr>\n",
       "      <th>33</th>\n",
       "      <td>3</td>\n",
       "      <td>Metient-1024</td>\n",
       "      <td>94.286</td>\n",
       "    </tr>\n",
       "    <tr>\n",
       "      <th>34</th>\n",
       "      <td>4</td>\n",
       "      <td>Metient-1024</td>\n",
       "      <td>81.714</td>\n",
       "    </tr>\n",
       "    <tr>\n",
       "      <th>35</th>\n",
       "      <td>5</td>\n",
       "      <td>Metient-1024</td>\n",
       "      <td>74.483</td>\n",
       "    </tr>\n",
       "    <tr>\n",
       "      <th>36</th>\n",
       "      <td>6</td>\n",
       "      <td>Metient-1024</td>\n",
       "      <td>47.000</td>\n",
       "    </tr>\n",
       "    <tr>\n",
       "      <th>37</th>\n",
       "      <td>7</td>\n",
       "      <td>Metient-1024</td>\n",
       "      <td>28.333</td>\n",
       "    </tr>\n",
       "    <tr>\n",
       "      <th>38</th>\n",
       "      <td>8</td>\n",
       "      <td>Metient-1024</td>\n",
       "      <td>20.000</td>\n",
       "    </tr>\n",
       "    <tr>\n",
       "      <th>39</th>\n",
       "      <td>9</td>\n",
       "      <td>Metient-1024</td>\n",
       "      <td>35.000</td>\n",
       "    </tr>\n",
       "    <tr>\n",
       "      <th>40</th>\n",
       "      <td>10</td>\n",
       "      <td>Metient-1024</td>\n",
       "      <td>20.000</td>\n",
       "    </tr>\n",
       "    <tr>\n",
       "      <th>41</th>\n",
       "      <td>11</td>\n",
       "      <td>Metient-1024</td>\n",
       "      <td>20.000</td>\n",
       "    </tr>\n",
       "    <tr>\n",
       "      <th>42</th>\n",
       "      <td>12</td>\n",
       "      <td>Metient-1024</td>\n",
       "      <td>60.000</td>\n",
       "    </tr>\n",
       "    <tr>\n",
       "      <th>43</th>\n",
       "      <td>13</td>\n",
       "      <td>Metient-1024</td>\n",
       "      <td>20.000</td>\n",
       "    </tr>\n",
       "    <tr>\n",
       "      <th>44</th>\n",
       "      <td>14</td>\n",
       "      <td>Metient-1024</td>\n",
       "      <td>20.000</td>\n",
       "    </tr>\n",
       "    <tr>\n",
       "      <th>45</th>\n",
       "      <td>15</td>\n",
       "      <td>Metient-1024</td>\n",
       "      <td>20.000</td>\n",
       "    </tr>\n",
       "  </tbody>\n",
       "</table>\n",
       "</div>"
      ],
      "text/plain": [
       "    Rank        Method  % runs\n",
       "0      1    Metient-64  95.500\n",
       "1      2    Metient-64  68.205\n",
       "2      3    Metient-64  55.556\n",
       "3      4    Metient-64  58.857\n",
       "4      5    Metient-64  42.857\n",
       "5      6    Metient-64  45.185\n",
       "6      7    Metient-64  36.000\n",
       "7      8    Metient-64  23.158\n",
       "8      9    Metient-64  31.667\n",
       "9     10    Metient-64  20.000\n",
       "10    11    Metient-64  20.000\n",
       "11    12    Metient-64  20.000\n",
       "12    13    Metient-64  25.000\n",
       "13    14    Metient-64  40.000\n",
       "14    15    Metient-64  20.000\n",
       "15    16    Metient-64  20.000\n",
       "16     1   Metient-256  97.000\n",
       "17     2   Metient-256  82.105\n",
       "18     3   Metient-256  77.714\n",
       "19     4   Metient-256  64.706\n",
       "20     5   Metient-256  61.379\n",
       "21     6   Metient-256  54.400\n",
       "22     7   Metient-256  38.889\n",
       "23     8   Metient-256  36.364\n",
       "24     9   Metient-256  30.000\n",
       "25    10   Metient-256  25.714\n",
       "26    11   Metient-256  20.000\n",
       "27    12   Metient-256  30.000\n",
       "28    13   Metient-256  26.667\n",
       "29    14   Metient-256  20.000\n",
       "30    15   Metient-256  20.000\n",
       "31     1  Metient-1024  97.000\n",
       "32     2  Metient-1024  86.842\n",
       "33     3  Metient-1024  94.286\n",
       "34     4  Metient-1024  81.714\n",
       "35     5  Metient-1024  74.483\n",
       "36     6  Metient-1024  47.000\n",
       "37     7  Metient-1024  28.333\n",
       "38     8  Metient-1024  20.000\n",
       "39     9  Metient-1024  35.000\n",
       "40    10  Metient-1024  20.000\n",
       "41    11  Metient-1024  20.000\n",
       "42    12  Metient-1024  60.000\n",
       "43    13  Metient-1024  20.000\n",
       "44    14  Metient-1024  20.000\n",
       "45    15  Metient-1024  20.000"
      ]
     },
     "execution_count": 5,
     "metadata": {},
     "output_type": "execute_result"
    }
   ],
   "source": [
    "m5_data = []\n",
    "for bs in m5_bs_to_rank_to_percentages:\n",
    "    for rank in m5_bs_to_rank_to_percentages[bs]:\n",
    "        avg = 100*(sum(m5_bs_to_rank_to_percentages[bs][rank])/len(m5_bs_to_rank_to_percentages[bs][rank]))\n",
    "        m5_data.append([rank+1, f\"Metient-{bs}\", avg])\n",
    "m5_df = pd.DataFrame(m5_data, columns=[\"Rank\", \"Method\", \"% runs\"])\n",
    "m5_df"
   ]
  },
  {
   "cell_type": "code",
   "execution_count": 6,
   "id": "22bcda83",
   "metadata": {},
   "outputs": [
    {
     "data": {
      "text/html": [
       "<div>\n",
       "<style scoped>\n",
       "    .dataframe tbody tr th:only-of-type {\n",
       "        vertical-align: middle;\n",
       "    }\n",
       "\n",
       "    .dataframe tbody tr th {\n",
       "        vertical-align: top;\n",
       "    }\n",
       "\n",
       "    .dataframe thead th {\n",
       "        text-align: right;\n",
       "    }\n",
       "</style>\n",
       "<table border=\"1\" class=\"dataframe\">\n",
       "  <thead>\n",
       "    <tr style=\"text-align: right;\">\n",
       "      <th></th>\n",
       "      <th>Rank</th>\n",
       "      <th>Method</th>\n",
       "      <th>% runs</th>\n",
       "    </tr>\n",
       "  </thead>\n",
       "  <tbody>\n",
       "    <tr>\n",
       "      <th>0</th>\n",
       "      <td>1</td>\n",
       "      <td>Metient-64</td>\n",
       "      <td>95.500</td>\n",
       "    </tr>\n",
       "    <tr>\n",
       "      <th>1</th>\n",
       "      <td>2</td>\n",
       "      <td>Metient-64</td>\n",
       "      <td>68.205</td>\n",
       "    </tr>\n",
       "    <tr>\n",
       "      <th>2</th>\n",
       "      <td>3</td>\n",
       "      <td>Metient-64</td>\n",
       "      <td>55.556</td>\n",
       "    </tr>\n",
       "    <tr>\n",
       "      <th>3</th>\n",
       "      <td>4</td>\n",
       "      <td>Metient-64</td>\n",
       "      <td>58.857</td>\n",
       "    </tr>\n",
       "    <tr>\n",
       "      <th>4</th>\n",
       "      <td>5</td>\n",
       "      <td>Metient-64</td>\n",
       "      <td>42.857</td>\n",
       "    </tr>\n",
       "    <tr>\n",
       "      <th>5</th>\n",
       "      <td>6</td>\n",
       "      <td>Metient-64</td>\n",
       "      <td>45.185</td>\n",
       "    </tr>\n",
       "    <tr>\n",
       "      <th>6</th>\n",
       "      <td>7</td>\n",
       "      <td>Metient-64</td>\n",
       "      <td>36.000</td>\n",
       "    </tr>\n",
       "    <tr>\n",
       "      <th>7</th>\n",
       "      <td>8</td>\n",
       "      <td>Metient-64</td>\n",
       "      <td>23.158</td>\n",
       "    </tr>\n",
       "    <tr>\n",
       "      <th>8</th>\n",
       "      <td>9</td>\n",
       "      <td>Metient-64</td>\n",
       "      <td>31.667</td>\n",
       "    </tr>\n",
       "    <tr>\n",
       "      <th>9</th>\n",
       "      <td>10</td>\n",
       "      <td>Metient-64</td>\n",
       "      <td>20.000</td>\n",
       "    </tr>\n",
       "    <tr>\n",
       "      <th>10</th>\n",
       "      <td>11</td>\n",
       "      <td>Metient-64</td>\n",
       "      <td>20.000</td>\n",
       "    </tr>\n",
       "    <tr>\n",
       "      <th>11</th>\n",
       "      <td>12</td>\n",
       "      <td>Metient-64</td>\n",
       "      <td>20.000</td>\n",
       "    </tr>\n",
       "    <tr>\n",
       "      <th>12</th>\n",
       "      <td>13</td>\n",
       "      <td>Metient-64</td>\n",
       "      <td>25.000</td>\n",
       "    </tr>\n",
       "    <tr>\n",
       "      <th>13</th>\n",
       "      <td>14</td>\n",
       "      <td>Metient-64</td>\n",
       "      <td>40.000</td>\n",
       "    </tr>\n",
       "    <tr>\n",
       "      <th>14</th>\n",
       "      <td>15</td>\n",
       "      <td>Metient-64</td>\n",
       "      <td>20.000</td>\n",
       "    </tr>\n",
       "    <tr>\n",
       "      <th>15</th>\n",
       "      <td>16</td>\n",
       "      <td>Metient-64</td>\n",
       "      <td>20.000</td>\n",
       "    </tr>\n",
       "    <tr>\n",
       "      <th>16</th>\n",
       "      <td>17</td>\n",
       "      <td>Metient-64</td>\n",
       "      <td>30.000</td>\n",
       "    </tr>\n",
       "    <tr>\n",
       "      <th>17</th>\n",
       "      <td>18</td>\n",
       "      <td>Metient-64</td>\n",
       "      <td>30.000</td>\n",
       "    </tr>\n",
       "    <tr>\n",
       "      <th>18</th>\n",
       "      <td>19</td>\n",
       "      <td>Metient-64</td>\n",
       "      <td>20.000</td>\n",
       "    </tr>\n",
       "    <tr>\n",
       "      <th>19</th>\n",
       "      <td>20</td>\n",
       "      <td>Metient-64</td>\n",
       "      <td>20.000</td>\n",
       "    </tr>\n",
       "    <tr>\n",
       "      <th>20</th>\n",
       "      <td>21</td>\n",
       "      <td>Metient-64</td>\n",
       "      <td>20.000</td>\n",
       "    </tr>\n",
       "    <tr>\n",
       "      <th>21</th>\n",
       "      <td>1</td>\n",
       "      <td>Metient-256</td>\n",
       "      <td>97.000</td>\n",
       "    </tr>\n",
       "    <tr>\n",
       "      <th>22</th>\n",
       "      <td>2</td>\n",
       "      <td>Metient-256</td>\n",
       "      <td>82.105</td>\n",
       "    </tr>\n",
       "    <tr>\n",
       "      <th>23</th>\n",
       "      <td>3</td>\n",
       "      <td>Metient-256</td>\n",
       "      <td>77.714</td>\n",
       "    </tr>\n",
       "    <tr>\n",
       "      <th>24</th>\n",
       "      <td>4</td>\n",
       "      <td>Metient-256</td>\n",
       "      <td>64.706</td>\n",
       "    </tr>\n",
       "    <tr>\n",
       "      <th>25</th>\n",
       "      <td>5</td>\n",
       "      <td>Metient-256</td>\n",
       "      <td>61.379</td>\n",
       "    </tr>\n",
       "    <tr>\n",
       "      <th>26</th>\n",
       "      <td>6</td>\n",
       "      <td>Metient-256</td>\n",
       "      <td>54.400</td>\n",
       "    </tr>\n",
       "    <tr>\n",
       "      <th>27</th>\n",
       "      <td>7</td>\n",
       "      <td>Metient-256</td>\n",
       "      <td>38.889</td>\n",
       "    </tr>\n",
       "    <tr>\n",
       "      <th>28</th>\n",
       "      <td>8</td>\n",
       "      <td>Metient-256</td>\n",
       "      <td>36.364</td>\n",
       "    </tr>\n",
       "    <tr>\n",
       "      <th>29</th>\n",
       "      <td>9</td>\n",
       "      <td>Metient-256</td>\n",
       "      <td>30.000</td>\n",
       "    </tr>\n",
       "    <tr>\n",
       "      <th>30</th>\n",
       "      <td>10</td>\n",
       "      <td>Metient-256</td>\n",
       "      <td>25.714</td>\n",
       "    </tr>\n",
       "    <tr>\n",
       "      <th>31</th>\n",
       "      <td>11</td>\n",
       "      <td>Metient-256</td>\n",
       "      <td>20.000</td>\n",
       "    </tr>\n",
       "    <tr>\n",
       "      <th>32</th>\n",
       "      <td>12</td>\n",
       "      <td>Metient-256</td>\n",
       "      <td>30.000</td>\n",
       "    </tr>\n",
       "    <tr>\n",
       "      <th>33</th>\n",
       "      <td>13</td>\n",
       "      <td>Metient-256</td>\n",
       "      <td>26.667</td>\n",
       "    </tr>\n",
       "    <tr>\n",
       "      <th>34</th>\n",
       "      <td>14</td>\n",
       "      <td>Metient-256</td>\n",
       "      <td>20.000</td>\n",
       "    </tr>\n",
       "    <tr>\n",
       "      <th>35</th>\n",
       "      <td>15</td>\n",
       "      <td>Metient-256</td>\n",
       "      <td>20.000</td>\n",
       "    </tr>\n",
       "    <tr>\n",
       "      <th>36</th>\n",
       "      <td>16</td>\n",
       "      <td>Metient-256</td>\n",
       "      <td>24.000</td>\n",
       "    </tr>\n",
       "    <tr>\n",
       "      <th>37</th>\n",
       "      <td>17</td>\n",
       "      <td>Metient-256</td>\n",
       "      <td>20.000</td>\n",
       "    </tr>\n",
       "    <tr>\n",
       "      <th>38</th>\n",
       "      <td>18</td>\n",
       "      <td>Metient-256</td>\n",
       "      <td>40.000</td>\n",
       "    </tr>\n",
       "    <tr>\n",
       "      <th>39</th>\n",
       "      <td>19</td>\n",
       "      <td>Metient-256</td>\n",
       "      <td>20.000</td>\n",
       "    </tr>\n",
       "    <tr>\n",
       "      <th>40</th>\n",
       "      <td>1</td>\n",
       "      <td>Metient-1024</td>\n",
       "      <td>97.000</td>\n",
       "    </tr>\n",
       "    <tr>\n",
       "      <th>41</th>\n",
       "      <td>2</td>\n",
       "      <td>Metient-1024</td>\n",
       "      <td>86.842</td>\n",
       "    </tr>\n",
       "    <tr>\n",
       "      <th>42</th>\n",
       "      <td>3</td>\n",
       "      <td>Metient-1024</td>\n",
       "      <td>94.286</td>\n",
       "    </tr>\n",
       "    <tr>\n",
       "      <th>43</th>\n",
       "      <td>4</td>\n",
       "      <td>Metient-1024</td>\n",
       "      <td>81.714</td>\n",
       "    </tr>\n",
       "    <tr>\n",
       "      <th>44</th>\n",
       "      <td>5</td>\n",
       "      <td>Metient-1024</td>\n",
       "      <td>74.483</td>\n",
       "    </tr>\n",
       "    <tr>\n",
       "      <th>45</th>\n",
       "      <td>6</td>\n",
       "      <td>Metient-1024</td>\n",
       "      <td>47.000</td>\n",
       "    </tr>\n",
       "    <tr>\n",
       "      <th>46</th>\n",
       "      <td>7</td>\n",
       "      <td>Metient-1024</td>\n",
       "      <td>28.333</td>\n",
       "    </tr>\n",
       "    <tr>\n",
       "      <th>47</th>\n",
       "      <td>8</td>\n",
       "      <td>Metient-1024</td>\n",
       "      <td>20.000</td>\n",
       "    </tr>\n",
       "    <tr>\n",
       "      <th>48</th>\n",
       "      <td>9</td>\n",
       "      <td>Metient-1024</td>\n",
       "      <td>35.000</td>\n",
       "    </tr>\n",
       "    <tr>\n",
       "      <th>49</th>\n",
       "      <td>10</td>\n",
       "      <td>Metient-1024</td>\n",
       "      <td>20.000</td>\n",
       "    </tr>\n",
       "    <tr>\n",
       "      <th>50</th>\n",
       "      <td>11</td>\n",
       "      <td>Metient-1024</td>\n",
       "      <td>20.000</td>\n",
       "    </tr>\n",
       "    <tr>\n",
       "      <th>51</th>\n",
       "      <td>12</td>\n",
       "      <td>Metient-1024</td>\n",
       "      <td>60.000</td>\n",
       "    </tr>\n",
       "    <tr>\n",
       "      <th>52</th>\n",
       "      <td>13</td>\n",
       "      <td>Metient-1024</td>\n",
       "      <td>20.000</td>\n",
       "    </tr>\n",
       "    <tr>\n",
       "      <th>53</th>\n",
       "      <td>14</td>\n",
       "      <td>Metient-1024</td>\n",
       "      <td>20.000</td>\n",
       "    </tr>\n",
       "    <tr>\n",
       "      <th>54</th>\n",
       "      <td>15</td>\n",
       "      <td>Metient-1024</td>\n",
       "      <td>20.000</td>\n",
       "    </tr>\n",
       "    <tr>\n",
       "      <th>55</th>\n",
       "      <td>16</td>\n",
       "      <td>Metient-1024</td>\n",
       "      <td>20.000</td>\n",
       "    </tr>\n",
       "    <tr>\n",
       "      <th>56</th>\n",
       "      <td>17</td>\n",
       "      <td>Metient-1024</td>\n",
       "      <td>20.000</td>\n",
       "    </tr>\n",
       "    <tr>\n",
       "      <th>57</th>\n",
       "      <td>18</td>\n",
       "      <td>Metient-1024</td>\n",
       "      <td>20.000</td>\n",
       "    </tr>\n",
       "  </tbody>\n",
       "</table>\n",
       "</div>"
      ],
      "text/plain": [
       "    Rank        Method  % runs\n",
       "0      1    Metient-64  95.500\n",
       "1      2    Metient-64  68.205\n",
       "2      3    Metient-64  55.556\n",
       "3      4    Metient-64  58.857\n",
       "4      5    Metient-64  42.857\n",
       "5      6    Metient-64  45.185\n",
       "6      7    Metient-64  36.000\n",
       "7      8    Metient-64  23.158\n",
       "8      9    Metient-64  31.667\n",
       "9     10    Metient-64  20.000\n",
       "10    11    Metient-64  20.000\n",
       "11    12    Metient-64  20.000\n",
       "12    13    Metient-64  25.000\n",
       "13    14    Metient-64  40.000\n",
       "14    15    Metient-64  20.000\n",
       "15    16    Metient-64  20.000\n",
       "16    17    Metient-64  30.000\n",
       "17    18    Metient-64  30.000\n",
       "18    19    Metient-64  20.000\n",
       "19    20    Metient-64  20.000\n",
       "20    21    Metient-64  20.000\n",
       "21     1   Metient-256  97.000\n",
       "22     2   Metient-256  82.105\n",
       "23     3   Metient-256  77.714\n",
       "24     4   Metient-256  64.706\n",
       "25     5   Metient-256  61.379\n",
       "26     6   Metient-256  54.400\n",
       "27     7   Metient-256  38.889\n",
       "28     8   Metient-256  36.364\n",
       "29     9   Metient-256  30.000\n",
       "30    10   Metient-256  25.714\n",
       "31    11   Metient-256  20.000\n",
       "32    12   Metient-256  30.000\n",
       "33    13   Metient-256  26.667\n",
       "34    14   Metient-256  20.000\n",
       "35    15   Metient-256  20.000\n",
       "36    16   Metient-256  24.000\n",
       "37    17   Metient-256  20.000\n",
       "38    18   Metient-256  40.000\n",
       "39    19   Metient-256  20.000\n",
       "40     1  Metient-1024  97.000\n",
       "41     2  Metient-1024  86.842\n",
       "42     3  Metient-1024  94.286\n",
       "43     4  Metient-1024  81.714\n",
       "44     5  Metient-1024  74.483\n",
       "45     6  Metient-1024  47.000\n",
       "46     7  Metient-1024  28.333\n",
       "47     8  Metient-1024  20.000\n",
       "48     9  Metient-1024  35.000\n",
       "49    10  Metient-1024  20.000\n",
       "50    11  Metient-1024  20.000\n",
       "51    12  Metient-1024  60.000\n",
       "52    13  Metient-1024  20.000\n",
       "53    14  Metient-1024  20.000\n",
       "54    15  Metient-1024  20.000\n",
       "55    16  Metient-1024  20.000\n",
       "56    17  Metient-1024  20.000\n",
       "57    18  Metient-1024  20.000"
      ]
     },
     "execution_count": 6,
     "metadata": {},
     "output_type": "execute_result"
    }
   ],
   "source": [
    "all_sites_data = []\n",
    "for bs in all_sites_bs_to_rank_to_percentages:\n",
    "    for rank in all_sites_bs_to_rank_to_percentages[bs]:\n",
    "        avg = 100*(sum(all_sites_bs_to_rank_to_percentages[bs][rank])/len(all_sites_bs_to_rank_to_percentages[bs][rank]))\n",
    "        all_sites_data.append([rank+1, f\"Metient-{bs}\", avg])\n",
    "all_sites_df = pd.DataFrame(all_sites_data, columns=[\"Rank\", \"Method\", \"% runs\"])\n",
    "all_sites_df"
   ]
  },
  {
   "cell_type": "code",
   "execution_count": 7,
   "id": "a11f1e2d",
   "metadata": {},
   "outputs": [
    {
     "data": {
      "text/html": [
       "<div>\n",
       "<style scoped>\n",
       "    .dataframe tbody tr th:only-of-type {\n",
       "        vertical-align: middle;\n",
       "    }\n",
       "\n",
       "    .dataframe tbody tr th {\n",
       "        vertical-align: top;\n",
       "    }\n",
       "\n",
       "    .dataframe thead th {\n",
       "        text-align: right;\n",
       "    }\n",
       "</style>\n",
       "<table border=\"1\" class=\"dataframe\">\n",
       "  <thead>\n",
       "    <tr style=\"text-align: right;\">\n",
       "      <th></th>\n",
       "      <th>Rank</th>\n",
       "      <th>Method</th>\n",
       "      <th>% runs</th>\n",
       "    </tr>\n",
       "  </thead>\n",
       "  <tbody>\n",
       "    <tr>\n",
       "      <th>40</th>\n",
       "      <td>1</td>\n",
       "      <td>Metient-1024</td>\n",
       "      <td>97.000</td>\n",
       "    </tr>\n",
       "    <tr>\n",
       "      <th>41</th>\n",
       "      <td>2</td>\n",
       "      <td>Metient-1024</td>\n",
       "      <td>86.842</td>\n",
       "    </tr>\n",
       "    <tr>\n",
       "      <th>42</th>\n",
       "      <td>3</td>\n",
       "      <td>Metient-1024</td>\n",
       "      <td>94.286</td>\n",
       "    </tr>\n",
       "    <tr>\n",
       "      <th>43</th>\n",
       "      <td>4</td>\n",
       "      <td>Metient-1024</td>\n",
       "      <td>81.714</td>\n",
       "    </tr>\n",
       "    <tr>\n",
       "      <th>44</th>\n",
       "      <td>5</td>\n",
       "      <td>Metient-1024</td>\n",
       "      <td>74.483</td>\n",
       "    </tr>\n",
       "    <tr>\n",
       "      <th>45</th>\n",
       "      <td>6</td>\n",
       "      <td>Metient-1024</td>\n",
       "      <td>47.000</td>\n",
       "    </tr>\n",
       "    <tr>\n",
       "      <th>46</th>\n",
       "      <td>7</td>\n",
       "      <td>Metient-1024</td>\n",
       "      <td>28.333</td>\n",
       "    </tr>\n",
       "    <tr>\n",
       "      <th>47</th>\n",
       "      <td>8</td>\n",
       "      <td>Metient-1024</td>\n",
       "      <td>20.000</td>\n",
       "    </tr>\n",
       "    <tr>\n",
       "      <th>48</th>\n",
       "      <td>9</td>\n",
       "      <td>Metient-1024</td>\n",
       "      <td>35.000</td>\n",
       "    </tr>\n",
       "    <tr>\n",
       "      <th>49</th>\n",
       "      <td>10</td>\n",
       "      <td>Metient-1024</td>\n",
       "      <td>20.000</td>\n",
       "    </tr>\n",
       "    <tr>\n",
       "      <th>50</th>\n",
       "      <td>11</td>\n",
       "      <td>Metient-1024</td>\n",
       "      <td>20.000</td>\n",
       "    </tr>\n",
       "    <tr>\n",
       "      <th>51</th>\n",
       "      <td>12</td>\n",
       "      <td>Metient-1024</td>\n",
       "      <td>60.000</td>\n",
       "    </tr>\n",
       "    <tr>\n",
       "      <th>52</th>\n",
       "      <td>13</td>\n",
       "      <td>Metient-1024</td>\n",
       "      <td>20.000</td>\n",
       "    </tr>\n",
       "    <tr>\n",
       "      <th>53</th>\n",
       "      <td>14</td>\n",
       "      <td>Metient-1024</td>\n",
       "      <td>20.000</td>\n",
       "    </tr>\n",
       "    <tr>\n",
       "      <th>54</th>\n",
       "      <td>15</td>\n",
       "      <td>Metient-1024</td>\n",
       "      <td>20.000</td>\n",
       "    </tr>\n",
       "    <tr>\n",
       "      <th>55</th>\n",
       "      <td>16</td>\n",
       "      <td>Metient-1024</td>\n",
       "      <td>20.000</td>\n",
       "    </tr>\n",
       "    <tr>\n",
       "      <th>56</th>\n",
       "      <td>17</td>\n",
       "      <td>Metient-1024</td>\n",
       "      <td>20.000</td>\n",
       "    </tr>\n",
       "    <tr>\n",
       "      <th>57</th>\n",
       "      <td>18</td>\n",
       "      <td>Metient-1024</td>\n",
       "      <td>20.000</td>\n",
       "    </tr>\n",
       "  </tbody>\n",
       "</table>\n",
       "</div>"
      ],
      "text/plain": [
       "    Rank        Method  % runs\n",
       "40     1  Metient-1024  97.000\n",
       "41     2  Metient-1024  86.842\n",
       "42     3  Metient-1024  94.286\n",
       "43     4  Metient-1024  81.714\n",
       "44     5  Metient-1024  74.483\n",
       "45     6  Metient-1024  47.000\n",
       "46     7  Metient-1024  28.333\n",
       "47     8  Metient-1024  20.000\n",
       "48     9  Metient-1024  35.000\n",
       "49    10  Metient-1024  20.000\n",
       "50    11  Metient-1024  20.000\n",
       "51    12  Metient-1024  60.000\n",
       "52    13  Metient-1024  20.000\n",
       "53    14  Metient-1024  20.000\n",
       "54    15  Metient-1024  20.000\n",
       "55    16  Metient-1024  20.000\n",
       "56    17  Metient-1024  20.000\n",
       "57    18  Metient-1024  20.000"
      ]
     },
     "execution_count": 7,
     "metadata": {},
     "output_type": "execute_result"
    }
   ],
   "source": [
    "all_sites_df[all_sites_df['Method']=='Metient-1024']"
   ]
  },
  {
   "cell_type": "code",
   "execution_count": 8,
   "id": "cbf5eea8",
   "metadata": {},
   "outputs": [
    {
     "name": "stdout",
     "output_type": "stream",
     "text": [
      "[(0.48942421, 0.72854938, 0.56751036), (0.34892097, 0.64828676, 0.56513633), (0.24929311, 0.56486397, 0.5586654)]\n"
     ]
    },
    {
     "data": {
      "image/png": "[encoded data removed]",
      "text/plain": [
       "<Figure size 572.5x400 with 1 Axes>"
      ]
     },
     "metadata": {},
     "output_type": "display_data"
    },
    {
     "data": {
      "image/png": "[encoded data removed]",
      "text/plain": [
       "<Figure size 572.5x400 with 1 Axes>"
      ]
     },
     "metadata": {},
     "output_type": "display_data"
    }
   ],
   "source": [
    "import seaborn as sns\n",
    "import matplotlib.pyplot as plt\n",
    "colors = sns.color_palette(\"crest\")\n",
    "colors = colors[:len(batch_sizes)]\n",
    "print(colors)\n",
    "sns.set_palette(sns.color_palette(colors))\n",
    "\n",
    "for name,df in zip([\"m5\", \"m8\"], [m5_df, m8_df]):\n",
    "    with sns.plotting_context(\"notebook\", font_scale=1.1):\n",
    "        g = sns.relplot(\n",
    "            data=df, x=\"Rank\", y=\"% runs\",\n",
    "            height=4, aspect=1.0, dashes=False, linewidth=2.5,\n",
    "            hue=\"Method\", style=\"Method\", kind=\"line\", legend=True,\n",
    "        )\n",
    "\n",
    "        (g.set_axis_labels(\"Rank of solution\", \"% of runs that solution is found\")\n",
    "          .set_titles(\"boop\")\n",
    "          .tight_layout(w_pad=0))\n",
    "        plt.xlim(1,16)\n",
    "        #sns.move_legend(g, \"upper right\")\n",
    "        plt.show()\n",
    "        \n",
    "\n",
    "        fig = g.fig\n",
    "        #out_name = (\"_\").join(y_labels[i].split(\" \") + x.split(\" \"))\n",
    "        fig.savefig(os.path.join(REPO_DIR, \"test/output_plots\", f\"{name}_percent_solns_found_{PARAMS}_{DATE}.png\"), dpi=600) \n"
   ]
  },
  {
   "cell_type": "code",
   "execution_count": 9,
   "id": "819ecfa7",
   "metadata": {},
   "outputs": [
    {
     "name": "stdout",
     "output_type": "stream",
     "text": [
      "[(0.48942421, 0.72854938, 0.56751036), (0.34892097, 0.64828676, 0.56513633), (0.24929311, 0.56486397, 0.5586654)]\n"
     ]
    },
    {
     "data": {
      "text/plain": [
       "<Figure size 400x400 with 0 Axes>"
      ]
     },
     "metadata": {},
     "output_type": "display_data"
    },
    {
     "data": {
      "image/png": "[encoded data removed]",
      "text/plain": [
       "<Figure size 400x400 with 1 Axes>"
      ]
     },
     "metadata": {},
     "output_type": "display_data"
    }
   ],
   "source": [
    "import seaborn as sns\n",
    "import matplotlib.pyplot as plt\n",
    "colors = sns.color_palette(\"crest\")\n",
    "colors = colors[:len(batch_sizes)]\n",
    "print(colors)\n",
    "sns.set(style='ticks', font=\"Helvetica\", rc={'axes.labelsize': 10, 'xtick.labelsize': 8, 'ytick.labelsize': 8, 'axes.linewidth': 1.1})\n",
    "sns.set_palette(sns.color_palette(colors))\n",
    "plt.figure(figsize=(2, 2), dpi=200)\n",
    "\n",
    "with sns.plotting_context(\"notebook\", font_scale=1.2):\n",
    "    g = sns.relplot(\n",
    "        data=all_sites_df, x=\"Rank\", y=\"% runs\",\n",
    "        height=4, aspect=1.0, dashes=False, linewidth=2.5,\n",
    "        hue=\"Method\", style=\"Method\", kind=\"line\",  legend=False,\n",
    "    )\n",
    "\n",
    "    (g.set_axis_labels(\"Rank of solution\", \"% of runs that solution is found\")\n",
    "      .set_titles(\"boop\")\n",
    "      .tight_layout(w_pad=0))\n",
    "    plt.xlim(1,16)\n",
    "    plt.show()\n",
    "\n",
    "\n",
    "    fig = g.fig\n",
    "    fig.savefig(os.path.join(REPO_DIR, \"test/output_plots\", f\"all_sites_percent_solns_found_{PARAMS}_{DATE}.png\"), dpi=600) \n"
   ]
  },
  {
   "cell_type": "code",
   "execution_count": null,
   "id": "6b563146",
   "metadata": {},
   "outputs": [],
   "source": []
  }
 ],
 "metadata": {
  "kernelspec": {
   "display_name": "Python [conda env:mambaforge-met]",
   "language": "python",
   "name": "conda-env-mambaforge-met-py"
  },
  "language_info": {
   "codemirror_mode": {
    "name": "ipython",
    "version": 3
   },
   "file_extension": ".py",
   "mimetype": "text/x-python",
   "name": "python",
   "nbconvert_exporter": "python",
   "pygments_lexer": "ipython3",
   "version": "3.8.0"
  }
 },
 "nbformat": 4,
 "nbformat_minor": 5
}
