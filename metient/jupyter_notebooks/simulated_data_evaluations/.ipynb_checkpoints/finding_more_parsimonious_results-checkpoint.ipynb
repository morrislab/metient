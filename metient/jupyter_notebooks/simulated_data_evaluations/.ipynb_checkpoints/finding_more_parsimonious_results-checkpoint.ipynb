{
 "cells": [
  {
   "cell_type": "markdown",
   "id": "4d23c2ad",
   "metadata": {},
   "source": [
    "### How often do we find more parsimonious solutions?"
   ]
  },
  {
   "cell_type": "code",
   "execution_count": 1,
   "id": "dd76c1b2",
   "metadata": {},
   "outputs": [
    {
     "name": "stdout",
     "output_type": "stream",
     "text": [
      "CUDA GPU: False\n"
     ]
    }
   ],
   "source": [
    "import os\n",
    "import pickle\n",
    "from metient.lib.vertex_labeling import *\n",
    "from metient.util import eval_util as eutil\n",
    "from metient.util.globals import *\n",
    "from tqdm import tqdm\n",
    "import fnmatch\n",
    "import seaborn as sns\n",
    "import gzip\n",
    "\n",
    "REPO_DIR = os.path.join(os.getcwd(), \"../../\")"
   ]
  },
  {
   "cell_type": "code",
   "execution_count": 2,
   "id": "15705edc",
   "metadata": {},
   "outputs": [],
   "source": [
    "DATE = \"05162024\"\n",
    "PARAMS = \"calibrate_wip_gen0.1\"\n",
    "topk = float(\"inf\")\n",
    "loss_thres = 0.0\n",
    "\n",
    "SIMS_DIR = os.path.join(REPO_DIR, \"data/machina_sims\")\n",
    "metient_results_dir = '/data/morrisq/divyak/data/metient_prediction_results/'\n",
    "\n",
    "def get_num_mut_trees(mut_tree_fn):\n",
    "    with open(mut_tree_fn, 'r') as f:\n",
    "        # look for line w/ \"3 #trees\" as an example\n",
    "        for line in f:\n",
    "            if  \"#trees\" in line:\n",
    "                return int(line.strip().split()[0])    \n",
    "            \n",
    "def get_pckl_info(bs, run, site, mig_type, seed, tree_num):\n",
    "    prediction_dir = os.path.join(metient_results_dir, f'predictions_batch_exp_bs{bs}_{PARAMS}_r{run}_{DATE}')\n",
    "    predicted_site_mig_type_data_dir = os.path.join(prediction_dir, site, mig_type)\n",
    "    with gzip.open(os.path.join(predicted_site_mig_type_data_dir, f\"tree{tree_num}_seed{seed}_calibrate.pkl.gz\"), \"rb\") as f:\n",
    "        pckl = pickle.load(f)\n",
    "    Vs = pckl[OUT_LABElING_KEY]\n",
    "    As = pckl[OUT_ADJ_KEY]\n",
    "    losses = pckl[OUT_LOSSES_KEY]\n",
    "    return Vs, As, losses\n"
   ]
  },
  {
   "cell_type": "code",
   "execution_count": 3,
   "id": "cbc53553",
   "metadata": {},
   "outputs": [],
   "source": [
    "import torch\n",
    "og_sims_dir = \"/data/morrisq/divyak/projects/machina/data/sims\"\n",
    "\n",
    "def get_V_A_from_ground_truth_tree(site, mig_type, seed):\n",
    "    labeling_fn = os.path.join(og_sims_dir, site, mig_type, f\"T_seed{seed}.vertex.labeling\")\n",
    "    tree_fn = os.path.join(og_sims_dir, site, mig_type, f\"T_seed{seed}.tree\")\n",
    "    true_edges, true_mig_edges, true_labeling = eutil.parse_clone_tree(tree_fn, labeling_fn)\n",
    "    del true_labeling['GL']\n",
    "    num_nodes = len(true_labeling)\n",
    "    num_sites = len(set(list(true_labeling.values())))\n",
    "    node_label_to_idx = {k:i for i,k in enumerate(list(true_labeling.keys()))}\n",
    "    A = torch.zeros((num_nodes, num_nodes))\n",
    "    for edge in true_edges:\n",
    "        if edge[0] == \"GL\":\n",
    "            continue\n",
    "        A[node_label_to_idx[edge[0]], node_label_to_idx[edge[1]]] = 1\n",
    "    \n",
    "    site_label_to_idx = {k:i for i,k in enumerate(set(list(true_labeling.values())))}\n",
    "    V = torch.zeros((num_sites, num_nodes))\n",
    "    for node_label in true_labeling:\n",
    "        site_label = true_labeling[node_label]\n",
    "        V[site_label_to_idx[site_label], node_label_to_idx[node_label]] = 1\n",
    "    return torch.tensor(V), torch.tensor(A)\n",
    "\n",
    "def is_more_parsimonious(true_m,true_c,true_s,pred_m,pred_c,pred_s):\n",
    "    if pred_m > true_m or pred_c > true_c or pred_s > true_s:\n",
    "        return False\n",
    "    if pred_m == true_m and pred_c == true_c and pred_s == true_s:\n",
    "        return False\n",
    "    return True"
   ]
  },
  {
   "cell_type": "code",
   "execution_count": 4,
   "id": "bc98c26a",
   "metadata": {},
   "outputs": [
    {
     "name": "stdout",
     "output_type": "stream",
     "text": [
      "{'m5': {'64': [set(), set(), set(), set(), set()], '256': [set(), set(), set(), set(), set()], '1024': [set(), set(), set(), set(), set()]}, 'm8': {'64': [set(), set(), set(), set(), set()], '256': [set(), set(), set(), set(), set()], '1024': [set(), set(), set(), set(), set()]}}\n",
      "64\n",
      "m5 mS\n"
     ]
    },
    {
     "name": "stderr",
     "output_type": "stream",
     "text": [
      "/scratch/lsftmp/6553007.tmpdir/ipykernel_15209/1052089684.py:23: UserWarning: To copy construct from a tensor, it is recommended to use sourceTensor.clone().detach() or sourceTensor.clone().detach().requires_grad_(True), rather than torch.tensor(sourceTensor).\n",
      "  return torch.tensor(V), torch.tensor(A)\n"
     ]
    },
    {
     "ename": "NameError",
     "evalue": "name 'get_ancestral_labeling_metrics' is not defined",
     "output_type": "error",
     "traceback": [
      "\u001b[0;31m---------------------------------------------------------------------------\u001b[0m",
      "\u001b[0;31mNameError\u001b[0m                                 Traceback (most recent call last)",
      "Cell \u001b[0;32mIn[4], line 26\u001b[0m\n\u001b[1;32m     23\u001b[0m num_trees \u001b[38;5;241m=\u001b[39m get_num_mut_trees(os\u001b[38;5;241m.\u001b[39mpath\u001b[38;5;241m.\u001b[39mjoin(SIMS_DIR, \u001b[38;5;124mf\u001b[39m\u001b[38;5;124m\"\u001b[39m\u001b[38;5;132;01m{\u001b[39;00msite\u001b[38;5;132;01m}\u001b[39;00m\u001b[38;5;124m_mut_trees\u001b[39m\u001b[38;5;124m\"\u001b[39m, \u001b[38;5;124mf\u001b[39m\u001b[38;5;124m\"\u001b[39m\u001b[38;5;124mmut_trees_\u001b[39m\u001b[38;5;132;01m{\u001b[39;00mmig_type\u001b[38;5;132;01m}\u001b[39;00m\u001b[38;5;124m_seed\u001b[39m\u001b[38;5;132;01m{\u001b[39;00mseed\u001b[38;5;132;01m}\u001b[39;00m\u001b[38;5;124m.txt\u001b[39m\u001b[38;5;124m\"\u001b[39m))\n\u001b[1;32m     25\u001b[0m true_V, true_A \u001b[38;5;241m=\u001b[39m get_V_A_from_ground_truth_tree(site, mig_type, seed)\n\u001b[0;32m---> 26\u001b[0m true_m,true_c,true_s,_,_ \u001b[38;5;241m=\u001b[39m \u001b[43mget_ancestral_labeling_metrics\u001b[49m(true_V\u001b[38;5;241m.\u001b[39mreshape(\u001b[38;5;241m1\u001b[39m, true_V\u001b[38;5;241m.\u001b[39mshape[\u001b[38;5;241m0\u001b[39m], true_V\u001b[38;5;241m.\u001b[39mshape[\u001b[38;5;241m1\u001b[39m]), true_A, \u001b[38;5;28;01mNone\u001b[39;00m, \u001b[38;5;28;01mNone\u001b[39;00m, \u001b[38;5;28;01mNone\u001b[39;00m)\n\u001b[1;32m     28\u001b[0m \u001b[38;5;28;01mfor\u001b[39;00m run \u001b[38;5;129;01min\u001b[39;00m \u001b[38;5;28mrange\u001b[39m(\u001b[38;5;241m1\u001b[39m,num_runs\u001b[38;5;241m+\u001b[39m\u001b[38;5;241m1\u001b[39m):\n\u001b[1;32m     29\u001b[0m     \u001b[38;5;28;01mfor\u001b[39;00m tree_num \u001b[38;5;129;01min\u001b[39;00m \u001b[38;5;28mrange\u001b[39m(num_trees):\n",
      "\u001b[0;31mNameError\u001b[0m: name 'get_ancestral_labeling_metrics' is not defined"
     ]
    }
   ],
   "source": [
    "SITES = [\"m5\", \"m8\"]\n",
    "MIG_TYPES = [\"mS\", \"M\", \"S\", \"R\"]\n",
    "BATCH_SIZES = ['64', '256', '1024', ]\n",
    "\n",
    "\n",
    "num_runs = 5\n",
    "num_less = 0\n",
    "site_to_bs_to_num_more_pars = {'m5':{bs:[0]*num_runs for bs in BATCH_SIZES}, 'm8':{bs:[0]*num_runs for bs in BATCH_SIZES}}\n",
    "site_to_bs_to_better_trees = {'m5':{bs:[set()]*num_runs for bs in BATCH_SIZES}, 'm8':{bs:[set()]*num_runs for bs in BATCH_SIZES}}\n",
    "print(site_to_bs_to_better_trees)\n",
    "for bs in BATCH_SIZES:\n",
    "    print(bs)\n",
    "    for site in SITES:\n",
    "        for mig_type in MIG_TYPES:\n",
    "            print(site, mig_type)\n",
    "            # Get all seeds for mig_type + site combo\n",
    "            site_mig_type_dir = os.path.join(SIMS_DIR, site, mig_type)\n",
    "            seeds = fnmatch.filter(os.listdir(site_mig_type_dir), 'clustering_observed_seed*.txt')\n",
    "            seeds = [s.replace(\".txt\", \"\").replace(\"clustering_observed_seed\", \"\") for s in seeds]\n",
    "            \n",
    "            for seed in seeds:\n",
    "                # Get all the clone trees for this seed\n",
    "                num_trees = get_num_mut_trees(os.path.join(SIMS_DIR, f\"{site}_mut_trees\", f\"mut_trees_{mig_type}_seed{seed}.txt\"))\n",
    "                \n",
    "                true_V, true_A = get_V_A_from_ground_truth_tree(site, mig_type, seed)\n",
    "                true_m,true_c,true_s,_,_ = get_ancestral_labeling_metrics(true_V.reshape(1, true_V.shape[0], true_V.shape[1]), true_A, None, None, None)\n",
    "                \n",
    "                for run in range(1,num_runs+1):\n",
    "                    for tree_num in range(num_trees):\n",
    "                        Vs, As, losses = get_pckl_info(bs, run, site, mig_type, seed, tree_num)\n",
    "                        for x,(V,A,loss) in enumerate(zip(Vs,As,losses)):\n",
    "                            if x+1 > topk:\n",
    "                                break\n",
    "                            V = torch.tensor(V)\n",
    "                            A = torch.tensor(A)\n",
    "                            pred_m,pred_c,pred_s,_,_ = get_ancestral_labeling_metrics(V.reshape(1, V.shape[0], V.shape[1]), A, None, None, None)\n",
    "                            if is_more_parsimonious(true_m,true_c,true_s,pred_m,pred_c,pred_s):\n",
    "                                site_to_bs_to_better_trees[site][bs][run-1].add((site,mig_type,seed))\n",
    "#                                 print(\"true:\", true_m,true_c,true_s)\n",
    "#                                 print(\"pred:\", pred_m,pred_c,pred_s)\n",
    "#                                 print()\n",
    "#                                 print(site_to_bs_to_num_more_pars[site][bs])\n",
    "                                \n",
    "                                site_to_bs_to_num_more_pars[site][bs][run-1] += 1\n",
    "                                break # don't count extra for every V found\n",
    "site_to_bs_to_num_more_pars\n"
   ]
  },
  {
   "cell_type": "code",
   "execution_count": null,
   "id": "58f64c87",
   "metadata": {},
   "outputs": [],
   "source": [
    "site_to_bs_to_avg_more_pars = {'m5':{bs:0 for bs in BATCH_SIZES}, 'm8':{bs:0 for bs in BATCH_SIZES}}\n",
    "for site in site_to_bs_to_num_more_pars:\n",
    "    for bs in site_to_bs_to_num_more_pars[site]:\n",
    "        site_to_bs_to_avg_more_pars[site][bs] = sum(site_to_bs_to_num_more_pars[site][bs])/len(site_to_bs_to_num_more_pars[site][bs])\n",
    "site_to_bs_to_avg_more_pars\n",
    "        "
   ]
  },
  {
   "cell_type": "code",
   "execution_count": null,
   "id": "b5e19884",
   "metadata": {},
   "outputs": [],
   "source": [
    "site_to_bs_to_better_trees"
   ]
  },
  {
   "cell_type": "code",
   "execution_count": null,
   "id": "00643dbf",
   "metadata": {},
   "outputs": [],
   "source": [
    "site_to_bs_to_avg_better_trees = {'m5':{bs:0 for bs in BATCH_SIZES}, 'm8':{bs:0 for bs in BATCH_SIZES}}\n",
    "for site in site_to_bs_to_better_trees:\n",
    "    for bs in site_to_bs_to_better_trees[site]:\n",
    "        better_trees = site_to_bs_to_better_trees[site][bs]\n",
    "        average_length = (sum(len(s) for s in better_trees) / len(better_trees))/40.0\n",
    "        site_to_bs_to_avg_better_trees[site][bs] = average_length\n",
    "site_to_bs_to_avg_better_trees\n"
   ]
  },
  {
   "cell_type": "code",
   "execution_count": null,
   "id": "023b58b2",
   "metadata": {},
   "outputs": [],
   "source": [
    "bs_to_better_trees = {bs:[set(), set(), set(), set(), set()] for bs in BATCH_SIZES}\n",
    "for site in site_to_bs_to_better_trees:\n",
    "    for bs in site_to_bs_to_better_trees[site]:\n",
    "        for i,run in enumerate(site_to_bs_to_better_trees[site][bs]):\n",
    "            for tree in run:\n",
    "                bs_to_better_trees[bs][i].add(tree)\n",
    "bs_to_better_trees\n",
    "bs_to_avg_better_trees = {bs:0 for bs in BATCH_SIZES}\n",
    "for bs in bs_to_better_trees:\n",
    "    better_trees = bs_to_better_trees[bs]\n",
    "    average_length = (sum(len(s) for s in better_trees) / len(better_trees))/80.0\n",
    "    bs_to_avg_better_trees[bs] = average_length\n",
    "bs_to_avg_better_trees\n"
   ]
  },
  {
   "cell_type": "code",
   "execution_count": null,
   "id": "8cd73542",
   "metadata": {},
   "outputs": [],
   "source": [
    "colors = sns.color_palette(\"crest\")\n",
    "colors = colors[:len(BATCH_SIZES)]\n",
    "print(colors)\n",
    "sns.set(font_scale=0.8)\n",
    "sns.set_style(\"whitegrid\")\n",
    "sns.set_style(\"ticks\")\n",
    "sns.set_palette(sns.color_palette(colors))\n",
    "\n",
    "df = pd.DataFrame(bs_to_avg_better_trees.items(),columns=[\"Metient sample size\", \"% of simulated data where more \\nparsimonious solution is found\"])\n",
    "print(df)\n",
    "print(df.columns)\n",
    "fig = plt.figure(figsize=(3, 3), dpi=300)\n",
    "plt.ylim(0, 0.4)  # Adjust the limits as needed\n",
    "\n",
    "sns.despine()\n",
    "ax = sns.barplot(x=df[\"Metient sample size\"], y=df[\"% of simulated data where more \\nparsimonious solution is found\"])\n",
    "ax.spines['top'].set_visible(False)\n",
    "ax.spines['right'].set_visible(False)\n",
    "# Adjust the width of the bars\n",
    "bar_width = 0.6  # Adjust this value to make bars thinner or thicker\n",
    "for bar in ax.patches:\n",
    "    bar.set_width(bar_width)\n",
    "fig.savefig(os.path.join(REPO_DIR, \"test/output_plots/\", f\"all_sites_percent_more_pars_{PARAMS}_{DATE}.png\"), dpi=600, bbox_inches='tight', pad_inches=0.01) \n"
   ]
  },
  {
   "cell_type": "code",
   "execution_count": null,
   "id": "e467cf24",
   "metadata": {},
   "outputs": [],
   "source": []
  }
 ],
 "metadata": {
  "kernelspec": {
   "display_name": "Python [conda env:mambaforge-met]",
   "language": "python",
   "name": "conda-env-mambaforge-met-py"
  },
  "language_info": {
   "codemirror_mode": {
    "name": "ipython",
    "version": 3
   },
   "file_extension": ".py",
   "mimetype": "text/x-python",
   "name": "python",
   "nbconvert_exporter": "python",
   "pygments_lexer": "ipython3",
   "version": "3.8.0"
  }
 },
 "nbformat": 4,
 "nbformat_minor": 5
}
