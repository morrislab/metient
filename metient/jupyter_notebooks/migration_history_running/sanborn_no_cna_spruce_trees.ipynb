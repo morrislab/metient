{
 "cells": [
  {
   "cell_type": "markdown",
   "id": "c84ee842",
   "metadata": {},
   "source": [
    "### Test how migration histories change when 1) only using SNVs in copy number neutral regions, 2) using MACHINA's clsutering, and 3) SPRUCE generated trees"
   ]
  },
  {
   "cell_type": "code",
   "execution_count": 1,
   "id": "4006b9e5",
   "metadata": {},
   "outputs": [
    {
     "name": "stderr",
     "output_type": "stream",
     "text": [
      "/lila/home/koyyald/mambaforge/envs/met/lib/python3.8/site-packages/torch/cuda/__init__.py:138: UserWarning: CUDA initialization: The NVIDIA driver on your system is too old (found version 11070). Please update your GPU driver by downloading and installing a new version from the URL: http://www.nvidia.com/Download/index.aspx Alternatively, go to: https://pytorch.org to install a PyTorch version that has been compiled with your version of the CUDA driver. (Triggered internally at ../c10/cuda/CUDAFunctions.cpp:108.)\n",
      "  return torch._C._cuda_getDeviceCount() > 0\n"
     ]
    },
    {
     "name": "stdout",
     "output_type": "stream",
     "text": [
      "CUDA GPU: False\n",
      "A\n",
      "pruned 0 mutation clusters\n",
      "B\n",
      "pruned 1 mutation clusters\n",
      "C\n",
      "pruned 0 mutation clusters\n",
      "D\n",
      "pruned 0 mutation clusters\n",
      "E\n",
      "pruned 0 mutation clusters\n",
      "F\n",
      "pruned 0 mutation clusters\n",
      "G\n",
      "pruned 0 mutation clusters\n"
     ]
    }
   ],
   "source": [
    "import sys\n",
    "import pandas as pd\n",
    "import os\n",
    "from metient.metient import *\n",
    "from metient.util import data_extraction_util as dutil\n",
    "from metient.util import plotting_util as plutil\n",
    "\n",
    "repo_dir = os.path.join(os.getcwd(), \"../../\")\n",
    "data_dir = os.path.join(repo_dir, 'data', 'sanborn_melanoma_2015')\n",
    "TREE_DIR = os.path.join(data_dir, 'spruce_mutation_trees')    \n",
    "TSV_DIR = os.path.join(data_dir, 'machina_clustering')    \n",
    "\n",
    "print_config = PrintConfig(visualize=True, k_best_trees=20)\n",
    "OUTPUT_DIR = os.path.join(data_dir, \"metient_outputs_no_cna_mach_cluster_spruce_trees\")\n",
    "COLORS = [\"#6aa84fff\",\"#c27ba0ff\", \"#e69138ff\", \"#be5742e1\", \"#2496c8ff\", \"#674ea7ff\"]\n",
    "PATIENTS = [\"A\", \"B\", \"C\", \"D\", \"E\", \"F\", \"G\"]\n",
    "\n",
    "idx_to_labels = []\n",
    "# Prep inputs for Metient\n",
    "for patient_id in PATIENTS:\n",
    "    tsv_fn = os.path.join(TSV_DIR, f\"{patient_id}_0.95.tsv\")\n",
    "    df = pd.read_csv(tsv_fn, sep=\"\\t\",skiprows=3)\n",
    "    print(patient_id)\n",
    "    df['num_mutations'] = df.apply(lambda row: len(row['character_label'].split(\"_\")), axis=1)\n",
    "    df['site_category'] = df.apply(lambda row: 'primary' if row['sample_label']=='primary' else 'metastasis', axis=1)\n",
    "    df['var_read_prob'] = 0.5\n",
    "    \n",
    "    # This is to fix the fact the SPRUCE will filter out some of the clustered mutations. We fix this by\n",
    "    # removing those mutation clusters from the input TSVs\n",
    "    unpruned_idx_to_label = pd.Series(df['character_label'].values, index=df['character_index']).to_dict()\n",
    "    mut_tree_fn = os.path.join(TREE_DIR, f\"{patient_id}_mut_trees.txt\")\n",
    "    _, pruned_idx_to_label = dutil.get_adj_matrices_from_spruce_mutation_trees(mut_tree_fn, unpruned_idx_to_label)[0]\n",
    "    pruned_label_to_idx = {v:k for k,v in pruned_idx_to_label.items()}\n",
    "    print(\"pruned\", len(unpruned_idx_to_label)-len(pruned_idx_to_label), \"mutation clusters\")\n",
    "    df = df[df['character_label'].isin(list(pruned_idx_to_label.values()))]\n",
    "    df['character_index'] = df.apply(lambda row:pruned_label_to_idx[row['character_label']], axis=1)\n",
    "    df['cluster_index'] = df.apply(lambda row:pruned_label_to_idx[row['character_label']], axis=1)\n",
    "\n",
    "    idx_to_labels.append(pruned_idx_to_label)\n",
    "    df['full_label'] = df['character_label']\n",
    "    df['character_label'] = df.apply(lambda row:plutil.get_pruned_mut_label(row['character_label'], True, True), axis=1)\n",
    "    df.to_csv(os.path.join(TSV_DIR,f\"{patient_id}_metient_input.tsv\"), sep=\"\\t\")\n",
    "    "
   ]
  },
  {
   "cell_type": "code",
   "execution_count": 4,
   "id": "1f1ec56d",
   "metadata": {
    "scrolled": false
   },
   "outputs": [
    {
     "ename": "KeyError",
     "evalue": "'cluster_index'",
     "output_type": "error",
     "traceback": [
      "\u001b[0;31m---------------------------------------------------------------------------\u001b[0m",
      "\u001b[0;31mKeyError\u001b[0m                                  Traceback (most recent call last)",
      "File \u001b[0;32m/lila/home/koyyald/mambaforge/envs/met/lib/python3.8/site-packages/pandas/core/indexes/base.py:3080\u001b[0m, in \u001b[0;36mIndex.get_loc\u001b[0;34m(self, key, method, tolerance)\u001b[0m\n\u001b[1;32m   3079\u001b[0m \u001b[38;5;28;01mtry\u001b[39;00m:\n\u001b[0;32m-> 3080\u001b[0m     \u001b[38;5;28;01mreturn\u001b[39;00m \u001b[38;5;28;43mself\u001b[39;49m\u001b[38;5;241;43m.\u001b[39;49m\u001b[43m_engine\u001b[49m\u001b[38;5;241;43m.\u001b[39;49m\u001b[43mget_loc\u001b[49m\u001b[43m(\u001b[49m\u001b[43mcasted_key\u001b[49m\u001b[43m)\u001b[49m\n\u001b[1;32m   3081\u001b[0m \u001b[38;5;28;01mexcept\u001b[39;00m \u001b[38;5;167;01mKeyError\u001b[39;00m \u001b[38;5;28;01mas\u001b[39;00m err:\n",
      "File \u001b[0;32mpandas/_libs/index.pyx:70\u001b[0m, in \u001b[0;36mpandas._libs.index.IndexEngine.get_loc\u001b[0;34m()\u001b[0m\n",
      "File \u001b[0;32mpandas/_libs/index.pyx:101\u001b[0m, in \u001b[0;36mpandas._libs.index.IndexEngine.get_loc\u001b[0;34m()\u001b[0m\n",
      "File \u001b[0;32mpandas/_libs/hashtable_class_helper.pxi:4554\u001b[0m, in \u001b[0;36mpandas._libs.hashtable.PyObjectHashTable.get_item\u001b[0;34m()\u001b[0m\n",
      "File \u001b[0;32mpandas/_libs/hashtable_class_helper.pxi:4562\u001b[0m, in \u001b[0;36mpandas._libs.hashtable.PyObjectHashTable.get_item\u001b[0;34m()\u001b[0m\n",
      "\u001b[0;31mKeyError\u001b[0m: 'cluster_index'",
      "\nThe above exception was the direct cause of the following exception:\n",
      "\u001b[0;31mKeyError\u001b[0m                                  Traceback (most recent call last)",
      "Cell \u001b[0;32mIn[4], line 9\u001b[0m\n\u001b[1;32m      7\u001b[0m     trees\u001b[38;5;241m.\u001b[39mappend(tree)\n\u001b[1;32m      8\u001b[0m run_names \u001b[38;5;241m=\u001b[39m [\u001b[38;5;124mf\u001b[39m\u001b[38;5;124m\"\u001b[39m\u001b[38;5;132;01m{\u001b[39;00mpid\u001b[38;5;132;01m}\u001b[39;00m\u001b[38;5;124m_calibrate\u001b[39m\u001b[38;5;124m\"\u001b[39m \u001b[38;5;28;01mfor\u001b[39;00m pid \u001b[38;5;129;01min\u001b[39;00m PATIENTS]\n\u001b[0;32m----> 9\u001b[0m \u001b[43mcalibrate\u001b[49m\u001b[43m(\u001b[49m\u001b[43mtrees\u001b[49m\u001b[43m,\u001b[49m\u001b[43m \u001b[49m\u001b[43mref_var_fns\u001b[49m\u001b[43m,\u001b[49m\u001b[43m \u001b[49m\u001b[43mprint_config\u001b[49m\u001b[43m,\u001b[49m\u001b[43m \u001b[49m\u001b[43mOUTPUT_DIR\u001b[49m\u001b[43m,\u001b[49m\u001b[43m \u001b[49m\u001b[43mrun_names\u001b[49m\u001b[43m,\u001b[49m\u001b[43m \u001b[49m\u001b[43mbias_weights\u001b[49m\u001b[38;5;241;43m=\u001b[39;49m\u001b[38;5;28;43;01mTrue\u001b[39;49;00m\u001b[43m,\u001b[49m\u001b[43m \u001b[49m\u001b[43mcustom_colors\u001b[49m\u001b[38;5;241;43m=\u001b[39;49m\u001b[43mCOLORS\u001b[49m\u001b[43m,\u001b[49m\u001b[43m \u001b[49m\u001b[43msolve_polytomies\u001b[49m\u001b[38;5;241;43m=\u001b[39;49m\u001b[38;5;28;43;01mFalse\u001b[39;49;00m\u001b[43m)\u001b[49m\n",
      "File \u001b[0;32m/lila/data/morrisq/divyak/projects/metient/metient/metient.py:19\u001b[0m, in \u001b[0;36mcalibrate\u001b[0;34m(tree_fns, tsv_fns, print_config, output_dir, run_names, Os, batch_size, custom_colors, bias_weights, solve_polytomies)\u001b[0m\n\u001b[1;32m     17\u001b[0m \u001b[38;5;28;01mdef\u001b[39;00m \u001b[38;5;21mcalibrate\u001b[39m(tree_fns, tsv_fns, print_config, output_dir, run_names, \n\u001b[1;32m     18\u001b[0m               Os\u001b[38;5;241m=\u001b[39m\u001b[38;5;28;01mNone\u001b[39;00m, batch_size\u001b[38;5;241m=\u001b[39m\u001b[38;5;241m-\u001b[39m\u001b[38;5;241m1\u001b[39m, custom_colors\u001b[38;5;241m=\u001b[39m\u001b[38;5;28;01mNone\u001b[39;00m, bias_weights\u001b[38;5;241m=\u001b[39m\u001b[38;5;28;01mTrue\u001b[39;00m,  solve_polytomies\u001b[38;5;241m=\u001b[39m\u001b[38;5;28;01mFalse\u001b[39;00m):\n\u001b[0;32m---> 19\u001b[0m     \u001b[38;5;28;01mreturn\u001b[39;00m \u001b[43mvert_label\u001b[49m\u001b[38;5;241;43m.\u001b[39;49m\u001b[43mcalibrate\u001b[49m\u001b[43m(\u001b[49m\u001b[43mtree_fns\u001b[49m\u001b[43m,\u001b[49m\u001b[43m \u001b[49m\u001b[43mtsv_fns\u001b[49m\u001b[43m,\u001b[49m\u001b[43m \u001b[49m\u001b[43mprint_config\u001b[49m\u001b[43m,\u001b[49m\u001b[43m \u001b[49m\u001b[43moutput_dir\u001b[49m\u001b[43m,\u001b[49m\u001b[43m \u001b[49m\u001b[43mrun_names\u001b[49m\u001b[43m,\u001b[49m\u001b[43m \u001b[49m\u001b[43mOs\u001b[49m\u001b[38;5;241;43m=\u001b[39;49m\u001b[43mOs\u001b[49m\u001b[43m,\u001b[49m\u001b[43m \u001b[49m\u001b[43mbatch_size\u001b[49m\u001b[38;5;241;43m=\u001b[39;49m\u001b[43mbatch_size\u001b[49m\u001b[43m,\u001b[49m\u001b[43m \u001b[49m\n\u001b[1;32m     20\u001b[0m \u001b[43m                                \u001b[49m\u001b[43mcustom_colors\u001b[49m\u001b[38;5;241;43m=\u001b[39;49m\u001b[43mcustom_colors\u001b[49m\u001b[43m,\u001b[49m\u001b[43m \u001b[49m\u001b[43mbias_weights\u001b[49m\u001b[38;5;241;43m=\u001b[39;49m\u001b[43mbias_weights\u001b[49m\u001b[43m,\u001b[49m\u001b[43m \u001b[49m\u001b[43msolve_polytomies\u001b[49m\u001b[38;5;241;43m=\u001b[39;49m\u001b[43msolve_polytomies\u001b[49m\u001b[43m)\u001b[49m\n",
      "File \u001b[0;32m/lila/data/morrisq/divyak/projects/metient/metient/lib/vertex_labeling.py:518\u001b[0m, in \u001b[0;36mcalibrate\u001b[0;34m(tree_fns, tsv_fns, print_config, output_dir, run_names, Os, batch_size, custom_colors, bias_weights, solve_polytomies, estimate_observed_clones)\u001b[0m\n\u001b[1;32m    511\u001b[0m \u001b[38;5;28;01mdef\u001b[39;00m \u001b[38;5;21mcalibrate\u001b[39m(tree_fns, tsv_fns, print_config, output_dir, run_names,\n\u001b[1;32m    512\u001b[0m               Os, batch_size, custom_colors, bias_weights, solve_polytomies, estimate_observed_clones\u001b[38;5;241m=\u001b[39m\u001b[38;5;28;01mTrue\u001b[39;00m):\n\u001b[1;32m    513\u001b[0m \u001b[38;5;250m    \u001b[39m\u001b[38;5;124;03m'''\u001b[39;00m\n\u001b[1;32m    514\u001b[0m \u001b[38;5;124;03m    Estimate observed clone proportions and labeling of clone tree for a cohort of patients,\u001b[39;00m\n\u001b[1;32m    515\u001b[0m \u001b[38;5;124;03m    calibrate parsimony weights to metastasis priors\u001b[39;00m\n\u001b[1;32m    516\u001b[0m \u001b[38;5;124;03m    '''\u001b[39;00m\n\u001b[0;32m--> 518\u001b[0m     Ts, pooled_tsv_fns \u001b[38;5;241m=\u001b[39m \u001b[43mprep_inputs\u001b[49m\u001b[43m(\u001b[49m\u001b[43mtree_fns\u001b[49m\u001b[43m,\u001b[49m\u001b[43m \u001b[49m\u001b[43mtsv_fns\u001b[49m\u001b[43m,\u001b[49m\u001b[43m \u001b[49m\u001b[43mrun_names\u001b[49m\u001b[43m,\u001b[49m\u001b[43m \u001b[49m\u001b[43mestimate_observed_clones\u001b[49m\u001b[43m,\u001b[49m\u001b[43m \u001b[49m\u001b[43moutput_dir\u001b[49m\u001b[43m)\u001b[49m\n\u001b[1;32m    520\u001b[0m     \u001b[38;5;66;03m# Only use maximum parsimony metrics when initially searching for high likelihood trees\u001b[39;00m\n\u001b[1;32m    521\u001b[0m     weights \u001b[38;5;241m=\u001b[39m met\u001b[38;5;241m.\u001b[39mWeights(mig\u001b[38;5;241m=\u001b[39mDEFAULT_CALIBRATE_MIG_WEIGHTS, comig\u001b[38;5;241m=\u001b[39mDEFAULT_CALIBRATE_COMIG_WEIGHTS, \n\u001b[1;32m    522\u001b[0m                           seed_site\u001b[38;5;241m=\u001b[39mDEFAULT_CALIBRATE_SEED_WEIGHTS, gen_dist\u001b[38;5;241m=\u001b[39m\u001b[38;5;241m0.0\u001b[39m, \n\u001b[1;32m    523\u001b[0m                           organotrop\u001b[38;5;241m=\u001b[39m\u001b[38;5;241m0.0\u001b[39m)\n",
      "File \u001b[0;32m/lila/data/morrisq/divyak/projects/metient/metient/lib/vertex_labeling.py:466\u001b[0m, in \u001b[0;36mprep_inputs\u001b[0;34m(tree_fns, tsv_fns, run_names, estimate_observed_clones, output_dir)\u001b[0m\n\u001b[1;32m    464\u001b[0m     pooled_tsv_fns \u001b[38;5;241m=\u001b[39m []\n\u001b[1;32m    465\u001b[0m     \u001b[38;5;28;01mfor\u001b[39;00m tsv_fn, run_name \u001b[38;5;129;01min\u001b[39;00m \u001b[38;5;28mzip\u001b[39m(tsv_fns, run_names):\n\u001b[0;32m--> 466\u001b[0m         pooled_tsv_fns\u001b[38;5;241m.\u001b[39mappend(\u001b[43mdutil\u001b[49m\u001b[38;5;241;43m.\u001b[39;49m\u001b[43mpool_input_tsv\u001b[49m\u001b[43m(\u001b[49m\u001b[43mtsv_fn\u001b[49m\u001b[43m,\u001b[49m\u001b[43m \u001b[49m\u001b[43moutput_dir\u001b[49m\u001b[43m,\u001b[49m\u001b[43m \u001b[49m\u001b[38;5;124;43mf\u001b[39;49m\u001b[38;5;124;43m\"\u001b[39;49m\u001b[38;5;124;43mtmp_\u001b[39;49m\u001b[38;5;132;43;01m{\u001b[39;49;00m\u001b[43mrun_name\u001b[49m\u001b[38;5;132;43;01m}\u001b[39;49;00m\u001b[38;5;124;43m\"\u001b[39;49m\u001b[43m)\u001b[49m)\n\u001b[1;32m    467\u001b[0m \u001b[38;5;28;01melse\u001b[39;00m:\n\u001b[1;32m    468\u001b[0m     \u001b[38;5;28;01mfor\u001b[39;00m tsv_fn \u001b[38;5;129;01min\u001b[39;00m tsv_fns:\n",
      "File \u001b[0;32m/lila/data/morrisq/divyak/projects/metient/metient/util/data_extraction_util.py:88\u001b[0m, in \u001b[0;36mpool_input_tsv\u001b[0;34m(tsv_fn, output_dir, run_name)\u001b[0m\n\u001b[1;32m     84\u001b[0m \u001b[38;5;250m\u001b[39m\u001b[38;5;124;03m'''\u001b[39;00m\n\u001b[1;32m     85\u001b[0m \u001b[38;5;124;03mPool reads from the same anatomical site index and cluster index\u001b[39;00m\n\u001b[1;32m     86\u001b[0m \u001b[38;5;124;03m'''\u001b[39;00m\n\u001b[1;32m     87\u001b[0m df \u001b[38;5;241m=\u001b[39m pd\u001b[38;5;241m.\u001b[39mread_csv(tsv_fn, delimiter\u001b[38;5;241m=\u001b[39m\u001b[38;5;124m\"\u001b[39m\u001b[38;5;130;01m\\t\u001b[39;00m\u001b[38;5;124m\"\u001b[39m, index_col\u001b[38;5;241m=\u001b[39m\u001b[38;5;28;01mFalse\u001b[39;00m)  \n\u001b[0;32m---> 88\u001b[0m \u001b[43mvalidate_unpooled_or_pooled_df\u001b[49m\u001b[43m(\u001b[49m\u001b[43mdf\u001b[49m\u001b[43m,\u001b[49m\u001b[43m \u001b[49m\u001b[43mtsv_fn\u001b[49m\u001b[43m,\u001b[49m\u001b[43m \u001b[49m\u001b[43m[\u001b[49m\u001b[38;5;124;43m'\u001b[39;49m\u001b[38;5;124;43manatomical_site_index\u001b[39;49m\u001b[38;5;124;43m'\u001b[39;49m\u001b[43m,\u001b[49m\u001b[43m \u001b[49m\u001b[38;5;124;43m'\u001b[39;49m\u001b[38;5;124;43mcluster_index\u001b[39;49m\u001b[38;5;124;43m'\u001b[39;49m\u001b[43m,\u001b[49m\u001b[43m \u001b[49m\u001b[38;5;124;43m'\u001b[39;49m\u001b[38;5;124;43mcharacter_index\u001b[39;49m\u001b[38;5;124;43m'\u001b[39;49m\u001b[43m]\u001b[49m\u001b[43m)\u001b[49m\n\u001b[1;32m     89\u001b[0m df[\u001b[38;5;124m'\u001b[39m\u001b[38;5;124mcluster_index\u001b[39m\u001b[38;5;124m'\u001b[39m] \u001b[38;5;241m=\u001b[39m df[\u001b[38;5;124m'\u001b[39m\u001b[38;5;124mcluster_index\u001b[39m\u001b[38;5;124m'\u001b[39m]\u001b[38;5;241m.\u001b[39mastype(\u001b[38;5;28mint\u001b[39m)\n\u001b[1;32m     90\u001b[0m \u001b[38;5;66;03m# Check that each character index maps to only one character label\u001b[39;00m\n",
      "File \u001b[0;32m/lila/data/morrisq/divyak/projects/metient/metient/util/data_extraction_util.py:58\u001b[0m, in \u001b[0;36mvalidate_unpooled_or_pooled_df\u001b[0;34m(df, tsv_fn, index_cols)\u001b[0m\n\u001b[1;32m     56\u001b[0m \u001b[38;5;66;03m# Check if all index columns are whole numbers, and convert to int if needed\u001b[39;00m\n\u001b[1;32m     57\u001b[0m \u001b[38;5;28;01mfor\u001b[39;00m index_col \u001b[38;5;129;01min\u001b[39;00m index_cols:\n\u001b[0;32m---> 58\u001b[0m     \u001b[38;5;28;01massert\u001b[39;00m \u001b[43mdf\u001b[49m\u001b[43m[\u001b[49m\u001b[43mindex_col\u001b[49m\u001b[43m]\u001b[49m\u001b[38;5;241m.\u001b[39mdtype \u001b[38;5;129;01min\u001b[39;00m [\u001b[38;5;124m'\u001b[39m\u001b[38;5;124mint64\u001b[39m\u001b[38;5;124m'\u001b[39m, \u001b[38;5;124m'\u001b[39m\u001b[38;5;124mfloat64\u001b[39m\u001b[38;5;124m'\u001b[39m], \u001b[38;5;124mf\u001b[39m\u001b[38;5;124m\"\u001b[39m\u001b[38;5;132;01m{\u001b[39;00mindex_col\u001b[38;5;132;01m}\u001b[39;00m\u001b[38;5;124m column is not int or float\u001b[39m\u001b[38;5;124m\"\u001b[39m\n\u001b[1;32m     59\u001b[0m     \u001b[38;5;28;01mif\u001b[39;00m df[index_col]\u001b[38;5;241m.\u001b[39mdtype \u001b[38;5;241m==\u001b[39m \u001b[38;5;124m'\u001b[39m\u001b[38;5;124mfloat64\u001b[39m\u001b[38;5;124m'\u001b[39m:\n\u001b[1;32m     60\u001b[0m         is_whole_number \u001b[38;5;241m=\u001b[39m df[index_col]\u001b[38;5;241m.\u001b[39mapply(\u001b[38;5;28;01mlambda\u001b[39;00m x: x\u001b[38;5;241m.\u001b[39mis_integer())\n",
      "File \u001b[0;32m/lila/home/koyyald/mambaforge/envs/met/lib/python3.8/site-packages/pandas/core/frame.py:3024\u001b[0m, in \u001b[0;36mDataFrame.__getitem__\u001b[0;34m(self, key)\u001b[0m\n\u001b[1;32m   3022\u001b[0m \u001b[38;5;28;01mif\u001b[39;00m \u001b[38;5;28mself\u001b[39m\u001b[38;5;241m.\u001b[39mcolumns\u001b[38;5;241m.\u001b[39mnlevels \u001b[38;5;241m>\u001b[39m \u001b[38;5;241m1\u001b[39m:\n\u001b[1;32m   3023\u001b[0m     \u001b[38;5;28;01mreturn\u001b[39;00m \u001b[38;5;28mself\u001b[39m\u001b[38;5;241m.\u001b[39m_getitem_multilevel(key)\n\u001b[0;32m-> 3024\u001b[0m indexer \u001b[38;5;241m=\u001b[39m \u001b[38;5;28;43mself\u001b[39;49m\u001b[38;5;241;43m.\u001b[39;49m\u001b[43mcolumns\u001b[49m\u001b[38;5;241;43m.\u001b[39;49m\u001b[43mget_loc\u001b[49m\u001b[43m(\u001b[49m\u001b[43mkey\u001b[49m\u001b[43m)\u001b[49m\n\u001b[1;32m   3025\u001b[0m \u001b[38;5;28;01mif\u001b[39;00m is_integer(indexer):\n\u001b[1;32m   3026\u001b[0m     indexer \u001b[38;5;241m=\u001b[39m [indexer]\n",
      "File \u001b[0;32m/lila/home/koyyald/mambaforge/envs/met/lib/python3.8/site-packages/pandas/core/indexes/base.py:3082\u001b[0m, in \u001b[0;36mIndex.get_loc\u001b[0;34m(self, key, method, tolerance)\u001b[0m\n\u001b[1;32m   3080\u001b[0m         \u001b[38;5;28;01mreturn\u001b[39;00m \u001b[38;5;28mself\u001b[39m\u001b[38;5;241m.\u001b[39m_engine\u001b[38;5;241m.\u001b[39mget_loc(casted_key)\n\u001b[1;32m   3081\u001b[0m     \u001b[38;5;28;01mexcept\u001b[39;00m \u001b[38;5;167;01mKeyError\u001b[39;00m \u001b[38;5;28;01mas\u001b[39;00m err:\n\u001b[0;32m-> 3082\u001b[0m         \u001b[38;5;28;01mraise\u001b[39;00m \u001b[38;5;167;01mKeyError\u001b[39;00m(key) \u001b[38;5;28;01mfrom\u001b[39;00m \u001b[38;5;21;01merr\u001b[39;00m\n\u001b[1;32m   3084\u001b[0m \u001b[38;5;28;01mif\u001b[39;00m tolerance \u001b[38;5;129;01mis\u001b[39;00m \u001b[38;5;129;01mnot\u001b[39;00m \u001b[38;5;28;01mNone\u001b[39;00m:\n\u001b[1;32m   3085\u001b[0m     tolerance \u001b[38;5;241m=\u001b[39m \u001b[38;5;28mself\u001b[39m\u001b[38;5;241m.\u001b[39m_convert_tolerance(tolerance, np\u001b[38;5;241m.\u001b[39masarray(key))\n",
      "\u001b[0;31mKeyError\u001b[0m: 'cluster_index'"
     ]
    }
   ],
   "source": [
    "mut_trees_fns = [os.path.join(TREE_DIR, f\"{patient_id}_mut_trees.txt\") for patient_id in PATIENTS]\n",
    "ref_var_fns = [os.path.join(TSV_DIR, f\"{patient_id}_metient_input.tsv\") for patient_id in PATIENTS]\n",
    "trees = []\n",
    "for mut_tree_fn,idx_to_label in zip(mut_trees_fns, idx_to_labels):\n",
    "    tree, pruned_idx_to_label = dutil.get_adj_matrices_from_spruce_mutation_trees(mut_tree_fn, idx_to_label)[0]\n",
    "    assert(idx_to_label==pruned_idx_to_label)\n",
    "    trees.append(tree)\n",
    "run_names = [f\"{pid}_calibrate\" for pid in PATIENTS]\n",
    "calibrate(trees, ref_var_fns, print_config, OUTPUT_DIR, run_names, bias_weights=True, custom_colors=COLORS, solve_polytomies=False)\n"
   ]
  },
  {
   "cell_type": "code",
   "execution_count": null,
   "id": "540648b5",
   "metadata": {},
   "outputs": [],
   "source": []
  }
 ],
 "metadata": {
  "kernelspec": {
   "display_name": "Python [conda env:met]",
   "language": "python",
   "name": "conda-env-met-py"
  },
  "language_info": {
   "codemirror_mode": {
    "name": "ipython",
    "version": 3
   },
   "file_extension": ".py",
   "mimetype": "text/x-python",
   "name": "python",
   "nbconvert_exporter": "python",
   "pygments_lexer": "ipython3",
   "version": "3.8.0"
  }
 },
 "nbformat": 4,
 "nbformat_minor": 5
}
