{
 "cells": [
  {
   "cell_type": "markdown",
   "id": "e26cadb6-d5bb-46b9-8bf4-054840705496",
   "metadata": {},
   "source": [
    "## Test migration history reconstruction on Sanborn et. al. Melanoma data"
   ]
  },
  {
   "cell_type": "code",
   "execution_count": 1,
   "id": "5386c262",
   "metadata": {},
   "outputs": [
    {
     "name": "stdout",
     "output_type": "stream",
     "text": [
      "CUDA GPU: False\n"
     ]
    }
   ],
   "source": [
    "import sys\n",
    "import os\n",
    "\n",
    "repo_dir = os.path.join(os.getcwd(), \"../../\")\n",
    "\n",
    "from metient.metient import *\n",
    "from metient.util import pairtree_data_extraction_util as ptutil\n",
    "\n",
    "import matplotlib\n",
    "import torch\n",
    "\n",
    "matplotlib.rcParams['figure.figsize'] = [3, 3]\n",
    "SANBORN_DATA_DIR = os.path.join(repo_dir, 'data', 'sanborn_melanoma_2015')\n",
    "TREE_DIR = os.path.join(SANBORN_DATA_DIR, 'orchard_trees')    \n",
    "TSV_DIR = os.path.join(SANBORN_DATA_DIR, 'pyclone_clustered_tsvs')                 \n",
    "\n",
    "OUTPUT_DIR = os.path.join(SANBORN_DATA_DIR, \"metient_outputs\",\"solve_polys\")\n",
    "if not os.path.exists(OUTPUT_DIR):\n",
    "    os.makedirs(OUTPUT_DIR)\n",
    "    \n",
    "PATIENT_IDS = ['A', 'B', 'C', 'D', 'E', 'F', 'G', 'H']\n",
    "\n",
    "print_config = PrintConfig(visualize=True, k_best_trees=20)\n"
   ]
  },
  {
   "cell_type": "markdown",
   "id": "47ff0c0d",
   "metadata": {},
   "source": [
    "### Run all patients in calibrate mode"
   ]
  },
  {
   "cell_type": "code",
   "execution_count": null,
   "id": "3d8cc0dc",
   "metadata": {
    "scrolled": false
   },
   "outputs": [
    {
     "name": "stdout",
     "output_type": "stream",
     "text": [
      "Saving results to /lila/data/morrisq/divyak/projects/metient/metient/jupyter_notebooks/migration_history_running/../../data/sanborn_melanoma_2015/metient_outputs/solve_polys/calibrate\n",
      "Overwriting existing directory at /lila/data/morrisq/divyak/projects/metient/metient/jupyter_notebooks/migration_history_running/../../data/sanborn_melanoma_2015/metient_outputs/solve_polys/calibrate\n",
      "\n",
      "*** Calibrating for patient: A_calibrate ***\n",
      "ordered_sites ['Primary, forehead', 'Parotid metastasis', 'Locoregional skin metastasis 1, forehead', 'Locoregional skin metastasis 2, angle jaw']\n",
      "calculate_batch_size 2048\n"
     ]
    },
    {
     "name": "stderr",
     "output_type": "stream",
     "text": [
      "  4%|▍         | 8/200 [00:00<00:02, 79.62it/s]"
     ]
    },
    {
     "name": "stdout",
     "output_type": "stream",
     "text": [
      "No potential polytomies to solve, not resolving polytomies.\n"
     ]
    },
    {
     "name": "stderr",
     "output_type": "stream",
     "text": [
      " 49%|████▉     | 98/200 [00:00<00:00, 118.02it/s]/lila/data/morrisq/divyak/projects/metient/metient/lib/vertex_labeling.py:690: UserWarning: The use of `x.T` on tensors of dimension other than 2 to reverse their shape is deprecated and it will throw an error in a future release. Consider `x.mT` to transpose batches of matrices or `x.permute(*torch.arange(x.ndim - 1, -1, -1))` to reverse the dimensions of a tensor. (Triggered internally at ../aten/src/ATen/native/TensorShape.cpp:3614.)\n",
      "  known_labelings.append(torch.eye(num_sites)[optimal_site].T)\n",
      "100%|██████████| 200/200 [00:02<00:00, 85.51it/s] \n"
     ]
    },
    {
     "name": "stdout",
     "output_type": "stream",
     "text": [
      "pareto_metrics [(7, 3, 1), (7, 3, 1), (7, 3, 1)]\n",
      "# final solutions: 2\n",
      "\n",
      "*** Calibrating for patient: B_calibrate ***\n",
      "ordered_sites ['Primary, mid-left back', 'Lymph node metastasis, left axilla', 'Locoregional skin metastasis 1, left back', 'Locoregional skin metastasis 2, left axilla']\n",
      "calculate_batch_size 2048\n"
     ]
    },
    {
     "name": "stderr",
     "output_type": "stream",
     "text": [
      "100%|██████████| 200/200 [00:03<00:00, 50.11it/s]\n"
     ]
    },
    {
     "name": "stdout",
     "output_type": "stream",
     "text": [
      "pareto_metrics [(4, 3, 1), (4, 3, 1)]\n",
      "# final solutions: 2\n",
      "\n",
      "*** Calibrating for patient: C_calibrate ***\n",
      "ordered_sites ['Primary, right lower calf', 'Locoregional skin metastasis 1, right calf', 'Locoregional skin metastasis 2, right mid-calf']\n",
      "calculate_batch_size 2048\n"
     ]
    },
    {
     "name": "stderr",
     "output_type": "stream",
     "text": [
      "100%|██████████| 200/200 [00:03<00:00, 57.11it/s]\n"
     ]
    },
    {
     "name": "stdout",
     "output_type": "stream",
     "text": [
      "pareto_metrics [(4, 2, 1), (4, 2, 1)]\n",
      "# final solutions: 1\n",
      "\n",
      "*** Calibrating for patient: D_calibrate ***\n",
      "ordered_sites ['Primary, right ankle', 'Lymph node metastasis, right groin', 'Locoregional skin metastasis 1, right ankle', 'Locoregional skin metastasis 2, right leg']\n",
      "calculate_batch_size 2048\n"
     ]
    },
    {
     "name": "stderr",
     "output_type": "stream",
     "text": [
      "100%|██████████| 200/200 [00:04<00:00, 47.95it/s]\n"
     ]
    },
    {
     "name": "stdout",
     "output_type": "stream",
     "text": [
      "pareto_metrics [(7, 3, 1), (7, 3, 1)]\n",
      "# final solutions: 1\n",
      "\n",
      "*** Calibrating for patient: E_calibrate ***\n",
      "ordered_sites ['Primary, left heel', 'Locoregional skin metastasis 1, left heel', 'Locoregional skin metastasis 2, left heel', 'Lymph node metastasis, left groin', 'Locoregional skin metastasis 3, left heel']\n",
      "calculate_batch_size 2056\n"
     ]
    },
    {
     "name": "stderr",
     "output_type": "stream",
     "text": [
      "100%|██████████| 200/200 [00:06<00:00, 33.05it/s]\n"
     ]
    },
    {
     "name": "stdout",
     "output_type": "stream",
     "text": [
      "pareto_metrics [(10, 4, 1), (9, 5, 2)]\n",
      "# final solutions: 2\n",
      "\n",
      "*** Calibrating for patient: F_calibrate ***\n",
      "ordered_sites ['Primary, left ear', 'Lymph node metastasis, left cervical node', 'Locoregional skin metastasis, left ear', 'Distant skin metastasis, back']\n",
      "calculate_batch_size 2048\n"
     ]
    },
    {
     "name": "stderr",
     "output_type": "stream",
     "text": [
      " 48%|████▊     | 97/200 [00:02<00:02, 51.31it/s]"
     ]
    }
   ],
   "source": [
    "#%%prun\n",
    "mut_trees_fns = [os.path.join(TREE_DIR, f\"{patient_id}.results.npz\") for patient_id in PATIENT_IDS]\n",
    "trees = [data[0] for data in ptutil.get_adj_matrices_from_pairtree_results(mut_trees_fns)]\n",
    "ref_var_fns = [os.path.join(TSV_DIR, f\"{patient_id}_SNVs.tsv\") for patient_id in PATIENT_IDS]\n",
    "run_names = [f\"{pid}_calibrate\" for pid in PATIENT_IDS]\n",
    "\n",
    "calibrate(trees, ref_var_fns, print_config, OUTPUT_DIR, run_names, bias_weights=True,solve_polytomies=True)\n"
   ]
  },
  {
   "cell_type": "code",
   "execution_count": null,
   "id": "c6c8f3b8",
   "metadata": {},
   "outputs": [],
   "source": []
  }
 ],
 "metadata": {
  "kernelspec": {
   "display_name": "Python [conda env:met]",
   "language": "python",
   "name": "conda-env-met-py"
  },
  "language_info": {
   "codemirror_mode": {
    "name": "ipython",
    "version": 3
   },
   "file_extension": ".py",
   "mimetype": "text/x-python",
   "name": "python",
   "nbconvert_exporter": "python",
   "pygments_lexer": "ipython3",
   "version": "3.8.0"
  }
 },
 "nbformat": 4,
 "nbformat_minor": 5
}
