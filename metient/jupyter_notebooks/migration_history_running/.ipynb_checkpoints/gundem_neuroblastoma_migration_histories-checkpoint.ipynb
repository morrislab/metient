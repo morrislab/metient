{
 "cells": [
  {
   "cell_type": "code",
   "execution_count": 1,
   "id": "06d9eade",
   "metadata": {},
   "outputs": [
    {
     "name": "stdout",
     "output_type": "stream",
     "text": [
      "CUDA GPU: False\n",
      "['H116990', 'H116984', 'H132376', 'H134819', 'H132380', 'H132388', 'H112908', 'H132392', 'H134817', 'H132382', 'H116991', 'H112910', 'H133120', 'H118706', 'H112909', 'H116989', 'H103207', 'H132374', 'H134821', 'H134822', 'H132372', 'H132381', 'H132396', 'H116988', 'H132387', 'H132379', 'H132384']\n"
     ]
    }
   ],
   "source": [
    "import sys\n",
    "import os\n",
    "from metient.metient import *\n",
    "from metient.util import pairtree_data_extraction_util as ptutil\n",
    "\n",
    "import matplotlib\n",
    "\n",
    "matplotlib.rcParams['figure.figsize'] = [3, 3]\n",
    "\n",
    "repo_dir = os.path.join(os.getcwd(), \"../../\")\n",
    "MSK_MET_FN = os.path.join(repo_dir, 'data/msk_met/msk_met_freq_by_cancer_type.csv')\n",
    "      \n",
    "DATA_DIR = '/data/morrisq/divyak/data/gundem_neuroblastoma_2023/'\n",
    "TREE_DIR = os.path.join(DATA_DIR, 'orchard_trees')    \n",
    "TSV_DIR = os.path.join(DATA_DIR, 'clustered_tsvs')                 \n",
    "\n",
    "OUTPUT_DIR = os.path.join(repo_dir, \"data\", \"gundem_neuroblastoma_2023\", \"metient_outputs\", \"solve_polys\")\n",
    "if not os.path.exists(OUTPUT_DIR):\n",
    "    os.makedirs(OUTPUT_DIR)\n",
    "    \n",
    "print_config = PrintConfig(visualize=True, k_best_trees=1000)\n",
    "\n",
    "patient_ids = [x.replace(\"_SNVs.tsv\", \"\") for x in os.listdir(TSV_DIR)]\n",
    "\n",
    "print(patient_ids)\n",
    "len(patient_ids)\n",
    "patient_ids=['H118706']"
   ]
  },
  {
   "cell_type": "code",
   "execution_count": 3,
   "id": "832bfc98",
   "metadata": {
    "scrolled": false
   },
   "outputs": [
    {
     "name": "stdout",
     "output_type": "stream",
     "text": [
      "Saving results to /lila/data/morrisq/divyak/projects/metient/metient/jupyter_notebooks/migration_history_running/../../data/gundem_neuroblastoma_2023/metient_outputs/solve_polys/calibrate\n",
      "Overwriting existing directory at /lila/data/morrisq/divyak/projects/metient/metient/jupyter_notebooks/migration_history_running/../../data/gundem_neuroblastoma_2023/metient_outputs/solve_polys/calibrate\n",
      "\n",
      "*** Calibrating for patient: H118706_calibrate ***\n",
      "ordered_sites ['right lung lower lobe', 'liver anterior dome', 'paraaortic lymph node', 'liver', 'left lung lower lobe', 'primary, right adrenal']\n"
     ]
    },
    {
     "name": "stderr",
     "output_type": "stream",
     "text": [
      "\r",
      "  0%|          | 0/450 [00:00<?, ?it/s]"
     ]
    },
    {
     "name": "stdout",
     "output_type": "stream",
     "text": [
      "starting dict_keys([0, 1, 2, 3, 4, 5, 6, 7, 8, 9, 10, 11, 12, 13, 14, 15, 16, 17, 18, 19, 20, 21, 22, 23, 24, 25, 26, 27, 28, 29, 30, 31, 32, 33, 34, 35])\n",
      "w leaf nodes dict_keys([0, 1, 2, 3, 4, 5, 6, 7, 8, 9, 10, 11, 12, 13, 14, 15, 16, 17, 18, 19, 20, 21, 22, 23, 24, 25, 26, 27, 28, 29, 30, 31, 32, 33, 34, 35, 36, 37, 38, 39, 40, 41, 42, 43, 44, 45, 46, 47, 48, 49, 50])\n",
      "node indices not well estimated [2, 3, 5, 6, 11, 16, 18, 20, 21, 25, 30]\n",
      "u optim dict_keys([0, 1, 2, 3, 4, 5, 6, 7, 8, 9, 10, 11, 12, 13, 14, 15, 16, 17, 18, 19, 20, 21, 22, 23, 24, 25, 26, 27, 28, 29, 30, 31, 32, 33, 34, 35, 36, 37, 38, 39])\n",
      "in poly res dict_keys([0, 1, 2, 3, 4, 5, 6, 7, 8, 9, 10, 11, 12, 13, 14, 15, 16, 17, 18, 19, 20, 21, 22, 23, 24, 41, 40, 39, 38, 37, 36, 35, 34, 33, 32, 31, 30, 29, 28, 27, 25, 26])\n"
     ]
    },
    {
     "name": "stderr",
     "output_type": "stream",
     "text": [
      " 11%|█         | 50/450 [00:15<02:07,  3.14it/s]/lila/data/morrisq/divyak/projects/metient/metient/lib/v_optimizer.py:423: UserWarning: The use of `x.T` on tensors of dimension other than 2 to reverse their shape is deprecated and it will throw an error in a future release. Consider `x.mT` to transpose batches of matrices or `x.permute(*torch.arange(x.ndim - 1, -1, -1))` to reverse the dimensions of a tensor. (Triggered internally at ../aten/src/ATen/native/TensorShape.cpp:3614.)\n",
      "  known_labelings.append(torch.eye(v_solver.num_sites)[optimal_site].T)\n",
      "100%|██████████| 450/450 [01:59<00:00,  3.94it/s]"
     ]
    },
    {
     "name": "stdout",
     "output_type": "stream",
     "text": [
      "T before any pruning torch.Size([42, 42])\n",
      "pareto_metrics {(10, 7, 3), (11, 7, 2), (9, 8, 3), (8, 6, 4), (11, 6, 3), (12, 5, 1)}\n",
      "# final solutions: 7\n",
      "in plotting torch.Size([41, 41]) dict_keys([0, 1, 2, 3, 4, 5, 6, 7, 8, 9, 10, 11, 12, 13, 14, 15, 16, 17, 18, 19, 20, 21, 22, 23, 24, 25, 26, 27, 28, 29, 30, 31, 32, 33, 34, 35, 36, 37, 38, 39, 40])\n",
      "in plotting torch.Size([41, 41]) dict_keys([0, 1, 2, 3, 4, 5, 6, 7, 8, 9, 10, 11, 12, 13, 14, 15, 16, 17, 18, 19, 20, 21, 22, 23, 24, 25, 26, 27, 28, 29, 30, 31, 32, 33, 34, 35, 36, 37, 38, 39, 40])\n",
      "in plotting torch.Size([41, 41]) dict_keys([0, 1, 2, 3, 4, 5, 6, 7, 8, 9, 10, 11, 12, 13, 14, 15, 16, 17, 18, 19, 20, 21, 22, 23, 24, 25, 26, 27, 28, 29, 30, 31, 32, 33, 34, 35, 36, 37, 38, 39, 40])\n",
      "in plotting torch.Size([41, 41]) dict_keys([0, 1, 2, 3, 4, 5, 6, 7, 8, 9, 10, 11, 12, 13, 14, 15, 16, 17, 18, 19, 20, 21, 22, 23, 24, 25, 26, 27, 28, 29, 30, 31, 32, 33, 34, 35, 36, 37, 38, 39, 40])\n",
      "in plotting torch.Size([40, 40]) dict_keys([0, 1, 2, 3, 4, 5, 6, 7, 8, 9, 10, 11, 12, 13, 14, 15, 16, 17, 18, 19, 20, 21, 22, 23, 24, 25, 26, 27, 28, 29, 30, 31, 32, 33, 34, 35, 36, 37, 38, 39])\n",
      "in plotting torch.Size([41, 41]) dict_keys([0, 1, 2, 3, 4, 5, 6, 7, 8, 9, 10, 11, 12, 13, 14, 15, 16, 17, 18, 19, 20, 21, 22, 23, 24, 25, 26, 27, 28, 29, 30, 31, 32, 33, 34, 35, 36, 37, 38, 39, 40])\n",
      "in plotting torch.Size([41, 41]) dict_keys([0, 1, 2, 3, 4, 5, 6, 7, 8, 9, 10, 11, 12, 13, 14, 15, 16, 17, 18, 19, 20, 21, 22, 23, 24, 25, 26, 27, 28, 29, 30, 31, 32, 33, 34, 35, 36, 37, 38, 39, 40])\n",
      "Calibrating to 1 patients\n",
      "Optimized thetas: tensor([0.48, 0.20, 0.32], grad_fn=<DivBackward0>)\n",
      "in plotting torch.Size([41, 41]) dict_keys([0, 11, 26, 1, 7, 24, 3, 18, 27, 4, 28, 6, 29, 17, 30, 8, 15, 31, 9, 22, 32, 12, 33, 13, 34, 14, 10, 35, 36, 16, 37, 38, 39, 20, 2, 25, 21, 5, 23, 40, 19])\n",
      "in plotting torch.Size([41, 41]) dict_keys([0, 11, 26, 1, 7, 24, 3, 18, 27, 4, 28, 6, 29, 17, 30, 8, 15, 31, 9, 22, 32, 12, 33, 13, 34, 14, 10, 35, 36, 16, 37, 38, 39, 20, 25, 21, 5, 23, 40, 2, 19])\n",
      "in plotting torch.Size([41, 41]) dict_keys([0, 11, 26, 1, 7, 24, 3, 18, 27, 4, 28, 6, 29, 17, 30, 8, 15, 31, 9, 22, 32, 12, 33, 13, 34, 14, 10, 35, 36, 16, 37, 38, 39, 20, 2, 25, 21, 5, 23, 40, 19])\n",
      "in plotting torch.Size([40, 40]) dict_keys([0, 11, 25, 1, 7, 24, 3, 18, 26, 4, 27, 6, 28, 17, 29, 8, 15, 30, 9, 22, 31, 12, 32, 13, 33, 14, 10, 34, 35, 16, 36, 37, 38, 20, 2, 19, 21, 5, 23, 39])\n",
      "in plotting torch.Size([41, 41]) dict_keys([0, 11, 26, 1, 7, 24, 3, 18, 27, 4, 28, 6, 29, 17, 30, 8, 15, 31, 9, 22, 32, 12, 33, 13, 34, 14, 10, 35, 36, 16, 37, 38, 39, 20, 25, 21, 5, 23, 40, 2, 19])\n",
      "in plotting torch.Size([41, 41]) dict_keys([0, 11, 26, 1, 7, 24, 3, 18, 27, 4, 28, 6, 29, 17, 30, 8, 15, 31, 9, 22, 32, 12, 33, 13, 34, 14, 10, 35, 36, 16, 37, 38, 39, 20, 25, 21, 5, 23, 40, 2, 19])\n",
      "in plotting torch.Size([41, 41]) dict_keys([0, 11, 26, 1, 7, 24, 3, 18, 27, 4, 28, 6, 29, 17, 30, 8, 15, 31, 9, 22, 32, 12, 33, 13, 34, 14, 10, 35, 36, 16, 37, 38, 39, 20, 2, 25, 21, 5, 23, 40, 19])\n"
     ]
    },
    {
     "data": {
      "text/plain": [
       "[0.48426109552383423, 0.19958281517028809, 0.3161560893058777]"
      ]
     },
     "execution_count": 3,
     "metadata": {},
     "output_type": "execute_result"
    }
   ],
   "source": [
    "# %%prun\n",
    "mut_trees_fns = [os.path.join(TREE_DIR, f\"{patient_id}.results.npz\") for patient_id in patient_ids]\n",
    "trees = [data[0] for data in ptutil.get_adj_matrices_from_pairtree_results(mut_trees_fns)]\n",
    "ref_var_fns = [os.path.join(TSV_DIR, f\"{patient_id}_SNVs.tsv\") for patient_id in patient_ids]\n",
    "run_names = [f\"{pid}_calibrate\" for pid in patient_ids]\n",
    "calibrate(trees, ref_var_fns, print_config, OUTPUT_DIR, run_names, solve_polytomies=True, batch_size=16384)\n"
   ]
  },
  {
   "cell_type": "code",
   "execution_count": null,
   "id": "48526778",
   "metadata": {},
   "outputs": [],
   "source": []
  }
 ],
 "metadata": {
  "kernelspec": {
   "display_name": "Python [conda env:met]",
   "language": "python",
   "name": "conda-env-met-py"
  },
  "language_info": {
   "codemirror_mode": {
    "name": "ipython",
    "version": 3
   },
   "file_extension": ".py",
   "mimetype": "text/x-python",
   "name": "python",
   "nbconvert_exporter": "python",
   "pygments_lexer": "ipython3",
   "version": "3.8.0"
  }
 },
 "nbformat": 4,
 "nbformat_minor": 5
}
