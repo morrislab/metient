{
 "cells": [
  {
   "cell_type": "markdown",
   "id": "af79166f",
   "metadata": {},
   "source": [
    "### For simulated data, we run the same clustering and tree inference algorithm as MACHINA for better comparison. Their tree inference algorithm gets rid of clusters sometimes. In those instances, fix up the tsvs with the correct character index to character label so that the inferred trees appropriately correspond"
   ]
  },
  {
   "cell_type": "code",
   "execution_count": 1,
   "id": "5a3a40f8",
   "metadata": {},
   "outputs": [],
   "source": [
    "import os\n",
    "\n",
    "repo_dir = os.path.join(os.getcwd(), \"../\")\n",
    "machina_sims_data_dir = os.path.join(repo_dir, 'data', 'machina_sims')"
   ]
  },
  {
   "cell_type": "code",
   "execution_count": 54,
   "id": "3cdbbcbf",
   "metadata": {},
   "outputs": [
    {
     "name": "stdout",
     "output_type": "stream",
     "text": [
      "m8 M 19 0\n",
      "OrderedDict([(0, '0'), (1, '1'), (2, '2'), (3, '3;4'), (4, '5;10'), (5, '19;21'), (6, '13;25;29'), (7, '11;12;14;31;32'), (8, '22;26;27;28;30;36;45'), (9, '6;7;9;15;18;20;35;42;43;46'), (10, '8;38;41;44;48;49;51;54;58;59'), (11, '52;61'), (12, '62'), (13, '47;50;56;57;64'), (14, '74'), (15, '75')])\n",
      "{0: '0', 1: '1', 2: '2', 3: '3;4', 4: '5;10', 5: '19;21', 6: '13;25;29', 7: '11;12;14;31;32', 8: '22;26;27;28;30;36;45', 9: '6;7;9;15;18;20;35;42;43;46', 10: '8;38;41;44;48;49;51;54;58;59', 11: '52;61', 12: '62', 13: '47;50;56;57;64', 14: '74', 15: '75'}\n",
      "{0: 0, 1: 1, 2: 2, 3: 3, 4: 3, 5: 4, 10: 4, 19: 5, 21: 5, 13: 6, 25: 6, 29: 6, 11: 7, 12: 7, 14: 7, 31: 7, 32: 7, 22: 8, 26: 8, 27: 8, 28: 8, 30: 8, 36: 8, 45: 8, 6: 9, 7: 9, 9: 9, 15: 9, 18: 9, 20: 9, 35: 9, 42: 9, 43: 9, 46: 9, 8: 10, 38: 10, 41: 10, 44: 10, 48: 10, 49: 10, 51: 10, 54: 10, 58: 10, 59: 10, 52: 11, 61: 11, 62: 12, 47: 13, 50: 13, 56: 13, 57: 13, 64: 13, 74: 14, 75: 15}\n"
     ]
    }
   ],
   "source": [
    "import fnmatch\n",
    "from metient.util import data_extraction_util as dutil\n",
    "import pandas as pd\n",
    "import numpy as np\n",
    "\n",
    "sites = [\"m8\", \"m5\"]\n",
    "mig_types = [\"M\", \"mS\", \"R\", \"S\"]\n",
    "\n",
    "for site in sites:\n",
    "\n",
    "    for mig_type in mig_types:\n",
    "        site_mig_data_dir = os.path.join(machina_sims_data_dir, site, mig_type)\n",
    "        seeds = fnmatch.filter(os.listdir(site_mig_data_dir), 'reads_seed*.tsv')\n",
    "        seeds = [s.replace(\".tsv\", \"\").replace(\"reads_seed\", \"\") for s in seeds]\n",
    "        for seed in seeds:\n",
    "            cluster_fn = os.path.join(machina_sims_data_dir, f\"{site}_clustered_input\", f\"cluster_{mig_type}_seed{seed}.txt\")\n",
    "            all_mut_trees_fn = os.path.join(machina_sims_data_dir, f\"{site}_mut_trees\", f\"mut_trees_{mig_type}_seed{seed}.txt\")\n",
    "            ref_var_fn = os.path.join(site_mig_data_dir, f\"reads_seed{seed}.tsv\")\n",
    "#             ref_var_fn = os.path.join(machina_sims_data_dir, f\"{site}_clustered_input\", f\"cluster_{mig_type}_seed{seed}.tsv\")\n",
    "\n",
    "            idx_to_cluster_label = dutil.get_idx_to_cluster_label(cluster_fn, ignore_polytomies=True)\n",
    "            data = dutil.get_adj_matrices_from_spruce_mutation_trees(all_mut_trees_fn, idx_to_cluster_label, is_sim_data=True)\n",
    "\n",
    "            for tree_num, (adj_matrix, pruned_idx_to_clstr_label) in enumerate(data):\n",
    "                \n",
    "                # Use the pruned index to cluster label to build a map between each \n",
    "                # mutation and its cluster index assignment\n",
    "                mut_name_to_cluster_idx = {}\n",
    "                for clstr_idx in pruned_idx_to_clstr_label:\n",
    "                    muts = pruned_idx_to_clstr_label[clstr_idx].split(\";\")\n",
    "                    for mut in muts:\n",
    "                        mut_name_to_cluster_idx[int(mut)] = int(clstr_idx)\n",
    "                df = pd.read_csv(ref_var_fn, sep=\"\\t\", skiprows=3)\n",
    "                df['var_read_prob'] = 0.5\n",
    "                df['site_category'] = df.apply(lambda row: 'primary' if row['anatomical_site_label']==\"P\" else 'metastasis', axis=1)\n",
    "                # take out any mutations not used in the adjacency matrix (i.e. no cluster assignment anymore)\n",
    "                x = len(df)\n",
    "                df['cluster_index'] = df.apply(lambda row: int(mut_name_to_cluster_idx[row['character_label']]) if row['character_label'] in mut_name_to_cluster_idx else np.nan, axis=1)\n",
    "                df = df.dropna(subset=['cluster_index'])\n",
    "                df = df[final_cols]\n",
    "                \n",
    "                if site=='m8' and mig_type=='M' and seed=='19' and tree_num==0:\n",
    "#                 if len(df) != x:\n",
    "                    print(site, mig_type, seed, tree_num)\n",
    "                    print(idx_to_cluster_label)\n",
    "                    print(pruned_idx_to_clstr_label)\n",
    "                    print(mut_name_to_cluster_idx)\n",
    "                    \n",
    "                \n",
    "                df.to_csv(os.path.join(machina_sims_data_dir, f\"{site}_clustered_input_corrected\", f\"cluster_{mig_type}_seed{seed}_tree{tree_num}.tsv\"), sep=\"\\t\")\n",
    "                \n",
    "                "
   ]
  },
  {
   "cell_type": "code",
   "execution_count": 60,
   "id": "c320a809",
   "metadata": {
    "scrolled": false
   },
   "outputs": [
    {
     "name": "stdout",
     "output_type": "stream",
     "text": [
      "[[0. 1. 1. 0. 0. 0. 0. 0. 1. 0. 0. 0. 0. 1. 0. 0. 0.]\n",
      " [0. 0. 0. 0. 0. 0. 0. 0. 0. 0. 0. 0. 0. 0. 0. 0. 0.]\n",
      " [0. 0. 0. 1. 0. 1. 0. 1. 0. 1. 0. 0. 0. 0. 0. 0. 0.]\n",
      " [0. 0. 0. 0. 1. 0. 0. 0. 0. 0. 0. 0. 0. 0. 0. 0. 0.]\n",
      " [0. 0. 0. 0. 0. 0. 1. 0. 0. 0. 0. 0. 0. 0. 0. 0. 0.]\n",
      " [0. 0. 0. 0. 0. 0. 0. 0. 0. 0. 0. 0. 0. 0. 0. 0. 0.]\n",
      " [0. 0. 0. 0. 0. 0. 0. 0. 0. 0. 0. 0. 0. 0. 0. 0. 0.]\n",
      " [0. 0. 0. 0. 0. 0. 0. 0. 0. 0. 1. 0. 1. 0. 1. 0. 0.]\n",
      " [0. 0. 0. 0. 0. 0. 0. 0. 0. 0. 0. 0. 0. 0. 0. 0. 0.]\n",
      " [0. 0. 0. 0. 0. 0. 0. 0. 0. 0. 0. 1. 0. 0. 0. 0. 0.]\n",
      " [0. 0. 0. 0. 0. 0. 0. 0. 0. 0. 0. 0. 0. 0. 0. 0. 0.]\n",
      " [0. 0. 0. 0. 0. 0. 0. 0. 0. 0. 0. 0. 0. 0. 0. 0. 0.]\n",
      " [0. 0. 0. 0. 0. 0. 0. 0. 0. 0. 0. 0. 0. 0. 0. 0. 0.]\n",
      " [0. 0. 0. 0. 0. 0. 0. 0. 0. 0. 0. 0. 0. 0. 0. 0. 1.]\n",
      " [0. 0. 0. 0. 0. 0. 0. 0. 0. 0. 0. 0. 0. 0. 0. 1. 0.]\n",
      " [0. 0. 0. 0. 0. 0. 0. 0. 0. 0. 0. 0. 0. 0. 0. 0. 0.]\n",
      " [0. 0. 0. 0. 0. 0. 0. 0. 0. 0. 0. 0. 0. 0. 0. 0. 0.]]\n",
      "OrderedDict([(0, '0'), (1, '1'), (2, '2'), (3, '4;7;8;11;12;17;18'), (4, '19'), (5, '29;30'), (6, '3;6;10;26;31;32'), (7, '36'), (8, '9;15;16;27;33;43'), (9, '47;48'), (10, '22;23;25;34;37;40;44;53;56'), (11, '54;59'), (12, '60'), (13, '50;52;61'), (14, '5;13;14;28;35;46;51;58;62'), (15, '55;57;64'), (16, '67'), (17, '69;71;72;73')])\n"
     ]
    }
   ],
   "source": [
    "\n",
    "# Compare the cluster index to mutation labels that is indicated by the corrected tsvs to the\n",
    "# one used when producing the adjacency matrix, and confirm it's the same\n",
    "\n",
    "def get_index_to_cluster_label_from_corrected_sim_tsv(ref_var_fn):\n",
    "    df = pd.read_csv(ref_var_fn, sep=\"\\t\")\n",
    "    clstr_idx_to_label = {}\n",
    "    labels = df['character_label'].unique()\n",
    "    for label in labels:\n",
    "        idx = int(df[df['character_label']==label]['cluster_index'].unique().item())\n",
    "        if idx not in clstr_idx_to_label:\n",
    "            clstr_idx_to_label[idx] = []\n",
    "        clstr_idx_to_label[idx].append(str(label))\n",
    "    clstr_idx_to_label = {k:\";\".join(v) for k,v in clstr_idx_to_label.items()}\n",
    "    return clstr_idx_to_label\n",
    "        \n",
    "for site in sites:\n",
    "\n",
    "    for mig_type in mig_types:\n",
    "        site_mig_data_dir = os.path.join(machina_sims_data_dir, site, mig_type)\n",
    "        seeds = fnmatch.filter(os.listdir(site_mig_data_dir), 'reads_seed*.tsv')\n",
    "        seeds = [s.replace(\".tsv\", \"\").replace(\"reads_seed\", \"\") for s in seeds]\n",
    "        for seed in seeds:\n",
    "            cluster_fn = os.path.join(machina_sims_data_dir, f\"{site}_clustered_input\", f\"cluster_{mig_type}_seed{seed}.txt\")\n",
    "\n",
    "            all_mut_trees_fn = os.path.join(machina_sims_data_dir, f\"{site}_mut_trees\", f\"mut_trees_{mig_type}_seed{seed}.txt\")\n",
    "            trees = fnmatch.filter(os.listdir(os.path.join(machina_sims_data_dir, f\"{site}_clustered_input_corrected\")), f\"cluster_{mig_type}_seed{seed}_tree*.tsv\")\n",
    "            idx_to_cluster_label = dutil.get_idx_to_cluster_label(cluster_fn, ignore_polytomies=True)\n",
    "            #print(len(df))\n",
    "#             x = None\n",
    "            for tree_num in range(len(trees)):\n",
    "                ref_var_fn = os.path.join(machina_sims_data_dir, f\"{site}_clustered_input_corrected\", f\"cluster_{mig_type}_seed{seed}_tree{tree_num}.tsv\")\n",
    "                corrected_idx_to_cluster_label = get_index_to_cluster_label_from_corrected_sim_tsv(ref_var_fn)\n",
    "                data = dutil.get_adj_matrices_from_spruce_mutation_trees(all_mut_trees_fn, idx_to_cluster_label, is_sim_data=True)\n",
    "    \n",
    "                assert(data[tree_num][1] == corrected_idx_to_cluster_label)\n",
    "                tree = data[tree_num][0]\n",
    "                if site=='m8' and mig_type=='mS' and seed=='4' and tree_num==0:\n",
    "                    print(tree)\n",
    "                    print(idx_to_cluster_label)\n",
    "                \n",
    "                \n",
    "                "
   ]
  }
 ],
 "metadata": {
  "kernelspec": {
   "display_name": "Python [conda env:mambaforge-met]",
   "language": "python",
   "name": "conda-env-mambaforge-met-py"
  },
  "language_info": {
   "codemirror_mode": {
    "name": "ipython",
    "version": 3
   },
   "file_extension": ".py",
   "mimetype": "text/x-python",
   "name": "python",
   "nbconvert_exporter": "python",
   "pygments_lexer": "ipython3",
   "version": "3.8.0"
  }
 },
 "nbformat": 4,
 "nbformat_minor": 5
}
