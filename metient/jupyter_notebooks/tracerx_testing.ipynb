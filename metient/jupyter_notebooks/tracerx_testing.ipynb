{
 "cells": [
  {
   "cell_type": "code",
   "execution_count": 1,
   "id": "ddf8601a",
   "metadata": {},
   "outputs": [
    {
     "name": "stdout",
     "output_type": "stream",
     "text": [
      "CUDA GPU: False\n"
     ]
    }
   ],
   "source": [
    "import sys\n",
    "import os\n",
    "\n",
    "REPO_DIR = os.path.join(os.getcwd(), \"../../\")\n",
    "\n",
    "from metient.metient import *\n",
    "from metient.util import data_extraction_util as dutil\n",
    "\n",
    "import matplotlib\n",
    "import torch\n",
    "import pandas as pd\n",
    "import numpy as np\n",
    "\n",
    "TRACERX_DATA_DIR = os.path.join(REPO_DIR, 'metient/data/tracerx_nsclc/')\n",
    "PYCLONE_CLUSTERED_TSVS_DIR = os.path.join(TRACERX_DATA_DIR, 'patient_data', 'conipher_pyclone_clustered')\n",
    "CONIPHER_TREES_DIR = os.path.join(TRACERX_DATA_DIR, 'conipher_outputs', 'TreeBuilding')\n",
    "OUTPUT_DIR = os.path.join(TRACERX_DATA_DIR, \"metient_outputs\", \"test\")"
   ]
  },
  {
   "cell_type": "code",
   "execution_count": 2,
   "id": "0c8fe6ec",
   "metadata": {},
   "outputs": [],
   "source": [
    "def find_labeling(ref_var_fn, tree, patient_name, weights):    \n",
    "    print_config = PrintConfig(visualize=True, verbose=False, k_best_trees=30)\n",
    "    evaluate(tree, ref_var_fn, weights, print_config, OUTPUT_DIR, patient_name, O=None,\n",
    "             batch_size=4096, bias_weights=True, solve_polytomies=False)\n",
    "#     calibrate([tree], [ref_var_fn], print_config, OUTPUT_DIR, [patient_name], Os=None,\n",
    "#               batch_size=4096,bias_weights=True, solve_polytomies=False)\n",
    "    \n",
    "\n",
    "    \n",
    "def run_conipher_patient(patient, weights):\n",
    "    space = \"x\"*44\n",
    "    tsv_fn = os.path.join(PYCLONE_CLUSTERED_TSVS_DIR, f\"{patient}_SNVs.tsv\")\n",
    "    print(f\"{space} PATIENT {patient} {space}\")\n",
    "    tree_fn = os.path.join(CONIPHER_TREES_DIR, f\"{patient}_conipher_SNVsallTrees_cleaned.txt\")\n",
    "    trees = dutil.get_adj_matrices_from_all_conipher_trees(tree_fn)\n",
    "    find_labeling(tsv_fn, trees[0], patient, weights)\n"
   ]
  },
  {
   "cell_type": "code",
   "execution_count": null,
   "id": "09f74247",
   "metadata": {
    "scrolled": false
   },
   "outputs": [
    {
     "name": "stdout",
     "output_type": "stream",
     "text": [
      "xxxxxxxxxxxxxxxxxxxxxxxxxxxxxxxxxxxxxxxxxxxx PATIENT CRUK0484 xxxxxxxxxxxxxxxxxxxxxxxxxxxxxxxxxxxxxxxxxxxx\n",
      "ordered_sites ['metachronousMet_BP_T1.FR1', 'metachronousMet_BP_T1', 'metachronousMet_BR_T1', 'LN_SU_FLN1', 'LN_SU_LN1', 'primary_SU_T1']\n"
     ]
    },
    {
     "name": "stderr",
     "output_type": "stream",
     "text": [
      "/lila/data/morrisq/divyak/projects/metient/metient/util/vertex_labeling_util.py:311: UserWarning: To copy construct from a tensor, it is recommended to use sourceTensor.clone().detach() or sourceTensor.clone().detach().requires_grad_(True), rather than torch.tensor(sourceTensor).\n",
      "  return torch.tensor(get_path_matrix(A.T, remove_self_loops=False), dtype = torch.float32)\n",
      "  0%|          | 0/5000 [00:00<?, ?it/s]"
     ]
    },
    {
     "name": "stdout",
     "output_type": "stream",
     "text": [
      "idx_to_sites_present {0: [3], 1: [1], 2: [4, 5], 3: [1, 5], 4: [3], 5: [3, 5], 6: [5], 7: [0, 2], 8: [5], 9: [5], 10: [0, 1, 2, 4, 5], 11: [2], 12: [0, 2], 13: [4], 14: [5], 16: [2], 17: [3], 18: [5], 19: [4], 20: [3, 5], 21: [5], 22: [5], 24: [5], 25: [5], 26: [1], 27: [4], 28: [0], 29: [5], 30: [0], 31: [5]}\n",
      "leaf_labels [3, 1, 4, 5, 1, 5, 3, 3, 5, 5, 0, 2, 5, 5, 0, 1, 2, 4, 5, 2, 0, 2, 4, 5, 2, 3, 5, 4, 3, 5, 5, 5, 5, 5, 1, 4, 0, 5, 0, 5]\n",
      "idx_to_observed_sites {0: [3], 1: [1], 2: [4, 5], 3: [1, 5], 4: [3], 5: [3, 5], 6: [5], 7: [0, 2], 8: [5], 9: [5], 10: [0, 1, 2, 4, 5], 11: [2], 12: [0, 2], 13: [4], 14: [5], 16: [2], 17: [3], 18: [5], 19: [4], 20: [3, 5], 21: [5], 22: [5], 24: [5], 25: [5], 26: [1], 27: [4], 28: [0], 29: [5], 30: [0], 31: [5]}\n",
      "ordered_sites ['metachronousMet_BP_T1.FR1', 'metachronousMet_BP_T1', 'metachronousMet_BR_T1', 'LN_SU_FLN1', 'LN_SU_LN1', 'primary_SU_T1'] primary_site primary_SU_T1 tensor([[0],\n",
      "        [0],\n",
      "        [0],\n",
      "        [0],\n",
      "        [0],\n",
      "        [1]])\n",
      "node_idx 0 node_and_children [0] sites [3]\n",
      "resolver_sites [3]\n",
      "node_idx 1 node_and_children [1] sites [1]\n",
      "resolver_sites [1]\n",
      "node_idx 2 node_and_children [2] sites [4, 5]\n",
      "resolver_sites [4, 5]\n",
      "node_idx 3 node_and_children [3] sites [1, 5]\n",
      "resolver_sites [1, 5]\n",
      "node_idx 4 node_and_children [4] sites [3]\n",
      "resolver_sites [3]\n",
      "node_idx 5 node_and_children [5] sites [3, 5]\n",
      "resolver_sites [3, 5]\n",
      "node_idx 6 node_and_children [6] sites [5]\n",
      "resolver_sites [5]\n",
      "node_idx 7 node_and_children [7] sites [0, 2]\n",
      "resolver_sites [0, 2]\n",
      "node_idx 8 node_and_children [8] sites [5]\n",
      "resolver_sites [5]\n",
      "node_idx 9 node_and_children [9] sites [5]\n",
      "resolver_sites [5]\n",
      "node_idx 10 node_and_children [10] sites [0, 1, 2, 4, 5]\n",
      "resolver_sites [0, 1, 2, 4, 5]\n",
      "node_idx 11 node_and_children [11] sites [2]\n",
      "resolver_sites [2]\n",
      "node_idx 12 node_and_children [12] sites [0, 2]\n",
      "resolver_sites [0, 2]\n",
      "node_idx 13 node_and_children [13] sites [4]\n",
      "resolver_sites [4]\n",
      "node_idx 14 node_and_children [14] sites [5]\n",
      "resolver_sites [5]\n",
      "node_idx 15 node_and_children [15] sites []\n",
      "resolver_sites []\n",
      "node_idx 16 node_and_children [16] sites [2]\n",
      "resolver_sites [2]\n",
      "node_idx 17 node_and_children [17] sites [3]\n",
      "resolver_sites [3]\n",
      "node_idx 18 node_and_children [18] sites [5]\n",
      "resolver_sites [5]\n",
      "node_idx 19 node_and_children [19] sites [4]\n",
      "resolver_sites [4]\n",
      "node_idx 20 node_and_children [20] sites [3, 5]\n",
      "resolver_sites [3, 5]\n",
      "node_idx 21 node_and_children [21] sites [5]\n",
      "resolver_sites [5]\n",
      "node_idx 22 node_and_children [22] sites [5]\n",
      "resolver_sites [5]\n",
      "node_idx 23 node_and_children [23] sites []\n",
      "leaf_on_linear_branch 27\n",
      "resolver_sites [4]\n",
      "node_idx 24 node_and_children [24] sites [5]\n",
      "resolver_sites [5]\n",
      "node_idx 25 node_and_children [25] sites [5]\n",
      "resolver_sites [5]\n",
      "node_idx 26 node_and_children [26] sites [1]\n",
      "resolver_sites [1]\n",
      "node_idx 27 node_and_children [27] sites [4]\n",
      "resolver_sites [4]\n",
      "node_idx 28 node_and_children [28] sites [0]\n",
      "resolver_sites [0]\n",
      "node_idx 29 node_and_children [29] sites [5]\n",
      "resolver_sites [5]\n",
      "node_idx 30 node_and_children [30] sites [0]\n",
      "resolver_sites [0]\n",
      "node_idx 31 node_and_children [31] sites [5]\n",
      "resolver_sites [5]\n",
      "node_idx 32 node_and_children [32] sites []\n",
      "resolver_sites []\n",
      "X tensor([[-inf, -inf, -inf, -inf, -inf, -inf, 3.00, -inf, -inf, 3.00, -inf, 3.00,\n",
      "         -inf, -inf, 0.70, -inf, -inf, -inf, -inf, -inf, -inf, -inf, -inf, -inf,\n",
      "         -inf, -inf, -inf, 3.00, -inf, 3.00, -inf, 0.08],\n",
      "        [3.00, -inf, 3.00, -inf, -inf, -inf, -inf, -inf, -inf, 3.00, -inf, -inf,\n",
      "         -inf, -inf, 0.20, -inf, -inf, -inf, -inf, -inf, -inf, -inf, -inf, -inf,\n",
      "         -inf, 3.00, -inf, -inf, -inf, -inf, -inf, 0.14],\n",
      "        [-inf, -inf, -inf, -inf, -inf, -inf, 3.00, -inf, -inf, 3.00, 3.00, 3.00,\n",
      "         -inf, -inf, 0.62, 3.00, -inf, -inf, -inf, -inf, -inf, -inf, -inf, -inf,\n",
      "         -inf, -inf, -inf, -inf, -inf, -inf, -inf, 0.76],\n",
      "        [-inf, -inf, -inf, 3.00, 3.00, -inf, -inf, -inf, -inf, -inf, -inf, -inf,\n",
      "         -inf, -inf, 0.32, -inf, 3.00, -inf, -inf, 3.00, -inf, -inf, -inf, -inf,\n",
      "         -inf, -inf, -inf, -inf, -inf, -inf, -inf, 0.88],\n",
      "        [-inf, 3.00, -inf, -inf, -inf, -inf, -inf, -inf, -inf, 3.00, -inf, -inf,\n",
      "         3.00, -inf, 0.23, -inf, -inf, -inf, 3.00, -inf, -inf, -inf, 3.00, -inf,\n",
      "         -inf, -inf, 3.00, -inf, -inf, -inf, -inf, 0.62],\n",
      "        [3.00, 3.00, 3.00, 3.00, 3.00, 3.00, 3.00, 3.00, 3.00, 3.00, 3.00, 3.00,\n",
      "         3.00, 3.00, 3.00, 3.00, 3.00, 3.00, 3.00, 3.00, 3.00, 3.00, 3.00, 3.00,\n",
      "         3.00, 3.00, 3.00, 3.00, 3.00, 3.00, 3.00, 3.00]])\n",
      "X tensor([[-inf, -inf, -inf, -inf],\n",
      "        [-inf, -inf, -inf, -inf],\n",
      "        [-inf, -inf, -inf, -inf],\n",
      "        [-inf, -inf, -inf, -inf],\n",
      "        [3., 3., 3., 3.],\n",
      "        [3., 3., 3., 3.]])\n",
      "X tensor([[0.58, 0.69, 0.13, 0.63, 0.25, 0.62, 0.79, 0.58, 0.01, 0.18, 0.24, 0.31,\n",
      "         0.02, 0.51, 0.23, 0.91, 0.60, 0.74, 0.20, 0.40, 0.98, 0.48, 0.31, 0.19,\n",
      "         0.16, 0.60, 0.90, 0.07, 0.74, 0.64, 0.44, 0.51],\n",
      "        [0.34, 0.75, 0.38, 0.08, 0.61, 0.31, 0.63, 0.68, 0.47, 0.69, 0.90, 0.44,\n",
      "         0.80, 0.91, 0.22, 0.66, 0.22, 0.16, 0.88, 0.44, 0.16, 0.94, 0.10, 0.78,\n",
      "         0.89, 0.47, 0.79, 0.22, 0.55, 0.33, 0.03, 0.10],\n",
      "        [0.11, 0.07, 0.90, 0.97, 0.41, 0.73, 0.21, 0.53, 0.26, 0.85, 0.16, 0.50,\n",
      "         0.89, 0.41, 0.78, 0.31, 0.79, 0.77, 0.31, 0.59, 0.38, 0.59, 0.58, 0.66,\n",
      "         0.01, 0.15, 0.59, 0.82, 0.80, 0.79, 0.37, 0.36],\n",
      "        [0.78, 0.62, 0.04, 0.25, 0.98, 0.54, 0.89, 0.66, 0.27, 0.12, 0.72, 0.62,\n",
      "         0.18, 0.55, 0.59, 0.46, 0.13, 0.15, 0.31, 0.15, 0.47, 0.91, 0.02, 0.15,\n",
      "         0.78, 0.05, 0.51, 0.73, 0.76, 0.67, 0.96, 0.59],\n",
      "        [0.90, 0.78, 0.03, 0.38, 0.43, 0.26, 0.62, 0.46, 0.50, 0.35, 0.67, 0.34,\n",
      "         0.34, 0.72, 0.59, 0.68, 0.55, 0.18, 0.61, 0.24, 0.19, 0.48, 0.78, 0.80,\n",
      "         0.41, 0.66, 0.23, 0.77, 0.67, 0.08, 0.26, 0.99],\n",
      "        [3.00, 3.00, 3.00, 3.00, 3.00, 3.00, 3.00, 3.00, 3.00, 3.00, 3.00, 3.00,\n",
      "         3.00, 3.00, 3.00, 3.00, 3.00, 3.00, 3.00, 3.00, 3.00, 3.00, 3.00, 3.00,\n",
      "         3.00, 3.00, 3.00, 3.00, 3.00, 3.00, 3.00, 3.00]])\n"
     ]
    },
    {
     "name": "stderr",
     "output_type": "stream",
     "text": [
      "/lila/data/morrisq/divyak/projects/metient/metient/util/vertex_labeling_util.py:302: UserWarning: To copy construct from a tensor, it is recommended to use sourceTensor.clone().detach() or sourceTensor.clone().detach().requires_grad_(True), rather than torch.tensor(sourceTensor).\n",
      "  return torch.tensor(get_path_matrix(A, remove_self_loops=True), dtype = torch.float32)\n",
      " 50%|████▉     | 2490/5000 [14:50<14:35,  2.87it/s]"
     ]
    }
   ],
   "source": [
    "weights = Weights(mig=3, comig=2, seed_site=1, gen_dist=0.1, organotrop=0.0)\n",
    "\n",
    "run_conipher_patient(\"CRUK0484\", weights)"
   ]
  },
  {
   "cell_type": "code",
   "execution_count": null,
   "id": "241ddee3",
   "metadata": {},
   "outputs": [],
   "source": []
  }
 ],
 "metadata": {
  "kernelspec": {
   "display_name": "Python [conda env:met]",
   "language": "python",
   "name": "conda-env-met-py"
  },
  "language_info": {
   "codemirror_mode": {
    "name": "ipython",
    "version": 3
   },
   "file_extension": ".py",
   "mimetype": "text/x-python",
   "name": "python",
   "nbconvert_exporter": "python",
   "pygments_lexer": "ipython3",
   "version": "3.8.0"
  }
 },
 "nbformat": 4,
 "nbformat_minor": 5
}
