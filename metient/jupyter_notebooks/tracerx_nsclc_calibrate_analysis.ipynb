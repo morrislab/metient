{
 "cells": [
  {
   "cell_type": "markdown",
   "id": "29c4fb37",
   "metadata": {},
   "source": [
    "### Analyze the calibrate mode results for TRACERx patients"
   ]
  },
  {
   "cell_type": "code",
   "execution_count": 4,
   "id": "ed4d4d09",
   "metadata": {},
   "outputs": [
    {
     "name": "stdout",
     "output_type": "stream",
     "text": [
      "CUDA GPU: False\n"
     ]
    }
   ],
   "source": [
    "import os\n",
    "import pickle\n",
    "import gzip\n",
    "from metient.util.globals import *\n",
    "from metient.lib.vertex_labeling import *\n",
    "\n",
    "REPO_DIR = os.path.join(os.getcwd(), \"../../\")\n"
   ]
  },
  {
   "cell_type": "code",
   "execution_count": 23,
   "id": "56d3cbef",
   "metadata": {},
   "outputs": [],
   "source": [
    "PARAMS = \"calibrate_12202023\"\n",
    "METIENT_OUTPUT_DIR = os.path.join(REPO_DIR, 'metient/data/tracerx_nsclc/metient_outputs')\n",
    "CONIPHER_OUTPUT_DIR = os.path.join(METIENT_OUTPUT_DIR, f'pyclone_conipher_{PARAMS}', 'calibrate')"
   ]
  },
  {
   "cell_type": "markdown",
   "id": "2f3b6933",
   "metadata": {},
   "source": [
    "#### Which patients have 2 or more mets?"
   ]
  },
  {
   "cell_type": "code",
   "execution_count": 24,
   "id": "a649dc3e",
   "metadata": {},
   "outputs": [
    {
     "name": "stdout",
     "output_type": "stream",
     "text": [
      "128\n",
      "21\n"
     ]
    },
    {
     "data": {
      "text/plain": [
       "{'CRUK0010_primary_SU_T1',\n",
       " 'CRUK0013_primary_SU_T1',\n",
       " 'CRUK0029_primary_SU_T1',\n",
       " 'CRUK0035_primary_SU_T1',\n",
       " 'CRUK0090_primary_SU_T1',\n",
       " 'CRUK0245_primary_SU_T1',\n",
       " 'CRUK0311_primary_SU_T1',\n",
       " 'CRUK0467_primary_SU_T1',\n",
       " 'CRUK0484_primary_SU_T1',\n",
       " 'CRUK0487_primary_SU_T1',\n",
       " 'CRUK0530_primary_SU_T1',\n",
       " 'CRUK0543_primary_SU_T1',\n",
       " 'CRUK0559_primary_SU_T1',\n",
       " 'CRUK0590_primary_SU_T1',\n",
       " 'CRUK0620_primary_SU_T1',\n",
       " 'CRUK0620_primary_SU_T2',\n",
       " 'CRUK0722_primary_SU_T1',\n",
       " 'CRUK0745_primary_SU_T1',\n",
       " 'CRUK0748_primary_SU_T1',\n",
       " 'CRUK0762_primary_SU_T1',\n",
       " 'CRUK0810_primary_SU_T1'}"
      ]
     },
     "execution_count": 24,
     "metadata": {},
     "output_type": "execute_result"
    }
   ],
   "source": [
    "patients = set()\n",
    "for file in os.listdir(CONIPHER_OUTPUT_DIR):\n",
    "    if \".pkl.gz\" in file:\n",
    "        name = file.split(\".\")[0].replace(\"_calibrate\", \"\")\n",
    "        patients.add(name)\n",
    "print(len(patients))\n",
    "\n",
    "two_plus_met_patients = set()\n",
    "for patient in patients:\n",
    "    with gzip.open(os.path.join(CONIPHER_OUTPUT_DIR, f\"{patient}.pkl.gz\"),'rb') as f:\n",
    "        pckl = pickle.load(f)\n",
    "    sites = pckl[OUT_SITES_KEY]\n",
    "    if len(sites) > 3:\n",
    "        two_plus_met_patients.add(patient)\n",
    "print(len(two_plus_met_patients))\n",
    "two_plus_met_patients"
   ]
  },
  {
   "cell_type": "markdown",
   "id": "c23b9d36",
   "metadata": {},
   "source": [
    "#### Which of these patients have their best calibrated solution s.t. lowest m is not the best?"
   ]
  },
  {
   "cell_type": "code",
   "execution_count": 25,
   "id": "782cf9b7",
   "metadata": {},
   "outputs": [
    {
     "name": "stdout",
     "output_type": "stream",
     "text": [
      "best_soln_m 8\n",
      "7 6 2\n",
      "best_soln_m 8\n",
      "7 6 3\n",
      "best_soln_m 8\n",
      "7 6 3\n",
      "best_soln_m 8\n",
      "7 6 3\n",
      "best_soln_m 8\n",
      "7 6 3\n",
      "best_soln_m 9\n",
      "8 6 2\n",
      "best_soln_m 9\n",
      "8 6 2\n",
      "best_soln_m 8\n",
      "7 4 2\n",
      "best_soln_m 21\n",
      "19 9 4\n",
      "best_soln_m 21\n",
      "17 10 4\n",
      "best_soln_m 21\n",
      "19 10 3\n",
      "best_soln_m 19\n",
      "17 9 4\n",
      "best_soln_m 19\n",
      "18 9 3\n",
      "best_soln_m 19\n",
      "16 10 4\n",
      "best_soln_m 10\n",
      "8 6 3\n",
      "best_soln_m 10\n",
      "8 6 3\n",
      "best_soln_m 10\n",
      "8 6 3\n",
      "best_soln_m 10\n",
      "9 6 3\n",
      "best_soln_m 10\n",
      "9 6 3\n",
      "best_soln_m 10\n",
      "9 6 3\n",
      "best_soln_m 10\n",
      "9 6 3\n",
      "best_soln_m 10\n",
      "9 6 3\n",
      "best_soln_m 10\n",
      "9 6 3\n",
      "best_soln_m 10\n",
      "9 6 3\n",
      "best_soln_m 10\n",
      "8 7 3\n",
      "best_soln_m 10\n",
      "8 7 3\n",
      "best_soln_m 10\n",
      "9 7 2\n"
     ]
    },
    {
     "data": {
      "text/plain": [
       "{'CRUK0035_primary_SU_T1',\n",
       " 'CRUK0090_primary_SU_T1',\n",
       " 'CRUK0484_primary_SU_T1',\n",
       " 'CRUK0487_primary_SU_T1',\n",
       " 'CRUK0590_primary_SU_T1',\n",
       " 'CRUK0620_primary_SU_T2'}"
      ]
     },
     "execution_count": 25,
     "metadata": {},
     "output_type": "execute_result"
    }
   ],
   "source": [
    "import torch\n",
    "non_pss_patients = set()\n",
    "for patient in two_plus_met_patients:\n",
    "    with gzip.open(os.path.join(CONIPHER_OUTPUT_DIR, f\"{patient}.pkl.gz\"),'rb') as f:\n",
    "        pckl = pickle.load(f)\n",
    "    Vs = pckl[OUT_LABElING_KEY]\n",
    "    As = pckl[OUT_ADJ_KEY]\n",
    "    best_soln_m = None\n",
    "    for i, (V,A) in enumerate(zip(Vs, As)):\n",
    "        V = torch.tensor(V)\n",
    "        A = torch.tensor(A)\n",
    "        m,c,s,_,_ = get_ancestral_labeling_metrics(V.reshape(1, V.shape[0], V.shape[1]), A, None, None, None)\n",
    "        if i == 0:\n",
    "            best_soln_m = int(m)\n",
    "        elif m < best_soln_m:\n",
    "            non_pss_patients.add(patient)\n",
    "            print(\"best_soln_m\", best_soln_m)\n",
    "            print(int(m), int(c), int(s))\n",
    "non_pss_patients"
   ]
  },
  {
   "cell_type": "code",
   "execution_count": null,
   "id": "749d6d60",
   "metadata": {},
   "outputs": [],
   "source": []
  }
 ],
 "metadata": {
  "kernelspec": {
   "display_name": "Python [conda env:mambaforge-met]",
   "language": "python",
   "name": "conda-env-mambaforge-met-py"
  },
  "language_info": {
   "codemirror_mode": {
    "name": "ipython",
    "version": 3
   },
   "file_extension": ".py",
   "mimetype": "text/x-python",
   "name": "python",
   "nbconvert_exporter": "python",
   "pygments_lexer": "ipython3",
   "version": "3.8.0"
  }
 },
 "nbformat": 4,
 "nbformat_minor": 5
}
