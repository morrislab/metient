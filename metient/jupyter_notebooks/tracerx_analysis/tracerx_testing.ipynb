{
 "cells": [
  {
   "cell_type": "code",
   "execution_count": 33,
   "id": "ddf8601a",
   "metadata": {},
   "outputs": [],
   "source": [
    "import sys\n",
    "import os\n",
    "from metient.metient import *\n",
    "from metient.util import data_extraction_util as dutil\n",
    "\n",
    "REPO_DIR = os.path.join(os.getcwd(), \"../../\")\n",
    "TRACERX_DATA_DIR = os.path.join(REPO_DIR, 'data/tracerx_nsclc/')\n",
    "INPUT_DIR = os.path.join(TRACERX_DATA_DIR, 'tracerx_provided_patient_data', )\n",
    "OUTPUT_DIR = os.path.join(TRACERX_DATA_DIR, \"metient_outputs\", \"test\")\n",
    "\n",
    "def run_conipher_patient(patient, weights):\n",
    "    space = \"x\"*44\n",
    "    tsv_fn = os.path.join(INPUT_DIR, f\"{patient}_SNVs.tsv\")\n",
    "    print(tsv_fn)\n",
    "    print(f\"{space} PATIENT {patient} {space}\")\n",
    "    tree_fn = os.path.join(INPUT_DIR, f\"{patient}_tree.txt\")\n",
    "    tree = dutil.get_adjacency_matrix_from_txt_edge_list(tree_fn)\n",
    "    print_config = PrintConfig(visualize=False, verbose=False, k_best_trees=30)\n",
    "    evaluate_label_clone_tree(tree, tsv_fn, weights, print_config, OUTPUT_DIR, patient, O=None,\n",
    "                              solve_polytomies=True, batch_size=4096)\n",
    "#     calibrate_label_clone_tree([tree], [tsv_fn], print_config, OUTPUT_DIR, [patient], Os=None,\n",
    "#                                solve_polytomies=True, batch_size=-1)\n",
    "    "
   ]
  },
  {
   "cell_type": "code",
   "execution_count": 35,
   "id": "09f74247",
   "metadata": {
    "scrolled": false
   },
   "outputs": [
    {
     "name": "stderr",
     "output_type": "stream",
     "text": [
      "  0%|          | 1/450 [00:00<00:50,  8.85it/s]"
     ]
    },
    {
     "name": "stdout",
     "output_type": "stream",
     "text": [
      "/lila/data/morrisq/divyak/projects/metient/metient/jupyter_notebooks/tracerx_analysis/../../data/tracerx_nsclc/tracerx_provided_patient_data/CRUK0698_SNVs.tsv\n",
      "xxxxxxxxxxxxxxxxxxxxxxxxxxxxxxxxxxxxxxxxxxxx PATIENT CRUK0698 xxxxxxxxxxxxxxxxxxxxxxxxxxxxxxxxxxxxxxxxxxxx\n",
      "/lila/data/morrisq/divyak/projects/metient/metient/jupyter_notebooks/tracerx_analysis/../../data/tracerx_nsclc/tracerx_provided_patient_data/CRUK0698_SNVs.tsv\n",
      "ordered_sites ['LN_SU_LN1', 'primary_SU_T1', 'LN_SU_FLN1']\n"
     ]
    },
    {
     "name": "stderr",
     "output_type": "stream",
     "text": [
      "100%|██████████| 450/450 [00:53<00:00, 18.57it/s]"
     ]
    },
    {
     "name": "stdout",
     "output_type": "stream",
     "text": [
      "pareto_metrics {(6, 2, 1), (4, 2, 2)}\n",
      "# final solutions: 3\n"
     ]
    },
    {
     "name": "stderr",
     "output_type": "stream",
     "text": [
      "\r",
      "100%|██████████| 450/450 [01:10<00:00, 18.57it/s]"
     ]
    }
   ],
   "source": [
    "# %%prun\n",
    "weights = Weights(mig=1, comig=50, seed_site=100, reg=2, gen_dist=0.1, organotrop=0.0)\n",
    "\n",
    "run_conipher_patient(\"CRUK0698\", weights)"
   ]
  },
  {
   "cell_type": "code",
   "execution_count": 3,
   "id": "f4232280",
   "metadata": {},
   "outputs": [
    {
     "name": "stdout",
     "output_type": "stream",
     "text": [
      "{'Brain': 0.027522935779816515, 'Chest wall': 0.0045871559633027525, 'Bronchus': 0.01834862385321101, 'Pleura': 0.009174311926605505, 'Rib': 0.009174311926605505, 'Liver': 0.027522935779816515, 'Flank': 0.0045871559633027525, 'Femur': 0.0045871559633027525, 'Neck LN': 0.009174311926605505, 'Primary LN': 0.6788990825688074, 'Recurrence LN': 0.09174311926605505, 'Scapula': 0.0045871559633027525, 'Axillary LN': 0.0045871559633027525, 'Recurrence lung': 0.05963302752293578, 'Primary surgery satellite lesion lung': 0.013761467889908258, 'Adrenal gland': 0.0045871559633027525, 'Subphrenic mass': 0.0045871559633027525, 'Skin': 0.013761467889908258, 'Paravertebral': 0.0045871559633027525, 'Peritoneum': 0.0045871559633027525, 'Lung': 0.0}\n"
     ]
    },
    {
     "name": "stderr",
     "output_type": "stream",
     "text": [
      "\r",
      "100%|██████████| 450/450 [01:00<00:00, 27.81it/s]"
     ]
    }
   ],
   "source": [
    "\n",
    "tracerx_reported_counts = {\n",
    "    \"Brain\":6, \"Chest wall\":1, \"Bronchus\":4,\"Pleura\":2,\"Rib\":2,\n",
    "    \"Liver\":6,\"Flank\":1,\"Femur\":1,\"Neck LN\":2,\"Primary LN\":148,\n",
    "    \"Recurrence LN\":20,\"Scapula\":1,\"Axillary LN\":1,\"Recurrence lung\":13,\n",
    "    \"Primary surgery satellite lesion lung\":3, \"Adrenal gland\":1,\n",
    "    \"Subphrenic mass\":1, \"Skin\":3, \"Paravertebral\":1, \"Peritoneum\":1,\n",
    "    \"Lung\":0\n",
    "}\n",
    "\n",
    "total = sum([tracerx_reported_counts[key] for key in tracerx_reported_counts])\n",
    "tracerx_reported_freqs = {key:float(tracerx_reported_counts[key]/total) for key in tracerx_reported_counts}\n",
    "print(tracerx_reported_freqs)\n",
    "def get_organotropism_matrix_from_tracerx(unique_sites, tracerx_map):\n",
    "    mapped_sites = [tracerx_map[site] for site in unique_sites]\n",
    "    organotrop_arr = np.zeros(len(mapped_sites))\n",
    "    for i, metastatic_site in enumerate(mapped_sites):\n",
    "        organotrop_arr[i] = tracerx_reported_freqs[metastatic_site]\n",
    "    return torch.tensor(organotrop_arr, dtype = torch.float32)\n"
   ]
  },
  {
   "cell_type": "code",
   "execution_count": 4,
   "id": "9e736718",
   "metadata": {},
   "outputs": [
    {
     "ename": "AssertionError",
     "evalue": "cluster_index values do not go from 0 to max. Issue in: /lila/data/morrisq/divyak/projects/metient/metient/jupyter_notebooks/tracerx_analysis/../../data/tracerx_nsclc/CRUK0762_no_cna_testing/CRUK0762_SNVs.tsv",
     "output_type": "error",
     "traceback": [
      "\u001b[0;31m---------------------------------------------------------------------------\u001b[0m",
      "\u001b[0;31mAssertionError\u001b[0m                            Traceback (most recent call last)",
      "Cell \u001b[0;32mIn[4], line 3\u001b[0m\n\u001b[1;32m      1\u001b[0m \u001b[38;5;28;01mimport\u001b[39;00m \u001b[38;5;21;01mpandas\u001b[39;00m \u001b[38;5;28;01mas\u001b[39;00m \u001b[38;5;21;01mpd\u001b[39;00m\n\u001b[1;32m      2\u001b[0m no_cna_dir \u001b[38;5;241m=\u001b[39m os\u001b[38;5;241m.\u001b[39mpath\u001b[38;5;241m.\u001b[39mjoin(TRACERX_DATA_DIR, \u001b[38;5;124m\"\u001b[39m\u001b[38;5;124mCRUK0762_no_cna_testing\u001b[39m\u001b[38;5;124m\"\u001b[39m)\n\u001b[0;32m----> 3\u001b[0m \u001b[43mdutil\u001b[49m\u001b[38;5;241;43m.\u001b[39;49m\u001b[43mpool_input_tsv\u001b[49m\u001b[43m(\u001b[49m\u001b[43mos\u001b[49m\u001b[38;5;241;43m.\u001b[39;49m\u001b[43mpath\u001b[49m\u001b[38;5;241;43m.\u001b[39;49m\u001b[43mjoin\u001b[49m\u001b[43m(\u001b[49m\u001b[43mno_cna_dir\u001b[49m\u001b[43m,\u001b[49m\u001b[43m \u001b[49m\u001b[38;5;124;43m\"\u001b[39;49m\u001b[38;5;124;43mCRUK0762_SNVs.tsv\u001b[39;49m\u001b[38;5;124;43m\"\u001b[39;49m\u001b[43m)\u001b[49m\u001b[43m,\u001b[49m\u001b[43m \u001b[49m\u001b[43mno_cna_dir\u001b[49m\u001b[43m,\u001b[49m\u001b[43m \u001b[49m\u001b[38;5;124;43mf\u001b[39;49m\u001b[38;5;124;43m\"\u001b[39;49m\u001b[38;5;124;43mtmp_CRUK0762\u001b[39;49m\u001b[38;5;124;43m\"\u001b[39;49m\u001b[43m)\u001b[49m\n\u001b[1;32m      4\u001b[0m df \u001b[38;5;241m=\u001b[39m pd\u001b[38;5;241m.\u001b[39mread_csv(os\u001b[38;5;241m.\u001b[39mpath\u001b[38;5;241m.\u001b[39mjoin(no_cna_dir,\u001b[38;5;124m\"\u001b[39m\u001b[38;5;124mtmp_CRUK0762_clustered_SNVs.tsv\u001b[39m\u001b[38;5;124m\"\u001b[39m),sep\u001b[38;5;241m=\u001b[39m\u001b[38;5;124m\"\u001b[39m\u001b[38;5;130;01m\\t\u001b[39;00m\u001b[38;5;124m\"\u001b[39m)\n\u001b[1;32m      5\u001b[0m df[\u001b[38;5;124m'\u001b[39m\u001b[38;5;124mimplied F no CNA\u001b[39m\u001b[38;5;124m'\u001b[39m] \u001b[38;5;241m=\u001b[39m df\u001b[38;5;241m.\u001b[39mapply(\u001b[38;5;28;01mlambda\u001b[39;00m row: row[\u001b[38;5;124m'\u001b[39m\u001b[38;5;124mvar\u001b[39m\u001b[38;5;124m'\u001b[39m]\u001b[38;5;241m/\u001b[39m(\u001b[38;5;241m0.5\u001b[39m\u001b[38;5;241m*\u001b[39mrow[\u001b[38;5;124m'\u001b[39m\u001b[38;5;124mref\u001b[39m\u001b[38;5;124m'\u001b[39m]\u001b[38;5;241m+\u001b[39mrow[\u001b[38;5;124m'\u001b[39m\u001b[38;5;124mvar\u001b[39m\u001b[38;5;124m'\u001b[39m]), axis\u001b[38;5;241m=\u001b[39m\u001b[38;5;241m1\u001b[39m)\n",
      "File \u001b[0;32m/lila/data/morrisq/divyak/projects/metient/metient/util/data_extraction_util.py:88\u001b[0m, in \u001b[0;36mpool_input_tsv\u001b[0;34m(tsv_fn, output_dir, run_name)\u001b[0m\n\u001b[1;32m     84\u001b[0m \u001b[38;5;250m\u001b[39m\u001b[38;5;124;03m'''\u001b[39;00m\n\u001b[1;32m     85\u001b[0m \u001b[38;5;124;03mPool reads from the same anatomical site index and cluster index\u001b[39;00m\n\u001b[1;32m     86\u001b[0m \u001b[38;5;124;03m'''\u001b[39;00m\n\u001b[1;32m     87\u001b[0m df \u001b[38;5;241m=\u001b[39m pd\u001b[38;5;241m.\u001b[39mread_csv(tsv_fn, delimiter\u001b[38;5;241m=\u001b[39m\u001b[38;5;124m\"\u001b[39m\u001b[38;5;130;01m\\t\u001b[39;00m\u001b[38;5;124m\"\u001b[39m, index_col\u001b[38;5;241m=\u001b[39m\u001b[38;5;28;01mFalse\u001b[39;00m)  \n\u001b[0;32m---> 88\u001b[0m \u001b[43mvalidate_unpooled_or_pooled_df\u001b[49m\u001b[43m(\u001b[49m\u001b[43mdf\u001b[49m\u001b[43m,\u001b[49m\u001b[43m \u001b[49m\u001b[43mtsv_fn\u001b[49m\u001b[43m,\u001b[49m\u001b[43m \u001b[49m\u001b[43m[\u001b[49m\u001b[38;5;124;43m'\u001b[39;49m\u001b[38;5;124;43manatomical_site_index\u001b[39;49m\u001b[38;5;124;43m'\u001b[39;49m\u001b[43m,\u001b[49m\u001b[43m \u001b[49m\u001b[38;5;124;43m'\u001b[39;49m\u001b[38;5;124;43mcluster_index\u001b[39;49m\u001b[38;5;124;43m'\u001b[39;49m\u001b[43m,\u001b[49m\u001b[43m \u001b[49m\u001b[38;5;124;43m'\u001b[39;49m\u001b[38;5;124;43mcharacter_index\u001b[39;49m\u001b[38;5;124;43m'\u001b[39;49m\u001b[43m]\u001b[49m\u001b[43m)\u001b[49m\n\u001b[1;32m     89\u001b[0m df[\u001b[38;5;124m'\u001b[39m\u001b[38;5;124mcluster_index\u001b[39m\u001b[38;5;124m'\u001b[39m] \u001b[38;5;241m=\u001b[39m df[\u001b[38;5;124m'\u001b[39m\u001b[38;5;124mcluster_index\u001b[39m\u001b[38;5;124m'\u001b[39m]\u001b[38;5;241m.\u001b[39mastype(\u001b[38;5;28mint\u001b[39m)\n\u001b[1;32m     90\u001b[0m \u001b[38;5;66;03m# Check that each character index maps to only one character label\u001b[39;00m\n",
      "File \u001b[0;32m/lila/data/morrisq/divyak/projects/metient/metient/util/data_extraction_util.py:74\u001b[0m, in \u001b[0;36mvalidate_unpooled_or_pooled_df\u001b[0;34m(df, tsv_fn, index_cols)\u001b[0m\n\u001b[1;32m     72\u001b[0m _validate_combo(df, tsv_fn, \u001b[38;5;124m'\u001b[39m\u001b[38;5;124manatomical_site_index\u001b[39m\u001b[38;5;124m'\u001b[39m, \u001b[38;5;124m'\u001b[39m\u001b[38;5;124msite_category\u001b[39m\u001b[38;5;124m'\u001b[39m, \u001b[38;5;124m\"\u001b[39m\u001b[38;5;124mEach unique anatomical site index must correspond to the same site_category.\u001b[39m\u001b[38;5;124m\"\u001b[39m)\n\u001b[1;32m     73\u001b[0m \u001b[38;5;66;03m# Check that all index columns go from 0 to max\u001b[39;00m\n\u001b[0;32m---> 74\u001b[0m \u001b[38;5;28;01massert\u001b[39;00m \u001b[38;5;28mset\u001b[39m(df[\u001b[38;5;124m'\u001b[39m\u001b[38;5;124mcluster_index\u001b[39m\u001b[38;5;124m'\u001b[39m]) \u001b[38;5;241m==\u001b[39m \u001b[38;5;28mset\u001b[39m(\u001b[38;5;28mrange\u001b[39m(\u001b[38;5;28mlen\u001b[39m(df[\u001b[38;5;124m'\u001b[39m\u001b[38;5;124mcluster_index\u001b[39m\u001b[38;5;124m'\u001b[39m]\u001b[38;5;241m.\u001b[39munique()))), \u001b[38;5;124mf\u001b[39m\u001b[38;5;124m\"\u001b[39m\u001b[38;5;124mcluster_index values do not go from 0 to max. Issue in: \u001b[39m\u001b[38;5;132;01m{\u001b[39;00mtsv_fn\u001b[38;5;132;01m}\u001b[39;00m\u001b[38;5;124m\"\u001b[39m\n\u001b[1;32m     75\u001b[0m \u001b[38;5;28;01massert\u001b[39;00m \u001b[38;5;28mset\u001b[39m(df[\u001b[38;5;124m'\u001b[39m\u001b[38;5;124manatomical_site_index\u001b[39m\u001b[38;5;124m'\u001b[39m]) \u001b[38;5;241m==\u001b[39m \u001b[38;5;28mset\u001b[39m(\u001b[38;5;28mrange\u001b[39m(\u001b[38;5;28mlen\u001b[39m(df[\u001b[38;5;124m'\u001b[39m\u001b[38;5;124manatomical_site_index\u001b[39m\u001b[38;5;124m'\u001b[39m]\u001b[38;5;241m.\u001b[39munique()))), \u001b[38;5;124mf\u001b[39m\u001b[38;5;124m\"\u001b[39m\u001b[38;5;124manatomical_site_index values do not go from 0 to max, Issue in: \u001b[39m\u001b[38;5;132;01m{\u001b[39;00mtsv_fn\u001b[38;5;132;01m}\u001b[39;00m\u001b[38;5;124m\"\u001b[39m\n",
      "\u001b[0;31mAssertionError\u001b[0m: cluster_index values do not go from 0 to max. Issue in: /lila/data/morrisq/divyak/projects/metient/metient/jupyter_notebooks/tracerx_analysis/../../data/tracerx_nsclc/CRUK0762_no_cna_testing/CRUK0762_SNVs.tsv"
     ]
    }
   ],
   "source": [
    "import pandas as pd\n",
    "no_cna_dir = os.path.join(TRACERX_DATA_DIR, \"CRUK0762_no_cna_testing\")\n",
    "dutil.pool_input_tsv(os.path.join(no_cna_dir, \"CRUK0762_SNVs.tsv\"), no_cna_dir, f\"tmp_CRUK0762\")\n",
    "df = pd.read_csv(os.path.join(no_cna_dir,\"tmp_CRUK0762_clustered_SNVs.tsv\"),sep=\"\\t\")\n",
    "df['implied F no CNA'] = df.apply(lambda row: row['var']/(0.5*row['ref']+row['var']), axis=1)\n",
    "df = df[['anatomical_site_label', 'cluster_index', 'implied F no CNA']]\n",
    "matrix_df = df.pivot(index='cluster_index', columns='anatomical_site_label', values='implied F no CNA')\n",
    "matrix_df.to_csv(os.path.join(no_cna_dir,\"CRUK0762_clustered_SNVs_no_cnas.tsv\"), sep=\"\\t\")\n"
   ]
  },
  {
   "cell_type": "code",
   "execution_count": null,
   "id": "a94b61de",
   "metadata": {},
   "outputs": [],
   "source": [
    "df"
   ]
  }
 ],
 "metadata": {
  "kernelspec": {
   "display_name": "Python [conda env:met]",
   "language": "python",
   "name": "conda-env-met-py"
  },
  "language_info": {
   "codemirror_mode": {
    "name": "ipython",
    "version": 3
   },
   "file_extension": ".py",
   "mimetype": "text/x-python",
   "name": "python",
   "nbconvert_exporter": "python",
   "pygments_lexer": "ipython3",
   "version": "3.8.0"
  }
 },
 "nbformat": 4,
 "nbformat_minor": 5
}
