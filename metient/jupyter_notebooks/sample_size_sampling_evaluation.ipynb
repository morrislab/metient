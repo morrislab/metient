{
 "cells": [
  {
   "cell_type": "code",
   "execution_count": 1,
   "id": "4624fc1b",
   "metadata": {},
   "outputs": [
    {
     "name": "stdout",
     "output_type": "stream",
     "text": [
      "CUDA GPU: False\n"
     ]
    },
    {
     "data": {
      "text/plain": [
       "<Figure size 640x480 with 0 Axes>"
      ]
     },
     "metadata": {},
     "output_type": "display_data"
    }
   ],
   "source": [
    "#!/usr/bin/python\n",
    "'''\n",
    "Evaluate how well solutions match when run multiple times, with varying sample size\n",
    "'''\n",
    "import sys\n",
    "import os\n",
    "import fnmatch\n",
    "import numpy as np\n",
    "from src.util.vertex_labeling_util import LabeledTree\n",
    "from src.util.globals import *\n",
    "\n",
    "import re\n",
    "import pickle\n",
    "\n",
    "REPO_DIR = os.path.join(os.getcwd(), \"../\")\n",
    "os.chdir(REPO_DIR)\n",
    "\n",
    "DATE = \"12062023\"\n",
    "PARAMS = \"calibrate_solvepoly_wip_gen0.2\"\n",
    "\n",
    "# plotting\n",
    "import pandas as pd\n",
    "import seaborn as sns\n",
    "import matplotlib.pyplot as plt\n",
    "sns.set(font_scale=1.5)\n",
    "\n",
    "sns.set_style(\"whitegrid\")\n",
    "sns.set_style(\"ticks\")\n",
    "sns.despine()\n",
    "from matplotlib import rcParams\n",
    "rcParams.update({'figure.autolayout': True})\n",
    "pc_map = {'mS':0, 'pS': 1, 'mM': 2, 'pM': 3, 'mR': 4, 'pR': 5}\n",
    "\n",
    "from statannot import add_stat_annotation\n",
    "from src.util import eval_util as eutil"
   ]
  },
  {
   "cell_type": "code",
   "execution_count": 2,
   "id": "6319a26b",
   "metadata": {},
   "outputs": [],
   "source": [
    "import gzip\n",
    "\n",
    "def get_num_mut_trees(mut_tree_fn):\n",
    "    with open(mut_tree_fn, 'r') as f:\n",
    "        # look for line w/ \"3 #trees\" as an example\n",
    "        for line in f:\n",
    "            if  \"#trees\" in line:\n",
    "                return int(line.strip().split()[0])    \n",
    "\n",
    "def get_pckl_info(bs, run, site, mig_type, seed, tree_num, topk):\n",
    "    prediction_dir = os.path.join(REPO_DIR, 'test', 'machina_simulated_data', f'sample_size_experiments_{PARAMS}_{DATE}/predictions_batch_exp_bs{bs}_{PARAMS}_r{run}_{DATE}')\n",
    "    predicted_site_mig_type_data_dir = os.path.join(prediction_dir, site, mig_type)\n",
    "    \n",
    "    with gzip.open(os.path.join(predicted_site_mig_type_data_dir, f\"tree{tree_num}_seed{seed}.pkl.gz\"), \"rb\") as f:\n",
    "        pckl = pickle.load(f)\n",
    "    Vs = pckl[OUT_LABElING_KEY]\n",
    "    k = topk if len(Vs) >= topk else len(Vs)\n",
    "    Vs = Vs[:k]\n",
    "    As = pckl[OUT_ADJ_KEY][:k]\n",
    "    losses = pckl[OUT_LOSSES_KEY][:k]\n",
    "    return Vs, As, losses\n",
    "\n",
    "def get_rank_to_percent_runs(solution_to_losses, run_num_to_solutions):\n",
    "       \n",
    "    # get the avg loss across runs for each solution\n",
    "    for solution in solution_to_losses:\n",
    "        solution_to_losses[solution] = sum(solution_to_losses[solution])/len(solution_to_losses[solution])\n",
    "    solution_losses_list = [(k,v) for k,v in solution_to_losses.items()]\n",
    "    solution_losses_list = sorted(solution_losses_list, key=lambda x: x[1])\n",
    "\n",
    "    rank_to_percent_runs = {}\n",
    "    # What % of runs get the solution as a function of the rank on the joined list?\n",
    "    for rank, (soln,_) in enumerate(solution_losses_list):\n",
    "        rank_to_percent_runs[rank] = []\n",
    "        for run in run_num_to_solutions:\n",
    "            if soln in run_num_to_solutions[run]:\n",
    "                rank_to_percent_runs[rank].append(run)\n",
    "    rank_to_percent_runs = {rank:(len(rank_to_percent_runs[rank])/num_runs) for rank in rank_to_percent_runs}\n",
    "    return rank_to_percent_runs"
   ]
  },
  {
   "cell_type": "code",
   "execution_count": 4,
   "id": "e03ad41c",
   "metadata": {},
   "outputs": [
    {
     "name": "stdout",
     "output_type": "stream",
     "text": [
      "matching top 5 solutions\n",
      "batch size: 64\n",
      "m8 M\n"
     ]
    },
    {
     "name": "stderr",
     "output_type": "stream",
     "text": [
      "100%|██████████| 10/10 [00:08<00:00,  1.24it/s]\n"
     ]
    },
    {
     "name": "stdout",
     "output_type": "stream",
     "text": [
      "m8 mS\n"
     ]
    },
    {
     "name": "stderr",
     "output_type": "stream",
     "text": [
      "100%|██████████| 10/10 [00:03<00:00,  2.69it/s]\n"
     ]
    },
    {
     "name": "stdout",
     "output_type": "stream",
     "text": [
      "m8 R\n"
     ]
    },
    {
     "name": "stderr",
     "output_type": "stream",
     "text": [
      "100%|██████████| 10/10 [00:04<00:00,  2.33it/s]\n"
     ]
    },
    {
     "name": "stdout",
     "output_type": "stream",
     "text": [
      "m8 S\n"
     ]
    },
    {
     "name": "stderr",
     "output_type": "stream",
     "text": [
      "100%|██████████| 10/10 [00:12<00:00,  1.30s/it]\n"
     ]
    },
    {
     "name": "stdout",
     "output_type": "stream",
     "text": [
      "m5 M\n"
     ]
    },
    {
     "name": "stderr",
     "output_type": "stream",
     "text": [
      "100%|██████████| 10/10 [00:03<00:00,  2.67it/s]\n"
     ]
    },
    {
     "name": "stdout",
     "output_type": "stream",
     "text": [
      "m5 mS\n"
     ]
    },
    {
     "name": "stderr",
     "output_type": "stream",
     "text": [
      "100%|██████████| 10/10 [00:00<00:00, 17.58it/s]\n"
     ]
    },
    {
     "name": "stdout",
     "output_type": "stream",
     "text": [
      "m5 R\n"
     ]
    },
    {
     "name": "stderr",
     "output_type": "stream",
     "text": [
      "100%|██████████| 10/10 [00:06<00:00,  1.54it/s]\n"
     ]
    },
    {
     "name": "stdout",
     "output_type": "stream",
     "text": [
      "m5 S\n"
     ]
    },
    {
     "name": "stderr",
     "output_type": "stream",
     "text": [
      "100%|██████████| 10/10 [00:01<00:00,  6.47it/s]\n"
     ]
    },
    {
     "name": "stdout",
     "output_type": "stream",
     "text": [
      "batch size: 256\n",
      "m8 M\n"
     ]
    },
    {
     "name": "stderr",
     "output_type": "stream",
     "text": [
      "100%|██████████| 10/10 [00:09<00:00,  1.11it/s]\n"
     ]
    },
    {
     "name": "stdout",
     "output_type": "stream",
     "text": [
      "m8 mS\n"
     ]
    },
    {
     "name": "stderr",
     "output_type": "stream",
     "text": [
      "100%|██████████| 10/10 [00:05<00:00,  1.86it/s]\n"
     ]
    },
    {
     "name": "stdout",
     "output_type": "stream",
     "text": [
      "m8 R\n"
     ]
    },
    {
     "name": "stderr",
     "output_type": "stream",
     "text": [
      "100%|██████████| 10/10 [00:04<00:00,  2.23it/s]\n"
     ]
    },
    {
     "name": "stdout",
     "output_type": "stream",
     "text": [
      "m8 S\n"
     ]
    },
    {
     "name": "stderr",
     "output_type": "stream",
     "text": [
      "100%|██████████| 10/10 [00:13<00:00,  1.32s/it]\n"
     ]
    },
    {
     "name": "stdout",
     "output_type": "stream",
     "text": [
      "m5 M\n"
     ]
    },
    {
     "name": "stderr",
     "output_type": "stream",
     "text": [
      "100%|██████████| 10/10 [00:04<00:00,  2.10it/s]\n"
     ]
    },
    {
     "name": "stdout",
     "output_type": "stream",
     "text": [
      "m5 mS\n"
     ]
    },
    {
     "name": "stderr",
     "output_type": "stream",
     "text": [
      "100%|██████████| 10/10 [00:00<00:00, 16.97it/s]\n"
     ]
    },
    {
     "name": "stdout",
     "output_type": "stream",
     "text": [
      "m5 R\n"
     ]
    },
    {
     "name": "stderr",
     "output_type": "stream",
     "text": [
      "100%|██████████| 10/10 [00:07<00:00,  1.30it/s]\n"
     ]
    },
    {
     "name": "stdout",
     "output_type": "stream",
     "text": [
      "m5 S\n"
     ]
    },
    {
     "name": "stderr",
     "output_type": "stream",
     "text": [
      "100%|██████████| 10/10 [00:01<00:00,  6.43it/s]\n"
     ]
    },
    {
     "name": "stdout",
     "output_type": "stream",
     "text": [
      "batch size: 1024\n",
      "m8 M\n"
     ]
    },
    {
     "name": "stderr",
     "output_type": "stream",
     "text": [
      "100%|██████████| 10/10 [00:10<00:00,  1.09s/it]\n"
     ]
    },
    {
     "name": "stdout",
     "output_type": "stream",
     "text": [
      "m8 mS\n"
     ]
    },
    {
     "name": "stderr",
     "output_type": "stream",
     "text": [
      "100%|██████████| 10/10 [00:14<00:00,  1.43s/it]\n"
     ]
    },
    {
     "name": "stdout",
     "output_type": "stream",
     "text": [
      "m8 R\n"
     ]
    },
    {
     "name": "stderr",
     "output_type": "stream",
     "text": [
      "100%|██████████| 10/10 [00:06<00:00,  1.57it/s]\n"
     ]
    },
    {
     "name": "stdout",
     "output_type": "stream",
     "text": [
      "m8 S\n"
     ]
    },
    {
     "name": "stderr",
     "output_type": "stream",
     "text": [
      "100%|██████████| 10/10 [00:19<00:00,  1.95s/it]\n"
     ]
    },
    {
     "name": "stdout",
     "output_type": "stream",
     "text": [
      "m5 M\n"
     ]
    },
    {
     "name": "stderr",
     "output_type": "stream",
     "text": [
      "100%|██████████| 10/10 [00:05<00:00,  1.90it/s]\n"
     ]
    },
    {
     "name": "stdout",
     "output_type": "stream",
     "text": [
      "m5 mS\n"
     ]
    },
    {
     "name": "stderr",
     "output_type": "stream",
     "text": [
      "100%|██████████| 10/10 [00:00<00:00, 14.34it/s]\n"
     ]
    },
    {
     "name": "stdout",
     "output_type": "stream",
     "text": [
      "m5 R\n"
     ]
    },
    {
     "name": "stderr",
     "output_type": "stream",
     "text": [
      "100%|██████████| 10/10 [00:08<00:00,  1.17it/s]\n"
     ]
    },
    {
     "name": "stdout",
     "output_type": "stream",
     "text": [
      "m5 S\n"
     ]
    },
    {
     "name": "stderr",
     "output_type": "stream",
     "text": [
      "100%|██████████| 10/10 [00:01<00:00,  6.25it/s]\n"
     ]
    }
   ],
   "source": [
    "from tqdm import tqdm\n",
    "import torch\n",
    "\n",
    "topk = 5 # how many of the top solutions to check for \n",
    "num_runs = 5\n",
    "\n",
    "sites = [\"m8\", \"m5\"]\n",
    "mig_types = [\"M\", \"mS\", \"R\", \"S\"]\n",
    "batch_sizes = [64, 256, 1024]\n",
    "\n",
    "print(f\"matching top {topk} solutions\")\n",
    "\n",
    "m5_bs_to_rank_to_percentages = {}\n",
    "m8_bs_to_rank_to_percentages = {}\n",
    "all_sites_bs_to_rank_to_percentages = {}\n",
    "\n",
    "sims_dir = os.path.join(REPO_DIR, \"data/machina_sims\")\n",
    "\n",
    "for bs in batch_sizes:\n",
    "    print(\"batch size:\", bs)\n",
    "    m5_bs_to_rank_to_percentages[bs] = {}\n",
    "    m8_bs_to_rank_to_percentages[bs] = {}\n",
    "    all_sites_bs_to_rank_to_percentages[bs] = {}\n",
    "    for site in sites:\n",
    "        for mig_type in mig_types:\n",
    "            # Get all seeds for mig_type + site combo\n",
    "            site_mig_type_dir = os.path.join(sims_dir, site, mig_type)\n",
    "            seeds = fnmatch.filter(os.listdir(site_mig_type_dir), 'clustering_observed_seed*.txt')\n",
    "            seeds = [s.replace(\".txt\", \"\").replace(\"clustering_observed_seed\", \"\") for s in seeds]\n",
    "            print(site, mig_type)\n",
    "            for seed in tqdm(seeds):\n",
    "                # Get all the clone trees for this seed\n",
    "                num_trees = get_num_mut_trees(os.path.join(sims_dir, f\"{site}_mut_trees\", f\"mut_trees_{mig_type}_seed{seed}.txt\"))\n",
    "                for tree_num in range(num_trees):\n",
    "                    # across all the runs for this mig_type + site + seed + clone tree combo, \n",
    "                    # get the union of all solutions\n",
    "                    solution_to_losses = {}\n",
    "                    run_num_to_solutions = {}\n",
    "                    for run in range(1,num_runs+1):\n",
    "                        Vs, As, losses = get_pckl_info(bs, run, site, mig_type, seed, tree_num, topk)\n",
    "                        run_num_to_solutions[run] = []\n",
    "                        for V,A,loss in zip(Vs, As, losses):\n",
    "                            tree = LabeledTree(A.detach(), V.detach())\n",
    "                            if tree not in solution_to_losses:\n",
    "                                solution_to_losses[tree] = []\n",
    "                            solution_to_losses[tree].append(loss)\n",
    "                            run_num_to_solutions[run].append(tree)\n",
    "                    rank_to_percent_runs = get_rank_to_percent_runs(solution_to_losses, run_num_to_solutions)\n",
    "                    #print(rank_to_percent_runs)\n",
    "                    bs_to_rank_to_percentages = m5_bs_to_rank_to_percentages if site == \"m5\" else m8_bs_to_rank_to_percentages\n",
    "                    for rank in rank_to_percent_runs:\n",
    "                        if rank not in bs_to_rank_to_percentages[bs]:\n",
    "                            bs_to_rank_to_percentages[bs][rank] = []\n",
    "                            all_sites_bs_to_rank_to_percentages[bs][rank] = []\n",
    "                        bs_to_rank_to_percentages[bs][rank].append(rank_to_percent_runs[rank])\n",
    "                        all_sites_bs_to_rank_to_percentages[bs][rank].append(rank_to_percent_runs[rank])\n",
    "\n"
   ]
  },
  {
   "cell_type": "code",
   "execution_count": 5,
   "id": "05661194",
   "metadata": {
    "scrolled": true
   },
   "outputs": [
    {
     "data": {
      "text/html": [
       "<div>\n",
       "<style scoped>\n",
       "    .dataframe tbody tr th:only-of-type {\n",
       "        vertical-align: middle;\n",
       "    }\n",
       "\n",
       "    .dataframe tbody tr th {\n",
       "        vertical-align: top;\n",
       "    }\n",
       "\n",
       "    .dataframe thead th {\n",
       "        text-align: right;\n",
       "    }\n",
       "</style>\n",
       "<table border=\"1\" class=\"dataframe\">\n",
       "  <thead>\n",
       "    <tr style=\"text-align: right;\">\n",
       "      <th></th>\n",
       "      <th>Rank</th>\n",
       "      <th>Method</th>\n",
       "      <th>% runs</th>\n",
       "    </tr>\n",
       "  </thead>\n",
       "  <tbody>\n",
       "    <tr>\n",
       "      <th>0</th>\n",
       "      <td>1</td>\n",
       "      <td>Metient-64</td>\n",
       "      <td>96.475</td>\n",
       "    </tr>\n",
       "    <tr>\n",
       "      <th>1</th>\n",
       "      <td>2</td>\n",
       "      <td>Metient-64</td>\n",
       "      <td>92.249</td>\n",
       "    </tr>\n",
       "    <tr>\n",
       "      <th>2</th>\n",
       "      <td>3</td>\n",
       "      <td>Metient-64</td>\n",
       "      <td>90.272</td>\n",
       "    </tr>\n",
       "    <tr>\n",
       "      <th>3</th>\n",
       "      <td>4</td>\n",
       "      <td>Metient-64</td>\n",
       "      <td>89.865</td>\n",
       "    </tr>\n",
       "    <tr>\n",
       "      <th>4</th>\n",
       "      <td>5</td>\n",
       "      <td>Metient-64</td>\n",
       "      <td>89.333</td>\n",
       "    </tr>\n",
       "    <tr>\n",
       "      <th>5</th>\n",
       "      <td>6</td>\n",
       "      <td>Metient-64</td>\n",
       "      <td>58.824</td>\n",
       "    </tr>\n",
       "    <tr>\n",
       "      <th>6</th>\n",
       "      <td>7</td>\n",
       "      <td>Metient-64</td>\n",
       "      <td>44.000</td>\n",
       "    </tr>\n",
       "    <tr>\n",
       "      <th>7</th>\n",
       "      <td>8</td>\n",
       "      <td>Metient-64</td>\n",
       "      <td>40.000</td>\n",
       "    </tr>\n",
       "    <tr>\n",
       "      <th>8</th>\n",
       "      <td>9</td>\n",
       "      <td>Metient-64</td>\n",
       "      <td>60.000</td>\n",
       "    </tr>\n",
       "    <tr>\n",
       "      <th>9</th>\n",
       "      <td>1</td>\n",
       "      <td>Metient-256</td>\n",
       "      <td>97.041</td>\n",
       "    </tr>\n",
       "    <tr>\n",
       "      <th>10</th>\n",
       "      <td>2</td>\n",
       "      <td>Metient-256</td>\n",
       "      <td>93.681</td>\n",
       "    </tr>\n",
       "    <tr>\n",
       "      <th>11</th>\n",
       "      <td>3</td>\n",
       "      <td>Metient-256</td>\n",
       "      <td>91.771</td>\n",
       "    </tr>\n",
       "    <tr>\n",
       "      <th>12</th>\n",
       "      <td>4</td>\n",
       "      <td>Metient-256</td>\n",
       "      <td>92.705</td>\n",
       "    </tr>\n",
       "    <tr>\n",
       "      <th>13</th>\n",
       "      <td>5</td>\n",
       "      <td>Metient-256</td>\n",
       "      <td>88.286</td>\n",
       "    </tr>\n",
       "    <tr>\n",
       "      <th>14</th>\n",
       "      <td>6</td>\n",
       "      <td>Metient-256</td>\n",
       "      <td>49.630</td>\n",
       "    </tr>\n",
       "    <tr>\n",
       "      <th>15</th>\n",
       "      <td>7</td>\n",
       "      <td>Metient-256</td>\n",
       "      <td>36.000</td>\n",
       "    </tr>\n",
       "    <tr>\n",
       "      <th>16</th>\n",
       "      <td>8</td>\n",
       "      <td>Metient-256</td>\n",
       "      <td>30.000</td>\n",
       "    </tr>\n",
       "    <tr>\n",
       "      <th>17</th>\n",
       "      <td>9</td>\n",
       "      <td>Metient-256</td>\n",
       "      <td>40.000</td>\n",
       "    </tr>\n",
       "    <tr>\n",
       "      <th>18</th>\n",
       "      <td>10</td>\n",
       "      <td>Metient-256</td>\n",
       "      <td>60.000</td>\n",
       "    </tr>\n",
       "    <tr>\n",
       "      <th>19</th>\n",
       "      <td>1</td>\n",
       "      <td>Metient-1024</td>\n",
       "      <td>97.776</td>\n",
       "    </tr>\n",
       "    <tr>\n",
       "      <th>20</th>\n",
       "      <td>2</td>\n",
       "      <td>Metient-1024</td>\n",
       "      <td>95.637</td>\n",
       "    </tr>\n",
       "    <tr>\n",
       "      <th>21</th>\n",
       "      <td>3</td>\n",
       "      <td>Metient-1024</td>\n",
       "      <td>94.138</td>\n",
       "    </tr>\n",
       "    <tr>\n",
       "      <th>22</th>\n",
       "      <td>4</td>\n",
       "      <td>Metient-1024</td>\n",
       "      <td>94.203</td>\n",
       "    </tr>\n",
       "    <tr>\n",
       "      <th>23</th>\n",
       "      <td>5</td>\n",
       "      <td>Metient-1024</td>\n",
       "      <td>94.196</td>\n",
       "    </tr>\n",
       "    <tr>\n",
       "      <th>24</th>\n",
       "      <td>6</td>\n",
       "      <td>Metient-1024</td>\n",
       "      <td>46.486</td>\n",
       "    </tr>\n",
       "    <tr>\n",
       "      <th>25</th>\n",
       "      <td>7</td>\n",
       "      <td>Metient-1024</td>\n",
       "      <td>40.000</td>\n",
       "    </tr>\n",
       "    <tr>\n",
       "      <th>26</th>\n",
       "      <td>8</td>\n",
       "      <td>Metient-1024</td>\n",
       "      <td>60.000</td>\n",
       "    </tr>\n",
       "    <tr>\n",
       "      <th>27</th>\n",
       "      <td>9</td>\n",
       "      <td>Metient-1024</td>\n",
       "      <td>40.000</td>\n",
       "    </tr>\n",
       "    <tr>\n",
       "      <th>28</th>\n",
       "      <td>10</td>\n",
       "      <td>Metient-1024</td>\n",
       "      <td>40.000</td>\n",
       "    </tr>\n",
       "    <tr>\n",
       "      <th>29</th>\n",
       "      <td>11</td>\n",
       "      <td>Metient-1024</td>\n",
       "      <td>20.000</td>\n",
       "    </tr>\n",
       "  </tbody>\n",
       "</table>\n",
       "</div>"
      ],
      "text/plain": [
       "    Rank        Method  % runs\n",
       "0      1    Metient-64  96.475\n",
       "1      2    Metient-64  92.249\n",
       "2      3    Metient-64  90.272\n",
       "3      4    Metient-64  89.865\n",
       "4      5    Metient-64  89.333\n",
       "5      6    Metient-64  58.824\n",
       "6      7    Metient-64  44.000\n",
       "7      8    Metient-64  40.000\n",
       "8      9    Metient-64  60.000\n",
       "9      1   Metient-256  97.041\n",
       "10     2   Metient-256  93.681\n",
       "11     3   Metient-256  91.771\n",
       "12     4   Metient-256  92.705\n",
       "13     5   Metient-256  88.286\n",
       "14     6   Metient-256  49.630\n",
       "15     7   Metient-256  36.000\n",
       "16     8   Metient-256  30.000\n",
       "17     9   Metient-256  40.000\n",
       "18    10   Metient-256  60.000\n",
       "19     1  Metient-1024  97.776\n",
       "20     2  Metient-1024  95.637\n",
       "21     3  Metient-1024  94.138\n",
       "22     4  Metient-1024  94.203\n",
       "23     5  Metient-1024  94.196\n",
       "24     6  Metient-1024  46.486\n",
       "25     7  Metient-1024  40.000\n",
       "26     8  Metient-1024  60.000\n",
       "27     9  Metient-1024  40.000\n",
       "28    10  Metient-1024  40.000\n",
       "29    11  Metient-1024  20.000"
      ]
     },
     "execution_count": 5,
     "metadata": {},
     "output_type": "execute_result"
    }
   ],
   "source": [
    "import pandas as pd\n",
    "\n",
    "m8_data = []\n",
    "for bs in m8_bs_to_rank_to_percentages:\n",
    "    for rank in m8_bs_to_rank_to_percentages[bs]:\n",
    "        avg = 100*(sum(m8_bs_to_rank_to_percentages[bs][rank])/len(m8_bs_to_rank_to_percentages[bs][rank]))\n",
    "        m8_data.append([rank+1, f\"Metient-{bs}\", avg])\n",
    "m8_df = pd.DataFrame(m8_data, columns=[\"Rank\", \"Method\", \"% runs\"])\n",
    "m8_df"
   ]
  },
  {
   "cell_type": "code",
   "execution_count": 6,
   "id": "bb268893",
   "metadata": {
    "scrolled": true
   },
   "outputs": [
    {
     "data": {
      "text/html": [
       "<div>\n",
       "<style scoped>\n",
       "    .dataframe tbody tr th:only-of-type {\n",
       "        vertical-align: middle;\n",
       "    }\n",
       "\n",
       "    .dataframe tbody tr th {\n",
       "        vertical-align: top;\n",
       "    }\n",
       "\n",
       "    .dataframe thead th {\n",
       "        text-align: right;\n",
       "    }\n",
       "</style>\n",
       "<table border=\"1\" class=\"dataframe\">\n",
       "  <thead>\n",
       "    <tr style=\"text-align: right;\">\n",
       "      <th></th>\n",
       "      <th>Rank</th>\n",
       "      <th>Method</th>\n",
       "      <th>% runs</th>\n",
       "    </tr>\n",
       "  </thead>\n",
       "  <tbody>\n",
       "    <tr>\n",
       "      <th>0</th>\n",
       "      <td>1</td>\n",
       "      <td>Metient-64</td>\n",
       "      <td>97.099</td>\n",
       "    </tr>\n",
       "    <tr>\n",
       "      <th>1</th>\n",
       "      <td>2</td>\n",
       "      <td>Metient-64</td>\n",
       "      <td>93.263</td>\n",
       "    </tr>\n",
       "    <tr>\n",
       "      <th>2</th>\n",
       "      <td>3</td>\n",
       "      <td>Metient-64</td>\n",
       "      <td>91.250</td>\n",
       "    </tr>\n",
       "    <tr>\n",
       "      <th>3</th>\n",
       "      <td>4</td>\n",
       "      <td>Metient-64</td>\n",
       "      <td>88.169</td>\n",
       "    </tr>\n",
       "    <tr>\n",
       "      <th>4</th>\n",
       "      <td>5</td>\n",
       "      <td>Metient-64</td>\n",
       "      <td>80.000</td>\n",
       "    </tr>\n",
       "    <tr>\n",
       "      <th>5</th>\n",
       "      <td>6</td>\n",
       "      <td>Metient-64</td>\n",
       "      <td>50.000</td>\n",
       "    </tr>\n",
       "    <tr>\n",
       "      <th>6</th>\n",
       "      <td>7</td>\n",
       "      <td>Metient-64</td>\n",
       "      <td>40.000</td>\n",
       "    </tr>\n",
       "    <tr>\n",
       "      <th>7</th>\n",
       "      <td>1</td>\n",
       "      <td>Metient-256</td>\n",
       "      <td>98.225</td>\n",
       "    </tr>\n",
       "    <tr>\n",
       "      <th>8</th>\n",
       "      <td>2</td>\n",
       "      <td>Metient-256</td>\n",
       "      <td>96.527</td>\n",
       "    </tr>\n",
       "    <tr>\n",
       "      <th>9</th>\n",
       "      <td>3</td>\n",
       "      <td>Metient-256</td>\n",
       "      <td>94.337</td>\n",
       "    </tr>\n",
       "    <tr>\n",
       "      <th>10</th>\n",
       "      <td>4</td>\n",
       "      <td>Metient-256</td>\n",
       "      <td>93.939</td>\n",
       "    </tr>\n",
       "    <tr>\n",
       "      <th>11</th>\n",
       "      <td>5</td>\n",
       "      <td>Metient-256</td>\n",
       "      <td>94.426</td>\n",
       "    </tr>\n",
       "    <tr>\n",
       "      <th>12</th>\n",
       "      <td>6</td>\n",
       "      <td>Metient-256</td>\n",
       "      <td>44.000</td>\n",
       "    </tr>\n",
       "    <tr>\n",
       "      <th>13</th>\n",
       "      <td>7</td>\n",
       "      <td>Metient-256</td>\n",
       "      <td>20.000</td>\n",
       "    </tr>\n",
       "    <tr>\n",
       "      <th>14</th>\n",
       "      <td>8</td>\n",
       "      <td>Metient-256</td>\n",
       "      <td>20.000</td>\n",
       "    </tr>\n",
       "    <tr>\n",
       "      <th>15</th>\n",
       "      <td>1</td>\n",
       "      <td>Metient-1024</td>\n",
       "      <td>98.601</td>\n",
       "    </tr>\n",
       "    <tr>\n",
       "      <th>16</th>\n",
       "      <td>2</td>\n",
       "      <td>Metient-1024</td>\n",
       "      <td>97.048</td>\n",
       "    </tr>\n",
       "    <tr>\n",
       "      <th>17</th>\n",
       "      <td>3</td>\n",
       "      <td>Metient-1024</td>\n",
       "      <td>95.853</td>\n",
       "    </tr>\n",
       "    <tr>\n",
       "      <th>18</th>\n",
       "      <td>4</td>\n",
       "      <td>Metient-1024</td>\n",
       "      <td>94.215</td>\n",
       "    </tr>\n",
       "    <tr>\n",
       "      <th>19</th>\n",
       "      <td>5</td>\n",
       "      <td>Metient-1024</td>\n",
       "      <td>94.815</td>\n",
       "    </tr>\n",
       "    <tr>\n",
       "      <th>20</th>\n",
       "      <td>6</td>\n",
       "      <td>Metient-1024</td>\n",
       "      <td>43.636</td>\n",
       "    </tr>\n",
       "    <tr>\n",
       "      <th>21</th>\n",
       "      <td>7</td>\n",
       "      <td>Metient-1024</td>\n",
       "      <td>48.000</td>\n",
       "    </tr>\n",
       "    <tr>\n",
       "      <th>22</th>\n",
       "      <td>8</td>\n",
       "      <td>Metient-1024</td>\n",
       "      <td>36.000</td>\n",
       "    </tr>\n",
       "    <tr>\n",
       "      <th>23</th>\n",
       "      <td>9</td>\n",
       "      <td>Metient-1024</td>\n",
       "      <td>52.000</td>\n",
       "    </tr>\n",
       "    <tr>\n",
       "      <th>24</th>\n",
       "      <td>10</td>\n",
       "      <td>Metient-1024</td>\n",
       "      <td>53.333</td>\n",
       "    </tr>\n",
       "    <tr>\n",
       "      <th>25</th>\n",
       "      <td>11</td>\n",
       "      <td>Metient-1024</td>\n",
       "      <td>20.000</td>\n",
       "    </tr>\n",
       "    <tr>\n",
       "      <th>26</th>\n",
       "      <td>12</td>\n",
       "      <td>Metient-1024</td>\n",
       "      <td>30.000</td>\n",
       "    </tr>\n",
       "    <tr>\n",
       "      <th>27</th>\n",
       "      <td>13</td>\n",
       "      <td>Metient-1024</td>\n",
       "      <td>20.000</td>\n",
       "    </tr>\n",
       "    <tr>\n",
       "      <th>28</th>\n",
       "      <td>14</td>\n",
       "      <td>Metient-1024</td>\n",
       "      <td>20.000</td>\n",
       "    </tr>\n",
       "  </tbody>\n",
       "</table>\n",
       "</div>"
      ],
      "text/plain": [
       "    Rank        Method  % runs\n",
       "0      1    Metient-64  97.099\n",
       "1      2    Metient-64  93.263\n",
       "2      3    Metient-64  91.250\n",
       "3      4    Metient-64  88.169\n",
       "4      5    Metient-64  80.000\n",
       "5      6    Metient-64  50.000\n",
       "6      7    Metient-64  40.000\n",
       "7      1   Metient-256  98.225\n",
       "8      2   Metient-256  96.527\n",
       "9      3   Metient-256  94.337\n",
       "10     4   Metient-256  93.939\n",
       "11     5   Metient-256  94.426\n",
       "12     6   Metient-256  44.000\n",
       "13     7   Metient-256  20.000\n",
       "14     8   Metient-256  20.000\n",
       "15     1  Metient-1024  98.601\n",
       "16     2  Metient-1024  97.048\n",
       "17     3  Metient-1024  95.853\n",
       "18     4  Metient-1024  94.215\n",
       "19     5  Metient-1024  94.815\n",
       "20     6  Metient-1024  43.636\n",
       "21     7  Metient-1024  48.000\n",
       "22     8  Metient-1024  36.000\n",
       "23     9  Metient-1024  52.000\n",
       "24    10  Metient-1024  53.333\n",
       "25    11  Metient-1024  20.000\n",
       "26    12  Metient-1024  30.000\n",
       "27    13  Metient-1024  20.000\n",
       "28    14  Metient-1024  20.000"
      ]
     },
     "execution_count": 6,
     "metadata": {},
     "output_type": "execute_result"
    }
   ],
   "source": [
    "m5_data = []\n",
    "for bs in m5_bs_to_rank_to_percentages:\n",
    "    for rank in m5_bs_to_rank_to_percentages[bs]:\n",
    "        avg = 100*(sum(m5_bs_to_rank_to_percentages[bs][rank])/len(m5_bs_to_rank_to_percentages[bs][rank]))\n",
    "        m5_data.append([rank+1, f\"Metient-{bs}\", avg])\n",
    "m5_df = pd.DataFrame(m5_data, columns=[\"Rank\", \"Method\", \"% runs\"])\n",
    "m5_df"
   ]
  },
  {
   "cell_type": "code",
   "execution_count": 7,
   "id": "22bcda83",
   "metadata": {},
   "outputs": [
    {
     "data": {
      "text/html": [
       "<div>\n",
       "<style scoped>\n",
       "    .dataframe tbody tr th:only-of-type {\n",
       "        vertical-align: middle;\n",
       "    }\n",
       "\n",
       "    .dataframe tbody tr th {\n",
       "        vertical-align: top;\n",
       "    }\n",
       "\n",
       "    .dataframe thead th {\n",
       "        text-align: right;\n",
       "    }\n",
       "</style>\n",
       "<table border=\"1\" class=\"dataframe\">\n",
       "  <thead>\n",
       "    <tr style=\"text-align: right;\">\n",
       "      <th></th>\n",
       "      <th>Rank</th>\n",
       "      <th>Method</th>\n",
       "      <th>% runs</th>\n",
       "    </tr>\n",
       "  </thead>\n",
       "  <tbody>\n",
       "    <tr>\n",
       "      <th>0</th>\n",
       "      <td>1</td>\n",
       "      <td>Metient-64</td>\n",
       "      <td>97.099</td>\n",
       "    </tr>\n",
       "    <tr>\n",
       "      <th>1</th>\n",
       "      <td>2</td>\n",
       "      <td>Metient-64</td>\n",
       "      <td>93.263</td>\n",
       "    </tr>\n",
       "    <tr>\n",
       "      <th>2</th>\n",
       "      <td>3</td>\n",
       "      <td>Metient-64</td>\n",
       "      <td>91.250</td>\n",
       "    </tr>\n",
       "    <tr>\n",
       "      <th>3</th>\n",
       "      <td>4</td>\n",
       "      <td>Metient-64</td>\n",
       "      <td>88.169</td>\n",
       "    </tr>\n",
       "    <tr>\n",
       "      <th>4</th>\n",
       "      <td>5</td>\n",
       "      <td>Metient-64</td>\n",
       "      <td>80.000</td>\n",
       "    </tr>\n",
       "    <tr>\n",
       "      <th>5</th>\n",
       "      <td>6</td>\n",
       "      <td>Metient-64</td>\n",
       "      <td>50.000</td>\n",
       "    </tr>\n",
       "    <tr>\n",
       "      <th>6</th>\n",
       "      <td>7</td>\n",
       "      <td>Metient-64</td>\n",
       "      <td>40.000</td>\n",
       "    </tr>\n",
       "    <tr>\n",
       "      <th>7</th>\n",
       "      <td>8</td>\n",
       "      <td>Metient-64</td>\n",
       "      <td>40.000</td>\n",
       "    </tr>\n",
       "    <tr>\n",
       "      <th>8</th>\n",
       "      <td>9</td>\n",
       "      <td>Metient-64</td>\n",
       "      <td>60.000</td>\n",
       "    </tr>\n",
       "    <tr>\n",
       "      <th>9</th>\n",
       "      <td>1</td>\n",
       "      <td>Metient-256</td>\n",
       "      <td>98.225</td>\n",
       "    </tr>\n",
       "    <tr>\n",
       "      <th>10</th>\n",
       "      <td>2</td>\n",
       "      <td>Metient-256</td>\n",
       "      <td>96.527</td>\n",
       "    </tr>\n",
       "    <tr>\n",
       "      <th>11</th>\n",
       "      <td>3</td>\n",
       "      <td>Metient-256</td>\n",
       "      <td>94.337</td>\n",
       "    </tr>\n",
       "    <tr>\n",
       "      <th>12</th>\n",
       "      <td>4</td>\n",
       "      <td>Metient-256</td>\n",
       "      <td>93.939</td>\n",
       "    </tr>\n",
       "    <tr>\n",
       "      <th>13</th>\n",
       "      <td>5</td>\n",
       "      <td>Metient-256</td>\n",
       "      <td>94.426</td>\n",
       "    </tr>\n",
       "    <tr>\n",
       "      <th>14</th>\n",
       "      <td>6</td>\n",
       "      <td>Metient-256</td>\n",
       "      <td>44.000</td>\n",
       "    </tr>\n",
       "    <tr>\n",
       "      <th>15</th>\n",
       "      <td>7</td>\n",
       "      <td>Metient-256</td>\n",
       "      <td>20.000</td>\n",
       "    </tr>\n",
       "    <tr>\n",
       "      <th>16</th>\n",
       "      <td>8</td>\n",
       "      <td>Metient-256</td>\n",
       "      <td>20.000</td>\n",
       "    </tr>\n",
       "    <tr>\n",
       "      <th>17</th>\n",
       "      <td>9</td>\n",
       "      <td>Metient-256</td>\n",
       "      <td>40.000</td>\n",
       "    </tr>\n",
       "    <tr>\n",
       "      <th>18</th>\n",
       "      <td>10</td>\n",
       "      <td>Metient-256</td>\n",
       "      <td>60.000</td>\n",
       "    </tr>\n",
       "    <tr>\n",
       "      <th>19</th>\n",
       "      <td>1</td>\n",
       "      <td>Metient-1024</td>\n",
       "      <td>98.601</td>\n",
       "    </tr>\n",
       "    <tr>\n",
       "      <th>20</th>\n",
       "      <td>2</td>\n",
       "      <td>Metient-1024</td>\n",
       "      <td>97.048</td>\n",
       "    </tr>\n",
       "    <tr>\n",
       "      <th>21</th>\n",
       "      <td>3</td>\n",
       "      <td>Metient-1024</td>\n",
       "      <td>95.853</td>\n",
       "    </tr>\n",
       "    <tr>\n",
       "      <th>22</th>\n",
       "      <td>4</td>\n",
       "      <td>Metient-1024</td>\n",
       "      <td>94.215</td>\n",
       "    </tr>\n",
       "    <tr>\n",
       "      <th>23</th>\n",
       "      <td>5</td>\n",
       "      <td>Metient-1024</td>\n",
       "      <td>94.815</td>\n",
       "    </tr>\n",
       "    <tr>\n",
       "      <th>24</th>\n",
       "      <td>6</td>\n",
       "      <td>Metient-1024</td>\n",
       "      <td>43.636</td>\n",
       "    </tr>\n",
       "    <tr>\n",
       "      <th>25</th>\n",
       "      <td>7</td>\n",
       "      <td>Metient-1024</td>\n",
       "      <td>48.000</td>\n",
       "    </tr>\n",
       "    <tr>\n",
       "      <th>26</th>\n",
       "      <td>8</td>\n",
       "      <td>Metient-1024</td>\n",
       "      <td>36.000</td>\n",
       "    </tr>\n",
       "    <tr>\n",
       "      <th>27</th>\n",
       "      <td>9</td>\n",
       "      <td>Metient-1024</td>\n",
       "      <td>52.000</td>\n",
       "    </tr>\n",
       "    <tr>\n",
       "      <th>28</th>\n",
       "      <td>10</td>\n",
       "      <td>Metient-1024</td>\n",
       "      <td>53.333</td>\n",
       "    </tr>\n",
       "    <tr>\n",
       "      <th>29</th>\n",
       "      <td>11</td>\n",
       "      <td>Metient-1024</td>\n",
       "      <td>20.000</td>\n",
       "    </tr>\n",
       "    <tr>\n",
       "      <th>30</th>\n",
       "      <td>12</td>\n",
       "      <td>Metient-1024</td>\n",
       "      <td>30.000</td>\n",
       "    </tr>\n",
       "    <tr>\n",
       "      <th>31</th>\n",
       "      <td>13</td>\n",
       "      <td>Metient-1024</td>\n",
       "      <td>20.000</td>\n",
       "    </tr>\n",
       "    <tr>\n",
       "      <th>32</th>\n",
       "      <td>14</td>\n",
       "      <td>Metient-1024</td>\n",
       "      <td>20.000</td>\n",
       "    </tr>\n",
       "  </tbody>\n",
       "</table>\n",
       "</div>"
      ],
      "text/plain": [
       "    Rank        Method  % runs\n",
       "0      1    Metient-64  97.099\n",
       "1      2    Metient-64  93.263\n",
       "2      3    Metient-64  91.250\n",
       "3      4    Metient-64  88.169\n",
       "4      5    Metient-64  80.000\n",
       "5      6    Metient-64  50.000\n",
       "6      7    Metient-64  40.000\n",
       "7      8    Metient-64  40.000\n",
       "8      9    Metient-64  60.000\n",
       "9      1   Metient-256  98.225\n",
       "10     2   Metient-256  96.527\n",
       "11     3   Metient-256  94.337\n",
       "12     4   Metient-256  93.939\n",
       "13     5   Metient-256  94.426\n",
       "14     6   Metient-256  44.000\n",
       "15     7   Metient-256  20.000\n",
       "16     8   Metient-256  20.000\n",
       "17     9   Metient-256  40.000\n",
       "18    10   Metient-256  60.000\n",
       "19     1  Metient-1024  98.601\n",
       "20     2  Metient-1024  97.048\n",
       "21     3  Metient-1024  95.853\n",
       "22     4  Metient-1024  94.215\n",
       "23     5  Metient-1024  94.815\n",
       "24     6  Metient-1024  43.636\n",
       "25     7  Metient-1024  48.000\n",
       "26     8  Metient-1024  36.000\n",
       "27     9  Metient-1024  52.000\n",
       "28    10  Metient-1024  53.333\n",
       "29    11  Metient-1024  20.000\n",
       "30    12  Metient-1024  30.000\n",
       "31    13  Metient-1024  20.000\n",
       "32    14  Metient-1024  20.000"
      ]
     },
     "execution_count": 7,
     "metadata": {},
     "output_type": "execute_result"
    }
   ],
   "source": [
    "all_sites_data = []\n",
    "for bs in all_sites_bs_to_rank_to_percentages:\n",
    "    for rank in all_sites_bs_to_rank_to_percentages[bs]:\n",
    "        avg = 100*(sum(all_sites_bs_to_rank_to_percentages[bs][rank])/len(all_sites_bs_to_rank_to_percentages[bs][rank]))\n",
    "        all_sites_data.append([rank+1, f\"Metient-{bs}\", avg])\n",
    "all_sites_df = pd.DataFrame(all_sites_data, columns=[\"Rank\", \"Method\", \"% runs\"])\n",
    "all_sites_df"
   ]
  },
  {
   "cell_type": "code",
   "execution_count": 8,
   "id": "cbf5eea8",
   "metadata": {},
   "outputs": [
    {
     "name": "stdout",
     "output_type": "stream",
     "text": [
      "[(0.48942421, 0.72854938, 0.56751036), (0.34892097, 0.64828676, 0.56513633), (0.24929311, 0.56486397, 0.5586654)]\n"
     ]
    },
    {
     "data": {
      "image/png": "[encoded data removed]",
      "text/plain": [
       "<Figure size 573.5x400 with 1 Axes>"
      ]
     },
     "metadata": {},
     "output_type": "display_data"
    },
    {
     "data": {
      "image/png": "[encoded data removed]",
      "text/plain": [
       "<Figure size 573.5x400 with 1 Axes>"
      ]
     },
     "metadata": {},
     "output_type": "display_data"
    }
   ],
   "source": [
    "import seaborn as sns\n",
    "import matplotlib.pyplot as plt\n",
    "colors = sns.color_palette(\"crest\")\n",
    "colors = colors[:len(batch_sizes)]\n",
    "print(colors)\n",
    "sns.set_palette(sns.color_palette(colors))\n",
    "\n",
    "for name,df in zip([\"m5\", \"m8\"], [m5_df, m8_df]):\n",
    "    with sns.plotting_context(\"notebook\", font_scale=1.1):\n",
    "        g = sns.relplot(\n",
    "            data=df, x=\"Rank\", y=\"% runs\",\n",
    "            height=4, aspect=1.0, dashes=False, linewidth=2.5,\n",
    "            hue=\"Method\", style=\"Method\", kind=\"line\", errorbar='sd', legend=True,\n",
    "        )\n",
    "\n",
    "        (g.set_axis_labels(\"Rank of solution\", \"% of runs that solution is found\")\n",
    "          .set_titles(\"boop\")\n",
    "          .tight_layout(w_pad=0))\n",
    "        plt.xlim(1,16)\n",
    "        sns.move_legend(g, \"upper right\")\n",
    "        plt.show()\n",
    "        \n",
    "\n",
    "        fig = g.fig\n",
    "        #out_name = (\"_\").join(y_labels[i].split(\" \") + x.split(\" \"))\n",
    "        fig.savefig(os.path.join(REPO_DIR, \"test/output_plots\", f\"{name}_percent_solns_found_{PARAMS}_{DATE}.png\"), dpi=600) \n"
   ]
  },
  {
   "cell_type": "code",
   "execution_count": 9,
   "id": "819ecfa7",
   "metadata": {},
   "outputs": [
    {
     "name": "stdout",
     "output_type": "stream",
     "text": [
      "[(0.48942421, 0.72854938, 0.56751036), (0.34892097, 0.64828676, 0.56513633), (0.24929311, 0.56486397, 0.5586654)]\n"
     ]
    },
    {
     "data": {
      "image/png": "[encoded data removed]",
      "text/plain": [
       "<Figure size 400x400 with 1 Axes>"
      ]
     },
     "metadata": {},
     "output_type": "display_data"
    }
   ],
   "source": [
    "import seaborn as sns\n",
    "import matplotlib.pyplot as plt\n",
    "colors = sns.color_palette(\"crest\")\n",
    "colors = colors[:len(batch_sizes)]\n",
    "print(colors)\n",
    "sns.set_palette(sns.color_palette(colors))\n",
    "\n",
    "with sns.plotting_context(\"notebook\", font_scale=1.2):\n",
    "    g = sns.relplot(\n",
    "        data=all_sites_df, x=\"Rank\", y=\"% runs\",\n",
    "        height=4, aspect=1.0, dashes=False, linewidth=2.5,\n",
    "        hue=\"Method\", style=\"Method\", kind=\"line\", errorbar='sd', legend=False,\n",
    "    )\n",
    "\n",
    "    (g.set_axis_labels(\"Rank of solution\", \"% of runs that solution is found\")\n",
    "      .set_titles(\"boop\")\n",
    "      .tight_layout(w_pad=0))\n",
    "    plt.xlim(1,16)\n",
    "    plt.show()\n",
    "\n",
    "\n",
    "    fig = g.fig\n",
    "    fig.savefig(os.path.join(REPO_DIR, \"test/output_plots\", f\"all_sites_percent_solns_found_{PARAMS}_{DATE}.png\"), dpi=600) \n"
   ]
  },
  {
   "cell_type": "code",
   "execution_count": null,
   "id": "34f51ab0",
   "metadata": {},
   "outputs": [],
   "source": []
  }
 ],
 "metadata": {
  "kernelspec": {
   "display_name": "Python [conda env:mambaforge-met]",
   "language": "python",
   "name": "conda-env-mambaforge-met-py"
  },
  "language_info": {
   "codemirror_mode": {
    "name": "ipython",
    "version": 3
   },
   "file_extension": ".py",
   "mimetype": "text/x-python",
   "name": "python",
   "nbconvert_exporter": "python",
   "pygments_lexer": "ipython3",
   "version": "3.8.0"
  }
 },
 "nbformat": 4,
 "nbformat_minor": 5
}
