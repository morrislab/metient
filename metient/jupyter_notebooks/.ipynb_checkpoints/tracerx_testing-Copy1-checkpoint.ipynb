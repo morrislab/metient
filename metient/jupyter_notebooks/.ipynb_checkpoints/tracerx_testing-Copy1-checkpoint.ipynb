{
 "cells": [
  {
   "cell_type": "code",
   "execution_count": 1,
   "id": "ddf8601a",
   "metadata": {},
   "outputs": [
    {
     "name": "stderr",
     "output_type": "stream",
     "text": [
      "/lila/home/koyyald/mambaforge/envs/met/lib/python3.8/site-packages/torch/cuda/__init__.py:138: UserWarning: CUDA initialization: The NVIDIA driver on your system is too old (found version 11070). Please update your GPU driver by downloading and installing a new version from the URL: http://www.nvidia.com/Download/index.aspx Alternatively, go to: https://pytorch.org to install a PyTorch version that has been compiled with your version of the CUDA driver. (Triggered internally at ../c10/cuda/CUDAFunctions.cpp:108.)\n",
      "  return torch._C._cuda_getDeviceCount() > 0\n"
     ]
    },
    {
     "name": "stdout",
     "output_type": "stream",
     "text": [
      "CUDA GPU: False\n"
     ]
    }
   ],
   "source": [
    "import sys\n",
    "import os\n",
    "\n",
    "REPO_DIR = os.path.join(os.getcwd(), \"../../\")\n",
    "\n",
    "from metient.metient import *\n",
    "from metient.util import data_extraction_util as dutil\n",
    "\n",
    "import matplotlib\n",
    "import torch\n",
    "import pandas as pd\n",
    "import numpy as np\n",
    "\n",
    "TRACERX_DATA_DIR = os.path.join(REPO_DIR, 'metient/data/tracerx_nsclc/')\n",
    "PYCLONE_CLUSTERED_TSVS_DIR = os.path.join(TRACERX_DATA_DIR, 'patient_data', 'conipher_pyclone_clustered')\n",
    "CONIPHER_TREES_DIR = os.path.join(TRACERX_DATA_DIR, 'conipher_outputs', 'TreeBuilding')\n",
    "OUTPUT_DIR = os.path.join(TRACERX_DATA_DIR, \"metient_outputs\", \"test\")"
   ]
  },
  {
   "cell_type": "code",
   "execution_count": 12,
   "id": "0c8fe6ec",
   "metadata": {},
   "outputs": [],
   "source": [
    "def find_labeling(ref_var_fn, tree, patient_name, weights):    \n",
    "    print_config = PrintConfig(visualize=True, verbose=False, k_best_trees=10)\n",
    "    evaluate(tree, ref_var_fn, weights, print_config, OUTPUT_DIR, patient_name, O=None,\n",
    "              bias_weights=True, batch_size=30000, solve_polytomies=False)\n",
    "\n",
    "    \n",
    "def run_conipher_patient(patient, weights):\n",
    "    space = \"x\"*44\n",
    "    tsv_fn = os.path.join(PYCLONE_CLUSTERED_TSVS_DIR, f\"{patient}_SNVs.tsv\")\n",
    "    print(f\"{space} PATIENT {patient} {space}\")\n",
    "    tree_fn = os.path.join(CONIPHER_TREES_DIR, f\"{patient}_conipher_SNVsallTrees_cleaned.txt\")\n",
    "    trees = dutil.get_adj_matrices_from_all_conipher_trees(tree_fn)\n",
    "    find_labeling(tsv_fn, trees[0], patient, weights)\n"
   ]
  },
  {
   "cell_type": "code",
   "execution_count": null,
   "id": "09f74247",
   "metadata": {
    "scrolled": false
   },
   "outputs": [
    {
     "name": "stdout",
     "output_type": "stream",
     "text": [
      "xxxxxxxxxxxxxxxxxxxxxxxxxxxxxxxxxxxxxxxxxxxx PATIENT CRUK0484 xxxxxxxxxxxxxxxxxxxxxxxxxxxxxxxxxxxxxxxxxxxx\n"
     ]
    },
    {
     "name": "stderr",
     "output_type": "stream",
     "text": [
      "/lila/data/morrisq/divyak/projects/metient/metient/util/vertex_labeling_util.py:255: UserWarning: To copy construct from a tensor, it is recommended to use sourceTensor.clone().detach() or sourceTensor.clone().detach().requires_grad_(True), rather than torch.tensor(sourceTensor).\n",
      "  return torch.tensor(get_path_matrix(A.T, remove_self_loops=False), dtype = torch.float32)\n",
      "\n",
      "\n",
      "  0%|          | 0/100 [00:00<?, ?it/s]\u001b[A\u001b[A/lila/data/morrisq/divyak/projects/metient/metient/util/vertex_labeling_util.py:246: UserWarning: To copy construct from a tensor, it is recommended to use sourceTensor.clone().detach() or sourceTensor.clone().detach().requires_grad_(True), rather than torch.tensor(sourceTensor).\n",
      "  return torch.tensor(get_path_matrix(A, remove_self_loops=True), dtype = torch.float32)\n",
      "\n",
      "\n",
      "  1%|          | 1/100 [00:38<1:03:50, 38.69s/it]\u001b[A\u001b[A\n",
      "\n",
      "  2%|▏         | 2/100 [00:39<44:44, 27.39s/it]  \u001b[A\u001b[A\n",
      "\n",
      "  3%|▎         | 3/100 [00:40<31:29, 19.48s/it]\u001b[A\u001b[A\n",
      "\n",
      "  4%|▍         | 4/100 [00:41<22:19, 13.96s/it]\u001b[A\u001b[A\n",
      "\n",
      "  5%|▌         | 5/100 [00:42<15:57, 10.07s/it]\u001b[A\u001b[A\n",
      "\n",
      "  6%|▌         | 6/100 [00:43<11:31,  7.35s/it]\u001b[A\u001b[A\n",
      "\n",
      "  7%|▋         | 7/100 [00:44<08:27,  5.46s/it]\u001b[A\u001b[A\n",
      "\n",
      "  8%|▊         | 8/100 [00:45<06:20,  4.13s/it]\u001b[A\u001b[A\n",
      "\n",
      "  9%|▉         | 9/100 [00:46<04:52,  3.21s/it]\u001b[A\u001b[A\n",
      "\n",
      " 10%|█         | 10/100 [00:47<03:50,  2.56s/it]\u001b[A\u001b[A\n",
      "\n",
      " 11%|█         | 11/100 [00:49<03:07,  2.10s/it]\u001b[A\u001b[A\n",
      "\n",
      " 12%|█▏        | 12/100 [00:50<02:36,  1.78s/it]\u001b[A\u001b[A\n",
      "\n",
      " 13%|█▎        | 13/100 [00:51<02:15,  1.56s/it]\u001b[A\u001b[A\n",
      "\n",
      " 14%|█▍        | 14/100 [00:52<02:00,  1.40s/it]\u001b[A\u001b[A\n",
      "\n",
      " 15%|█▌        | 15/100 [00:53<01:56,  1.37s/it]\u001b[A\u001b[A\n",
      "\n",
      " 16%|█▌        | 16/100 [00:54<01:53,  1.36s/it]\u001b[A\u001b[A\n",
      "\n",
      " 17%|█▋        | 17/100 [00:55<01:44,  1.26s/it]\u001b[A\u001b[A\n",
      "\n",
      " 18%|█▊        | 18/100 [00:56<01:37,  1.19s/it]\u001b[A\u001b[A\n",
      "\n",
      " 19%|█▉        | 19/100 [00:57<01:32,  1.14s/it]\u001b[A\u001b[A\n",
      "\n",
      " 20%|██        | 20/100 [00:58<01:28,  1.10s/it]\u001b[A\u001b[A\n",
      "\n",
      " 21%|██        | 21/100 [00:59<01:25,  1.08s/it]\u001b[A\u001b[A\n",
      "\n",
      " 22%|██▏       | 22/100 [01:00<01:22,  1.06s/it]\u001b[A\u001b[A\n",
      "\n",
      " 23%|██▎       | 23/100 [01:01<01:21,  1.05s/it]\u001b[A\u001b[A\n",
      "\n",
      " 24%|██▍       | 24/100 [01:02<01:19,  1.04s/it]\u001b[A\u001b[A\n",
      "\n",
      " 25%|██▌       | 25/100 [01:03<01:17,  1.03s/it]\u001b[A\u001b[A\n",
      "\n",
      " 26%|██▌       | 26/100 [01:05<01:24,  1.14s/it]\u001b[A\u001b[A\n",
      "\n",
      " 27%|██▋       | 27/100 [01:06<01:25,  1.17s/it]\u001b[A\u001b[A\n",
      "\n",
      " 28%|██▊       | 28/100 [01:07<01:21,  1.13s/it]\u001b[A\u001b[A\n",
      "\n",
      " 29%|██▉       | 29/100 [01:08<01:18,  1.10s/it]\u001b[A\u001b[A\n",
      "\n",
      " 30%|███       | 30/100 [01:09<01:15,  1.08s/it]\u001b[A\u001b[A\n",
      "\n",
      " 31%|███       | 31/100 [01:10<01:13,  1.06s/it]\u001b[A\u001b[A\n",
      "\n",
      " 32%|███▏      | 32/100 [01:11<01:11,  1.05s/it]\u001b[A\u001b[A\n",
      "\n",
      " 33%|███▎      | 33/100 [01:12<01:09,  1.04s/it]\u001b[A\u001b[A\n",
      "\n",
      " 34%|███▍      | 34/100 [01:13<01:07,  1.03s/it]\u001b[A\u001b[A\n",
      "\n",
      " 35%|███▌      | 35/100 [01:14<01:07,  1.04s/it]\u001b[A\u001b[A\n",
      "\n",
      " 36%|███▌      | 36/100 [01:15<01:06,  1.03s/it]\u001b[A\u001b[A\n",
      "\n",
      " 37%|███▋      | 37/100 [01:16<01:04,  1.03s/it]\u001b[A\u001b[A\n",
      "\n",
      " 38%|███▊      | 38/100 [01:17<01:03,  1.03s/it]\u001b[A\u001b[A\n",
      "\n",
      " 39%|███▉      | 39/100 [01:18<01:02,  1.02s/it]\u001b[A\u001b[A\n",
      "\n",
      " 40%|████      | 40/100 [01:19<01:01,  1.03s/it]\u001b[A\u001b[A\n",
      "\n",
      " 41%|████      | 41/100 [01:20<01:00,  1.03s/it]\u001b[A\u001b[A\n",
      "\n",
      " 42%|████▏     | 42/100 [01:21<00:59,  1.03s/it]\u001b[A\u001b[A\n",
      "\n",
      " 43%|████▎     | 43/100 [01:23<00:58,  1.03s/it]\u001b[A\u001b[A\n",
      "\n",
      " 44%|████▍     | 44/100 [01:24<00:57,  1.03s/it]\u001b[A\u001b[A\n",
      "\n",
      " 45%|████▌     | 45/100 [01:25<00:57,  1.04s/it]\u001b[A\u001b[A\n",
      "\n",
      " 46%|████▌     | 46/100 [01:26<00:56,  1.04s/it]\u001b[A\u001b[A"
     ]
    }
   ],
   "source": [
    "weights = Weights(mig=[1], comig=5.0, seed_site=[100], gen_dist=0.1, organotrop=0.0)\n",
    "\n",
    "run_conipher_patient(\"CRUK0484\", weights)"
   ]
  },
  {
   "cell_type": "code",
   "execution_count": null,
   "id": "f064dffc",
   "metadata": {},
   "outputs": [],
   "source": []
  }
 ],
 "metadata": {
  "kernelspec": {
   "display_name": "Python [conda env:met]",
   "language": "python",
   "name": "conda-env-met-py"
  },
  "language_info": {
   "codemirror_mode": {
    "name": "ipython",
    "version": 3
   },
   "file_extension": ".py",
   "mimetype": "text/x-python",
   "name": "python",
   "nbconvert_exporter": "python",
   "pygments_lexer": "ipython3",
   "version": "3.8.0"
  }
 },
 "nbformat": 4,
 "nbformat_minor": 5
}
