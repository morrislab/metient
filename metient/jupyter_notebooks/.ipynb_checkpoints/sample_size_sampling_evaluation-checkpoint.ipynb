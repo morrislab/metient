{
 "cells": [
  {
   "cell_type": "code",
   "execution_count": 1,
   "id": "4624fc1b",
   "metadata": {},
   "outputs": [
    {
     "name": "stdout",
     "output_type": "stream",
     "text": [
      "CUDA GPU: False\n"
     ]
    },
    {
     "data": {
      "text/plain": [
       "<Figure size 640x480 with 0 Axes>"
      ]
     },
     "metadata": {},
     "output_type": "display_data"
    }
   ],
   "source": [
    "#!/usr/bin/python\n",
    "'''\n",
    "Evaluate how well solutions match when run multiple times, with varying sample size\n",
    "'''\n",
    "import sys\n",
    "import os\n",
    "import fnmatch\n",
    "import numpy as np\n",
    "from src.util.vertex_labeling_util import LabeledTree\n",
    "from src.util.globals import *\n",
    "\n",
    "import re\n",
    "import pickle\n",
    "\n",
    "REPO_DIR = os.path.join(os.getcwd(), \"../\")\n",
    "os.chdir(REPO_DIR)\n",
    "DATE = \"11172023\"\n",
    "PARAMS = \"calibrate_wip_solvepoly\"\n",
    "\n",
    "# plotting\n",
    "import pandas as pd\n",
    "import seaborn as sns\n",
    "import matplotlib.pyplot as plt\n",
    "sns.set(font_scale=1.5)\n",
    "\n",
    "sns.set_style(\"whitegrid\")\n",
    "sns.set_style(\"ticks\")\n",
    "sns.despine()\n",
    "from matplotlib import rcParams\n",
    "rcParams.update({'figure.autolayout': True})\n",
    "pc_map = {'mS':0, 'pS': 1, 'mM': 2, 'pM': 3, 'mR': 4, 'pR': 5}\n",
    "\n",
    "from statannot import add_stat_annotation\n",
    "from src.util import eval_util as eutil"
   ]
  },
  {
   "cell_type": "code",
   "execution_count": 2,
   "id": "6319a26b",
   "metadata": {},
   "outputs": [],
   "source": [
    "import gzip\n",
    "\n",
    "def get_num_mut_trees(mut_tree_fn):\n",
    "    with open(mut_tree_fn, 'r') as f:\n",
    "        # look for line w/ \"3 #trees\" as an example\n",
    "        for line in f:\n",
    "            if  \"#trees\" in line:\n",
    "                return int(line.strip().split()[0])    \n",
    "\n",
    "def get_pckl_info(bs, run, site, mig_type, seed, tree_num, topk):\n",
    "    prediction_dir = os.path.join(REPO_DIR, 'test', 'machina_simulated_data', f'sample_size_experiments_{PARAMS}_{DATE}/predictions_bs{bs}_{PARAMS}_r{run}_{DATE}')\n",
    "    predicted_site_mig_type_data_dir = os.path.join(prediction_dir, site, mig_type)\n",
    "    \n",
    "    with gzip.open(os.path.join(predicted_site_mig_type_data_dir, f\"tree{tree_num}_seed{seed}.pkl.gz\"), \"rb\") as f:\n",
    "        pckl = pickle.load(f)\n",
    "    Vs = pckl[OUT_LABElING_KEY]\n",
    "    k = topk if len(Vs) >= topk else len(Vs)\n",
    "    Vs = Vs[:k]\n",
    "    As = pckl[OUT_ADJ_KEY][:k]\n",
    "    losses = pckl[OUT_LOSSES_KEY][:k]\n",
    "    return Vs, As, losses\n",
    "\n",
    "def get_rank_to_percent_runs(solution_to_losses, run_num_to_solutions):\n",
    "       \n",
    "    # get the avg loss across runs for each solution\n",
    "    for solution in solution_to_losses:\n",
    "        solution_to_losses[solution] = sum(solution_to_losses[solution])/len(solution_to_losses[solution])\n",
    "    solution_losses_list = [(k,v) for k,v in solution_to_losses.items()]\n",
    "    solution_losses_list = sorted(solution_losses_list, key=lambda x: x[1])\n",
    "\n",
    "    rank_to_percent_runs = {}\n",
    "    # What % of runs get the solution as a function of the rank on the joined list?\n",
    "    for rank, (soln,_) in enumerate(solution_losses_list):\n",
    "        rank_to_percent_runs[rank] = []\n",
    "        for run in run_num_to_solutions:\n",
    "            if soln in run_num_to_solutions[run]:\n",
    "                rank_to_percent_runs[rank].append(run)\n",
    "    rank_to_percent_runs = {rank:(len(rank_to_percent_runs[rank])/num_runs) for rank in rank_to_percent_runs}\n",
    "    return rank_to_percent_runs"
   ]
  },
  {
   "cell_type": "code",
   "execution_count": 3,
   "id": "e03ad41c",
   "metadata": {},
   "outputs": [
    {
     "name": "stdout",
     "output_type": "stream",
     "text": [
      "matching top 5 solutions\n",
      "batch size: 64\n",
      "m8 M\n"
     ]
    },
    {
     "name": "stderr",
     "output_type": "stream",
     "text": [
      "100%|██████████| 10/10 [00:05<00:00,  1.80it/s]\n"
     ]
    },
    {
     "name": "stdout",
     "output_type": "stream",
     "text": [
      "m8 mS\n"
     ]
    },
    {
     "name": "stderr",
     "output_type": "stream",
     "text": [
      "100%|██████████| 10/10 [00:02<00:00,  4.02it/s]\n"
     ]
    },
    {
     "name": "stdout",
     "output_type": "stream",
     "text": [
      "m8 R\n"
     ]
    },
    {
     "name": "stderr",
     "output_type": "stream",
     "text": [
      "100%|██████████| 10/10 [00:03<00:00,  2.77it/s]\n"
     ]
    },
    {
     "name": "stdout",
     "output_type": "stream",
     "text": [
      "m8 S\n"
     ]
    },
    {
     "name": "stderr",
     "output_type": "stream",
     "text": [
      "100%|██████████| 10/10 [00:08<00:00,  1.17it/s]\n"
     ]
    },
    {
     "name": "stdout",
     "output_type": "stream",
     "text": [
      "m5 M\n"
     ]
    },
    {
     "name": "stderr",
     "output_type": "stream",
     "text": [
      "100%|██████████| 10/10 [00:03<00:00,  3.21it/s]\n"
     ]
    },
    {
     "name": "stdout",
     "output_type": "stream",
     "text": [
      "m5 mS\n"
     ]
    },
    {
     "name": "stderr",
     "output_type": "stream",
     "text": [
      "100%|██████████| 10/10 [00:00<00:00, 24.43it/s]\n"
     ]
    },
    {
     "name": "stdout",
     "output_type": "stream",
     "text": [
      "m5 R\n"
     ]
    },
    {
     "name": "stderr",
     "output_type": "stream",
     "text": [
      "100%|██████████| 10/10 [00:04<00:00,  2.18it/s]\n"
     ]
    },
    {
     "name": "stdout",
     "output_type": "stream",
     "text": [
      "m5 S\n"
     ]
    },
    {
     "name": "stderr",
     "output_type": "stream",
     "text": [
      "100%|██████████| 10/10 [00:01<00:00,  6.66it/s]\n"
     ]
    },
    {
     "name": "stdout",
     "output_type": "stream",
     "text": [
      "batch size: 256\n",
      "m8 M\n"
     ]
    },
    {
     "name": "stderr",
     "output_type": "stream",
     "text": [
      "100%|██████████| 10/10 [00:05<00:00,  1.71it/s]\n"
     ]
    },
    {
     "name": "stdout",
     "output_type": "stream",
     "text": [
      "m8 mS\n"
     ]
    },
    {
     "name": "stderr",
     "output_type": "stream",
     "text": [
      "100%|██████████| 10/10 [00:02<00:00,  4.48it/s]\n"
     ]
    },
    {
     "name": "stdout",
     "output_type": "stream",
     "text": [
      "m8 R\n"
     ]
    },
    {
     "name": "stderr",
     "output_type": "stream",
     "text": [
      "100%|██████████| 10/10 [00:03<00:00,  2.66it/s]\n"
     ]
    },
    {
     "name": "stdout",
     "output_type": "stream",
     "text": [
      "m8 S\n"
     ]
    },
    {
     "name": "stderr",
     "output_type": "stream",
     "text": [
      "100%|██████████| 10/10 [00:08<00:00,  1.24it/s]\n"
     ]
    },
    {
     "name": "stdout",
     "output_type": "stream",
     "text": [
      "m5 M\n"
     ]
    },
    {
     "name": "stderr",
     "output_type": "stream",
     "text": [
      "100%|██████████| 10/10 [00:02<00:00,  3.52it/s]\n"
     ]
    },
    {
     "name": "stdout",
     "output_type": "stream",
     "text": [
      "m5 mS\n"
     ]
    },
    {
     "name": "stderr",
     "output_type": "stream",
     "text": [
      "100%|██████████| 10/10 [00:00<00:00, 20.40it/s]\n"
     ]
    },
    {
     "name": "stdout",
     "output_type": "stream",
     "text": [
      "m5 R\n"
     ]
    },
    {
     "name": "stderr",
     "output_type": "stream",
     "text": [
      "100%|██████████| 10/10 [00:04<00:00,  2.20it/s]\n"
     ]
    },
    {
     "name": "stdout",
     "output_type": "stream",
     "text": [
      "m5 S\n"
     ]
    },
    {
     "name": "stderr",
     "output_type": "stream",
     "text": [
      "100%|██████████| 10/10 [00:01<00:00,  7.45it/s]\n"
     ]
    },
    {
     "name": "stdout",
     "output_type": "stream",
     "text": [
      "batch size: 1024\n",
      "m8 M\n"
     ]
    },
    {
     "name": "stderr",
     "output_type": "stream",
     "text": [
      "100%|██████████| 10/10 [00:08<00:00,  1.20it/s]\n"
     ]
    },
    {
     "name": "stdout",
     "output_type": "stream",
     "text": [
      "m8 mS\n"
     ]
    },
    {
     "name": "stderr",
     "output_type": "stream",
     "text": [
      "100%|██████████| 10/10 [00:02<00:00,  3.61it/s]\n"
     ]
    },
    {
     "name": "stdout",
     "output_type": "stream",
     "text": [
      "m8 R\n"
     ]
    },
    {
     "name": "stderr",
     "output_type": "stream",
     "text": [
      "100%|██████████| 10/10 [00:04<00:00,  2.38it/s]\n"
     ]
    },
    {
     "name": "stdout",
     "output_type": "stream",
     "text": [
      "m8 S\n"
     ]
    },
    {
     "name": "stderr",
     "output_type": "stream",
     "text": [
      "100%|██████████| 10/10 [00:09<00:00,  1.10it/s]\n"
     ]
    },
    {
     "name": "stdout",
     "output_type": "stream",
     "text": [
      "m5 M\n"
     ]
    },
    {
     "name": "stderr",
     "output_type": "stream",
     "text": [
      "100%|██████████| 10/10 [00:02<00:00,  3.54it/s]\n"
     ]
    },
    {
     "name": "stdout",
     "output_type": "stream",
     "text": [
      "m5 mS\n"
     ]
    },
    {
     "name": "stderr",
     "output_type": "stream",
     "text": [
      "100%|██████████| 10/10 [00:00<00:00, 23.25it/s]\n"
     ]
    },
    {
     "name": "stdout",
     "output_type": "stream",
     "text": [
      "m5 R\n"
     ]
    },
    {
     "name": "stderr",
     "output_type": "stream",
     "text": [
      "100%|██████████| 10/10 [00:04<00:00,  2.03it/s]\n"
     ]
    },
    {
     "name": "stdout",
     "output_type": "stream",
     "text": [
      "m5 S\n"
     ]
    },
    {
     "name": "stderr",
     "output_type": "stream",
     "text": [
      "100%|██████████| 10/10 [00:01<00:00,  8.12it/s]\n"
     ]
    }
   ],
   "source": [
    "from tqdm import tqdm\n",
    "import torch\n",
    "\n",
    "topk = 5 # how many of the top solutions to check for \n",
    "num_runs = 5\n",
    "\n",
    "sites = [\"m8\", \"m5\"]\n",
    "mig_types = [\"M\", \"mS\", \"R\", \"S\"]\n",
    "\n",
    "print(f\"matching top {topk} solutions\")\n",
    "m5_bs_to_rank_to_percentages = {}\n",
    "m8_bs_to_rank_to_percentages = {}\n",
    "\n",
    "batch_sizes = ['64', '256', '1024',]\n",
    "\n",
    "sims_dir = os.path.join(REPO_DIR, \"data/machina_sims\")\n",
    "\n",
    "for bs in batch_sizes:\n",
    "    print(\"batch size:\", bs)\n",
    "    m5_bs_to_rank_to_percentages[bs] = {}\n",
    "    m8_bs_to_rank_to_percentages[bs] = {}\n",
    "    for site in sites:\n",
    "        for mig_type in mig_types:\n",
    "            # Get all seeds for mig_type + site combo\n",
    "            site_mig_type_dir = os.path.join(sims_dir, site, mig_type)\n",
    "            seeds = fnmatch.filter(os.listdir(site_mig_type_dir), 'clustering_observed_seed*.txt')\n",
    "            seeds = [s.replace(\".txt\", \"\").replace(\"clustering_observed_seed\", \"\") for s in seeds]\n",
    "            print(site, mig_type)\n",
    "            for seed in tqdm(seeds):\n",
    "                # Get all the clone trees for this seed\n",
    "                num_trees = get_num_mut_trees(os.path.join(sims_dir, f\"{site}_mut_trees\", f\"mut_trees_{mig_type}_seed{seed}.txt\"))\n",
    "                for tree_num in range(num_trees):\n",
    "                    # across all the runs for this mig_type + site + seed + clone tree combo, \n",
    "                    # get the union of all solutions\n",
    "                    solution_to_losses = {}\n",
    "                    run_num_to_solutions = {}\n",
    "                    for run in range(1,num_runs+1):\n",
    "                        Vs, As, losses = get_pckl_info(bs, run, site, mig_type, seed, tree_num, topk)\n",
    "                        run_num_to_solutions[run] = []\n",
    "                        for V,A,loss in zip(Vs, As, losses):\n",
    "                            tree = LabeledTree(A.detach(), V.detach())\n",
    "                            if tree not in solution_to_losses:\n",
    "                                solution_to_losses[tree] = []\n",
    "                            solution_to_losses[tree].append(loss)\n",
    "                            run_num_to_solutions[run].append(tree)\n",
    "                    rank_to_percent_runs = get_rank_to_percent_runs(solution_to_losses, run_num_to_solutions)\n",
    "                    #print(rank_to_percent_runs)\n",
    "                    bs_to_rank_to_percentages = m5_bs_to_rank_to_percentages if site == \"m5\" else m8_bs_to_rank_to_percentages\n",
    "                    for rank in rank_to_percent_runs:\n",
    "                        if rank not in bs_to_rank_to_percentages[bs]:\n",
    "                            bs_to_rank_to_percentages[bs][rank] = []\n",
    "                        bs_to_rank_to_percentages[bs][rank].append(rank_to_percent_runs[rank])\n",
    "\n"
   ]
  },
  {
   "cell_type": "code",
   "execution_count": 4,
   "id": "05661194",
   "metadata": {},
   "outputs": [
    {
     "data": {
      "text/html": [
       "<div>\n",
       "<style scoped>\n",
       "    .dataframe tbody tr th:only-of-type {\n",
       "        vertical-align: middle;\n",
       "    }\n",
       "\n",
       "    .dataframe tbody tr th {\n",
       "        vertical-align: top;\n",
       "    }\n",
       "\n",
       "    .dataframe thead th {\n",
       "        text-align: right;\n",
       "    }\n",
       "</style>\n",
       "<table border=\"1\" class=\"dataframe\">\n",
       "  <thead>\n",
       "    <tr style=\"text-align: right;\">\n",
       "      <th></th>\n",
       "      <th>Rank</th>\n",
       "      <th>Method</th>\n",
       "      <th>% runs</th>\n",
       "    </tr>\n",
       "  </thead>\n",
       "  <tbody>\n",
       "    <tr>\n",
       "      <th>0</th>\n",
       "      <td>1</td>\n",
       "      <td>Metient-64</td>\n",
       "      <td>96.664</td>\n",
       "    </tr>\n",
       "    <tr>\n",
       "      <th>1</th>\n",
       "      <td>2</td>\n",
       "      <td>Metient-64</td>\n",
       "      <td>95.913</td>\n",
       "    </tr>\n",
       "    <tr>\n",
       "      <th>2</th>\n",
       "      <td>3</td>\n",
       "      <td>Metient-64</td>\n",
       "      <td>93.762</td>\n",
       "    </tr>\n",
       "    <tr>\n",
       "      <th>3</th>\n",
       "      <td>4</td>\n",
       "      <td>Metient-64</td>\n",
       "      <td>91.006</td>\n",
       "    </tr>\n",
       "    <tr>\n",
       "      <th>4</th>\n",
       "      <td>5</td>\n",
       "      <td>Metient-64</td>\n",
       "      <td>83.793</td>\n",
       "    </tr>\n",
       "    <tr>\n",
       "      <th>5</th>\n",
       "      <td>6</td>\n",
       "      <td>Metient-64</td>\n",
       "      <td>44.390</td>\n",
       "    </tr>\n",
       "    <tr>\n",
       "      <th>6</th>\n",
       "      <td>7</td>\n",
       "      <td>Metient-64</td>\n",
       "      <td>42.308</td>\n",
       "    </tr>\n",
       "    <tr>\n",
       "      <th>7</th>\n",
       "      <td>8</td>\n",
       "      <td>Metient-64</td>\n",
       "      <td>33.333</td>\n",
       "    </tr>\n",
       "    <tr>\n",
       "      <th>8</th>\n",
       "      <td>9</td>\n",
       "      <td>Metient-64</td>\n",
       "      <td>29.333</td>\n",
       "    </tr>\n",
       "    <tr>\n",
       "      <th>9</th>\n",
       "      <td>10</td>\n",
       "      <td>Metient-64</td>\n",
       "      <td>28.000</td>\n",
       "    </tr>\n",
       "    <tr>\n",
       "      <th>10</th>\n",
       "      <td>11</td>\n",
       "      <td>Metient-64</td>\n",
       "      <td>20.000</td>\n",
       "    </tr>\n",
       "    <tr>\n",
       "      <th>11</th>\n",
       "      <td>12</td>\n",
       "      <td>Metient-64</td>\n",
       "      <td>20.000</td>\n",
       "    </tr>\n",
       "    <tr>\n",
       "      <th>12</th>\n",
       "      <td>13</td>\n",
       "      <td>Metient-64</td>\n",
       "      <td>26.667</td>\n",
       "    </tr>\n",
       "    <tr>\n",
       "      <th>13</th>\n",
       "      <td>1</td>\n",
       "      <td>Metient-256</td>\n",
       "      <td>96.664</td>\n",
       "    </tr>\n",
       "    <tr>\n",
       "      <th>14</th>\n",
       "      <td>2</td>\n",
       "      <td>Metient-256</td>\n",
       "      <td>96.274</td>\n",
       "    </tr>\n",
       "    <tr>\n",
       "      <th>15</th>\n",
       "      <td>3</td>\n",
       "      <td>Metient-256</td>\n",
       "      <td>95.274</td>\n",
       "    </tr>\n",
       "    <tr>\n",
       "      <th>16</th>\n",
       "      <td>4</td>\n",
       "      <td>Metient-256</td>\n",
       "      <td>92.449</td>\n",
       "    </tr>\n",
       "    <tr>\n",
       "      <th>17</th>\n",
       "      <td>5</td>\n",
       "      <td>Metient-256</td>\n",
       "      <td>89.143</td>\n",
       "    </tr>\n",
       "    <tr>\n",
       "      <th>18</th>\n",
       "      <td>6</td>\n",
       "      <td>Metient-256</td>\n",
       "      <td>55.484</td>\n",
       "    </tr>\n",
       "    <tr>\n",
       "      <th>19</th>\n",
       "      <td>7</td>\n",
       "      <td>Metient-256</td>\n",
       "      <td>35.172</td>\n",
       "    </tr>\n",
       "    <tr>\n",
       "      <th>20</th>\n",
       "      <td>8</td>\n",
       "      <td>Metient-256</td>\n",
       "      <td>43.636</td>\n",
       "    </tr>\n",
       "    <tr>\n",
       "      <th>21</th>\n",
       "      <td>9</td>\n",
       "      <td>Metient-256</td>\n",
       "      <td>40.000</td>\n",
       "    </tr>\n",
       "    <tr>\n",
       "      <th>22</th>\n",
       "      <td>10</td>\n",
       "      <td>Metient-256</td>\n",
       "      <td>34.000</td>\n",
       "    </tr>\n",
       "    <tr>\n",
       "      <th>23</th>\n",
       "      <td>11</td>\n",
       "      <td>Metient-256</td>\n",
       "      <td>22.857</td>\n",
       "    </tr>\n",
       "    <tr>\n",
       "      <th>24</th>\n",
       "      <td>12</td>\n",
       "      <td>Metient-256</td>\n",
       "      <td>32.000</td>\n",
       "    </tr>\n",
       "    <tr>\n",
       "      <th>25</th>\n",
       "      <td>13</td>\n",
       "      <td>Metient-256</td>\n",
       "      <td>33.333</td>\n",
       "    </tr>\n",
       "    <tr>\n",
       "      <th>26</th>\n",
       "      <td>14</td>\n",
       "      <td>Metient-256</td>\n",
       "      <td>20.000</td>\n",
       "    </tr>\n",
       "    <tr>\n",
       "      <th>27</th>\n",
       "      <td>1</td>\n",
       "      <td>Metient-1024</td>\n",
       "      <td>96.984</td>\n",
       "    </tr>\n",
       "    <tr>\n",
       "      <th>28</th>\n",
       "      <td>2</td>\n",
       "      <td>Metient-1024</td>\n",
       "      <td>96.240</td>\n",
       "    </tr>\n",
       "    <tr>\n",
       "      <th>29</th>\n",
       "      <td>3</td>\n",
       "      <td>Metient-1024</td>\n",
       "      <td>95.106</td>\n",
       "    </tr>\n",
       "    <tr>\n",
       "      <th>30</th>\n",
       "      <td>4</td>\n",
       "      <td>Metient-1024</td>\n",
       "      <td>94.465</td>\n",
       "    </tr>\n",
       "    <tr>\n",
       "      <th>31</th>\n",
       "      <td>5</td>\n",
       "      <td>Metient-1024</td>\n",
       "      <td>93.777</td>\n",
       "    </tr>\n",
       "    <tr>\n",
       "      <th>32</th>\n",
       "      <td>6</td>\n",
       "      <td>Metient-1024</td>\n",
       "      <td>51.429</td>\n",
       "    </tr>\n",
       "    <tr>\n",
       "      <th>33</th>\n",
       "      <td>7</td>\n",
       "      <td>Metient-1024</td>\n",
       "      <td>38.286</td>\n",
       "    </tr>\n",
       "    <tr>\n",
       "      <th>34</th>\n",
       "      <td>8</td>\n",
       "      <td>Metient-1024</td>\n",
       "      <td>36.296</td>\n",
       "    </tr>\n",
       "    <tr>\n",
       "      <th>35</th>\n",
       "      <td>9</td>\n",
       "      <td>Metient-1024</td>\n",
       "      <td>37.143</td>\n",
       "    </tr>\n",
       "    <tr>\n",
       "      <th>36</th>\n",
       "      <td>10</td>\n",
       "      <td>Metient-1024</td>\n",
       "      <td>28.000</td>\n",
       "    </tr>\n",
       "    <tr>\n",
       "      <th>37</th>\n",
       "      <td>11</td>\n",
       "      <td>Metient-1024</td>\n",
       "      <td>24.000</td>\n",
       "    </tr>\n",
       "    <tr>\n",
       "      <th>38</th>\n",
       "      <td>12</td>\n",
       "      <td>Metient-1024</td>\n",
       "      <td>35.000</td>\n",
       "    </tr>\n",
       "    <tr>\n",
       "      <th>39</th>\n",
       "      <td>13</td>\n",
       "      <td>Metient-1024</td>\n",
       "      <td>22.500</td>\n",
       "    </tr>\n",
       "    <tr>\n",
       "      <th>40</th>\n",
       "      <td>14</td>\n",
       "      <td>Metient-1024</td>\n",
       "      <td>28.000</td>\n",
       "    </tr>\n",
       "    <tr>\n",
       "      <th>41</th>\n",
       "      <td>15</td>\n",
       "      <td>Metient-1024</td>\n",
       "      <td>20.000</td>\n",
       "    </tr>\n",
       "    <tr>\n",
       "      <th>42</th>\n",
       "      <td>16</td>\n",
       "      <td>Metient-1024</td>\n",
       "      <td>30.000</td>\n",
       "    </tr>\n",
       "    <tr>\n",
       "      <th>43</th>\n",
       "      <td>17</td>\n",
       "      <td>Metient-1024</td>\n",
       "      <td>40.000</td>\n",
       "    </tr>\n",
       "  </tbody>\n",
       "</table>\n",
       "</div>"
      ],
      "text/plain": [
       "    Rank        Method  % runs\n",
       "0      1    Metient-64  96.664\n",
       "1      2    Metient-64  95.913\n",
       "2      3    Metient-64  93.762\n",
       "3      4    Metient-64  91.006\n",
       "4      5    Metient-64  83.793\n",
       "5      6    Metient-64  44.390\n",
       "6      7    Metient-64  42.308\n",
       "7      8    Metient-64  33.333\n",
       "8      9    Metient-64  29.333\n",
       "9     10    Metient-64  28.000\n",
       "10    11    Metient-64  20.000\n",
       "11    12    Metient-64  20.000\n",
       "12    13    Metient-64  26.667\n",
       "13     1   Metient-256  96.664\n",
       "14     2   Metient-256  96.274\n",
       "15     3   Metient-256  95.274\n",
       "16     4   Metient-256  92.449\n",
       "17     5   Metient-256  89.143\n",
       "18     6   Metient-256  55.484\n",
       "19     7   Metient-256  35.172\n",
       "20     8   Metient-256  43.636\n",
       "21     9   Metient-256  40.000\n",
       "22    10   Metient-256  34.000\n",
       "23    11   Metient-256  22.857\n",
       "24    12   Metient-256  32.000\n",
       "25    13   Metient-256  33.333\n",
       "26    14   Metient-256  20.000\n",
       "27     1  Metient-1024  96.984\n",
       "28     2  Metient-1024  96.240\n",
       "29     3  Metient-1024  95.106\n",
       "30     4  Metient-1024  94.465\n",
       "31     5  Metient-1024  93.777\n",
       "32     6  Metient-1024  51.429\n",
       "33     7  Metient-1024  38.286\n",
       "34     8  Metient-1024  36.296\n",
       "35     9  Metient-1024  37.143\n",
       "36    10  Metient-1024  28.000\n",
       "37    11  Metient-1024  24.000\n",
       "38    12  Metient-1024  35.000\n",
       "39    13  Metient-1024  22.500\n",
       "40    14  Metient-1024  28.000\n",
       "41    15  Metient-1024  20.000\n",
       "42    16  Metient-1024  30.000\n",
       "43    17  Metient-1024  40.000"
      ]
     },
     "execution_count": 4,
     "metadata": {},
     "output_type": "execute_result"
    }
   ],
   "source": [
    "import pandas as pd\n",
    "\n",
    "m8_data = []\n",
    "for bs in m8_bs_to_rank_to_percentages:\n",
    "    for rank in m8_bs_to_rank_to_percentages[bs]:\n",
    "        avg = 100*(sum(m8_bs_to_rank_to_percentages[bs][rank])/len(m8_bs_to_rank_to_percentages[bs][rank]))\n",
    "        m8_data.append([rank+1, f\"Metient-{bs}\", avg])\n",
    "m8_df = pd.DataFrame(m8_data, columns=[\"Rank\", \"Method\", \"% runs\"])\n",
    "m8_df"
   ]
  },
  {
   "cell_type": "code",
   "execution_count": 5,
   "id": "bb268893",
   "metadata": {},
   "outputs": [
    {
     "data": {
      "text/html": [
       "<div>\n",
       "<style scoped>\n",
       "    .dataframe tbody tr th:only-of-type {\n",
       "        vertical-align: middle;\n",
       "    }\n",
       "\n",
       "    .dataframe tbody tr th {\n",
       "        vertical-align: top;\n",
       "    }\n",
       "\n",
       "    .dataframe thead th {\n",
       "        text-align: right;\n",
       "    }\n",
       "</style>\n",
       "<table border=\"1\" class=\"dataframe\">\n",
       "  <thead>\n",
       "    <tr style=\"text-align: right;\">\n",
       "      <th></th>\n",
       "      <th>Rank</th>\n",
       "      <th>Method</th>\n",
       "      <th>% runs</th>\n",
       "    </tr>\n",
       "  </thead>\n",
       "  <tbody>\n",
       "    <tr>\n",
       "      <th>0</th>\n",
       "      <td>1</td>\n",
       "      <td>Metient-64</td>\n",
       "      <td>96.041</td>\n",
       "    </tr>\n",
       "    <tr>\n",
       "      <th>1</th>\n",
       "      <td>2</td>\n",
       "      <td>Metient-64</td>\n",
       "      <td>95.572</td>\n",
       "    </tr>\n",
       "    <tr>\n",
       "      <th>2</th>\n",
       "      <td>3</td>\n",
       "      <td>Metient-64</td>\n",
       "      <td>94.607</td>\n",
       "    </tr>\n",
       "    <tr>\n",
       "      <th>3</th>\n",
       "      <td>4</td>\n",
       "      <td>Metient-64</td>\n",
       "      <td>90.467</td>\n",
       "    </tr>\n",
       "    <tr>\n",
       "      <th>4</th>\n",
       "      <td>5</td>\n",
       "      <td>Metient-64</td>\n",
       "      <td>86.667</td>\n",
       "    </tr>\n",
       "    <tr>\n",
       "      <th>5</th>\n",
       "      <td>6</td>\n",
       "      <td>Metient-64</td>\n",
       "      <td>42.963</td>\n",
       "    </tr>\n",
       "    <tr>\n",
       "      <th>6</th>\n",
       "      <td>7</td>\n",
       "      <td>Metient-64</td>\n",
       "      <td>44.286</td>\n",
       "    </tr>\n",
       "    <tr>\n",
       "      <th>7</th>\n",
       "      <td>8</td>\n",
       "      <td>Metient-64</td>\n",
       "      <td>33.333</td>\n",
       "    </tr>\n",
       "    <tr>\n",
       "      <th>8</th>\n",
       "      <td>9</td>\n",
       "      <td>Metient-64</td>\n",
       "      <td>50.000</td>\n",
       "    </tr>\n",
       "    <tr>\n",
       "      <th>9</th>\n",
       "      <td>10</td>\n",
       "      <td>Metient-64</td>\n",
       "      <td>30.000</td>\n",
       "    </tr>\n",
       "    <tr>\n",
       "      <th>10</th>\n",
       "      <td>11</td>\n",
       "      <td>Metient-64</td>\n",
       "      <td>20.000</td>\n",
       "    </tr>\n",
       "    <tr>\n",
       "      <th>11</th>\n",
       "      <td>12</td>\n",
       "      <td>Metient-64</td>\n",
       "      <td>20.000</td>\n",
       "    </tr>\n",
       "    <tr>\n",
       "      <th>12</th>\n",
       "      <td>1</td>\n",
       "      <td>Metient-256</td>\n",
       "      <td>97.304</td>\n",
       "    </tr>\n",
       "    <tr>\n",
       "      <th>13</th>\n",
       "      <td>2</td>\n",
       "      <td>Metient-256</td>\n",
       "      <td>97.250</td>\n",
       "    </tr>\n",
       "    <tr>\n",
       "      <th>14</th>\n",
       "      <td>3</td>\n",
       "      <td>Metient-256</td>\n",
       "      <td>95.900</td>\n",
       "    </tr>\n",
       "    <tr>\n",
       "      <th>15</th>\n",
       "      <td>4</td>\n",
       "      <td>Metient-256</td>\n",
       "      <td>93.780</td>\n",
       "    </tr>\n",
       "    <tr>\n",
       "      <th>16</th>\n",
       "      <td>5</td>\n",
       "      <td>Metient-256</td>\n",
       "      <td>93.750</td>\n",
       "    </tr>\n",
       "    <tr>\n",
       "      <th>17</th>\n",
       "      <td>6</td>\n",
       "      <td>Metient-256</td>\n",
       "      <td>49.744</td>\n",
       "    </tr>\n",
       "    <tr>\n",
       "      <th>18</th>\n",
       "      <td>7</td>\n",
       "      <td>Metient-256</td>\n",
       "      <td>36.471</td>\n",
       "    </tr>\n",
       "    <tr>\n",
       "      <th>19</th>\n",
       "      <td>8</td>\n",
       "      <td>Metient-256</td>\n",
       "      <td>28.000</td>\n",
       "    </tr>\n",
       "    <tr>\n",
       "      <th>20</th>\n",
       "      <td>9</td>\n",
       "      <td>Metient-256</td>\n",
       "      <td>23.333</td>\n",
       "    </tr>\n",
       "    <tr>\n",
       "      <th>21</th>\n",
       "      <td>10</td>\n",
       "      <td>Metient-256</td>\n",
       "      <td>35.000</td>\n",
       "    </tr>\n",
       "    <tr>\n",
       "      <th>22</th>\n",
       "      <td>11</td>\n",
       "      <td>Metient-256</td>\n",
       "      <td>33.333</td>\n",
       "    </tr>\n",
       "    <tr>\n",
       "      <th>23</th>\n",
       "      <td>12</td>\n",
       "      <td>Metient-256</td>\n",
       "      <td>20.000</td>\n",
       "    </tr>\n",
       "    <tr>\n",
       "      <th>24</th>\n",
       "      <td>13</td>\n",
       "      <td>Metient-256</td>\n",
       "      <td>20.000</td>\n",
       "    </tr>\n",
       "    <tr>\n",
       "      <th>25</th>\n",
       "      <td>14</td>\n",
       "      <td>Metient-256</td>\n",
       "      <td>20.000</td>\n",
       "    </tr>\n",
       "    <tr>\n",
       "      <th>26</th>\n",
       "      <td>15</td>\n",
       "      <td>Metient-256</td>\n",
       "      <td>20.000</td>\n",
       "    </tr>\n",
       "    <tr>\n",
       "      <th>27</th>\n",
       "      <td>1</td>\n",
       "      <td>Metient-1024</td>\n",
       "      <td>96.997</td>\n",
       "    </tr>\n",
       "    <tr>\n",
       "      <th>28</th>\n",
       "      <td>2</td>\n",
       "      <td>Metient-1024</td>\n",
       "      <td>95.636</td>\n",
       "    </tr>\n",
       "    <tr>\n",
       "      <th>29</th>\n",
       "      <td>3</td>\n",
       "      <td>Metient-1024</td>\n",
       "      <td>94.925</td>\n",
       "    </tr>\n",
       "    <tr>\n",
       "      <th>30</th>\n",
       "      <td>4</td>\n",
       "      <td>Metient-1024</td>\n",
       "      <td>94.013</td>\n",
       "    </tr>\n",
       "    <tr>\n",
       "      <th>31</th>\n",
       "      <td>5</td>\n",
       "      <td>Metient-1024</td>\n",
       "      <td>92.085</td>\n",
       "    </tr>\n",
       "    <tr>\n",
       "      <th>32</th>\n",
       "      <td>6</td>\n",
       "      <td>Metient-1024</td>\n",
       "      <td>47.273</td>\n",
       "    </tr>\n",
       "    <tr>\n",
       "      <th>33</th>\n",
       "      <td>7</td>\n",
       "      <td>Metient-1024</td>\n",
       "      <td>46.250</td>\n",
       "    </tr>\n",
       "    <tr>\n",
       "      <th>34</th>\n",
       "      <td>8</td>\n",
       "      <td>Metient-1024</td>\n",
       "      <td>43.636</td>\n",
       "    </tr>\n",
       "    <tr>\n",
       "      <th>35</th>\n",
       "      <td>9</td>\n",
       "      <td>Metient-1024</td>\n",
       "      <td>41.818</td>\n",
       "    </tr>\n",
       "    <tr>\n",
       "      <th>36</th>\n",
       "      <td>10</td>\n",
       "      <td>Metient-1024</td>\n",
       "      <td>40.000</td>\n",
       "    </tr>\n",
       "    <tr>\n",
       "      <th>37</th>\n",
       "      <td>11</td>\n",
       "      <td>Metient-1024</td>\n",
       "      <td>32.000</td>\n",
       "    </tr>\n",
       "    <tr>\n",
       "      <th>38</th>\n",
       "      <td>12</td>\n",
       "      <td>Metient-1024</td>\n",
       "      <td>25.000</td>\n",
       "    </tr>\n",
       "    <tr>\n",
       "      <th>39</th>\n",
       "      <td>13</td>\n",
       "      <td>Metient-1024</td>\n",
       "      <td>30.000</td>\n",
       "    </tr>\n",
       "    <tr>\n",
       "      <th>40</th>\n",
       "      <td>14</td>\n",
       "      <td>Metient-1024</td>\n",
       "      <td>20.000</td>\n",
       "    </tr>\n",
       "    <tr>\n",
       "      <th>41</th>\n",
       "      <td>15</td>\n",
       "      <td>Metient-1024</td>\n",
       "      <td>20.000</td>\n",
       "    </tr>\n",
       "    <tr>\n",
       "      <th>42</th>\n",
       "      <td>16</td>\n",
       "      <td>Metient-1024</td>\n",
       "      <td>20.000</td>\n",
       "    </tr>\n",
       "  </tbody>\n",
       "</table>\n",
       "</div>"
      ],
      "text/plain": [
       "    Rank        Method  % runs\n",
       "0      1    Metient-64  96.041\n",
       "1      2    Metient-64  95.572\n",
       "2      3    Metient-64  94.607\n",
       "3      4    Metient-64  90.467\n",
       "4      5    Metient-64  86.667\n",
       "5      6    Metient-64  42.963\n",
       "6      7    Metient-64  44.286\n",
       "7      8    Metient-64  33.333\n",
       "8      9    Metient-64  50.000\n",
       "9     10    Metient-64  30.000\n",
       "10    11    Metient-64  20.000\n",
       "11    12    Metient-64  20.000\n",
       "12     1   Metient-256  97.304\n",
       "13     2   Metient-256  97.250\n",
       "14     3   Metient-256  95.900\n",
       "15     4   Metient-256  93.780\n",
       "16     5   Metient-256  93.750\n",
       "17     6   Metient-256  49.744\n",
       "18     7   Metient-256  36.471\n",
       "19     8   Metient-256  28.000\n",
       "20     9   Metient-256  23.333\n",
       "21    10   Metient-256  35.000\n",
       "22    11   Metient-256  33.333\n",
       "23    12   Metient-256  20.000\n",
       "24    13   Metient-256  20.000\n",
       "25    14   Metient-256  20.000\n",
       "26    15   Metient-256  20.000\n",
       "27     1  Metient-1024  96.997\n",
       "28     2  Metient-1024  95.636\n",
       "29     3  Metient-1024  94.925\n",
       "30     4  Metient-1024  94.013\n",
       "31     5  Metient-1024  92.085\n",
       "32     6  Metient-1024  47.273\n",
       "33     7  Metient-1024  46.250\n",
       "34     8  Metient-1024  43.636\n",
       "35     9  Metient-1024  41.818\n",
       "36    10  Metient-1024  40.000\n",
       "37    11  Metient-1024  32.000\n",
       "38    12  Metient-1024  25.000\n",
       "39    13  Metient-1024  30.000\n",
       "40    14  Metient-1024  20.000\n",
       "41    15  Metient-1024  20.000\n",
       "42    16  Metient-1024  20.000"
      ]
     },
     "execution_count": 5,
     "metadata": {},
     "output_type": "execute_result"
    }
   ],
   "source": [
    "m5_data = []\n",
    "for bs in m5_bs_to_rank_to_percentages:\n",
    "    for rank in m5_bs_to_rank_to_percentages[bs]:\n",
    "        avg = 100*(sum(m5_bs_to_rank_to_percentages[bs][rank])/len(m5_bs_to_rank_to_percentages[bs][rank]))\n",
    "        m5_data.append([rank+1, f\"Metient-{bs}\", avg])\n",
    "m5_df = pd.DataFrame(m5_data, columns=[\"Rank\", \"Method\", \"% runs\"])\n",
    "m5_df"
   ]
  },
  {
   "cell_type": "code",
   "execution_count": 6,
   "id": "cbf5eea8",
   "metadata": {},
   "outputs": [
    {
     "name": "stdout",
     "output_type": "stream",
     "text": [
      "[(0.48942421, 0.72854938, 0.56751036), (0.34892097, 0.64828676, 0.56513633), (0.24929311, 0.56486397, 0.5586654)]\n"
     ]
    },
    {
     "data": {
      "image/png": "[encoded data removed]",
      "text/plain": [
       "<Figure size 573.5x400 with 1 Axes>"
      ]
     },
     "metadata": {},
     "output_type": "display_data"
    },
    {
     "data": {
      "image/png": "[encoded data removed]",
      "text/plain": [
       "<Figure size 573.5x400 with 1 Axes>"
      ]
     },
     "metadata": {},
     "output_type": "display_data"
    }
   ],
   "source": [
    "import seaborn as sns\n",
    "import matplotlib.pyplot as plt\n",
    "colors = sns.color_palette(\"crest\")\n",
    "colors = colors[:len(batch_sizes)]\n",
    "print(colors)\n",
    "sns.set_palette(sns.color_palette(colors))\n",
    "\n",
    "for name,df in zip([\"m5\", \"m8\"], [m5_df, m8_df]):\n",
    "    with sns.plotting_context(\"notebook\", font_scale=1.1):\n",
    "        g = sns.relplot(\n",
    "            data=df, x=\"Rank\", y=\"% runs\",\n",
    "            height=4, aspect=1.0, dashes=False, linewidth=2.5,\n",
    "            hue=\"Method\", style=\"Method\", kind=\"line\", errorbar='sd', legend=True,\n",
    "        )\n",
    "\n",
    "        (g.set_axis_labels(\"Rank of Solution\", \"% of Runs that Solution is Found\")\n",
    "          .set_titles(\"boop\")\n",
    "          .tight_layout(w_pad=0))\n",
    "        plt.xlim(1,16)\n",
    "        sns.move_legend(g, \"upper right\")\n",
    "        plt.show()\n",
    "        \n",
    "\n",
    "        fig = g.fig\n",
    "        #out_name = (\"_\").join(y_labels[i].split(\" \") + x.split(\" \"))\n",
    "        fig.savefig(os.path.join(REPO_DIR, \"test/output_plots\", f\"{name}_percent_solns_found_{PARAMS}_{DATE}.png\"), dpi=600) \n"
   ]
  },
  {
   "cell_type": "code",
   "execution_count": 27,
   "id": "ed95b5b3",
   "metadata": {},
   "outputs": [
    {
     "name": "stdout",
     "output_type": "stream",
     "text": [
      "{1}\n",
      "1\n",
      "root_idx 1 [1, 0, 2, 3]\n"
     ]
    },
    {
     "data": {
      "text/plain": [
       "(tensor([[0, 1, 1, 0],\n",
       "         [0, 0, 0, 0],\n",
       "         [0, 0, 0, 1],\n",
       "         [0, 0, 0, 0]]),\n",
       " {0: 'root', 1: 'A', 2: 'B', 3: 'C'})"
      ]
     },
     "execution_count": 27,
     "metadata": {},
     "output_type": "execute_result"
    }
   ],
   "source": [
    "import scipy.sparse as sp\n",
    "import numpy as np\n",
    "def get_root_index(T):\n",
    "    '''\n",
    "    returns the root idx (node with no inbound edges) from adjacency matrix T\n",
    "    '''\n",
    "\n",
    "    candidates = set([x for x in range(len(T))])\n",
    "    for i, j in tree_iterator(T):\n",
    "        candidates.remove(j)\n",
    "    msg = \"More than one\" if len(candidates) > 1 else \"No\"\n",
    "    assert (len(candidates) == 1), f\"{msg} root node detected\"\n",
    "    print(candidates)\n",
    "    return list(candidates)[0]\n",
    "\n",
    "def tree_iterator(T):\n",
    "    '''\n",
    "    iterate an adjacency matrix, returning i and j for all values = 1\n",
    "    '''\n",
    "    # enumerating through a torch tensor is pretty computationally expensive,\n",
    "    # so convert to a sparse matrix to efficiently access non-zero values\n",
    "    T = T if isinstance(T, np.ndarray) else T.detach().numpy()\n",
    "    T = sp.coo_matrix(T)\n",
    "    for i, j, val in zip(T.row, T.col, T.data):\n",
    "        yield i,j\n",
    "\n",
    "        \n",
    "def restructure_matrices(adj_matrix, ref_matrix, var_matrix, node_idx_to_label):\n",
    "    \"\"\"\n",
    "    Restructure the adjacency matrix, ref matrix and var matrix so that the node at index 0 becomes the root node.\n",
    "\n",
    "    Parameters:\n",
    "    - adj_matrix: 2D tensor representing the adjacency matrix.\n",
    "\n",
    "    Returns:\n",
    "    - Restructured adjacency matrix.\n",
    "    \"\"\"\n",
    "    root_idx = get_root_index(adj_matrix)\n",
    "    new_order = [x for x in range(len(adj_matrix)) if x != root_idx]\n",
    "    new_order.insert(0, root_idx)\n",
    "\n",
    "    # Swap rows and columns to move the first row and column to the desired position\n",
    "    swapped_adjacency_matrix = adj_matrix[new_order, :][:, new_order]\n",
    "    swapped_adjacency_matrix = adj_matrix[new_order, :][:, new_order]\n",
    "\n",
    "    original_root_label = node_idx_to_label[root_idx]\n",
    "    original_node0_label = node_idx_to_label[0]\n",
    "    node_idx_to_label[0] = original_root_label\n",
    "    node_idx_to_label[root_idx] = original_node0_label\n",
    "\n",
    "    return swapped_adjacency_matrix, node_idx_to_label\n",
    "\n",
    "\n",
    "T = torch.tensor([\n",
    "    [0,0,0,0],\n",
    "    [1,0,1,0],\n",
    "    [0,0,0,1],\n",
    "    [0,0,0,0]\n",
    "])\n",
    "\n",
    "\n",
    "R = torch.tensor([\n",
    "    [0,0,0,0],\n",
    "    [1,0,1,0],\n",
    "])\n",
    "\n",
    "V = torch.tensor([\n",
    "    [0,1,0,1],\n",
    "    [0,0,0,0],\n",
    "])\n",
    "\n",
    "restructure_adjacency_matrix(T, R, V, {0:\"A\", 1:\"root\", 2:\"B\", 3:\"C\"})\n"
   ]
  }
 ],
 "metadata": {
  "kernelspec": {
   "display_name": "Python [conda env:mambaforge-met]",
   "language": "python",
   "name": "conda-env-mambaforge-met-py"
  },
  "language_info": {
   "codemirror_mode": {
    "name": "ipython",
    "version": 3
   },
   "file_extension": ".py",
   "mimetype": "text/x-python",
   "name": "python",
   "nbconvert_exporter": "python",
   "pygments_lexer": "ipython3",
   "version": "3.8.0"
  }
 },
 "nbformat": 4,
 "nbformat_minor": 5
}
