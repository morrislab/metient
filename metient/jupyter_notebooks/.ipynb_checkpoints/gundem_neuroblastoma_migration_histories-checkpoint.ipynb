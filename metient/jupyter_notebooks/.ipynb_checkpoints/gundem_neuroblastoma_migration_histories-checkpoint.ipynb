{
 "cells": [
  {
   "cell_type": "code",
   "execution_count": null,
   "id": "85a335ab",
   "metadata": {},
   "outputs": [],
   "source": [
    "import sys\n",
    "import os\n",
    "from metient.util.globals import *\n",
    "from metient.metient import *\n",
    "import matplotlib\n",
    "\n",
    "matplotlib.rcParams['figure.figsize'] = [3, 3]\n",
    "custom_colors = [\"#6aa84f\",\"#c27ba0\", \"#be5742e1\", \"#6fa8dc\", \"#e69138\", \"#9e9e9e\", \"grey\", \"black\", \"#6aa84f\",\"#c27ba0\", \"#be5742e1\", \"#6fa8dc\", \"#e69138\", \"#9e9e9e\", \"grey\", \"black\", \"grey\"]\n",
    "\n",
    "repo_dir = os.path.join(os.getcwd(), \"../\")\n",
    "MSK_MET_FN = os.path.join(repo_dir, 'data/msk_met/msk_met_freq_by_cancer_type.csv')\n",
    "      \n",
    "DATA_DIR = '/data/morrisq/divyak/data/gundem_neuroblastoma_2023/'\n",
    "TREE_DIR = os.path.join(DATA_DIR, 'orchard_trees')    \n",
    "TSV_DIR = os.path.join(DATA_DIR, 'clustered_tsvs')                 \n",
    "\n",
    "OUTPUT_DIR = os.path.join(repo_dir, \"data\", \"gundem_neuroblastoma_2023\", \"metient_outputs\")\n",
    "\n",
    "print_config = PrintConfig(visualize=True, k_best_trees=6)\n",
    "\n",
    "patient_ids = [x.replace(\"_clustered_SNVs.tsv\", \"\") for x in os.listdir(TSV_DIR)]\n",
    "len(patient_ids)"
   ]
  },
  {
   "cell_type": "markdown",
   "id": "e23d4253",
   "metadata": {},
   "source": [
    "### Run calibrate"
   ]
  },
  {
   "cell_type": "code",
   "execution_count": null,
   "id": "26c18fb9",
   "metadata": {
    "scrolled": false
   },
   "outputs": [],
   "source": [
    "patient_ids = [\"H103207\"]\n",
    "mut_trees_fns = [os.path.join(TREE_DIR, f\"{patient_id}.results.npz\") for patient_id in patient_ids]\n",
    "trees = [data[0] for data in get_adj_matrices_from_pairtree_results(mut_trees_fns)]\n",
    "ref_var_fns = [os.path.join(TSV_DIR, f\"{patient_id}_clustered_SNVs.tsv\") for patient_id in patient_ids]\n",
    "run_names = [f\"{pid}_calibrate\" for pid in patient_ids]\n",
    "calibrate(trees, ref_var_fns, print_config, OUTPUT_DIR, run_names, bias_weights=True, custom_colors=custom_colors, solve_polytomies=False)\n"
   ]
  },
  {
   "cell_type": "markdown",
   "id": "44513f8c",
   "metadata": {},
   "source": [
    "### Run evaluate"
   ]
  },
  {
   "cell_type": "code",
   "execution_count": null,
   "id": "7e2903c7",
   "metadata": {},
   "outputs": [],
   "source": [
    "from metient.util import data_extraction_util as dutil\n",
    "\n",
    "def run_evaluate(mut_trees_fn, ref_var_fn, weights, run_name):    \n",
    "    trees = get_adj_matrices_from_pairtree_results(mut_trees_fn)\n",
    "    print(\"num trees:\", len(trees))   \n",
    "    tree_num = 1\n",
    "    for adj_matrix in trees[:1]:\n",
    "        print(f\"\\nTREE {tree_num}\")\n",
    "        print(adj_matrix.shape)\n",
    "\n",
    "        evaluate(adj_matrix, ref_var_fn, weights, print_config, OUTPUT_DIR, f\"{run_name}_tree{tree_num}\",\n",
    "                 batch_size=6000,\n",
    "                 O=None, bias_weights=True, custom_colors=custom_colors, solve_polytomies=False)\n",
    "        tree_num += 1\n"
   ]
  },
  {
   "cell_type": "code",
   "execution_count": null,
   "id": "06d7480b",
   "metadata": {
    "scrolled": true
   },
   "outputs": [],
   "source": [
    "for patient_id in [\"H103207\"]:\n",
    "    mut_trees_fn = os.path.join(TREE_DIR, f\"{patient_id}.results.npz\")\n",
    "    ref_var_fn = os.path.join(TSV_DIR, f\"{patient_id}_clustered_SNVs.tsv\")\n",
    "    weights = Weights(mig=100.0, comig=5.0, seed_site=1.0, gen_dist=0.0, organotrop=0.0)\n",
    "    print(patient_id)\n",
    "    run_evaluate(mut_trees_fn, ref_var_fn, weights, f\"{patient_id}_evaluate\")\n"
   ]
  },
  {
   "cell_type": "code",
   "execution_count": null,
   "id": "fdb76e90",
   "metadata": {},
   "outputs": [],
   "source": [
    "def dfs_linear_chains(adj_matrix, node, visited, current_chain=[], linear_chains=[]):\n",
    "    visited[node] = True\n",
    "    current_chain.append(node)\n",
    "\n",
    "    # Check if the current node has exactly one neighbor (child)\n",
    "    neighbors = [i for i, connected in enumerate(adj_matrix[node]) if connected]\n",
    "    if len(neighbors) == 1:\n",
    "        dfs_linear_chains(adj_matrix, neighbors[0], visited, current_chain, linear_chains)\n",
    "    else:\n",
    "        # Check if the current chain is a linear chain (more than one node in the chain)\n",
    "        if len(current_chain) > 1:\n",
    "            linear_chains.append(current_chain)\n",
    "\n",
    "        # Continue DFS for each neighbor\n",
    "        for neighbor in neighbors:\n",
    "            if not visited[neighbor]:\n",
    "                dfs_linear_chains(adj_matrix, neighbor, visited, [neighbor], linear_chains)\n",
    "\n",
    "    return linear_chains\n",
    "\n",
    "def get_linear_chain_starting_nodes()\n",
    "num_nodes = len(adjacency_matrix)\n",
    "visited = [False] * num_nodes\n",
    "\n",
    "# Perform DFS to detect and get starting nodes of linear chains\n",
    "result_linear_chains = []\n",
    "for start_node in range(num_nodes):\n",
    "    if not visited[start_node]:\n",
    "        linear_chains_for_start = dfs_linear_chains(adjacency_matrix, start_node, visited)\n",
    "        result_linear_chains.extend(linear_chains_for_start)\n",
    "\n",
    "print(\"Starting Nodes of Linear Chains:\", [chain[0] for chain in result_linear_chains])\n"
   ]
  },
  {
   "cell_type": "code",
   "execution_count": null,
   "id": "9fda51e2",
   "metadata": {},
   "outputs": [],
   "source": [
    "num_nodes = 35\n",
    "num_sites = len(sites)\n",
    "min_size = 256\n",
    "if num_nodes > 15:\n",
    "    min_size += 1280 * (num_nodes // 2)\n",
    "\n",
    "    if num_sites > 3:\n",
    "        min_size += 512 * (num_sites)\n",
    "\n",
    "elif num_sites > 4:\n",
    "    min_size += 256 * (num_sites // 2)\n",
    "\n",
    "# cap this to a reasonably high sample size\n",
    "min_size = min(min_size, 60000)"
   ]
  }
 ],
 "metadata": {
  "kernelspec": {
   "display_name": "Python [conda env:mambaforge-met]",
   "language": "python",
   "name": "conda-env-mambaforge-met-py"
  },
  "language_info": {
   "codemirror_mode": {
    "name": "ipython",
    "version": 3
   },
   "file_extension": ".py",
   "mimetype": "text/x-python",
   "name": "python",
   "nbconvert_exporter": "python",
   "pygments_lexer": "ipython3",
   "version": "3.8.0"
  }
 },
 "nbformat": 4,
 "nbformat_minor": 5
}
