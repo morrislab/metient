{
 "cells": [
  {
   "cell_type": "code",
   "execution_count": 1,
   "id": "85a335ab",
   "metadata": {},
   "outputs": [
    {
     "name": "stdout",
     "output_type": "stream",
     "text": [
      "CUDA GPU: False\n",
      "['H132380']\n"
     ]
    },
    {
     "data": {
      "text/plain": [
       "1"
      ]
     },
     "execution_count": 1,
     "metadata": {},
     "output_type": "execute_result"
    }
   ],
   "source": [
    "import sys\n",
    "import os\n",
    "from metient.metient import *\n",
    "from metient.util import pairtree_data_extraction_util as ptutil\n",
    "\n",
    "import matplotlib\n",
    "\n",
    "matplotlib.rcParams['figure.figsize'] = [3, 3]\n",
    "\n",
    "repo_dir = os.path.join(os.getcwd(), \"../\")\n",
    "MSK_MET_FN = os.path.join(repo_dir, 'data/msk_met/msk_met_freq_by_cancer_type.csv')\n",
    "      \n",
    "DATA_DIR = '/data/morrisq/divyak/data/gundem_neuroblastoma_2023/'\n",
    "TREE_DIR = os.path.join(DATA_DIR, 'orchard_trees')    \n",
    "TSV_DIR = os.path.join(DATA_DIR, 'clustered_tsvs')                 \n",
    "\n",
    "OUTPUT_DIR = os.path.join(repo_dir, \"data\", \"gundem_neuroblastoma_2023\", \"metient_outputs\", \"solve_polys\")\n",
    "if not os.path.exists(OUTPUT_DIR):\n",
    "    os.makedirs(OUTPUT_DIR)\n",
    "    \n",
    "print_config = PrintConfig(visualize=True, k_best_trees=20)\n",
    "\n",
    "patient_ids = [x.replace(\"_SNVs.tsv\", \"\") for x in os.listdir(TSV_DIR)]\n",
    "patient_ids = ['H132380']\n",
    "print(patient_ids)\n",
    "len(patient_ids)"
   ]
  },
  {
   "cell_type": "markdown",
   "id": "e23d4253",
   "metadata": {},
   "source": [
    "### Run calibrate"
   ]
  },
  {
   "cell_type": "code",
   "execution_count": 2,
   "id": "26c18fb9",
   "metadata": {
    "scrolled": false
   },
   "outputs": [
    {
     "ename": "AttributeError",
     "evalue": "module 'metient.util.plotting_util' has no attribute 'get_root_index'",
     "output_type": "error",
     "traceback": [
      "\u001b[0;31m---------------------------------------------------------------------------\u001b[0m",
      "\u001b[0;31mAttributeError\u001b[0m                            Traceback (most recent call last)",
      "Cell \u001b[0;32mIn[2], line 2\u001b[0m\n\u001b[1;32m      1\u001b[0m mut_trees_fns \u001b[38;5;241m=\u001b[39m [os\u001b[38;5;241m.\u001b[39mpath\u001b[38;5;241m.\u001b[39mjoin(TREE_DIR, \u001b[38;5;124mf\u001b[39m\u001b[38;5;124m\"\u001b[39m\u001b[38;5;132;01m{\u001b[39;00mpatient_id\u001b[38;5;132;01m}\u001b[39;00m\u001b[38;5;124m.results.npz\u001b[39m\u001b[38;5;124m\"\u001b[39m) \u001b[38;5;28;01mfor\u001b[39;00m patient_id \u001b[38;5;129;01min\u001b[39;00m patient_ids]\n\u001b[0;32m----> 2\u001b[0m trees \u001b[38;5;241m=\u001b[39m [data[\u001b[38;5;241m0\u001b[39m] \u001b[38;5;28;01mfor\u001b[39;00m data \u001b[38;5;129;01min\u001b[39;00m \u001b[43mptutil\u001b[49m\u001b[38;5;241;43m.\u001b[39;49m\u001b[43mget_adj_matrices_from_pairtree_results\u001b[49m\u001b[43m(\u001b[49m\u001b[43mmut_trees_fns\u001b[49m\u001b[43m)\u001b[49m]\n\u001b[1;32m      3\u001b[0m ref_var_fns \u001b[38;5;241m=\u001b[39m [os\u001b[38;5;241m.\u001b[39mpath\u001b[38;5;241m.\u001b[39mjoin(TSV_DIR, \u001b[38;5;124mf\u001b[39m\u001b[38;5;124m\"\u001b[39m\u001b[38;5;132;01m{\u001b[39;00mpatient_id\u001b[38;5;132;01m}\u001b[39;00m\u001b[38;5;124m_SNVs.tsv\u001b[39m\u001b[38;5;124m\"\u001b[39m) \u001b[38;5;28;01mfor\u001b[39;00m patient_id \u001b[38;5;129;01min\u001b[39;00m patient_ids]\n\u001b[1;32m      4\u001b[0m run_names \u001b[38;5;241m=\u001b[39m [\u001b[38;5;124mf\u001b[39m\u001b[38;5;124m\"\u001b[39m\u001b[38;5;132;01m{\u001b[39;00mpid\u001b[38;5;132;01m}\u001b[39;00m\u001b[38;5;124m_calibrate\u001b[39m\u001b[38;5;124m\"\u001b[39m \u001b[38;5;28;01mfor\u001b[39;00m pid \u001b[38;5;129;01min\u001b[39;00m patient_ids]\n",
      "File \u001b[0;32m/lila/data/morrisq/divyak/projects/metient/metient/util/pairtree_data_extraction_util.py:217\u001b[0m, in \u001b[0;36mget_adj_matrices_from_pairtree_results\u001b[0;34m(pairtee_results_fns)\u001b[0m\n\u001b[1;32m    213\u001b[0m     \u001b[38;5;28;01mreturn\u001b[39;00m get_adj_matrix_from_pairtree_results(pairtee_results_fns)\n\u001b[1;32m    215\u001b[0m \u001b[38;5;28;01massert\u001b[39;00m(\u001b[38;5;28mlen\u001b[39m(pairtee_results_fns) \u001b[38;5;241m>\u001b[39m\u001b[38;5;241m=\u001b[39m \u001b[38;5;241m1\u001b[39m)\n\u001b[0;32m--> 217\u001b[0m \u001b[38;5;28;01mreturn\u001b[39;00m [get_adj_matrix_from_pairtree_results(fn) \u001b[38;5;28;01mfor\u001b[39;00m fn \u001b[38;5;129;01min\u001b[39;00m pairtee_results_fns]\n",
      "File \u001b[0;32m/lila/data/morrisq/divyak/projects/metient/metient/util/pairtree_data_extraction_util.py:217\u001b[0m, in \u001b[0;36m<listcomp>\u001b[0;34m(.0)\u001b[0m\n\u001b[1;32m    213\u001b[0m     \u001b[38;5;28;01mreturn\u001b[39;00m get_adj_matrix_from_pairtree_results(pairtee_results_fns)\n\u001b[1;32m    215\u001b[0m \u001b[38;5;28;01massert\u001b[39;00m(\u001b[38;5;28mlen\u001b[39m(pairtee_results_fns) \u001b[38;5;241m>\u001b[39m\u001b[38;5;241m=\u001b[39m \u001b[38;5;241m1\u001b[39m)\n\u001b[0;32m--> 217\u001b[0m \u001b[38;5;28;01mreturn\u001b[39;00m [\u001b[43mget_adj_matrix_from_pairtree_results\u001b[49m\u001b[43m(\u001b[49m\u001b[43mfn\u001b[49m\u001b[43m)\u001b[49m \u001b[38;5;28;01mfor\u001b[39;00m fn \u001b[38;5;129;01min\u001b[39;00m pairtee_results_fns]\n",
      "File \u001b[0;32m/lila/data/morrisq/divyak/projects/metient/metient/util/pairtree_data_extraction_util.py:227\u001b[0m, in \u001b[0;36mget_adj_matrix_from_pairtree_results\u001b[0;34m(pairtee_results_fn)\u001b[0m\n\u001b[1;32m    225\u001b[0m data \u001b[38;5;241m=\u001b[39m []\n\u001b[1;32m    226\u001b[0m \u001b[38;5;28;01mfor\u001b[39;00m parents_vector, llh \u001b[38;5;129;01min\u001b[39;00m \u001b[38;5;28mzip\u001b[39m(parent_vectors, llhs):\n\u001b[0;32m--> 227\u001b[0m     adj_matrix \u001b[38;5;241m=\u001b[39m \u001b[43mget_adj_matrix_from_parents\u001b[49m\u001b[43m(\u001b[49m\u001b[43mparents_vector\u001b[49m\u001b[43m)\u001b[49m\n\u001b[1;32m    228\u001b[0m     data\u001b[38;5;241m.\u001b[39mappend(torch\u001b[38;5;241m.\u001b[39mtensor(adj_matrix, dtype \u001b[38;5;241m=\u001b[39m torch\u001b[38;5;241m.\u001b[39mfloat32))\n\u001b[1;32m    229\u001b[0m \u001b[38;5;28;01mreturn\u001b[39;00m data\n",
      "File \u001b[0;32m/lila/data/morrisq/divyak/projects/metient/metient/util/pairtree_data_extraction_util.py:202\u001b[0m, in \u001b[0;36mget_adj_matrix_from_parents\u001b[0;34m(parents)\u001b[0m\n\u001b[1;32m    200\u001b[0m T \u001b[38;5;241m=\u001b[39m np\u001b[38;5;241m.\u001b[39mlogical_xor(T,I)\u001b[38;5;241m.\u001b[39mastype(\u001b[38;5;28mint\u001b[39m) \u001b[38;5;66;03m# remove self-loops\u001b[39;00m\n\u001b[1;32m    201\u001b[0m \u001b[38;5;66;03m# remove the normal subclone\u001b[39;00m\n\u001b[0;32m--> 202\u001b[0m normal_clone_idx \u001b[38;5;241m=\u001b[39m \u001b[43mplt_util\u001b[49m\u001b[38;5;241;43m.\u001b[39;49m\u001b[43mget_root_index\u001b[49m(T)\n\u001b[1;32m    203\u001b[0m \u001b[38;5;66;03m# Assert that this is a monoprimary tree (normal subclone has one cancerous child)\u001b[39;00m\n\u001b[1;32m    204\u001b[0m \u001b[38;5;28;01mif\u001b[39;00m \u001b[38;5;28mlen\u001b[39m(T[normal_clone_idx]\u001b[38;5;241m.\u001b[39mnonzero()[\u001b[38;5;241m0\u001b[39m]) \u001b[38;5;241m>\u001b[39m \u001b[38;5;241m1\u001b[39m:\n",
      "\u001b[0;31mAttributeError\u001b[0m: module 'metient.util.plotting_util' has no attribute 'get_root_index'"
     ]
    }
   ],
   "source": [
    "mut_trees_fns = [os.path.join(TREE_DIR, f\"{patient_id}.results.npz\") for patient_id in patient_ids]\n",
    "trees = [data[0] for data in ptutil.get_adj_matrices_from_pairtree_results(mut_trees_fns)]\n",
    "ref_var_fns = [os.path.join(TSV_DIR, f\"{patient_id}_SNVs.tsv\") for patient_id in patient_ids]\n",
    "run_names = [f\"{pid}_calibrate\" for pid in patient_ids]\n",
    "calibrate(trees, ref_var_fns, print_config, OUTPUT_DIR, run_names, bias_weights=True, solve_polytomies=True)\n"
   ]
  },
  {
   "cell_type": "code",
   "execution_count": null,
   "id": "c53c7887",
   "metadata": {},
   "outputs": [],
   "source": []
  }
 ],
 "metadata": {
  "kernelspec": {
   "display_name": "Python [conda env:mambaforge-met]",
   "language": "python",
   "name": "conda-env-mambaforge-met-py"
  },
  "language_info": {
   "codemirror_mode": {
    "name": "ipython",
    "version": 3
   },
   "file_extension": ".py",
   "mimetype": "text/x-python",
   "name": "python",
   "nbconvert_exporter": "python",
   "pygments_lexer": "ipython3",
   "version": "3.8.0"
  }
 },
 "nbformat": 4,
 "nbformat_minor": 5
}
