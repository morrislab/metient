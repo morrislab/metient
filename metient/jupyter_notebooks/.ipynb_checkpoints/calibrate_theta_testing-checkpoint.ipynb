{
 "cells": [
  {
   "cell_type": "code",
   "execution_count": 1,
   "id": "d2981e40",
   "metadata": {},
   "outputs": [
    {
     "name": "stdout",
     "output_type": "stream",
     "text": [
      "CUDA GPU: False\n"
     ]
    }
   ],
   "source": [
    "import os\n",
    "from metient.util import eval_util as eutil\n",
    "from metient.util.globals import *\n",
    "\n",
    "\n",
    "REPO_DIR = os.path.join(os.getcwd(), \"../\")"
   ]
  },
  {
   "cell_type": "code",
   "execution_count": 2,
   "id": "21a08f91",
   "metadata": {},
   "outputs": [],
   "source": [
    "\n",
    "DATASET_NAMES = [\"Breast Cancer\", \"Melanoma\", \"HGSOC\", \"Neuroblastoma\", \"NSCLC\"]\n",
    "CALIBRATE_DIRS = [os.path.join(REPO_DIR,\"data/hoadley_breast_cancer_2016/metient_outputs/calibrate\"),\n",
    "                  os.path.join(REPO_DIR,\"data/sanborn_melanoma_2015/metient_outputs/calibrate\"),\n",
    "                  os.path.join(REPO_DIR,\"data/mcpherson_ovarian_2016/metient_outputs/calibrate\"),\n",
    "                  os.path.join(REPO_DIR,\"data/gundem_neuroblastoma_2023/metient_outputs/calibrate\"),\n",
    "                  os.path.join(REPO_DIR,\"data/tracerx_nsclc/metient_outputs/pyclone_clustered_conipher_trees_01222024/calibrate\")]\n"
   ]
  },
  {
   "cell_type": "code",
   "execution_count": 4,
   "id": "ee24112a",
   "metadata": {},
   "outputs": [
    {
     "name": "stdout",
     "output_type": "stream",
     "text": [
      "Breast Cancer 2\n",
      "Calibrating to 2 patients\n",
      "Optimized thetas: tensor([0.4075, 0.3239, 0.2687], grad_fn=<DivBackward0>)\n",
      "Melanoma 8\n",
      "Calibrating to 8 patients\n",
      "Optimized thetas: tensor([0.5033, 0.2534, 0.2433], grad_fn=<DivBackward0>)\n",
      "HGSOC 7\n",
      "Calibrating to 7 patients\n",
      "Optimized thetas: tensor([0.4922, 0.2539, 0.2539], grad_fn=<DivBackward0>)\n",
      "Neuroblastoma 26\n",
      "Calibrating to 26 patients\n",
      "Optimized thetas: tensor([0.7034, 0.1528, 0.1437], grad_fn=<DivBackward0>)\n",
      "NSCLC 128\n",
      "Calibrating to 128 patients\n",
      "Optimized thetas: tensor([0.7223, 0.1583, 0.1195], grad_fn=<DivBackward0>)\n"
     ]
    }
   ],
   "source": [
    "import glob\n",
    "import random\n",
    "\n",
    "split = 2\n",
    "for run in range(0,5):\n",
    "    for calibrate_dir,dataset in zip(CALIBRATE_DIRS, DATASET_NAMES):\n",
    "\n",
    "        # Use glob to get the list of matching files\n",
    "        matching_files = glob.glob(f'{calibrate_dir}/*pkl.gz')\n",
    "        random.shuffle(matching_files)\n",
    "        print(dataset, len(matching_files))\n",
    "        \n",
    "        eutil.get_max_cross_ent_thetas(pickle_file_list=matching_files)\n"
   ]
  },
  {
   "cell_type": "code",
   "execution_count": 6,
   "id": "ae676de9",
   "metadata": {},
   "outputs": [
    {
     "name": "stdout",
     "output_type": "stream",
     "text": [
      "num patients 452 452\n",
      "Step 0: theta = tensor([2.7183, 2.7183, 2.7183], grad_fn=<ExpBackward0>), Objective = 1137.993408203125\n",
      "Step 30: theta = tensor([1.4016, 0.2441, 0.7837], grad_fn=<ExpBackward0>), Objective = 1059.5782470703125\n",
      "Step 60: theta = tensor([1.3099, 0.1444, 0.7237], grad_fn=<ExpBackward0>), Objective = 1058.5963134765625\n",
      "Step 90: theta = tensor([1.2818, 0.1048, 0.7113], grad_fn=<ExpBackward0>), Objective = 1058.2476806640625\n",
      "Step 120: theta = tensor([1.2686, 0.0829, 0.7078], grad_fn=<ExpBackward0>), Objective = 1058.0643310546875\n",
      "Step 150: theta = tensor([1.2607, 0.0688, 0.7065], grad_fn=<ExpBackward0>), Objective = 1057.9495849609375\n",
      "Step 180: theta = tensor([1.2554, 0.0590, 0.7058], grad_fn=<ExpBackward0>), Objective = 1057.8701171875\n",
      "Optimized thetas: tensor([1.2528, 0.0542, 0.7055], grad_fn=<ExpBackward0>)\n"
     ]
    },
    {
     "data": {
      "text/plain": [
       "[1.252791166305542, 0.054165277630090714, 0.7054601311683655]"
      ]
     },
     "execution_count": 6,
     "metadata": {},
     "output_type": "execute_result"
    }
   ],
   "source": [
    "sims_calibrate=os.path.join(REPO_DIR, 'test/machina_simulated_data/predictions_bs1024_calibrate_wip_parseps1calandeval_12122023')\n",
    "eutil.get_max_cross_ent_thetas(pickle_file_dirs=[os.path.join(sims_calibrate, \"m5\", \"R\"), os.path.join(sims_calibrate, \"m8\", \"R\")], suffix=\"_calibrate\", tau=5)\n"
   ]
  },
  {
   "cell_type": "code",
   "execution_count": null,
   "id": "c29f8a3f",
   "metadata": {},
   "outputs": [],
   "source": []
  },
  {
   "cell_type": "code",
   "execution_count": 2,
   "id": "a912ba7f",
   "metadata": {},
   "outputs": [
    {
     "name": "stdout",
     "output_type": "stream",
     "text": [
      "num patients 498 498\n",
      "Step 0: theta = tensor([2.7183, 2.7183, 2.7183], grad_fn=<ExpBackward0>), Objective = 1173.1954345703125\n",
      "Step 30: theta = tensor([0.3373, 0.3968, 0.2927], grad_fn=<ExpBackward0>), Objective = 1057.1004638671875\n",
      "Step 60: theta = tensor([0.2414, 0.2863, 0.2106], grad_fn=<ExpBackward0>), Objective = 1055.9801025390625\n",
      "Step 90: theta = tensor([0.1986, 0.2363, 0.1733], grad_fn=<ExpBackward0>), Objective = 1055.6015625\n"
     ]
    },
    {
     "name": "stderr",
     "output_type": "stream",
     "text": [
      "\n",
      "KeyboardInterrupt\n",
      "\n"
     ]
    }
   ],
   "source": [
    "sims_calibrate=os.path.join(REPO_DIR, 'test/machina_simulated_data/predictions_bs1024_calibrate_wip_parseps1calandeval_12122023')\n",
    "eutil.get_max_cross_ent_thetas(pickle_file_dirs=[os.path.join(sims_calibrate, \"m5\", \"M\"), os.path.join(sims_calibrate, \"m8\", \"M\")], suffix=\"_calibrate\", tau=0.1)\n"
   ]
  },
  {
   "cell_type": "code",
   "execution_count": 2,
   "id": "3759a518",
   "metadata": {},
   "outputs": [
    {
     "name": "stdout",
     "output_type": "stream",
     "text": [
      "Restricting to patients wih > 2 sites\n",
      "num patients 128 50\n",
      "Step 0: theta = tensor([0.3333, 0.3333, 0.3333], grad_fn=<DivBackward0>), Objective = 87.63581848144531\n",
      "Step 10: theta = tensor([0.3443, 0.3300, 0.3256], grad_fn=<DivBackward0>), Objective = 87.61882781982422\n",
      "Step 20: theta = tensor([0.3547, 0.3268, 0.3184], grad_fn=<DivBackward0>), Objective = 87.60414123535156\n",
      "Step 30: theta = tensor([0.3645, 0.3238, 0.3117], grad_fn=<DivBackward0>), Objective = 87.59149169921875\n",
      "Step 40: theta = tensor([0.3735, 0.3210, 0.3055], grad_fn=<DivBackward0>), Objective = 87.5807113647461\n",
      "Step 50: theta = tensor([0.3819, 0.3183, 0.2997], grad_fn=<DivBackward0>), Objective = 87.5715560913086\n",
      "Step 60: theta = tensor([0.3897, 0.3159, 0.2944], grad_fn=<DivBackward0>), Objective = 87.56381225585938\n",
      "Step 70: theta = tensor([0.3969, 0.3137, 0.2895], grad_fn=<DivBackward0>), Objective = 87.55728912353516\n",
      "Step 80: theta = tensor([0.4034, 0.3117, 0.2849], grad_fn=<DivBackward0>), Objective = 87.55184173583984\n",
      "Step 90: theta = tensor([0.4094, 0.3099, 0.2807], grad_fn=<DivBackward0>), Objective = 87.54724884033203\n",
      "Step 100: theta = tensor([0.4149, 0.3083, 0.2768], grad_fn=<DivBackward0>), Objective = 87.54338836669922\n",
      "Step 110: theta = tensor([0.4198, 0.3070, 0.2732], grad_fn=<DivBackward0>), Objective = 87.5401840209961\n",
      "Step 120: theta = tensor([0.4244, 0.3058, 0.2699], grad_fn=<DivBackward0>), Objective = 87.53749084472656\n",
      "Step 130: theta = tensor([0.4285, 0.3048, 0.2668], grad_fn=<DivBackward0>), Objective = 87.53523254394531\n",
      "Step 140: theta = tensor([0.4322, 0.3039, 0.2639], grad_fn=<DivBackward0>), Objective = 87.53334045410156\n",
      "Step 150: theta = tensor([0.4355, 0.3032, 0.2613], grad_fn=<DivBackward0>), Objective = 87.53174591064453\n",
      "Step 160: theta = tensor([0.4386, 0.3026, 0.2588], grad_fn=<DivBackward0>), Objective = 87.5303955078125\n",
      "Step 170: theta = tensor([0.4413, 0.3022, 0.2565], grad_fn=<DivBackward0>), Objective = 87.52923583984375\n",
      "Step 180: theta = tensor([0.4438, 0.3019, 0.2543], grad_fn=<DivBackward0>), Objective = 87.52825927734375\n",
      "Step 190: theta = tensor([0.4460, 0.3017, 0.2523], grad_fn=<DivBackward0>), Objective = 87.52740478515625\n",
      "Optimized thetas: tensor([0.4478, 0.3016, 0.2506], grad_fn=<DivBackward0>)\n"
     ]
    },
    {
     "data": {
      "text/plain": [
       "[0.4478316605091095, 0.30158117413520813, 0.2505871653556824]"
      ]
     },
     "execution_count": 2,
     "metadata": {},
     "output_type": "execute_result"
    }
   ],
   "source": [
    "tracerx_calibrate='/data/morrisq/divyak/projects/met_history_prediction/src/data/tracerx_nsclc/metient_outputs/pyclone_conipher_calibrate__nositenumrestriction_r2__2023/calibrate/'\n",
    "eutil.get_max_cross_ent_thetas(pickle_file_dirs=[tracerx_calibrate])"
   ]
  },
  {
   "cell_type": "code",
   "execution_count": null,
   "id": "958694fa",
   "metadata": {},
   "outputs": [],
   "source": [
    "prediction_dir = os.path.join(REPO_DIR, 'test', 'machina_simulated_data', 'predictions_bs1024_calibrate_solvepoly_wip_thetaopt_12072023')\n",
    "eutil.get_max_cross_ent_thetas(pickle_file_dirs=[os.path.join(prediction_dir, 'm8', 'mS'),os.path.join(prediction_dir, 'm5', 'mS')])\n",
    "eutil.get_max_cross_ent_thetas(pickle_file_dirs=[os.path.join(prediction_dir, 'm8', 'R'),os.path.join(prediction_dir, 'm5', 'R')])\n"
   ]
  },
  {
   "cell_type": "code",
   "execution_count": null,
   "id": "ee919bf9",
   "metadata": {},
   "outputs": [],
   "source": [
    "\n",
    "def is_ground_truth_tree_parallel_single_source(site, mig_type, seed):\n",
    "    labeling_fn = os.path.join(SIMS_DIR, site, mig_type, f\"T_seed{seed}.vertex.labeling\")\n",
    "    tree_fn = os.path.join(SIMS_DIR, site, mig_type, f\"T_seed{seed}.tree\")\n",
    "    true_edges, true_mig_edges, true_labeling = eutil.parse_clone_tree(tree_fn, labeling_fn)\n",
    "    del true_labeling['GL']\n",
    "    num_nodes = len(true_labeling)\n",
    "    num_sites = len(set(list(true_labeling.values())))\n",
    "    node_label_to_idx = {k:i for i,k in enumerate(list(true_labeling.keys()))}\n",
    "    A = torch.zeros((num_nodes, num_nodes))\n",
    "    for edge in true_edges:\n",
    "        if edge[0] == \"GL\":\n",
    "            continue\n",
    "        A[node_label_to_idx[edge[0]], node_label_to_idx[edge[1]]] = 1\n",
    "    \n",
    "    site_label_to_idx = {k:i for i,k in enumerate(set(list(true_labeling.values())))}\n",
    "    V = torch.zeros((num_sites, num_nodes))\n",
    "    for node_label in true_labeling:\n",
    "        site_label = true_labeling[node_label]\n",
    "        V[site_label_to_idx[site_label], node_label_to_idx[node_label]] = 1\n",
    "    \n",
    "    m, c, s, _, _ = get_ancestral_labeling_metrics(add_batch_dim(V), A, None, None, None)    \n",
    "    return s.item()==1.0\n",
    "\n",
    "parallel_ss_trees = []\n",
    "nonparallel_ss_trees = []\n",
    "\n",
    "for mig_type in MIG_TYPES:\n",
    "    for site in SITES:\n",
    "        site_mig_type_dir = os.path.join(SIMS_DIR, site, mig_type)\n",
    "        seeds = fnmatch.filter(os.listdir(site_mig_type_dir), 'clustering_observed_seed*.txt')\n",
    "        seeds = [s.replace(\".txt\", \"\").replace(\"clustering_observed_seed\", \"\") for s in seeds]\n",
    "        for seed in seeds:\n",
    "            is_parallel_ss = is_ground_truth_tree_parallel_single_source(site, mig_type, seed)\n",
    "            num_trees = get_num_mut_trees(os.path.join(SIMS_DIR, f\"{site}_mut_trees\", f\"mut_trees_{mig_type}_seed{seed}.txt\"))\n",
    "            for tree_num in range(num_trees):\n",
    "                seeding_fn = os.path.join(prediction_dir, site, mig_type, f\"tree{tree_num}_seed{seed}_calibrate.pkl.gz\")\n",
    "                if is_parallel_ss:\n",
    "                    parallel_ss_trees.append(seeding_fn) \n",
    "                else:\n",
    "                    nonparallel_ss_trees.append(seeding_fn)\n",
    "print(len(parallel_ss_trees),len(nonparallel_ss_trees)) \n",
    "\n",
    "eutil.get_max_cross_ent_thetas(pickle_file_list=parallel_ss_trees)\n",
    "eutil.get_max_cross_ent_thetas(pickle_file_list=nonparallel_ss_trees)\n"
   ]
  }
 ],
 "metadata": {
  "kernelspec": {
   "display_name": "Python [conda env:met]",
   "language": "python",
   "name": "conda-env-met-py"
  },
  "language_info": {
   "codemirror_mode": {
    "name": "ipython",
    "version": 3
   },
   "file_extension": ".py",
   "mimetype": "text/x-python",
   "name": "python",
   "nbconvert_exporter": "python",
   "pygments_lexer": "ipython3",
   "version": "3.8.0"
  }
 },
 "nbformat": 4,
 "nbformat_minor": 5
}
