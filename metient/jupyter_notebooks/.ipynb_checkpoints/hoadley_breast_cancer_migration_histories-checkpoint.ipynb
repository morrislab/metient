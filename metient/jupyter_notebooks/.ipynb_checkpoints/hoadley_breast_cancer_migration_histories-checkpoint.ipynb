{
 "cells": [
  {
   "cell_type": "markdown",
   "id": "daeb2ac8-03a2-4956-95ff-ba1ef93a37f9",
   "metadata": {},
   "source": [
    "### Test migration history reconstruction on breast cancer data\n"
   ]
  },
  {
   "cell_type": "code",
   "execution_count": null,
   "id": "317b9f08",
   "metadata": {},
   "outputs": [],
   "source": [
    "import sys\n",
    "import os\n",
    "\n",
    "repo_dir = os.path.join(os.getcwd(), \"../\")\n",
    "\n",
    "from metient.util.globals import *\n",
    "from metient.metient import *\n",
    "\n",
    "import matplotlib\n",
    "import torch\n",
    "\n",
    "matplotlib.rcParams['figure.figsize'] = [3, 3]\n",
    "custom_colors = [\"#6aa84f\",\"#c27ba0\", \"#be5742e1\", \"#6fa8dc\", \"#e69138\", \"#9e9e9e\"]\n",
    "HOADLEY_DATA_DIR = os.path.join(repo_dir, 'data/hoadley_breast_cancer_2016')\n",
    "MSK_MET_FN = os.path.join(repo_dir, 'data/msk_met/msk_met_freq_by_cancer_type.csv')\n",
    "OUTPUT_DIR = os.path.join(repo_dir, 'data', 'hoadley_breast_cancer_2016', 'metient_outputs')"
   ]
  },
  {
   "cell_type": "code",
   "execution_count": null,
   "id": "0b695cff",
   "metadata": {},
   "outputs": [],
   "source": [
    "HOAD_MSK_MET_MAP = {\n",
    "    \"liver\": \"Liver\",\n",
    "    \"brain\": \"CNS/Brain\",\n",
    "    \"rib\": \"Bone\",\n",
    "    \"breast\": \"Breast\",\n",
    "    \"kidney\": \"Kidney\",\n",
    "    \"lung\": \"Lung\",\n",
    "    \"adrenal\": \"Adrenal Gland\",\n",
    "    \"spinal\": \"CNS/Brain\"\n",
    "}\n",
    "\n",
    "print_config = PrintConfig(visualize=True, verbose=True, k_best_trees=10)\n",
    "\n",
    "def run_evaluate(patient_id, custom_colors, weights, run_name):\n",
    "    mut_trees_fn = os.path.join(HOADLEY_DATA_DIR, \"orchard_trees\", f\"{patient_id}.results.npz\")\n",
    "    ref_var_fn = os.path.join(HOADLEY_DATA_DIR, \"pyclone_clustered_tsvs\", f\"{patient_id}_clustered_SNVs.tsv\")\n",
    "    _, _, _, unique_sites, _, _ = dutil.get_ref_var_omega_matrices(ref_var_fn)\n",
    "    trees = get_adj_matrices_from_pairtree_results(mut_trees_fn)\n",
    "    print(\"num trees:\", len(trees))\n",
    "    print(unique_sites)\n",
    "    tree_num = 1\n",
    "    for adj_matrix in trees[:1]:\n",
    "        print(f\"\\nTREE {tree_num}\")\n",
    "        O = get_organotropism_matrix_from_msk_met(unique_sites, \"Breast Cancer\", MSK_MET_FN, HOAD_MSK_MET_MAP)\n",
    "        print(\"organotropism\",O)\n",
    "        if weights.organotrop == 0.0: O = None\n",
    "        \n",
    "        evaluate(adj_matrix,  ref_var_fn,weights, print_config, OUTPUT_DIR, f\"{run_name}_tree{tree_num}\",\n",
    "                 O=O, bias_weights=True, custom_colors=custom_colors, solve_polytomies=False)\n",
    "        tree_num += 1\n",
    "\n"
   ]
  },
  {
   "cell_type": "markdown",
   "id": "72dc742a-373a-476d-8b49-7c41b48088c9",
   "metadata": {},
   "source": [
    "### Patient A1, evaluate mode, maximum parsimony objective"
   ]
  },
  {
   "cell_type": "code",
   "execution_count": null,
   "id": "1d7e2c97-2aa6-416b-9f04-7dc6383af63f",
   "metadata": {
    "scrolled": true
   },
   "outputs": [],
   "source": [
    "weights = Weights(mig=10.0, comig=5.0, seed_site=1.0, gen_dist=0.0, organotrop=0.0)\n",
    "run_evaluate(\"A1\", custom_colors, weights, \"A1_eval\")\n"
   ]
  },
  {
   "cell_type": "markdown",
   "id": "c10aabe5-3632-4779-bc21-88b6513ea53b",
   "metadata": {},
   "source": [
    "### Patient A1, maximum parsimony + gen. dist. objective"
   ]
  },
  {
   "cell_type": "code",
   "execution_count": null,
   "id": "14ae51ec",
   "metadata": {
    "scrolled": true
   },
   "outputs": [],
   "source": [
    "weights = Weights(mig=10.0, comig=5.0, seed_site=1.0, reg=3.0, gen_dist=1.0, organotrop=0.0)\n",
    "run_evaluate(\"A1\", custom_colors, weights, \"A1_eval_gd\")"
   ]
  },
  {
   "cell_type": "markdown",
   "id": "3b092392-1d12-4ed2-acdb-7f54206a176e",
   "metadata": {},
   "source": [
    "### Patient A1, maximum parsimony + gen. dist. + organotropism objective"
   ]
  },
  {
   "cell_type": "code",
   "execution_count": null,
   "id": "33e1674e-59a3-40fa-8476-6063814762b7",
   "metadata": {
    "scrolled": true
   },
   "outputs": [],
   "source": [
    "weights = Weights(mig=10.0, comig=5.0, seed_site=1.0, reg=3.0, gen_dist=1.0, organotrop=100.0)\n",
    "run_evaluate(\"A1\", custom_colors, weights, \"A1_eval_gd_organo\")"
   ]
  },
  {
   "cell_type": "markdown",
   "id": "2cdf068e-eafa-4f34-a8d9-ad4cc761b4bb",
   "metadata": {},
   "source": [
    "### Patient A7, evaluate mode, maximum parsimony objective"
   ]
  },
  {
   "cell_type": "code",
   "execution_count": null,
   "id": "fe4325a5",
   "metadata": {
    "scrolled": true
   },
   "outputs": [],
   "source": [
    "weights = Weights(mig=10.0, comig=5.0, seed_site=1.0, gen_dist=0.0, organotrop=0.0)\n",
    "run_evaluate(\"A7\", custom_colors, weights, \"A7_eval\")"
   ]
  },
  {
   "cell_type": "markdown",
   "id": "3027be77-aaf2-457d-aa4c-e3e81242eb1b",
   "metadata": {},
   "source": [
    "### Patient A7, evaluate mode, maximum parsimony + gen. dist. objective"
   ]
  },
  {
   "cell_type": "code",
   "execution_count": null,
   "id": "51e6ffbd-5b9f-43c7-b3b5-4ca497067b34",
   "metadata": {
    "scrolled": true
   },
   "outputs": [],
   "source": [
    "weights = Weights(mig=10.0, comig=5.0, seed_site=1.0, gen_dist=1.0, organotrop=0.0)\n",
    "run_evaluate(\"A7\", custom_colors, weights, \"A7_eval_gd\")"
   ]
  },
  {
   "cell_type": "markdown",
   "id": "c4f4a868-040b-49a9-8a7d-b04e5307ce5e",
   "metadata": {},
   "source": [
    "### Patient A7, evaluate mode, maximum parsimony + gen. dist. + organotropism objective"
   ]
  },
  {
   "cell_type": "code",
   "execution_count": null,
   "id": "219c6059-7a87-455c-a0f7-e1e141ae484f",
   "metadata": {
    "scrolled": true
   },
   "outputs": [],
   "source": [
    "weights = Weights(mig=10.0, comig=5.0, seed_site=1.0, gen_dist=1.0, organotrop=100.0)\n",
    "run_evaluate(\"A7\", custom_colors, weights, \"A7_eval_gd_organo\")"
   ]
  },
  {
   "cell_type": "markdown",
   "id": "bce49254",
   "metadata": {},
   "source": [
    "### All patients in calibrate mode"
   ]
  },
  {
   "cell_type": "code",
   "execution_count": null,
   "id": "0625acac",
   "metadata": {
    "scrolled": true
   },
   "outputs": [],
   "source": [
    "PATIENT_IDS = [\"A1\", \"A7\"]\n",
    "\n",
    "mut_trees_fns = [os.path.join(HOADLEY_DATA_DIR, \"orchard_trees\",f\"{patient_id}.results.npz\") for patient_id in PATIENT_IDS]\n",
    "trees = [data[0] for data in get_adj_matrices_from_pairtree_results(mut_trees_fns)]\n",
    "ref_var_fns = [os.path.join(HOADLEY_DATA_DIR, \"pyclone_clustered_tsvs\", f\"{patient_id}_clustered_SNVs.tsv\") for patient_id in PATIENT_IDS]\n",
    "run_names = [f\"{pid}_calibrate\" for pid in PATIENT_IDS]\n",
    "Os = []\n",
    "for ref_var_fn in ref_var_fns:\n",
    "    _, _, _, unique_sites, _, _ = dutil.get_ref_var_omega_matrices(ref_var_fn)\n",
    "    O = get_organotropism_matrix_from_msk_met(unique_sites, \"Breast Cancer\", MSK_MET_FN, HOAD_MSK_MET_MAP)\n",
    "    print(O)\n",
    "    Os.append(O)\n",
    "    \n",
    "calibrate(trees, ref_var_fns, print_config, OUTPUT_DIR, run_names, Os=Os)"
   ]
  },
  {
   "cell_type": "code",
   "execution_count": null,
   "id": "7990b352",
   "metadata": {},
   "outputs": [],
   "source": [
    "import pandas as pd\n",
    "clonality_data = []\n",
    "label_map = {0:\"Absent\", 1:\"Subclonal\", 2:\"Clonal\"}\n",
    "num_subclones = clonality_matrix.shape[1]\n",
    "for i in range(num_subclones):\n",
    "    subclone_col = clonality_matrix[:,i]\n",
    "    clonality_data.append([i]+[label_map[k] for k in subclone_col])\n",
    "\n",
    "site_labels = [f\"{site.capitalize()} Primary\" if i == 0 else f\"{site.capitalize()} Metastasis\" for i, site in enumerate(unique_sites)]\n",
    "clonality_df = pd.DataFrame(clonality_data, columns=[\"Subclone\"]+site_labels)\n",
    "clonality_df\n"
   ]
  },
  {
   "cell_type": "code",
   "execution_count": null,
   "id": "e8786f14",
   "metadata": {},
   "outputs": [],
   "source": [
    "# we call mutations with CCF>0.5 as clonal mutations, mutations with CCF<=0.5 and CCF>0.1 are subclonal\n",
    "# breast vs. liver\n",
    "from matplotlib import pyplot as plt\n",
    "import seaborn as sns\n",
    "fig, axes = plt.subplots(2, 3, figsize=(15, 8), constrained_layout=True)\n",
    "y = \"Breast Primary\"\n",
    "\n",
    "c = 1\n",
    "for i in [0,1]:\n",
    "    for j in [0,1,2]:\n",
    "        if c == len(clonality_df.columns): break\n",
    "        x = clonality_df.columns[c]\n",
    "        print(x)\n",
    "\n",
    "        ax = sns.swarmplot(ax=axes[i,j], data=clonality_df, x=x, y=y, \n",
    "                           order=[\"Absent\", \"Subclonal\", \"Clonal\"], size=10, \n",
    "                           hue=\"Subclone\")\n",
    "        sns.despine(offset=0, trim=True)\n",
    "        ax.set_xlabel(x, fontsize=11)\n",
    "        ax.set_ylabel(y, fontsize=11)\n",
    "        ax.get_legend().remove()\n",
    "        # there is only one axes for this plot; provide an alias for ease of use\n",
    "#         ax.set_yticks([\"Absent\", \"Subclonal\", \"Clonal\"])\n",
    "        # get the ytick locations for each name\n",
    "        point_locs = []\n",
    "        for path in ax.collections:\n",
    "            point_locs.append(path.get_offsets())\n",
    "            #print(path.get_label())\n",
    "\n",
    "        point_locs = [list(item) for sublist in point_locs for item in sublist]\n",
    "        c += 1\n",
    "fig.suptitle(f\"Metastasizing Clones\", x=0.33, y=0.95, horizontalalignment='left', verticalalignment='top', fontsize=14, fontweight='bold')\n",
    "handles, labels = ax.get_legend_handles_labels()\n",
    "fig.legend(handles, labels, loc='lower center', ncol=num_subclones)\n",
    "    # for i, point_loc in enumerate(point_locs):\n",
    "    #     ax.text(point_loc[0], point_loc[1]+0.05, str(i))\n",
    "    # for i in range(num_subclones):\n",
    "plt.subplots_adjust(left=0.1, bottom=0.1, right=0.75)\n"
   ]
  },
  {
   "cell_type": "code",
   "execution_count": null,
   "id": "8876b33c",
   "metadata": {},
   "outputs": [],
   "source": [
    "U_clip = [[0.4769335091114044, 0.5134045481681824, 0.0, 0.0, 0.0, 0.0, 0.0, 0.0, 0.0, 0.0, 0.0], [0.3397281765937805, 0.0, 0.0, 0.0, 0.2556871175765991, 0.0, 0.0, 0.0, 0.0, 0.0, 0.36632010340690613], [0.5697565078735352, 0.0, 0.0, 0.0, 0.0, 0.0, 0.0, 0.0, 0.40199223160743713, 0.0, 0.0], [0.1478603333234787, 0.0, 0.0, 0.06622103601694107, 0.0, 0.400208055973053, 0.0, 0.0, 0.0, 0.3738396167755127, 0.0], [0.3028472065925598, 0.0, 0.0, 0.0, 0.0, 0.0, 0.0, 0.593723714351654, 0.0, 0.0, 0.0], [0.27643024921417236, 0.0, 0.0, 0.0, 0.0, 0.0, 0.7042533159255981, 0.0, 0.0, 0.0, 0.0]]\n",
    "sites = ['breast', 'brain', 'kidney', 'liver', 'lung', 'rib']\n",
    "prevalence_df = pd.DataFrame(U_clip, columns=[\"norm\"] + [str(i) for i in range(len(U_clip[0])-1)], index=sites)\n",
    "prevalence_df=prevalence_df.stack().reset_index().rename(columns={'level_0':'sample_id','level_1':'clone_id', 0:'clonal_prev'})\n",
    "prevalence_df\n"
   ]
  },
  {
   "cell_type": "code",
   "execution_count": null,
   "id": "5c6a431c",
   "metadata": {},
   "outputs": [],
   "source": [
    "edges= [(\"norm\", \"0\"), ('0', '1'), ('0', '3'), ('1', '2'), ('1', '5'), ('2', '4'), ('3', '6'), ('3', '9'), ('4', '7'), ('4', '8')]\n",
    "tree_df = pd.DataFrame(edges, columns=[\"source\", \"target\"])\n",
    "tree_df\n"
   ]
  },
  {
   "cell_type": "code",
   "execution_count": null,
   "id": "6cc49bd5",
   "metadata": {},
   "outputs": [],
   "source": [
    "x_coords = [205, 293, 440, 244, 405, 290]\n",
    "y_coords = [660, 126, 835, 806, 624, 450]\n",
    "sample_locs = pd.DataFrame([sites, sites, x_coords, y_coords]).T\n",
    "sample_locs.columns = [\"sample_id\", \"location_id\", \"x\", \"y\"]\n",
    "sample_locs"
   ]
  },
  {
   "cell_type": "code",
   "execution_count": null,
   "id": "6f4d2062",
   "metadata": {},
   "outputs": [],
   "source": [
    "sample_locs.to_csv(os.path.join(HOADLEY_DATA_DIR, \"A7\", \"sample_locs.csv\"), index=False)\n",
    "tree_df.to_csv(os.path.join(HOADLEY_DATA_DIR, \"A7\",\"tree_df.csv\"), index=False)\n",
    "prevalence_df.to_csv(os.path.join(HOADLEY_DATA_DIR, \"A7\", \"prevalence_df.csv\"), index=False)"
   ]
  },
  {
   "cell_type": "code",
   "execution_count": null,
   "id": "ff17797e",
   "metadata": {},
   "outputs": [],
   "source": [
    "HOADLEY_DATA_DIR"
   ]
  },
  {
   "cell_type": "code",
   "execution_count": null,
   "id": "56760da2",
   "metadata": {},
   "outputs": [],
   "source": [
    "%load_ext rpy2.ipython"
   ]
  },
  {
   "cell_type": "code",
   "execution_count": null,
   "id": "91c41d0c",
   "metadata": {},
   "outputs": [],
   "source": [
    "%%R -i prevalence_df\n",
    "library(mapscape)\n",
    "hoadley_dir<-\"/Users/divyakoyyalagunta/Desktop/Cornell_Research/Morris_Lab/met_history_prediction/src/data/hoadley_breast_cancer_2016/A7/\"\n",
    "# clonal prevalences\n",
    "clonal_prev <- read.csv(file.path(hoadley_dir, \"prevalence_df.csv\"))\n",
    "print(clonal_prev)\n",
    "# locations of each tumour sample on user-provided image\n",
    "sample_locations <- read.csv(file.path(hoadley_dir, \"sample_locs.csv\"))\n",
    "# genotype tree edges\n",
    "tree_edges <- read.csv(file.path(hoadley_dir, \"tree_df.csv\"))\n",
    "# image reference\n",
    "img_ref <- file.path(hoadley_dir, \"anatomical_sites.png\")\n",
    "# radial order of samples\n",
    "sample_ids <- c('breast', 'brain', 'kidney', 'liver', 'lung', 'rib')\n",
    "# run mapscape\n",
    "mapscape(clonal_prev = clonal_prev, tree_edges = tree_edges, sample_locations = sample_locations, \n",
    "img_ref = img_ref,show_warnings=TRUE)\n",
    "\n",
    "# library(mapscape)\n",
    "# hoadley_dir <- \"/Users/divyakoyyalagunta/Desktop/Cornell_Research/Morris_Lab/met_history_prediction/src/data/hoadley_breast_cancer_2016/A7\"\n",
    "# mapscape(clonal_prev = prevalence_df, tree_edges=tree_df, sample_locations=sample_locs, img_ref=file.path(hoadley_dir, \"anatomical_sites.png\"))\n"
   ]
  },
  {
   "cell_type": "code",
   "execution_count": null,
   "id": "95a60589",
   "metadata": {},
   "outputs": [],
   "source": [
    "%%R -i prevalence_df\n",
    "library(mapscape)\n"
   ]
  },
  {
   "cell_type": "code",
   "execution_count": null,
   "id": "80ea89bf",
   "metadata": {},
   "outputs": [],
   "source": []
  }
 ],
 "metadata": {
  "kernelspec": {
   "display_name": "Python [conda env:mambaforge-met]",
   "language": "python",
   "name": "conda-env-mambaforge-met-py"
  },
  "language_info": {
   "codemirror_mode": {
    "name": "ipython",
    "version": 3
   },
   "file_extension": ".py",
   "mimetype": "text/x-python",
   "name": "python",
   "nbconvert_exporter": "python",
   "pygments_lexer": "ipython3",
   "version": "3.8.0"
  }
 },
 "nbformat": 4,
 "nbformat_minor": 5
}
