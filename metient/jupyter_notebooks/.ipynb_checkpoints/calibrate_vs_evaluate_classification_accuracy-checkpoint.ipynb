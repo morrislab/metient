{
 "cells": [
  {
   "cell_type": "code",
   "execution_count": 19,
   "id": "4416ff5f",
   "metadata": {},
   "outputs": [
    {
     "name": "stdout",
     "output_type": "stream",
     "text": [
      "/lila/data/morrisq/divyak/projects/metient/metient/jupyter_notebooks/../\n",
      "/lila/data/morrisq/divyak/projects/metient/metient/jupyter_notebooks/../test/machina_simulated_data/predictions_bs1024_calibrate_wip_parseps1calandeval_12122023\n",
      "m5 mS\n",
      "# min loss trees: 1\n",
      "1\n",
      "# min loss trees: 1\n",
      "1\n",
      "# min loss trees: 1\n",
      "1\n",
      "# min loss trees: 1\n",
      "1\n",
      "# min loss trees: 2\n",
      "2\n",
      "# min loss trees: 1\n",
      "1\n",
      "# min loss trees: 1\n",
      "1\n",
      "# min loss trees: 1\n",
      "1\n",
      "# min loss trees: 1\n",
      "1\n",
      "# min loss trees: 1\n",
      "1\n",
      "m8 mS\n",
      "# min loss trees: 1\n",
      "1\n",
      "# min loss trees: 1\n",
      "1\n",
      "# min loss trees: 1\n",
      "1\n",
      "# min loss trees: 1\n",
      "1\n",
      "# min loss trees: 1\n",
      "1\n",
      "# min loss trees: 1\n",
      "1\n",
      "# min loss trees: 1\n",
      "1\n",
      "# min loss trees: 1\n",
      "1\n",
      "# min loss trees: 1\n",
      "1\n",
      "# min loss trees: 1\n",
      "1\n",
      "m5 M\n"
     ]
    },
    {
     "name": "stderr",
     "output_type": "stream",
     "text": [
      "\n",
      "KeyboardInterrupt\n",
      "\n"
     ]
    }
   ],
   "source": [
    "import fnmatch\n",
    "import pandas as pd\n",
    "import os\n",
    "import torch\n",
    "\n",
    "from metient.util import eval_util as eutil\n",
    "from metient.util.globals import *\n",
    "\n",
    "x = 0\n",
    "k = float(\"inf\")\n",
    "LOSS_THRES = 0.0\n",
    "SUFFIX='_evaluate'\n",
    "\n",
    "SITES = [\"m5\", \"m8\"]\n",
    "MIG_TYPES = [\"mS\", \"M\", \"S\", \"R\"]\n",
    "types_map = {\"mS\":\"single-source\", \"M\":\"multi-source\", \"S\":\"single-source\", \"R\":\"reseeding\"}\n",
    "\n",
    "DATE = \"12122023\"\n",
    "PARAMS = \"bs1024_calibrate_wip_parseps1calandeval\"\n",
    "REPO_DIR = os.path.join(os.getcwd(), \"../\")\n",
    "SIMS_DIR = os.path.join(REPO_DIR, \"data/machina_sims\")\n",
    "PREDICTION_DIR = os.path.join(REPO_DIR, \"test\", \"machina_simulated_data\", f'predictions_{PARAMS}_{DATE}')\n",
    "print(PREDICTION_DIR)\n",
    "\n",
    "gt_mig_type_to_topk_seeding_pattern = { gt:[] for gt in list(types_map.values()) }\n",
    "\n",
    "for mig_type in MIG_TYPES:\n",
    "    for site in SITES:\n",
    "        print(site, mig_type)\n",
    "        site_mig_type_dir = os.path.join(SIMS_DIR, site, mig_type)\n",
    "        seeds = fnmatch.filter(os.listdir(site_mig_type_dir), 'clustering_observed_seed*.txt')\n",
    "        seeds = [s.replace(\".txt\", \"\").replace(\"clustering_observed_seed\", \"\") for s in seeds]\n",
    "        for seed in seeds:\n",
    "            predicted_site_mig_type_data_dir = os.path.join(PREDICTION_DIR, site, mig_type)\n",
    "            tree_info = eutil.get_metient_min_loss_trees(predicted_site_mig_type_data_dir, seed, k, loss_thres=LOSS_THRES, suffix=SUFFIX)\n",
    "            for i, (loss, met_results_dict, met_tree_num) in enumerate(tree_info):\n",
    "                V = torch.tensor(met_results_dict[OUT_LABElING_KEY][met_tree_num])\n",
    "                A = torch.tensor(met_results_dict[OUT_ADJ_KEY][met_tree_num])\n",
    "                \n"
   ]
  },
  {
   "cell_type": "code",
   "execution_count": 3,
   "id": "940a4cb6",
   "metadata": {},
   "outputs": [
    {
     "data": {
      "text/plain": [
       "'/test/machina_simulated_data/predictions_calibrate_wip_gen0.2_parseps1calandeval_12122023'"
      ]
     },
     "execution_count": 3,
     "metadata": {},
     "output_type": "execute_result"
    }
   ],
   "source": [
    "PREDICTION_DIR"
   ]
  },
  {
   "cell_type": "markdown",
   "id": "f9351b93",
   "metadata": {},
   "source": [
    "### What is the confusion matrix for the top seeding pattern in calibrate vs evaluate?"
   ]
  },
  {
   "cell_type": "code",
   "execution_count": 1,
   "id": "593572c4",
   "metadata": {},
   "outputs": [],
   "source": [
    "def confusion_matrix(cm, title, output_name):\n",
    "    plt.figure(figsize=(5, 4))\n",
    "    sns.heatmap(cm, annot=True, fmt=\".0f\", cmap=\"Blues\", cbar=True,)\n",
    "    plt.xlabel(\"Predicted\")\n",
    "    plt.ylabel(\"True\")\n",
    "    plt.title(title)\n",
    "    plt.show()"
   ]
  },
  {
   "cell_type": "code",
   "execution_count": null,
   "id": "ecb2d53b",
   "metadata": {},
   "outputs": [],
   "source": [
    "import numpy as np\n",
    "patterns = [k for k in mig_type_to_top_pattern]\n",
    "print(patterns)\n",
    "cm = np.zeros((len(patterns), len(patterns)))\n",
    "for i,gt_pattern in enumerate(patterns):\n",
    "    print(\"ground truth:\", gt_pattern)\n",
    "    pred_df = pd.DataFrame(mig_type_to_topk_seeding_pattern_df[gt_pattern]['Overall Pattern'], columns=[\"Overall Pattern\"])\n",
    "    #pred_df = pd.DataFrame(mig_type_to_top_pattern[gt_pattern], columns=[\"Seeding pattern\"])\n",
    "    #pred_df['Overall Pattern'] = pred_df.apply(lambda row: get_overall_pattern(row), axis=1)\n",
    "    counts_df = pred_df['Overall Pattern'].value_counts()\n",
    "    print(counts_df)\n",
    "    for j,pred_pattern in enumerate(patterns):\n",
    "        cm[i,j] = counts_df[pred_pattern]\n",
    "confusion_matrix(cm, \"Calibrate mode: \\nGenetic Distance Classification\", f\"top_seeding_pattern_by_gd_eval_loss_{PARAMS}\")\n",
    "                 "
   ]
  }
 ],
 "metadata": {
  "kernelspec": {
   "display_name": "Python [conda env:met]",
   "language": "python",
   "name": "conda-env-met-py"
  },
  "language_info": {
   "codemirror_mode": {
    "name": "ipython",
    "version": 3
   },
   "file_extension": ".py",
   "mimetype": "text/x-python",
   "name": "python",
   "nbconvert_exporter": "python",
   "pygments_lexer": "ipython3",
   "version": "3.8.0"
  }
 },
 "nbformat": 4,
 "nbformat_minor": 5
}
