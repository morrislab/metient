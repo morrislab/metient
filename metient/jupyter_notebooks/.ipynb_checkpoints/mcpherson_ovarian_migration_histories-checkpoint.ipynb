{
 "cells": [
  {
   "cell_type": "markdown",
   "id": "11e20c57",
   "metadata": {},
   "source": [
    "### Test migration history reconstruction on ovarian cancer data"
   ]
  },
  {
   "cell_type": "code",
   "execution_count": 1,
   "id": "b811e900",
   "metadata": {},
   "outputs": [
    {
     "name": "stderr",
     "output_type": "stream",
     "text": [
      "/lila/home/koyyald/mambaforge/envs/met/lib/python3.8/site-packages/torch/cuda/__init__.py:138: UserWarning: CUDA initialization: The NVIDIA driver on your system is too old (found version 11070). Please update your GPU driver by downloading and installing a new version from the URL: http://www.nvidia.com/Download/index.aspx Alternatively, go to: https://pytorch.org to install a PyTorch version that has been compiled with your version of the CUDA driver. (Triggered internally at ../c10/cuda/CUDAFunctions.cpp:108.)\n",
      "  return torch._C._cuda_getDeviceCount() > 0\n"
     ]
    },
    {
     "name": "stdout",
     "output_type": "stream",
     "text": [
      "CUDA GPU: False\n"
     ]
    }
   ],
   "source": [
    "import sys\n",
    "import os\n",
    "from metient.util.globals import *\n",
    "from metient.metient import *\n",
    "import matplotlib\n",
    "\n",
    "matplotlib.rcParams['figure.figsize'] = [3, 3]\n",
    "repo_dir = os.path.join(os.getcwd(), \"../\")\n",
    "MSK_MET_FN = os.path.join(repo_dir, 'data/msk_met/msk_met_freq_by_cancer_type.csv')\n",
    "      \n",
    "MCPHERSON_DATA_DIR = os.path.join(repo_dir, 'data', 'mcpherson_ovarian_2016')               \n",
    "\n",
    "OUTPUT_DIR = os.path.join(MCPHERSON_DATA_DIR, \"metient_outputs\", \"solve_polys\")\n",
    "if not os.path.exists(OUTPUT_DIR):\n",
    "    os.makedirs(OUTPUT_DIR)\n",
    "    \n",
    "PATIENT_IDS = [1,2,3,4,7,9,10]\n",
    "PATIENT_IDS = [1]\n",
    "\n",
    "print_config = PrintConfig(visualize=True, k_best_trees=20)\n"
   ]
  },
  {
   "cell_type": "markdown",
   "id": "3bf72cdb",
   "metadata": {},
   "source": [
    "### Run all patients in calibrate mode"
   ]
  },
  {
   "cell_type": "code",
   "execution_count": 5,
   "id": "feca048f",
   "metadata": {
    "scrolled": false
   },
   "outputs": [
    {
     "ename": "TypeError",
     "evalue": "calibrate_label_clone_tree() got an unexpected keyword argument 'max_iter'",
     "output_type": "error",
     "traceback": [
      "\u001b[0;31m---------------------------------------------------------------------------\u001b[0m",
      "\u001b[0;31mTypeError\u001b[0m                                 Traceback (most recent call last)",
      "Cell \u001b[0;32mIn[5], line 4\u001b[0m\n\u001b[1;32m      2\u001b[0m ref_var_fns \u001b[38;5;241m=\u001b[39m [os\u001b[38;5;241m.\u001b[39mpath\u001b[38;5;241m.\u001b[39mjoin(MCPHERSON_DATA_DIR, \u001b[38;5;124mf\u001b[39m\u001b[38;5;124m\"\u001b[39m\u001b[38;5;124mpatient\u001b[39m\u001b[38;5;132;01m{\u001b[39;00mpatient_id\u001b[38;5;132;01m}\u001b[39;00m\u001b[38;5;124m_SNVs.tsv\u001b[39m\u001b[38;5;124m\"\u001b[39m) \u001b[38;5;28;01mfor\u001b[39;00m patient_id \u001b[38;5;129;01min\u001b[39;00m PATIENT_IDS]\n\u001b[1;32m      3\u001b[0m run_names \u001b[38;5;241m=\u001b[39m [\u001b[38;5;124mf\u001b[39m\u001b[38;5;124m\"\u001b[39m\u001b[38;5;132;01m{\u001b[39;00mpid\u001b[38;5;132;01m}\u001b[39;00m\u001b[38;5;124m_calibrate\u001b[39m\u001b[38;5;124m\"\u001b[39m \u001b[38;5;28;01mfor\u001b[39;00m pid \u001b[38;5;129;01min\u001b[39;00m PATIENT_IDS]\n\u001b[0;32m----> 4\u001b[0m \u001b[43mcalibrate_label_clone_tree\u001b[49m\u001b[43m(\u001b[49m\u001b[43mmut_trees_fns\u001b[49m\u001b[43m,\u001b[49m\u001b[43m \u001b[49m\u001b[43mref_var_fns\u001b[49m\u001b[43m,\u001b[49m\u001b[43m \u001b[49m\u001b[43mprint_config\u001b[49m\u001b[43m,\u001b[49m\u001b[43m \u001b[49m\u001b[43mOUTPUT_DIR\u001b[49m\u001b[43m,\u001b[49m\u001b[43m \u001b[49m\u001b[43mrun_names\u001b[49m\u001b[43m,\u001b[49m\u001b[43mmax_iter\u001b[49m\u001b[38;5;241;43m=\u001b[39;49m\u001b[38;5;241;43m500\u001b[39;49m\u001b[43m,\u001b[49m\n\u001b[1;32m      5\u001b[0m \u001b[43m                           \u001b[49m\u001b[43mbatch_size\u001b[49m\u001b[38;5;241;43m=\u001b[39;49m\u001b[38;5;241;43m1024\u001b[39;49m\u001b[43m,\u001b[49m\u001b[43mbias_weights\u001b[49m\u001b[38;5;241;43m=\u001b[39;49m\u001b[38;5;28;43;01mFalse\u001b[39;49;00m\u001b[43m,\u001b[49m\u001b[43m \u001b[49m\u001b[43msolve_polytomies\u001b[49m\u001b[38;5;241;43m=\u001b[39;49m\u001b[38;5;28;43;01mFalse\u001b[39;49;00m\u001b[43m)\u001b[49m\n",
      "\u001b[0;31mTypeError\u001b[0m: calibrate_label_clone_tree() got an unexpected keyword argument 'max_iter'"
     ]
    }
   ],
   "source": [
    "mut_trees_fns = [os.path.join(MCPHERSON_DATA_DIR, f\"patient{patient_id}_tree.txt\") for patient_id in PATIENT_IDS]\n",
    "ref_var_fns = [os.path.join(MCPHERSON_DATA_DIR, f\"patient{patient_id}_SNVs.tsv\") for patient_id in PATIENT_IDS]\n",
    "run_names = [f\"{pid}_calibrate\" for pid in PATIENT_IDS]\n",
    "calibrate_label_clone_tree(mut_trees_fns, ref_var_fns, print_config, OUTPUT_DIR, run_names,\n",
    "                           batch_size=1024,bias_weights=False, solve_polytomies=False)\n"
   ]
  },
  {
   "cell_type": "markdown",
   "id": "a77737f8",
   "metadata": {},
   "source": [
    "### Run all patients in evaluate mode"
   ]
  },
  {
   "cell_type": "code",
   "execution_count": 1,
   "id": "3ce52377",
   "metadata": {},
   "outputs": [
    {
     "name": "stdout",
     "output_type": "stream",
     "text": [
      "CUDA GPU: False\n"
     ]
    },
    {
     "name": "stderr",
     "output_type": "stream",
     "text": [
      "/lila/home/koyyald/mambaforge/envs/met/lib/python3.8/site-packages/torch/cuda/__init__.py:138: UserWarning: CUDA initialization: The NVIDIA driver on your system is too old (found version 11070). Please update your GPU driver by downloading and installing a new version from the URL: http://www.nvidia.com/Download/index.aspx Alternatively, go to: https://pytorch.org to install a PyTorch version that has been compiled with your version of the CUDA driver. (Triggered internally at ../c10/cuda/CUDAFunctions.cpp:108.)\n",
      "  return torch._C._cuda_getDeviceCount() > 0\n"
     ]
    }
   ],
   "source": [
    "from metient.util import data_extraction_util as dutil\n",
    "\n",
    "def run_evaluate(mut_trees_fn, ref_var_fn, weights, run_name):    \n",
    "    _, _, _, unique_sites, _, _ = dutil.get_ref_var_omega_matrices(ref_var_fn)\n",
    "    trees = get_adj_matrices_from_pairtree_results(mut_trees_fn)\n",
    "    print(\"num trees:\", len(trees))\n",
    "    print(unique_sites)\n",
    "   \n",
    "    tree_num = 1\n",
    "    for adj_matrix in trees[:1]:\n",
    "        print(f\"\\nTREE {tree_num}\")\n",
    "        print(adj_matrix.shape)\n",
    "\n",
    "        evaluate(adj_matrix, ref_var_fn, weights, print_config, OUTPUT_DIR, f\"{run_name}_tree{tree_num}\",\n",
    "                 O=None, bias_weights=True, custom_colors=custom_colors, solve_polytomies=False)\n",
    "        tree_num += 1\n"
   ]
  },
  {
   "cell_type": "code",
   "execution_count": 2,
   "id": "84734a6f",
   "metadata": {
    "scrolled": true
   },
   "outputs": [
    {
     "ename": "NameError",
     "evalue": "name 'PATIENT_IDS' is not defined",
     "output_type": "error",
     "traceback": [
      "\u001b[0;31m---------------------------------------------------------------------------\u001b[0m",
      "\u001b[0;31mNameError\u001b[0m                                 Traceback (most recent call last)",
      "Cell \u001b[0;32mIn[2], line 1\u001b[0m\n\u001b[0;32m----> 1\u001b[0m \u001b[38;5;28;01mfor\u001b[39;00m patient_id \u001b[38;5;129;01min\u001b[39;00m \u001b[43mPATIENT_IDS\u001b[49m:\n\u001b[1;32m      2\u001b[0m     mut_trees_fn \u001b[38;5;241m=\u001b[39m os\u001b[38;5;241m.\u001b[39mpath\u001b[38;5;241m.\u001b[39mjoin(TREE_DIR, \u001b[38;5;124mf\u001b[39m\u001b[38;5;124m\"\u001b[39m\u001b[38;5;124mpatient\u001b[39m\u001b[38;5;132;01m{\u001b[39;00mpatient_id\u001b[38;5;132;01m}\u001b[39;00m\u001b[38;5;124m.results.npz\u001b[39m\u001b[38;5;124m\"\u001b[39m)\n\u001b[1;32m      3\u001b[0m     ref_var_fn \u001b[38;5;241m=\u001b[39m os\u001b[38;5;241m.\u001b[39mpath\u001b[38;5;241m.\u001b[39mjoin(TSV_DIR, \u001b[38;5;124mf\u001b[39m\u001b[38;5;124m\"\u001b[39m\u001b[38;5;124mpatient\u001b[39m\u001b[38;5;132;01m{\u001b[39;00mpatient_id\u001b[38;5;132;01m}\u001b[39;00m\u001b[38;5;124m_clustered_SNVs.tsv\u001b[39m\u001b[38;5;124m\"\u001b[39m)\n",
      "\u001b[0;31mNameError\u001b[0m: name 'PATIENT_IDS' is not defined"
     ]
    }
   ],
   "source": [
    "for patient_id in PATIENT_IDS:\n",
    "    mut_trees_fn = os.path.join(TREE_DIR, f\"patient{patient_id}.results.npz\")\n",
    "    ref_var_fn = os.path.join(TSV_DIR, f\"patient{patient_id}_clustered_SNVs.tsv\")\n",
    "    weights = Weights(mig=10.0, comig=5.0, seed_site=1.0, gen_dist=0.0, organotrop=0.0)\n",
    "    \n",
    "    run_evaluate(mut_trees_fn, ref_var_fn, weights, f\"patient{patient_id}_evaluate\")\n"
   ]
  },
  {
   "cell_type": "code",
   "execution_count": null,
   "id": "398b9a45",
   "metadata": {},
   "outputs": [],
   "source": []
  },
  {
   "cell_type": "code",
   "execution_count": null,
   "id": "7f134de3",
   "metadata": {},
   "outputs": [],
   "source": []
  }
 ],
 "metadata": {
  "kernelspec": {
   "display_name": "Python [conda env:met]",
   "language": "python",
   "name": "conda-env-met-py"
  },
  "language_info": {
   "codemirror_mode": {
    "name": "ipython",
    "version": 3
   },
   "file_extension": ".py",
   "mimetype": "text/x-python",
   "name": "python",
   "nbconvert_exporter": "python",
   "pygments_lexer": "ipython3",
   "version": "3.8.0"
  }
 },
 "nbformat": 4,
 "nbformat_minor": 5
}
