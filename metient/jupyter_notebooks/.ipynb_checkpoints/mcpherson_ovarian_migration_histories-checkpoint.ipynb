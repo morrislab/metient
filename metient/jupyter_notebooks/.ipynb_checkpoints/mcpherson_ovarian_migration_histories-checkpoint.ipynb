{
 "cells": [
  {
   "cell_type": "markdown",
   "id": "11e20c57",
   "metadata": {},
   "source": [
    "### Test migration history reconstruction on ovarian cancer data"
   ]
  },
  {
   "cell_type": "code",
   "execution_count": 1,
   "id": "b811e900",
   "metadata": {},
   "outputs": [
    {
     "name": "stdout",
     "output_type": "stream",
     "text": [
      "CUDA GPU: False\n"
     ]
    }
   ],
   "source": [
    "import sys\n",
    "import os\n",
    "from metient.util.globals import *\n",
    "from metient.metient import *\n",
    "import matplotlib\n",
    "\n",
    "matplotlib.rcParams['figure.figsize'] = [3, 3]\n",
    "custom_colors = [\"#6aa84f\",\"#c27ba0\", \"#be5742e1\", \"#6fa8dc\", \"#e69138\", \"#9e9e9e\"]\n",
    "\n",
    "repo_dir = os.path.join(os.getcwd(), \"../\")\n",
    "MSK_MET_FN = os.path.join(repo_dir, 'data/msk_met/msk_met_freq_by_cancer_type.csv')\n",
    "      \n",
    "MCPHERSON_DATA_DIR = os.path.join(repo_dir, 'data', 'mcpherson_ovarian_2016')\n",
    "TREE_DIR = os.path.join(MCPHERSON_DATA_DIR, 'orchard_trees')    \n",
    "TSV_DIR = os.path.join(MCPHERSON_DATA_DIR, 'pyclone_clustered_tsvs')                 \n",
    "\n",
    "OUTPUT_DIR = os.path.join(MCPHERSON_DATA_DIR, \"metient_outputs\")\n",
    "\n",
    "PATIENT_IDS = [1,2,3,4,7,9]\n",
    "print_config = PrintConfig(visualize=True, k_best_trees=6)\n"
   ]
  },
  {
   "cell_type": "code",
   "execution_count": 2,
   "id": "3ce52377",
   "metadata": {},
   "outputs": [],
   "source": [
    "from metient.util import data_extraction_util as dutil\n",
    "\n",
    "def run_evaluate(mut_trees_fn, ref_var_fn, weights, run_name):    \n",
    "    _, _, _, unique_sites, _, _ = dutil.get_ref_var_omega_matrices(ref_var_fn)\n",
    "    trees = get_adj_matrices_from_pairtree_results(mut_trees_fn)\n",
    "    print(\"num trees:\", len(trees))\n",
    "    print(unique_sites)\n",
    "   \n",
    "    tree_num = 1\n",
    "    for adj_matrix in trees[:1]:\n",
    "        print(f\"\\nTREE {tree_num}\")\n",
    "        print(adj_matrix.shape)\n",
    "\n",
    "        evaluate(adj_matrix, ref_var_fn, weights, print_config, OUTPUT_DIR, f\"{run_name}_tree{tree_num}\",\n",
    "                 O=None, batch_size=4096, bias_weights=True,\n",
    "                 custom_colors=custom_colors, solve_polytomies=False)\n",
    "        tree_num += 1\n"
   ]
  },
  {
   "cell_type": "markdown",
   "id": "a77737f8",
   "metadata": {},
   "source": [
    "### Run all patients in evaluate mode"
   ]
  },
  {
   "cell_type": "code",
   "execution_count": 3,
   "id": "84734a6f",
   "metadata": {
    "scrolled": true
   },
   "outputs": [
    {
     "name": "stdout",
     "output_type": "stream",
     "text": [
      "num trees: 48\n",
      "['omentum_site', 'right_ovary_site', 'small_bowel_site']\n",
      "\n",
      "TREE 1\n",
      "torch.Size([30, 30])\n"
     ]
    },
    {
     "ename": "TypeError",
     "evalue": "evaluate() got an unexpected keyword argument 'weight_init_primary'",
     "output_type": "error",
     "traceback": [
      "\u001b[0;31m---------------------------------------------------------------------------\u001b[0m",
      "\u001b[0;31mTypeError\u001b[0m                                 Traceback (most recent call last)",
      "Cell \u001b[0;32mIn[3], line 6\u001b[0m\n\u001b[1;32m      3\u001b[0m ref_var_fn \u001b[38;5;241m=\u001b[39m os\u001b[38;5;241m.\u001b[39mpath\u001b[38;5;241m.\u001b[39mjoin(TSV_DIR, \u001b[38;5;124mf\u001b[39m\u001b[38;5;124m\"\u001b[39m\u001b[38;5;124mpatient\u001b[39m\u001b[38;5;132;01m{\u001b[39;00mpatient_id\u001b[38;5;132;01m}\u001b[39;00m\u001b[38;5;124m_clustered_SNVs.tsv\u001b[39m\u001b[38;5;124m\"\u001b[39m)\n\u001b[1;32m      4\u001b[0m weights \u001b[38;5;241m=\u001b[39m Weights(mig\u001b[38;5;241m=\u001b[39m\u001b[38;5;241m10.0\u001b[39m, comig\u001b[38;5;241m=\u001b[39m\u001b[38;5;241m5.0\u001b[39m, seed_site\u001b[38;5;241m=\u001b[39m\u001b[38;5;241m1.0\u001b[39m, gen_dist\u001b[38;5;241m=\u001b[39m\u001b[38;5;241m0.0\u001b[39m, organotrop\u001b[38;5;241m=\u001b[39m\u001b[38;5;241m0.0\u001b[39m)\n\u001b[0;32m----> 6\u001b[0m \u001b[43mrun_evaluate\u001b[49m\u001b[43m(\u001b[49m\u001b[43mmut_trees_fn\u001b[49m\u001b[43m,\u001b[49m\u001b[43m \u001b[49m\u001b[43mref_var_fn\u001b[49m\u001b[43m,\u001b[49m\u001b[43m \u001b[49m\u001b[43mweights\u001b[49m\u001b[43m,\u001b[49m\u001b[43m \u001b[49m\u001b[38;5;124;43mf\u001b[39;49m\u001b[38;5;124;43m\"\u001b[39;49m\u001b[38;5;124;43mpatient\u001b[39;49m\u001b[38;5;132;43;01m{\u001b[39;49;00m\u001b[43mpatient_id\u001b[49m\u001b[38;5;132;43;01m}\u001b[39;49;00m\u001b[38;5;124;43m_evaluate\u001b[39;49m\u001b[38;5;124;43m\"\u001b[39;49m\u001b[43m)\u001b[49m\n",
      "Cell \u001b[0;32mIn[2], line 14\u001b[0m, in \u001b[0;36mrun_evaluate\u001b[0;34m(mut_trees_fn, ref_var_fn, weights, run_name)\u001b[0m\n\u001b[1;32m     11\u001b[0m \u001b[38;5;28mprint\u001b[39m(\u001b[38;5;124mf\u001b[39m\u001b[38;5;124m\"\u001b[39m\u001b[38;5;130;01m\\n\u001b[39;00m\u001b[38;5;124mTREE \u001b[39m\u001b[38;5;132;01m{\u001b[39;00mtree_num\u001b[38;5;132;01m}\u001b[39;00m\u001b[38;5;124m\"\u001b[39m)\n\u001b[1;32m     12\u001b[0m \u001b[38;5;28mprint\u001b[39m(adj_matrix\u001b[38;5;241m.\u001b[39mshape)\n\u001b[0;32m---> 14\u001b[0m \u001b[43mevaluate\u001b[49m\u001b[43m(\u001b[49m\u001b[43madj_matrix\u001b[49m\u001b[43m,\u001b[49m\u001b[43m \u001b[49m\u001b[43mref_var_fn\u001b[49m\u001b[43m,\u001b[49m\u001b[43m \u001b[49m\u001b[43mweights\u001b[49m\u001b[43m,\u001b[49m\u001b[43m \u001b[49m\u001b[43mprint_config\u001b[49m\u001b[43m,\u001b[49m\u001b[43m \u001b[49m\u001b[43mOUTPUT_DIR\u001b[49m\u001b[43m,\u001b[49m\u001b[43m \u001b[49m\u001b[38;5;124;43mf\u001b[39;49m\u001b[38;5;124;43m\"\u001b[39;49m\u001b[38;5;132;43;01m{\u001b[39;49;00m\u001b[43mrun_name\u001b[49m\u001b[38;5;132;43;01m}\u001b[39;49;00m\u001b[38;5;124;43m_tree\u001b[39;49m\u001b[38;5;132;43;01m{\u001b[39;49;00m\u001b[43mtree_num\u001b[49m\u001b[38;5;132;43;01m}\u001b[39;49;00m\u001b[38;5;124;43m\"\u001b[39;49m\u001b[43m,\u001b[49m\n\u001b[1;32m     15\u001b[0m \u001b[43m         \u001b[49m\u001b[43mO\u001b[49m\u001b[38;5;241;43m=\u001b[39;49m\u001b[38;5;28;43;01mNone\u001b[39;49;00m\u001b[43m,\u001b[49m\u001b[43m \u001b[49m\u001b[43mbatch_size\u001b[49m\u001b[38;5;241;43m=\u001b[39;49m\u001b[38;5;241;43m4096\u001b[39;49m\u001b[43m,\u001b[49m\u001b[43m \u001b[49m\u001b[43mweight_init_primary\u001b[49m\u001b[38;5;241;43m=\u001b[39;49m\u001b[38;5;28;43;01mTrue\u001b[39;49;00m\u001b[43m,\u001b[49m\n\u001b[1;32m     16\u001b[0m \u001b[43m         \u001b[49m\u001b[43mcustom_colors\u001b[49m\u001b[38;5;241;43m=\u001b[39;49m\u001b[43mcustom_colors\u001b[49m\u001b[43m,\u001b[49m\u001b[43m \u001b[49m\u001b[43msolve_polytomies\u001b[49m\u001b[38;5;241;43m=\u001b[39;49m\u001b[38;5;28;43;01mFalse\u001b[39;49;00m\u001b[43m)\u001b[49m\n\u001b[1;32m     17\u001b[0m tree_num \u001b[38;5;241m+\u001b[39m\u001b[38;5;241m=\u001b[39m \u001b[38;5;241m1\u001b[39m\n",
      "\u001b[0;31mTypeError\u001b[0m: evaluate() got an unexpected keyword argument 'weight_init_primary'"
     ]
    }
   ],
   "source": [
    "for patient_id in PATIENT_IDS:\n",
    "    mut_trees_fn = os.path.join(TREE_DIR, f\"patient{patient_id}.results.npz\")\n",
    "    ref_var_fn = os.path.join(TSV_DIR, f\"patient{patient_id}_clustered_SNVs.tsv\")\n",
    "    weights = Weights(mig=10.0, comig=5.0, seed_site=1.0, gen_dist=0.0, organotrop=0.0)\n",
    "    \n",
    "    run_evaluate(mut_trees_fn, ref_var_fn, weights, f\"patient{patient_id}_evaluate\")\n"
   ]
  },
  {
   "cell_type": "markdown",
   "id": "3bf72cdb",
   "metadata": {},
   "source": [
    "### Run all patients in calibrate mode"
   ]
  },
  {
   "cell_type": "code",
   "execution_count": null,
   "id": "feca048f",
   "metadata": {
    "scrolled": true
   },
   "outputs": [],
   "source": [
    "mut_trees_fns = [os.path.join(TREE_DIR, f\"patient{patient_id}.results.npz\") for patient_id in PATIENT_IDS]\n",
    "trees = [data[0] for data in get_adj_matrices_from_pairtree_results(mut_trees_fns)]\n",
    "ref_var_fns = [os.path.join(TSV_DIR, f\"patient{patient_id}_clustered_SNVs.tsv\") for patient_id in PATIENT_IDS]\n",
    "run_names = [f\"{pid}_calibrate\" for pid in PATIENT_IDS]\n",
    "calibrate(trees, ref_var_fns, print_config, OUTPUT_DIR, run_names, bias_weights=True, custom_colors=custom_colors, solve_polytomies=False)"
   ]
  }
 ],
 "metadata": {
  "kernelspec": {
   "display_name": "Python [conda env:met]",
   "language": "python",
   "name": "conda-env-met-py"
  },
  "language_info": {
   "codemirror_mode": {
    "name": "ipython",
    "version": 3
   },
   "file_extension": ".py",
   "mimetype": "text/x-python",
   "name": "python",
   "nbconvert_exporter": "python",
   "pygments_lexer": "ipython3",
   "version": "3.8.0"
  }
 },
 "nbformat": 4,
 "nbformat_minor": 5
}
