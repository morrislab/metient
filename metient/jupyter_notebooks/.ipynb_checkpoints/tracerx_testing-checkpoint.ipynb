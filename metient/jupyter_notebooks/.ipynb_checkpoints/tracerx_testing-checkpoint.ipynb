{
 "cells": [
  {
   "cell_type": "code",
   "execution_count": 11,
   "id": "ddf8601a",
   "metadata": {},
   "outputs": [],
   "source": [
    "import sys\n",
    "import os\n",
    "from metient.metient import *\n",
    "from metient.util import data_extraction_util as dutil\n",
    "\n",
    "REPO_DIR = os.path.join(os.getcwd(), \"../../\")\n",
    "TRACERX_DATA_DIR = os.path.join(REPO_DIR, 'metient/data/tracerx_nsclc/')\n",
    "PYCLONE_CLUSTERED_TSVS_DIR = os.path.join(TRACERX_DATA_DIR, 'patient_data', 'conipher_pyclone_clustered') #_w_anat_site_labels\n",
    "CONIPHER_TREES_DIR = os.path.join(TRACERX_DATA_DIR, 'conipher_outputs', 'TreeBuilding')\n",
    "OUTPUT_DIR = os.path.join(TRACERX_DATA_DIR, \"metient_outputs\", \"test\")\n",
    "\n",
    "def run_conipher_patient(patient, weights):\n",
    "    space = \"x\"*44\n",
    "    tsv_fn = os.path.join(PYCLONE_CLUSTERED_TSVS_DIR, f\"{patient}_SNVs.tsv\") #_with_anatomical_sites\n",
    "    print(f\"{space} PATIENT {patient} {space}\")\n",
    "    tree_fn = os.path.join(CONIPHER_TREES_DIR, f\"{patient}_conipher_SNVsallTrees_cleaned.txt\")\n",
    "    trees = dutil.get_adj_matrices_from_all_conipher_trees(tree_fn)\n",
    "    print_config = PrintConfig(visualize=True, verbose=False, k_best_trees=30)\n",
    "    evaluate(trees[0], tsv_fn, weights, print_config, OUTPUT_DIR, patient, O=None,\n",
    "             batch_size=1024, bias_weights=True, solve_polytomies=True)"
   ]
  },
  {
   "cell_type": "code",
   "execution_count": null,
   "id": "09f74247",
   "metadata": {
    "scrolled": false
   },
   "outputs": [
    {
     "name": "stdout",
     "output_type": "stream",
     "text": [
      "xxxxxxxxxxxxxxxxxxxxxxxxxxxxxxxxxxxxxxxxxxxx PATIENT CRUK0010 xxxxxxxxxxxxxxxxxxxxxxxxxxxxxxxxxxxxxxxxxxxx\n",
      "ordered_sites ['metachronousMet_BR_LN1', 'metachronousMet_BR_LN2', 'metachronousMet_BR_LN3', 'LN_SU_FLN1', 'primary_SU_T1']\n"
     ]
    },
    {
     "name": "stderr",
     "output_type": "stream",
     "text": [
      "/lila/data/morrisq/divyak/projects/metient/metient/util/vertex_labeling_util.py:608: UserWarning: To copy construct from a tensor, it is recommended to use sourceTensor.clone().detach() or sourceTensor.clone().detach().requires_grad_(True), rather than torch.tensor(sourceTensor).\n",
      "  return torch.tensor(get_path_matrix(A.T, remove_self_loops=False), dtype = torch.float32)\n",
      "  0%|          | 0/100 [00:00<?, ?it/s]/lila/data/morrisq/divyak/projects/metient/metient/util/vertex_labeling_util.py:599: UserWarning: To copy construct from a tensor, it is recommended to use sourceTensor.clone().detach() or sourceTensor.clone().detach().requires_grad_(True), rather than torch.tensor(sourceTensor).\n",
      "  return torch.tensor(get_path_matrix(A, remove_self_loops=remove_self_loops), dtype = torch.float32)\n",
      "  2%|▏         | 2/100 [00:00<00:06, 15.76it/s]"
     ]
    },
    {
     "name": "stdout",
     "output_type": "stream",
     "text": [
      "idx_to_sites_present {0: [0, 1, 3, 4], 1: [4], 2: [4], 3: [4], 4: [0], 5: [4], 6: [3], 7: [4], 8: [0, 1, 3], 9: [2], 10: [1], 11: [4], 12: [2], 13: [2]}\n",
      "leaf_labels [0, 1, 3, 4, 4, 4, 4, 0, 4, 3, 4, 0, 1, 3, 2, 1, 4, 2, 2]\n",
      "T torch.Size([38, 38])\n"
     ]
    },
    {
     "name": "stderr",
     "output_type": "stream",
     "text": [
      "100%|██████████| 100/100 [00:05<00:00, 17.81it/s]\n"
     ]
    },
    {
     "data": {
      "image/png": "[encoded data removed]",
      "text/plain": [
       "<Figure size 100x100 with 1 Axes>"
      ]
     },
     "metadata": {},
     "output_type": "display_data"
    },
    {
     "data": {
      "image/png": "[encoded data removed]",
      "text/plain": [
       "<Figure size 100x100 with 1 Axes>"
      ]
     },
     "metadata": {},
     "output_type": "display_data"
    },
    {
     "name": "stdout",
     "output_type": "stream",
     "text": [
      "tensor([61.,  5.,  6.]) [2, 5, 7, 24, 27, 29]\n",
      "tensor([541.,  13.,   6.]) [9, 12, 13, 33, 36, 37]\n",
      "tensor([64., 15.,  6.]) [1, 11, 15, 23, 25, 35]\n",
      "tensor([437.,  17.,   4.]) [10, 17, 31, 34]\n",
      "tensor([263.,  16.,   4.]) [4, 16, 26, 30]\n",
      "tensor([695.,  18.,   4.]) [6, 18, 28, 32]\n",
      "tensor([576.,  14.,   2.]) [14, 22]\n"
     ]
    },
    {
     "name": "stderr",
     "output_type": "stream",
     "text": [
      "  3%|▎         | 3/100 [00:00<00:03, 29.31it/s]"
     ]
    },
    {
     "name": "stdout",
     "output_type": "stream",
     "text": [
      "poly_res.children_of_polys [3, 19, 20, 21, 22, 1, 8, 25, 4, 5, 6, 10, 13, 30, 31, 32]\n",
      "poly_res.resolver_indices [14, 15, 16, 17, 18]\n",
      "poly_res.resolver_index_to_parent_idx {14: 0, 15: 3, 16: 8, 17: 8, 18: 8}\n",
      "poly_resolver_to_optimal_children {17: {10, 5, 31}, 16: {4, 13, 30}, 15: {1, 25}, 18: {32, 6}, 14: {22}}\n"
     ]
    },
    {
     "name": "stderr",
     "output_type": "stream",
     "text": [
      "100%|██████████| 100/100 [00:05<00:00, 17.36it/s]\n"
     ]
    },
    {
     "data": {
      "image/png": "[encoded data removed]",
      "text/plain": [
       "<Figure size 100x100 with 1 Axes>"
      ]
     },
     "metadata": {},
     "output_type": "display_data"
    },
    {
     "data": {
      "image/png": "[encoded data removed]",
      "text/plain": [
       "<Figure size 100x100 with 1 Axes>"
      ]
     },
     "metadata": {},
     "output_type": "display_data"
    }
   ],
   "source": [
    "# %%prun\n",
    "weights = Weights(mig=3, comig=2, seed_site=1, gen_dist=0.1, organotrop=0.0)\n",
    "\n",
    "run_conipher_patient(\"CRUK0010\", weights)"
   ]
  },
  {
   "cell_type": "code",
   "execution_count": 3,
   "id": "f4232280",
   "metadata": {},
   "outputs": [
    {
     "name": "stdout",
     "output_type": "stream",
     "text": [
      "{'Brain': 0.027522935779816515, 'Chest wall': 0.0045871559633027525, 'Bronchus': 0.01834862385321101, 'Pleura': 0.009174311926605505, 'Rib': 0.009174311926605505, 'Liver': 0.027522935779816515, 'Flank': 0.0045871559633027525, 'Femur': 0.0045871559633027525, 'Neck LN': 0.009174311926605505, 'Primary LN': 0.6788990825688074, 'Recurrence LN': 0.09174311926605505, 'Scapula': 0.0045871559633027525, 'Axillary LN': 0.0045871559633027525, 'Recurrence lung': 0.05963302752293578, 'Primary surgery satellite lesion lung': 0.013761467889908258, 'Adrenal gland': 0.0045871559633027525, 'Subphrenic mass': 0.0045871559633027525, 'Skin': 0.013761467889908258, 'Paravertebral': 0.0045871559633027525, 'Peritnoeum': 0.0045871559633027525, 'Lung': 0.0}\n"
     ]
    }
   ],
   "source": [
    "\n",
    "tracerx_reported_counts = {\n",
    "    \"Brain\":6, \"Chest wall\":1, \"Bronchus\":4,\"Pleura\":2,\"Rib\":2,\n",
    "    \"Liver\":6,\"Flank\":1,\"Femur\":1,\"Neck LN\":2,\"Primary LN\":148,\n",
    "    \"Recurrence LN\":20,\"Scapula\":1,\"Axillary LN\":1,\"Recurrence lung\":13,\n",
    "    \"Primary surgery satellite lesion lung\":3, \"Adrenal gland\":1,\n",
    "    \"Subphrenic mass\":1, \"Skin\":3, \"Paravertebral\":1, \"Peritnoeum\":1,\n",
    "    \"Lung\":0\n",
    "}\n",
    "\n",
    "total = sum([tracerx_reported_counts[key] for key in tracerx_reported_counts])\n",
    "tracerx_reported_freqs = {key:float(tracerx_reported_counts[key]/total) for key in tracerx_reported_counts}\n",
    "print(tracerx_reported_freqs)\n",
    "def get_organotropism_matrix_from_tracerx(unique_sites, tracerx_map):\n",
    "    mapped_sites = [tracerx_map[site] for site in unique_sites]\n",
    "    organotrop_arr = np.zeros(len(mapped_sites))\n",
    "    for i, metastatic_site in enumerate(mapped_sites):\n",
    "        organotrop_arr[i] = tracerx_reported_freqs[metastatic_site]\n",
    "    return torch.tensor(organotrop_arr, dtype = torch.float32)\n",
    "\n",
    "# Patients we were given anatomical site information for\n",
    "CRUK0484_tracerx_map = {\n",
    "    \"primary_SU_T1\" : \"Lung\",\n",
    "    \"LN_SU_FLN1\" : \"Primary LN\",\n",
    "    \"LN_SU_LN1\" : \"Primary LN\",\n",
    "    \"metachronousMet_BP_T1\" : \"Brain\",\n",
    "    \"metachronousMet_BP_T1.FR1\" : \"Scapula\",\n",
    "    \"metachronousMet_BR_T1\" : \"Rib\"\n",
    "}\n",
    "\n",
    "CRUK0484_msk_met_map = {\n",
    "    \"primary_SU_T1\" : \"Lung\",\n",
    "    \"LN_SU_FLN1\" : \"Distant LN\",\n",
    "    \"LN_SU_LN1\" : \"Distant LN\",\n",
    "    \"metachronousMet_BP_T1\" : \"CNS/Brain\",\n",
    "    \"metachronousMet_BP_T1.FR1\" : \"Bone\",\n",
    "    \"metachronousMet_BR_T1\" : \"Bone\"\n",
    "}\n",
    "CRUK0236_tracerx_map = {\n",
    "    \"primary_SU_T1\" : \"Lung\",\n",
    "    \"LN_SU_FLN1\" : \"Primary LN\",\n",
    "}\n",
    "\n",
    "CRUK0236_msk_met_map = {\n",
    "    \"primary_SU_T1\" : \"Lung\",\n",
    "    \"LN_SU_FLN1\" : \"Distant LN\",\n",
    "}\n",
    "\n",
    "CRUK0590_tracerx_map = {\n",
    "    \"primary_SU_T1\" : \"Lung\",\n",
    "    \"LN_SU_FLN1\" : \"Primary LN\",\n",
    "    \"metachronousMet_BR_T1.FR1\": \"Brain\",\n",
    "    \"metachronousMet_BR_T1.FR2\": \"Brain\",\n",
    "    \"metachronousMet_BR_T3.FR1\": \"Brain\",\n",
    "}\n",
    "\n",
    "CRUK0590_msk_met_map = {\n",
    "    \"primary_SU_T1\" : \"Lung\",\n",
    "    \"LN_SU_FLN1\" : \"Distant LN\",\n",
    "    \"metachronousMet_BR_T1.FR1\": \"Brain\",\n",
    "    \"metachronousMet_BR_T1.FR2\": \"Brain\",\n",
    "    \"metachronousMet_BR_T3.FR1\": \"Brain\",\n",
    "}\n",
    "CRUK0559_tracerx_map = {\n",
    "    \"primary_SU_T1\" : \"Lung\",\n",
    "    \"LN_SU_FLN1\" : \"Primary LN\",\n",
    "    \"LN_SU_LN1\" : \"Primary LN\",\n",
    "    \"LN_SU_LN2\" : \"Primary LN\",\n",
    "    \"LN_SU_LN3\" : \"Primary LN\",\n",
    "    \"metachronousMet_BR_T1\" : \"Recurrence LN\",\n",
    "}\n",
    "\n",
    "CRUK0559_msk_met_map = {\n",
    "    \"primary_SU_T1\" : \"Lung\",\n",
    "    \"LN_SU_FLN1\" : \"Distant LN\",\n",
    "    \"LN_SU_LN1\" : \"Distant LN\",\n",
    "    \"LN_SU_LN2\" : \"Distant LN\",\n",
    "    \"LN_SU_LN3\" : \"Distant LN\",\n",
    "    \"metachronousMet_BR_T1\" : \"Distant LN\",\n",
    "}\n"
   ]
  }
 ],
 "metadata": {
  "kernelspec": {
   "display_name": "Python [conda env:met]",
   "language": "python",
   "name": "conda-env-met-py"
  },
  "language_info": {
   "codemirror_mode": {
    "name": "ipython",
    "version": 3
   },
   "file_extension": ".py",
   "mimetype": "text/x-python",
   "name": "python",
   "nbconvert_exporter": "python",
   "pygments_lexer": "ipython3",
   "version": "3.8.0"
  }
 },
 "nbformat": 4,
 "nbformat_minor": 5
}
