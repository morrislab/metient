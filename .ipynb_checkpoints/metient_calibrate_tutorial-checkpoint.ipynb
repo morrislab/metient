{
 "cells": [
  {
   "cell_type": "markdown",
   "id": "9a4f7149",
   "metadata": {},
   "source": [
    "## How to run Metient-calibrate on a subset of real metastatic NSCLC patients (TRACERx)\n",
    "\n",
    "### To run this notebook, you'll need metient installed:\n",
    "\n",
    "```bash\n",
    "mamba create -n \"met\" python=3.8.8 ipython\n",
    "mamba activate met\n",
    "pip install metient\n",
    "```"
   ]
  },
  {
   "cell_type": "markdown",
   "id": "f182d4ad",
   "metadata": {},
   "source": [
    "### Import libraries and setup paths"
   ]
  },
  {
   "cell_type": "code",
   "execution_count": null,
   "id": "e4c01b34",
   "metadata": {},
   "outputs": [],
   "source": [
    "import os\n",
    "from metient import metient as met\n",
    "\n",
    "### Setup paths\n",
    "tutorial_dir = os.path.join(os.getcwd(), \"metient\", \"data\", \"tutorial\")\n",
    "# Path to where our input clone trees and tsvs are located (clustered with pyclone -> clone tree from pairtree)\n",
    "input_dir = os.path.join(tutorial_dir, \"inputs\")\n",
    "# Path to save outputs\n",
    "output_dir = os.path.join(tutorial_dir, \"outputs\")"
   ]
  },
  {
   "cell_type": "code",
   "execution_count": 11,
   "id": "e617103b",
   "metadata": {
    "scrolled": false
   },
   "outputs": [
    {
     "name": "stdout",
     "output_type": "stream",
     "text": [
      "[ 1.  0.  6.  9.  3. 17. 10. 12. 13.  4.  7. 11.  5. 15. 14.  8.  2. 18.\n",
      " 16.]\n",
      "[ 1  0  6  9  3 17 10 12 13  4  7 11  5 15 14  8  2 18 16]\n",
      "[ 0.  1.  3.  8.  5. 11. 10.  7. 13.  9.  4.  2.  6. 12.]\n",
      "[ 0  1  3  8  5 11 10  7 13  9  4  2  6 12]\n",
      "[0. 1. 5. 2. 7. 4. 6. 3.]\n",
      "[0 1 5 2 7 4 6 3]\n",
      "[ 0.  5.  2.  4.  9.  1. 17. 12. 14.  7. 10. 15.  3.  8. 16. 11. 13.  6.]\n",
      "[ 0  5  2  4  9  1 17 12 14  7 10 15  3  8 16 11 13  6]\n"
     ]
    }
   ],
   "source": [
    "from metient.util import data_extraction_util as dutil\n",
    "import numpy as np\n",
    "\n",
    "def get(df, clusters_tsv_fn):\n",
    "    pyclone_df = pd.read_csv(clusters_tsv_fn, delimiter=\"\\t\")\n",
    "    mut_name_to_cluster_id = dict()\n",
    "    cluster_id_to_mut_names = dict()\n",
    "    # 1. Get mapping between mutation names and PyClone cluster ids\n",
    "    for _, row in df.iterrows():\n",
    "        mut_items = row['character_label'].split(\":\")\n",
    "        cluster_id = pyclone_df[(pyclone_df['CHR']==int(mut_items[1]))&(pyclone_df['POS']==int(mut_items[2]))&(pyclone_df['REF']==mut_items[3])]['treeCLUSTER'].unique()\n",
    "        assert(len(cluster_id) <= 1)\n",
    "        if len(cluster_id) == 1:\n",
    "            cluster_id = int(cluster_id.item())\n",
    "            mut_name_to_cluster_id[row['character_label']] = cluster_id\n",
    "            if cluster_id not in cluster_id_to_mut_names:\n",
    "                cluster_id_to_mut_names[cluster_id] = set()\n",
    "            else:\n",
    "                cluster_id_to_mut_names[cluster_id].add(row['character_label'])\n",
    "       \n",
    "    # 2. Set new names for clustered mutations\n",
    "    cluster_id_to_cluster_name = {k:\";\".join(list(v)) for k,v in cluster_id_to_mut_names.items()}\n",
    "    return cluster_id_to_cluster_name, mut_name_to_cluster_id\n",
    "    \n",
    "import pandas as pd\n",
    "patients = [\"CRUK0003\", \"CRUK0010\", \"CRUK0013\", \"CRUK0029\" ]\n",
    "tracerx_dir = os.path.join(os.getcwd(), \"metient\", \"data\", \"tracerx_nsclc\")\n",
    "for patient in patients:\n",
    "    df = pd.read_csv(os.path.join(tracerx_dir, \"patient_data\", f\"{patient}_SNVs.tsv\"), delimiter=\"\\t\", index_col=0)\n",
    "    cluster_id_to_cluster_name, mut_name_to_cluster_id = get(df, os.path.join(tracerx_dir, 'conipher_outputs', 'TreeBuilding', f\"{patient}_conipher_SNVstreeTable_cleaned.tsv\"))\n",
    "    df['var_read_prob'] = df.apply(lambda row: dutil.calc_var_read_prob(row['major_cn'], row['minor_cn'], row['purity']), axis=1)\n",
    "    df['site_category'] = df.apply(lambda row: 'primary' if 'primary' in row['anatomical_site_label'] else 'metastasis', axis=1)\n",
    "    df['cluster_index'] = df.apply(lambda row: mut_name_to_cluster_id[row['character_label']] if row['character_label'] in mut_name_to_cluster_id else np.nan, axis=1)\n",
    "    df = df.dropna(subset=['cluster_index'])\n",
    "    df = df[['anatomical_site_index', 'anatomical_site_label', 'cluster_index', 'character_label',\n",
    "             'ref', 'var', 'var_read_prob', 'site_category']]\n",
    "    print(df['cluster_index'].unique())\n",
    "    df['cluster_index'] = df['cluster_index'].astype(int)\n",
    "    print(df['cluster_index'].unique())\n",
    "    df.to_csv(os.path.join(os.getcwd(), \"metient\", \"data\", \"tutorial\",\"inputs\", f\"{patient}_SNVs.tsv\"), sep=\"\\t\", index=False)\n",
    "    "
   ]
  },
  {
   "cell_type": "markdown",
   "id": "621d2c05",
   "metadata": {},
   "source": [
    "### An example of the expected tsv file format for patient CRUK0010\n",
    "**The required columns are:**\n",
    "`anatomical_site_index, anatomical_site_label, cluster_index, character_label, ref, var, var_read_prob, site_category`"
   ]
  },
  {
   "cell_type": "code",
   "execution_count": 12,
   "id": "3a1925be",
   "metadata": {},
   "outputs": [
    {
     "data": {
      "text/html": [
       "<div>\n",
       "<style scoped>\n",
       "    .dataframe tbody tr th:only-of-type {\n",
       "        vertical-align: middle;\n",
       "    }\n",
       "\n",
       "    .dataframe tbody tr th {\n",
       "        vertical-align: top;\n",
       "    }\n",
       "\n",
       "    .dataframe thead th {\n",
       "        text-align: right;\n",
       "    }\n",
       "</style>\n",
       "<table border=\"1\" class=\"dataframe\">\n",
       "  <thead>\n",
       "    <tr style=\"text-align: right;\">\n",
       "      <th></th>\n",
       "      <th>anatomical_site_index</th>\n",
       "      <th>anatomical_site_label</th>\n",
       "      <th>cluster_index</th>\n",
       "      <th>character_label</th>\n",
       "      <th>ref</th>\n",
       "      <th>var</th>\n",
       "      <th>var_read_prob</th>\n",
       "      <th>site_category</th>\n",
       "    </tr>\n",
       "  </thead>\n",
       "  <tbody>\n",
       "    <tr>\n",
       "      <th>0</th>\n",
       "      <td>0</td>\n",
       "      <td>metachronousMet_BR_LN1</td>\n",
       "      <td>0</td>\n",
       "      <td>SETD2:3:47103798:G</td>\n",
       "      <td>128</td>\n",
       "      <td>40</td>\n",
       "      <td>0.250</td>\n",
       "      <td>metastasis</td>\n",
       "    </tr>\n",
       "    <tr>\n",
       "      <th>1</th>\n",
       "      <td>1</td>\n",
       "      <td>metachronousMet_BR_LN2</td>\n",
       "      <td>0</td>\n",
       "      <td>SETD2:3:47103798:G</td>\n",
       "      <td>212</td>\n",
       "      <td>64</td>\n",
       "      <td>0.200</td>\n",
       "      <td>metastasis</td>\n",
       "    </tr>\n",
       "    <tr>\n",
       "      <th>2</th>\n",
       "      <td>2</td>\n",
       "      <td>metachronousMet_BR_LN3</td>\n",
       "      <td>0</td>\n",
       "      <td>SETD2:3:47103798:G</td>\n",
       "      <td>188</td>\n",
       "      <td>47</td>\n",
       "      <td>0.220</td>\n",
       "      <td>metastasis</td>\n",
       "    </tr>\n",
       "    <tr>\n",
       "      <th>3</th>\n",
       "      <td>3</td>\n",
       "      <td>LN_SU_FLN1</td>\n",
       "      <td>0</td>\n",
       "      <td>SETD2:3:47103798:G</td>\n",
       "      <td>422</td>\n",
       "      <td>96</td>\n",
       "      <td>0.250</td>\n",
       "      <td>metastasis</td>\n",
       "    </tr>\n",
       "    <tr>\n",
       "      <th>4</th>\n",
       "      <td>4</td>\n",
       "      <td>primary_SU_T1</td>\n",
       "      <td>0</td>\n",
       "      <td>SETD2:3:47103798:G</td>\n",
       "      <td>81</td>\n",
       "      <td>236</td>\n",
       "      <td>0.701</td>\n",
       "      <td>primary</td>\n",
       "    </tr>\n",
       "    <tr>\n",
       "      <th>...</th>\n",
       "      <td>...</td>\n",
       "      <td>...</td>\n",
       "      <td>...</td>\n",
       "      <td>...</td>\n",
       "      <td>...</td>\n",
       "      <td>...</td>\n",
       "      <td>...</td>\n",
       "      <td>...</td>\n",
       "    </tr>\n",
       "    <tr>\n",
       "      <th>1159</th>\n",
       "      <td>1</td>\n",
       "      <td>metachronousMet_BR_LN2</td>\n",
       "      <td>6</td>\n",
       "      <td>MAN2C1:15:75651122:C</td>\n",
       "      <td>528</td>\n",
       "      <td>0</td>\n",
       "      <td>0.100</td>\n",
       "      <td>metastasis</td>\n",
       "    </tr>\n",
       "    <tr>\n",
       "      <th>1160</th>\n",
       "      <td>2</td>\n",
       "      <td>metachronousMet_BR_LN3</td>\n",
       "      <td>6</td>\n",
       "      <td>MAN2C1:15:75651122:C</td>\n",
       "      <td>532</td>\n",
       "      <td>0</td>\n",
       "      <td>0.110</td>\n",
       "      <td>metastasis</td>\n",
       "    </tr>\n",
       "    <tr>\n",
       "      <th>1161</th>\n",
       "      <td>3</td>\n",
       "      <td>LN_SU_FLN1</td>\n",
       "      <td>6</td>\n",
       "      <td>MAN2C1:15:75651122:C</td>\n",
       "      <td>494</td>\n",
       "      <td>11</td>\n",
       "      <td>0.125</td>\n",
       "      <td>metastasis</td>\n",
       "    </tr>\n",
       "    <tr>\n",
       "      <th>1162</th>\n",
       "      <td>4</td>\n",
       "      <td>primary_SU_T1</td>\n",
       "      <td>6</td>\n",
       "      <td>MAN2C1:15:75651122:C</td>\n",
       "      <td>624</td>\n",
       "      <td>0</td>\n",
       "      <td>0.305</td>\n",
       "      <td>primary</td>\n",
       "    </tr>\n",
       "    <tr>\n",
       "      <th>1163</th>\n",
       "      <td>4</td>\n",
       "      <td>primary_SU_T1</td>\n",
       "      <td>6</td>\n",
       "      <td>MAN2C1:15:75651122:C</td>\n",
       "      <td>619</td>\n",
       "      <td>0</td>\n",
       "      <td>0.170</td>\n",
       "      <td>primary</td>\n",
       "    </tr>\n",
       "  </tbody>\n",
       "</table>\n",
       "<p>1164 rows × 8 columns</p>\n",
       "</div>"
      ],
      "text/plain": [
       "      anatomical_site_index   anatomical_site_label  cluster_index  \\\n",
       "0                         0  metachronousMet_BR_LN1              0   \n",
       "1                         1  metachronousMet_BR_LN2              0   \n",
       "2                         2  metachronousMet_BR_LN3              0   \n",
       "3                         3              LN_SU_FLN1              0   \n",
       "4                         4           primary_SU_T1              0   \n",
       "...                     ...                     ...            ...   \n",
       "1159                      1  metachronousMet_BR_LN2              6   \n",
       "1160                      2  metachronousMet_BR_LN3              6   \n",
       "1161                      3              LN_SU_FLN1              6   \n",
       "1162                      4           primary_SU_T1              6   \n",
       "1163                      4           primary_SU_T1              6   \n",
       "\n",
       "           character_label  ref  var  var_read_prob site_category  \n",
       "0       SETD2:3:47103798:G  128   40          0.250    metastasis  \n",
       "1       SETD2:3:47103798:G  212   64          0.200    metastasis  \n",
       "2       SETD2:3:47103798:G  188   47          0.220    metastasis  \n",
       "3       SETD2:3:47103798:G  422   96          0.250    metastasis  \n",
       "4       SETD2:3:47103798:G   81  236          0.701       primary  \n",
       "...                    ...  ...  ...            ...           ...  \n",
       "1159  MAN2C1:15:75651122:C  528    0          0.100    metastasis  \n",
       "1160  MAN2C1:15:75651122:C  532    0          0.110    metastasis  \n",
       "1161  MAN2C1:15:75651122:C  494   11          0.125    metastasis  \n",
       "1162  MAN2C1:15:75651122:C  624    0          0.305       primary  \n",
       "1163  MAN2C1:15:75651122:C  619    0          0.170       primary  \n",
       "\n",
       "[1164 rows x 8 columns]"
      ]
     },
     "execution_count": 12,
     "metadata": {},
     "output_type": "execute_result"
    }
   ],
   "source": [
    "import pandas as pd\n",
    "pd.read_csv(os.path.join(input_dir, \"CRUK0010_SNVs.tsv\"), sep=\"\\t\")"
   ]
  },
  {
   "cell_type": "markdown",
   "id": "26cc8477",
   "metadata": {},
   "source": [
    "## Step 1: Load filepaths to clone trees and tsv files for each patient"
   ]
  },
  {
   "cell_type": "code",
   "execution_count": 13,
   "id": "5fdb8cc7",
   "metadata": {},
   "outputs": [],
   "source": [
    "patients = [\"CRUK0003\", \"CRUK0010\", \"CRUK0013\", \"CRUK0029\" ]\n",
    "clone_tree_fns = [os.path.join(input_dir, f\"{patient}_tree.txt\") for patient in patients]\n",
    "ref_var_fns = [os.path.join(input_dir, f\"{patient}_SNVs.tsv\") for patient in patients]"
   ]
  },
  {
   "cell_type": "markdown",
   "id": "ed40db36",
   "metadata": {},
   "source": [
    "## Step 2: Run Metient-calibrate"
   ]
  },
  {
   "cell_type": "code",
   "execution_count": 14,
   "id": "98b7bc90",
   "metadata": {
    "scrolled": false
   },
   "outputs": [
    {
     "name": "stdout",
     "output_type": "stream",
     "text": [
      "Saving results to /lila/data/morrisq/divyak/projects/metient/metient/data/tutorial/outputs/calibrate\n",
      "Overwriting existing directory at /lila/data/morrisq/divyak/projects/metient/metient/data/tutorial/outputs/calibrate\n",
      "Calibrating for patient: CRUK0003\n"
     ]
    },
    {
     "ename": "ValueError",
     "evalue": "Input tsv needs required columns: ['anatomical_site_index', 'anatomical_site_label', 'character_label', 'ref', 'var', 'var_read_prob', 'site_category']",
     "output_type": "error",
     "traceback": [
      "\u001b[0;31m---------------------------------------------------------------------------\u001b[0m",
      "\u001b[0;31mValueError\u001b[0m                                Traceback (most recent call last)",
      "Cell \u001b[0;32mIn[14], line 3\u001b[0m\n\u001b[1;32m      1\u001b[0m weights \u001b[38;5;241m=\u001b[39m met\u001b[38;5;241m.\u001b[39mWeights(gen_dist\u001b[38;5;241m=\u001b[39m\u001b[38;5;241m0.1\u001b[39m)\n\u001b[1;32m      2\u001b[0m print_config \u001b[38;5;241m=\u001b[39m met\u001b[38;5;241m.\u001b[39mPrintConfig(visualize\u001b[38;5;241m=\u001b[39m\u001b[38;5;28;01mTrue\u001b[39;00m, verbose\u001b[38;5;241m=\u001b[39m\u001b[38;5;28;01mFalse\u001b[39;00m, k_best_trees\u001b[38;5;241m=\u001b[39m\u001b[38;5;241m5\u001b[39m)\n\u001b[0;32m----> 3\u001b[0m \u001b[43mmet\u001b[49m\u001b[38;5;241;43m.\u001b[39;49m\u001b[43mcalibrate\u001b[49m\u001b[43m(\u001b[49m\u001b[43mclone_tree_fns\u001b[49m\u001b[43m,\u001b[49m\u001b[43m \u001b[49m\u001b[43mref_var_fns\u001b[49m\u001b[43m,\u001b[49m\u001b[43m \u001b[49m\u001b[43mprint_config\u001b[49m\u001b[43m,\u001b[49m\u001b[43m \u001b[49m\n\u001b[1;32m      4\u001b[0m \u001b[43m              \u001b[49m\u001b[43moutput_dir\u001b[49m\u001b[43m,\u001b[49m\u001b[43m \u001b[49m\u001b[43mpatients\u001b[49m\u001b[43m)\u001b[49m\n",
      "File \u001b[0;32m/lila/data/morrisq/divyak/projects/metient/metient/metient.py:19\u001b[0m, in \u001b[0;36mcalibrate\u001b[0;34m(tree_fns, tsv_fns, print_config, output_dir, run_names, Os, batch_size, custom_colors, bias_weights, solve_polytomies)\u001b[0m\n\u001b[1;32m     17\u001b[0m \u001b[38;5;28;01mdef\u001b[39;00m \u001b[38;5;21mcalibrate\u001b[39m(tree_fns, tsv_fns, print_config, output_dir, run_names, \n\u001b[1;32m     18\u001b[0m               Os\u001b[38;5;241m=\u001b[39m\u001b[38;5;28;01mNone\u001b[39;00m, batch_size\u001b[38;5;241m=\u001b[39m\u001b[38;5;241m-\u001b[39m\u001b[38;5;241m1\u001b[39m, custom_colors\u001b[38;5;241m=\u001b[39m\u001b[38;5;28;01mNone\u001b[39;00m, bias_weights\u001b[38;5;241m=\u001b[39m\u001b[38;5;28;01mTrue\u001b[39;00m,  solve_polytomies\u001b[38;5;241m=\u001b[39m\u001b[38;5;28;01mFalse\u001b[39;00m):\n\u001b[0;32m---> 19\u001b[0m     \u001b[38;5;28;01mreturn\u001b[39;00m \u001b[43mvert_label\u001b[49m\u001b[38;5;241;43m.\u001b[39;49m\u001b[43mcalibrate\u001b[49m\u001b[43m(\u001b[49m\u001b[43mtree_fns\u001b[49m\u001b[43m,\u001b[49m\u001b[43m \u001b[49m\u001b[43mtsv_fns\u001b[49m\u001b[43m,\u001b[49m\u001b[43m \u001b[49m\u001b[43mprint_config\u001b[49m\u001b[43m,\u001b[49m\u001b[43m \u001b[49m\u001b[43moutput_dir\u001b[49m\u001b[43m,\u001b[49m\u001b[43m \u001b[49m\u001b[43mrun_names\u001b[49m\u001b[43m,\u001b[49m\u001b[43m \u001b[49m\u001b[43mOs\u001b[49m\u001b[38;5;241;43m=\u001b[39;49m\u001b[43mOs\u001b[49m\u001b[43m,\u001b[49m\u001b[43m \u001b[49m\u001b[43mbatch_size\u001b[49m\u001b[38;5;241;43m=\u001b[39;49m\u001b[43mbatch_size\u001b[49m\u001b[43m,\u001b[49m\u001b[43m \u001b[49m\n\u001b[1;32m     20\u001b[0m \u001b[43m                                \u001b[49m\u001b[43mcustom_colors\u001b[49m\u001b[38;5;241;43m=\u001b[39;49m\u001b[43mcustom_colors\u001b[49m\u001b[43m,\u001b[49m\u001b[43m \u001b[49m\u001b[43mbias_weights\u001b[49m\u001b[38;5;241;43m=\u001b[39;49m\u001b[43mbias_weights\u001b[49m\u001b[43m,\u001b[49m\u001b[43m \u001b[49m\u001b[43msolve_polytomies\u001b[49m\u001b[38;5;241;43m=\u001b[39;49m\u001b[43msolve_polytomies\u001b[49m\u001b[43m)\u001b[49m\n",
      "File \u001b[0;32m/lila/data/morrisq/divyak/projects/metient/metient/lib/vertex_labeling.py:962\u001b[0m, in \u001b[0;36mcalibrate\u001b[0;34m(tree_fns, tsv_fns, print_config, output_dir, run_names, Os, batch_size, custom_colors, bias_weights, solve_polytomies)\u001b[0m\n\u001b[1;32m    959\u001b[0m         \u001b[38;5;28mprint\u001b[39m(\u001b[38;5;124m\"\u001b[39m\u001b[38;5;124mMultiple primaries given. Running each as primary\u001b[39m\u001b[38;5;124m\"\u001b[39m)\n\u001b[1;32m    961\u001b[0m     \u001b[38;5;28;01mfor\u001b[39;00m primary_site \u001b[38;5;129;01min\u001b[39;00m primary_sites:\n\u001b[0;32m--> 962\u001b[0m         \u001b[43mget_migration_history\u001b[49m\u001b[43m(\u001b[49m\u001b[43mTs\u001b[49m\u001b[43m[\u001b[49m\u001b[43mi\u001b[49m\u001b[43m]\u001b[49m\u001b[43m,\u001b[49m\u001b[43m \u001b[49m\u001b[43mtsv_fns\u001b[49m\u001b[43m[\u001b[49m\u001b[43mi\u001b[49m\u001b[43m]\u001b[49m\u001b[43m,\u001b[49m\u001b[43m \u001b[49m\u001b[43mprimary_site\u001b[49m\u001b[43m,\u001b[49m\u001b[43m \u001b[49m\u001b[43mweights\u001b[49m\u001b[43m,\u001b[49m\u001b[43m \u001b[49m\u001b[43mprint_config\u001b[49m\u001b[43m,\u001b[49m\u001b[43m \u001b[49m\u001b[43mcalibrate_dir\u001b[49m\u001b[43m,\u001b[49m\u001b[43m \u001b[49m\u001b[38;5;124;43mf\u001b[39;49m\u001b[38;5;124;43m\"\u001b[39;49m\u001b[38;5;132;43;01m{\u001b[39;49;00m\u001b[43mrun_names\u001b[49m\u001b[43m[\u001b[49m\u001b[43mi\u001b[49m\u001b[43m]\u001b[49m\u001b[38;5;132;43;01m}\u001b[39;49;00m\u001b[38;5;124;43m_\u001b[39;49m\u001b[38;5;132;43;01m{\u001b[39;49;00m\u001b[43mprimary_site\u001b[49m\u001b[38;5;132;43;01m}\u001b[39;49;00m\u001b[38;5;124;43m\"\u001b[39;49m\u001b[43m,\u001b[49m\u001b[43m \u001b[49m\n\u001b[1;32m    963\u001b[0m \u001b[43m                              \u001b[49m\u001b[43mO\u001b[49m\u001b[38;5;241;43m=\u001b[39;49m\u001b[43mO\u001b[49m\u001b[43m,\u001b[49m\u001b[43m \u001b[49m\u001b[43mbatch_size\u001b[49m\u001b[38;5;241;43m=\u001b[39;49m\u001b[43mbatch_size\u001b[49m\u001b[43m,\u001b[49m\u001b[43m \u001b[49m\u001b[43mcustom_colors\u001b[49m\u001b[38;5;241;43m=\u001b[39;49m\u001b[43mcustom_colors\u001b[49m\u001b[43m,\u001b[49m\u001b[43m \u001b[49m\u001b[43mbias_weights\u001b[49m\u001b[38;5;241;43m=\u001b[39;49m\u001b[43mbias_weights\u001b[49m\u001b[43m,\u001b[49m\u001b[43m \u001b[49m\n\u001b[1;32m    964\u001b[0m \u001b[43m                              \u001b[49m\u001b[43mmode\u001b[49m\u001b[38;5;241;43m=\u001b[39;49m\u001b[38;5;124;43m\"\u001b[39;49m\u001b[38;5;124;43mcalibrate\u001b[39;49m\u001b[38;5;124;43m\"\u001b[39;49m\u001b[43m,\u001b[49m\u001b[43m \u001b[49m\u001b[43msolve_polytomies\u001b[49m\u001b[38;5;241;43m=\u001b[39;49m\u001b[43msolve_polytomies\u001b[49m\u001b[43m)\u001b[49m\n\u001b[1;32m    966\u001b[0m \u001b[38;5;66;03m# 2. Find the best theta for this cohort\u001b[39;00m\n\u001b[1;32m    967\u001b[0m best_theta \u001b[38;5;241m=\u001b[39m eutil\u001b[38;5;241m.\u001b[39mget_max_cross_ent_thetas(pickle_file_dirs\u001b[38;5;241m=\u001b[39m[calibrate_dir])\n",
      "File \u001b[0;32m/lila/data/morrisq/divyak/projects/metient/metient/lib/vertex_labeling.py:1098\u001b[0m, in \u001b[0;36mget_migration_history\u001b[0;34m(T, tsv_fn, primary_site, weights, print_config, output_dir, run_name, O, max_iter, lr, init_temp, final_temp, batch_size, custom_colors, bias_weights, mode, solve_polytomies)\u001b[0m\n\u001b[1;32m   1060\u001b[0m \u001b[38;5;28;01mdef\u001b[39;00m \u001b[38;5;21mget_migration_history\u001b[39m(T, tsv_fn, primary_site, weights, print_config, output_dir, run_name, \n\u001b[1;32m   1061\u001b[0m                           O\u001b[38;5;241m=\u001b[39m\u001b[38;5;28;01mNone\u001b[39;00m, max_iter\u001b[38;5;241m=\u001b[39m\u001b[38;5;241m75\u001b[39m, lr\u001b[38;5;241m=\u001b[39m\u001b[38;5;241m0.1\u001b[39m, init_temp\u001b[38;5;241m=\u001b[39m\u001b[38;5;241m40\u001b[39m, final_temp\u001b[38;5;241m=\u001b[39m\u001b[38;5;241m0.01\u001b[39m,\n\u001b[1;32m   1062\u001b[0m                           batch_size\u001b[38;5;241m=\u001b[39m\u001b[38;5;241m-\u001b[39m\u001b[38;5;241m1\u001b[39m, custom_colors\u001b[38;5;241m=\u001b[39m\u001b[38;5;28;01mNone\u001b[39;00m, bias_weights\u001b[38;5;241m=\u001b[39m\u001b[38;5;28;01mTrue\u001b[39;00m, mode\u001b[38;5;241m=\u001b[39m\u001b[38;5;124m\"\u001b[39m\u001b[38;5;124mevaluate\u001b[39m\u001b[38;5;124m\"\u001b[39m,\n\u001b[1;32m   1063\u001b[0m                           solve_polytomies\u001b[38;5;241m=\u001b[39m\u001b[38;5;28;01mFalse\u001b[39;00m):\n\u001b[1;32m   1064\u001b[0m \u001b[38;5;250m    \u001b[39m\u001b[38;5;124;03m'''\u001b[39;00m\n\u001b[1;32m   1065\u001b[0m \u001b[38;5;124;03m    Args:\u001b[39;00m\n\u001b[1;32m   1066\u001b[0m \u001b[38;5;124;03m        T: numpy ndarray or torch tensor (shape: num_internal_nodes x num_internal_nodes). Adjacency matrix (directed) of the internal nodes.\u001b[39;00m\n\u001b[0;32m   (...)\u001b[0m\n\u001b[1;32m   1095\u001b[0m \u001b[38;5;124;03m        (5) how long (in seconds) the algorithm took to run\u001b[39;00m\n\u001b[1;32m   1096\u001b[0m \u001b[38;5;124;03m    '''\u001b[39;00m\n\u001b[0;32m-> 1098\u001b[0m     pooled_tsv_fn \u001b[38;5;241m=\u001b[39m \u001b[43mdutil\u001b[49m\u001b[38;5;241;43m.\u001b[39;49m\u001b[43mpool_input_tsv\u001b[49m\u001b[43m(\u001b[49m\u001b[43mtsv_fn\u001b[49m\u001b[43m,\u001b[49m\u001b[43m \u001b[49m\u001b[43moutput_dir\u001b[49m\u001b[43m,\u001b[49m\u001b[43m \u001b[49m\u001b[38;5;124;43mf\u001b[39;49m\u001b[38;5;124;43m\"\u001b[39;49m\u001b[38;5;124;43mtmp_\u001b[39;49m\u001b[38;5;132;43;01m{\u001b[39;49;00m\u001b[43mrun_name\u001b[49m\u001b[38;5;132;43;01m}\u001b[39;49;00m\u001b[38;5;124;43m\"\u001b[39;49m\u001b[43m)\u001b[49m\n\u001b[1;32m   1099\u001b[0m     ref, var, omega, ordered_sites, node_idx_to_label, idx_to_num_mutations \u001b[38;5;241m=\u001b[39m dutil\u001b[38;5;241m.\u001b[39mget_ref_var_omega_matrix(pooled_tsv_fn)\n\u001b[1;32m   1100\u001b[0m     os\u001b[38;5;241m.\u001b[39mremove(pooled_tsv_fn) \u001b[38;5;66;03m# cleanup pooled tsv\u001b[39;00m\n",
      "File \u001b[0;32m/lila/data/morrisq/divyak/projects/metient/metient/util/data_extraction_util.py:60\u001b[0m, in \u001b[0;36mpool_input_tsv\u001b[0;34m(tsv_fn, output_dir, run_name)\u001b[0m\n\u001b[1;32m     58\u001b[0m cluster_id_to_cluster_name \u001b[38;5;241m=\u001b[39m {k:\u001b[38;5;124m\"\u001b[39m\u001b[38;5;124m;\u001b[39m\u001b[38;5;124m\"\u001b[39m\u001b[38;5;241m.\u001b[39mjoin(\u001b[38;5;28mlist\u001b[39m(v)) \u001b[38;5;28;01mfor\u001b[39;00m k,v \u001b[38;5;129;01min\u001b[39;00m cluster_id_to_mut_names\u001b[38;5;241m.\u001b[39mitems()}\n\u001b[1;32m     59\u001b[0m output_dir \u001b[38;5;241m=\u001b[39m os\u001b[38;5;241m.\u001b[39mpath\u001b[38;5;241m.\u001b[39mjoin(output_dir, \u001b[38;5;124m\"\u001b[39m\u001b[38;5;124mclustered_tsvs\u001b[39m\u001b[38;5;124m\"\u001b[39m)\n\u001b[0;32m---> 60\u001b[0m _, output_fn \u001b[38;5;241m=\u001b[39m \u001b[43mwrite_pooled_tsv_from_clusters\u001b[49m\u001b[43m(\u001b[49m\u001b[43mdf\u001b[49m\u001b[43m,\u001b[49m\u001b[43m \u001b[49m\u001b[43mmut_name_to_cluster_id\u001b[49m\u001b[43m,\u001b[49m\u001b[43m \u001b[49m\u001b[43mcluster_id_to_cluster_name\u001b[49m\u001b[43m,\u001b[49m\u001b[43m \u001b[49m\u001b[43m{\u001b[49m\u001b[43m}\u001b[49m\u001b[43m,\u001b[49m\u001b[43m \u001b[49m\n\u001b[1;32m     61\u001b[0m \u001b[43m                                              \u001b[49m\u001b[43moutput_dir\u001b[49m\u001b[43m,\u001b[49m\u001b[43m \u001b[49m\u001b[43mrun_name\u001b[49m\u001b[43m,\u001b[49m\u001b[43m \u001b[49m\u001b[38;5;124;43m\"\u001b[39;49m\u001b[38;5;124;43m;\u001b[39;49m\u001b[38;5;124;43m\"\u001b[39;49m\u001b[43m,\u001b[49m\u001b[43m \u001b[49m\u001b[38;5;28;43;01mNone\u001b[39;49;00m\u001b[43m,\u001b[49m\u001b[43m \u001b[49m\u001b[43msave\u001b[49m\u001b[38;5;241;43m=\u001b[39;49m\u001b[38;5;28;43;01mFalse\u001b[39;49;00m\u001b[43m)\u001b[49m\n\u001b[1;32m     62\u001b[0m \u001b[38;5;28;01mreturn\u001b[39;00m output_fn\n",
      "File \u001b[0;32m/lila/data/morrisq/divyak/projects/metient/metient/util/data_extraction_util.py:102\u001b[0m, in \u001b[0;36mwrite_pooled_tsv_from_clusters\u001b[0;34m(df, mut_name_to_cluster_id, cluster_id_to_cluster_name, aggregation_rules, output_dir, patient_id, cluster_sep, mutation_sep, save)\u001b[0m\n\u001b[1;32m     99\u001b[0m all_cols \u001b[38;5;241m=\u001b[39m required_cols \u001b[38;5;241m+\u001b[39m \u001b[38;5;28mlist\u001b[39m(aggregation_rules\u001b[38;5;241m.\u001b[39mkeys())\n\u001b[1;32m    101\u001b[0m \u001b[38;5;28;01mif\u001b[39;00m \u001b[38;5;129;01mnot\u001b[39;00m (\u001b[38;5;28mset\u001b[39m(required_cols)\u001b[38;5;241m.\u001b[39missubset(df\u001b[38;5;241m.\u001b[39mcolumns)):\n\u001b[0;32m--> 102\u001b[0m     \u001b[38;5;28;01mraise\u001b[39;00m \u001b[38;5;167;01mValueError\u001b[39;00m(\u001b[38;5;124mf\u001b[39m\u001b[38;5;124m\"\u001b[39m\u001b[38;5;124mInput tsv needs required columns: \u001b[39m\u001b[38;5;132;01m{\u001b[39;00mrequired_cols\u001b[38;5;132;01m}\u001b[39;00m\u001b[38;5;124m\"\u001b[39m)\n\u001b[1;32m    104\u001b[0m \u001b[38;5;28;01mif\u001b[39;00m \u001b[38;5;129;01mnot\u001b[39;00m \u001b[38;5;28mset\u001b[39m(all_cols) \u001b[38;5;241m==\u001b[39m \u001b[38;5;28mset\u001b[39m(df\u001b[38;5;241m.\u001b[39mcolumns):\n\u001b[1;32m    105\u001b[0m     missing_columns \u001b[38;5;241m=\u001b[39m \u001b[38;5;28mset\u001b[39m(df\u001b[38;5;241m.\u001b[39mcolumns) \u001b[38;5;241m-\u001b[39m \u001b[38;5;28mset\u001b[39m(all_cols)\n",
      "\u001b[0;31mValueError\u001b[0m: Input tsv needs required columns: ['anatomical_site_index', 'anatomical_site_label', 'character_label', 'ref', 'var', 'var_read_prob', 'site_category']"
     ]
    }
   ],
   "source": [
    "weights = met.Weights(gen_dist=0.1)\n",
    "print_config = met.PrintConfig(visualize=True, verbose=False, k_best_trees=5)\n",
    "met.calibrate(clone_tree_fns, ref_var_fns, print_config, \n",
    "              output_dir, patients)\n"
   ]
  },
  {
   "cell_type": "markdown",
   "id": "1e58ddea",
   "metadata": {},
   "source": [
    "## Step 3: Use the pickle file outputs for downstream analysis\n",
    "\n",
    "### In addition to the visualizations that Metient provides, we also save pkl.gz files for each Metient run that contain all the results of the run."
   ]
  },
  {
   "cell_type": "code",
   "execution_count": 9,
   "id": "b6122075",
   "metadata": {},
   "outputs": [
    {
     "name": "stdout",
     "output_type": "stream",
     "text": [
      "dict_keys(['ancestral_labelings', 'losses', 'full_tree_node_idx_to_labels', 'full_adjacency_matrices', 'ordered_anatomical_sites', 'loss_dict', 'primary_site', 'subclonal_presence_matrices', 'pars_weights', 'soft_v', 'gen_dist_matrices'])\n",
      "\n",
      "migration graph:\n",
      " tensor([[0., 0.],\n",
      "        [2., 0.]])\n",
      "\n",
      "inferred seeding pattern:\n",
      " polyclonal primary single-source seeding\n"
     ]
    }
   ],
   "source": [
    "import gzip\n",
    "import pickle\n",
    "\n",
    "with gzip.open(os.path.join(output_dir,\"calibrate\", \"CRUK0003_primary_SU_T1.pkl.gz\") ,\"rb\") as f:\n",
    "    pckl = pickle.load(f)\n",
    "print(pckl.keys())\n",
    "\n",
    "# V is the best ancestral labeling\n",
    "V = pckl['ancestral_labelings'][0]\n",
    "# A is the adjacency matrix that is the input clone tree + inferred leaf nodes\n",
    "A = pckl['full_adjacency_matrices'][0]\n",
    "# G represents the migration graph\n",
    "G = met.get_migration_graph(V, A)\n",
    "\n",
    "print(\"\\nmigration graph:\\n\", G)\n",
    "# Get the seeding pattern for this patient (e.g. \"polyconal single-source seeding\")\n",
    "seeding_pattern = met.get_verbose_seeding_pattern(V, A)\n",
    "print(\"\\ninferred seeding pattern:\\n\", seeding_pattern)"
   ]
  }
 ],
 "metadata": {
  "kernelspec": {
   "display_name": "Python [conda env:met]",
   "language": "python",
   "name": "conda-env-met-py"
  },
  "language_info": {
   "codemirror_mode": {
    "name": "ipython",
    "version": 3
   },
   "file_extension": ".py",
   "mimetype": "text/x-python",
   "name": "python",
   "nbconvert_exporter": "python",
   "pygments_lexer": "ipython3",
   "version": "3.8.0"
  }
 },
 "nbformat": 4,
 "nbformat_minor": 5
}
