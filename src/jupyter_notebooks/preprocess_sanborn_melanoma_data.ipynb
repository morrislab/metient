{
 "cells": [
  {
   "cell_type": "code",
   "execution_count": 1,
   "id": "1ceaa2e2",
   "metadata": {},
   "outputs": [],
   "source": [
    "import sys\n",
    "import pandas as pd\n",
    "import fnmatch\n",
    "import os\n",
    "\n",
    "CONFIDENCE = 0.95\n",
    "\n",
    "repo_dir = \"/Users/divyakoyyalagunta/Desktop/Cornell_Research/Morris_Lab/metastatic_history_reconstruction/\"\n",
    "os.chdir(repo_dir)\n",
    "\n",
    "import src.util.create_conf_intervals_from_reads as create_conf\n",
    "\n",
    "# Use read files (contain reference and variant read counts for all samples \n",
    "# and mutation clusters) to generate confidence intervals\n",
    "DATA_DIR = \"/Users/divyakoyyalagunta/Desktop/Cornell_Research/Morris_Lab/metastatic_history_reconstruction/src/data/sanborn_melanoma_2015\""
   ]
  },
  {
   "cell_type": "code",
   "execution_count": 2,
   "id": "9c428ffe",
   "metadata": {},
   "outputs": [
    {
     "data": {
      "text/plain": [
       "['F', 'G', 'E', 'D', 'A', 'C', 'B']"
      ]
     },
     "execution_count": 2,
     "metadata": {},
     "output_type": "execute_result"
    }
   ],
   "source": [
    "patients = fnmatch.filter(os.listdir(DATA_DIR), 'reads_*.tsv')\n",
    "patients = [p.replace(\"reads_\", \"\").replace(\".tsv\", \"\") for p in patients]\n",
    "patients"
   ]
  },
  {
   "cell_type": "code",
   "execution_count": 3,
   "id": "e8e1fef0",
   "metadata": {
    "scrolled": false
   },
   "outputs": [],
   "source": [
    "# Process cluster output produced by running cluster command from machina (https://github.com/raphael-group/machina)\n",
    "# Create clustering files for each patient, where each line has the SNVs \n",
    "# associated with that cluster (line number = cluster number)\n",
    "for patient in patients:\n",
    "    clustering_output_data = pd.read_table(os.path.join(DATA_DIR, f\"machina_cluster_output_{patient}.tsv\"), skiprows=3)\n",
    "    cluster_nums = set(clustering_output_data['character_index'].tolist())\n",
    "    with open(os.path.join(DATA_DIR, f'clustering_{patient}.txt'), 'w') as f:\n",
    "        for cluster_idx in range(len(cluster_nums)):\n",
    "            character_label = clustering_output_data[clustering_output_data['character_index'] == cluster_idx]['character_label'].unique()[0]\n",
    "            f.write(character_label)\n",
    "            f.write(\"\\n\")\n"
   ]
  },
  {
   "cell_type": "code",
   "execution_count": 4,
   "id": "78cc3646",
   "metadata": {
    "scrolled": false
   },
   "outputs": [
    {
     "name": "stdout",
     "output_type": "stream",
     "text": [
      "F\n",
      "num variants: 2136\n",
      "anatomical site labels: ['primary' 'lymph_node' 'locoregional' 'distant']\n",
      "G\n",
      "num variants: 48\n",
      "anatomical site labels: ['primary' 'lung' 'locoregional']\n",
      "E\n",
      "num variants: 59\n",
      "anatomical site labels: ['primary' 'locoregional_1' 'locoregional_2' 'lymph_node' 'locoregional_3']\n",
      "D\n",
      "num variants: 13\n",
      "anatomical site labels: ['primary' 'lymph_node' 'locoregional_1' 'locoregional_2']\n",
      "A\n",
      "num variants: 124\n",
      "anatomical site labels: ['primary' 'parotid_gland' 'locoregional_1' 'locoregional_2']\n",
      "C\n",
      "num variants: 1056\n",
      "anatomical site labels: ['primary' 'locoregional_1' 'locoregional_2']\n",
      "B\n",
      "num variants: 52\n",
      "anatomical site labels: ['primary' 'lymph_node' 'locoregional_1' 'locoregional_2']\n"
     ]
    }
   ],
   "source": [
    "# Create tsv for each patient with ref reads, var reads, and f upper bound and f lower bound\n",
    "# pooled by all SNVs in a cluster\n",
    "cluster_split = lambda cluster_name: [x for x in cluster_name.split(\"_\")]\n",
    "for patient in patients:\n",
    "    print(patient)\n",
    "    create_conf.write(os.path.join(DATA_DIR, f\"reads_{patient}.tsv\"), \n",
    "                      os.path.join(DATA_DIR, f'clustering_{patient}.txt'),\n",
    "                      DATA_DIR,\n",
    "                      cluster_split_function = cluster_split, \n",
    "                      use_char_idx_as_char_label=True)"
   ]
  }
 ],
 "metadata": {
  "kernelspec": {
   "display_name": "Python 3",
   "language": "python",
   "name": "python3"
  },
  "language_info": {
   "codemirror_mode": {
    "name": "ipython",
    "version": 3
   },
   "file_extension": ".py",
   "mimetype": "text/x-python",
   "name": "python",
   "nbconvert_exporter": "python",
   "pygments_lexer": "ipython3",
   "version": "3.8.8"
  }
 },
 "nbformat": 4,
 "nbformat_minor": 5
}
