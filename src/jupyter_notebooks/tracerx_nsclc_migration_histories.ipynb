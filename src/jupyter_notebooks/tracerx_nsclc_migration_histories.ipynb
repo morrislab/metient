{
 "cells": [
  {
   "cell_type": "markdown",
   "id": "fa59fc9a",
   "metadata": {},
   "source": [
    "### Setup paths"
   ]
  },
  {
   "cell_type": "code",
   "execution_count": 1,
   "id": "f795cc97",
   "metadata": {},
   "outputs": [
    {
     "name": "stdout",
     "output_type": "stream",
     "text": [
      "CUDA GPU: False\n"
     ]
    }
   ],
   "source": [
    "import sys\n",
    "import os\n",
    "import seaborn as sns\n",
    "import pandas as pd\n",
    "import torch\n",
    "import matplotlib.pyplot as plt\n",
    "from src.lib import vertex_labeling\n",
    "from src.util import data_extraction_util as data_util\n",
    "from src.util import pairtree_data_extraction_util as pt_util\n",
    "from src.util import vertex_labeling_util as vert_util\n",
    "from src.util import plotting_util as plot_util\n",
    "\n",
    "REPO_DIR = os.path.join(os.getcwd(), \"../../\")\n",
    "os.chdir(REPO_DIR)\n",
    "\n",
    "plt.rcParams['figure.figsize'] = [3, 3]\n",
    "\n",
    "TRACERX_DATA_DIR = os.path.join(repo_dir, 'src/data/tracerx_nsclc/')\n",
    "PT_CLUSTERED_TSVS_DIR = os.path.join(TRACERX_DATA_DIR, 'patient_data', 'pairtree_clustered')\n",
    "PYCLONE_CLUSTERED_TSVS_DIR = os.path.join(TRACERX_DATA_DIR, 'patient_data', 'pyclone_clustered')\n",
    "\n",
    "ORCHARD_TREES_DIR = os.path.join(TRACERX_DATA_DIR, 'orchard_trees')\n",
    "CONIPHER_TREES_DIR = os.path.join(TRACERX_DATA_DIR, 'conipher_outputs', 'TreeBuilding')\n",
    "\n",
    "custom_colors = [\"#6aa84fff\",\"#c27ba0ff\", \"#e69138ff\", \"#be5742e1\", \"#2496c8ff\", \"#674ea7ff\"] + sns.color_palette(\"Paired\").as_hex()\n"
   ]
  },
  {
   "cell_type": "markdown",
   "id": "9833f8bb",
   "metadata": {},
   "source": [
    "### Setup metient hyperparameters"
   ]
  },
  {
   "cell_type": "code",
   "execution_count": 2,
   "id": "c737b525",
   "metadata": {},
   "outputs": [],
   "source": [
    "def find_labeling(ref_var_fn, tree, custom_colors, primary_site, patient_name):    \n",
    "    ref_matrix, var_matrix, unique_sites, idx_to_cluster_label = data_util.get_ref_var_matrices_from_real_data(ref_var_fn)\n",
    "\n",
    "    for ix in idx_to_cluster_label:\n",
    "        og_label_muts = idx_to_cluster_label[ix].split(';') # e.g. CUL3:2:225371655:T;TRPM6:9:77431650:C\n",
    "        if len(og_label_muts) > 3:\n",
    "            og_label_muts = og_label_muts[:3]\n",
    "        gene_names = []\n",
    "        for mut_label in og_label_muts:\n",
    "            gene_names.append(mut_label.split(\":\")[0])\n",
    "        idx_to_cluster_label[ix] = (\"_\").join(gene_names)\n",
    "\n",
    "    print(f\"Anatomical sites: {unique_sites}\")   \n",
    "    primary_idx = unique_sites.index(primary_site)\n",
    "    p = torch.nn.functional.one_hot(torch.tensor([primary_idx]), num_classes=len(unique_sites)).T\n",
    "    weights = vertex_labeling.Weights(data_fit=1.0, mig=3.0, comig=2.0, seed_site=1.0, reg=2.0, gen_dist=0.0)\n",
    "    print_config = plot_util.PrintConfig(visualize=False, verbose=False, viz_intermeds=False, k_best_trees=3)\n",
    "    vertex_labeling.get_migration_history(tree, ref_matrix, var_matrix, unique_sites, p, idx_to_cluster_label, weights,\n",
    "                                          print_config, os.path.join(TRACERX_DATA_DIR, \"metient_outputs\"), patient_name,\n",
    "                                          custom_colors=custom_colors, batch_size=32, max_iter=100)\n",
    "        "
   ]
  },
  {
   "cell_type": "markdown",
   "id": "b9eedb17",
   "metadata": {},
   "source": [
    "### Run metient with PyClone clustering + CONIPHER trees"
   ]
  },
  {
   "cell_type": "code",
   "execution_count": 3,
   "id": "2deed365",
   "metadata": {},
   "outputs": [
    {
     "name": "stdout",
     "output_type": "stream",
     "text": [
      "126 patients, {'CRUK0497', 'CRUK0343', 'CRUK0636', 'CRUK0596', 'CRUK0589', 'CRUK0013', 'CRUK0745', 'CRUK0361', 'CRUK0872', 'CRUK0041', 'CRUK0097', 'CRUK0748', 'CRUK0537', 'CRUK0733', 'CRUK0035', 'CRUK0027', 'CRUK0516', 'CRUK0178', 'CRUK0063', 'CRUK0698', 'CRUK0625', 'CRUK0530', 'CRUK0092', 'CRUK0691', 'CRUK0242', 'CRUK0495', 'CRUK0666', 'CRUK0766', 'CRUK0422', 'CRUK0510', 'CRUK0476', 'CRUK0514', 'CRUK0087', 'CRUK0742', 'CRUK0737', 'CRUK0083', 'CRUK0736', 'CRUK0722', 'CRUK0730', 'CRUK0410', 'CRUK0256', 'CRUK0707', 'CRUK0719', 'CRUK0074', 'CRUK0004', 'CRUK0010', 'CRUK0301', 'CRUK0487', 'CRUK0003', 'CRUK0418', 'CRUK0465', 'CRUK0557', 'CRUK0325', 'CRUK0640', 'CRUK0485', 'CRUK0372', 'CRUK0810', 'CRUK0044', 'CRUK0311', 'CRUK0598', 'CRUK0084', 'CRUK0467', 'CRUK0718', 'CRUK0762', 'CRUK0587', 'CRUK0245', 'CRUK0368', 'CRUK0250', 'CRUK0444', 'CRUK0453', 'CRUK0799', 'CRUK0609', 'CRUK0052', 'CRUK0496', 'CRUK0559', 'CRUK0572', 'CRUK0227', 'CRUK0048', 'CRUK0693', 'CRUK0567', 'CRUK0468', 'CRUK0617', 'CRUK0817', 'CRUK0524', 'CRUK0721', 'CRUK0451', 'CRUK0407', 'CRUK0022', 'CRUK0009', 'CRUK0089', 'CRUK0543', 'CRUK0667', 'CRUK0286', 'CRUK0029', 'CRUK0099', 'CRUK0714', 'CRUK0299', 'CRUK0412', 'CRUK0519', 'CRUK0472', 'CRUK0284', 'CRUK0552', 'CRUK0702', 'CRUK0620', 'CRUK0415', 'CRUK0369', 'CRUK0769', 'CRUK0290', 'CRUK0528', 'CRUK0478', 'CRUK0236', 'CRUK0484', 'CRUK0090', 'CRUK0794', 'CRUK0352', 'CRUK0388', 'CRUK0344', 'CRUK0183', 'CRUK0100', 'CRUK0590', 'CRUK0206', 'CRUK0036', 'CRUK0452', 'CRUK0296', 'CRUK0584', 'CRUK0337'}\n",
      "xxxxxxxxxxxxxxxxxxxxxxxxxxxxxxxxxxxxxxxxxxxx PATIENT CRUK0022 xxxxxxxxxxxxxxxxxxxxxxxxxxxxxxxxxxxxxxxxxxxx\n",
      "Primary site: primary_SU_T1\n",
      "[(5, 1), (6, 2), (4, 3), (0, 4), (0, 5), (4, 6), (1, 7), (3, 8), (7, 9), (8, 10), (2, 11), (8, 12)]\n",
      "13 {0, 1, 2, 3, 4, 5, 6, 7, 8, 9, 10, 11, 12}\n",
      "[(0, 5), (4, 6), (0, 4), (5, 1), (4, 3), (3, 8), (6, 2), (1, 7), (8, 10), (2, 11), (8, 12), (1, 9)]\n",
      "13 {0, 1, 2, 3, 4, 5, 6, 7, 8, 9, 10, 11, 12}\n",
      "[(0, 5), (4, 6), (0, 4), (5, 1), (4, 3), (1, 7), (6, 2), (3, 8), (7, 9), (2, 11), (8, 12), (3, 10)]\n",
      "13 {0, 1, 2, 3, 4, 5, 6, 7, 8, 9, 10, 11, 12}\n",
      "[(0, 5), (4, 6), (0, 4), (5, 1), (4, 3), (1, 7), (3, 8), (6, 2), (2, 11), (7, 9), (8, 10), (11, 12)]\n",
      "13 {0, 1, 2, 3, 4, 5, 6, 7, 8, 9, 10, 11, 12}\n",
      "[(0, 5), (4, 6), (0, 4), (5, 1), (4, 3), (1, 7), (3, 8), (6, 2), (7, 9), (8, 10), (2, 11), (3, 12)]\n",
      "13 {0, 1, 2, 3, 4, 5, 6, 7, 8, 9, 10, 11, 12}\n",
      "[(0, 4), (0, 5), (4, 3), (4, 6), (5, 1), (6, 2), (3, 8), (1, 7), (2, 11), (8, 12), (1, 9), (3, 10)]\n",
      "13 {0, 1, 2, 3, 4, 5, 6, 7, 8, 9, 10, 11, 12}\n",
      "[(0, 4), (0, 5), (4, 3), (4, 6), (5, 1), (3, 8), (6, 2), (1, 7), (8, 10), (2, 11), (1, 9), (6, 12)]\n",
      "13 {0, 1, 2, 3, 4, 5, 6, 7, 8, 9, 10, 11, 12}\n",
      "[(0, 4), (0, 5), (4, 3), (4, 6), (5, 1), (3, 8), (6, 2), (1, 7), (8, 10), (2, 11), (1, 9), (2, 12)]\n",
      "13 {0, 1, 2, 3, 4, 5, 6, 7, 8, 9, 10, 11, 12}\n",
      "[(0, 4), (0, 5), (5, 1), (4, 6), (4, 3), (1, 7), (6, 2), (3, 8), (7, 9), (2, 11), (3, 10), (6, 12)]\n",
      "13 {0, 1, 2, 3, 4, 5, 6, 7, 8, 9, 10, 11, 12}\n",
      "[(0, 4), (0, 5), (5, 1), (4, 6), (4, 3), (1, 7), (6, 2), (3, 8), (7, 9), (2, 11), (3, 10), (2, 12)]\n",
      "13 {0, 1, 2, 3, 4, 5, 6, 7, 8, 9, 10, 11, 12}\n",
      "[(0, 4), (0, 5), (4, 6), (4, 3), (5, 1), (6, 2), (3, 8), (1, 7), (2, 11), (1, 9), (3, 10), (6, 12)]\n",
      "13 {0, 1, 2, 3, 4, 5, 6, 7, 8, 9, 10, 11, 12}\n",
      "[(0, 4), (0, 5), (4, 6), (4, 3), (5, 1), (6, 2), (3, 8), (1, 7), (2, 11), (1, 9), (3, 10), (2, 12)]\n",
      "13 {0, 1, 2, 3, 4, 5, 6, 7, 8, 9, 10, 11, 12}\n",
      "Anatomical sites: ['LN_SU_FLN1', 'primary_SU_T1']\n"
     ]
    },
    {
     "ename": "ValueError",
     "evalue": "Number of mutations/mutation clusters should be consistent (ref_matrix.shape[1] == var_matrix.shape[1] == T.shape[0])",
     "output_type": "error",
     "traceback": [
      "\u001b[0;31m---------------------------------------------------------------------------\u001b[0m",
      "\u001b[0;31mValueError\u001b[0m                                Traceback (most recent call last)",
      "\u001b[0;32m/var/folders/35/l3stl61s6n14w337drj2gt9m0000gn/T/ipykernel_92355/648196499.py\u001b[0m in \u001b[0;36m<module>\u001b[0;34m\u001b[0m\n\u001b[1;32m     26\u001b[0m \u001b[0;34m\u001b[0m\u001b[0m\n\u001b[1;32m     27\u001b[0m \u001b[0mpatients\u001b[0m\u001b[0;34m=\u001b[0m\u001b[0;34m[\u001b[0m\u001b[0;34m'CRUK0022'\u001b[0m\u001b[0;34m]\u001b[0m\u001b[0;34m\u001b[0m\u001b[0;34m\u001b[0m\u001b[0m\n\u001b[0;32m---> 28\u001b[0;31m \u001b[0mrun_patients\u001b[0m\u001b[0;34m(\u001b[0m\u001b[0mlist\u001b[0m\u001b[0;34m(\u001b[0m\u001b[0mpatients\u001b[0m\u001b[0;34m)\u001b[0m\u001b[0;34m)\u001b[0m\u001b[0;34m\u001b[0m\u001b[0;34m\u001b[0m\u001b[0m\n\u001b[0m",
      "\u001b[0;32m/var/folders/35/l3stl61s6n14w337drj2gt9m0000gn/T/ipykernel_92355/648196499.py\u001b[0m in \u001b[0;36mrun_patients\u001b[0;34m(patients)\u001b[0m\n\u001b[1;32m     17\u001b[0m \u001b[0;32mdef\u001b[0m \u001b[0mrun_patients\u001b[0m\u001b[0;34m(\u001b[0m\u001b[0mpatients\u001b[0m\u001b[0;34m)\u001b[0m\u001b[0;34m:\u001b[0m\u001b[0;34m\u001b[0m\u001b[0;34m\u001b[0m\u001b[0m\n\u001b[1;32m     18\u001b[0m     \u001b[0;32mfor\u001b[0m \u001b[0mpatient\u001b[0m \u001b[0;32min\u001b[0m \u001b[0mpatients\u001b[0m\u001b[0;34m:\u001b[0m\u001b[0;34m\u001b[0m\u001b[0;34m\u001b[0m\u001b[0m\n\u001b[0;32m---> 19\u001b[0;31m         \u001b[0mrun_patient\u001b[0m\u001b[0;34m(\u001b[0m\u001b[0mpatient\u001b[0m\u001b[0;34m)\u001b[0m\u001b[0;34m\u001b[0m\u001b[0;34m\u001b[0m\u001b[0m\n\u001b[0m\u001b[1;32m     20\u001b[0m \u001b[0;34m\u001b[0m\u001b[0m\n\u001b[1;32m     21\u001b[0m \u001b[0mpatients\u001b[0m \u001b[0;34m=\u001b[0m \u001b[0mset\u001b[0m\u001b[0;34m(\u001b[0m\u001b[0;34m)\u001b[0m\u001b[0;34m\u001b[0m\u001b[0;34m\u001b[0m\u001b[0m\n",
      "\u001b[0;32m/var/folders/35/l3stl61s6n14w337drj2gt9m0000gn/T/ipykernel_92355/648196499.py\u001b[0m in \u001b[0;36mrun_patient\u001b[0;34m(patient)\u001b[0m\n\u001b[1;32m     13\u001b[0m         \u001b[0mtree_fn\u001b[0m \u001b[0;34m=\u001b[0m \u001b[0mos\u001b[0m\u001b[0;34m.\u001b[0m\u001b[0mpath\u001b[0m\u001b[0;34m.\u001b[0m\u001b[0mjoin\u001b[0m\u001b[0;34m(\u001b[0m\u001b[0mCONIPHER_TREES_DIR\u001b[0m\u001b[0;34m,\u001b[0m \u001b[0;34mf\"{patient}_conipher_SNVsallTrees.txt\"\u001b[0m\u001b[0;34m)\u001b[0m\u001b[0;34m\u001b[0m\u001b[0;34m\u001b[0m\u001b[0m\n\u001b[1;32m     14\u001b[0m         \u001b[0mtrees\u001b[0m \u001b[0;34m=\u001b[0m \u001b[0mdata_util\u001b[0m\u001b[0;34m.\u001b[0m\u001b[0mget_adj_matrices_from_all_conipher_trees\u001b[0m\u001b[0;34m(\u001b[0m\u001b[0mtree_fn\u001b[0m\u001b[0;34m)\u001b[0m\u001b[0;34m\u001b[0m\u001b[0;34m\u001b[0m\u001b[0m\n\u001b[0;32m---> 15\u001b[0;31m         \u001b[0mfind_labeling\u001b[0m\u001b[0;34m(\u001b[0m\u001b[0mtsv_fn\u001b[0m\u001b[0;34m,\u001b[0m \u001b[0mtrees\u001b[0m\u001b[0;34m[\u001b[0m\u001b[0;36m0\u001b[0m\u001b[0;34m]\u001b[0m\u001b[0;34m,\u001b[0m \u001b[0mcustom_colors\u001b[0m\u001b[0;34m,\u001b[0m \u001b[0mprimary_site\u001b[0m\u001b[0;34m,\u001b[0m \u001b[0mrun_name\u001b[0m\u001b[0;34m)\u001b[0m\u001b[0;34m\u001b[0m\u001b[0;34m\u001b[0m\u001b[0m\n\u001b[0m\u001b[1;32m     16\u001b[0m \u001b[0;34m\u001b[0m\u001b[0m\n\u001b[1;32m     17\u001b[0m \u001b[0;32mdef\u001b[0m \u001b[0mrun_patients\u001b[0m\u001b[0;34m(\u001b[0m\u001b[0mpatients\u001b[0m\u001b[0;34m)\u001b[0m\u001b[0;34m:\u001b[0m\u001b[0;34m\u001b[0m\u001b[0;34m\u001b[0m\u001b[0m\n",
      "\u001b[0;32m/var/folders/35/l3stl61s6n14w337drj2gt9m0000gn/T/ipykernel_92355/1810311679.py\u001b[0m in \u001b[0;36mfind_labeling\u001b[0;34m(ref_var_fn, tree, custom_colors, primary_site, patient_name)\u001b[0m\n\u001b[1;32m     18\u001b[0m     vertex_labeling.get_migration_history(tree, ref_matrix, var_matrix, unique_sites, p, idx_to_cluster_label, weights,\n\u001b[1;32m     19\u001b[0m                                           \u001b[0mprint_config\u001b[0m\u001b[0;34m,\u001b[0m \u001b[0mos\u001b[0m\u001b[0;34m.\u001b[0m\u001b[0mpath\u001b[0m\u001b[0;34m.\u001b[0m\u001b[0mjoin\u001b[0m\u001b[0;34m(\u001b[0m\u001b[0mTRACERX_DATA_DIR\u001b[0m\u001b[0;34m,\u001b[0m \u001b[0;34m\"metient_outputs\"\u001b[0m\u001b[0;34m)\u001b[0m\u001b[0;34m,\u001b[0m \u001b[0mpatient_name\u001b[0m\u001b[0;34m,\u001b[0m\u001b[0;34m\u001b[0m\u001b[0;34m\u001b[0m\u001b[0m\n\u001b[0;32m---> 20\u001b[0;31m                                           custom_colors=custom_colors, batch_size=32, max_iter=100)\n\u001b[0m\u001b[1;32m     21\u001b[0m \u001b[0;34m\u001b[0m\u001b[0m\n",
      "\u001b[0;32m~/Desktop/Cornell_Research/Morris_Lab/met_history_prediction/src/lib/vertex_labeling.py\u001b[0m in \u001b[0;36mget_migration_history\u001b[0;34m(T, ref_matrix, var_matrix, ordered_sites, p, node_idx_to_label, weights, print_config, output_dir, run_name, G, O, max_iter, lr, init_temp, final_temp, batch_size, custom_colors, weight_init_primary, lr_sched)\u001b[0m\n\u001b[1;32m    394\u001b[0m         \u001b[0;32mraise\u001b[0m \u001b[0mValueError\u001b[0m\u001b[0;34m(\u001b[0m\u001b[0;34mf\"ref_matrix and var_matrix must have identical shape, got {ref_matrix.shape} and {var_matrix.shape}\"\u001b[0m\u001b[0;34m)\u001b[0m\u001b[0;34m\u001b[0m\u001b[0;34m\u001b[0m\u001b[0m\n\u001b[1;32m    395\u001b[0m     \u001b[0;32mif\u001b[0m \u001b[0;32mnot\u001b[0m \u001b[0;34m(\u001b[0m\u001b[0mref_matrix\u001b[0m\u001b[0;34m.\u001b[0m\u001b[0mshape\u001b[0m\u001b[0;34m[\u001b[0m\u001b[0;36m1\u001b[0m\u001b[0;34m]\u001b[0m \u001b[0;34m==\u001b[0m \u001b[0mvar_matrix\u001b[0m\u001b[0;34m.\u001b[0m\u001b[0mshape\u001b[0m\u001b[0;34m[\u001b[0m\u001b[0;36m1\u001b[0m\u001b[0;34m]\u001b[0m \u001b[0;34m==\u001b[0m \u001b[0mT\u001b[0m\u001b[0;34m.\u001b[0m\u001b[0mshape\u001b[0m\u001b[0;34m[\u001b[0m\u001b[0;36m0\u001b[0m\u001b[0;34m]\u001b[0m\u001b[0;34m)\u001b[0m\u001b[0;34m:\u001b[0m\u001b[0;34m\u001b[0m\u001b[0;34m\u001b[0m\u001b[0m\n\u001b[0;32m--> 396\u001b[0;31m         \u001b[0;32mraise\u001b[0m \u001b[0mValueError\u001b[0m\u001b[0;34m(\u001b[0m\u001b[0;34mf\"Number of mutations/mutation clusters should be consistent (ref_matrix.shape[1] == var_matrix.shape[1] == T.shape[0])\"\u001b[0m\u001b[0;34m)\u001b[0m\u001b[0;34m\u001b[0m\u001b[0;34m\u001b[0m\u001b[0m\n\u001b[0m\u001b[1;32m    397\u001b[0m     \u001b[0;32mif\u001b[0m \u001b[0;32mnot\u001b[0m \u001b[0;34m(\u001b[0m\u001b[0mref_matrix\u001b[0m\u001b[0;34m.\u001b[0m\u001b[0mshape\u001b[0m\u001b[0;34m[\u001b[0m\u001b[0;36m0\u001b[0m\u001b[0;34m]\u001b[0m \u001b[0;34m==\u001b[0m \u001b[0mvar_matrix\u001b[0m\u001b[0;34m.\u001b[0m\u001b[0mshape\u001b[0m\u001b[0;34m[\u001b[0m\u001b[0;36m0\u001b[0m\u001b[0;34m]\u001b[0m \u001b[0;34m==\u001b[0m \u001b[0mlen\u001b[0m\u001b[0;34m(\u001b[0m\u001b[0mordered_sites\u001b[0m\u001b[0;34m)\u001b[0m\u001b[0;34m)\u001b[0m\u001b[0;34m:\u001b[0m\u001b[0;34m\u001b[0m\u001b[0;34m\u001b[0m\u001b[0m\n\u001b[1;32m    398\u001b[0m         \u001b[0;32mraise\u001b[0m \u001b[0mValueError\u001b[0m\u001b[0;34m(\u001b[0m\u001b[0;34mf\"Length of ordered_sites should be equal to ref_matrix and var_matrix dim 0\"\u001b[0m\u001b[0;34m)\u001b[0m\u001b[0;34m\u001b[0m\u001b[0;34m\u001b[0m\u001b[0m\n",
      "\u001b[0;31mValueError\u001b[0m: Number of mutations/mutation clusters should be consistent (ref_matrix.shape[1] == var_matrix.shape[1] == T.shape[0])"
     ]
    }
   ],
   "source": [
    "def run_patient(patient):\n",
    "    space = \"x\"*44\n",
    "    tsv_fn = os.path.join(PYCLONE_CLUSTERED_TSVS_DIR, f\"{patient}_clustered_SNVs.tsv\")\n",
    "    print(f\"{space} PATIENT {patient} {space}\")\n",
    "    df = pd.read_csv(tsv_fn, delimiter=\"\\t\")\n",
    "    primary_sites = list(df[df['sample_type']=='primary']['anatomical_site_label'].unique())\n",
    "    if (len(primary_sites) > 1):\n",
    "        print(\"*Multiple primary samples, running metient once for each possible primary*\")\n",
    "    conipher_tree = data_util\n",
    "    for primary_site in primary_sites:\n",
    "        print(f\"Primary site: {primary_site}\")\n",
    "        run_name = f\"{patient}_{primary_site}\"\n",
    "        tree_fn = os.path.join(CONIPHER_TREES_DIR, f\"{patient}_conipher_SNVsallTrees.txt\")\n",
    "        trees = data_util.get_adj_matrices_from_all_conipher_trees(tree_fn)\n",
    "        find_labeling(tsv_fn, trees[0], custom_colors, primary_site, run_name)\n",
    "    \n",
    "def run_patients(patients):\n",
    "    for patient in patients:\n",
    "        run_patient(patient)\n",
    "\n",
    "patients = set()\n",
    "for file in os.listdir(PYCLONE_CLUSTERED_TSVS_DIR):\n",
    "    if \".tsv\" in file:\n",
    "        patients.add(file.split(\"_\")[0])\n",
    "print(f\"{len(patients)} patients, {patients}\")\n",
    "\n",
    "patients=['CRUK0022']\n",
    "run_patients(list(patients))\n"
   ]
  },
  {
   "cell_type": "markdown",
   "id": "8ca26919",
   "metadata": {},
   "source": [
    "### Run metient with pairtree clustering + orchard trees"
   ]
  },
  {
   "cell_type": "code",
   "execution_count": 2,
   "id": "5756f336",
   "metadata": {
    "scrolled": true
   },
   "outputs": [
    {
     "name": "stdout",
     "output_type": "stream",
     "text": [
      "126 patients, {'CRUK0344_clustered', 'CRUK0620_clustered', 'CRUK0444_clustered', 'CRUK0799_clustered', 'CRUK0468_clustered', 'CRUK0035_clustered', 'CRUK0625_clustered', 'CRUK0666_clustered', 'CRUK0227_clustered', 'CRUK0598_clustered', 'CRUK0485_clustered', 'CRUK0698_clustered', 'CRUK0084_clustered', 'CRUK0872_clustered', 'CRUK0467_clustered', 'CRUK0794_clustered', 'CRUK0487_clustered', 'CRUK0290_clustered', 'CRUK0083_clustered', 'CRUK0497_clustered', 'CRUK0009_clustered', 'CRUK0004_clustered', 'CRUK0745_clustered', 'CRUK0516_clustered', 'CRUK0496_clustered', 'CRUK0730_clustered', 'CRUK0572_clustered', 'CRUK0719_clustered', 'CRUK0609_clustered', 'CRUK0284_clustered', 'CRUK0097_clustered', 'CRUK0530_clustered', 'CRUK0183_clustered', 'CRUK0810_clustered', 'CRUK0714_clustered', 'CRUK0510_clustered', 'CRUK0451_clustered', 'CRUK0590_clustered', 'CRUK0736_clustered', 'CRUK0722_clustered', 'CRUK0048_clustered', 'CRUK0388_clustered', 'CRUK0769_clustered', 'CRUK0528_clustered', 'CRUK0707_clustered', 'CRUK0092_clustered', 'CRUK0567_clustered', 'CRUK0742_clustered', 'CRUK0003_clustered', 'CRUK0478_clustered', 'CRUK0013_clustered', 'CRUK0667_clustered', 'CRUK0407_clustered', 'CRUK0748_clustered', 'CRUK0245_clustered', 'CRUK0256_clustered', 'CRUK0472_clustered', 'CRUK0242_clustered', 'CRUK0361_clustered', 'CRUK0372_clustered', 'CRUK0087_clustered', 'CRUK0718_clustered', 'CRUK0337_clustered', 'CRUK0286_clustered', 'CRUK0299_clustered', 'CRUK0099_clustered', 'CRUK0693_clustered', 'CRUK0452_clustered', 'CRUK0617_clustered', 'CRUK0587_clustered', 'CRUK0089_clustered', 'CRUK0817_clustered', 'CRUK0537_clustered', 'CRUK0514_clustered', 'CRUK0702_clustered', 'CRUK0762_clustered', 'CRUK0178_clustered', 'CRUK0495_clustered', 'CRUK0236_clustered', 'CRUK0301_clustered', 'CRUK0636_clustered', 'CRUK0484_clustered', 'CRUK0410_clustered', 'CRUK0691_clustered', 'CRUK0737_clustered', 'CRUK0766_clustered', 'CRUK0206_clustered', 'CRUK0369_clustered', 'CRUK0100_clustered', 'CRUK0596_clustered', 'CRUK0584_clustered', 'CRUK0063_clustered', 'CRUK0453_clustered', 'CRUK0029_clustered', 'CRUK0325_clustered', 'CRUK0465_clustered', 'CRUK0090_clustered', 'CRUK0557_clustered', 'CRUK0027_clustered', 'CRUK0412_clustered', 'CRUK0036_clustered', 'CRUK0721_clustered', 'CRUK0415_clustered', 'CRUK0352_clustered', 'CRUK0044_clustered', 'CRUK0250_clustered', 'CRUK0052_clustered', 'CRUK0552_clustered', 'CRUK0074_clustered', 'CRUK0343_clustered', 'CRUK0296_clustered', 'CRUK0519_clustered', 'CRUK0418_clustered', 'CRUK0589_clustered', 'CRUK0543_clustered', 'CRUK0476_clustered', 'CRUK0010_clustered', 'CRUK0422_clustered', 'CRUK0041_clustered', 'CRUK0733_clustered', 'CRUK0640_clustered', 'CRUK0022_clustered', 'CRUK0311_clustered', 'CRUK0368_clustered', 'CRUK0559_clustered', 'CRUK0524_clustered'}\n",
      "xxxxxxxxxxxxxxxxxxxxxxxxxxxxxxxxxxxxxxxxxxxx PATIENT CRUK0344_clustered xxxxxxxxxxxxxxxxxxxxxxxxxxxxxxxxxxxxxxxxxxxx\n",
      "Primary site: primary_SU_T1\n"
     ]
    },
    {
     "ename": "NameError",
     "evalue": "name 'find_labeling' is not defined",
     "output_type": "error",
     "traceback": [
      "\u001b[0;31m---------------------------------------------------------------------------\u001b[0m",
      "\u001b[0;31mNameError\u001b[0m                                 Traceback (most recent call last)",
      "\u001b[0;32m/var/folders/35/l3stl61s6n14w337drj2gt9m0000gn/T/ipykernel_91740/2673410813.py\u001b[0m in \u001b[0;36m<module>\u001b[0;34m\u001b[0m\n\u001b[1;32m     26\u001b[0m \u001b[0mprint\u001b[0m\u001b[0;34m(\u001b[0m\u001b[0;34mf\"{len(patients)} patients, {patients}\"\u001b[0m\u001b[0;34m)\u001b[0m\u001b[0;34m\u001b[0m\u001b[0;34m\u001b[0m\u001b[0m\n\u001b[1;32m     27\u001b[0m \u001b[0;34m\u001b[0m\u001b[0m\n\u001b[0;32m---> 28\u001b[0;31m \u001b[0mrun_patients\u001b[0m\u001b[0;34m(\u001b[0m\u001b[0mlist\u001b[0m\u001b[0;34m(\u001b[0m\u001b[0mpatients\u001b[0m\u001b[0;34m)\u001b[0m\u001b[0;34m)\u001b[0m\u001b[0;34m\u001b[0m\u001b[0;34m\u001b[0m\u001b[0m\n\u001b[0m",
      "\u001b[0;32m/var/folders/35/l3stl61s6n14w337drj2gt9m0000gn/T/ipykernel_91740/2673410813.py\u001b[0m in \u001b[0;36mrun_patients\u001b[0;34m(patients)\u001b[0m\n\u001b[1;32m     18\u001b[0m \u001b[0;32mdef\u001b[0m \u001b[0mrun_patients\u001b[0m\u001b[0;34m(\u001b[0m\u001b[0mpatients\u001b[0m\u001b[0;34m)\u001b[0m\u001b[0;34m:\u001b[0m\u001b[0;34m\u001b[0m\u001b[0;34m\u001b[0m\u001b[0m\n\u001b[1;32m     19\u001b[0m     \u001b[0;32mfor\u001b[0m \u001b[0mpatient\u001b[0m \u001b[0;32min\u001b[0m \u001b[0mpatients\u001b[0m\u001b[0;34m:\u001b[0m\u001b[0;34m\u001b[0m\u001b[0;34m\u001b[0m\u001b[0m\n\u001b[0;32m---> 20\u001b[0;31m         \u001b[0mrun_patient\u001b[0m\u001b[0;34m(\u001b[0m\u001b[0mpatient\u001b[0m\u001b[0;34m)\u001b[0m\u001b[0;34m\u001b[0m\u001b[0;34m\u001b[0m\u001b[0m\n\u001b[0m\u001b[1;32m     21\u001b[0m \u001b[0;34m\u001b[0m\u001b[0m\n\u001b[1;32m     22\u001b[0m \u001b[0mpatients\u001b[0m \u001b[0;34m=\u001b[0m \u001b[0mset\u001b[0m\u001b[0;34m(\u001b[0m\u001b[0;34m)\u001b[0m\u001b[0;34m\u001b[0m\u001b[0;34m\u001b[0m\u001b[0m\n",
      "\u001b[0;32m/var/folders/35/l3stl61s6n14w337drj2gt9m0000gn/T/ipykernel_91740/2673410813.py\u001b[0m in \u001b[0;36mrun_patient\u001b[0;34m(patient)\u001b[0m\n\u001b[1;32m     14\u001b[0m         \u001b[0mdata\u001b[0m \u001b[0;34m=\u001b[0m \u001b[0mpt_util\u001b[0m\u001b[0;34m.\u001b[0m\u001b[0mget_adj_matrices_from_pairtree_results\u001b[0m\u001b[0;34m(\u001b[0m\u001b[0mtree_fn\u001b[0m\u001b[0;34m)\u001b[0m\u001b[0;34m\u001b[0m\u001b[0;34m\u001b[0m\u001b[0m\n\u001b[1;32m     15\u001b[0m         \u001b[0mtree\u001b[0m\u001b[0;34m,\u001b[0m \u001b[0m_\u001b[0m \u001b[0;34m=\u001b[0m \u001b[0mdata\u001b[0m\u001b[0;34m[\u001b[0m\u001b[0;36m0\u001b[0m\u001b[0;34m]\u001b[0m \u001b[0;31m# Use best tree\u001b[0m\u001b[0;34m\u001b[0m\u001b[0;34m\u001b[0m\u001b[0m\n\u001b[0;32m---> 16\u001b[0;31m         \u001b[0mfind_labeling\u001b[0m\u001b[0;34m(\u001b[0m\u001b[0mtsv_fn\u001b[0m\u001b[0;34m,\u001b[0m \u001b[0mtree\u001b[0m\u001b[0;34m,\u001b[0m \u001b[0mcustom_colors\u001b[0m\u001b[0;34m,\u001b[0m \u001b[0mprimary_site\u001b[0m\u001b[0;34m,\u001b[0m \u001b[0mrun_name\u001b[0m\u001b[0;34m)\u001b[0m\u001b[0;34m\u001b[0m\u001b[0;34m\u001b[0m\u001b[0m\n\u001b[0m\u001b[1;32m     17\u001b[0m \u001b[0;34m\u001b[0m\u001b[0m\n\u001b[1;32m     18\u001b[0m \u001b[0;32mdef\u001b[0m \u001b[0mrun_patients\u001b[0m\u001b[0;34m(\u001b[0m\u001b[0mpatients\u001b[0m\u001b[0;34m)\u001b[0m\u001b[0;34m:\u001b[0m\u001b[0;34m\u001b[0m\u001b[0;34m\u001b[0m\u001b[0m\n",
      "\u001b[0;31mNameError\u001b[0m: name 'find_labeling' is not defined"
     ]
    }
   ],
   "source": [
    "def run_patient(patient):\n",
    "    space = \"x\"*44\n",
    "    tsv_fn = os.path.join(PT_CLUSTERED_TSVS_DIR, f\"{patient}_SNVs.tsv\")\n",
    "    print(f\"{space} PATIENT {patient} {space}\")\n",
    "    df = pd.read_csv(tsv_fn, delimiter=\"\\t\")\n",
    "    primary_sites = list(df[df['sample_type']=='primary']['anatomical_site_label'].unique())\n",
    "    if (len(primary_sites) > 1):\n",
    "        print(\"*Multiple primary samples, running metient once for each possible primary*\")\n",
    "\n",
    "    for primary_site in primary_sites:\n",
    "        print(f\"Primary site: {primary_site}\")\n",
    "        run_name = f\"{patient}_{primary_site}\"\n",
    "        tree_fn = os.path.join(ORCHARD_TREES_DIR, f\"{patient}.results.npz\")\n",
    "        data = pt_util.get_adj_matrices_from_pairtree_results(tree_fn)\n",
    "        tree, _ = data[0] # Use best tree\n",
    "        find_labeling(tsv_fn, tree, custom_colors, primary_site, run_name)\n",
    "    \n",
    "def run_patients(patients):\n",
    "    for patient in patients:\n",
    "        run_patient(patient)\n",
    "\n",
    "patients = set()\n",
    "for file in os.listdir(ORCHARD_TREES_DIR):\n",
    "    if \"_clustered.results.npz\" in file:\n",
    "        patients.add(file.split(\".\")[0])\n",
    "print(f\"{len(patients)} patients, {patients}\")\n",
    "\n",
    "run_patients(list(patients))"
   ]
  },
  {
   "cell_type": "code",
   "execution_count": null,
   "id": "d823eead",
   "metadata": {},
   "outputs": [],
   "source": []
  }
 ],
 "metadata": {
  "kernelspec": {
   "display_name": "Python [conda env:metf] *",
   "language": "python",
   "name": "conda-env-metf-py"
  },
  "language_info": {
   "codemirror_mode": {
    "name": "ipython",
    "version": 3
   },
   "file_extension": ".py",
   "mimetype": "text/x-python",
   "name": "python",
   "nbconvert_exporter": "python",
   "pygments_lexer": "ipython3",
   "version": "3.7.12"
  }
 },
 "nbformat": 4,
 "nbformat_minor": 5
}
