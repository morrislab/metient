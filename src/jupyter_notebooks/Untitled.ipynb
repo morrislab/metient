{
 "cells": [
  {
   "cell_type": "code",
   "execution_count": 1,
   "id": "7cfe0a0b",
   "metadata": {},
   "outputs": [
    {
     "name": "stderr",
     "output_type": "stream",
     "text": [
      "16:59:51 INFO\n",
      "\r",
      "NumExpr defaulting to 8 threads.\n"
     ]
    },
    {
     "name": "stdout",
     "output_type": "stream",
     "text": [
      "CUDA GPU: False\n"
     ]
    }
   ],
   "source": [
    "import os \n",
    "import torch\n",
    "from src.util import plotting_util as plot_util\n",
    "from src.lib import vertex_labeling\n",
    "from src.util import data_extraction_util as data_util\n",
    "from src.util import pairtree_data_extraction_util as pt_util\n",
    "\n",
    "npz = os.path.join(\"/Users/divyakoyyalagunta/Desktop/\", \"P-0035156_IMPACT505.orchard.npz\")\n",
    "tsv = os.path.join(\"/Users/divyakoyyalagunta/Desktop/\", \"P-0035156_IMPACT505_clustered_SNVs.tsv\")\n"
   ]
  },
  {
   "cell_type": "code",
   "execution_count": 2,
   "id": "90565e6f",
   "metadata": {},
   "outputs": [
    {
     "name": "stdout",
     "output_type": "stream",
     "text": [
      "{0: 'EGFR p.L858R', 1: 'TP53 p.E171*', 2: 'IGF1R p.V1176M', 3: 'TP53 p.E171*'}\n",
      "Anatomical sites: ['lung', 'bone']\n"
     ]
    },
    {
     "ename": "ValueError",
     "evalue": "Labels in node_idx_to_label should be unique, got: ['EGFR p.L858R', 'TP53 p.E171*', 'IGF1R p.V1176M', 'TP53 p.E171*']",
     "output_type": "error",
     "traceback": [
      "\u001b[0;31m---------------------------------------------------------------------------\u001b[0m",
      "\u001b[0;31mValueError\u001b[0m                                Traceback (most recent call last)",
      "\u001b[0;32m/var/folders/35/l3stl61s6n14w337drj2gt9m0000gn/T/ipykernel_6517/2447306648.py\u001b[0m in \u001b[0;36m<module>\u001b[0;34m\u001b[0m\n\u001b[1;32m     15\u001b[0m vertex_labeling.get_migration_history(tree, ref_matrix, var_matrix, unique_sites, p, idx_to_cluster_label, weights,\n\u001b[1;32m     16\u001b[0m                                       \u001b[0mprint_config\u001b[0m\u001b[0;34m,\u001b[0m \u001b[0mos\u001b[0m\u001b[0;34m.\u001b[0m\u001b[0mpath\u001b[0m\u001b[0;34m.\u001b[0m\u001b[0mjoin\u001b[0m\u001b[0;34m(\u001b[0m\u001b[0;34m\"/Users/divyakoyyalagunta/Desktop/\"\u001b[0m\u001b[0;34m)\u001b[0m\u001b[0;34m,\u001b[0m \u001b[0mpatient_name\u001b[0m\u001b[0;34m,\u001b[0m\u001b[0;34m\u001b[0m\u001b[0;34m\u001b[0m\u001b[0m\n\u001b[0;32m---> 17\u001b[0;31m                                       batch_size=32, max_iter=100)\n\u001b[0m",
      "\u001b[0;32m~/Desktop/Cornell_Research/Morris_Lab/met_history_prediction/src/lib/vertex_labeling.py\u001b[0m in \u001b[0;36mget_migration_history\u001b[0;34m(T, ref_matrix, var_matrix, ordered_sites, p, node_idx_to_label, weights, print_config, output_dir, run_name, G, O, max_iter, lr, init_temp, final_temp, batch_size, custom_colors, weight_init_primary, lr_sched)\u001b[0m\n\u001b[1;32m    403\u001b[0m     \u001b[0;31m# TODO: should we enforce this? would people want no labels?\u001b[0m\u001b[0;34m\u001b[0m\u001b[0;34m\u001b[0m\u001b[0;34m\u001b[0m\u001b[0m\n\u001b[1;32m    404\u001b[0m     \u001b[0;32mif\u001b[0m \u001b[0;32mnot\u001b[0m \u001b[0mlen\u001b[0m\u001b[0;34m(\u001b[0m\u001b[0mnode_idx_to_label\u001b[0m\u001b[0;34m.\u001b[0m\u001b[0mvalues\u001b[0m\u001b[0;34m(\u001b[0m\u001b[0;34m)\u001b[0m\u001b[0;34m)\u001b[0m \u001b[0;34m==\u001b[0m \u001b[0mlen\u001b[0m\u001b[0;34m(\u001b[0m\u001b[0mset\u001b[0m\u001b[0;34m(\u001b[0m\u001b[0mlist\u001b[0m\u001b[0;34m(\u001b[0m\u001b[0mnode_idx_to_label\u001b[0m\u001b[0;34m.\u001b[0m\u001b[0mvalues\u001b[0m\u001b[0;34m(\u001b[0m\u001b[0;34m)\u001b[0m\u001b[0;34m)\u001b[0m\u001b[0;34m)\u001b[0m\u001b[0;34m)\u001b[0m\u001b[0;34m:\u001b[0m\u001b[0;34m\u001b[0m\u001b[0;34m\u001b[0m\u001b[0m\n\u001b[0;32m--> 405\u001b[0;31m         \u001b[0;32mraise\u001b[0m \u001b[0mValueError\u001b[0m\u001b[0;34m(\u001b[0m\u001b[0;34mf\"Labels in node_idx_to_label should be unique, got: {list(node_idx_to_label.values())}\"\u001b[0m\u001b[0;34m)\u001b[0m\u001b[0;34m\u001b[0m\u001b[0;34m\u001b[0m\u001b[0m\n\u001b[0m\u001b[1;32m    406\u001b[0m \u001b[0;34m\u001b[0m\u001b[0m\n\u001b[1;32m    407\u001b[0m     \u001b[0mB\u001b[0m \u001b[0;34m=\u001b[0m \u001b[0mvert_util\u001b[0m\u001b[0;34m.\u001b[0m\u001b[0mget_mutation_matrix_tensor\u001b[0m\u001b[0;34m(\u001b[0m\u001b[0mT\u001b[0m\u001b[0;34m)\u001b[0m\u001b[0;34m\u001b[0m\u001b[0;34m\u001b[0m\u001b[0m\n",
      "\u001b[0;31mValueError\u001b[0m: Labels in node_idx_to_label should be unique, got: ['EGFR p.L858R', 'TP53 p.E171*', 'IGF1R p.V1176M', 'TP53 p.E171*']"
     ]
    }
   ],
   "source": [
    "primary_site = \"lung\"\n",
    "patient_name='P-0035156'\n",
    "data = pt_util.get_adj_matrices_from_pairtree_results(npz)\n",
    "tree, _ = data[0] # Use best tree\n",
    "ref_matrix, var_matrix, unique_sites, idx_to_cluster_label = data_util.get_ref_var_matrices_from_real_data(tsv)\n",
    "    \n",
    "idx_to_cluster_label = {k:(\" \").join(v.split('_')[0:2]) for k,v in idx_to_cluster_label.items()}\n",
    "print(idx_to_cluster_label)\n",
    "\n",
    "print(f\"Anatomical sites: {unique_sites}\")   \n",
    "primary_idx = unique_sites.index(primary_site)\n",
    "p = torch.nn.functional.one_hot(torch.tensor([primary_idx]), num_classes=len(unique_sites)).T\n",
    "weights = vertex_labeling.Weights(data_fit=1.0, mig=3.0, comig=2.0, seed_site=1.0, reg=2.0, gen_dist=0.0)\n",
    "print_config = plot_util.PrintConfig(visualize=False, verbose=False, viz_intermeds=False, k_best_trees=3)\n",
    "vertex_labeling.get_migration_history(tree, ref_matrix, var_matrix, unique_sites, p, idx_to_cluster_label, weights,\n",
    "                                      print_config, os.path.join(\"/Users/divyakoyyalagunta/Desktop/\"), patient_name,\n",
    "                                      batch_size=32, max_iter=100)\n"
   ]
  }
 ],
 "metadata": {
  "kernelspec": {
   "display_name": "Python [conda env:metf] *",
   "language": "python",
   "name": "conda-env-metf-py"
  },
  "language_info": {
   "codemirror_mode": {
    "name": "ipython",
    "version": 3
   },
   "file_extension": ".py",
   "mimetype": "text/x-python",
   "name": "python",
   "nbconvert_exporter": "python",
   "pygments_lexer": "ipython3",
   "version": "3.7.12"
  }
 },
 "nbformat": 4,
 "nbformat_minor": 5
}
