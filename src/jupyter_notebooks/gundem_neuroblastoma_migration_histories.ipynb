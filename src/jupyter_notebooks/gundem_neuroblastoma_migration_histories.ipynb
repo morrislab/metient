{
 "cells": [
  {
   "cell_type": "code",
   "execution_count": 1,
   "id": "720ae524",
   "metadata": {},
   "outputs": [
    {
     "name": "stdout",
     "output_type": "stream",
     "text": [
      "CUDA GPU: False\n",
      "CUDA GPU: False\n",
      "CUDA GPU: False\n",
      "CUDA GPU: False\n"
     ]
    }
   ],
   "source": [
    "# Test migration history reconstruction on Gundem et. al. Neuroblastoma data\n",
    "\n",
    "import sys\n",
    "import os\n",
    "import seaborn as sns\n",
    "\n",
    "repo_dir = \"/Users/divyakoyyalagunta/Desktop/Cornell_Research/Morris_Lab/met_history_prediction/\"\n",
    "os.chdir(repo_dir)\n",
    "from src.lib import vertex_labeling\n",
    "\n",
    "from src.util import data_extraction_util as data_util\n",
    "from src.util import pairtree_data_extraction_util as pt_util\n",
    "from src.util import vertex_labeling_util as vert_util\n",
    "from src.util.plotting_util import PrintConfig\n",
    "\n",
    "import matplotlib\n",
    "import torch\n",
    "\n",
    "import matplotlib.pyplot as plt\n",
    "plt.rcParams['figure.figsize'] = [3, 3]\n",
    "\n",
    "GUNDEM_DATA_DIR = os.path.join(repo_dir, 'src/data/gundem_neuroblastoma_2023/patient_driver_genes')\n",
    "PAIRTREE_TREES_DIR = os.path.join(GUNDEM_DATA_DIR, 'pairtree_trees')\n",
    "custom_colors = [\"#6aa84fff\",\"#c27ba0ff\", \"#e69138ff\", \"#be5742e1\", \"#2496c8ff\", \"#674ea7ff\"] + sns.color_palette(\"Paired\").as_hex()\n"
   ]
  },
  {
   "cell_type": "code",
   "execution_count": 2,
   "id": "c22e3dca",
   "metadata": {},
   "outputs": [],
   "source": [
    "import networkx as nx\n",
    "import numpy as np\n",
    "\n",
    "\n",
    "def find_labeling(ref_var_fn, pairtree_results_fn, custom_colors, primary_site):    \n",
    "    ref_matrix, var_matrix, unique_sites, cluster_label_to_idx = data_util.get_ref_var_matrices_from_real_data(ref_var_fn)\n",
    "    print(\"ref_matrix\", ref_matrix)\n",
    "    print(\"var_matrix\", var_matrix)\n",
    "    print(\"unique_sites\", unique_sites)\n",
    "    print(\"cluster_label_to_idx\", cluster_label_to_idx)\n",
    "    data = pt_util.get_adj_matrices_from_pairtree_results(pairtree_results_fn)\n",
    "    if len(data) >= 3: # Look at top 3 trees\n",
    "        print(f\"Using top 3 of {len(data)} inferred trees\")\n",
    "        data = data[:3 if len(data) >2 else len(data)]\n",
    "    \n",
    "    for i, (adj_matrix, llh) in enumerate(data):\n",
    "        print(f\"TREE {i}, llh {llh}\")\n",
    "        T = torch.tensor(adj_matrix, dtype = torch.float32)\n",
    "        print(T)\n",
    "        if not vert_util.is_tree(T):\n",
    "            print(\"Invalid tree was provided, skipping: \\n\", T)\n",
    "            continue\n",
    "        B = vert_util.get_mutation_matrix_tensor(T)\n",
    "\n",
    "        idx_to_label = {v:(\" \").join(k.split('_')[0:2]) for k,v in cluster_label_to_idx.items()}\n",
    "        print(f\"Anatomical sites: {unique_sites}\")   \n",
    "        primary_idx = unique_sites.index(primary_site)\n",
    "        r = torch.nn.functional.one_hot(torch.tensor([primary_idx]), num_classes=len(unique_sites)).T\n",
    "        weights = vertex_labeling.Weights(data_fit=1.0, mig=10.0, comig=5.0, seed_site=1.0, reg=2.0, gen_dist=0.0)\n",
    "        print_config = PrintConfig(visualize=True, verbose=True, viz_intermeds=False, k_best_trees=4)\n",
    "        vertex_labeling.gumbel_softmax_optimization(T, ref_matrix, var_matrix, B, G=None, ordered_sites=unique_sites, \n",
    "                                                    weights=weights, p=r, node_idx_to_label=idx_to_label, lr=0.1,\n",
    "                                                    max_iter=200, batch_size=32, print_config=print_config,\n",
    "                                                    custom_colors=custom_colors, primary=primary_site, \n",
    "                                                    weight_init_primary=True, lr_sched=\"step\")\n",
    "\n",
    "\n",
    "        "
   ]
  },
  {
   "cell_type": "code",
   "execution_count": 4,
   "id": "c1ba3918",
   "metadata": {
    "scrolled": false
   },
   "outputs": [
    {
     "name": "stdout",
     "output_type": "stream",
     "text": [
      "27 patients\n",
      "xxxxxxxxxxxxxxxxxxxxxxxxxxxxxxxxxxxxxxxxxxxxx PATIENT H135089 xxxxxxxxxxxxxxxxxxxxxxxxxxxxxxxxxxxxxxxxxxxxx\n",
      "Primary site: right perinephric lymph node\n",
      "ref_matrix tensor([[ 91., 115.,  45.,  91.,  10.,  52.],\n",
      "        [ 98., 107., 229.,  98.,  48.,  43.],\n",
      "        [332., 916., 243., 839., 127., 167.],\n",
      "        [501., 827., 229., 752., 261., 216.],\n",
      "        [464., 786., 251., 579., 152., 204.],\n",
      "        [479., 698., 204., 668., 249.,  40.]])\n",
      "var_matrix tensor([[ 24.,   0.,   0.,  18.,  11.,   0.],\n",
      "        [  6.,   0.,  23.,   0.,   0.,   0.],\n",
      "        [349.,   0.,   0., 214., 126.,   0.],\n",
      "        [ 46.,   2.,  23.,   0.,   0.,   0.],\n",
      "        [ 90.,   0.,   0., 179.,  97.,   1.],\n",
      "        [ 94., 158.,   0.,   0.,   0.,  88.]])\n",
      "unique_sites ['left kidney hilar lymph node', 'right kidney hilar lymph node', 'right perinephric lymph node', 'right lung lower wedge', 'left retrocrural lymph node', 'left lung lower lobe']\n",
      "cluster_label_to_idx {'BRAF_p.G469A_non_synonymous_codon_7:140481402': 0, 'BRCA2_p.I1117V_non_synonymous_codon_13:32911841': 1, 'ATRX_p.N1753Vfs*6_frameshift_variant_X:76875864': 2, 'PTPRS_p.P450A_non_synonymous_codon_19:5244134': 3, 'ATRX_p.R1739Hfs*8_frameshift_variant_X:76875918': 4, 'ATRX_p.X1856_splice_splice_site_variant_X:76856034': 5}\n",
      "Using top 3 of 4 inferred trees\n",
      "TREE 0, llh -105.86709627472747\n",
      "tensor([[0., 0., 0., 0., 1., 0.],\n",
      "        [0., 0., 0., 0., 0., 0.],\n",
      "        [0., 0., 0., 0., 0., 0.],\n",
      "        [0., 0., 0., 0., 0., 0.],\n",
      "        [0., 0., 0., 1., 0., 0.],\n",
      "        [0., 1., 0., 0., 0., 0.]])\n",
      "Invalid tree was provided, skipping: \n",
      " tensor([[0., 0., 0., 0., 1., 0.],\n",
      "        [0., 0., 0., 0., 0., 0.],\n",
      "        [0., 0., 0., 0., 0., 0.],\n",
      "        [0., 0., 0., 0., 0., 0.],\n",
      "        [0., 0., 0., 1., 0., 0.],\n",
      "        [0., 1., 0., 0., 0., 0.]])\n",
      "TREE 1, llh -106.52821646836502\n",
      "tensor([[0., 0., 1., 0., 1., 0.],\n",
      "        [0., 0., 0., 0., 0., 0.],\n",
      "        [0., 0., 0., 0., 0., 0.],\n",
      "        [0., 0., 0., 0., 0., 0.],\n",
      "        [0., 0., 0., 1., 0., 0.],\n",
      "        [0., 1., 0., 0., 0., 0.]])\n",
      "Invalid tree was provided, skipping: \n",
      " tensor([[0., 0., 1., 0., 1., 0.],\n",
      "        [0., 0., 0., 0., 0., 0.],\n",
      "        [0., 0., 0., 0., 0., 0.],\n",
      "        [0., 0., 0., 0., 0., 0.],\n",
      "        [0., 0., 0., 1., 0., 0.],\n",
      "        [0., 1., 0., 0., 0., 0.]])\n",
      "TREE 2, llh -109.67187689974949\n",
      "tensor([[0., 1., 0., 0., 1., 0.],\n",
      "        [0., 0., 0., 0., 0., 0.],\n",
      "        [0., 0., 0., 0., 0., 0.],\n",
      "        [0., 0., 0., 0., 0., 0.],\n",
      "        [0., 0., 0., 1., 0., 0.],\n",
      "        [0., 0., 0., 0., 0., 0.]])\n",
      "Anatomical sites: ['left kidney hilar lymph node', 'right kidney hilar lymph node', 'right perinephric lymph node', 'right lung lower wedge', 'left retrocrural lymph node', 'left lung lower lobe']\n"
     ]
    },
    {
     "data": {
      "image/png": "[encoded data removed]",
      "text/plain": [
       "<Figure size 300x300 with 1 Axes>"
      ]
     },
     "metadata": {},
     "output_type": "display_data"
    },
    {
     "data": {
      "image/png": "[encoded data removed]",
      "text/plain": [
       "<Figure size 300x300 with 1 Axes>"
      ]
     },
     "metadata": {},
     "output_type": "display_data"
    },
    {
     "name": "stderr",
     "output_type": "stream",
     "text": [
      "09:28:30 INFO\n",
      "\n",
      "U > 0.05\n",
      "\n",
      "09:28:30 INFO\n",
      "                               norm  BRAF p.G469A  BRCA2 p.I1117V  \\\n",
      "left kidney hilar lymph node  0.485         0.000           0.000   \n",
      "right kidney hilar lymph node 0.700         0.111           0.000   \n",
      "right perinephric lymph node  0.000         0.000           0.000   \n",
      "right lung lower wedge        0.645         0.161           0.000   \n",
      "left retrocrural lymph node   0.514         0.000           0.000   \n",
      "left lung lower lobe          0.000         0.000           0.316   \n",
      "\n",
      "                               ATRX p.N1753Vfs*6  PTPRS p.P450A  \\\n",
      "left kidney hilar lymph node               0.000          0.329   \n",
      "right kidney hilar lymph node              0.182          0.000   \n",
      "right perinephric lymph node               0.000          0.405   \n",
      "right lung lower wedge                     0.185          0.000   \n",
      "left retrocrural lymph node                0.000          0.467   \n",
      "left lung lower lobe                       0.000          0.000   \n",
      "\n",
      "                               ATRX p.R1739Hfs*8  ATRX p.X1856  \n",
      "left kidney hilar lymph node               0.181         0.000  \n",
      "right kidney hilar lymph node              0.000         0.000  \n",
      "right perinephric lymph node               0.578         0.000  \n",
      "right lung lower wedge                     0.000         0.000  \n",
      "left retrocrural lymph node                0.000         0.000  \n",
      "left lung lower lobe                       0.000         0.676  \n",
      "09:28:30 INFO\n",
      "\n",
      "F_hat\n",
      "09:28:30 INFO\n",
      "                                  0     1     2     3     4     5     6\n",
      "left kidney hilar lymph node  0.995 0.510 0.000 0.000 0.329 0.510 0.000\n",
      "right kidney hilar lymph node 0.993 0.111 0.000 0.182 0.000 0.000 0.000\n",
      "right perinephric lymph node  0.983 0.983 0.000 0.000 0.405 0.983 0.000\n",
      "right lung lower wedge        0.991 0.161 0.000 0.185 0.000 0.000 0.000\n",
      "left retrocrural lymph node   0.981 0.467 0.000 0.000 0.467 0.467 0.000\n",
      "left lung lower lobe          0.992 0.316 0.316 0.000 0.000 0.000 0.676\n"
     ]
    },
    {
     "name": "stdout",
     "output_type": "stream",
     "text": [
      "Time elapsed: 9.355601\n",
      "tensor([[0., 1., 0., 0., 1., 0., 0., 0., 1., 0., 0., 0., 1., 0., 0., 0., 0.],\n",
      "        [0., 0., 0., 0., 0., 0., 0., 0., 0., 0., 0., 0., 0., 0., 0., 1., 0.],\n",
      "        [0., 0., 0., 0., 0., 0., 0., 0., 0., 1., 0., 0., 0., 1., 0., 0., 0.],\n",
      "        [0., 0., 0., 0., 0., 0., 1., 0., 0., 0., 1., 0., 0., 0., 1., 0., 0.],\n",
      "        [0., 0., 0., 1., 0., 0., 0., 1., 0., 0., 0., 1., 0., 0., 0., 0., 0.],\n",
      "        [0., 0., 0., 0., 0., 0., 0., 0., 0., 0., 0., 0., 0., 0., 0., 0., 1.],\n",
      "        [0., 0., 0., 0., 0., 0., 0., 0., 0., 0., 0., 0., 0., 0., 0., 0., 0.],\n",
      "        [0., 0., 0., 0., 0., 0., 0., 0., 0., 0., 0., 0., 0., 0., 0., 0., 0.],\n",
      "        [0., 0., 0., 0., 0., 0., 0., 0., 0., 0., 0., 0., 0., 0., 0., 0., 0.],\n",
      "        [0., 0., 0., 0., 0., 0., 0., 0., 0., 0., 0., 0., 0., 0., 0., 0., 0.],\n",
      "        [0., 0., 0., 0., 0., 0., 0., 0., 0., 0., 0., 0., 0., 0., 0., 0., 0.],\n",
      "        [0., 0., 0., 0., 0., 0., 0., 0., 0., 0., 0., 0., 0., 0., 0., 0., 0.],\n",
      "        [0., 0., 0., 0., 0., 0., 0., 0., 0., 0., 0., 0., 0., 0., 0., 0., 0.],\n",
      "        [0., 0., 0., 0., 0., 0., 0., 0., 0., 0., 0., 0., 0., 0., 0., 0., 0.],\n",
      "        [0., 0., 0., 0., 0., 0., 0., 0., 0., 0., 0., 0., 0., 0., 0., 0., 0.],\n",
      "        [0., 0., 0., 0., 0., 0., 0., 0., 0., 0., 0., 0., 0., 0., 0., 0., 0.],\n",
      "        [0., 0., 0., 0., 0., 0., 0., 0., 0., 0., 0., 0., 0., 0., 0., 0., 0.]]) 0 tensor([0., 1., 0., 0., 1., 0., 0., 0., 1., 0., 0., 0., 1., 0., 0., 0., 0.])\n",
      "tensor(False)\n"
     ]
    },
    {
     "ename": "TypeError",
     "evalue": "all() received an invalid combination of arguments - got (out=NoneType, axis=NoneType, ), but expected one of:\n * ()\n * (int dim, bool keepdim)\n      didn't match because some of the keywords were incorrect: out, axis\n * (name dim, bool keepdim)\n      didn't match because some of the keywords were incorrect: out, axis\n",
     "output_type": "error",
     "traceback": [
      "\u001b[0;31m---------------------------------------------------------------------------\u001b[0m",
      "\u001b[0;31mTypeError\u001b[0m                                 Traceback (most recent call last)",
      "\u001b[0;32m/var/folders/35/l3stl61s6n14w337drj2gt9m0000gn/T/ipykernel_64101/369506283.py\u001b[0m in \u001b[0;36m<module>\u001b[0;34m\u001b[0m\n\u001b[1;32m     20\u001b[0m     find_labeling(os.path.join(GUNDEM_DATA_DIR, f\"{patient}_SNVs.tsv\"), \n\u001b[1;32m     21\u001b[0m               \u001b[0mos\u001b[0m\u001b[0;34m.\u001b[0m\u001b[0mpath\u001b[0m\u001b[0;34m.\u001b[0m\u001b[0mjoin\u001b[0m\u001b[0;34m(\u001b[0m\u001b[0mPAIRTREE_TREES_DIR\u001b[0m\u001b[0;34m,\u001b[0m \u001b[0;34mf\"{patient}.results.npz\"\u001b[0m\u001b[0;34m)\u001b[0m\u001b[0;34m,\u001b[0m\u001b[0;34m\u001b[0m\u001b[0;34m\u001b[0m\u001b[0m\n\u001b[0;32m---> 22\u001b[0;31m               custom_colors, primary_site)\n\u001b[0m\u001b[1;32m     23\u001b[0m \u001b[0;34m\u001b[0m\u001b[0m\n",
      "\u001b[0;32m/var/folders/35/l3stl61s6n14w337drj2gt9m0000gn/T/ipykernel_64101/2036799314.py\u001b[0m in \u001b[0;36mfind_labeling\u001b[0;34m(ref_var_fn, pairtree_results_fn, custom_colors, primary_site)\u001b[0m\n\u001b[1;32m     33\u001b[0m                                                     \u001b[0mmax_iter\u001b[0m\u001b[0;34m=\u001b[0m\u001b[0;36m200\u001b[0m\u001b[0;34m,\u001b[0m \u001b[0mbatch_size\u001b[0m\u001b[0;34m=\u001b[0m\u001b[0;36m32\u001b[0m\u001b[0;34m,\u001b[0m \u001b[0mprint_config\u001b[0m\u001b[0;34m=\u001b[0m\u001b[0mprint_config\u001b[0m\u001b[0;34m,\u001b[0m\u001b[0;34m\u001b[0m\u001b[0;34m\u001b[0m\u001b[0m\n\u001b[1;32m     34\u001b[0m                                                     \u001b[0mcustom_colors\u001b[0m\u001b[0;34m=\u001b[0m\u001b[0mcustom_colors\u001b[0m\u001b[0;34m,\u001b[0m \u001b[0mprimary\u001b[0m\u001b[0;34m=\u001b[0m\u001b[0mprimary_site\u001b[0m\u001b[0;34m,\u001b[0m\u001b[0;34m\u001b[0m\u001b[0;34m\u001b[0m\u001b[0m\n\u001b[0;32m---> 35\u001b[0;31m                                                     weight_init_primary=True, lr_sched=\"step\")\n\u001b[0m\u001b[1;32m     36\u001b[0m \u001b[0;34m\u001b[0m\u001b[0m\n\u001b[1;32m     37\u001b[0m \u001b[0;34m\u001b[0m\u001b[0m\n",
      "\u001b[0;32m~/Desktop/Cornell_Research/Morris_Lab/met_history_prediction/src/lib/vertex_labeling.py\u001b[0m in \u001b[0;36mgumbel_softmax_optimization\u001b[0;34m(T, ref_matrix, var_matrix, B, ordered_sites, weights, print_config, node_idx_to_label, p, G, O, max_iter, lr, init_temp, final_temp, batch_size, custom_colors, primary, weight_init_primary, lr_sched)\u001b[0m\n\u001b[1;32m    426\u001b[0m                                                                                     \u001b[0mnode_idx_to_label\u001b[0m\u001b[0;34m,\u001b[0m \u001b[0mordered_sites\u001b[0m\u001b[0;34m,\u001b[0m\u001b[0;34m\u001b[0m\u001b[0;34m\u001b[0m\u001b[0m\n\u001b[1;32m    427\u001b[0m                                                                                     \u001b[0mprint_config\u001b[0m\u001b[0;34m,\u001b[0m \u001b[0mintermediate_data\u001b[0m\u001b[0;34m,\u001b[0m\u001b[0;34m\u001b[0m\u001b[0;34m\u001b[0m\u001b[0m\n\u001b[0;32m--> 428\u001b[0;31m                                                                                     custom_colors, primary, max_iter)\n\u001b[0m\u001b[1;32m    429\u001b[0m \u001b[0;34m\u001b[0m\u001b[0m\n\u001b[1;32m    430\u001b[0m         avg_tree = plot_util.print_averaged_tree(losses_tensor, V, full_trees, node_idx_to_label, custom_colors,\n",
      "\u001b[0;32m~/Desktop/Cornell_Research/Morris_Lab/met_history_prediction/src/util/plotting_util.py\u001b[0m in \u001b[0;36mprint_best_trees\u001b[0;34m(losses_tensor, V, U, full_trees, full_branch_lengths, ref_matrix, var_matrix, B, O, G, weights, node_idx_to_label, ordered_sites, print_config, intermediate_data, custom_colors, primary, max_iter)\u001b[0m\n\u001b[1;32m    644\u001b[0m \u001b[0;34m\u001b[0m\u001b[0m\n\u001b[1;32m    645\u001b[0m         \u001b[0mloss_info\u001b[0m \u001b[0;34m=\u001b[0m \u001b[0mprint_tree_info\u001b[0m\u001b[0;34m(\u001b[0m\u001b[0mtree\u001b[0m\u001b[0;34m,\u001b[0m \u001b[0mref_matrix\u001b[0m\u001b[0;34m,\u001b[0m \u001b[0mvar_matrix\u001b[0m\u001b[0;34m,\u001b[0m \u001b[0mB\u001b[0m\u001b[0;34m,\u001b[0m \u001b[0mO\u001b[0m\u001b[0;34m,\u001b[0m \u001b[0mweights\u001b[0m\u001b[0;34m,\u001b[0m \u001b[0mnode_idx_to_label\u001b[0m\u001b[0;34m,\u001b[0m \u001b[0mordered_sites\u001b[0m\u001b[0;34m,\u001b[0m \u001b[0mmax_iter\u001b[0m\u001b[0;34m,\u001b[0m \u001b[0mshow\u001b[0m\u001b[0;34m=\u001b[0m\u001b[0;32mFalse\u001b[0m\u001b[0;34m)\u001b[0m\u001b[0;34m\u001b[0m\u001b[0;34m\u001b[0m\u001b[0m\n\u001b[0;32m--> 646\u001b[0;31m         \u001b[0mtree_dot\u001b[0m\u001b[0;34m,\u001b[0m \u001b[0medges\u001b[0m\u001b[0;34m,\u001b[0m \u001b[0mvertices_to_sites_map\u001b[0m \u001b[0;34m=\u001b[0m \u001b[0mplot_tree\u001b[0m\u001b[0;34m(\u001b[0m\u001b[0mtree\u001b[0m\u001b[0;34m.\u001b[0m\u001b[0mlabeling\u001b[0m\u001b[0;34m,\u001b[0m \u001b[0mtree\u001b[0m\u001b[0;34m.\u001b[0m\u001b[0mtree\u001b[0m\u001b[0;34m,\u001b[0m \u001b[0mG\u001b[0m\u001b[0;34m,\u001b[0m \u001b[0mordered_sites\u001b[0m\u001b[0;34m,\u001b[0m \u001b[0mcustom_colors\u001b[0m\u001b[0;34m,\u001b[0m \u001b[0mnode_idx_to_label\u001b[0m\u001b[0;34m,\u001b[0m \u001b[0mshow\u001b[0m\u001b[0;34m=\u001b[0m\u001b[0;32mFalse\u001b[0m\u001b[0;34m)\u001b[0m\u001b[0;34m\u001b[0m\u001b[0;34m\u001b[0m\u001b[0m\n\u001b[0m\u001b[1;32m    647\u001b[0m         \u001b[0mmig_graph_dot\u001b[0m\u001b[0;34m,\u001b[0m \u001b[0mmig_graph_edges\u001b[0m \u001b[0;34m=\u001b[0m \u001b[0mplot_migration_graph\u001b[0m\u001b[0;34m(\u001b[0m\u001b[0mtree\u001b[0m\u001b[0;34m.\u001b[0m\u001b[0mlabeling\u001b[0m\u001b[0;34m,\u001b[0m \u001b[0mtree\u001b[0m\u001b[0;34m.\u001b[0m\u001b[0mtree\u001b[0m\u001b[0;34m,\u001b[0m \u001b[0mordered_sites\u001b[0m\u001b[0;34m,\u001b[0m \u001b[0mcustom_colors\u001b[0m\u001b[0;34m,\u001b[0m \u001b[0mprimary\u001b[0m\u001b[0;34m,\u001b[0m \u001b[0mshow\u001b[0m\u001b[0;34m=\u001b[0m\u001b[0;32mFalse\u001b[0m\u001b[0;34m)\u001b[0m\u001b[0;34m\u001b[0m\u001b[0;34m\u001b[0m\u001b[0m\n\u001b[1;32m    648\u001b[0m \u001b[0;34m\u001b[0m\u001b[0m\n",
      "\u001b[0;32m~/Desktop/Cornell_Research/Morris_Lab/met_history_prediction/src/util/plotting_util.py\u001b[0m in \u001b[0;36mplot_tree\u001b[0;34m(V, T, gen_dist, ordered_sites, custom_colors, custom_node_idx_to_label, show)\u001b[0m\n\u001b[1;32m    516\u001b[0m \u001b[0;34m\u001b[0m\u001b[0m\n\u001b[1;32m    517\u001b[0m     \u001b[0;31m# Add edge from normal to root\u001b[0m\u001b[0;34m\u001b[0m\u001b[0;34m\u001b[0m\u001b[0;34m\u001b[0m\u001b[0m\n\u001b[0;32m--> 518\u001b[0;31m     \u001b[0mroot_idx\u001b[0m \u001b[0;34m=\u001b[0m \u001b[0mget_root_index\u001b[0m\u001b[0;34m(\u001b[0m\u001b[0mT\u001b[0m\u001b[0;34m)\u001b[0m\u001b[0;34m\u001b[0m\u001b[0;34m\u001b[0m\u001b[0m\n\u001b[0m\u001b[1;32m    519\u001b[0m     \u001b[0mroot_label\u001b[0m \u001b[0;34m=\u001b[0m \u001b[0mdisplay_node_idx_to_label_map\u001b[0m\u001b[0;34m[\u001b[0m\u001b[0mroot_idx\u001b[0m\u001b[0;34m]\u001b[0m\u001b[0;34m[\u001b[0m\u001b[0;36m0\u001b[0m\u001b[0;34m]\u001b[0m\u001b[0;34m\u001b[0m\u001b[0;34m\u001b[0m\u001b[0m\n\u001b[1;32m    520\u001b[0m     \u001b[0mG\u001b[0m\u001b[0;34m.\u001b[0m\u001b[0madd_node\u001b[0m\u001b[0;34m(\u001b[0m\u001b[0;34m\"normal\"\u001b[0m\u001b[0;34m,\u001b[0m \u001b[0mlabel\u001b[0m\u001b[0;34m=\u001b[0m\u001b[0;34m\"\"\u001b[0m\u001b[0;34m,\u001b[0m \u001b[0mxlabel\u001b[0m\u001b[0;34m=\u001b[0m\u001b[0mroot_label\u001b[0m\u001b[0;34m,\u001b[0m \u001b[0mpenwidth\u001b[0m\u001b[0;34m=\u001b[0m\u001b[0;36m3\u001b[0m\u001b[0;34m,\u001b[0m \u001b[0mstyle\u001b[0m\u001b[0;34m=\u001b[0m\u001b[0;34m\"invis\"\u001b[0m\u001b[0;34m)\u001b[0m\u001b[0;34m\u001b[0m\u001b[0;34m\u001b[0m\u001b[0m\n",
      "\u001b[0;32m~/Desktop/Cornell_Research/Morris_Lab/met_history_prediction/src/util/plotting_util.py\u001b[0m in \u001b[0;36mget_root_index\u001b[0;34m(T)\u001b[0m\n\u001b[1;32m     57\u001b[0m         \u001b[0mprint\u001b[0m\u001b[0;34m(\u001b[0m\u001b[0mT\u001b[0m\u001b[0;34m,\u001b[0m \u001b[0mc\u001b[0m\u001b[0;34m,\u001b[0m \u001b[0mT\u001b[0m\u001b[0;34m[\u001b[0m\u001b[0mc\u001b[0m\u001b[0;34m,\u001b[0m\u001b[0;34m:\u001b[0m\u001b[0;34m]\u001b[0m\u001b[0;34m)\u001b[0m\u001b[0;34m\u001b[0m\u001b[0;34m\u001b[0m\u001b[0m\n\u001b[1;32m     58\u001b[0m         \u001b[0mprint\u001b[0m\u001b[0;34m(\u001b[0m\u001b[0mtorch\u001b[0m\u001b[0;34m.\u001b[0m\u001b[0mcount_nonzero\u001b[0m\u001b[0;34m(\u001b[0m\u001b[0mT\u001b[0m\u001b[0;34m[\u001b[0m\u001b[0mc\u001b[0m\u001b[0;34m,\u001b[0m\u001b[0;34m:\u001b[0m\u001b[0;34m]\u001b[0m\u001b[0;34m)\u001b[0m\u001b[0;34m==\u001b[0m\u001b[0;36m0\u001b[0m\u001b[0;34m)\u001b[0m\u001b[0;34m\u001b[0m\u001b[0;34m\u001b[0m\u001b[0m\n\u001b[0;32m---> 59\u001b[0;31m         \u001b[0;32mif\u001b[0m \u001b[0;34m(\u001b[0m\u001b[0mnp\u001b[0m\u001b[0;34m.\u001b[0m\u001b[0mall\u001b[0m\u001b[0;34m(\u001b[0m\u001b[0mT\u001b[0m\u001b[0;34m[\u001b[0m\u001b[0mc\u001b[0m\u001b[0;34m,\u001b[0m\u001b[0;34m:\u001b[0m\u001b[0;34m]\u001b[0m\u001b[0;34m==\u001b[0m\u001b[0;36m0\u001b[0m\u001b[0;34m)\u001b[0m\u001b[0;34m)\u001b[0m\u001b[0;34m:\u001b[0m\u001b[0;34m\u001b[0m\u001b[0;34m\u001b[0m\u001b[0m\n\u001b[0m\u001b[1;32m     60\u001b[0m             \u001b[0mcandidates\u001b[0m\u001b[0;34m.\u001b[0m\u001b[0mremove\u001b[0m\u001b[0;34m(\u001b[0m\u001b[0mc\u001b[0m\u001b[0;34m)\u001b[0m\u001b[0;34m\u001b[0m\u001b[0;34m\u001b[0m\u001b[0m\n\u001b[1;32m     61\u001b[0m     \u001b[0mmsg\u001b[0m \u001b[0;34m=\u001b[0m \u001b[0;34m\"More than one\"\u001b[0m \u001b[0;32mif\u001b[0m \u001b[0mlen\u001b[0m\u001b[0;34m(\u001b[0m\u001b[0mcandidates\u001b[0m\u001b[0;34m)\u001b[0m \u001b[0;34m>\u001b[0m \u001b[0;36m1\u001b[0m \u001b[0;32melse\u001b[0m \u001b[0;34m\"No\"\u001b[0m\u001b[0;34m\u001b[0m\u001b[0;34m\u001b[0m\u001b[0m\n",
      "\u001b[0;32m<__array_function__ internals>\u001b[0m in \u001b[0;36mall\u001b[0;34m(*args, **kwargs)\u001b[0m\n",
      "\u001b[0;32m~/mambaforge/envs/metf/lib/python3.7/site-packages/numpy/core/fromnumeric.py\u001b[0m in \u001b[0;36mall\u001b[0;34m(a, axis, out, keepdims, where)\u001b[0m\n\u001b[1;32m   2449\u001b[0m     \"\"\"\n\u001b[1;32m   2450\u001b[0m     return _wrapreduction(a, np.logical_and, 'all', axis, None, out,\n\u001b[0;32m-> 2451\u001b[0;31m                           keepdims=keepdims, where=where)\n\u001b[0m\u001b[1;32m   2452\u001b[0m \u001b[0;34m\u001b[0m\u001b[0m\n\u001b[1;32m   2453\u001b[0m \u001b[0;34m\u001b[0m\u001b[0m\n",
      "\u001b[0;32m~/mambaforge/envs/metf/lib/python3.7/site-packages/numpy/core/fromnumeric.py\u001b[0m in \u001b[0;36m_wrapreduction\u001b[0;34m(obj, ufunc, method, axis, dtype, out, **kwargs)\u001b[0m\n\u001b[1;32m     82\u001b[0m                 \u001b[0;32mreturn\u001b[0m \u001b[0mreduction\u001b[0m\u001b[0;34m(\u001b[0m\u001b[0maxis\u001b[0m\u001b[0;34m=\u001b[0m\u001b[0maxis\u001b[0m\u001b[0;34m,\u001b[0m \u001b[0mdtype\u001b[0m\u001b[0;34m=\u001b[0m\u001b[0mdtype\u001b[0m\u001b[0;34m,\u001b[0m \u001b[0mout\u001b[0m\u001b[0;34m=\u001b[0m\u001b[0mout\u001b[0m\u001b[0;34m,\u001b[0m \u001b[0;34m**\u001b[0m\u001b[0mpasskwargs\u001b[0m\u001b[0;34m)\u001b[0m\u001b[0;34m\u001b[0m\u001b[0;34m\u001b[0m\u001b[0m\n\u001b[1;32m     83\u001b[0m             \u001b[0;32melse\u001b[0m\u001b[0;34m:\u001b[0m\u001b[0;34m\u001b[0m\u001b[0;34m\u001b[0m\u001b[0m\n\u001b[0;32m---> 84\u001b[0;31m                 \u001b[0;32mreturn\u001b[0m \u001b[0mreduction\u001b[0m\u001b[0;34m(\u001b[0m\u001b[0maxis\u001b[0m\u001b[0;34m=\u001b[0m\u001b[0maxis\u001b[0m\u001b[0;34m,\u001b[0m \u001b[0mout\u001b[0m\u001b[0;34m=\u001b[0m\u001b[0mout\u001b[0m\u001b[0;34m,\u001b[0m \u001b[0;34m**\u001b[0m\u001b[0mpasskwargs\u001b[0m\u001b[0;34m)\u001b[0m\u001b[0;34m\u001b[0m\u001b[0;34m\u001b[0m\u001b[0m\n\u001b[0m\u001b[1;32m     85\u001b[0m \u001b[0;34m\u001b[0m\u001b[0m\n\u001b[1;32m     86\u001b[0m     \u001b[0;32mreturn\u001b[0m \u001b[0mufunc\u001b[0m\u001b[0;34m.\u001b[0m\u001b[0mreduce\u001b[0m\u001b[0;34m(\u001b[0m\u001b[0mobj\u001b[0m\u001b[0;34m,\u001b[0m \u001b[0maxis\u001b[0m\u001b[0;34m,\u001b[0m \u001b[0mdtype\u001b[0m\u001b[0;34m,\u001b[0m \u001b[0mout\u001b[0m\u001b[0;34m,\u001b[0m \u001b[0;34m**\u001b[0m\u001b[0mpasskwargs\u001b[0m\u001b[0;34m)\u001b[0m\u001b[0;34m\u001b[0m\u001b[0;34m\u001b[0m\u001b[0m\n",
      "\u001b[0;31mTypeError\u001b[0m: all() received an invalid combination of arguments - got (out=NoneType, axis=NoneType, ), but expected one of:\n * ()\n * (int dim, bool keepdim)\n      didn't match because some of the keywords were incorrect: out, axis\n * (name dim, bool keepdim)\n      didn't match because some of the keywords were incorrect: out, axis\n"
     ]
    }
   ],
   "source": [
    "# Get all patients\n",
    "import pandas as pd\n",
    "patients = set()\n",
    "for file in os.listdir(PAIRTREE_TREES_DIR):\n",
    "    if \"results.npz\" in file:\n",
    "        patients.add(file.split(\".\")[0])\n",
    "print(f\"{len(patients)} patients\")\n",
    "patients=[\"H135089\"]\n",
    "for patient in patients:\n",
    "    space = \"x\"*45\n",
    "    print(f\"{space} PATIENT {patient} {space}\")\n",
    "    df = pd.read_csv(os.path.join(GUNDEM_DATA_DIR, f\"{patient}_SNVs.tsv\"), delimiter=\"\\t\")\n",
    "    primary_sites = list(df[df['tumor_type']=='primary_disease']['#sample_index'].unique())\n",
    "    if len(primary_sites) > 1:\n",
    "        # TODO: figure out how to handle this\n",
    "        print(f\"skipping patient {patient} with multiple primaries\")\n",
    "        continue\n",
    "    primary_site = list(df[df['tumor_type']=='primary_disease']['anatomical_site_label'].unique())[0]\n",
    "    print(f\"Primary site: {primary_site}\")\n",
    "    find_labeling(os.path.join(GUNDEM_DATA_DIR, f\"{patient}_SNVs.tsv\"), \n",
    "              os.path.join(PAIRTREE_TREES_DIR, f\"{patient}.results.npz\"),\n",
    "              custom_colors, primary_site)\n",
    "    "
   ]
  },
  {
   "cell_type": "code",
   "execution_count": 11,
   "id": "084dad80",
   "metadata": {},
   "outputs": [
    {
     "name": "stdout",
     "output_type": "stream",
     "text": [
      "[[1. 1. 0. 1. 0. 0. 1.]\n",
      " [0. 1. 0. 0. 0. 1. 0.]\n",
      " [0. 0. 1. 0. 0. 0. 0.]\n",
      " [0. 0. 0. 1. 0. 0. 0.]\n",
      " [0. 0. 0. 0. 1. 0. 0.]\n",
      " [0. 0. 0. 0. 1. 1. 0.]\n",
      " [0. 0. 1. 0. 0. 0. 1.]]\n"
     ]
    },
    {
     "data": {
      "image/png": "[encoded data removed]",
      "text/plain": [
       "<Figure size 300x300 with 1 Axes>"
      ]
     },
     "metadata": {},
     "output_type": "display_data"
    }
   ],
   "source": [
    "import numpy as np\n",
    "results = np.load(os.path.join(PAIRTREE_TREES_DIR, f\"H135089.results.npz\"))\n",
    "\n",
    "def convert_parents_to_adjmatrix(parents):\n",
    "    K = len(parents) + 1\n",
    "    adjm = np.eye(K)\n",
    "    adjm[parents,np.arange(1, K)] = 1\n",
    "    return adjm\n",
    "A = convert_parents_to_adjmatrix(results['struct'][0])\n",
    "print(A)\n",
    "G = nx.from_numpy_matrix(A)\n",
    "nx.draw(G)"
   ]
  },
  {
   "cell_type": "code",
   "execution_count": 8,
   "id": "32a558e2",
   "metadata": {},
   "outputs": [
    {
     "data": {
      "text/plain": [
       "array([[0, 0, 0, 0, 1, 0],\n",
       "       [0, 0, 0, 0, 0, 0],\n",
       "       [0, 0, 0, 0, 0, 0],\n",
       "       [0, 0, 0, 0, 0, 0],\n",
       "       [0, 0, 0, 1, 0, 0],\n",
       "       [0, 1, 0, 0, 0, 0]])"
      ]
     },
     "execution_count": 8,
     "metadata": {},
     "output_type": "execute_result"
    }
   ],
   "source": [
    "A2 = pt_util.get_adj_matrix_from_parents(results['struct'][0])\n",
    "A2"
   ]
  },
  {
   "cell_type": "code",
   "execution_count": null,
   "id": "75233044",
   "metadata": {
    "scrolled": true
   },
   "outputs": [],
   "source": [
    "patient = \"H132374_CNS_met\"\n",
    "primary_site = \"retroperitoneal\"\n",
    "find_labeling(os.path.join(GUNDEM_DATA_DIR, f\"{patient}_SNVs.tsv\"), \n",
    "              os.path.join(PAIRTREE_TREES_DIR, f\"{patient}.results.npz\"),\n",
    "              custom_colors, primary_site)\n"
   ]
  },
  {
   "cell_type": "code",
   "execution_count": null,
   "id": "bd012297",
   "metadata": {},
   "outputs": [],
   "source": [
    "patient = \"H103207\"\n",
    "primary_site = \"left adrenal\"\n",
    "find_labeling(os.path.join(GUNDEM_DATA_DIR, f\"{patient}_SNVs.tsv\"), \n",
    "              os.path.join(PAIRTREE_TREES_DIR, f\"patient{patient}.results.npz\"),\n",
    "              custom_colors, primary_site)\n",
    "                                                                                 "
   ]
  }
 ],
 "metadata": {
  "kernelspec": {
   "display_name": "Python [conda env:metf] *",
   "language": "python",
   "name": "conda-env-metf-py"
  },
  "language_info": {
   "codemirror_mode": {
    "name": "ipython",
    "version": 3
   },
   "file_extension": ".py",
   "mimetype": "text/x-python",
   "name": "python",
   "nbconvert_exporter": "python",
   "pygments_lexer": "ipython3",
   "version": "3.7.12"
  }
 },
 "nbformat": 4,
 "nbformat_minor": 5
}
