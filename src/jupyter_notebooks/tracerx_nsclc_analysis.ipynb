{
 "cells": [
  {
   "cell_type": "code",
   "execution_count": 1,
   "id": "ed4d4d09",
   "metadata": {},
   "outputs": [
    {
     "name": "stderr",
     "output_type": "stream",
     "text": [
      "NOTE: Redirects are currently not supported in Windows or MacOs.\n"
     ]
    }
   ],
   "source": [
    "import os\n",
    "import pickle\n",
    "from src.util import plotting_util as plot_util\n",
    "\n",
    "REPO_DIR = os.path.join(os.getcwd(), \"../../\")\n",
    "os.chdir(REPO_DIR)\n",
    "METIENT_OUTPUT_DIR = os.path.join(REPO_DIR, 'src/data/tracerx_nsclc/metient_outputs')\n",
    "ORCHARD_OUTPUT_DIR = os.path.join(METIENT_OUTPUT_DIR, 'pairtree_clusters_orchard_trees')\n",
    "CONIPHER_OUTPUT_DIR = os.path.join(METIENT_OUTPUT_DIR, 'pyclone_clusters_conipher_trees')\n"
   ]
  },
  {
   "cell_type": "code",
   "execution_count": 40,
   "id": "29619466",
   "metadata": {},
   "outputs": [],
   "source": [
    "def get_seeding_patterns(pickle_files_dir):\n",
    "    patients = []\n",
    "    for file in os.listdir(pickle_files_dir):\n",
    "        if \".pickle\" in file:\n",
    "            patients.append(file.split(\".\")[0])\n",
    "    print(f\"{len(patients)} patients\")\n",
    "\n",
    "    seeding_patterns = dict()\n",
    "    monoclonal_ct = 0\n",
    "    for patient in patients:\n",
    "        file = open(os.path.join(pickle_files_dir, f\"{patient}.pickle\"),'rb')\n",
    "        pckl = pickle.load(file)\n",
    "        V = pckl['ancestral_labelings'][0]\n",
    "        A = pckl['full_adjacency_matrices'][0]\n",
    "        G = plot_util.get_migration_graph(V, A)\n",
    "        pattern = plot_util.get_seeding_pattern_from_migration_graph(G)\n",
    "        if \"monoclonal\" in pattern:\n",
    "            monoclonal_ct += 1\n",
    "        seeding_patterns[patient] = pattern\n",
    "    print(f\"# monoclonal cases: {monoclonal_ct}, # polyclonal cases: {len(patients)-monoclonal_ct}\")\n",
    "    return seeding_patterns, monoclonal_ct\n"
   ]
  },
  {
   "cell_type": "markdown",
   "id": "be935641",
   "metadata": {},
   "source": [
    "### (1a) Evalute pyclone clusters + conipher trees + metient history (maximum parsimony)"
   ]
  },
  {
   "cell_type": "code",
   "execution_count": 41,
   "id": "d2cd8644",
   "metadata": {},
   "outputs": [
    {
     "name": "stdout",
     "output_type": "stream",
     "text": [
      "128 patients\n",
      "# monoclonal cases: 23, # polyclonal cases: 105\n"
     ]
    }
   ],
   "source": [
    "conipher_mp_dir = os.path.join(CONIPHER_OUTPUT_DIR, 'max_pars')\n",
    "conipher_mp_seeding_patterns, monoclonal_ct = get_seeding_patterns(conipher_mp_dir)"
   ]
  },
  {
   "cell_type": "markdown",
   "id": "67482892",
   "metadata": {},
   "source": [
    "### (1b) Evalute pyclone clusters + conipher trees + metient history (maximum parsimony + genetic distance)"
   ]
  },
  {
   "cell_type": "code",
   "execution_count": 46,
   "id": "2fdc9470",
   "metadata": {},
   "outputs": [
    {
     "name": "stdout",
     "output_type": "stream",
     "text": [
      "128 patients\n",
      "# monoclonal cases: 24, # polyclonal cases: 104\n"
     ]
    }
   ],
   "source": [
    "conipher_mp_gd_dir = os.path.join(CONIPHER_OUTPUT_DIR, 'max_pars_genetic_distance')\n",
    "conipher_mp_gd_seeding_patterns, monoclonal_ct = get_seeding_patterns(conipher_mp_gd_dir)"
   ]
  },
  {
   "cell_type": "markdown",
   "id": "394a7ae5",
   "metadata": {},
   "source": [
    "### (2a) Evaluate pairtree clusters + orchard trees + metient history (maximum parsimony)"
   ]
  },
  {
   "cell_type": "code",
   "execution_count": 38,
   "id": "b1f3ed5d",
   "metadata": {},
   "outputs": [
    {
     "name": "stdout",
     "output_type": "stream",
     "text": [
      "128 patients\n",
      "# monoclonal cases: 2, # polyclonal cases: 126\n"
     ]
    }
   ],
   "source": [
    "orchard_mp_dir = os.path.join(ORCHARD_OUTPUT_DIR, 'max_pars')\n",
    "orchard_mp_seeding_patterns, monoclonal_ct = get_seeding_patterns(orchard_mp_dir)"
   ]
  },
  {
   "cell_type": "markdown",
   "id": "e31fa1d6",
   "metadata": {},
   "source": [
    "### (2b) Evaluate pairtree clusters + orchard trees + metient history (maximum parsimony + genetic distance)"
   ]
  },
  {
   "cell_type": "code",
   "execution_count": 39,
   "id": "8138ed78",
   "metadata": {},
   "outputs": [
    {
     "name": "stdout",
     "output_type": "stream",
     "text": [
      "128 patients\n",
      "# monoclonal cases: 2, # polyclonal cases: 126\n"
     ]
    }
   ],
   "source": [
    "orchard_mp_gd_dir = os.path.join(ORCHARD_OUTPUT_DIR, 'max_pars_genetic_distance')\n",
    "orchard_mp_gd_seeding_patterns, monoclonal_ct = get_seeding_patterns(orchard_mp_gd_dir)"
   ]
  },
  {
   "cell_type": "markdown",
   "id": "b1cda276",
   "metadata": {},
   "source": [
    "### How consistent are the dissemination patterns?"
   ]
  },
  {
   "cell_type": "code",
   "execution_count": null,
   "id": "dba8f888",
   "metadata": {},
   "outputs": [],
   "source": [
    "import seaborn as sns\n"
   ]
  }
 ],
 "metadata": {
  "kernelspec": {
   "display_name": "Python 3 (ipykernel)",
   "language": "python",
   "name": "python3"
  },
  "language_info": {
   "codemirror_mode": {
    "name": "ipython",
    "version": 3
   },
   "file_extension": ".py",
   "mimetype": "text/x-python",
   "name": "python",
   "nbconvert_exporter": "python",
   "pygments_lexer": "ipython3",
   "version": "3.8.17"
  }
 },
 "nbformat": 4,
 "nbformat_minor": 5
}
