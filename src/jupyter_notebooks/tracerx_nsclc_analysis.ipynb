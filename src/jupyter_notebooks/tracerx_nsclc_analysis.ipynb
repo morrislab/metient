{
 "cells": [
  {
   "cell_type": "code",
   "execution_count": 1,
   "id": "ed4d4d09",
   "metadata": {},
   "outputs": [
    {
     "name": "stderr",
     "output_type": "stream",
     "text": [
      "NOTE: Redirects are currently not supported in Windows or MacOs.\n"
     ]
    }
   ],
   "source": [
    "import os\n",
    "import pickle\n",
    "from src.util import plotting_util as plot_util\n",
    "\n",
    "REPO_DIR = os.path.join(os.getcwd(), \"../../\")\n",
    "os.chdir(REPO_DIR)\n",
    "METIENT_OUTPUT_DIR = os.path.join(REPO_DIR, 'src/data/tracerx_nsclc/metient_outputs')\n",
    "ORCHARD_OUTPUT_DIR = os.path.join(METIENT_OUTPUT_DIR, 'pairtree_clustered_orchard_trees')\n",
    "CONIPHER_OUTPUT_DIR = os.path.join(METIENT_OUTPUT_DIR, 'pyclone_clustered_conipher_trees')\n"
   ]
  },
  {
   "cell_type": "code",
   "execution_count": 2,
   "id": "29619466",
   "metadata": {},
   "outputs": [],
   "source": [
    "def get_patients(pickle_files_dir):\n",
    "    patients = []\n",
    "    for file in os.listdir(pickle_files_dir):\n",
    "        if \".pickle\" in file:\n",
    "            patients.append(file.split(\".\")[0])\n",
    "    print(f\"{len(patients)} patients\")\n",
    "    return patients\n",
    "\n",
    "def get_info(pickle_files_dir):\n",
    "    patients = get_patients(pickle_files_dir)\n",
    "    seeding_patterns = dict()\n",
    "    monoclonal_ct = 0\n",
    "    for patient in patients:\n",
    "        file = open(os.path.join(pickle_files_dir, f\"{patient}.pickle\"),'rb')\n",
    "        pckl = pickle.load(file)\n",
    "        V = pckl['ancestral_labelings'][0]\n",
    "        A = pckl['full_adjacency_matrices'][0]\n",
    "        sites = pckl['ordered_anatomical_sites']\n",
    "        G = plot_util.get_migration_graph(V, A)\n",
    "        #print(G, sites)\n",
    "        pattern = plot_util.get_seeding_pattern_from_migration_graph(G)\n",
    "        if \"monoclonal\" in pattern:\n",
    "            monoclonal_ct += 1\n",
    "        seeding_patterns[patient] = pattern\n",
    "    print(f\"# monoclonal cases: {monoclonal_ct}, # polyclonal cases: {len(patients)-monoclonal_ct}\")\n",
    "    return seeding_patterns, monoclonal_ct\n",
    "\n"
   ]
  },
  {
   "cell_type": "markdown",
   "id": "be935641",
   "metadata": {},
   "source": [
    "### Load metient outputs using various combinations of clustering alg + tree inference alg + metient hyperparams"
   ]
  },
  {
   "cell_type": "code",
   "execution_count": 20,
   "id": "d2cd8644",
   "metadata": {},
   "outputs": [
    {
     "name": "stdout",
     "output_type": "stream",
     "text": [
      "128 patients\n",
      "# monoclonal cases: 18, # polyclonal cases: 110\n",
      "128 patients\n",
      "# monoclonal cases: 26, # polyclonal cases: 102\n",
      "128 patients\n",
      "# monoclonal cases: 21, # polyclonal cases: 107\n",
      "128 patients\n",
      "# monoclonal cases: 41, # polyclonal cases: 87\n",
      "128 patients\n",
      "# monoclonal cases: 1, # polyclonal cases: 127\n",
      "128 patients\n",
      "# monoclonal cases: 3, # polyclonal cases: 125\n",
      "128 patients\n",
      "# monoclonal cases: 1, # polyclonal cases: 127\n",
      "128 patients\n",
      "# monoclonal cases: 1, # polyclonal cases: 127\n"
     ]
    }
   ],
   "source": [
    "# (1) pyclone clusters + conipher trees + metient (maximum parsimony)\n",
    "conipher_mp_seeding_patterns, monoclonal_ct = get_info(os.path.join(CONIPHER_OUTPUT_DIR, 'max_pars'))\n",
    "\n",
    "# (2) pyclone clusters + conipher trees + metient (maximum parsimony + genetic distance)\n",
    "conipher_mp_gd_seeding_patterns, monoclonal_ct = get_seeding_patterns(os.path.join(CONIPHER_OUTPUT_DIR, 'max_pars_genetic_distance'))\n",
    "\n",
    "# (3) pyclone clusters + conipher trees + metient (maximum parsimony + prior on primary (pop))\n",
    "conipher_mp_gd_seeding_patterns, monoclonal_ct = get_seeding_patterns(os.path.join(CONIPHER_OUTPUT_DIR, 'max_pars_wip'))\n",
    "\n",
    "# (4) pyclone clusters + conipher trees + metient (maximum parsimony + genetic distance + prior on primary (pop))\n",
    "conipher_mp_gd_seeding_patterns, monoclonal_ct = get_seeding_patterns(os.path.join(CONIPHER_OUTPUT_DIR, 'max_pars_genetic_distance_wip'))\n",
    "\n",
    "# (5) pairtree clusters + orchard trees + metient (maximum parsimony)\n",
    "conipher_mp_seeding_patterns, monoclonal_ct = get_seeding_patterns(os.path.join(ORCHARD_OUTPUT_DIR, 'max_pars'))\n",
    "\n",
    "# (6) pairtree clusters + orchard trees + metient (maximum parsimony + genetic distance)\n",
    "conipher_mp_gd_seeding_patterns, monoclonal_ct = get_seeding_patterns(os.path.join(ORCHARD_OUTPUT_DIR, 'max_pars_genetic_distance'))\n",
    "\n",
    "# (7) pairtree clusters + orchard trees + metient (maximum parsimony + prior on primary (pop))\n",
    "conipher_mp_gd_seeding_patterns, monoclonal_ct = get_seeding_patterns(os.path.join(ORCHARD_OUTPUT_DIR, 'max_pars_wip'))\n",
    "\n",
    "# (8) pairtree clusters + orchard trees + metient (maximum parsimony + genetic distance + prior on primary (pop))\n",
    "conipher_mp_gd_seeding_patterns, monoclonal_ct = get_seeding_patterns(os.path.join(ORCHARD_OUTPUT_DIR, 'max_pars_genetic_distance_wip'))\n"
   ]
  },
  {
   "cell_type": "markdown",
   "id": "b1cda276",
   "metadata": {},
   "source": [
    "### How consistent are the dissemination patterns?"
   ]
  },
  {
   "cell_type": "code",
   "execution_count": null,
   "id": "dba8f888",
   "metadata": {},
   "outputs": [],
   "source": [
    "import seaborn as sns\n"
   ]
  }
 ],
 "metadata": {
  "kernelspec": {
   "display_name": "Python 3 (ipykernel)",
   "language": "python",
   "name": "python3"
  },
  "language_info": {
   "codemirror_mode": {
    "name": "ipython",
    "version": 3
   },
   "file_extension": ".py",
   "mimetype": "text/x-python",
   "name": "python",
   "nbconvert_exporter": "python",
   "pygments_lexer": "ipython3",
   "version": "3.8.17"
  }
 },
 "nbformat": 4,
 "nbformat_minor": 5
}
