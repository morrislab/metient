{
 "cells": [
  {
   "cell_type": "code",
   "execution_count": 1,
   "id": "ed4d4d09",
   "metadata": {},
   "outputs": [
    {
     "name": "stderr",
     "output_type": "stream",
     "text": [
      "NOTE: Redirects are currently not supported in Windows or MacOs.\n"
     ]
    }
   ],
   "source": [
    "import os\n",
    "import pickle\n",
    "from src.util import plotting_util as plot_util\n",
    "\n",
    "REPO_DIR = os.path.join(os.getcwd(), \"../../\")\n",
    "os.chdir(REPO_DIR)\n",
    "METIENT_OUTPUT_DIR = os.path.join(REPO_DIR, 'src/data/tracerx_nsclc/metient_outputs')\n",
    "ORCHARD_OUTPUT_DIR = os.path.join(METIENT_OUTPUT_DIR, 'pairtree_clustered_orchard_trees')\n",
    "CONIPHER_OUTPUT_DIR = os.path.join(METIENT_OUTPUT_DIR, 'pyclone_clustered_conipher_trees')\n"
   ]
  },
  {
   "cell_type": "code",
   "execution_count": 2,
   "id": "29619466",
   "metadata": {},
   "outputs": [],
   "source": [
    "def get_patients(pickle_files_dir):\n",
    "    patients = []\n",
    "    for file in os.listdir(pickle_files_dir):\n",
    "        if \".pickle\" in file:\n",
    "            patients.append(file.split(\".\")[0])\n",
    "    print(f\"{len(patients)} patients\")\n",
    "    return patients\n",
    "\n",
    "def get_info(pickle_files_dir):\n",
    "    patients = get_patients(pickle_files_dir)\n",
    "    seeding_patterns = dict()\n",
    "    monoclonal_ct = 0\n",
    "    for patient in patients:\n",
    "        file = open(os.path.join(pickle_files_dir, f\"{patient}.pickle\"),'rb')\n",
    "        pckl = pickle.load(file)\n",
    "        V = pckl['ancestral_labelings'][0]\n",
    "        A = pckl['full_adjacency_matrices'][0]\n",
    "        sites = pckl['ordered_anatomical_sites']\n",
    "        G = plot_util.get_migration_graph(V, A)\n",
    "        #print(G, sites)\n",
    "        pattern = plot_util.get_seeding_pattern_from_migration_graph(G)\n",
    "        if \"monoclonal\" in pattern:\n",
    "            monoclonal_ct += 1\n",
    "        seeding_patterns[patient] = pattern\n",
    "    print(f\"# monoclonal cases: {monoclonal_ct}, # polyclonal cases: {len(patients)-monoclonal_ct}\")\n",
    "    return seeding_patterns, monoclonal_ct\n",
    "\n"
   ]
  },
  {
   "cell_type": "markdown",
   "id": "be935641",
   "metadata": {},
   "source": [
    "### Load metient outputs using various combinations of clustering alg + tree inference alg + metient hyperparams"
   ]
  },
  {
   "cell_type": "code",
   "execution_count": 3,
   "id": "d2cd8644",
   "metadata": {},
   "outputs": [
    {
     "name": "stdout",
     "output_type": "stream",
     "text": [
      "128 patients\n",
      "# monoclonal cases: 64, # polyclonal cases: 64\n",
      "128 patients\n",
      "# monoclonal cases: 64, # polyclonal cases: 64\n",
      "128 patients\n",
      "# monoclonal cases: 6, # polyclonal cases: 122\n",
      "128 patients\n",
      "# monoclonal cases: 7, # polyclonal cases: 121\n"
     ]
    }
   ],
   "source": [
    "# (1) pyclone clusters + conipher trees + metient (maximum parsimony)\n",
    "conipher_mp_seeding_patterns, monoclonal_ct = get_info(os.path.join(CONIPHER_OUTPUT_DIR, 'max_pars'))\n",
    "\n",
    "# (2) pyclone clusters + conipher trees + metient (maximum parsimony + genetic distance)\n",
    "conipher_mp_gd_seeding_patterns, monoclonal_ct = get_info(os.path.join(CONIPHER_OUTPUT_DIR, 'max_pars_genetic_distance'))\n",
    "\n",
    "# (3) pairtree clusters + orchard trees + metient (maximum parsimony)\n",
    "conipher_mp_seeding_patterns, monoclonal_ct = get_info(os.path.join(ORCHARD_OUTPUT_DIR, 'max_pars'))\n",
    "\n",
    "# (4) pairtree clusters + orchard trees + metient (maximum parsimony + genetic distance)\n",
    "conipher_mp_gd_seeding_patterns, monoclonal_ct = get_info(os.path.join(ORCHARD_OUTPUT_DIR, 'max_pars_genetic_distance'))\n"
   ]
  },
  {
   "cell_type": "code",
   "execution_count": 4,
   "id": "57d61a51-f03d-4a20-9a02-585716eb327d",
   "metadata": {},
   "outputs": [
    {
     "data": {
      "text/plain": [
       "{'CRUK0100_clustered_primary_SU_T1': 'polyclonal single-source seeding',\n",
       " 'CRUK0519_clustered_primary_SU_T1': 'polyclonal single-source seeding',\n",
       " 'CRUK0666_clustered_primary_SU_T1': 'polyclonal single-source seeding',\n",
       " 'CRUK0035_clustered_primary_SU_T1': 'polyclonal single-source seeding',\n",
       " 'CRUK0698_clustered_primary_SU_T1': 'polyclonal multi-source seeding',\n",
       " 'CRUK0097_clustered_primary_SU_T1': 'polyclonal single-source seeding',\n",
       " 'CRUK0543_clustered_primary_SU_T1': 'polyclonal single-source seeding',\n",
       " 'CRUK0236_clustered_primary_SU_T1': 'monoclonal single-source seeding',\n",
       " 'CRUK0476_clustered_primary_SU_T1': 'polyclonal single-source seeding',\n",
       " 'CRUK0465_clustered_primary_SU_T1': 'polyclonal single-source seeding',\n",
       " 'CRUK0636_clustered_primary_SU_T1': 'polyclonal single-source seeding',\n",
       " 'CRUK0625_clustered_primary_SU_T1': 'polyclonal single-source seeding',\n",
       " 'CRUK0497_clustered_primary_SU_T1': 'polyclonal single-source seeding',\n",
       " 'CRUK0484_clustered_primary_SU_T1': 'polyclonal single-source seeding',\n",
       " 'CRUK0817_clustered_primary_SU_T1': 'monoclonal reseeding',\n",
       " 'CRUK0063_clustered_primary_SU_T1': 'polyclonal reseeding',\n",
       " 'CRUK0178_clustered_primary_SU_T1': 'polyclonal single-source seeding',\n",
       " 'CRUK0572_clustered_primary_SU_T1': 'monoclonal multi-source seeding',\n",
       " 'CRUK0528_clustered_primary_SU_T1': 'polyclonal single-source seeding',\n",
       " 'CRUK0567_clustered_primary_SU_T1': 'polyclonal single-source seeding',\n",
       " 'CRUK0762_clustered_primary_SU_T1': 'polyclonal single-source seeding',\n",
       " 'CRUK0368_clustered_primary_SU_T1': 'polyclonal single-source seeding',\n",
       " 'CRUK0452_clustered_primary_SU_T1': 'polyclonal single-source seeding',\n",
       " 'CRUK0495_clustered_primary_SU_T2': 'polyclonal single-source seeding',\n",
       " 'CRUK0004_clustered_primary_SU_T1': 'polyclonal single-source seeding',\n",
       " 'CRUK0052_clustered_primary_SU_T1': 'polyclonal single-source seeding',\n",
       " 'CRUK0041_clustered_primary_SU_T1': 'polyclonal single-source seeding',\n",
       " 'CRUK0242_clustered_primary_SU_T1': 'polyclonal single-source seeding',\n",
       " 'CRUK0721_clustered_primary_SU_T1': 'polyclonal single-source seeding',\n",
       " 'CRUK0524_clustered_primary_SU_T1': 'polyclonal single-source seeding',\n",
       " 'CRUK0537_clustered_primary_SU_T1': 'polyclonal single-source seeding',\n",
       " 'CRUK0311_clustered_primary_SU_T1': 'polyclonal single-source seeding',\n",
       " 'CRUK0090_clustered_primary_SU_T1': 'polyclonal single-source seeding',\n",
       " 'CRUK0557_clustered_primary_SU_T1': 'polyclonal single-source seeding',\n",
       " 'CRUK0286_clustered_primary_SU_T1': 'polyclonal single-source seeding',\n",
       " 'CRUK0083_clustered_primary_SU_T1': 'polyclonal single-source seeding',\n",
       " 'CRUK0667_clustered_primary_SU_T1': 'polyclonal single-source seeding',\n",
       " 'CRUK0027_clustered_primary_SU_T1': 'polyclonal single-source seeding',\n",
       " 'CRUK0468_clustered_primary_SU_T1': 'polyclonal multi-source seeding',\n",
       " 'CRUK0352_clustered_primary_SU_T1': 'polyclonal single-source seeding',\n",
       " 'CRUK0089_clustered_primary_SU_T1': 'polyclonal single-source seeding',\n",
       " 'CRUK0810_clustered_primary_SU_T1': 'polyclonal single-source seeding',\n",
       " 'CRUK0702_clustered_primary_SU_T1': 'polyclonal single-source seeding',\n",
       " 'CRUK0485_clustered_primary_SU_T1': 'polyclonal single-source seeding',\n",
       " 'CRUK0299_clustered_primary_SU_T1': 'polyclonal single-source seeding',\n",
       " 'CRUK0496_clustered_primary_SU_T1': 'polyclonal single-source seeding',\n",
       " 'CRUK0693_clustered_primary_SU_T1': 'polyclonal single-source seeding',\n",
       " 'CRUK0514_clustered_primary_SU_T1': 'polyclonal single-source seeding',\n",
       " 'CRUK0369_clustered_primary_SU_T1': 'monoclonal single-source seeding',\n",
       " 'CRUK0453_clustered_primary_SU_T1': 'polyclonal single-source seeding',\n",
       " 'CRUK0620_clustered_primary_SU_T2': 'polyclonal single-source seeding',\n",
       " 'CRUK0084_clustered_primary_MR_T1': 'monoclonal reseeding',\n",
       " 'CRUK0010_clustered_primary_SU_T1': 'polyclonal single-source seeding',\n",
       " 'CRUK0598_clustered_primary_SU_T1': 'polyclonal single-source seeding',\n",
       " 'CRUK0003_clustered_primary_SU_T1': 'polyclonal single-source seeding',\n",
       " 'CRUK0206_clustered_primary_SU_T1': 'polyclonal single-source seeding',\n",
       " 'CRUK0250_clustered_primary_SU_T1': 'polyclonal single-source seeding',\n",
       " 'CRUK0410_clustered_primary_SU_T1': 'polyclonal single-source seeding',\n",
       " 'CRUK0009_clustered_primary_SU_T1': 'polyclonal single-source seeding',\n",
       " 'CRUK0733_clustered_primary_SU_T1': 'polyclonal single-source seeding',\n",
       " 'CRUK0245_clustered_primary_SU_T1': 'polyclonal single-source seeding',\n",
       " 'CRUK0388_clustered_primary_SU_T1': 'polyclonal single-source seeding',\n",
       " 'CRUK0587_clustered_primary_SU_T1': 'polyclonal single-source seeding',\n",
       " 'CRUK0256_clustered_primary_SU_T1': 'polyclonal single-source seeding',\n",
       " 'CRUK0769_clustered_primary_SU_T1': 'polyclonal single-source seeding',\n",
       " 'CRUK0530_clustered_primary_SU_T1': 'polyclonal single-source seeding',\n",
       " 'CRUK0344_clustered_primary_SU_T1': 'polyclonal single-source seeding',\n",
       " 'CRUK0495_clustered_primary_SU_T1': 'polyclonal single-source seeding',\n",
       " 'CRUK0422_clustered_primary_SU_T1': 'polyclonal single-source seeding',\n",
       " 'CRUK0074_clustered_primary_SU_T1': 'polyclonal single-source seeding',\n",
       " 'CRUK0099_clustered_primary_SU_T1': 'polyclonal single-source seeding',\n",
       " 'CRUK0714_clustered_primary_SU_T1': 'polyclonal single-source seeding',\n",
       " 'CRUK0707_clustered_primary_SU_T1': 'polyclonal single-source seeding',\n",
       " 'CRUK0748_clustered_primary_SU_T1': 'polyclonal single-source seeding',\n",
       " 'CRUK0478_clustered_primary_SU_T1': 'polyclonal single-source seeding',\n",
       " 'CRUK0472_clustered_primary_SU_T1': 'polyclonal single-source seeding',\n",
       " 'CRUK0296_clustered_primary_SU_T1': 'polyclonal single-source seeding',\n",
       " 'CRUK0742_clustered_primary_SU_T1': 'polyclonal single-source seeding',\n",
       " 'CRUK0467_clustered_primary_SU_T1': 'polyclonal single-source seeding',\n",
       " 'CRUK0227_clustered_primary_SU_T1': 'polyclonal single-source seeding',\n",
       " 'CRUK0022_clustered_primary_SU_T1': 'polyclonal reseeding',\n",
       " 'CRUK0301_clustered_primary_SU_T1': 'polyclonal single-source seeding',\n",
       " 'CRUK0290_clustered_primary_SU_T1': 'polyclonal single-source seeding',\n",
       " 'CRUK0552_clustered_primary_SU_T1': 'polyclonal single-source seeding',\n",
       " 'CRUK0718_clustered_primary_SU_T1': 'polyclonal single-source seeding',\n",
       " 'CRUK0736_clustered_primary_SU_T1': 'polyclonal single-source seeding',\n",
       " 'CRUK0584_clustered_primary_SU_T1': 'polyclonal single-source seeding',\n",
       " 'CRUK0415_clustered_primary_SU_T1': 'polyclonal single-source seeding',\n",
       " 'CRUK0730_clustered_primary_SU_T1': 'polyclonal single-source seeding',\n",
       " 'CRUK0794_clustered_primary_SU_T1': 'polyclonal single-source seeding',\n",
       " 'CRUK0013_clustered_primary_SU_T1': 'polyclonal single-source seeding',\n",
       " 'CRUK0640_clustered_primary_SU_T1': 'polyclonal single-source seeding',\n",
       " 'CRUK0872_clustered_primary_SU_T1': 'polyclonal single-source seeding',\n",
       " 'CRUK0766_clustered_primary_SU_T1': 'polyclonal single-source seeding',\n",
       " 'CRUK0609_clustered_primary_SU_T1': 'polyclonal single-source seeding',\n",
       " 'CRUK0325_clustered_primary_SU_T1': 'polyclonal reseeding',\n",
       " 'CRUK0343_clustered_primary_SU_T1': 'polyclonal single-source seeding',\n",
       " 'CRUK0510_clustered_primary_SU_T1': 'polyclonal single-source seeding',\n",
       " 'CRUK0620_clustered_primary_SU_T1': 'polyclonal single-source seeding',\n",
       " 'CRUK0559_clustered_primary_SU_T1': 'polyclonal single-source seeding',\n",
       " 'CRUK0691_clustered_primary_SU_T1': 'polyclonal single-source seeding',\n",
       " 'CRUK0516_clustered_primary_SU_T1': 'polyclonal single-source seeding',\n",
       " 'CRUK0487_clustered_primary_SU_T1': 'polyclonal single-source seeding',\n",
       " 'CRUK0029_clustered_primary_SU_T1': 'polyclonal single-source seeding',\n",
       " 'CRUK0719_clustered_primary_SU_T1': 'monoclonal single-source seeding',\n",
       " 'CRUK0745_clustered_primary_SU_T1': 'polyclonal single-source seeding',\n",
       " 'CRUK0087_clustered_primary_SU_T1': 'polyclonal single-source seeding',\n",
       " 'CRUK0036_clustered_primary_SU_T1': 'polyclonal single-source seeding',\n",
       " 'CRUK0284_clustered_primary_SU_T1': 'polyclonal single-source seeding',\n",
       " 'CRUK0092_clustered_primary_SU_T1': 'monoclonal single-source seeding',\n",
       " 'CRUK0722_clustered_primary_SU_T1': 'polyclonal single-source seeding',\n",
       " 'CRUK0044_clustered_primary_SU_T1': 'polyclonal single-source seeding',\n",
       " 'CRUK0590_clustered_primary_SU_T1': 'polyclonal single-source seeding',\n",
       " 'CRUK0412_clustered_primary_SU_T1': 'polyclonal single-source seeding',\n",
       " 'CRUK0617_clustered_primary_SU_T1': 'polyclonal single-source seeding',\n",
       " 'CRUK0372_clustered_primary_SU_T1': 'polyclonal single-source seeding',\n",
       " 'CRUK0737_clustered_primary_SU_T1': 'polyclonal single-source seeding',\n",
       " 'CRUK0361_clustered_primary_SU_T1': 'polyclonal single-source seeding',\n",
       " 'CRUK0596_clustered_primary_SU_T1': 'polyclonal single-source seeding',\n",
       " 'CRUK0407_clustered_primary_SU_T1': 'polyclonal single-source seeding',\n",
       " 'CRUK0451_clustered_primary_SU_T1': 'polyclonal single-source seeding',\n",
       " 'CRUK0799_clustered_primary_SU_T1': 'polyclonal single-source seeding',\n",
       " 'CRUK0048_clustered_primary_SU_T1': 'polyclonal single-source seeding',\n",
       " 'CRUK0337_clustered_primary_SU_T1': 'polyclonal single-source seeding',\n",
       " 'CRUK0589_clustered_primary_SU_T1': 'polyclonal single-source seeding',\n",
       " 'CRUK0183_clustered_primary_SU_T1': 'polyclonal single-source seeding',\n",
       " 'CRUK0444_clustered_primary_SU_T1': 'polyclonal single-source seeding',\n",
       " 'CRUK0418_clustered_primary_SU_T1': 'polyclonal single-source seeding'}"
      ]
     },
     "execution_count": 4,
     "metadata": {},
     "output_type": "execute_result"
    }
   ],
   "source": [
    "conipher_mp_gd_seeding_patterns"
   ]
  },
  {
   "cell_type": "markdown",
   "id": "b1cda276",
   "metadata": {},
   "source": [
    "### How consistent are the dissemination patterns?"
   ]
  },
  {
   "cell_type": "code",
   "execution_count": 5,
   "id": "dba8f888",
   "metadata": {},
   "outputs": [],
   "source": [
    "import seaborn as sns\n"
   ]
  },
  {
   "cell_type": "code",
   "execution_count": null,
   "id": "8f70e341-3df4-4770-9eda-02f7413f2628",
   "metadata": {},
   "outputs": [],
   "source": []
  }
 ],
 "metadata": {
  "kernelspec": {
   "display_name": "Python 3 (ipykernel)",
   "language": "python",
   "name": "python3"
  },
  "language_info": {
   "codemirror_mode": {
    "name": "ipython",
    "version": 3
   },
   "file_extension": ".py",
   "mimetype": "text/x-python",
   "name": "python",
   "nbconvert_exporter": "python",
   "pygments_lexer": "ipython3",
   "version": "3.8.17"
  }
 },
 "nbformat": 4,
 "nbformat_minor": 5
}
