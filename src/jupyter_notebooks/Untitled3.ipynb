{
 "cells": [
  {
   "cell_type": "code",
   "execution_count": 1,
   "id": "d2981e40",
   "metadata": {},
   "outputs": [
    {
     "name": "stdout",
     "output_type": "stream",
     "text": [
      "CUDA GPU: False\n"
     ]
    }
   ],
   "source": [
    "import os\n",
    "from src.util import eval_util as eutil\n",
    "\n",
    "\n",
    "REPO_DIR = os.path.join(os.getcwd(), \"../\")\n",
    "os.chdir(REPO_DIR)"
   ]
  },
  {
   "cell_type": "code",
   "execution_count": 2,
   "id": "3759a518",
   "metadata": {},
   "outputs": [
    {
     "name": "stdout",
     "output_type": "stream",
     "text": [
      "Restricting to patients wih > 2 sites\n",
      "num patients 128 50\n",
      "Step 0: theta = tensor([0.3333, 0.3333, 0.3333], grad_fn=<DivBackward0>), Objective = 87.63581848144531\n",
      "Step 10: theta = tensor([0.3443, 0.3300, 0.3256], grad_fn=<DivBackward0>), Objective = 87.61882781982422\n",
      "Step 20: theta = tensor([0.3547, 0.3268, 0.3184], grad_fn=<DivBackward0>), Objective = 87.60414123535156\n",
      "Step 30: theta = tensor([0.3645, 0.3238, 0.3117], grad_fn=<DivBackward0>), Objective = 87.59149169921875\n",
      "Step 40: theta = tensor([0.3735, 0.3210, 0.3055], grad_fn=<DivBackward0>), Objective = 87.5807113647461\n",
      "Step 50: theta = tensor([0.3819, 0.3183, 0.2997], grad_fn=<DivBackward0>), Objective = 87.5715560913086\n",
      "Step 60: theta = tensor([0.3897, 0.3159, 0.2944], grad_fn=<DivBackward0>), Objective = 87.56381225585938\n",
      "Step 70: theta = tensor([0.3969, 0.3137, 0.2895], grad_fn=<DivBackward0>), Objective = 87.55728912353516\n",
      "Step 80: theta = tensor([0.4034, 0.3117, 0.2849], grad_fn=<DivBackward0>), Objective = 87.55184173583984\n",
      "Step 90: theta = tensor([0.4094, 0.3099, 0.2807], grad_fn=<DivBackward0>), Objective = 87.54724884033203\n",
      "Step 100: theta = tensor([0.4149, 0.3083, 0.2768], grad_fn=<DivBackward0>), Objective = 87.54338836669922\n",
      "Step 110: theta = tensor([0.4198, 0.3070, 0.2732], grad_fn=<DivBackward0>), Objective = 87.5401840209961\n",
      "Step 120: theta = tensor([0.4244, 0.3058, 0.2699], grad_fn=<DivBackward0>), Objective = 87.53749084472656\n",
      "Step 130: theta = tensor([0.4285, 0.3048, 0.2668], grad_fn=<DivBackward0>), Objective = 87.53523254394531\n",
      "Step 140: theta = tensor([0.4322, 0.3039, 0.2639], grad_fn=<DivBackward0>), Objective = 87.53334045410156\n",
      "Step 150: theta = tensor([0.4355, 0.3032, 0.2613], grad_fn=<DivBackward0>), Objective = 87.53174591064453\n",
      "Step 160: theta = tensor([0.4386, 0.3026, 0.2588], grad_fn=<DivBackward0>), Objective = 87.5303955078125\n",
      "Step 170: theta = tensor([0.4413, 0.3022, 0.2565], grad_fn=<DivBackward0>), Objective = 87.52923583984375\n",
      "Step 180: theta = tensor([0.4438, 0.3019, 0.2543], grad_fn=<DivBackward0>), Objective = 87.52825927734375\n",
      "Step 190: theta = tensor([0.4460, 0.3017, 0.2523], grad_fn=<DivBackward0>), Objective = 87.52740478515625\n",
      "Optimized thetas: tensor([0.4478, 0.3016, 0.2506], grad_fn=<DivBackward0>)\n"
     ]
    },
    {
     "data": {
      "text/plain": [
       "[0.4478316605091095, 0.30158117413520813, 0.2505871653556824]"
      ]
     },
     "execution_count": 2,
     "metadata": {},
     "output_type": "execute_result"
    }
   ],
   "source": [
    "tracerx_calibrate='/data/morrisq/divyak/projects/met_history_prediction/src/data/tracerx_nsclc/metient_outputs/pyclone_conipher_calibrate__nositenumrestriction_r2__2023/calibrate/'\n",
    "eutil.get_max_cross_ent_thetas(pickle_file_dirs=[tracerx_calibrate])"
   ]
  },
  {
   "cell_type": "code",
   "execution_count": null,
   "id": "958694fa",
   "metadata": {},
   "outputs": [],
   "source": [
    "prediction_dir = os.path.join(REPO_DIR, 'test', 'machina_simulated_data', 'predictions_bs1024_calibrate_solvepoly_wip_thetaopt_12072023')\n",
    "eutil.get_max_cross_ent_thetas(pickle_file_dirs=[os.path.join(prediction_dir, 'm8', 'mS'),os.path.join(prediction_dir, 'm5', 'mS')])\n",
    "eutil.get_max_cross_ent_thetas(pickle_file_dirs=[os.path.join(prediction_dir, 'm8', 'R'),os.path.join(prediction_dir, 'm5', 'R')])\n"
   ]
  },
  {
   "cell_type": "code",
   "execution_count": null,
   "id": "ee919bf9",
   "metadata": {},
   "outputs": [],
   "source": [
    "\n",
    "def is_ground_truth_tree_parallel_single_source(site, mig_type, seed):\n",
    "    labeling_fn = os.path.join(SIMS_DIR, site, mig_type, f\"T_seed{seed}.vertex.labeling\")\n",
    "    tree_fn = os.path.join(SIMS_DIR, site, mig_type, f\"T_seed{seed}.tree\")\n",
    "    true_edges, true_mig_edges, true_labeling = eutil.parse_clone_tree(tree_fn, labeling_fn)\n",
    "    del true_labeling['GL']\n",
    "    num_nodes = len(true_labeling)\n",
    "    num_sites = len(set(list(true_labeling.values())))\n",
    "    node_label_to_idx = {k:i for i,k in enumerate(list(true_labeling.keys()))}\n",
    "    A = torch.zeros((num_nodes, num_nodes))\n",
    "    for edge in true_edges:\n",
    "        if edge[0] == \"GL\":\n",
    "            continue\n",
    "        A[node_label_to_idx[edge[0]], node_label_to_idx[edge[1]]] = 1\n",
    "    \n",
    "    site_label_to_idx = {k:i for i,k in enumerate(set(list(true_labeling.values())))}\n",
    "    V = torch.zeros((num_sites, num_nodes))\n",
    "    for node_label in true_labeling:\n",
    "        site_label = true_labeling[node_label]\n",
    "        V[site_label_to_idx[site_label], node_label_to_idx[node_label]] = 1\n",
    "    \n",
    "    m, c, s, _, _ = get_ancestral_labeling_metrics(add_batch_dim(V), A, None, None, None)    \n",
    "    return s.item()==1.0\n",
    "\n",
    "parallel_ss_trees = []\n",
    "nonparallel_ss_trees = []\n",
    "\n",
    "for mig_type in MIG_TYPES:\n",
    "    for site in SITES:\n",
    "        site_mig_type_dir = os.path.join(SIMS_DIR, site, mig_type)\n",
    "        seeds = fnmatch.filter(os.listdir(site_mig_type_dir), 'clustering_observed_seed*.txt')\n",
    "        seeds = [s.replace(\".txt\", \"\").replace(\"clustering_observed_seed\", \"\") for s in seeds]\n",
    "        for seed in seeds:\n",
    "            is_parallel_ss = is_ground_truth_tree_parallel_single_source(site, mig_type, seed)\n",
    "            num_trees = get_num_mut_trees(os.path.join(SIMS_DIR, f\"{site}_mut_trees\", f\"mut_trees_{mig_type}_seed{seed}.txt\"))\n",
    "            for tree_num in range(num_trees):\n",
    "                seeding_fn = os.path.join(prediction_dir, site, mig_type, f\"tree{tree_num}_seed{seed}_calibrate.pkl.gz\")\n",
    "                if is_parallel_ss:\n",
    "                    parallel_ss_trees.append(seeding_fn) \n",
    "                else:\n",
    "                    nonparallel_ss_trees.append(seeding_fn)\n",
    "print(len(parallel_ss_trees),len(nonparallel_ss_trees)) \n",
    "\n",
    "eutil.get_max_cross_ent_thetas(pickle_file_list=parallel_ss_trees)\n",
    "eutil.get_max_cross_ent_thetas(pickle_file_list=nonparallel_ss_trees)\n"
   ]
  }
 ],
 "metadata": {
  "kernelspec": {
   "display_name": "Python [conda env:met]",
   "language": "python",
   "name": "conda-env-met-py"
  },
  "language_info": {
   "codemirror_mode": {
    "name": "ipython",
    "version": 3
   },
   "file_extension": ".py",
   "mimetype": "text/x-python",
   "name": "python",
   "nbconvert_exporter": "python",
   "pygments_lexer": "ipython3",
   "version": "3.8.0"
  }
 },
 "nbformat": 4,
 "nbformat_minor": 5
}
