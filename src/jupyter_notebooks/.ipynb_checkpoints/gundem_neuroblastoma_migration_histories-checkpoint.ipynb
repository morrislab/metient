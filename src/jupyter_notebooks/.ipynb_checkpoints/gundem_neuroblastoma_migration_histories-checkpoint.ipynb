{
 "cells": [
  {
   "cell_type": "markdown",
   "id": "7bc89adb",
   "metadata": {},
   "source": [
    "## Get migration history reconstructions from Gundem et. al. neuroblastoma data (driver genes from WES)"
   ]
  },
  {
   "cell_type": "markdown",
   "id": "bcd8c3b4",
   "metadata": {},
   "source": [
    "### Setup"
   ]
  },
  {
   "cell_type": "code",
   "execution_count": 1,
   "id": "720ae524",
   "metadata": {},
   "outputs": [
    {
     "name": "stdout",
     "output_type": "stream",
     "text": [
      "CUDA GPU: False\n"
     ]
    }
   ],
   "source": [
    "import sys\n",
    "import os\n",
    "import seaborn as sns\n",
    "import pandas as pd\n",
    "import torch\n",
    "import matplotlib.pyplot as plt\n",
    "from src.lib import vertex_labeling\n",
    "from src.util import data_extraction_util as data_util\n",
    "from src.util import pairtree_data_extraction_util as pt_util\n",
    "from src.util import vertex_labeling_util as vert_util\n",
    "from src.util import plotting_util as plot_util\n",
    "\n",
    "repo_dir = \"/Users/divyakoyyalagunta/Desktop/Cornell_Research/Morris_Lab/met_history_prediction/\"\n",
    "os.chdir(repo_dir)\n",
    "\n",
    "plt.rcParams['figure.figsize'] = [3, 3]\n",
    "\n",
    "GUNDEM_DATA_DIR = os.path.join(repo_dir, 'src/data/gundem_neuroblastoma_2023/patient_driver_genes')\n",
    "ORCHARD_TREES_DIR = os.path.join(GUNDEM_DATA_DIR, 'orchard_trees')\n",
    "custom_colors = [\"#6aa84fff\",\"#c27ba0ff\", \"#e69138ff\", \"#be5742e1\", \"#2496c8ff\", \"#674ea7ff\"] + sns.color_palette(\"Paired\").as_hex()\n"
   ]
  },
  {
   "cell_type": "markdown",
   "id": "34a30992",
   "metadata": {},
   "source": [
    "### Function to process tree/vaf inputs and run metient"
   ]
  },
  {
   "cell_type": "code",
   "execution_count": 2,
   "id": "c22e3dca",
   "metadata": {},
   "outputs": [],
   "source": [
    "def find_labeling(ref_var_fn, orchard_results_fn, custom_colors, primary_site, patient_name):    \n",
    "    ref_matrix, var_matrix, unique_sites, idx_to_cluster_label = data_util.get_ref_var_matrices_from_real_data(ref_var_fn)\n",
    "    data = pt_util.get_adj_matrices_from_pairtree_results(orchard_results_fn)\n",
    "    if len(data) >= 3: # Look at top 3 trees\n",
    "        print(f\"Using top 3 of {len(data)} inferred trees\")\n",
    "        data = data[:3 if len(data) >2 else len(data)]\n",
    "    \n",
    "    for i, (T, llh) in enumerate(data):\n",
    "        print(f\"TREE {i}, llh {llh}\")\n",
    "        print(T)\n",
    "        if not vert_util.is_tree(T):\n",
    "            print(\"Invalid tree was provided, skipping: \\n\", T)\n",
    "            continue\n",
    "        idx_to_cluster_label = {k:(\" \").join(v.split('_')[0:2]) for k,v in idx_to_cluster_label.items()}\n",
    "        print(f\"Anatomical sites: {unique_sites}\")   \n",
    "        primary_idx = unique_sites.index(primary_site)\n",
    "        p = torch.nn.functional.one_hot(torch.tensor([primary_idx]), num_classes=len(unique_sites)).T\n",
    "        weights = vertex_labeling.Weights(data_fit=1.0, mig=3.0, comig=2.0, seed_site=1.0, reg=2.0, gen_dist=0.0)\n",
    "        print_config = plot_util.PrintConfig(visualize=True, verbose=True, viz_intermeds=False, k_best_trees=1)\n",
    "        vertex_labeling.get_migration_history(T, ref_matrix, var_matrix, unique_sites, p, idx_to_cluster_label, weights,\n",
    "                                              print_config, os.path.join(GUNDEM_DATA_DIR, \"metient_outputs\"), patient_name,\n",
    "                                              custom_colors=custom_colors)\n",
    "        "
   ]
  },
  {
   "cell_type": "markdown",
   "id": "97a5ad08",
   "metadata": {},
   "source": [
    "### Run migration history analysis for all patients "
   ]
  },
  {
   "cell_type": "code",
   "execution_count": 3,
   "id": "c121a3b2",
   "metadata": {
    "scrolled": false
   },
   "outputs": [
    {
     "name": "stdout",
     "output_type": "stream",
     "text": [
      "11 patients, {'H116984_clustered', 'H134821_clustered', 'H133120_clustered', 'H132388_clustered', 'H134819_clustered', 'H118706_clustered', 'H132374_clustered', 'H133121_clustered', 'H116991_clustered', 'H132387_clustered', 'H103207_clustered'}\n",
      "xxxxxxxxxxxxxxxxxxxxxxxxxxxxxxxxxxxxxxxxxxxxx PATIENT H116984_clustered xxxxxxxxxxxxxxxxxxxxxxxxxxxxxxxxxxxxxxxxxxxxx\n",
      "Primary site: left adrenal - D\n",
      "TREE 0, llh -11.893827869535844\n",
      "Anatomical sites: ['right inguinal lymph node - R', 'left adrenal - D']\n"
     ]
    },
    {
     "name": "stderr",
     "output_type": "stream",
     "text": [
      "/Users/divyakoyyalagunta/mambaforge/envs/metf/lib/python3.7/site-packages/ipykernel_launcher.py:10: UserWarning: To copy construct from a tensor, it is recommended to use sourceTensor.clone().detach() or sourceTensor.clone().detach().requires_grad_(True), rather than torch.tensor(sourceTensor).\n",
      "  # Remove the CWD from sys.path while we load stuff.\n"
     ]
    },
    {
     "data": {
      "image/png": "[encoded data removed]",
      "text/plain": [
       "<Figure size 300x300 with 1 Axes>"
      ]
     },
     "metadata": {},
     "output_type": "display_data"
    },
    {
     "data": {
      "image/png": "[encoded data removed]",
      "text/plain": [
       "<Figure size 300x300 with 1 Axes>"
      ]
     },
     "metadata": {},
     "output_type": "display_data"
    },
    {
     "name": "stdout",
     "output_type": "stream",
     "text": [
      "Time elapsed: 18.876537\n"
     ]
    },
    {
     "ename": "NameError",
     "evalue": "name 'colors' is not defined",
     "output_type": "error",
     "traceback": [
      "\u001b[0;31m---------------------------------------------------------------------------\u001b[0m",
      "\u001b[0;31mNameError\u001b[0m                                 Traceback (most recent call last)",
      "\u001b[0;32m/var/folders/35/l3stl61s6n14w337drj2gt9m0000gn/T/ipykernel_56985/773996519.py\u001b[0m in \u001b[0;36m<module>\u001b[0;34m\u001b[0m\n\u001b[1;32m     22\u001b[0m \u001b[0mprint\u001b[0m\u001b[0;34m(\u001b[0m\u001b[0;34mf\"{len(patients)} patients, {patients}\"\u001b[0m\u001b[0;34m)\u001b[0m\u001b[0;34m\u001b[0m\u001b[0;34m\u001b[0m\u001b[0m\n\u001b[1;32m     23\u001b[0m \u001b[0;34m\u001b[0m\u001b[0m\n\u001b[0;32m---> 24\u001b[0;31m \u001b[0mrun_patients\u001b[0m\u001b[0;34m(\u001b[0m\u001b[0mpatients\u001b[0m\u001b[0;34m)\u001b[0m\u001b[0;34m\u001b[0m\u001b[0;34m\u001b[0m\u001b[0m\n\u001b[0m",
      "\u001b[0;32m/var/folders/35/l3stl61s6n14w337drj2gt9m0000gn/T/ipykernel_56985/773996519.py\u001b[0m in \u001b[0;36mrun_patients\u001b[0;34m(patients)\u001b[0m\n\u001b[1;32m     15\u001b[0m             \u001b[0mprint\u001b[0m\u001b[0;34m(\u001b[0m\u001b[0;34mf\"Primary site: {primary_site}\"\u001b[0m\u001b[0;34m)\u001b[0m\u001b[0;34m\u001b[0m\u001b[0;34m\u001b[0m\u001b[0m\n\u001b[1;32m     16\u001b[0m             find_labeling(tsv_fn, os.path.join(ORCHARD_TREES_DIR, f\"{patient}.results.npz\"),\n\u001b[0;32m---> 17\u001b[0;31m                          custom_colors, primary_site, patient)\n\u001b[0m\u001b[1;32m     18\u001b[0m \u001b[0mpatients\u001b[0m \u001b[0;34m=\u001b[0m \u001b[0mset\u001b[0m\u001b[0;34m(\u001b[0m\u001b[0;34m)\u001b[0m\u001b[0;34m\u001b[0m\u001b[0;34m\u001b[0m\u001b[0m\n\u001b[1;32m     19\u001b[0m \u001b[0;32mfor\u001b[0m \u001b[0mfile\u001b[0m \u001b[0;32min\u001b[0m \u001b[0mos\u001b[0m\u001b[0;34m.\u001b[0m\u001b[0mlistdir\u001b[0m\u001b[0;34m(\u001b[0m\u001b[0mORCHARD_TREES_DIR\u001b[0m\u001b[0;34m)\u001b[0m\u001b[0;34m:\u001b[0m\u001b[0;34m\u001b[0m\u001b[0;34m\u001b[0m\u001b[0m\n",
      "\u001b[0;32m/var/folders/35/l3stl61s6n14w337drj2gt9m0000gn/T/ipykernel_56985/3199781886.py\u001b[0m in \u001b[0;36mfind_labeling\u001b[0;34m(ref_var_fn, orchard_results_fn, custom_colors, primary_site, patient_name)\u001b[0m\n\u001b[1;32m     20\u001b[0m         vertex_labeling.get_migration_history(T, ref_matrix, var_matrix, unique_sites, p, idx_to_cluster_label, weights,\n\u001b[1;32m     21\u001b[0m                                               \u001b[0mprint_config\u001b[0m\u001b[0;34m,\u001b[0m \u001b[0mos\u001b[0m\u001b[0;34m.\u001b[0m\u001b[0mpath\u001b[0m\u001b[0;34m.\u001b[0m\u001b[0mjoin\u001b[0m\u001b[0;34m(\u001b[0m\u001b[0mGUNDEM_DATA_DIR\u001b[0m\u001b[0;34m,\u001b[0m \u001b[0;34m\"metient_outputs\"\u001b[0m\u001b[0;34m)\u001b[0m\u001b[0;34m,\u001b[0m \u001b[0mpatient_name\u001b[0m\u001b[0;34m,\u001b[0m\u001b[0;34m\u001b[0m\u001b[0;34m\u001b[0m\u001b[0m\n\u001b[0;32m---> 22\u001b[0;31m                                               custom_colors=custom_colors)\n\u001b[0m\u001b[1;32m     23\u001b[0m \u001b[0;34m\u001b[0m\u001b[0m\n",
      "\u001b[0;32m~/Desktop/Cornell_Research/Morris_Lab/met_history_prediction/src/lib/vertex_labeling.py\u001b[0m in \u001b[0;36mget_migration_history\u001b[0;34m(T, ref_matrix, var_matrix, ordered_sites, p, node_idx_to_label, weights, print_config, output_dir, run_name, G, O, max_iter, lr, init_temp, final_temp, batch_size, custom_colors, weight_init_primary, lr_sched)\u001b[0m\n\u001b[1;32m    460\u001b[0m                                                                                     \u001b[0mprint_config\u001b[0m\u001b[0;34m,\u001b[0m \u001b[0mintermediate_data\u001b[0m\u001b[0;34m,\u001b[0m\u001b[0;34m\u001b[0m\u001b[0;34m\u001b[0m\u001b[0m\n\u001b[1;32m    461\u001b[0m                                                                                     \u001b[0mcustom_colors\u001b[0m\u001b[0;34m,\u001b[0m \u001b[0mprimary_site_label\u001b[0m\u001b[0;34m,\u001b[0m\u001b[0;34m\u001b[0m\u001b[0;34m\u001b[0m\u001b[0m\n\u001b[0;32m--> 462\u001b[0;31m                                                                                     max_iter, output_dir, run_name)\n\u001b[0m\u001b[1;32m    463\u001b[0m \u001b[0;34m\u001b[0m\u001b[0m\n\u001b[1;32m    464\u001b[0m         avg_tree = plot_util.print_averaged_tree(losses_tensor, V, full_trees, node_idx_to_label, custom_colors,\n",
      "\u001b[0;32m~/Desktop/Cornell_Research/Morris_Lab/met_history_prediction/src/util/plotting_util.py\u001b[0m in \u001b[0;36mprint_best_trees\u001b[0;34m(losses_tensor, V, U, full_trees, full_branch_lengths, ref_matrix, var_matrix, B, O, G, weights, node_idx_to_label, ordered_sites, print_config, intermediate_data, custom_colors, primary, max_iter, output_dir, run_name)\u001b[0m\n\u001b[1;32m    656\u001b[0m \u001b[0;34m\u001b[0m\u001b[0m\n\u001b[1;32m    657\u001b[0m         \u001b[0mloss_info\u001b[0m \u001b[0;34m=\u001b[0m \u001b[0mprint_tree_info\u001b[0m\u001b[0;34m(\u001b[0m\u001b[0mtree\u001b[0m\u001b[0;34m,\u001b[0m \u001b[0mref_matrix\u001b[0m\u001b[0;34m,\u001b[0m \u001b[0mvar_matrix\u001b[0m\u001b[0;34m,\u001b[0m \u001b[0mB\u001b[0m\u001b[0;34m,\u001b[0m \u001b[0mO\u001b[0m\u001b[0;34m,\u001b[0m \u001b[0mweights\u001b[0m\u001b[0;34m,\u001b[0m \u001b[0mnode_idx_to_label\u001b[0m\u001b[0;34m,\u001b[0m \u001b[0mordered_sites\u001b[0m\u001b[0;34m,\u001b[0m \u001b[0mmax_iter\u001b[0m\u001b[0;34m,\u001b[0m \u001b[0mshow\u001b[0m\u001b[0;34m=\u001b[0m\u001b[0;32mFalse\u001b[0m\u001b[0;34m)\u001b[0m\u001b[0;34m\u001b[0m\u001b[0;34m\u001b[0m\u001b[0m\n\u001b[0;32m--> 658\u001b[0;31m         \u001b[0mtree_dot\u001b[0m\u001b[0;34m,\u001b[0m \u001b[0medges\u001b[0m\u001b[0;34m,\u001b[0m \u001b[0mvertices_to_sites_map\u001b[0m \u001b[0;34m=\u001b[0m \u001b[0mplot_tree\u001b[0m\u001b[0;34m(\u001b[0m\u001b[0mtree\u001b[0m\u001b[0;34m.\u001b[0m\u001b[0mlabeling\u001b[0m\u001b[0;34m,\u001b[0m \u001b[0mtree\u001b[0m\u001b[0;34m.\u001b[0m\u001b[0mtree\u001b[0m\u001b[0;34m,\u001b[0m \u001b[0mG\u001b[0m\u001b[0;34m,\u001b[0m \u001b[0mordered_sites\u001b[0m\u001b[0;34m,\u001b[0m \u001b[0mcustom_colors\u001b[0m\u001b[0;34m,\u001b[0m \u001b[0mnode_idx_to_label\u001b[0m\u001b[0;34m,\u001b[0m \u001b[0mshow\u001b[0m\u001b[0;34m=\u001b[0m\u001b[0;32mFalse\u001b[0m\u001b[0;34m)\u001b[0m\u001b[0;34m\u001b[0m\u001b[0;34m\u001b[0m\u001b[0m\n\u001b[0m\u001b[1;32m    659\u001b[0m         \u001b[0mmig_graph_dot\u001b[0m\u001b[0;34m,\u001b[0m \u001b[0mmig_graph_edges\u001b[0m \u001b[0;34m=\u001b[0m \u001b[0mplot_migration_graph\u001b[0m\u001b[0;34m(\u001b[0m\u001b[0mtree\u001b[0m\u001b[0;34m.\u001b[0m\u001b[0mlabeling\u001b[0m\u001b[0;34m,\u001b[0m \u001b[0mtree\u001b[0m\u001b[0;34m.\u001b[0m\u001b[0mtree\u001b[0m\u001b[0;34m,\u001b[0m \u001b[0mordered_sites\u001b[0m\u001b[0;34m,\u001b[0m \u001b[0mcustom_colors\u001b[0m\u001b[0;34m,\u001b[0m \u001b[0mprimary\u001b[0m\u001b[0;34m,\u001b[0m \u001b[0mshow\u001b[0m\u001b[0;34m=\u001b[0m\u001b[0;32mFalse\u001b[0m\u001b[0;34m)\u001b[0m\u001b[0;34m\u001b[0m\u001b[0;34m\u001b[0m\u001b[0m\n\u001b[1;32m    660\u001b[0m \u001b[0;34m\u001b[0m\u001b[0m\n",
      "\u001b[0;32m~/Desktop/Cornell_Research/Morris_Lab/met_history_prediction/src/util/plotting_util.py\u001b[0m in \u001b[0;36mplot_tree\u001b[0;34m(V, T, gen_dist, ordered_sites, custom_colors, custom_node_idx_to_label, show)\u001b[0m\n\u001b[1;32m    486\u001b[0m \u001b[0;34m\u001b[0m\u001b[0m\n\u001b[1;32m    487\u001b[0m \u001b[0;34m\u001b[0m\u001b[0m\n\u001b[0;32m--> 488\u001b[0;31m     \u001b[0mcolor_map\u001b[0m \u001b[0;34m=\u001b[0m \u001b[0;34m{\u001b[0m \u001b[0mdisplay_node_idx_to_label_map\u001b[0m\u001b[0;34m[\u001b[0m\u001b[0mi\u001b[0m\u001b[0;34m]\u001b[0m\u001b[0;34m[\u001b[0m\u001b[0;36m0\u001b[0m\u001b[0;34m]\u001b[0m\u001b[0;34m:\u001b[0m\u001b[0midx_to_color\u001b[0m\u001b[0;34m(\u001b[0m\u001b[0mcustom_colors\u001b[0m\u001b[0;34m,\u001b[0m \u001b[0;34m(\u001b[0m\u001b[0mV\u001b[0m\u001b[0;34m[\u001b[0m\u001b[0;34m:\u001b[0m\u001b[0;34m,\u001b[0m\u001b[0mi\u001b[0m\u001b[0;34m]\u001b[0m \u001b[0;34m==\u001b[0m \u001b[0;36m1\u001b[0m\u001b[0;34m)\u001b[0m\u001b[0;34m.\u001b[0m\u001b[0mnonzero\u001b[0m\u001b[0;34m(\u001b[0m\u001b[0;34m)\u001b[0m\u001b[0;34m[\u001b[0m\u001b[0;36m0\u001b[0m\u001b[0;34m]\u001b[0m\u001b[0;34m[\u001b[0m\u001b[0;36m0\u001b[0m\u001b[0;34m]\u001b[0m\u001b[0;34m.\u001b[0m\u001b[0mitem\u001b[0m\u001b[0;34m(\u001b[0m\u001b[0;34m)\u001b[0m\u001b[0;34m)\u001b[0m \u001b[0;32mfor\u001b[0m \u001b[0mi\u001b[0m \u001b[0;32min\u001b[0m \u001b[0mrange\u001b[0m\u001b[0;34m(\u001b[0m\u001b[0mV\u001b[0m\u001b[0;34m.\u001b[0m\u001b[0mshape\u001b[0m\u001b[0;34m[\u001b[0m\u001b[0;36m1\u001b[0m\u001b[0;34m]\u001b[0m\u001b[0;34m)\u001b[0m\u001b[0;34m}\u001b[0m\u001b[0;34m\u001b[0m\u001b[0;34m\u001b[0m\u001b[0m\n\u001b[0m\u001b[1;32m    489\u001b[0m     \u001b[0mG\u001b[0m \u001b[0;34m=\u001b[0m \u001b[0mnx\u001b[0m\u001b[0;34m.\u001b[0m\u001b[0mDiGraph\u001b[0m\u001b[0;34m(\u001b[0m\u001b[0;34m)\u001b[0m\u001b[0;34m\u001b[0m\u001b[0;34m\u001b[0m\u001b[0m\n\u001b[1;32m    490\u001b[0m     node_options = {\"label\":\"\", \"shape\": \"circle\", \"penwidth\":3, \n",
      "\u001b[0;32m~/Desktop/Cornell_Research/Morris_Lab/met_history_prediction/src/util/plotting_util.py\u001b[0m in \u001b[0;36m<dictcomp>\u001b[0;34m(.0)\u001b[0m\n\u001b[1;32m    486\u001b[0m \u001b[0;34m\u001b[0m\u001b[0m\n\u001b[1;32m    487\u001b[0m \u001b[0;34m\u001b[0m\u001b[0m\n\u001b[0;32m--> 488\u001b[0;31m     \u001b[0mcolor_map\u001b[0m \u001b[0;34m=\u001b[0m \u001b[0;34m{\u001b[0m \u001b[0mdisplay_node_idx_to_label_map\u001b[0m\u001b[0;34m[\u001b[0m\u001b[0mi\u001b[0m\u001b[0;34m]\u001b[0m\u001b[0;34m[\u001b[0m\u001b[0;36m0\u001b[0m\u001b[0;34m]\u001b[0m\u001b[0;34m:\u001b[0m\u001b[0midx_to_color\u001b[0m\u001b[0;34m(\u001b[0m\u001b[0mcustom_colors\u001b[0m\u001b[0;34m,\u001b[0m \u001b[0;34m(\u001b[0m\u001b[0mV\u001b[0m\u001b[0;34m[\u001b[0m\u001b[0;34m:\u001b[0m\u001b[0;34m,\u001b[0m\u001b[0mi\u001b[0m\u001b[0;34m]\u001b[0m \u001b[0;34m==\u001b[0m \u001b[0;36m1\u001b[0m\u001b[0;34m)\u001b[0m\u001b[0;34m.\u001b[0m\u001b[0mnonzero\u001b[0m\u001b[0;34m(\u001b[0m\u001b[0;34m)\u001b[0m\u001b[0;34m[\u001b[0m\u001b[0;36m0\u001b[0m\u001b[0;34m]\u001b[0m\u001b[0;34m[\u001b[0m\u001b[0;36m0\u001b[0m\u001b[0;34m]\u001b[0m\u001b[0;34m.\u001b[0m\u001b[0mitem\u001b[0m\u001b[0;34m(\u001b[0m\u001b[0;34m)\u001b[0m\u001b[0;34m)\u001b[0m \u001b[0;32mfor\u001b[0m \u001b[0mi\u001b[0m \u001b[0;32min\u001b[0m \u001b[0mrange\u001b[0m\u001b[0;34m(\u001b[0m\u001b[0mV\u001b[0m\u001b[0;34m.\u001b[0m\u001b[0mshape\u001b[0m\u001b[0;34m[\u001b[0m\u001b[0;36m1\u001b[0m\u001b[0;34m]\u001b[0m\u001b[0;34m)\u001b[0m\u001b[0;34m}\u001b[0m\u001b[0;34m\u001b[0m\u001b[0;34m\u001b[0m\u001b[0m\n\u001b[0m\u001b[1;32m    489\u001b[0m     \u001b[0mG\u001b[0m \u001b[0;34m=\u001b[0m \u001b[0mnx\u001b[0m\u001b[0;34m.\u001b[0m\u001b[0mDiGraph\u001b[0m\u001b[0;34m(\u001b[0m\u001b[0;34m)\u001b[0m\u001b[0;34m\u001b[0m\u001b[0;34m\u001b[0m\u001b[0m\n\u001b[1;32m    490\u001b[0m     node_options = {\"label\":\"\", \"shape\": \"circle\", \"penwidth\":3, \n",
      "\u001b[0;32m~/Desktop/Cornell_Research/Morris_Lab/met_history_prediction/src/util/plotting_util.py\u001b[0m in \u001b[0;36midx_to_color\u001b[0;34m(custom_colors, idx, alpha)\u001b[0m\n\u001b[1;32m    272\u001b[0m \u001b[0;32mdef\u001b[0m \u001b[0midx_to_color\u001b[0m\u001b[0;34m(\u001b[0m\u001b[0mcustom_colors\u001b[0m\u001b[0;34m,\u001b[0m \u001b[0midx\u001b[0m\u001b[0;34m,\u001b[0m \u001b[0malpha\u001b[0m\u001b[0;34m=\u001b[0m\u001b[0;36m1.0\u001b[0m\u001b[0;34m)\u001b[0m\u001b[0;34m:\u001b[0m\u001b[0;34m\u001b[0m\u001b[0;34m\u001b[0m\u001b[0m\n\u001b[1;32m    273\u001b[0m     \u001b[0;32mif\u001b[0m \u001b[0mcustom_colors\u001b[0m \u001b[0;34m!=\u001b[0m \u001b[0;32mNone\u001b[0m\u001b[0;34m:\u001b[0m\u001b[0;34m\u001b[0m\u001b[0;34m\u001b[0m\u001b[0m\n\u001b[0;32m--> 274\u001b[0;31m         \u001b[0mrgb\u001b[0m \u001b[0;34m=\u001b[0m \u001b[0mcolors\u001b[0m\u001b[0;34m.\u001b[0m\u001b[0mto_rgb\u001b[0m\u001b[0;34m(\u001b[0m\u001b[0mcustom_colors\u001b[0m\u001b[0;34m[\u001b[0m\u001b[0midx\u001b[0m\u001b[0;34m]\u001b[0m\u001b[0;34m)\u001b[0m\u001b[0;34m\u001b[0m\u001b[0;34m\u001b[0m\u001b[0m\n\u001b[0m\u001b[1;32m    275\u001b[0m         \u001b[0mrgb_alpha\u001b[0m \u001b[0;34m=\u001b[0m \u001b[0;34m(\u001b[0m\u001b[0mrgb\u001b[0m\u001b[0;34m[\u001b[0m\u001b[0;36m0\u001b[0m\u001b[0;34m]\u001b[0m\u001b[0;34m,\u001b[0m \u001b[0mrgb\u001b[0m\u001b[0;34m[\u001b[0m\u001b[0;36m1\u001b[0m\u001b[0;34m]\u001b[0m\u001b[0;34m,\u001b[0m \u001b[0mrgb\u001b[0m\u001b[0;34m[\u001b[0m\u001b[0;36m2\u001b[0m\u001b[0;34m]\u001b[0m\u001b[0;34m,\u001b[0m \u001b[0malpha\u001b[0m\u001b[0;34m)\u001b[0m\u001b[0;34m\u001b[0m\u001b[0;34m\u001b[0m\u001b[0m\n\u001b[1;32m    276\u001b[0m         \u001b[0;32mreturn\u001b[0m \u001b[0mmcolors\u001b[0m\u001b[0;34m.\u001b[0m\u001b[0mto_hex\u001b[0m\u001b[0;34m(\u001b[0m\u001b[0mrgb_alpha\u001b[0m\u001b[0;34m,\u001b[0m \u001b[0mkeep_alpha\u001b[0m\u001b[0;34m=\u001b[0m\u001b[0;32mTrue\u001b[0m\u001b[0;34m)\u001b[0m\u001b[0;34m\u001b[0m\u001b[0;34m\u001b[0m\u001b[0m\n",
      "\u001b[0;31mNameError\u001b[0m: name 'colors' is not defined"
     ]
    }
   ],
   "source": [
    "def run_patients(patients):\n",
    "    for patient in patients:\n",
    "        space = \"x\"*45\n",
    "        tsv_fn = os.path.join(GUNDEM_DATA_DIR, f\"{patient}_SNVs.tsv\")\n",
    "        print(f\"{space} PATIENT {patient} {space}\")\n",
    "        df = pd.read_csv(tsv_fn, delimiter=\"\\t\")\n",
    "        primary_sites = list(df[df['tumor_type']=='primary_disease']['anatomical_site_label'].unique())\n",
    "        if len(primary_sites) > 1:\n",
    "            # Try to find one unique primary, diagnosis sample to use as primary\n",
    "            primary_sites = list(df[(df['tumor_type']=='primary_disease') & (df['sample_type']=='diagnosis')]['anatomical_site_label'].unique())\n",
    "            if (len(primary_sites) > 1):\n",
    "                print(\"*Multiple primary samples, running metient once for each possible primary*\")\n",
    "\n",
    "        for primary_site in primary_sites:\n",
    "            print(f\"Primary site: {primary_site}\")\n",
    "            find_labeling(tsv_fn, os.path.join(ORCHARD_TREES_DIR, f\"{patient}.results.npz\"),\n",
    "                         custom_colors, primary_site, patient)\n",
    "patients = set()\n",
    "for file in os.listdir(ORCHARD_TREES_DIR):\n",
    "    if \"_clustered.results.npz\" in file:\n",
    "        patients.add(file.split(\".\")[0])\n",
    "print(f\"{len(patients)} patients, {patients}\")\n",
    "\n",
    "run_patients(patients)"
   ]
  },
  {
   "cell_type": "markdown",
   "id": "d6c01f42",
   "metadata": {},
   "source": [
    "### WIP metastatic selection analysis"
   ]
  },
  {
   "cell_type": "code",
   "execution_count": 2,
   "id": "24e4a5c2",
   "metadata": {},
   "outputs": [],
   "source": [
    "def metastatic_selection_analysis(ref_var_fn, primary):\n",
    "    ref_matrix, var_matrix, unique_sites, cluster_label_to_idx = data_util.get_ref_var_matrices_from_real_data(ref_var_fn)\n",
    "    print(unique_sites)\n",
    "    df = pd.read_csv(ref_var_fn, delimiter=\"\\t\")\n",
    "    vaf_matrix = var_matrix / (var_matrix + ref_matrix)\n",
    "    purity = np.array(df[df['character_label']==list(cluster_label_to_idx.keys())[0]]['purity'])\n",
    "    # TODO: get CN calls\n",
    "    print(\"purity\", purity)\n",
    "    mult = 1.0 # assume number of chromosomal copies that carry the mutation is 1.0\n",
    "    local_cn = 2.0 # assume local CN is 2 for now\n",
    "    a = ((vaf_matrix.T/(mult*purity)))\n",
    "    b = ((purity*local_cn) + (2.0*(1.0-purity)))\n",
    "    ccf_matrix = (a*b).T.numpy()\n",
    "    print(ccf_matrix)\n",
    "    \n",
    "    # 0 = absent, 1 = subclonal, 2 = clonal\n",
    "    clonality_matrix = np.where(((ccf_matrix <= 0.5) & (ccf_matrix > 0.1)), 1, 0)\n",
    "    clonality_matrix = np.where((ccf_matrix > 0.5), 2, clonality_matrix)\n",
    "    clonality_data = []\n",
    "    label_map = {0:\"Absent\", 1:\"Subclonal\", 2:\"Clonal\"}\n",
    "    num_subclones = clonality_matrix.shape[1]\n",
    "    for i in range(num_subclones):\n",
    "        subclone_col = clonality_matrix[:,i]\n",
    "        clonality_data.append([i]+[label_map[k] for k in subclone_col])\n",
    "    \n",
    "    primary_idx = unique_sites.index(primary)\n",
    "    site_labels = [f\"{site.capitalize()} Primary\" if i==primary_idx else f\"{site.capitalize()} Metastasis\" for i, site in enumerate(unique_sites)]\n",
    "    clonality_df = pd.DataFrame(clonality_data, columns=[\"Subclone\"]+site_labels)\n",
    "    print(clonality_df)\n",
    "    \n",
    "    # we call mutations with CCF>0.5 as clonal mutations, mutations with CCF<=0.5 and CCF>0.1 are subclonal\n",
    "    # breast vs. liver\n",
    "    from matplotlib import pyplot as plt\n",
    "    import seaborn as sns\n",
    "    fig, axes = plt.subplots(2, 3, figsize=(15, 8), constrained_layout=True)\n",
    "    y = f\"{primary.capitalize()} Primary\"\n",
    "\n",
    "    c = 1\n",
    "    for i in [0,1]:\n",
    "        for j in [0,1,2]:\n",
    "            if c == len(clonality_df.columns): break\n",
    "            x = clonality_df.columns[c]\n",
    "            print(x)\n",
    "\n",
    "            ax = sns.swarmplot(ax=axes[i,j], data=clonality_df, x=x, y=y, \n",
    "                               order=[\"Absent\", \"Subclonal\", \"Clonal\"], size=10, \n",
    "                               hue=\"Subclone\")\n",
    "            sns.despine(offset=0, trim=True)\n",
    "            ax.set_xlabel(x, fontsize=11)\n",
    "            ax.set_ylabel(y, fontsize=11)\n",
    "            ax.get_legend().remove()\n",
    "            # there is only one axes for this plot; provide an alias for ease of use\n",
    "    #         ax.set_yticks([\"Absent\", \"Subclonal\", \"Clonal\"])\n",
    "            # get the ytick locations for each name\n",
    "            point_locs = []\n",
    "            for path in ax.collections:\n",
    "                point_locs.append(path.get_offsets())\n",
    "                #print(path.get_label())\n",
    "\n",
    "            point_locs = [list(item) for sublist in point_locs for item in sublist]\n",
    "            c += 1\n",
    "    fig.suptitle(f\"Metastasizing Clones\", x=0.33, y=0.95, horizontalalignment='left', verticalalignment='top', fontsize=14, fontweight='bold')\n",
    "    handles, labels = ax.get_legend_handles_labels()\n",
    "    fig.legend(handles, labels, loc='lower center', ncol=num_subclones)\n",
    "        # for i, point_loc in enumerate(point_locs):\n",
    "        #     ax.text(point_loc[0], point_loc[1]+0.05, str(i))\n",
    "        # for i in range(num_subclones):\n",
    "    plt.subplots_adjust(left=0.1, bottom=0.1, right=0.75)"
   ]
  }
 ],
 "metadata": {
  "kernelspec": {
   "display_name": "Python [conda env:metf] *",
   "language": "python",
   "name": "conda-env-metf-py"
  },
  "language_info": {
   "codemirror_mode": {
    "name": "ipython",
    "version": 3
   },
   "file_extension": ".py",
   "mimetype": "text/x-python",
   "name": "python",
   "nbconvert_exporter": "python",
   "pygments_lexer": "ipython3",
   "version": "3.7.12"
  }
 },
 "nbformat": 4,
 "nbformat_minor": 5
}
