{
 "cells": [
  {
   "cell_type": "code",
   "execution_count": 3,
   "id": "317b9f08",
   "metadata": {},
   "outputs": [],
   "source": [
    "# Test migration history reconstruction on breast cancer data\n",
    "\n",
    "import sys\n",
    "import os\n",
    "\n",
    "repo_dir = \"/Users/divyakoyyalagunta/Desktop/Cornell_Research/Morris_Lab/met_history_prediction/\"\n",
    "os.chdir(repo_dir)\n",
    "\n",
    "from src.lib import vertex_labeling\n",
    "\n",
    "from src.util import data_extraction_util as data_util\n",
    "from src.util import vertex_labeling_util as vert_util\n",
    "import matplotlib\n",
    "import torch\n",
    "\n",
    "matplotlib.rcParams['figure.figsize'] = [3, 3]\n",
    "\n",
    "HOADLEY_DATA_DIR = os.path.join(repo_dir, 'src/data/hoadley_breast_cancer_2016')\n",
    "MSK_MET_FN = os.path.join(repo_dir, 'src/data/msk_met/msk_met_freq_one_met_patients.csv')\n",
    "                          \n",
    "HOAD_MSK_MET_MAP = {\n",
    "    \"liver\": \"Liver\",\n",
    "    \"brain\": \"CNS/Brain\",\n",
    "    \"rib\": \"Bone\",\n",
    "    \"breast\": \"Breast\",\n",
    "    \"kidney\": \"Kidney\",\n",
    "    \"lung\": \"Lung\",\n",
    "    \"adrenal\": \"Adrenal Gland\",\n",
    "    \"spinal\": \"CNS/Brain\"\n",
    "}\n",
    "\n",
    "def find_labeling(all_mut_trees_fn, ref_var_fn, custom_colors):    \n",
    "    ref_matrix, var_matrix, unique_sites, cluster_label_to_idx = data_util.get_ref_var_matrices_from_real_data(ref_var_fn)\n",
    "    data = data_util.get_adj_matrices_from_all_mutation_trees(all_mut_trees_fn, cluster_label_to_idx)\n",
    "    print(\"num trees:\", len(data))\n",
    "    print(unique_sites)\n",
    "    tree_num = 1\n",
    "    for adj_matrix, pruned_cluster_label_to_idx in data:\n",
    "        print(f\"\\nTREE {tree_num}\")\n",
    "        T = torch.tensor(adj_matrix, dtype = torch.float32)\n",
    "        B = vert_util.get_mutation_matrix_tensor(T)\n",
    "        idx_to_label = {v:str(v) for k,v in pruned_cluster_label_to_idx.items()}\n",
    "        G = data_util.get_genetic_distance_tensor_from_adj_matrix(T, pruned_cluster_label_to_idx, \"_\")\n",
    "        G=None\n",
    "        primary_idx = unique_sites.index('breast')\n",
    "        r = torch.nn.functional.one_hot(torch.tensor([primary_idx]), num_classes=len(unique_sites)).T\n",
    "        O = data_util.get_organotropism_matrix(unique_sites, HOAD_MSK_MET_MAP, MSK_MET_FN)\n",
    "        weights = vertex_labeling.Weights(data_fit=1.0, mig=3.0, comig=2.0, seed_site=1.0, reg=2.0, gen_dist=0.0, organotrop=0.0)\n",
    "        print_config = vert_util.PrintConfig(visualize=True, verbose=True, viz_intermeds=False, k_best_trees=5)\n",
    "        edges, vert_to_site_map, _, _, _ = vertex_labeling.gumbel_softmax_optimization(T, ref_matrix, var_matrix, B, ordered_sites=unique_sites, G=G,\n",
    "                                                    O=O, weights=weights, print_config=print_config, p=r, \n",
    "                                                    node_idx_to_label=idx_to_label, batch_size=128, init_temp=30, \n",
    "                                                    final_temp=0.01, max_iter=200, custom_colors=custom_colors, \n",
    "                                                    primary=\"breast\", lr_sched=\"step\")\n",
    "        tree_num += 1\n",
    "    return edges, vert_to_site_map\n"
   ]
  },
  {
   "cell_type": "code",
   "execution_count": null,
   "id": "14ae51ec",
   "metadata": {
    "scrolled": false
   },
   "outputs": [
    {
     "name": "stdout",
     "output_type": "stream",
     "text": [
      "num trees: 2\n",
      "['breast', 'adrenal', 'liver', 'lung', 'spinal']\n",
      "TREE 1\n",
      "Adrenal Gland not in MSK-MET as primary tumor\n",
      "Adrenal Gland not in MSK-MET as primary tumor\n",
      "Adrenal Gland not in MSK-MET as primary tumor\n",
      "Adrenal Gland not in MSK-MET as primary tumor\n",
      "Adrenal Gland not in MSK-MET as primary tumor\n",
      "CNS/Brain not in MSK-MET as primary tumor\n",
      "CNS/Brain not in MSK-MET as primary tumor\n",
      "CNS/Brain not in MSK-MET as primary tumor\n",
      "CNS/Brain not in MSK-MET as primary tumor\n",
      "CNS/Brain not in MSK-MET as primary tumor\n"
     ]
    }
   ],
   "source": [
    "# Patient A1, SPRUCE trees\n",
    "custom_colors = [matplotlib.colors.to_hex(c) for c in ['green', 'red', 'royalblue', 'darkorange', 'purple']]\n",
    "custom_colors = [\"#6aa84fff\",\"#c27ba0ff\", \"#be5742e1\", \"#6fa8dcff\", \"#e69138ff\", \"#9e9e9eff\"]\n",
    "\n",
    "find_labeling(os.path.join(HOADLEY_DATA_DIR, \"A1/A1_SPRUCE_trees.txt\"), os.path.join(HOADLEY_DATA_DIR, \"A1/A1_0.95.tsv\"), custom_colors)\n"
   ]
  },
  {
   "cell_type": "code",
   "execution_count": null,
   "id": "fe4325a5",
   "metadata": {
    "scrolled": true
   },
   "outputs": [],
   "source": [
    "# Patient A7, SPRUCE trees\n",
    "custom_colors = [matplotlib.colors.to_hex(c) for c in ['limegreen', 'hotpink', 'saddlebrown', 'royalblue', 'darkorange', 'grey']]\n",
    "custom_colors = [\"#6aa84fff\",\"#c27ba0ff\", \"#be5742e1\", \"#2496c8ff\", \"#e69138ff\", \"#674ea7ff\"]\n",
    "\n",
    "edges, vert_to_site_map = find_labeling(os.path.join(HOADLEY_DATA_DIR, \"A7/A7_SPRUCE_trees.txt\"), os.path.join(HOADLEY_DATA_DIR, \"A7/A7_0.95.tsv\"), custom_colors)\n",
    "\n",
    "print(\"edges\", edges)"
   ]
  },
  {
   "cell_type": "code",
   "execution_count": null,
   "id": "1a29068c",
   "metadata": {},
   "outputs": [],
   "source": [
    "# metastatic subclone selection analysis of A7\n",
    "ref_var_fn = os.path.join(HOADLEY_DATA_DIR, \"A7/A7_0.95.tsv\")\n",
    "ref_matrix, var_matrix, unique_sites, cluster_label_to_idx = data_util.get_ref_var_matrices_from_real_data(ref_var_fn)\n",
    "print(unique_sites)\n",
    "\n",
    "vaf_matrix = var_matrix / (var_matrix + ref_matrix)\n",
    "purity = 0.95 # from Hoadley paper, is this right? probably need to re-estimate\n",
    "mult = 1.0 # assume number of chromosomal copies that carry the mutation is 1.0\n",
    "local_cn = 2.0 # assume local CN is 2 for now\n",
    "ccf_matrix = ((vaf_matrix/(mult*purity))*((purity*local_cn) + (2*(1-purity)))).numpy()\n",
    "ccf_matrix"
   ]
  },
  {
   "cell_type": "code",
   "execution_count": null,
   "id": "0f5bd8a8",
   "metadata": {},
   "outputs": [],
   "source": [
    "import numpy as np\n",
    "# 0 = absent, 1 = subclonal, 2 = clonal\n",
    "clonality_matrix = np.where(((ccf_matrix <= 0.5) & (ccf_matrix > 0.1)), 1, 0)\n",
    "clonality_matrix = np.where((ccf_matrix > 0.5), 2, clonality_matrix)\n",
    "clonality_matrix"
   ]
  },
  {
   "cell_type": "code",
   "execution_count": null,
   "id": "7990b352",
   "metadata": {},
   "outputs": [],
   "source": [
    "import pandas as pd\n",
    "clonality_data = []\n",
    "label_map = {0:\"Absent\", 1:\"Subclonal\", 2:\"Clonal\"}\n",
    "num_subclones = clonality_matrix.shape[1]\n",
    "for i in range(num_subclones):\n",
    "    subclone_col = clonality_matrix[:,i]\n",
    "    clonality_data.append([i]+[label_map[k] for k in subclone_col])\n",
    "\n",
    "site_labels = [f\"{site.capitalize()} Primary\" if i == 0 else f\"{site.capitalize()} Metastasis\" for i, site in enumerate(unique_sites)]\n",
    "clonality_df = pd.DataFrame(clonality_data, columns=[\"Subclone\"]+site_labels)\n",
    "clonality_df\n"
   ]
  },
  {
   "cell_type": "code",
   "execution_count": null,
   "id": "e8786f14",
   "metadata": {},
   "outputs": [],
   "source": [
    "# we call mutations with CCF>0.5 as clonal mutations, mutations with CCF<=0.5 and CCF>0.1 are subclonal\n",
    "# breast vs. liver\n",
    "from matplotlib import pyplot as plt\n",
    "import seaborn as sns\n",
    "fig, axes = plt.subplots(2, 3, figsize=(15, 8), constrained_layout=True)\n",
    "y = \"Breast Primary\"\n",
    "\n",
    "c = 1\n",
    "for i in [0,1]:\n",
    "    for j in [0,1,2]:\n",
    "        if c == len(clonality_df.columns): break\n",
    "        x = clonality_df.columns[c]\n",
    "        print(x)\n",
    "\n",
    "        ax = sns.swarmplot(ax=axes[i,j], data=clonality_df, x=x, y=y, \n",
    "                           order=[\"Absent\", \"Subclonal\", \"Clonal\"], size=10, \n",
    "                           hue=\"Subclone\")\n",
    "        sns.despine(offset=0, trim=True)\n",
    "        ax.set_xlabel(x, fontsize=11)\n",
    "        ax.set_ylabel(y, fontsize=11)\n",
    "        ax.get_legend().remove()\n",
    "        # there is only one axes for this plot; provide an alias for ease of use\n",
    "#         ax.set_yticks([\"Absent\", \"Subclonal\", \"Clonal\"])\n",
    "        # get the ytick locations for each name\n",
    "        point_locs = []\n",
    "        for path in ax.collections:\n",
    "            point_locs.append(path.get_offsets())\n",
    "            #print(path.get_label())\n",
    "\n",
    "        point_locs = [list(item) for sublist in point_locs for item in sublist]\n",
    "        c += 1\n",
    "fig.suptitle(f\"Metastasizing Clones\", x=0.33, y=0.95, horizontalalignment='left', verticalalignment='top', fontsize=14, fontweight='bold')\n",
    "handles, labels = ax.get_legend_handles_labels()\n",
    "fig.legend(handles, labels, loc='lower center', ncol=num_subclones)\n",
    "    # for i, point_loc in enumerate(point_locs):\n",
    "    #     ax.text(point_loc[0], point_loc[1]+0.05, str(i))\n",
    "    # for i in range(num_subclones):\n",
    "plt.subplots_adjust(left=0.1, bottom=0.1, right=0.75)\n"
   ]
  },
  {
   "cell_type": "code",
   "execution_count": null,
   "id": "8876b33c",
   "metadata": {},
   "outputs": [],
   "source": [
    "U_clip = [[0.4769335091114044, 0.5134045481681824, 0.0, 0.0, 0.0, 0.0, 0.0, 0.0, 0.0, 0.0, 0.0], [0.3397281765937805, 0.0, 0.0, 0.0, 0.2556871175765991, 0.0, 0.0, 0.0, 0.0, 0.0, 0.36632010340690613], [0.5697565078735352, 0.0, 0.0, 0.0, 0.0, 0.0, 0.0, 0.0, 0.40199223160743713, 0.0, 0.0], [0.1478603333234787, 0.0, 0.0, 0.06622103601694107, 0.0, 0.400208055973053, 0.0, 0.0, 0.0, 0.3738396167755127, 0.0], [0.3028472065925598, 0.0, 0.0, 0.0, 0.0, 0.0, 0.0, 0.593723714351654, 0.0, 0.0, 0.0], [0.27643024921417236, 0.0, 0.0, 0.0, 0.0, 0.0, 0.7042533159255981, 0.0, 0.0, 0.0, 0.0]]\n",
    "sites = ['breast', 'brain', 'kidney', 'liver', 'lung', 'rib']\n",
    "prevalence_df = pd.DataFrame(U_clip, columns=[\"norm\"] + [str(i) for i in range(len(U_clip[0])-1)], index=sites)\n",
    "prevalence_df=prevalence_df.stack().reset_index().rename(columns={'level_0':'sample_id','level_1':'clone_id', 0:'clonal_prev'})\n",
    "prevalence_df\n"
   ]
  },
  {
   "cell_type": "code",
   "execution_count": null,
   "id": "5c6a431c",
   "metadata": {},
   "outputs": [],
   "source": [
    "edges= [(\"norm\", \"0\"), ('0', '1'), ('0', '3'), ('1', '2'), ('1', '5'), ('2', '4'), ('3', '6'), ('3', '9'), ('4', '7'), ('4', '8')]\n",
    "tree_df = pd.DataFrame(edges, columns=[\"source\", \"target\"])\n",
    "tree_df\n"
   ]
  },
  {
   "cell_type": "code",
   "execution_count": null,
   "id": "6cc49bd5",
   "metadata": {},
   "outputs": [],
   "source": [
    "x_coords = [205, 293, 440, 244, 405, 290]\n",
    "y_coords = [660, 126, 835, 806, 624, 450]\n",
    "sample_locs = pd.DataFrame([sites, sites, x_coords, y_coords]).T\n",
    "sample_locs.columns = [\"sample_id\", \"location_id\", \"x\", \"y\"]\n",
    "sample_locs"
   ]
  },
  {
   "cell_type": "code",
   "execution_count": null,
   "id": "6f4d2062",
   "metadata": {},
   "outputs": [],
   "source": [
    "sample_locs.to_csv(os.path.join(HOADLEY_DATA_DIR, \"A7\", \"sample_locs.csv\"), index=False)\n",
    "tree_df.to_csv(os.path.join(HOADLEY_DATA_DIR, \"A7\",\"tree_df.csv\"), index=False)\n",
    "prevalence_df.to_csv(os.path.join(HOADLEY_DATA_DIR, \"A7\", \"prevalence_df.csv\"), index=False)"
   ]
  },
  {
   "cell_type": "code",
   "execution_count": null,
   "id": "ff17797e",
   "metadata": {},
   "outputs": [],
   "source": [
    "HOADLEY_DATA_DIR"
   ]
  },
  {
   "cell_type": "code",
   "execution_count": null,
   "id": "56760da2",
   "metadata": {},
   "outputs": [],
   "source": [
    "%load_ext rpy2.ipython"
   ]
  },
  {
   "cell_type": "code",
   "execution_count": null,
   "id": "91c41d0c",
   "metadata": {},
   "outputs": [],
   "source": [
    "%%R -i prevalence_df\n",
    "library(mapscape)\n",
    "hoadley_dir<-\"/Users/divyakoyyalagunta/Desktop/Cornell_Research/Morris_Lab/met_history_prediction/src/data/hoadley_breast_cancer_2016/A7/\"\n",
    "# clonal prevalences\n",
    "clonal_prev <- read.csv(file.path(hoadley_dir, \"prevalence_df.csv\"))\n",
    "print(clonal_prev)\n",
    "# locations of each tumour sample on user-provided image\n",
    "sample_locations <- read.csv(file.path(hoadley_dir, \"sample_locs.csv\"))\n",
    "# genotype tree edges\n",
    "tree_edges <- read.csv(file.path(hoadley_dir, \"tree_df.csv\"))\n",
    "# image reference\n",
    "img_ref <- file.path(hoadley_dir, \"anatomical_sites.png\")\n",
    "# radial order of samples\n",
    "sample_ids <- c('breast', 'brain', 'kidney', 'liver', 'lung', 'rib')\n",
    "# run mapscape\n",
    "mapscape(clonal_prev = clonal_prev, tree_edges = tree_edges, sample_locations = sample_locations, \n",
    "img_ref = img_ref,show_warnings=TRUE)\n",
    "\n",
    "# library(mapscape)\n",
    "# hoadley_dir <- \"/Users/divyakoyyalagunta/Desktop/Cornell_Research/Morris_Lab/met_history_prediction/src/data/hoadley_breast_cancer_2016/A7\"\n",
    "# mapscape(clonal_prev = prevalence_df, tree_edges=tree_df, sample_locations=sample_locs, img_ref=file.path(hoadley_dir, \"anatomical_sites.png\"))\n"
   ]
  },
  {
   "cell_type": "code",
   "execution_count": null,
   "id": "95a60589",
   "metadata": {},
   "outputs": [],
   "source": [
    "%%R -i prevalence_df\n",
    "library(mapscape)\n"
   ]
  },
  {
   "cell_type": "code",
   "execution_count": null,
   "id": "80ea89bf",
   "metadata": {},
   "outputs": [],
   "source": []
  }
 ],
 "metadata": {
  "kernelspec": {
   "display_name": "Python 3 (ipykernel)",
   "language": "python",
   "name": "python3"
  },
  "language_info": {
   "codemirror_mode": {
    "name": "ipython",
    "version": 3
   },
   "file_extension": ".py",
   "mimetype": "text/x-python",
   "name": "python",
   "nbconvert_exporter": "python",
   "pygments_lexer": "ipython3",
   "version": "3.7.12"
  }
 },
 "nbformat": 4,
 "nbformat_minor": 5
}
