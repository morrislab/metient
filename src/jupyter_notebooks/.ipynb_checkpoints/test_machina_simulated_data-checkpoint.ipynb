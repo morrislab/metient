{
 "cells": [
  {
   "cell_type": "code",
   "execution_count": 1,
   "id": "b00d07c6",
   "metadata": {},
   "outputs": [],
   "source": [
    "# Test migration history reconstruction on simulated data\n",
    "\n",
    "import sys\n",
    "import os\n",
    "\n",
    "repo_dir = \"/Users/divyakoyyalagunta/Desktop/Cornell_Research/Morris_Lab/metastatic_history_reconstruction_git/\"\n",
    "os.chdir(repo_dir)\n",
    "sys.path.append(os.path.join(repo_dir, \"metastatic_history_reconstruction/util\"))\n",
    "from metastatic_history_reconstruction.lib import vertex_labeling\n",
    "\n",
    "from metastatic_history_reconstruction.util import machina_data_extraction_util as mach_util\n",
    "from metastatic_history_reconstruction.util import vertex_labeling_util as vert_util\n",
    "import matplotlib\n",
    "import torch\n",
    "\n",
    "MACHINA_DATA_DIR = '/Users/divyakoyyalagunta/Desktop/Cornell_Research/Morris_Lab/machina/data/'\n"
   ]
  },
  {
   "cell_type": "code",
   "execution_count": 2,
   "id": "6d889d15",
   "metadata": {},
   "outputs": [],
   "source": [
    "custom_colors = [matplotlib.colors.to_hex(c) for c in ['limegreen', 'royalblue', 'hotpink', 'grey', 'saddlebrown', 'darkorange', 'purple', 'red', 'black', 'black', 'black', 'black']]\n",
    "\n",
    "def find_labeling(cluster_fn, tree_fn, ref_var_fn):\n",
    "    cluster_label_to_idx = mach_util.get_cluster_label_to_idx(cluster_fn, ignore_polytomies=True)\n",
    "    print(cluster_label_to_idx)\n",
    "    idx_to_label = {v:k for k,v in cluster_label_to_idx.items()}\n",
    "    \n",
    "    T = torch.tensor(mach_util.get_adj_matrix_from_machina_tree(cluster_label_to_idx, tree_fn, skip_polytomies=True), dtype = torch.float32)\n",
    "    B = vert_util.get_mutation_matrix_tensor(T)\n",
    "    ref_matrix, var_matrix, unique_sites= mach_util.get_ref_var_matrices_from_machina_sim_data(ref_var_fn, \n",
    "                                                                                               cluster_label_to_idx=cluster_label_to_idx,\n",
    "                                                                                               T=T)\n",
    "    \n",
    "    print(unique_sites)   \n",
    "    primary_idx = unique_sites.index('P')\n",
    "    r = torch.nn.functional.one_hot(torch.tensor([primary_idx]), num_classes=len(unique_sites)).T\n",
    "\n",
    "    vertex_labeling.gumbel_softmax_optimization(T, ref_matrix, var_matrix, B, ordered_sites=unique_sites, \n",
    "                                                p=r, node_idx_to_label=idx_to_label, \n",
    "                                                w_e=0.01, w_l=3, w_m=10, max_iter=100, batch_size=128, \n",
    "                                                custom_colors=custom_colors, primary=\"prostate\")\n",
    "\n",
    "import pydot\n",
    "from IPython.display import Image, display\n",
    "\n",
    "def visualize_ground_truth(tree_fn, graph_fn):\n",
    "    def view_pydot(pdot):\n",
    "        plt = Image(pdot.create_png())\n",
    "        display(plt)\n",
    "    \n",
    "    (graph,) = pydot.graph_from_dot_file(tree_fn)\n",
    "    view_pydot(graph)\n",
    "\n",
    "    (graph,) = pydot.graph_from_dot_file(graph_fn)\n",
    "    view_pydot(graph)\n",
    "        \n",
    "        "
   ]
  },
  {
   "cell_type": "code",
   "execution_count": null,
   "id": "f3a9db54",
   "metadata": {},
   "outputs": [
    {
     "name": "stdout",
     "output_type": "stream",
     "text": [
      "{'0': 0, '2;3': 1, '8;12;13;19;40': 2, '45': 3, '50': 4, '66;69': 5, '73': 6, '25;26': 7, '30;34;41;44;60;63;74': 8, '48': 9, '36': 10, '38': 11, '78': 12, '86': 13, '87': 14, '67': 15, '33;47;56;58': 16, '68;75': 17, '54;62;64;65': 18, '49;55;72': 19, '24;39;42;52;53;57;81': 20, '70;79': 21, '59': 22, '27;35': 23, '5;7;10;11;17;18;20;22;23': 24, '1;4;6;14;15;16;21;28;31;32': 25, '9': 26}\n",
      "child_to_parent_map {'2;3': '0', '24;39;42;52;53;57;81': '0', '5;7;10;11;17;18;20;22;23': '0', '1;4;6;14;15;16;21;28;31;32': '0', '9': '0', '8;12;13;19;40': '2;3', '27;35': '2;3', '45': '8;12;13;19;40', '50': '8;12;13;19;40', '54;62;64;65': '45', '49;55;72': '45', '70;79': '45', '59': '45', '66;69': '50', 'M5_1': '50', '68;75': '50', '73': '66;69', '67': '38', '86': '67', '87': '54;62;64;65', '78': 'M5_1', '48': '27;35', '36': '5;7;10;11;17;18;20;22;23', '38': '5;7;10;11;17;18;20;22;23', '25;26': '9', '30;34;41;44;60;63;74': '9', '33;47;56;58': '9'}\n",
      "['P', 'M1', 'M2', 'M3', 'M4', 'M5', 'M6', 'M7', 'M8']\n",
      "tensor([[0., 1., 0., 0., 0., 0., 0., 0., 0., 0., 0., 0., 0., 0., 0., 0., 0., 0.,\n",
      "         0., 0., 1., 0., 0., 0., 1., 1., 1.],\n",
      "        [0., 0., 1., 0., 0., 0., 0., 0., 0., 0., 0., 0., 0., 0., 0., 0., 0., 0.,\n",
      "         0., 0., 0., 0., 0., 1., 0., 0., 0.],\n",
      "        [0., 0., 0., 1., 1., 0., 0., 0., 0., 0., 0., 0., 0., 0., 0., 0., 0., 0.,\n",
      "         0., 0., 0., 0., 0., 0., 0., 0., 0.],\n",
      "        [0., 0., 0., 0., 0., 0., 0., 0., 0., 0., 0., 0., 0., 0., 0., 0., 0., 0.,\n",
      "         1., 1., 0., 1., 1., 0., 0., 0., 0.],\n",
      "        [0., 0., 0., 0., 0., 1., 0., 0., 0., 0., 0., 0., 1., 0., 0., 0., 0., 1.,\n",
      "         0., 0., 0., 0., 0., 0., 0., 0., 0.],\n",
      "        [0., 0., 0., 0., 0., 0., 1., 0., 0., 0., 0., 0., 0., 0., 0., 0., 0., 0.,\n",
      "         0., 0., 0., 0., 0., 0., 0., 0., 0.],\n",
      "        [0., 0., 0., 0., 0., 0., 0., 0., 0., 0., 0., 0., 0., 0., 0., 0., 0., 0.,\n",
      "         0., 0., 0., 0., 0., 0., 0., 0., 0.],\n",
      "        [0., 0., 0., 0., 0., 0., 0., 0., 0., 0., 0., 0., 0., 0., 0., 0., 0., 0.,\n",
      "         0., 0., 0., 0., 0., 0., 0., 0., 0.],\n",
      "        [0., 0., 0., 0., 0., 0., 0., 0., 0., 0., 0., 0., 0., 0., 0., 0., 0., 0.,\n",
      "         0., 0., 0., 0., 0., 0., 0., 0., 0.],\n",
      "        [0., 0., 0., 0., 0., 0., 0., 0., 0., 0., 0., 0., 0., 0., 0., 0., 0., 0.,\n",
      "         0., 0., 0., 0., 0., 0., 0., 0., 0.],\n",
      "        [0., 0., 0., 0., 0., 0., 0., 0., 0., 0., 0., 0., 0., 0., 0., 0., 0., 0.,\n",
      "         0., 0., 0., 0., 0., 0., 0., 0., 0.],\n",
      "        [0., 0., 0., 0., 0., 0., 0., 0., 0., 0., 0., 0., 0., 0., 0., 1., 0., 0.,\n",
      "         0., 0., 0., 0., 0., 0., 0., 0., 0.],\n",
      "        [0., 0., 0., 0., 0., 0., 0., 0., 0., 0., 0., 0., 0., 0., 0., 0., 0., 0.,\n",
      "         0., 0., 0., 0., 0., 0., 0., 0., 0.],\n",
      "        [0., 0., 0., 0., 0., 0., 0., 0., 0., 0., 0., 0., 0., 0., 0., 0., 0., 0.,\n",
      "         0., 0., 0., 0., 0., 0., 0., 0., 0.],\n",
      "        [0., 0., 0., 0., 0., 0., 0., 0., 0., 0., 0., 0., 0., 0., 0., 0., 0., 0.,\n",
      "         0., 0., 0., 0., 0., 0., 0., 0., 0.],\n",
      "        [0., 0., 0., 0., 0., 0., 0., 0., 0., 0., 0., 0., 0., 1., 0., 0., 0., 0.,\n",
      "         0., 0., 0., 0., 0., 0., 0., 0., 0.],\n",
      "        [0., 0., 0., 0., 0., 0., 0., 0., 0., 0., 0., 0., 0., 0., 0., 0., 0., 0.,\n",
      "         0., 0., 0., 0., 0., 0., 0., 0., 0.],\n",
      "        [0., 0., 0., 0., 0., 0., 0., 0., 0., 0., 0., 0., 0., 0., 0., 0., 0., 0.,\n",
      "         0., 0., 0., 0., 0., 0., 0., 0., 0.],\n",
      "        [0., 0., 0., 0., 0., 0., 0., 0., 0., 0., 0., 0., 0., 0., 1., 0., 0., 0.,\n",
      "         0., 0., 0., 0., 0., 0., 0., 0., 0.],\n",
      "        [0., 0., 0., 0., 0., 0., 0., 0., 0., 0., 0., 0., 0., 0., 0., 0., 0., 0.,\n",
      "         0., 0., 0., 0., 0., 0., 0., 0., 0.],\n",
      "        [0., 0., 0., 0., 0., 0., 0., 0., 0., 0., 0., 0., 0., 0., 0., 0., 0., 0.,\n",
      "         0., 0., 0., 0., 0., 0., 0., 0., 0.],\n",
      "        [0., 0., 0., 0., 0., 0., 0., 0., 0., 0., 0., 0., 0., 0., 0., 0., 0., 0.,\n",
      "         0., 0., 0., 0., 0., 0., 0., 0., 0.],\n",
      "        [0., 0., 0., 0., 0., 0., 0., 0., 0., 0., 0., 0., 0., 0., 0., 0., 0., 0.,\n",
      "         0., 0., 0., 0., 0., 0., 0., 0., 0.],\n",
      "        [0., 0., 0., 0., 0., 0., 0., 0., 0., 1., 0., 0., 0., 0., 0., 0., 0., 0.,\n",
      "         0., 0., 0., 0., 0., 0., 0., 0., 0.],\n",
      "        [0., 0., 0., 0., 0., 0., 0., 0., 0., 0., 1., 1., 0., 0., 0., 0., 0., 0.,\n",
      "         0., 0., 0., 0., 0., 0., 0., 0., 0.],\n",
      "        [0., 0., 0., 0., 0., 0., 0., 0., 0., 0., 0., 0., 0., 0., 0., 0., 0., 0.,\n",
      "         0., 0., 0., 0., 0., 0., 0., 0., 0.],\n",
      "        [0., 0., 0., 0., 0., 0., 0., 1., 1., 0., 0., 0., 0., 0., 0., 0., 1., 0.,\n",
      "         0., 0., 0., 0., 0., 0., 0., 0., 0.]])\n"
     ]
    }
   ],
   "source": [
    "num_sites = \"m8\"\n",
    "mig_type = \"M\"\n",
    "SEED = \"243\"\n",
    "\n",
    "SIM_DATA_DIR = os.path.join(MACHINA_DATA_DIR, \"sims\", num_sites, mig_type)\n",
    "\n",
    "find_labeling(os.path.join(SIM_DATA_DIR, f\"clustering_observed_seed{SEED}.txt\"),\n",
    "              os.path.join(SIM_DATA_DIR, f\"T_seed{SEED}.tree\"),\n",
    "              os.path.join(SIM_DATA_DIR, f\"seed{SEED}_0.95.tsv\"))\n",
    "\n",
    "print(\"Ground truth\")\n",
    "visualize_ground_truth(os.path.join(SIM_DATA_DIR, f\"T_seed{SEED}.dot\"), os.path.join(SIM_DATA_DIR, f\"G_seed{SEED}.dot\"))\n"
   ]
  },
  {
   "cell_type": "code",
   "execution_count": null,
   "id": "80c44ba5",
   "metadata": {},
   "outputs": [],
   "source": [
    "visualize_ground_truth(os.path.join(SIM_DATA_DIR, f\"T_seed{SEED}.dot\"), os.path.join(SIM_DATA_DIR, f\"G_seed{SEED}.dot\"))\n"
   ]
  },
  {
   "cell_type": "code",
   "execution_count": null,
   "id": "63ffe35a",
   "metadata": {
    "scrolled": false
   },
   "outputs": [],
   "source": [
    "num_sites = \"m8\"\n",
    "mig_type = \"M\"\n",
    "SEED = \"243\"\n",
    "\n",
    "SIM_DATA_DIR = os.path.join(MACHINA_DATA_DIR, \"sims\", num_sites, mig_type)\n",
    "\n",
    "find_labeling(os.path.join(SIM_DATA_DIR, f\"clustering_observed_seed{SEED}.txt\"),\n",
    "              os.path.join(SIM_DATA_DIR, f\"T_seed{SEED}.tree\"),\n",
    "              os.path.join(SIM_DATA_DIR, f\"seed{SEED}_0.95.tsv\"))\n",
    "\n",
    "print(\"Ground truth\")\n",
    "visualize_ground_truth(os.path.join(SIM_DATA_DIR, f\"T_seed{SEED}.dot\"), os.path.join(SIM_DATA_DIR, f\"G_seed{SEED}.dot\"))"
   ]
  },
  {
   "cell_type": "code",
   "execution_count": null,
   "id": "10b90337",
   "metadata": {
    "scrolled": false
   },
   "outputs": [],
   "source": [
    "num_sites = \"m5\"\n",
    "mig_type = \"mS\"\n",
    "SEED = \"5\"\n",
    "\n",
    "SIM_DATA_DIR = os.path.join(MACHINA_DATA_DIR, \"sims\", num_sites, mig_type)\n",
    "\n",
    "find_labeling(os.path.join(SIM_DATA_DIR, f\"clustering_observed_seed{SEED}.txt\"),\n",
    "              os.path.join(SIM_DATA_DIR, f\"T_seed{SEED}.tree\"),\n",
    "              os.path.join(SIM_DATA_DIR, f\"seed{SEED}_0.95.tsv\"))\n",
    "\n",
    "print(\"Ground truth\")\n",
    "visualize_ground_truth(os.path.join(SIM_DATA_DIR, f\"T_seed{SEED}.dot\"), os.path.join(SIM_DATA_DIR, f\"G_seed{SEED}.dot\"))\n"
   ]
  },
  {
   "cell_type": "code",
   "execution_count": null,
   "id": "9ce5eca3",
   "metadata": {},
   "outputs": [],
   "source": [
    "SEED=2\n",
    "visualize_ground_truth(os.path.join(SIM_DATA_DIR, f\"T_seed{SEED}.dot\"), os.path.join(SIM_DATA_DIR, f\"G_seed{SEED}.dot\"))\n"
   ]
  },
  {
   "cell_type": "code",
   "execution_count": null,
   "id": "b1d7f1d1",
   "metadata": {},
   "outputs": [],
   "source": []
  }
 ],
 "metadata": {
  "kernelspec": {
   "display_name": "Python 3",
   "language": "python",
   "name": "python3"
  },
  "language_info": {
   "codemirror_mode": {
    "name": "ipython",
    "version": 3
   },
   "file_extension": ".py",
   "mimetype": "text/x-python",
   "name": "python",
   "nbconvert_exporter": "python",
   "pygments_lexer": "ipython3",
   "version": "3.8.8"
  }
 },
 "nbformat": 4,
 "nbformat_minor": 5
}
