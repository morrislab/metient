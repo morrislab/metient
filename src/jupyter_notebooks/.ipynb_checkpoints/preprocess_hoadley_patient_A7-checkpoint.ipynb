{
 "cells": [
  {
   "cell_type": "markdown",
   "metadata": {},
   "source": [
    "# Parse patient A7 data\n",
    "\n",
    "## Adapted from MACHNA (El-Kebir et. al.)"
   ]
  },
  {
   "cell_type": "code",
   "execution_count": 10,
   "metadata": {},
   "outputs": [],
   "source": [
    "confidence=0.95"
   ]
  },
  {
   "cell_type": "code",
   "execution_count": 11,
   "metadata": {},
   "outputs": [],
   "source": [
    "def get_id(line):\n",
    "    return \"_\".join(map(str, [line['chromosome_name'], line['start'], line['stop']]))"
   ]
  },
  {
   "cell_type": "code",
   "execution_count": 12,
   "metadata": {
    "scrolled": true
   },
   "outputs": [
    {
     "data": {
      "text/plain": [
       "Index(['chromosome_name', 'start', 'stop', 'reference', 'variant', 'type',\n",
       "       'gene_name', 'transcript_name', 'transcript_species',\n",
       "       'transcript_source', 'transcript_version', 'strand',\n",
       "       'transcript_status', 'trv_type', 'c_position', 'amino_acid_change',\n",
       "       'ucsc_cons', 'domain', 'all_domains', 'deletion_substructures',\n",
       "       'transcript_error', 'brain.rcnt.llr3_ref', 'brain.rcnt.llr3_var',\n",
       "       'brain.rcnt.llr3_VAF', 'kidney.rcnt.llr3_ref', 'kidney.rcnt.llr3_var',\n",
       "       'kidney.rcnt.llr3_VAF', 'liver.rcnt.llr3_ref', 'liver.rcnt.llr3_var',\n",
       "       'liver.rcnt.llr3_VAF', 'lung.rcnt.llr3_ref', 'lung.rcnt.llr3_var',\n",
       "       'lung.rcnt.llr3_VAF', 'rib.rcnt.llr3_ref', 'rib.rcnt.llr3_var',\n",
       "       'rib.rcnt.llr3_VAF', 'tumor.rcnt.llr3_ref', 'tumor.rcnt.llr3_var',\n",
       "       'tumor.rcnt.llr3_VAF', 'cluster'],\n",
       "      dtype='object')"
      ]
     },
     "execution_count": 12,
     "metadata": {},
     "output_type": "execute_result"
    }
   ],
   "source": [
    "import pandas as pd\n",
    "import os\n",
    "\n",
    "HOADLEY_DATA_DIR = '/Users/divyakoyyalagunta/Desktop/Cornell_Research/Morris_Lab/machina/data/hoadley_2016/'\n",
    "table = pd.read_table(os.path.join(HOADLEY_DATA_DIR,\"A7/raw/A7.tsv\"))\n",
    "table['id']=table.apply(get_id, axis=1)\n",
    "table = table.set_index('id')\n",
    "table.columns"
   ]
  },
  {
   "cell_type": "markdown",
   "metadata": {},
   "source": [
    "## Generate MACHINA input file"
   ]
  },
  {
   "cell_type": "code",
   "execution_count": 14,
   "metadata": {},
   "outputs": [],
   "source": [
    "ref_cols = ['tumor.rcnt.llr3_ref','brain.rcnt.llr3_ref', 'kidney.rcnt.llr3_ref', 'liver.rcnt.llr3_ref', 'lung.rcnt.llr3_ref', 'rib.rcnt.llr3_ref']\n",
    "var_cols = ['tumor.rcnt.llr3_var','brain.rcnt.llr3_var', 'kidney.rcnt.llr3_var', 'liver.rcnt.llr3_var', 'lung.rcnt.llr3_var', 'rib.rcnt.llr3_var']\n",
    "\n",
    "cols = ['breast', 'brain', 'kidney', 'liver', 'lung', 'rib']\n",
    "table = table[['cluster']+ref_cols+var_cols]\n",
    "table.columns = ['cluster']+['ref-'+c for c in cols] + ['var-'+c for c in cols]"
   ]
  },
  {
   "cell_type": "markdown",
   "metadata": {},
   "source": [
    "### Reassign clusters of mutations 7_12163423_12163423 and 7_57562948_57562948\n",
    "\n",
    "#### details for why in MACHINA paper"
   ]
  },
  {
   "cell_type": "code",
   "execution_count": 15,
   "metadata": {},
   "outputs": [
    {
     "name": "stdout",
     "output_type": "stream",
     "text": [
      "cluster         3\n",
      "ref-breast    161\n",
      "ref-brain     218\n",
      "ref-kidney    185\n",
      "ref-liver     102\n",
      "ref-lung      132\n",
      "ref-rib       114\n",
      "var-breast      0\n",
      "var-brain       6\n",
      "var-kidney     60\n",
      "var-liver     104\n",
      "var-lung        0\n",
      "var-rib        47\n",
      "Name: 7_12163423_12163423, dtype: int64\n",
      "cluster         3\n",
      "ref-breast    196\n",
      "ref-brain     286\n",
      "ref-kidney    306\n",
      "ref-liver     132\n",
      "ref-lung      235\n",
      "ref-rib       146\n",
      "var-breast      1\n",
      "var-brain       4\n",
      "var-kidney     67\n",
      "var-liver     121\n",
      "var-lung        0\n",
      "var-rib        81\n",
      "Name: 7_57562948_57562948, dtype: int64\n",
      "0.9991666666666666\n"
     ]
    }
   ],
   "source": [
    "ctable = table.groupby('cluster').sum()\n",
    "ctable.head()\n",
    "\n",
    "print(table.loc['7_12163423_12163423'])\n",
    "print(table.loc['7_57562948_57562948'])\n",
    "\n",
    "table.loc['7_12163423_12163423']['cluster']=2\n",
    "table.loc['7_57562948_57562948']['cluster']=2\n",
    "\n",
    "global corrected_confidence\n",
    "nsamples = len([c for c in ctable.columns if c.startswith('ref')])\n",
    "nclusters = len(ctable)\n",
    "corrected_confidence = 1-((1.-confidence)/(nsamples*nclusters))\n",
    "print(corrected_confidence)\n",
    "\n",
    "assert(corrected_confidence > confidence)\n",
    "assert(corrected_confidence < 1.0)\n"
   ]
  },
  {
   "cell_type": "markdown",
   "metadata": {},
   "source": [
    "## Get intervals"
   ]
  },
  {
   "cell_type": "code",
   "execution_count": 16,
   "metadata": {},
   "outputs": [],
   "source": [
    "import numpy\n",
    "from scipy.stats import beta\n",
    "from scipy.stats import norm\n",
    "\n",
    "def binomial_hpdr(n, N, pct, a=1, b=1, n_pbins=1e3):\n",
    "    \"\"\"\n",
    "    Function computes the posterior mode along with the upper and lower bounds of the\n",
    "    **Highest Posterior Density Region**.\n",
    "\n",
    "    Parameters\n",
    "    ----------\n",
    "    n: number of successes \n",
    "    N: sample size \n",
    "    pct: the size of the confidence interval (between 0 and 1)\n",
    "    a: the alpha hyper-parameter for the Beta distribution used as a prior (Default=1)\n",
    "    b: the beta hyper-parameter for the Beta distribution used as a prior (Default=1)\n",
    "    n_pbins: the number of bins to segment the p_range into (Default=1e3)\n",
    "\n",
    "    Returns\n",
    "    -------\n",
    "    A tuple that contains the mode as well as the lower and upper bounds of the interval\n",
    "    (mode, lower, upper)\n",
    "\n",
    "    \"\"\"\n",
    "    # fixed random variable object for posterior Beta distribution\n",
    "    rv = beta(n+a, N-n+b)\n",
    "    # determine the mode and standard deviation of the posterior\n",
    "    stdev = rv.stats('v')**0.5\n",
    "    mode = (n+a-1.)/(N+a+b-2.)\n",
    "    # compute the number of sigma that corresponds to this confidence\n",
    "    # this is used to set the rough range of possible success probabilities\n",
    "    n_sigma = numpy.ceil(norm.ppf( (1+pct)/2. ))+1\n",
    "    # set the min and max values for success probability \n",
    "    max_p = mode + n_sigma * stdev\n",
    "    if max_p > 1:\n",
    "        max_p = 1.\n",
    "    min_p = mode - n_sigma * stdev\n",
    "    if min_p > 1:\n",
    "        min_p = 1.\n",
    "    # make the range of success probabilities\n",
    "    p_range = numpy.linspace(min_p, max_p, int(n_pbins+1))\n",
    "    # construct the probability mass function over the given range\n",
    "    if mode > 0.5:\n",
    "        sf = rv.sf(p_range)\n",
    "        pmf = sf[:-1] - sf[1:]\n",
    "    else:\n",
    "        cdf = rv.cdf(p_range)\n",
    "        pmf = cdf[1:] - cdf[:-1]\n",
    "    # find the upper and lower bounds of the interval \n",
    "    sorted_idxs = numpy.argsort( pmf )[::-1]\n",
    "    cumsum = numpy.cumsum( numpy.sort(pmf)[::-1] )\n",
    "    j = numpy.argmin( numpy.abs(cumsum - pct) )\n",
    "    upper = p_range[ (sorted_idxs[:j+1]).max()+1 ]\n",
    "    lower = p_range[ (sorted_idxs[:j+1]).min() ]    \n",
    "\n",
    "    return (mode, lower, upper)"
   ]
  },
  {
   "cell_type": "code",
   "execution_count": 17,
   "metadata": {},
   "outputs": [],
   "source": [
    "#### \n",
    "def get_ub(row, sam):\n",
    "    v=binomial_hpdr(row['var-'+sam], row['var-'+sam]+row['ref-'+sam], corrected_confidence)\n",
    "    return v[2]\n",
    "    \n",
    "\n",
    "def get_lb(row, sam):\n",
    "    v=binomial_hpdr(row['var-'+sam], row['var-'+sam]+row['ref-'+sam], corrected_confidence)\n",
    "    mval = v[1]\n",
    "    #if mval < 0.01: mval = 0\n",
    "    return mval\n",
    "\n",
    "def get_mean(row, sam):\n",
    "    v=binomial_hpdr(row['var-'+sam], row['var-'+sam]+row['ref-'+sam], corrected_confidence)\n",
    "    mval = v[0]\n",
    "    return mval\n",
    "\n",
    "ctable = table.groupby('cluster').sum()\n",
    "for sam in cols:\n",
    "    ctable['ub-'+sam]= ctable.apply(get_ub, args=[sam], axis=1)\n",
    "    ctable['lb-'+sam]= ctable.apply(get_lb, args=[sam], axis=1)\n",
    "    ctable[sam]= ctable.apply(get_mean, args=[sam], axis=1)"
   ]
  },
  {
   "cell_type": "code",
   "execution_count": 18,
   "metadata": {},
   "outputs": [],
   "source": [
    "def get_ub(row, sam):\n",
    "    v=binomial_hpdr(row['var-'+sam], row['var-'+sam]+row['ref-'+sam], corrected_confidence)\n",
    "    return v[2]\n",
    "    \n",
    "\n",
    "def get_lb(row, sam):\n",
    "    v=binomial_hpdr(row['var-'+sam], row['var-'+sam]+row['ref-'+sam], corrected_confidence)\n",
    "    mval = v[1]\n",
    "    if mval < 0.01: mval = 0\n",
    "    return mval\n",
    "\n",
    "def get_mean(row, sam):\n",
    "    v=binomial_hpdr(row['var-'+sam], row['var-'+sam]+row['ref-'+sam], corrected_confidence)\n",
    "    mval = v[0]\n",
    "    return mval\n",
    "\n",
    "ctable_cutoff = table.groupby('cluster').sum()\n",
    "for sam in cols:\n",
    "    ctable_cutoff['ub-'+sam]= ctable.apply(get_ub, args=[sam], axis=1)\n",
    "    ctable_cutoff['lb-'+sam]= ctable.apply(get_lb, args=[sam], axis=1)\n",
    "    ctable_cutoff[sam]= ctable.apply(get_mean, args=[sam], axis=1)"
   ]
  },
  {
   "cell_type": "code",
   "execution_count": 19,
   "metadata": {},
   "outputs": [],
   "source": [
    "def get_vaf(row, sam):\n",
    "    return float(row['var-'+sam])/float(row['var-'+sam]+row['ref-'+sam])\n",
    "\n",
    "#ctable_cutoff = table.groupby('cluster').mean()\n",
    "vafs = pd.DataFrame()\n",
    "for sam in cols:\n",
    "    vafs[sam] = table.apply(get_vaf, args=[sam], axis=1)\n",
    "vafs['cluster'] = table['cluster']"
   ]
  },
  {
   "cell_type": "code",
   "execution_count": 20,
   "metadata": {},
   "outputs": [],
   "source": [
    "rows = [\"5 #anatomical sites\\n5 #samples\\n9 #mutations\\n#sample_index\\tsample_label\\tanatomical_site_index\\tanatomical_site_label\\tcharacter_index\\tcharacter_label\\tf_lb\\tf_ub\\tref\\tvar\\n\",]\n",
    "def print_char(row, sam):\n",
    "    return \"\\t\".join(map(str,[i, sam, i, sam, row.name-1, str(row.name), max(row['lb-'+sam] * 2, 0), min(1, 2 * row['ub-'+sam]), int(row['ref-'+sam]), int(row['var-'+sam])]))+\"\\n\"\n",
    "\n",
    "for i, sam in enumerate(cols):\n",
    "    rows += list(ctable_cutoff.apply(print_char, args=[sam], axis=1))\n",
    "\n",
    "with open(\"../A7_MACHINA_\"+str(confidence)+\".tsv\", 'w') as f:\n",
    "    for line in rows:\n",
    "        f.write(line)"
   ]
  }
 ],
 "metadata": {
  "kernelspec": {
   "display_name": "Python 3",
   "language": "python",
   "name": "python3"
  },
  "language_info": {
   "codemirror_mode": {
    "name": "ipython",
    "version": 3
   },
   "file_extension": ".py",
   "mimetype": "text/x-python",
   "name": "python",
   "nbconvert_exporter": "python",
   "pygments_lexer": "ipython3",
   "version": "3.8.8"
  }
 },
 "nbformat": 4,
 "nbformat_minor": 1
}
