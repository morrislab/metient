{
 "cells": [
  {
   "cell_type": "markdown",
   "id": "4d23c2ad",
   "metadata": {},
   "source": [
    "### How often do we find more parsimonious solutions?"
   ]
  },
  {
   "cell_type": "code",
   "execution_count": 1,
   "id": "dd76c1b2",
   "metadata": {},
   "outputs": [],
   "source": [
    "import os\n",
    "import pickle\n",
    "from src.lib.vertex_labeling import *\n",
    "from src.util import eval_util as eutil\n",
    "from src.util.globals import *\n",
    "from tqdm import tqdm\n",
    "import fnmatch\n",
    "import seaborn as sns\n",
    "\n",
    "REPO_DIR = os.path.join(os.getcwd(), \"../\")\n",
    "os.chdir(REPO_DIR)\n",
    "DATE = \"10092023\"\n",
    "PARAMS = \"m10x8_s1x10_delt0.8_gd1.0\"\n",
    "\n",
    "SIMS_DIR = os.path.join(REPO_DIR, \"data/machina_sims\")\n",
    "\n",
    "def get_num_mut_trees(mut_tree_fn):\n",
    "    with open(mut_tree_fn, 'r') as f:\n",
    "        # look for line w/ \"3 #trees\" as an example\n",
    "        for line in f:\n",
    "            if  \"#trees\" in line:\n",
    "                return int(line.strip().split()[0])    \n",
    "            \n",
    "def get_pckl_info(bs, run, site, mig_type, seed, tree_num):\n",
    "    prediction_dir = os.path.join(REPO_DIR, 'test', 'machina_simulated_data', f'batch_experiments_{DATE}', f'predictions_bs{bs}_{PARAMS}_r{run}_{DATE}')\n",
    "    predicted_site_mig_type_data_dir = os.path.join(prediction_dir, site, mig_type)\n",
    "    metient_pickle = open(os.path.join(predicted_site_mig_type_data_dir, f\"tree{tree_num}_seed{seed}.pickle\"), \"rb\")\n",
    "    pckl = pickle.load(metient_pickle)\n",
    "    Vs = pckl[OUT_LABElING_KEY]\n",
    "    A = pckl[OUT_ADJ_KEY]\n",
    "    losses = pckl[OUT_LOSSES_KEY]\n",
    "    return Vs, A, losses\n"
   ]
  },
  {
   "cell_type": "code",
   "execution_count": 2,
   "id": "cbc53553",
   "metadata": {},
   "outputs": [],
   "source": [
    "import torch\n",
    "def get_V_A_from_ground_truth_tree(site, mig_type, seed):\n",
    "    labeling_fn = os.path.join(SIMS_DIR, site, mig_type, f\"T_seed{seed}.vertex.labeling\")\n",
    "    tree_fn = os.path.join(SIMS_DIR, site, mig_type, f\"T_seed{seed}.tree\")\n",
    "    true_edges, true_mig_edges, true_labeling = eutil.parse_clone_tree(tree_fn, labeling_fn)\n",
    "    del true_labeling['GL']\n",
    "    num_nodes = len(true_labeling)\n",
    "    num_sites = len(set(list(true_labeling.values())))\n",
    "    node_label_to_idx = {k:i for i,k in enumerate(list(true_labeling.keys()))}\n",
    "    A = torch.zeros((num_nodes, num_nodes))\n",
    "    for edge in true_edges:\n",
    "        if edge[0] == \"GL\":\n",
    "            continue\n",
    "        A[node_label_to_idx[edge[0]], node_label_to_idx[edge[1]]] = 1\n",
    "    \n",
    "    site_label_to_idx = {k:i for i,k in enumerate(set(list(true_labeling.values())))}\n",
    "    V = torch.zeros((num_sites, num_nodes))\n",
    "    for node_label in true_labeling:\n",
    "        site_label = true_labeling[node_label]\n",
    "        V[site_label_to_idx[site_label], node_label_to_idx[node_label]] = 1\n",
    "    return V, A\n"
   ]
  },
  {
   "cell_type": "code",
   "execution_count": 3,
   "id": "bc98c26a",
   "metadata": {},
   "outputs": [
    {
     "name": "stdout",
     "output_type": "stream",
     "text": [
      "64\n",
      "m5 mS\n",
      "m5 M\n",
      "m5 S\n",
      "m5 R\n",
      "m8 mS\n",
      "m8 M\n",
      "m8 S\n",
      "m8 R\n",
      "256\n",
      "m5 mS\n",
      "m5 M\n",
      "m5 S\n",
      "m5 R\n",
      "m8 mS\n",
      "m8 M\n",
      "m8 S\n"
     ]
    },
    {
     "name": "stderr",
     "output_type": "stream",
     "text": [
      "\n",
      "KeyboardInterrupt\n",
      "\n"
     ]
    }
   ],
   "source": [
    "\n",
    "SITES = [\"m5\", \"m8\"]\n",
    "MIG_TYPES = [\"mS\", \"M\", \"S\", \"R\"]\n",
    "BATCH_SIZES = ['64', '256', '1024', '4096', '8192']\n",
    "\n",
    "num_runs = 10\n",
    "num_less = 0\n",
    "site_to_bs_to_num_more_pars = {'m5':{bs:[0]*num_runs for bs in BATCH_SIZES}, 'm8':{bs:[0]*num_runs for bs in BATCH_SIZES}}\n",
    "for bs in BATCH_SIZES:\n",
    "    print(bs)\n",
    "    for site in SITES:\n",
    "        for mig_type in MIG_TYPES:\n",
    "            print(site, mig_type)\n",
    "            # Get all seeds for mig_type + site combo\n",
    "            site_mig_type_dir = os.path.join(SIMS_DIR, site, mig_type)\n",
    "            seeds = fnmatch.filter(os.listdir(site_mig_type_dir), 'clustering_observed_seed*.txt')\n",
    "            seeds = [s.replace(\".txt\", \"\").replace(\"clustering_observed_seed\", \"\") for s in seeds]\n",
    "            \n",
    "            for seed in seeds:\n",
    "                # Get all the clone trees for this seed\n",
    "                num_trees = get_num_mut_trees(os.path.join(SIMS_DIR, f\"{site}_mut_trees\", f\"mut_trees_{mig_type}_seed{seed}.txt\"))\n",
    "                \n",
    "                true_V, true_A = get_V_A_from_ground_truth_tree(site, mig_type, seed)\n",
    "                true_m,true_c,true_s,_,_ = get_ancestral_labeling_metrics(true_V.reshape(1, true_V.shape[0], true_V.shape[1]), true_A, None, None, None)\n",
    "                #print(\"true:\", true_m,true_c,true_s)\n",
    "                for run in range(1,num_runs+1):\n",
    "                    \n",
    "                    for tree_num in range(num_trees):\n",
    "                        Vs, A, losses = get_pckl_info(bs, run, site, mig_type, seed, tree_num)\n",
    "                        for V in Vs:\n",
    "                            pred_m,pred_c,pred_s,_,_ = get_ancestral_labeling_metrics(V.reshape(1, V.shape[0], V.shape[1]), A, None, None, None)\n",
    "                            #print(\"pred:\", pred_m,pred_c,pred_s)\n",
    "                            if pred_m < true_m:\n",
    "                                #print(\"true:\", true_m,true_c,true_s)\n",
    "                                #print(\"pred:\", pred_m,pred_c,pred_s)\n",
    "                                site_to_bs_to_num_more_pars[site][bs][run-1] += 1\n",
    "                                continue # don't count extra for every V found\n",
    "site_to_bs_to_num_more_pars\n"
   ]
  },
  {
   "cell_type": "code",
   "execution_count": null,
   "id": "8880b76f",
   "metadata": {},
   "outputs": [],
   "source": [
    "site_to_bs_to_num_more_pars_cop = site_to_bs_to_num_more_pars"
   ]
  },
  {
   "cell_type": "code",
   "execution_count": null,
   "id": "58f64c87",
   "metadata": {},
   "outputs": [],
   "source": [
    "site_to_bs_to_avg_more_pars = {'m5':{bs:0 for bs in BATCH_SIZES}, 'm8':{bs:0 for bs in BATCH_SIZES}}\n",
    "for site in site_to_bs_to_num_more_pars:\n",
    "    for bs in site_to_bs_to_num_more_pars[site]:\n",
    "        site_to_bs_to_avg_more_pars[site][bs] = sum(site_to_bs_to_num_more_pars[site][bs])/len(site_to_bs_to_num_more_pars[site][bs])\n",
    "site_to_bs_to_avg_more_pars\n",
    "        "
   ]
  },
  {
   "cell_type": "code",
   "execution_count": null,
   "id": "52a553e3",
   "metadata": {
    "scrolled": false
   },
   "outputs": [],
   "source": [
    "import seaborn as sns\n",
    "import matplotlib.pyplot as plt\n",
    "import pandas as pd\n",
    "colors = sns.color_palette(\"crest\")\n",
    "colors = colors[:len(BATCH_SIZES)]\n",
    "#colors.append((0.99609375, 0.56640625, 0.37109375))\n",
    "sns.set(font_scale=1.0)\n",
    "sns.set_style(\"whitegrid\")\n",
    "sns.set_style(\"ticks\")\n",
    "sns.set_palette(sns.color_palette(colors))\n",
    "\n",
    "for site in SITES:\n",
    "    print(site_to_bs_to_avg_more_pars[site])\n",
    "    df = pd.DataFrame(site_to_bs_to_avg_more_pars[site].items(),columns=[\"Metient Sample Size\", \"Number of times a more \\nparsimonious solution is found\"])\n",
    "    print(df)\n",
    "\n",
    "    fig = plt.figure(figsize=(5, 4), dpi=300)\n",
    "    sns.despine()\n",
    "    ax = sns.barplot(df, x=\"Metient Sample Size\", y=\"Number of times a more \\nparsimonious solution is found\")\n",
    "    ax.spines['top'].set_visible(False)\n",
    "    ax.spines['right'].set_visible(False)\n",
    "    fig.savefig(os.path.join(REPO_DIR, \"test/output_plots/\", f\"{site}_more_pars_{DATE}.png\"), dpi=600, bbox_inches='tight', pad_inches=0.5) \n"
   ]
  },
  {
   "cell_type": "code",
   "execution_count": null,
   "id": "deeeed99",
   "metadata": {},
   "outputs": [],
   "source": [
    "site_to_bs_to_avg_more_pars[site].items()\n"
   ]
  },
  {
   "cell_type": "code",
   "execution_count": null,
   "id": "b959487f",
   "metadata": {},
   "outputs": [],
   "source": []
  }
 ],
 "metadata": {
  "kernelspec": {
   "display_name": "Python [conda env:mambaforge-met]",
   "language": "python",
   "name": "conda-env-mambaforge-met-py"
  },
  "language_info": {
   "codemirror_mode": {
    "name": "ipython",
    "version": 3
   },
   "file_extension": ".py",
   "mimetype": "text/x-python",
   "name": "python",
   "nbconvert_exporter": "python",
   "pygments_lexer": "ipython3",
   "version": "3.8.0"
  }
 },
 "nbformat": 4,
 "nbformat_minor": 5
}
