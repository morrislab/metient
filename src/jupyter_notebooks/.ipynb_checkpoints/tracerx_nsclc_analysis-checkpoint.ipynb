{
 "cells": [
  {
   "cell_type": "code",
   "execution_count": 1,
   "id": "ed4d4d09",
   "metadata": {},
   "outputs": [
    {
     "name": "stderr",
     "output_type": "stream",
     "text": [
      "15:45:39 INFO\n",
      "\r",
      "NumExpr defaulting to 8 threads.\n"
     ]
    }
   ],
   "source": [
    "import os\n",
    "import pickle\n",
    "from src.util import plotting_util as plot_util\n",
    "\n",
    "REPO_DIR = os.path.join(os.getcwd(), \"../../\")\n",
    "os.chdir(REPO_DIR)\n",
    "METIENT_OUTPUT_DIR = os.path.join(REPO_DIR, 'src/data/tracerx_nsclc/metient_outputs')\n",
    "ORCHARD_OUTPUT_DIR = os.path.join(METIENT_OUTPUT_DIR, 'pairtree_clusters_orchard_trees')\n",
    "CONIPHER_OUTPUT_DIR = os.path.join(METIENT_OUTPUT_DIR, 'pyclone_clusters_conipher_trees')\n"
   ]
  },
  {
   "cell_type": "code",
   "execution_count": 6,
   "id": "29619466",
   "metadata": {},
   "outputs": [],
   "source": [
    "def get_seeding_patterns(pickle_files_dir):\n",
    "    patients = []\n",
    "    for file in os.listdir(pickle_files_dir):\n",
    "        if \".pickle\" in file:\n",
    "            patients.append(file.split(\".\")[0])\n",
    "    print(f\"{len(patients)} patients\")\n",
    "\n",
    "    seeding_patterns = []\n",
    "    for patient in patients:\n",
    "        file = open(os.path.join(pickle_files_dir, f\"{patient}.pickle\"),'rb')\n",
    "        pckl = pickle.load(file)\n",
    "        V = pckl['ancestral_labelings'][0]\n",
    "        A = pckl['full_adjacency_matrices'][0]\n",
    "        G = plot_util.get_migration_graph(V, A)\n",
    "        seeding_patterns.append(plot_util.get_seeding_pattern_from_migration_graph(G))\n",
    "    return seeding_patterns\n"
   ]
  },
  {
   "cell_type": "markdown",
   "id": "be935641",
   "metadata": {},
   "source": [
    "### (1a) Evalute pyclone clusters + conipher trees + metient history (maximum parsimony)"
   ]
  },
  {
   "cell_type": "code",
   "execution_count": 19,
   "id": "ad2a5bcc",
   "metadata": {},
   "outputs": [
    {
     "name": "stdout",
     "output_type": "stream",
     "text": [
      "128 patients\n"
     ]
    }
   ],
   "source": [
    "conipher_mp_dir = os.path.join(CONIPHER_OUTPUT_DIR, 'max_pars')\n",
    "conipher_mp_seeding_patterns = get_seeding_patterns(conipher_mp_dir)"
   ]
  },
  {
   "cell_type": "markdown",
   "id": "fc43260f",
   "metadata": {},
   "source": [
    "### (1b) Evalute pyclone clusters + conipher trees + metient history (maximum parsimony + genetic distance)"
   ]
  },
  {
   "cell_type": "code",
   "execution_count": 20,
   "id": "57d6c59a",
   "metadata": {},
   "outputs": [
    {
     "name": "stdout",
     "output_type": "stream",
     "text": [
      "128 patients\n"
     ]
    }
   ],
   "source": [
    "conipher_mp_gd_dir = os.path.join(CONIPHER_OUTPUT_DIR, 'max_pars_genetic_distance')\n",
    "conipher_mp_gd_seeding_patterns = get_seeding_patterns(conipher_mp_gd_dir)\n"
   ]
  },
  {
   "cell_type": "markdown",
   "id": "394a7ae5",
   "metadata": {},
   "source": [
    "### (2a) Evaluate pairtree clusters + orchard trees + metient history (maximum parsimony)"
   ]
  },
  {
   "cell_type": "code",
   "execution_count": 21,
   "id": "74577745",
   "metadata": {},
   "outputs": [
    {
     "name": "stdout",
     "output_type": "stream",
     "text": [
      "128 patients\n"
     ]
    }
   ],
   "source": [
    "orchard_mp_dir = os.path.join(ORCHARD_OUTPUT_DIR, 'max_pars')\n",
    "orchard_mp_seeding_patterns = get_seeding_patterns(orchard_mp_dir)"
   ]
  },
  {
   "cell_type": "markdown",
   "id": "42f8addf",
   "metadata": {},
   "source": [
    "### (2b) Evaluate pairtree clusters + orchard trees + metient history (maximum parsimony + genetic distance)"
   ]
  },
  {
   "cell_type": "code",
   "execution_count": 22,
   "id": "0c6313f3",
   "metadata": {},
   "outputs": [
    {
     "name": "stdout",
     "output_type": "stream",
     "text": [
      "128 patients\n"
     ]
    }
   ],
   "source": [
    "orchard_mp_gd_dir = os.path.join(ORCHARD_OUTPUT_DIR, 'max_pars_genetic_distance')\n",
    "orchard_mp_gd_seeding_patterns = get_seeding_patterns(orchard_mp_gd_dir)"
   ]
  },
  {
   "cell_type": "code",
   "execution_count": null,
   "id": "305c1c47",
   "metadata": {},
   "outputs": [],
   "source": [
    "import seaborn as sns\n"
   ]
  }
 ],
 "metadata": {
  "kernelspec": {
   "display_name": "Python [conda env:metf] *",
   "language": "python",
   "name": "conda-env-metf-py"
  },
  "language_info": {
   "codemirror_mode": {
    "name": "ipython",
    "version": 3
   },
   "file_extension": ".py",
   "mimetype": "text/x-python",
   "name": "python",
   "nbconvert_exporter": "python",
   "pygments_lexer": "ipython3",
   "version": "3.7.12"
  }
 },
 "nbformat": 4,
 "nbformat_minor": 5
}
