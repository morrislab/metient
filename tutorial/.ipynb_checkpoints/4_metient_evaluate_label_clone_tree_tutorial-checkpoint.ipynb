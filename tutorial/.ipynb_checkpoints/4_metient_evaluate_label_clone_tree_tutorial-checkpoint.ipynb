{
 "cells": [
  {
   "cell_type": "markdown",
   "id": "9a4f7149",
   "metadata": {},
   "source": [
    "# Metient-evaluate\n",
    "\n",
    "### This tutorial is intended for those who want to run Metient in evaluate mode, where they already have the observed clone percentages and wish to label the clone tree. \n",
    "\n",
    "### To run this notebook, you'll need metient installed:\n",
    "\n",
    "```bash\n",
    "mamba create -n \"met\" python=3.8.8 ipython\n",
    "mamba activate met\n",
    "pip install metient\n",
    "```"
   ]
  },
  {
   "cell_type": "markdown",
   "id": "f182d4ad",
   "metadata": {},
   "source": [
    "### Import libraries and setup paths"
   ]
  },
  {
   "cell_type": "code",
   "execution_count": 1,
   "id": "e4c01b34",
   "metadata": {},
   "outputs": [
    {
     "name": "stdout",
     "output_type": "stream",
     "text": [
      "CUDA GPU: False\n"
     ]
    }
   ],
   "source": [
    "import os\n",
    "from metient import metient as met\n",
    "\n",
    "### Setup paths\n",
    "# Path to where our input clone trees and tsvs are located\n",
    "input_dir = os.path.join(os.getcwd(), \"inputs\")\n",
    "# Path to save outputs\n",
    "output_dir = os.path.join(os.getcwd(), \"4_outputs\")"
   ]
  },
  {
   "cell_type": "markdown",
   "id": "621d2c05",
   "metadata": {},
   "source": [
    "### An example of the expected tsv file format for NSCLC patient CRUK0010\n",
    "**The required columns are:**\n",
    "`anatomical_site_index, anatomical_site_label, cluster_index, cluster_label, present, site_category, num_mutations` (see `../README.md` for description of each column)"
   ]
  },
  {
   "cell_type": "code",
   "execution_count": 2,
   "id": "3a1925be",
   "metadata": {},
   "outputs": [
    {
     "data": {
      "text/html": [
       "<div>\n",
       "<style scoped>\n",
       "    .dataframe tbody tr th:only-of-type {\n",
       "        vertical-align: middle;\n",
       "    }\n",
       "\n",
       "    .dataframe tbody tr th {\n",
       "        vertical-align: top;\n",
       "    }\n",
       "\n",
       "    .dataframe thead th {\n",
       "        text-align: right;\n",
       "    }\n",
       "</style>\n",
       "<table border=\"1\" class=\"dataframe\">\n",
       "  <thead>\n",
       "    <tr style=\"text-align: right;\">\n",
       "      <th></th>\n",
       "      <th>anatomical_site_index</th>\n",
       "      <th>anatomical_site_label</th>\n",
       "      <th>cluster_index</th>\n",
       "      <th>cluster_label</th>\n",
       "      <th>present</th>\n",
       "      <th>site_category</th>\n",
       "      <th>num_mutations</th>\n",
       "    </tr>\n",
       "  </thead>\n",
       "  <tbody>\n",
       "    <tr>\n",
       "      <th>0</th>\n",
       "      <td>0</td>\n",
       "      <td>primary_SU_T1</td>\n",
       "      <td>0</td>\n",
       "      <td>SPTAN1;SETD2</td>\n",
       "      <td>0</td>\n",
       "      <td>primary</td>\n",
       "      <td>58</td>\n",
       "    </tr>\n",
       "    <tr>\n",
       "      <th>1</th>\n",
       "      <td>1</td>\n",
       "      <td>LN_SU_FLN1</td>\n",
       "      <td>0</td>\n",
       "      <td>SPTAN1;SETD2</td>\n",
       "      <td>0</td>\n",
       "      <td>metastasis</td>\n",
       "      <td>58</td>\n",
       "    </tr>\n",
       "    <tr>\n",
       "      <th>2</th>\n",
       "      <td>2</td>\n",
       "      <td>metachronousMet_BR_LN1</td>\n",
       "      <td>0</td>\n",
       "      <td>SPTAN1;SETD2</td>\n",
       "      <td>0</td>\n",
       "      <td>metastasis</td>\n",
       "      <td>58</td>\n",
       "    </tr>\n",
       "    <tr>\n",
       "      <th>3</th>\n",
       "      <td>3</td>\n",
       "      <td>metachronousMet_BR_LN2</td>\n",
       "      <td>0</td>\n",
       "      <td>SPTAN1;SETD2</td>\n",
       "      <td>0</td>\n",
       "      <td>metastasis</td>\n",
       "      <td>58</td>\n",
       "    </tr>\n",
       "    <tr>\n",
       "      <th>4</th>\n",
       "      <td>4</td>\n",
       "      <td>metachronousMet_BR_LN3</td>\n",
       "      <td>0</td>\n",
       "      <td>SPTAN1;SETD2</td>\n",
       "      <td>0</td>\n",
       "      <td>metastasis</td>\n",
       "      <td>58</td>\n",
       "    </tr>\n",
       "    <tr>\n",
       "      <th>...</th>\n",
       "      <td>...</td>\n",
       "      <td>...</td>\n",
       "      <td>...</td>\n",
       "      <td>...</td>\n",
       "      <td>...</td>\n",
       "      <td>...</td>\n",
       "      <td>...</td>\n",
       "    </tr>\n",
       "    <tr>\n",
       "      <th>70</th>\n",
       "      <td>0</td>\n",
       "      <td>primary_SU_T1</td>\n",
       "      <td>14</td>\n",
       "      <td>OTUD7B;BVES-AS1</td>\n",
       "      <td>0</td>\n",
       "      <td>primary</td>\n",
       "      <td>5</td>\n",
       "    </tr>\n",
       "    <tr>\n",
       "      <th>71</th>\n",
       "      <td>1</td>\n",
       "      <td>LN_SU_FLN1</td>\n",
       "      <td>14</td>\n",
       "      <td>OTUD7B;BVES-AS1</td>\n",
       "      <td>0</td>\n",
       "      <td>metastasis</td>\n",
       "      <td>5</td>\n",
       "    </tr>\n",
       "    <tr>\n",
       "      <th>72</th>\n",
       "      <td>2</td>\n",
       "      <td>metachronousMet_BR_LN1</td>\n",
       "      <td>14</td>\n",
       "      <td>OTUD7B;BVES-AS1</td>\n",
       "      <td>0</td>\n",
       "      <td>metastasis</td>\n",
       "      <td>5</td>\n",
       "    </tr>\n",
       "    <tr>\n",
       "      <th>73</th>\n",
       "      <td>3</td>\n",
       "      <td>metachronousMet_BR_LN2</td>\n",
       "      <td>14</td>\n",
       "      <td>OTUD7B;BVES-AS1</td>\n",
       "      <td>0</td>\n",
       "      <td>metastasis</td>\n",
       "      <td>5</td>\n",
       "    </tr>\n",
       "    <tr>\n",
       "      <th>74</th>\n",
       "      <td>4</td>\n",
       "      <td>metachronousMet_BR_LN3</td>\n",
       "      <td>14</td>\n",
       "      <td>OTUD7B;BVES-AS1</td>\n",
       "      <td>1</td>\n",
       "      <td>metastasis</td>\n",
       "      <td>5</td>\n",
       "    </tr>\n",
       "  </tbody>\n",
       "</table>\n",
       "<p>75 rows × 7 columns</p>\n",
       "</div>"
      ],
      "text/plain": [
       "    anatomical_site_index   anatomical_site_label  cluster_index  \\\n",
       "0                       0           primary_SU_T1              0   \n",
       "1                       1              LN_SU_FLN1              0   \n",
       "2                       2  metachronousMet_BR_LN1              0   \n",
       "3                       3  metachronousMet_BR_LN2              0   \n",
       "4                       4  metachronousMet_BR_LN3              0   \n",
       "..                    ...                     ...            ...   \n",
       "70                      0           primary_SU_T1             14   \n",
       "71                      1              LN_SU_FLN1             14   \n",
       "72                      2  metachronousMet_BR_LN1             14   \n",
       "73                      3  metachronousMet_BR_LN2             14   \n",
       "74                      4  metachronousMet_BR_LN3             14   \n",
       "\n",
       "      cluster_label  present site_category  num_mutations  \n",
       "0      SPTAN1;SETD2        0       primary             58  \n",
       "1      SPTAN1;SETD2        0    metastasis             58  \n",
       "2      SPTAN1;SETD2        0    metastasis             58  \n",
       "3      SPTAN1;SETD2        0    metastasis             58  \n",
       "4      SPTAN1;SETD2        0    metastasis             58  \n",
       "..              ...      ...           ...            ...  \n",
       "70  OTUD7B;BVES-AS1        0       primary              5  \n",
       "71  OTUD7B;BVES-AS1        0    metastasis              5  \n",
       "72  OTUD7B;BVES-AS1        0    metastasis              5  \n",
       "73  OTUD7B;BVES-AS1        0    metastasis              5  \n",
       "74  OTUD7B;BVES-AS1        1    metastasis              5  \n",
       "\n",
       "[75 rows x 7 columns]"
      ]
     },
     "execution_count": 2,
     "metadata": {},
     "output_type": "execute_result"
    }
   ],
   "source": [
    "import pandas as pd\n",
    "df = pd.read_csv(os.path.join(input_dir, \"CRUK0010_SNVs.tsv\"), sep=\"\\t\")\n",
    "df"
   ]
  },
  {
   "cell_type": "markdown",
   "id": "ed40db36",
   "metadata": {},
   "source": [
    "## Step 1: Run Metient-evaluate on each patient individually"
   ]
  },
  {
   "cell_type": "code",
   "execution_count": 3,
   "id": "98b7bc90",
   "metadata": {
    "scrolled": false
   },
   "outputs": [
    {
     "name": "stderr",
     "output_type": "stream",
     "text": [
      "\r",
      "  0%|          | 0/450 [00:00<?, ?it/s]"
     ]
    },
    {
     "name": "stdout",
     "output_type": "stream",
     "text": [
      "/lila/data/morrisq/divyak/projects/metient/tutorial/inputs/CRUK0003_SNVs.tsv\n",
      "ordered_sites ['primary_SU_T1', 'LN_SU_FLN1']\n"
     ]
    },
    {
     "name": "stderr",
     "output_type": "stream",
     "text": [
      " 11%|█         | 50/450 [00:29<01:58,  3.38it/s]/lila/data/morrisq/divyak/projects/metient/metient/lib/v_optimizer.py:412: UserWarning: The use of `x.T` on tensors of dimension other than 2 to reverse their shape is deprecated and it will throw an error in a future release. Consider `x.mT` to transpose batches of matrices or `x.permute(*torch.arange(x.ndim - 1, -1, -1))` to reverse the dimensions of a tensor. (Triggered internally at ../aten/src/ATen/native/TensorShape.cpp:3614.)\n",
      "  known_labelings.append(torch.eye(v_solver.num_sites)[optimal_site].T)\n",
      " 49%|████▉     | 222/450 [02:04<01:33,  2.44it/s]\n",
      "KeyboardInterrupt\n",
      "\n"
     ]
    }
   ],
   "source": [
    "patients = [\"CRUK0003\", \"CRUK0010\", \"CRUK0013\", \"CRUK0029\", \"CRUK0590\"]\n",
    "\n",
    "print_config = met.PrintConfig(visualize=True, verbose=False, k_best_trees=5)\n",
    "weights = met.Weights() # Use default weights which have been calibrated to real data\n",
    "\n",
    "for patient in patients:\n",
    "    clone_tree_fn = os.path.join(input_dir, f\"{patient}_tree.txt\")\n",
    "    ref_var_fn = os.path.join(input_dir, f\"{patient}_SNVs.tsv\")\n",
    "    met.evaluate_label_clone_tree(clone_tree_fn, ref_var_fn, weights, print_config, \n",
    "                                  output_dir, patient, solve_polytomies=True)\n"
   ]
  },
  {
   "cell_type": "markdown",
   "id": "1e58ddea",
   "metadata": {},
   "source": [
    "## Step 3: Use the pickle file outputs for downstream analysis\n",
    "\n",
    "### In addition to the visualizations that Metient provides, we also save pkl.gz files for each Metient run that contain all the results of the run."
   ]
  },
  {
   "cell_type": "code",
   "execution_count": null,
   "id": "b6122075",
   "metadata": {},
   "outputs": [],
   "source": [
    "import gzip\n",
    "import pickle\n",
    "\n",
    "with gzip.open(os.path.join(output_dir, \"CRUK0590_primary_SU_T1.pkl.gz\") ,\"rb\") as f:\n",
    "    pckl = pickle.load(f)\n",
    "print(pckl.keys())\n",
    "\n",
    "# V is the best ancestral labeling\n",
    "V = pckl['clone_tree_labelings'][0]\n",
    "# A is the adjacency matrix that is the input clone tree + inferred leaf nodes\n",
    "A = pckl['full_adjacency_matrices'][0]\n",
    "\n",
    "# G represents the migration graph\n",
    "G = met.migration_graph(V, A)\n",
    "print(\"\\nmigration graph:\\n\", G)\n",
    "\n",
    "# Show other information about this patient's inferred migration history\n",
    "print(\"\\nseeding pattern:\", met.seeding_pattern(V, A))\n",
    "print(\"seeding clusters:\", met.seeding_clusters(V, A))\n",
    "print(\"phyleticity:\", met.phyleticity(V, A))\n",
    "print(\"site clonality:\", met.site_clonality(V, A))\n",
    "print(\"genetic clonality:\", met.genetic_clonality(V, A))"
   ]
  }
 ],
 "metadata": {
  "kernelspec": {
   "display_name": "Python [conda env:met]",
   "language": "python",
   "name": "conda-env-met-py"
  },
  "language_info": {
   "codemirror_mode": {
    "name": "ipython",
    "version": 3
   },
   "file_extension": ".py",
   "mimetype": "text/x-python",
   "name": "python",
   "nbconvert_exporter": "python",
   "pygments_lexer": "ipython3",
   "version": "3.8.0"
  }
 },
 "nbformat": 4,
 "nbformat_minor": 5
}
