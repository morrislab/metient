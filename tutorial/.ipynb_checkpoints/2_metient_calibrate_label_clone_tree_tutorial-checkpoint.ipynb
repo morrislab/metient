{
 "cells": [
  {
   "cell_type": "markdown",
   "id": "9a4f7149",
   "metadata": {},
   "source": [
    "# Metient-calibrate\n",
    "\n",
    "### This tutorial is intended for those who want to run Metient in calibrate mode, and have Metient infer (1) the proportions of each clone in each anatomical site, and (2) the labeled clone tree. \n",
    "\n",
    "### To run this notebook, you'll need metient installed:\n",
    "\n",
    "```bash\n",
    "mamba create -n \"met\" python=3.8.8 ipython\n",
    "mamba activate met\n",
    "pip install metient\n",
    "```"
   ]
  },
  {
   "cell_type": "markdown",
   "id": "f182d4ad",
   "metadata": {},
   "source": [
    "### Import libraries and setup paths"
   ]
  },
  {
   "cell_type": "code",
   "execution_count": 1,
   "id": "e4c01b34",
   "metadata": {},
   "outputs": [
    {
     "name": "stdout",
     "output_type": "stream",
     "text": [
      "CUDA GPU: False\n"
     ]
    }
   ],
   "source": [
    "import os\n",
    "from metient import metient as met\n",
    "\n",
    "### Setup paths\n",
    "# Path to where our input clone trees and tsvs are located\n",
    "input_dir = os.path.join(os.getcwd(), \"inputs\")\n",
    "# Path to save outputs\n",
    "output_dir = os.path.join(os.getcwd(), \"outputs\")"
   ]
  },
  {
   "cell_type": "markdown",
   "id": "621d2c05",
   "metadata": {},
   "source": [
    "### An example of the expected tsv file format for melanoma patient B\n",
    "**The required columns are:**\n",
    "`anatomical_site_index, anatomical_site_label, cluster_index, character_index, character_label, ref, var, var_read_prob, site_category` (see `../README.md` for description of each column)"
   ]
  },
  {
   "cell_type": "code",
   "execution_count": 3,
   "id": "3a1925be",
   "metadata": {},
   "outputs": [
    {
     "data": {
      "text/html": [
       "<div>\n",
       "<style scoped>\n",
       "    .dataframe tbody tr th:only-of-type {\n",
       "        vertical-align: middle;\n",
       "    }\n",
       "\n",
       "    .dataframe tbody tr th {\n",
       "        vertical-align: top;\n",
       "    }\n",
       "\n",
       "    .dataframe thead th {\n",
       "        text-align: right;\n",
       "    }\n",
       "</style>\n",
       "<table border=\"1\" class=\"dataframe\">\n",
       "  <thead>\n",
       "    <tr style=\"text-align: right;\">\n",
       "      <th></th>\n",
       "      <th>anatomical_site_index</th>\n",
       "      <th>anatomical_site_label</th>\n",
       "      <th>cluster_index</th>\n",
       "      <th>character_index</th>\n",
       "      <th>character_label</th>\n",
       "      <th>ref</th>\n",
       "      <th>var</th>\n",
       "      <th>var_read_prob</th>\n",
       "      <th>site_category</th>\n",
       "    </tr>\n",
       "  </thead>\n",
       "  <tbody>\n",
       "    <tr>\n",
       "      <th>0</th>\n",
       "      <td>0</td>\n",
       "      <td>Primary, forehead</td>\n",
       "      <td>1</td>\n",
       "      <td>0</td>\n",
       "      <td>ADCY5</td>\n",
       "      <td>213</td>\n",
       "      <td>118</td>\n",
       "      <td>0.380</td>\n",
       "      <td>primary</td>\n",
       "    </tr>\n",
       "    <tr>\n",
       "      <th>1</th>\n",
       "      <td>1</td>\n",
       "      <td>Parotid metastasis</td>\n",
       "      <td>1</td>\n",
       "      <td>0</td>\n",
       "      <td>ADCY5</td>\n",
       "      <td>382</td>\n",
       "      <td>27</td>\n",
       "      <td>0.105</td>\n",
       "      <td>metastasis</td>\n",
       "    </tr>\n",
       "    <tr>\n",
       "      <th>2</th>\n",
       "      <td>2</td>\n",
       "      <td>Locoregional skin metastasis 1, forehead</td>\n",
       "      <td>1</td>\n",
       "      <td>0</td>\n",
       "      <td>ADCY5</td>\n",
       "      <td>319</td>\n",
       "      <td>67</td>\n",
       "      <td>0.210</td>\n",
       "      <td>metastasis</td>\n",
       "    </tr>\n",
       "    <tr>\n",
       "      <th>3</th>\n",
       "      <td>3</td>\n",
       "      <td>Locoregional skin metastasis 2, angle jaw</td>\n",
       "      <td>1</td>\n",
       "      <td>0</td>\n",
       "      <td>ADCY5</td>\n",
       "      <td>188</td>\n",
       "      <td>66</td>\n",
       "      <td>0.310</td>\n",
       "      <td>metastasis</td>\n",
       "    </tr>\n",
       "    <tr>\n",
       "      <th>4</th>\n",
       "      <td>0</td>\n",
       "      <td>Primary, forehead</td>\n",
       "      <td>1</td>\n",
       "      <td>1</td>\n",
       "      <td>ZNF148</td>\n",
       "      <td>117</td>\n",
       "      <td>58</td>\n",
       "      <td>0.380</td>\n",
       "      <td>primary</td>\n",
       "    </tr>\n",
       "    <tr>\n",
       "      <th>...</th>\n",
       "      <td>...</td>\n",
       "      <td>...</td>\n",
       "      <td>...</td>\n",
       "      <td>...</td>\n",
       "      <td>...</td>\n",
       "      <td>...</td>\n",
       "      <td>...</td>\n",
       "      <td>...</td>\n",
       "      <td>...</td>\n",
       "    </tr>\n",
       "    <tr>\n",
       "      <th>535</th>\n",
       "      <td>3</td>\n",
       "      <td>Locoregional skin metastasis 2, angle jaw</td>\n",
       "      <td>2</td>\n",
       "      <td>133</td>\n",
       "      <td>TECTA</td>\n",
       "      <td>120</td>\n",
       "      <td>55</td>\n",
       "      <td>0.310</td>\n",
       "      <td>metastasis</td>\n",
       "    </tr>\n",
       "    <tr>\n",
       "      <th>536</th>\n",
       "      <td>0</td>\n",
       "      <td>Primary, forehead</td>\n",
       "      <td>0</td>\n",
       "      <td>134</td>\n",
       "      <td>ANKRD17</td>\n",
       "      <td>160</td>\n",
       "      <td>116</td>\n",
       "      <td>0.380</td>\n",
       "      <td>primary</td>\n",
       "    </tr>\n",
       "    <tr>\n",
       "      <th>537</th>\n",
       "      <td>1</td>\n",
       "      <td>Parotid metastasis</td>\n",
       "      <td>0</td>\n",
       "      <td>134</td>\n",
       "      <td>ANKRD17</td>\n",
       "      <td>302</td>\n",
       "      <td>33</td>\n",
       "      <td>0.105</td>\n",
       "      <td>metastasis</td>\n",
       "    </tr>\n",
       "    <tr>\n",
       "      <th>538</th>\n",
       "      <td>2</td>\n",
       "      <td>Locoregional skin metastasis 1, forehead</td>\n",
       "      <td>0</td>\n",
       "      <td>134</td>\n",
       "      <td>ANKRD17</td>\n",
       "      <td>278</td>\n",
       "      <td>68</td>\n",
       "      <td>0.210</td>\n",
       "      <td>metastasis</td>\n",
       "    </tr>\n",
       "    <tr>\n",
       "      <th>539</th>\n",
       "      <td>3</td>\n",
       "      <td>Locoregional skin metastasis 2, angle jaw</td>\n",
       "      <td>0</td>\n",
       "      <td>134</td>\n",
       "      <td>ANKRD17</td>\n",
       "      <td>139</td>\n",
       "      <td>66</td>\n",
       "      <td>0.310</td>\n",
       "      <td>metastasis</td>\n",
       "    </tr>\n",
       "  </tbody>\n",
       "</table>\n",
       "<p>540 rows × 9 columns</p>\n",
       "</div>"
      ],
      "text/plain": [
       "     anatomical_site_index                      anatomical_site_label  \\\n",
       "0                        0                          Primary, forehead   \n",
       "1                        1                         Parotid metastasis   \n",
       "2                        2   Locoregional skin metastasis 1, forehead   \n",
       "3                        3  Locoregional skin metastasis 2, angle jaw   \n",
       "4                        0                          Primary, forehead   \n",
       "..                     ...                                        ...   \n",
       "535                      3  Locoregional skin metastasis 2, angle jaw   \n",
       "536                      0                          Primary, forehead   \n",
       "537                      1                         Parotid metastasis   \n",
       "538                      2   Locoregional skin metastasis 1, forehead   \n",
       "539                      3  Locoregional skin metastasis 2, angle jaw   \n",
       "\n",
       "     cluster_index  character_index character_label  ref  var  var_read_prob  \\\n",
       "0                1                0           ADCY5  213  118          0.380   \n",
       "1                1                0           ADCY5  382   27          0.105   \n",
       "2                1                0           ADCY5  319   67          0.210   \n",
       "3                1                0           ADCY5  188   66          0.310   \n",
       "4                1                1          ZNF148  117   58          0.380   \n",
       "..             ...              ...             ...  ...  ...            ...   \n",
       "535              2              133           TECTA  120   55          0.310   \n",
       "536              0              134         ANKRD17  160  116          0.380   \n",
       "537              0              134         ANKRD17  302   33          0.105   \n",
       "538              0              134         ANKRD17  278   68          0.210   \n",
       "539              0              134         ANKRD17  139   66          0.310   \n",
       "\n",
       "    site_category  \n",
       "0         primary  \n",
       "1      metastasis  \n",
       "2      metastasis  \n",
       "3      metastasis  \n",
       "4         primary  \n",
       "..            ...  \n",
       "535    metastasis  \n",
       "536       primary  \n",
       "537    metastasis  \n",
       "538    metastasis  \n",
       "539    metastasis  \n",
       "\n",
       "[540 rows x 9 columns]"
      ]
     },
     "execution_count": 3,
     "metadata": {},
     "output_type": "execute_result"
    }
   ],
   "source": [
    "import pandas as pd\n",
    "df = pd.read_csv(os.path.join(input_dir, \"A_SNVs.tsv\"), sep=\"\\t\")\n",
    "df"
   ]
  },
  {
   "cell_type": "markdown",
   "id": "26cc8477",
   "metadata": {},
   "source": [
    "## Step 1: Load filepaths to clone trees and tsv files for each patient"
   ]
  },
  {
   "cell_type": "code",
   "execution_count": 4,
   "id": "5fdb8cc7",
   "metadata": {},
   "outputs": [],
   "source": [
    "patients = [\"A\", \"C\", \"G\"]\n",
    "\n",
    "clone_tree_fns = [os.path.join(input_dir, f\"{patient}_tree.txt\") for patient in patients]\n",
    "ref_var_fns = [os.path.join(input_dir, f\"{patient}_SNVs.tsv\") for patient in patients]"
   ]
  },
  {
   "cell_type": "markdown",
   "id": "ed40db36",
   "metadata": {},
   "source": [
    "## Step 2: Run Metient-calibrate"
   ]
  },
  {
   "cell_type": "code",
   "execution_count": null,
   "id": "98b7bc90",
   "metadata": {
    "scrolled": false
   },
   "outputs": [
    {
     "name": "stdout",
     "output_type": "stream",
     "text": [
      "Saving results to /lila/data/morrisq/divyak/projects/metient/tutorial/outputs/calibrate\n",
      "Overwriting existing directory at /lila/data/morrisq/divyak/projects/metient/tutorial/outputs/calibrate\n",
      "\n",
      "*** Calibrating for patient: A ***\n",
      "ordered_sites ['Primary, forehead', 'Parotid metastasis', 'Locoregional skin metastasis 1, forehead', 'Locoregional skin metastasis 2, angle jaw']\n",
      "calculate_batch_size 752\n"
     ]
    },
    {
     "name": "stderr",
     "output_type": "stream",
     "text": [
      "\r",
      "  0%|          | 0/166 [00:00<?, ?it/s]"
     ]
    },
    {
     "name": "stdout",
     "output_type": "stream",
     "text": [
      "nll 7.686\n",
      "internal_node_idx_to_sites {0: [1], 2: [0, 1, 2], 3: [1, 3], 4: [2], 5: [0, 2]}\n",
      "nodes_w_children [0, 1, 2, 3, 4, 5] biased_sites [[0, 1, 2], [0, 1, 2, 3], [0, 1, 2], [1, 3], [2], [0, 2]]\n"
     ]
    },
    {
     "name": "stderr",
     "output_type": "stream",
     "text": [
      " 40%|███▉      | 66/166 [00:22<00:33,  3.01it/s]"
     ]
    },
    {
     "data": {
      "image/png": "[encoded data removed]",
      "text/plain": [
       "<Figure size 100x100 with 1 Axes>"
      ]
     },
     "metadata": {},
     "output_type": "display_data"
    },
    {
     "data": {
      "image/png": "[encoded data removed]",
      "text/plain": [
       "<Figure size 100x100 with 1 Axes>"
      ]
     },
     "metadata": {},
     "output_type": "display_data"
    },
    {
     "name": "stdout",
     "output_type": "stream",
     "text": [
      "nodes_w_children [0, 1, 2, 3, 4, 5] biased_sites [[0, 1, 2], [0, 1, 2, 3], [0, 1, 2], [1, 3], [2], [0, 2]]\n",
      "optimal subtree sets []\n",
      "poly_resolver_to_optimal_children {}\n"
     ]
    },
    {
     "name": "stderr",
     "output_type": "stream",
     "text": [
      " 96%|█████████▌| 159/166 [00:31<00:00,  9.75it/s]"
     ]
    },
    {
     "data": {
      "image/png": "[encoded data removed]",
      "text/plain": [
       "<Figure size 100x100 with 1 Axes>"
      ]
     },
     "metadata": {},
     "output_type": "display_data"
    },
    {
     "data": {
      "image/png": "[encoded data removed]",
      "text/plain": [
       "<Figure size 100x100 with 1 Axes>"
      ]
     },
     "metadata": {},
     "output_type": "display_data"
    },
    {
     "name": "stderr",
     "output_type": "stream",
     "text": [
      "100%|██████████| 166/166 [00:31<00:00,  5.21it/s]\n"
     ]
    },
    {
     "name": "stdout",
     "output_type": "stream",
     "text": [
      "pareto_metrics {(7, 3, 1)}\n",
      "batch nums [1, 4]\n",
      "# final solutions: 2\n",
      "\n",
      "*** Calibrating for patient: C ***\n",
      "ordered_sites ['Primary, right lower calf', 'Locoregional skin metastasis 1, right calf', 'Locoregional skin metastasis 2, right mid-calf']\n",
      "calculate_batch_size 692\n"
     ]
    },
    {
     "name": "stderr",
     "output_type": "stream",
     "text": [
      "\r",
      "  0%|          | 0/166 [00:00<?, ?it/s]"
     ]
    },
    {
     "name": "stdout",
     "output_type": "stream",
     "text": [
      "nll 13.016\n",
      "internal_node_idx_to_sites {0: [0], 2: [1], 3: [0, 2], 4: [2], 5: [0, 1, 2]}\n",
      "nodes_w_children [0, 1, 2, 3, 4, 5] biased_sites [[0, 2], [0, 1, 2], [1], [0, 2], [0, 2], [0, 1, 2]]\n"
     ]
    },
    {
     "name": "stderr",
     "output_type": "stream",
     "text": [
      " 40%|███▉      | 66/166 [00:14<00:21,  4.67it/s]"
     ]
    },
    {
     "data": {
      "image/png": "[encoded data removed]",
      "text/plain": [
       "<Figure size 100x100 with 1 Axes>"
      ]
     },
     "metadata": {},
     "output_type": "display_data"
    },
    {
     "data": {
      "image/png": "[encoded data removed]",
      "text/plain": [
       "<Figure size 100x100 with 1 Axes>"
      ]
     },
     "metadata": {},
     "output_type": "display_data"
    },
    {
     "name": "stdout",
     "output_type": "stream",
     "text": [
      "nodes_w_children [0, 1, 2, 3, 4, 5] biased_sites [[0, 2], [0, 1, 2], [1], [0, 2], [0, 2], [0, 1, 2]]\n",
      "optimal subtree sets []\n",
      "poly_resolver_to_optimal_children {}\n"
     ]
    },
    {
     "name": "stderr",
     "output_type": "stream",
     "text": [
      " 51%|█████     | 84/166 [00:19<00:18,  4.50it/s]"
     ]
    }
   ],
   "source": [
    "print_config = met.PrintConfig(visualize=True, verbose=False, k_best_trees=5)\n",
    "met.calibrate(clone_tree_fns, ref_var_fns, print_config, \n",
    "              output_dir, patients, solve_polytomies=True)\n"
   ]
  },
  {
   "cell_type": "markdown",
   "id": "1e58ddea",
   "metadata": {},
   "source": [
    "## Step 3: Use the pickle file outputs for downstream analysis\n",
    "\n",
    "### In addition to the visualizations that Metient provides, we also save pkl.gz files for each Metient run that contain all the results of the run."
   ]
  },
  {
   "cell_type": "code",
   "execution_count": 5,
   "id": "b6122075",
   "metadata": {},
   "outputs": [
    {
     "name": "stdout",
     "output_type": "stream",
     "text": [
      "dict_keys(['ancestral_labelings', 'losses', 'full_tree_node_idx_to_labels', 'full_adjacency_matrices', 'ordered_anatomical_sites', 'loss_dict', 'primary_site', 'subclonal_presence_matrices', 'pars_weights', 'soft_v', 'gen_dist_matrices'])\n",
      "\n",
      "migration graph:\n",
      " tensor([[0., 0.],\n",
      "        [2., 0.]])\n",
      "\n",
      "inferred seeding pattern:\n",
      " polyclonal primary single-source seeding\n"
     ]
    }
   ],
   "source": [
    "import gzip\n",
    "import pickle\n",
    "\n",
    "with gzip.open(os.path.join(output_dir,\"calibrate\", \"CRUK0003_primary_SU_T1.pkl.gz\") ,\"rb\") as f:\n",
    "    pckl = pickle.load(f)\n",
    "print(pckl.keys())\n",
    "\n",
    "# V is the best ancestral labeling\n",
    "V = pckl['ancestral_labelings'][0]\n",
    "# A is the adjacency matrix that is the input clone tree + inferred leaf nodes\n",
    "A = pckl['full_adjacency_matrices'][0]\n",
    "# G represents the migration graph\n",
    "G = met.get_migration_graph(V, A)\n",
    "\n",
    "print(\"\\nmigration graph:\\n\", G)\n",
    "# Get the seeding pattern for this patient (e.g. \"polyconal single-source seeding\")\n",
    "seeding_pattern = met.get_verbose_seeding_pattern(V, A)\n",
    "print(\"\\ninferred seeding pattern:\\n\", seeding_pattern)"
   ]
  }
 ],
 "metadata": {
  "kernelspec": {
   "display_name": "Python [conda env:met]",
   "language": "python",
   "name": "conda-env-met-py"
  },
  "language_info": {
   "codemirror_mode": {
    "name": "ipython",
    "version": 3
   },
   "file_extension": ".py",
   "mimetype": "text/x-python",
   "name": "python",
   "nbconvert_exporter": "python",
   "pygments_lexer": "ipython3",
   "version": "3.8.0"
  }
 },
 "nbformat": 4,
 "nbformat_minor": 5
}
